{
 "cells": [
  {
   "cell_type": "code",
   "execution_count": 5,
   "metadata": {},
   "outputs": [],
   "source": [
    "from src.scraping.get_data import *\n",
    "from src.utils.checks import *\n",
    "from src.portfolio.data_manipulation import *\n",
    "from src.plots.basics import *\n",
    "from src.computations.compute_returns import *\n",
    "from src.computations.metrics import *\n",
    "from src.utils.basics import *\n",
    "from src.plots.basics_streamlit import *\n",
    "\n",
    "get_data_info()\n",
    "data = get_data_updated_2025()"
   ]
  },
  {
   "cell_type": "code",
   "execution_count": 2,
   "metadata": {},
   "outputs": [
    {
     "name": "stdout",
     "output_type": "stream",
     "text": [
      "File downloaded and renamed to MSCI_World.csv\n",
      "File downloaded and renamed to MSCI_Europe_Small_Cap_Value_Weighted.csv\n",
      "File downloaded and renamed to MSCI_Europe.csv\n",
      "File downloaded and renamed to MSCI_ACWI.csv\n",
      "File downloaded and renamed to S&P_500_Minimum_Volatility.csv\n",
      "File downloaded and renamed to MSCI_Emerging_Markets.csv\n",
      "File downloaded and renamed to FTSE_World_Government_Bond_Developed_Markets.csv\n",
      "File downloaded and renamed to S&P_500.csv\n",
      "File downloaded and renamed to MSCI_USA_Small_Cap_Value_Weighted.csv\n",
      "File downloaded and renamed to MSCI_World_Momentum.csv\n",
      "File downloaded and renamed to MSCI_World_Quality.csv\n"
     ]
    }
   ],
   "source": [
    "download_data_updated()"
   ]
  },
  {
   "cell_type": "code",
   "execution_count": 6,
   "metadata": {},
   "outputs": [
    {
     "data": {
      "application/vnd.microsoft.datawrangler.viewer.v0+json": {
       "columns": [
        {
         "name": "index",
         "rawType": "int64",
         "type": "integer"
        },
        {
         "name": "Date",
         "rawType": "object",
         "type": "string"
        },
        {
         "name": "MSCI Europe Small Cap Value Weighted",
         "rawType": "float64",
         "type": "float"
        },
        {
         "name": "MSCI USA Small Cap Value Weighted.1",
         "rawType": "float64",
         "type": "float"
        },
        {
         "name": "MSCI Europe",
         "rawType": "float64",
         "type": "float"
        },
        {
         "name": "MSCI World Momentum",
         "rawType": "float64",
         "type": "float"
        },
        {
         "name": "MSCI ACWI",
         "rawType": "float64",
         "type": "float"
        },
        {
         "name": "MSCI World",
         "rawType": "float64",
         "type": "float"
        },
        {
         "name": "S&P 500 Minimum Volatility",
         "rawType": "float64",
         "type": "float"
        },
        {
         "name": "MSCI Emerging Markets",
         "rawType": "float64",
         "type": "float"
        },
        {
         "name": "FTSE World Government Bond - Developed Markets",
         "rawType": "float64",
         "type": "float"
        },
        {
         "name": "S&P 500",
         "rawType": "float64",
         "type": "float"
        },
        {
         "name": "MSCI USA Small Cap Value Weighted",
         "rawType": "float64",
         "type": "float"
        },
        {
         "name": "MSCI World Sector Neutral Quality",
         "rawType": "float64",
         "type": "float"
        }
       ],
       "ref": "0cf972b3-857e-4b06-9f7c-915c52ea54d4",
       "rows": [
        [
         "0",
         "01/1975",
         null,
         null,
         null,
         null,
         null,
         null,
         null,
         null,
         null,
         null,
         null,
         null
        ],
        [
         "1",
         "02/1975",
         null,
         null,
         null,
         null,
         null,
         null,
         null,
         null,
         null,
         null,
         null,
         null
        ],
        [
         "2",
         "03/1975",
         null,
         null,
         null,
         null,
         null,
         null,
         null,
         null,
         null,
         null,
         null,
         null
        ],
        [
         "3",
         "04/1975",
         null,
         null,
         null,
         null,
         null,
         null,
         null,
         null,
         null,
         null,
         null,
         null
        ],
        [
         "4",
         "05/1975",
         null,
         null,
         null,
         null,
         null,
         null,
         null,
         null,
         null,
         null,
         null,
         null
        ],
        [
         "5",
         "06/1975",
         null,
         null,
         null,
         null,
         null,
         null,
         null,
         null,
         null,
         null,
         null,
         null
        ],
        [
         "6",
         "07/1975",
         null,
         null,
         null,
         null,
         null,
         null,
         null,
         null,
         null,
         null,
         null,
         null
        ],
        [
         "7",
         "08/1975",
         null,
         null,
         null,
         null,
         null,
         null,
         null,
         null,
         null,
         null,
         null,
         null
        ],
        [
         "8",
         "09/1975",
         null,
         null,
         null,
         null,
         null,
         null,
         null,
         null,
         null,
         null,
         null,
         null
        ],
        [
         "9",
         "10/1975",
         null,
         null,
         null,
         null,
         null,
         null,
         null,
         null,
         null,
         null,
         null,
         null
        ],
        [
         "10",
         "11/1975",
         null,
         null,
         null,
         null,
         null,
         null,
         null,
         null,
         null,
         null,
         null,
         null
        ],
        [
         "11",
         "12/1975",
         null,
         null,
         null,
         null,
         null,
         null,
         null,
         null,
         null,
         null,
         null,
         null
        ],
        [
         "12",
         "01/1976",
         null,
         null,
         null,
         null,
         null,
         null,
         null,
         null,
         null,
         null,
         null,
         null
        ],
        [
         "13",
         "02/1976",
         null,
         null,
         null,
         null,
         null,
         null,
         null,
         null,
         null,
         null,
         null,
         null
        ],
        [
         "14",
         "03/1976",
         null,
         null,
         null,
         null,
         null,
         null,
         null,
         null,
         null,
         null,
         null,
         null
        ],
        [
         "15",
         "04/1976",
         null,
         null,
         null,
         null,
         null,
         null,
         null,
         null,
         null,
         null,
         null,
         null
        ],
        [
         "16",
         "05/1976",
         null,
         null,
         null,
         null,
         null,
         null,
         null,
         null,
         null,
         null,
         null,
         null
        ],
        [
         "17",
         "06/1976",
         null,
         null,
         null,
         null,
         null,
         null,
         null,
         null,
         null,
         null,
         null,
         null
        ],
        [
         "18",
         "07/1976",
         null,
         null,
         null,
         null,
         null,
         null,
         null,
         null,
         null,
         null,
         null,
         null
        ],
        [
         "19",
         "08/1976",
         null,
         null,
         null,
         null,
         null,
         null,
         null,
         null,
         null,
         null,
         null,
         null
        ],
        [
         "20",
         "09/1976",
         null,
         null,
         null,
         null,
         null,
         null,
         null,
         null,
         null,
         null,
         null,
         null
        ],
        [
         "21",
         "10/1976",
         null,
         null,
         null,
         null,
         null,
         null,
         null,
         null,
         null,
         null,
         null,
         null
        ],
        [
         "22",
         "11/1976",
         null,
         null,
         null,
         null,
         null,
         null,
         null,
         null,
         null,
         null,
         null,
         null
        ],
        [
         "23",
         "12/1976",
         null,
         null,
         null,
         null,
         null,
         null,
         null,
         null,
         null,
         null,
         null,
         null
        ],
        [
         "24",
         "01/1977",
         null,
         null,
         null,
         null,
         null,
         null,
         null,
         null,
         null,
         null,
         null,
         null
        ],
        [
         "25",
         "02/1977",
         null,
         null,
         null,
         null,
         null,
         null,
         null,
         null,
         null,
         null,
         null,
         null
        ],
        [
         "26",
         "03/1977",
         null,
         null,
         null,
         null,
         null,
         null,
         null,
         null,
         null,
         null,
         null,
         null
        ],
        [
         "27",
         "04/1977",
         null,
         null,
         null,
         null,
         null,
         null,
         null,
         null,
         null,
         null,
         null,
         null
        ],
        [
         "28",
         "05/1977",
         null,
         null,
         null,
         null,
         null,
         null,
         null,
         null,
         null,
         null,
         null,
         null
        ],
        [
         "29",
         "06/1977",
         null,
         null,
         null,
         null,
         null,
         null,
         null,
         null,
         null,
         null,
         null,
         null
        ],
        [
         "30",
         "07/1977",
         null,
         null,
         null,
         null,
         null,
         null,
         null,
         null,
         null,
         null,
         null,
         null
        ],
        [
         "31",
         "08/1977",
         null,
         null,
         null,
         null,
         null,
         null,
         null,
         null,
         null,
         null,
         null,
         null
        ],
        [
         "32",
         "09/1977",
         null,
         null,
         null,
         null,
         null,
         null,
         null,
         null,
         null,
         null,
         null,
         null
        ],
        [
         "33",
         "10/1977",
         null,
         null,
         null,
         null,
         null,
         null,
         null,
         null,
         null,
         null,
         null,
         null
        ],
        [
         "34",
         "11/1977",
         null,
         null,
         null,
         null,
         null,
         null,
         null,
         null,
         null,
         null,
         null,
         null
        ],
        [
         "35",
         "12/1977",
         null,
         null,
         null,
         null,
         null,
         null,
         null,
         null,
         null,
         null,
         null,
         null
        ],
        [
         "36",
         "01/1978",
         null,
         null,
         null,
         null,
         null,
         null,
         null,
         null,
         null,
         null,
         null,
         null
        ],
        [
         "37",
         "02/1978",
         null,
         null,
         null,
         null,
         null,
         null,
         null,
         null,
         null,
         null,
         null,
         null
        ],
        [
         "38",
         "03/1978",
         null,
         null,
         null,
         null,
         null,
         null,
         null,
         null,
         null,
         null,
         null,
         null
        ],
        [
         "39",
         "04/1978",
         null,
         null,
         null,
         null,
         null,
         null,
         null,
         null,
         null,
         null,
         null,
         null
        ],
        [
         "40",
         "05/1978",
         null,
         null,
         null,
         null,
         null,
         null,
         null,
         null,
         null,
         null,
         null,
         null
        ],
        [
         "41",
         "06/1978",
         null,
         null,
         null,
         null,
         null,
         null,
         null,
         null,
         null,
         null,
         null,
         null
        ],
        [
         "42",
         "07/1978",
         null,
         null,
         null,
         null,
         null,
         null,
         null,
         null,
         null,
         null,
         null,
         null
        ],
        [
         "43",
         "08/1978",
         null,
         null,
         null,
         null,
         null,
         null,
         null,
         null,
         null,
         null,
         null,
         null
        ],
        [
         "44",
         "09/1978",
         null,
         null,
         null,
         null,
         null,
         null,
         null,
         null,
         null,
         null,
         null,
         null
        ],
        [
         "45",
         "10/1978",
         null,
         null,
         null,
         null,
         null,
         null,
         null,
         null,
         null,
         null,
         null,
         null
        ],
        [
         "46",
         "11/1978",
         null,
         null,
         null,
         null,
         null,
         null,
         null,
         null,
         null,
         null,
         null,
         null
        ],
        [
         "47",
         "12/1978",
         null,
         null,
         "10000.0",
         null,
         null,
         "10000.0",
         null,
         null,
         null,
         null,
         null,
         null
        ],
        [
         "48",
         "01/1979",
         null,
         null,
         "10185.22014136237",
         null,
         null,
         "10398.930905250509",
         null,
         null,
         null,
         null,
         null,
         null
        ],
        [
         "49",
         "02/1979",
         null,
         null,
         "10417.900537688138",
         null,
         null,
         "10248.849017195264",
         null,
         null,
         null,
         null,
         null,
         null
        ]
       ],
       "shape": {
        "columns": 13,
        "rows": 607
       }
      },
      "text/html": [
       "<div>\n",
       "<style scoped>\n",
       "    .dataframe tbody tr th:only-of-type {\n",
       "        vertical-align: middle;\n",
       "    }\n",
       "\n",
       "    .dataframe tbody tr th {\n",
       "        vertical-align: top;\n",
       "    }\n",
       "\n",
       "    .dataframe thead th {\n",
       "        text-align: right;\n",
       "    }\n",
       "</style>\n",
       "<table border=\"1\" class=\"dataframe\">\n",
       "  <thead>\n",
       "    <tr style=\"text-align: right;\">\n",
       "      <th></th>\n",
       "      <th>Date</th>\n",
       "      <th>MSCI Europe Small Cap Value Weighted</th>\n",
       "      <th>MSCI USA Small Cap Value Weighted.1</th>\n",
       "      <th>MSCI Europe</th>\n",
       "      <th>MSCI World Momentum</th>\n",
       "      <th>MSCI ACWI</th>\n",
       "      <th>MSCI World</th>\n",
       "      <th>S&amp;P 500 Minimum Volatility</th>\n",
       "      <th>MSCI Emerging Markets</th>\n",
       "      <th>FTSE World Government Bond - Developed Markets</th>\n",
       "      <th>S&amp;P 500</th>\n",
       "      <th>MSCI USA Small Cap Value Weighted</th>\n",
       "      <th>MSCI World Sector Neutral Quality</th>\n",
       "    </tr>\n",
       "  </thead>\n",
       "  <tbody>\n",
       "    <tr>\n",
       "      <th>0</th>\n",
       "      <td>01/1975</td>\n",
       "      <td>NaN</td>\n",
       "      <td>NaN</td>\n",
       "      <td>NaN</td>\n",
       "      <td>NaN</td>\n",
       "      <td>NaN</td>\n",
       "      <td>NaN</td>\n",
       "      <td>NaN</td>\n",
       "      <td>NaN</td>\n",
       "      <td>NaN</td>\n",
       "      <td>NaN</td>\n",
       "      <td>NaN</td>\n",
       "      <td>NaN</td>\n",
       "    </tr>\n",
       "    <tr>\n",
       "      <th>1</th>\n",
       "      <td>02/1975</td>\n",
       "      <td>NaN</td>\n",
       "      <td>NaN</td>\n",
       "      <td>NaN</td>\n",
       "      <td>NaN</td>\n",
       "      <td>NaN</td>\n",
       "      <td>NaN</td>\n",
       "      <td>NaN</td>\n",
       "      <td>NaN</td>\n",
       "      <td>NaN</td>\n",
       "      <td>NaN</td>\n",
       "      <td>NaN</td>\n",
       "      <td>NaN</td>\n",
       "    </tr>\n",
       "    <tr>\n",
       "      <th>2</th>\n",
       "      <td>03/1975</td>\n",
       "      <td>NaN</td>\n",
       "      <td>NaN</td>\n",
       "      <td>NaN</td>\n",
       "      <td>NaN</td>\n",
       "      <td>NaN</td>\n",
       "      <td>NaN</td>\n",
       "      <td>NaN</td>\n",
       "      <td>NaN</td>\n",
       "      <td>NaN</td>\n",
       "      <td>NaN</td>\n",
       "      <td>NaN</td>\n",
       "      <td>NaN</td>\n",
       "    </tr>\n",
       "    <tr>\n",
       "      <th>3</th>\n",
       "      <td>04/1975</td>\n",
       "      <td>NaN</td>\n",
       "      <td>NaN</td>\n",
       "      <td>NaN</td>\n",
       "      <td>NaN</td>\n",
       "      <td>NaN</td>\n",
       "      <td>NaN</td>\n",
       "      <td>NaN</td>\n",
       "      <td>NaN</td>\n",
       "      <td>NaN</td>\n",
       "      <td>NaN</td>\n",
       "      <td>NaN</td>\n",
       "      <td>NaN</td>\n",
       "    </tr>\n",
       "    <tr>\n",
       "      <th>4</th>\n",
       "      <td>05/1975</td>\n",
       "      <td>NaN</td>\n",
       "      <td>NaN</td>\n",
       "      <td>NaN</td>\n",
       "      <td>NaN</td>\n",
       "      <td>NaN</td>\n",
       "      <td>NaN</td>\n",
       "      <td>NaN</td>\n",
       "      <td>NaN</td>\n",
       "      <td>NaN</td>\n",
       "      <td>NaN</td>\n",
       "      <td>NaN</td>\n",
       "      <td>NaN</td>\n",
       "    </tr>\n",
       "    <tr>\n",
       "      <th>...</th>\n",
       "      <td>...</td>\n",
       "      <td>...</td>\n",
       "      <td>...</td>\n",
       "      <td>...</td>\n",
       "      <td>...</td>\n",
       "      <td>...</td>\n",
       "      <td>...</td>\n",
       "      <td>...</td>\n",
       "      <td>...</td>\n",
       "      <td>...</td>\n",
       "      <td>...</td>\n",
       "      <td>...</td>\n",
       "      <td>...</td>\n",
       "    </tr>\n",
       "    <tr>\n",
       "      <th>602</th>\n",
       "      <td>03/2025</td>\n",
       "      <td>149258.620455</td>\n",
       "      <td>301474.781370</td>\n",
       "      <td>740100.039015</td>\n",
       "      <td>253014.321457</td>\n",
       "      <td>225203.342503</td>\n",
       "      <td>935684.079624</td>\n",
       "      <td>87854.767453</td>\n",
       "      <td>341488.238952</td>\n",
       "      <td>56062.489396</td>\n",
       "      <td>302887.181519</td>\n",
       "      <td>301474.781370</td>\n",
       "      <td>72618.131411</td>\n",
       "    </tr>\n",
       "    <tr>\n",
       "      <th>603</th>\n",
       "      <td>04/2025</td>\n",
       "      <td>151103.730645</td>\n",
       "      <td>274195.338702</td>\n",
       "      <td>734564.922807</td>\n",
       "      <td>248540.215643</td>\n",
       "      <td>215995.891590</td>\n",
       "      <td>897683.562553</td>\n",
       "      <td>82429.995779</td>\n",
       "      <td>328764.402587</td>\n",
       "      <td>55177.416831</td>\n",
       "      <td>286073.221001</td>\n",
       "      <td>274195.338702</td>\n",
       "      <td>69198.447553</td>\n",
       "    </tr>\n",
       "    <tr>\n",
       "      <th>604</th>\n",
       "      <td>05/2025</td>\n",
       "      <td>161707.718540</td>\n",
       "      <td>NaN</td>\n",
       "      <td>NaN</td>\n",
       "      <td>NaN</td>\n",
       "      <td>NaN</td>\n",
       "      <td>NaN</td>\n",
       "      <td>NaN</td>\n",
       "      <td>NaN</td>\n",
       "      <td>NaN</td>\n",
       "      <td>NaN</td>\n",
       "      <td>NaN</td>\n",
       "      <td>72460.238942</td>\n",
       "    </tr>\n",
       "    <tr>\n",
       "      <th>605</th>\n",
       "      <td>06/2025</td>\n",
       "      <td>NaN</td>\n",
       "      <td>NaN</td>\n",
       "      <td>NaN</td>\n",
       "      <td>NaN</td>\n",
       "      <td>NaN</td>\n",
       "      <td>NaN</td>\n",
       "      <td>NaN</td>\n",
       "      <td>NaN</td>\n",
       "      <td>NaN</td>\n",
       "      <td>NaN</td>\n",
       "      <td>NaN</td>\n",
       "      <td>NaN</td>\n",
       "    </tr>\n",
       "    <tr>\n",
       "      <th>606</th>\n",
       "      <td>07/2025</td>\n",
       "      <td>NaN</td>\n",
       "      <td>NaN</td>\n",
       "      <td>NaN</td>\n",
       "      <td>NaN</td>\n",
       "      <td>NaN</td>\n",
       "      <td>NaN</td>\n",
       "      <td>NaN</td>\n",
       "      <td>NaN</td>\n",
       "      <td>NaN</td>\n",
       "      <td>NaN</td>\n",
       "      <td>NaN</td>\n",
       "      <td>NaN</td>\n",
       "    </tr>\n",
       "  </tbody>\n",
       "</table>\n",
       "<p>607 rows × 13 columns</p>\n",
       "</div>"
      ],
      "text/plain": [
       "        Date  MSCI Europe Small Cap Value Weighted  \\\n",
       "0    01/1975                                   NaN   \n",
       "1    02/1975                                   NaN   \n",
       "2    03/1975                                   NaN   \n",
       "3    04/1975                                   NaN   \n",
       "4    05/1975                                   NaN   \n",
       "..       ...                                   ...   \n",
       "602  03/2025                         149258.620455   \n",
       "603  04/2025                         151103.730645   \n",
       "604  05/2025                         161707.718540   \n",
       "605  06/2025                                   NaN   \n",
       "606  07/2025                                   NaN   \n",
       "\n",
       "     MSCI USA Small Cap Value Weighted.1    MSCI Europe  MSCI World Momentum  \\\n",
       "0                                    NaN            NaN                  NaN   \n",
       "1                                    NaN            NaN                  NaN   \n",
       "2                                    NaN            NaN                  NaN   \n",
       "3                                    NaN            NaN                  NaN   \n",
       "4                                    NaN            NaN                  NaN   \n",
       "..                                   ...            ...                  ...   \n",
       "602                        301474.781370  740100.039015        253014.321457   \n",
       "603                        274195.338702  734564.922807        248540.215643   \n",
       "604                                  NaN            NaN                  NaN   \n",
       "605                                  NaN            NaN                  NaN   \n",
       "606                                  NaN            NaN                  NaN   \n",
       "\n",
       "         MSCI ACWI     MSCI World  S&P 500 Minimum Volatility  \\\n",
       "0              NaN            NaN                         NaN   \n",
       "1              NaN            NaN                         NaN   \n",
       "2              NaN            NaN                         NaN   \n",
       "3              NaN            NaN                         NaN   \n",
       "4              NaN            NaN                         NaN   \n",
       "..             ...            ...                         ...   \n",
       "602  225203.342503  935684.079624                87854.767453   \n",
       "603  215995.891590  897683.562553                82429.995779   \n",
       "604            NaN            NaN                         NaN   \n",
       "605            NaN            NaN                         NaN   \n",
       "606            NaN            NaN                         NaN   \n",
       "\n",
       "     MSCI Emerging Markets  FTSE World Government Bond - Developed Markets  \\\n",
       "0                      NaN                                             NaN   \n",
       "1                      NaN                                             NaN   \n",
       "2                      NaN                                             NaN   \n",
       "3                      NaN                                             NaN   \n",
       "4                      NaN                                             NaN   \n",
       "..                     ...                                             ...   \n",
       "602          341488.238952                                    56062.489396   \n",
       "603          328764.402587                                    55177.416831   \n",
       "604                    NaN                                             NaN   \n",
       "605                    NaN                                             NaN   \n",
       "606                    NaN                                             NaN   \n",
       "\n",
       "           S&P 500  MSCI USA Small Cap Value Weighted  \\\n",
       "0              NaN                                NaN   \n",
       "1              NaN                                NaN   \n",
       "2              NaN                                NaN   \n",
       "3              NaN                                NaN   \n",
       "4              NaN                                NaN   \n",
       "..             ...                                ...   \n",
       "602  302887.181519                      301474.781370   \n",
       "603  286073.221001                      274195.338702   \n",
       "604            NaN                                NaN   \n",
       "605            NaN                                NaN   \n",
       "606            NaN                                NaN   \n",
       "\n",
       "     MSCI World Sector Neutral Quality  \n",
       "0                                  NaN  \n",
       "1                                  NaN  \n",
       "2                                  NaN  \n",
       "3                                  NaN  \n",
       "4                                  NaN  \n",
       "..                                 ...  \n",
       "602                       72618.131411  \n",
       "603                       69198.447553  \n",
       "604                       72460.238942  \n",
       "605                                NaN  \n",
       "606                                NaN  \n",
       "\n",
       "[607 rows x 13 columns]"
      ]
     },
     "execution_count": 6,
     "metadata": {},
     "output_type": "execute_result"
    }
   ],
   "source": [
    "data"
   ]
  },
  {
   "cell_type": "code",
   "execution_count": 3,
   "metadata": {},
   "outputs": [
    {
     "data": {
      "text/plain": [
       "['100_2factors',\n",
       " '80_20_ACWI',\n",
       " '80_20_World',\n",
       " '80_20_2factors',\n",
       " '100_1factor',\n",
       " 'lifestrategy60',\n",
       " 'lifestrategy80',\n",
       " 'lifestrategy20',\n",
       " 'lifestrategy0',\n",
       " 'lifestrategy40',\n",
       " 'lifestrategy100',\n",
       " '80_20_1factor',\n",
       " '60_40_World']"
      ]
     },
     "execution_count": 3,
     "metadata": {},
     "output_type": "execute_result"
    }
   ],
   "source": [
    "get_list_of_portfolios()"
   ]
  },
  {
   "cell_type": "code",
   "execution_count": 5,
   "metadata": {},
   "outputs": [
    {
     "data": {
      "text/plain": [
       "['100_2factors',\n",
       " '80_20_2factors',\n",
       " '80_20_1factor',\n",
       " '80_20_ACWI',\n",
       " '80_20_World',\n",
       " 'lifestrategy100',\n",
       " 'lifestrategy80',\n",
       " 'lifestrategy60',\n",
       " 'lifestrategy40',\n",
       " 'lifestrategy20',\n",
       " 'lifestrategy0']"
      ]
     },
     "execution_count": 5,
     "metadata": {},
     "output_type": "execute_result"
    }
   ],
   "source": [
    "PORTFOLIOS = [\n",
    "    '100_2factors',\n",
    "    '80_20_2factors',\n",
    "    '80_20_1factor',\n",
    "    '80_20_ACWI',\n",
    "    '80_20_World'\n",
    "]\n",
    "\n",
    "PORTOFOLIO_NAMES = {\n",
    "    '100_2factors'  : '100% Stocks + SmallCap Value + Momentum',\n",
    "    '80_20_2factors': '80% Stocks + 20% Bonds + SmallCap Value + Momentum',\n",
    "    '80_20_1factor' : '80% Stocks + 20% Bonds + SmallCap Value',\n",
    "    '80_20_ACWI'    : '80% Stocks(ACWI) + 20% Bonds',\n",
    "    '80_20_World'   : '80% Stocks(World) + 20% Bonds',\n",
    "}\n",
    "\n",
    "PORTFOLIO_DESCRIPTIONS = {\n",
    "    '100_2factors'  : 'This portfolio invests 100% in stocks, focusing on small-cap value and momentum strategies.',\n",
    "    '80_20_2factors': 'This portfolio allocates 80% to stocks and 20% to bonds, incorporating small-cap value and momentum factors.',\n",
    "    '80_20_1factor' : 'This portfolio invests 80% in stocks and 20% in bonds, focusing on small-cap value.',\n",
    "    '80_20_ACWI'    : 'This portfolio invests 80% in global stocks (ACWI) and 20% in bonds.',\n",
    "    '80_20_World'   : 'This portfolio invests 80% in world stocks and 20% in bonds.'\n",
    "}\n",
    "\n",
    "# Add another group of portfolios in col2\n",
    "SIMPLE_PORTFOLIOS = [\n",
    "    'lifestrategy100',\n",
    "    'lifestrategy80',\n",
    "    'lifestrategy60',\n",
    "    'lifestrategy40',\n",
    "    'lifestrategy20',\n",
    "    'lifestrategy0'\n",
    "]\n",
    "\n",
    "SIMPLE_PORTFOLIO_NAMES = {\n",
    "    'lifestrategy100': '100% Stocks',\n",
    "    'lifestrategy80' : '80% Stocks + 20% Bonds',\n",
    "    'lifestrategy60' : '60% Stocks + 40% Bonds',\n",
    "    'lifestrategy40' : '40% Stocks + 60% Bonds',\n",
    "    'lifestrategy20' : '20% Stocks + 80% Bonds',\n",
    "    'lifestrategy0'  : '100% Bonds'\n",
    "}\n",
    "\n",
    "SIMPLE_PORTFOLIO_DESCRIPTIONS = {\n",
    "    'lifestrategy100': 'This portfolio invests 100% in stocks, suitable for aggressive strategies seeking high growth. Note that stocks are MSCI World',\n",
    "    'lifestrategy80' : 'This portfolio allocates 80% to stocks and 20% to bonds, balancing growth and stability. Stocks are MSCI World',\n",
    "    'lifestrategy60' : 'This portfolio invests 60% in stocks and 40% in bonds, providing moderate growth with some stability. Stocks are MSCI World',\n",
    "    'lifestrategy40' : 'This portfolio invests 40% in stocks and 60% in bonds, focusing on stability with some growth potential. Stocks are MSCI World',\n",
    "    'lifestrategy20' : 'This portfolio invests 20% in stocks and 80% in bonds, prioritizing stability with minimal growth. Stocks are MSCI World',\n",
    "    'lifestrategy0'  : 'This portfolio invests 100% in bonds, suitable for conservative strategies seeking capital preservation.'\n",
    "}\n",
    "\n",
    "ALL_PORTFOLIOS = PORTFOLIOS + SIMPLE_PORTFOLIOS\n",
    "ALL_PORTFOLIOS"
   ]
  },
  {
   "cell_type": "code",
   "execution_count": 6,
   "metadata": {},
   "outputs": [],
   "source": [
    "DEFAULT_LAYOUT = {\n",
    "    \"template\": \"simple_white\",\n",
    "    \"width\": 1200,\n",
    "    \"height\": 800,\n",
    "    \"legend_title\": \"Portfolio\",\n",
    "    \"title_font_size\": 25,\n",
    "    \"title_font_family\": \"Arial\",\n",
    "    \"legend\": dict(font=dict(size=22)),\n",
    "    \"xaxis\": dict(\n",
    "        tickformat=\"%Y\",\n",
    "        title_font=dict(size=22, color=\"black\", family=\"Arial\"),\n",
    "        tickfont=dict(size=16, color=\"black\"),\n",
    "        linecolor=\"black\",\n",
    "        linewidth=2,\n",
    "        showgrid=True,\n",
    "        gridcolor=\"lightgray\",\n",
    "        gridwidth=1\n",
    "    ),\n",
    "    \"yaxis\": dict(\n",
    "        title_font=dict(size=22, color=\"black\", family=\"Arial\"),\n",
    "        tickfont=dict(size=16, color=\"black\"),\n",
    "        linecolor=\"black\",\n",
    "        tickformat=\".1f\",           # Show one decimal\n",
    "        tickprefix=\"\",              # No prefix needed; suffix adds %\n",
    "        ticksuffix=\"%\",            # ✅ Add percent sign without multiplying\n",
    "        linewidth=2,\n",
    "        showgrid=True,\n",
    "        gridcolor=\"lightgray\",\n",
    "        gridwidth=1\n",
    "    ),\n",
    "    \"font\": dict(color=\"black\")\n",
    "}"
   ]
  },
  {
   "cell_type": "code",
   "execution_count": 7,
   "metadata": {},
   "outputs": [],
   "source": [
    "def plot_return_distributions_streamlit(df):\n",
    "    \"\"\"\n",
    "    Create an interactive violin plot showing portfolio return distributions,\n",
    "    with custom median and 5th percentile lines using Plotly and matplotlib colors.\n",
    "    \"\"\"\n",
    "    def _prepare_data(df):\n",
    "        returns_df = df.dropna(how='all')\n",
    "        long_df = returns_df.melt(id_vars='Date', var_name='Portfolio', value_name='Return').dropna()\n",
    "        return long_df\n",
    "\n",
    "    def _get_colors(portfolios):\n",
    "        cmap = plt.get_cmap('tab10')\n",
    "        return {\n",
    "            p: '#{0:02x}{1:02x}{2:02x}'.format(\n",
    "                int(255 * r), int(255 * g), int(255 * b)\n",
    "            )\n",
    "            for p, (r, g, b, _) in zip(portfolios, cmap(range(len(portfolios))))\n",
    "        }\n",
    "\n",
    "    def _get_plot_shapes_and_annotations(medians, p5s, y_positions, colors, line_height=0.6):\n",
    "        shapes, annotations = [], []\n",
    "        for portfolio, y_pos in y_positions.items():\n",
    "            median_val = medians[portfolio]\n",
    "            p5_val = p5s[portfolio]\n",
    "\n",
    "            # Median line\n",
    "            shapes.append(dict(\n",
    "                type='line', x0=median_val, x1=median_val,\n",
    "                y0=y_pos - line_height/2, y1=y_pos + line_height/2,\n",
    "                line=dict(color=colors[portfolio], width=3),\n",
    "                opacity=1,\n",
    "                xref='x', yref='y'\n",
    "            ))\n",
    "            annotations.append(dict(\n",
    "                x=median_val, y=y_pos + line_height / 2 + 0.1,\n",
    "                text=f\"Median: {median_val:.2%}\",\n",
    "                showarrow=False,\n",
    "                font=dict(color=colors[portfolio], size=16),\n",
    "                xanchor='left'\n",
    "            ))\n",
    "\n",
    "            # 5th percentile line\n",
    "            shapes.append(dict(\n",
    "                type='line', x0=p5_val, x1=p5_val,\n",
    "                y0=y_pos - line_height/2, y1=y_pos + line_height/2,\n",
    "                line=dict(color=colors[portfolio], width=3, dash='dash'),\n",
    "                opacity=1,\n",
    "                xref='x', yref='y'\n",
    "            ))\n",
    "            annotations.append(dict(\n",
    "                x=p5_val, y=y_pos - line_height / 2 + 0.65,\n",
    "                text=f\"5th %: {p5_val:.2%}\",\n",
    "                showarrow=False,\n",
    "                font=dict(color=colors[portfolio], size=16),\n",
    "                xanchor='left'\n",
    "            ))\n",
    "\n",
    "        return shapes, annotations\n",
    "\n",
    "    # Data preparation\n",
    "    long_df = _prepare_data(df)\n",
    "    portfolios = long_df['Portfolio'].unique()\n",
    "    colors = _get_colors(portfolios)\n",
    "    plot_height = 230 * len(portfolios)\n",
    "\n",
    "    # Seaborn style (optional)\n",
    "    sns.set(style=\"whitegrid\", context=\"talk\")\n",
    "\n",
    "    # Violin plot\n",
    "    fig = px.violin(\n",
    "        long_df,\n",
    "        y='Portfolio',\n",
    "        x='Return',\n",
    "        color='Portfolio',\n",
    "        box=False,\n",
    "        points='all',\n",
    "        color_discrete_map=colors,\n",
    "        template='simple_white'\n",
    "    )\n",
    "\n",
    "    # Order & positioning\n",
    "    category_order = fig.layout.yaxis.categoryarray or portfolios.tolist()\n",
    "    y_positions = {p: i for i, p in enumerate(category_order)}\n",
    "\n",
    "    # Statistics\n",
    "    medians = long_df.groupby('Portfolio')['Return'].median()\n",
    "    p5s = long_df.groupby('Portfolio')['Return'].quantile(0.05)\n",
    "    shapes, annotations = _get_plot_shapes_and_annotations(medians, p5s, y_positions, colors)\n",
    "\n",
    "    # Final layout update\n",
    "    fig.update_layout(\n",
    "        height=plot_height,\n",
    "        width=1200,\n",
    "        violingap=0.25,\n",
    "        violinmode='overlay',\n",
    "        shapes=shapes,\n",
    "        annotations=annotations,\n",
    "        template='simple_white',\n",
    "        legend=dict(\n",
    "            orientation=\"h\",\n",
    "            yanchor=\"bottom\",\n",
    "            y=1.05,\n",
    "            xanchor=\"center\",\n",
    "            x=0.5,\n",
    "            font=dict(size=22)\n",
    "        ),\n",
    "        font=dict(color=\"black\"),\n",
    "        title_font_size=25,\n",
    "        title_font_family=\"Arial\",\n",
    "        title = \" \",\n",
    "        xaxis=dict(\n",
    "            title=\"Annualized Return (%)\",\n",
    "            title_font=dict(size=22, color=\"black\", family=\"Arial\"),\n",
    "            tickfont=dict(size=16, color=\"black\"),\n",
    "            tickformat=\".1%\",\n",
    "            linecolor=\"black\",\n",
    "            linewidth=2,\n",
    "            showgrid=True,\n",
    "            gridcolor=\"lightgray\"\n",
    "        ),\n",
    "        yaxis=dict(\n",
    "            title=\"Portfolio\",\n",
    "            title_font=dict(size=22, color=\"black\", family=\"Arial\"),\n",
    "            tickfont=dict(size=16, color=\"black\"),\n",
    "            linecolor=\"black\",\n",
    "            linewidth=2,\n",
    "            showgrid=True,\n",
    "            gridcolor=\"lightgray\",\n",
    "            categoryorder='array',\n",
    "            categoryarray=category_order\n",
    "        )\n",
    "    )\n",
    "        # Customize hover template for each trace\n",
    "    fig.update_traces(\n",
    "        hoveron = 'points+kde'\n",
    "        )\n",
    "\n",
    "    return fig\n"
   ]
  },
  {
   "cell_type": "code",
   "execution_count": null,
   "metadata": {},
   "outputs": [],
   "source": [
    "portfolios = ['100_2factors',\n",
    "              '80_20_2factors',\n",
    "              '80_20_1factor',\n",
    "              '80_20_ACWI',\n",
    "              '80_20_World']\n",
    "\n",
    "portfolios = [ 'lifestrategy40',\n",
    "               'lifestrategy20',\n",
    "               'lifestrategy0']\n",
    "\n",
    "for years in [5]:\n",
    "    final_results = None \n",
    "    for portfolio_name in portfolios:\n",
    "\n",
    "        portfolio = load_portfolio(portfolio_name)\n",
    "        data, weights = prune_data_portfolio(portfolio)\n",
    "\n",
    "        # Compute the returns\n",
    "        results = compute_portfolio_returns_combined(*prune_data_portfolio(portfolio), years=years)\n",
    "        results = results.rename(columns={results.columns[-1]: portfolio_name})\n",
    "        results[portfolio_name] = results[portfolio_name].round(5)\n",
    "\n",
    "        final_results = merge_results(final_results, results)\n",
    "\n",
    "\n",
    "    final_results_totalreturn = final_results.copy()\n",
    "\n",
    "    for portfolio_name in portfolios:    \n",
    "        final_results_totalreturn[portfolio_name] = (final_results[portfolio_name] + 1)**years - 1\n"
   ]
  },
  {
   "cell_type": "code",
   "execution_count": 28,
   "metadata": {},
   "outputs": [],
   "source": [
    "def plot_total_returns_streamlit(results, years=None):\n",
    "    \"\"\"\n",
    "    Plots the total returns of indices over time interactively using Plotly and Seaborn style.\n",
    "\n",
    "    Parameters:\n",
    "        results (dict or DataFrame): The results data containing 'Date' and portfolio return columns.\n",
    "        years (int, optional): Number of years used for rolling window annotation.\n",
    "    \"\"\"\n",
    "    df = pd.DataFrame(results)\n",
    "    df[\"Date\"] = pd.to_datetime(df[\"Date\"], format=\"%m/%Y\")\n",
    "    df.set_index(\"Date\", inplace=True)\n",
    "\n",
    "    sns.set(style=\"whitegrid\", context=\"talk\")\n",
    "\n",
    "    df_reset = df.reset_index()\n",
    "    df_melt = df_reset.melt(id_vars=\"Date\", var_name=\"Portfolio\", value_name=\"Total Return\")\n",
    "\n",
    "    # Multiply by 100 to convert to percentage\n",
    "    df_melt[\"Total Return\"] *= 100\n",
    "\n",
    "    fig = px.line(\n",
    "        df_melt,\n",
    "        x=\"Date\",\n",
    "        y=\"Total Return\",\n",
    "        color=\"Portfolio\",\n",
    "        title=\" \",\n",
    "        template=\"simple_white\"\n",
    "    )\n",
    "\n",
    "    fig.update_layout(\n",
    "        legend=dict(\n",
    "            orientation=\"h\",\n",
    "            yanchor=\"bottom\",\n",
    "            y=1.05,\n",
    "            xanchor=\"center\",\n",
    "            x=0.5\n",
    "        )\n",
    "    )\n",
    "    \n",
    "    # ✨ Custom hover menu\n",
    "    fig.update_traces(\n",
    "        mode=\"lines\",\n",
    "        hovertemplate=(\n",
    "            \"<b>%{fullData.name}</b><br>\" +\n",
    "            \"Date: %{x|%b %Y}<br>\" +  # Changed to show Month Year\n",
    "            \"Total Return: %{y:.2f}%<extra></extra>\"\n",
    "        )\n",
    "    )\n",
    "\n",
    "    fig.update_layout(**DEFAULT_LAYOUT)\n",
    "\n",
    "    return fig"
   ]
  },
  {
   "cell_type": "code",
   "execution_count": 29,
   "metadata": {},
   "outputs": [
    {
     "data": {
      "application/vnd.plotly.v1+json": {
       "config": {
        "plotlyServerURL": "https://plot.ly"
       },
       "data": [
        {
         "hovertemplate": "<b>%{fullData.name}</b><br>Date: %{x|%b %Y}<br>Total Return: %{y:.2f}%<extra></extra>",
         "legendgroup": "lifestrategy40",
         "line": {
          "color": "#1F77B4",
          "dash": "solid"
         },
         "marker": {
          "symbol": "circle"
         },
         "mode": "lines",
         "name": "lifestrategy40",
         "showlegend": true,
         "type": "scattergl",
         "x": [
          "1985-01-01T00:00:00.000000000",
          "1985-02-01T00:00:00.000000000",
          "1985-03-01T00:00:00.000000000",
          "1985-04-01T00:00:00.000000000",
          "1985-05-01T00:00:00.000000000",
          "1985-06-01T00:00:00.000000000",
          "1985-07-01T00:00:00.000000000",
          "1985-08-01T00:00:00.000000000",
          "1985-09-01T00:00:00.000000000",
          "1985-10-01T00:00:00.000000000",
          "1985-11-01T00:00:00.000000000",
          "1985-12-01T00:00:00.000000000",
          "1986-01-01T00:00:00.000000000",
          "1986-02-01T00:00:00.000000000",
          "1986-03-01T00:00:00.000000000",
          "1986-04-01T00:00:00.000000000",
          "1986-05-01T00:00:00.000000000",
          "1986-06-01T00:00:00.000000000",
          "1986-07-01T00:00:00.000000000",
          "1986-08-01T00:00:00.000000000",
          "1986-09-01T00:00:00.000000000",
          "1986-10-01T00:00:00.000000000",
          "1986-11-01T00:00:00.000000000",
          "1986-12-01T00:00:00.000000000",
          "1987-01-01T00:00:00.000000000",
          "1987-02-01T00:00:00.000000000",
          "1987-03-01T00:00:00.000000000",
          "1987-04-01T00:00:00.000000000",
          "1987-05-01T00:00:00.000000000",
          "1987-06-01T00:00:00.000000000",
          "1987-07-01T00:00:00.000000000",
          "1987-08-01T00:00:00.000000000",
          "1987-09-01T00:00:00.000000000",
          "1987-10-01T00:00:00.000000000",
          "1987-11-01T00:00:00.000000000",
          "1987-12-01T00:00:00.000000000",
          "1988-01-01T00:00:00.000000000",
          "1988-02-01T00:00:00.000000000",
          "1988-03-01T00:00:00.000000000",
          "1988-04-01T00:00:00.000000000",
          "1988-05-01T00:00:00.000000000",
          "1988-06-01T00:00:00.000000000",
          "1988-07-01T00:00:00.000000000",
          "1988-08-01T00:00:00.000000000",
          "1988-09-01T00:00:00.000000000",
          "1988-10-01T00:00:00.000000000",
          "1988-11-01T00:00:00.000000000",
          "1988-12-01T00:00:00.000000000",
          "1989-01-01T00:00:00.000000000",
          "1989-02-01T00:00:00.000000000",
          "1989-03-01T00:00:00.000000000",
          "1989-04-01T00:00:00.000000000",
          "1989-05-01T00:00:00.000000000",
          "1989-06-01T00:00:00.000000000",
          "1989-07-01T00:00:00.000000000",
          "1989-08-01T00:00:00.000000000",
          "1989-09-01T00:00:00.000000000",
          "1989-10-01T00:00:00.000000000",
          "1989-11-01T00:00:00.000000000",
          "1989-12-01T00:00:00.000000000",
          "1990-01-01T00:00:00.000000000",
          "1990-02-01T00:00:00.000000000",
          "1990-03-01T00:00:00.000000000",
          "1990-04-01T00:00:00.000000000",
          "1990-05-01T00:00:00.000000000",
          "1990-06-01T00:00:00.000000000",
          "1990-07-01T00:00:00.000000000",
          "1990-08-01T00:00:00.000000000",
          "1990-09-01T00:00:00.000000000",
          "1990-10-01T00:00:00.000000000",
          "1990-11-01T00:00:00.000000000",
          "1990-12-01T00:00:00.000000000",
          "1991-01-01T00:00:00.000000000",
          "1991-02-01T00:00:00.000000000",
          "1991-03-01T00:00:00.000000000",
          "1991-04-01T00:00:00.000000000",
          "1991-05-01T00:00:00.000000000",
          "1991-06-01T00:00:00.000000000",
          "1991-07-01T00:00:00.000000000",
          "1991-08-01T00:00:00.000000000",
          "1991-09-01T00:00:00.000000000",
          "1991-10-01T00:00:00.000000000",
          "1991-11-01T00:00:00.000000000",
          "1991-12-01T00:00:00.000000000",
          "1992-01-01T00:00:00.000000000",
          "1992-02-01T00:00:00.000000000",
          "1992-03-01T00:00:00.000000000",
          "1992-04-01T00:00:00.000000000",
          "1992-05-01T00:00:00.000000000",
          "1992-06-01T00:00:00.000000000",
          "1992-07-01T00:00:00.000000000",
          "1992-08-01T00:00:00.000000000",
          "1992-09-01T00:00:00.000000000",
          "1992-10-01T00:00:00.000000000",
          "1992-11-01T00:00:00.000000000",
          "1992-12-01T00:00:00.000000000",
          "1993-01-01T00:00:00.000000000",
          "1993-02-01T00:00:00.000000000",
          "1993-03-01T00:00:00.000000000",
          "1993-04-01T00:00:00.000000000",
          "1993-05-01T00:00:00.000000000",
          "1993-06-01T00:00:00.000000000",
          "1993-07-01T00:00:00.000000000",
          "1993-08-01T00:00:00.000000000",
          "1993-09-01T00:00:00.000000000",
          "1993-10-01T00:00:00.000000000",
          "1993-11-01T00:00:00.000000000",
          "1993-12-01T00:00:00.000000000",
          "1994-01-01T00:00:00.000000000",
          "1994-02-01T00:00:00.000000000",
          "1994-03-01T00:00:00.000000000",
          "1994-04-01T00:00:00.000000000",
          "1994-05-01T00:00:00.000000000",
          "1994-06-01T00:00:00.000000000",
          "1994-07-01T00:00:00.000000000",
          "1994-08-01T00:00:00.000000000",
          "1994-09-01T00:00:00.000000000",
          "1994-10-01T00:00:00.000000000",
          "1994-11-01T00:00:00.000000000",
          "1994-12-01T00:00:00.000000000",
          "1995-01-01T00:00:00.000000000",
          "1995-02-01T00:00:00.000000000",
          "1995-03-01T00:00:00.000000000",
          "1995-04-01T00:00:00.000000000",
          "1995-05-01T00:00:00.000000000",
          "1995-06-01T00:00:00.000000000",
          "1995-07-01T00:00:00.000000000",
          "1995-08-01T00:00:00.000000000",
          "1995-09-01T00:00:00.000000000",
          "1995-10-01T00:00:00.000000000",
          "1995-11-01T00:00:00.000000000",
          "1995-12-01T00:00:00.000000000",
          "1996-01-01T00:00:00.000000000",
          "1996-02-01T00:00:00.000000000",
          "1996-03-01T00:00:00.000000000",
          "1996-04-01T00:00:00.000000000",
          "1996-05-01T00:00:00.000000000",
          "1996-06-01T00:00:00.000000000",
          "1996-07-01T00:00:00.000000000",
          "1996-08-01T00:00:00.000000000",
          "1996-09-01T00:00:00.000000000",
          "1996-10-01T00:00:00.000000000",
          "1996-11-01T00:00:00.000000000",
          "1996-12-01T00:00:00.000000000",
          "1997-01-01T00:00:00.000000000",
          "1997-02-01T00:00:00.000000000",
          "1997-03-01T00:00:00.000000000",
          "1997-04-01T00:00:00.000000000",
          "1997-05-01T00:00:00.000000000",
          "1997-06-01T00:00:00.000000000",
          "1997-07-01T00:00:00.000000000",
          "1997-08-01T00:00:00.000000000",
          "1997-09-01T00:00:00.000000000",
          "1997-10-01T00:00:00.000000000",
          "1997-11-01T00:00:00.000000000",
          "1997-12-01T00:00:00.000000000",
          "1998-01-01T00:00:00.000000000",
          "1998-02-01T00:00:00.000000000",
          "1998-03-01T00:00:00.000000000",
          "1998-04-01T00:00:00.000000000",
          "1998-05-01T00:00:00.000000000",
          "1998-06-01T00:00:00.000000000",
          "1998-07-01T00:00:00.000000000",
          "1998-08-01T00:00:00.000000000",
          "1998-09-01T00:00:00.000000000",
          "1998-10-01T00:00:00.000000000",
          "1998-11-01T00:00:00.000000000",
          "1998-12-01T00:00:00.000000000",
          "1999-01-01T00:00:00.000000000",
          "1999-02-01T00:00:00.000000000",
          "1999-03-01T00:00:00.000000000",
          "1999-04-01T00:00:00.000000000",
          "1999-05-01T00:00:00.000000000",
          "1999-07-01T00:00:00.000000000",
          "1999-09-01T00:00:00.000000000",
          "1999-10-01T00:00:00.000000000",
          "1999-11-01T00:00:00.000000000",
          "1999-12-01T00:00:00.000000000",
          "2000-01-01T00:00:00.000000000",
          "2000-03-01T00:00:00.000000000",
          "2000-04-01T00:00:00.000000000",
          "2000-05-01T00:00:00.000000000",
          "2000-06-01T00:00:00.000000000",
          "2000-07-01T00:00:00.000000000",
          "2000-08-01T00:00:00.000000000",
          "2000-09-01T00:00:00.000000000",
          "2000-10-01T00:00:00.000000000",
          "2000-11-01T00:00:00.000000000",
          "2000-12-01T00:00:00.000000000",
          "2001-01-01T00:00:00.000000000",
          "2001-02-01T00:00:00.000000000",
          "2001-03-01T00:00:00.000000000",
          "2001-04-01T00:00:00.000000000",
          "2001-05-01T00:00:00.000000000",
          "2001-06-01T00:00:00.000000000",
          "2001-07-01T00:00:00.000000000",
          "2001-08-01T00:00:00.000000000",
          "2001-09-01T00:00:00.000000000",
          "2001-10-01T00:00:00.000000000",
          "2001-11-01T00:00:00.000000000",
          "2001-12-01T00:00:00.000000000",
          "2002-02-01T00:00:00.000000000",
          "2002-03-01T00:00:00.000000000",
          "2002-04-01T00:00:00.000000000",
          "2002-05-01T00:00:00.000000000",
          "2002-06-01T00:00:00.000000000",
          "2002-07-01T00:00:00.000000000",
          "2002-08-01T00:00:00.000000000",
          "2002-09-01T00:00:00.000000000",
          "2002-10-01T00:00:00.000000000",
          "2002-11-01T00:00:00.000000000",
          "2002-12-01T00:00:00.000000000",
          "2003-01-01T00:00:00.000000000",
          "2003-02-01T00:00:00.000000000",
          "2003-03-01T00:00:00.000000000",
          "2003-04-01T00:00:00.000000000",
          "2003-05-01T00:00:00.000000000",
          "2003-06-01T00:00:00.000000000",
          "2003-08-01T00:00:00.000000000",
          "2003-09-01T00:00:00.000000000",
          "2003-10-01T00:00:00.000000000",
          "2003-11-01T00:00:00.000000000",
          "2003-12-01T00:00:00.000000000",
          "2004-01-01T00:00:00.000000000",
          "2004-02-01T00:00:00.000000000",
          "2004-03-01T00:00:00.000000000",
          "2004-04-01T00:00:00.000000000",
          "2004-05-01T00:00:00.000000000",
          "2004-06-01T00:00:00.000000000",
          "2004-07-01T00:00:00.000000000",
          "2004-08-01T00:00:00.000000000",
          "2004-09-01T00:00:00.000000000",
          "2004-10-01T00:00:00.000000000",
          "2004-11-01T00:00:00.000000000",
          "2004-12-01T00:00:00.000000000",
          "2005-01-01T00:00:00.000000000",
          "2005-02-01T00:00:00.000000000",
          "2005-03-01T00:00:00.000000000",
          "2005-04-01T00:00:00.000000000",
          "2005-05-01T00:00:00.000000000",
          "2005-06-01T00:00:00.000000000",
          "2005-07-01T00:00:00.000000000",
          "2005-08-01T00:00:00.000000000",
          "2005-09-01T00:00:00.000000000",
          "2005-10-01T00:00:00.000000000",
          "2005-11-01T00:00:00.000000000",
          "2005-12-01T00:00:00.000000000",
          "2006-01-01T00:00:00.000000000",
          "2006-02-01T00:00:00.000000000",
          "2006-03-01T00:00:00.000000000",
          "2006-04-01T00:00:00.000000000",
          "2006-05-01T00:00:00.000000000",
          "2006-06-01T00:00:00.000000000",
          "2006-07-01T00:00:00.000000000",
          "2006-08-01T00:00:00.000000000",
          "2006-09-01T00:00:00.000000000",
          "2006-10-01T00:00:00.000000000",
          "2006-11-01T00:00:00.000000000",
          "2006-12-01T00:00:00.000000000",
          "2007-01-01T00:00:00.000000000",
          "2007-02-01T00:00:00.000000000",
          "2007-03-01T00:00:00.000000000",
          "2007-04-01T00:00:00.000000000",
          "2007-05-01T00:00:00.000000000",
          "2007-06-01T00:00:00.000000000",
          "2007-07-01T00:00:00.000000000",
          "2007-08-01T00:00:00.000000000",
          "2007-09-01T00:00:00.000000000",
          "2007-10-01T00:00:00.000000000",
          "2007-11-01T00:00:00.000000000",
          "2007-12-01T00:00:00.000000000",
          "2008-01-01T00:00:00.000000000",
          "2008-02-01T00:00:00.000000000",
          "2008-03-01T00:00:00.000000000",
          "2008-04-01T00:00:00.000000000",
          "2008-05-01T00:00:00.000000000",
          "2008-06-01T00:00:00.000000000",
          "2008-07-01T00:00:00.000000000",
          "2008-08-01T00:00:00.000000000",
          "2008-09-01T00:00:00.000000000",
          "2008-11-01T00:00:00.000000000",
          "2008-12-01T00:00:00.000000000",
          "2009-01-01T00:00:00.000000000",
          "2009-02-01T00:00:00.000000000",
          "2009-04-01T00:00:00.000000000",
          "2009-05-01T00:00:00.000000000",
          "2009-06-01T00:00:00.000000000",
          "2009-07-01T00:00:00.000000000",
          "2009-08-01T00:00:00.000000000",
          "2009-09-01T00:00:00.000000000",
          "2009-10-01T00:00:00.000000000",
          "2009-11-01T00:00:00.000000000",
          "2009-12-01T00:00:00.000000000",
          "2010-01-01T00:00:00.000000000",
          "2010-02-01T00:00:00.000000000",
          "2010-03-01T00:00:00.000000000",
          "2010-04-01T00:00:00.000000000",
          "2010-05-01T00:00:00.000000000",
          "2010-06-01T00:00:00.000000000",
          "2010-07-01T00:00:00.000000000",
          "2010-08-01T00:00:00.000000000",
          "2010-09-01T00:00:00.000000000",
          "2010-10-01T00:00:00.000000000",
          "2010-11-01T00:00:00.000000000",
          "2010-12-01T00:00:00.000000000",
          "2011-01-01T00:00:00.000000000",
          "2011-02-01T00:00:00.000000000",
          "2011-03-01T00:00:00.000000000",
          "2011-04-01T00:00:00.000000000",
          "2011-05-01T00:00:00.000000000",
          "2011-06-01T00:00:00.000000000",
          "2011-07-01T00:00:00.000000000",
          "2011-08-01T00:00:00.000000000",
          "2011-09-01T00:00:00.000000000",
          "2011-10-01T00:00:00.000000000",
          "2011-11-01T00:00:00.000000000",
          "2011-12-01T00:00:00.000000000",
          "2012-01-01T00:00:00.000000000",
          "2012-02-01T00:00:00.000000000",
          "2012-03-01T00:00:00.000000000",
          "2012-04-01T00:00:00.000000000",
          "2012-05-01T00:00:00.000000000",
          "2012-06-01T00:00:00.000000000",
          "2012-07-01T00:00:00.000000000",
          "2012-08-01T00:00:00.000000000",
          "2012-09-01T00:00:00.000000000",
          "2012-10-01T00:00:00.000000000",
          "2012-11-01T00:00:00.000000000",
          "2012-12-01T00:00:00.000000000",
          "2013-01-01T00:00:00.000000000",
          "2013-02-01T00:00:00.000000000",
          "2013-03-01T00:00:00.000000000",
          "2013-04-01T00:00:00.000000000",
          "2013-05-01T00:00:00.000000000",
          "2013-06-01T00:00:00.000000000",
          "2013-07-01T00:00:00.000000000",
          "2013-08-01T00:00:00.000000000",
          "2013-09-01T00:00:00.000000000",
          "2013-10-01T00:00:00.000000000",
          "2013-11-01T00:00:00.000000000",
          "2013-12-01T00:00:00.000000000",
          "2014-01-01T00:00:00.000000000",
          "2014-02-01T00:00:00.000000000",
          "2014-03-01T00:00:00.000000000",
          "2014-04-01T00:00:00.000000000",
          "2014-05-01T00:00:00.000000000",
          "2014-06-01T00:00:00.000000000",
          "2014-07-01T00:00:00.000000000",
          "2014-08-01T00:00:00.000000000",
          "2014-09-01T00:00:00.000000000",
          "2014-10-01T00:00:00.000000000",
          "2014-11-01T00:00:00.000000000",
          "2014-12-01T00:00:00.000000000",
          "2015-01-01T00:00:00.000000000",
          "2015-02-01T00:00:00.000000000",
          "2015-03-01T00:00:00.000000000",
          "2015-04-01T00:00:00.000000000",
          "2015-05-01T00:00:00.000000000",
          "2015-06-01T00:00:00.000000000",
          "2015-07-01T00:00:00.000000000",
          "2015-08-01T00:00:00.000000000",
          "2015-09-01T00:00:00.000000000",
          "2015-10-01T00:00:00.000000000",
          "2015-11-01T00:00:00.000000000",
          "2015-12-01T00:00:00.000000000",
          "2016-01-01T00:00:00.000000000",
          "2016-02-01T00:00:00.000000000",
          "2016-03-01T00:00:00.000000000",
          "2016-04-01T00:00:00.000000000",
          "2016-05-01T00:00:00.000000000",
          "2016-06-01T00:00:00.000000000",
          "2016-07-01T00:00:00.000000000",
          "2016-08-01T00:00:00.000000000",
          "2016-09-01T00:00:00.000000000",
          "2016-10-01T00:00:00.000000000",
          "2016-11-01T00:00:00.000000000",
          "2016-12-01T00:00:00.000000000",
          "2017-01-01T00:00:00.000000000",
          "2017-02-01T00:00:00.000000000",
          "2017-03-01T00:00:00.000000000",
          "2017-04-01T00:00:00.000000000",
          "2017-05-01T00:00:00.000000000",
          "2017-06-01T00:00:00.000000000",
          "2017-07-01T00:00:00.000000000",
          "2017-08-01T00:00:00.000000000",
          "2017-09-01T00:00:00.000000000",
          "2017-10-01T00:00:00.000000000",
          "2017-11-01T00:00:00.000000000",
          "2017-12-01T00:00:00.000000000",
          "2018-01-01T00:00:00.000000000",
          "2018-02-01T00:00:00.000000000",
          "2018-03-01T00:00:00.000000000",
          "2018-04-01T00:00:00.000000000",
          "2018-05-01T00:00:00.000000000",
          "2018-06-01T00:00:00.000000000",
          "2018-07-01T00:00:00.000000000",
          "2018-08-01T00:00:00.000000000",
          "2018-09-01T00:00:00.000000000",
          "2018-10-01T00:00:00.000000000",
          "2018-11-01T00:00:00.000000000",
          "2018-12-01T00:00:00.000000000",
          "2019-01-01T00:00:00.000000000",
          "2019-02-01T00:00:00.000000000",
          "2019-03-01T00:00:00.000000000",
          "2019-04-01T00:00:00.000000000",
          "2019-05-01T00:00:00.000000000",
          "2019-06-01T00:00:00.000000000",
          "2019-07-01T00:00:00.000000000",
          "2019-08-01T00:00:00.000000000",
          "2019-09-01T00:00:00.000000000",
          "2019-10-01T00:00:00.000000000",
          "2019-11-01T00:00:00.000000000",
          "2019-12-01T00:00:00.000000000",
          "2020-01-01T00:00:00.000000000",
          "2020-02-01T00:00:00.000000000",
          "2020-03-01T00:00:00.000000000",
          "2020-04-01T00:00:00.000000000"
         ],
         "xaxis": "x",
         "y": {
          "bdata": "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",
          "dtype": "f8"
         },
         "yaxis": "y"
        },
        {
         "hovertemplate": "<b>%{fullData.name}</b><br>Date: %{x|%b %Y}<br>Total Return: %{y:.2f}%<extra></extra>",
         "legendgroup": "lifestrategy20",
         "line": {
          "color": "#FF7F0E",
          "dash": "solid"
         },
         "marker": {
          "symbol": "circle"
         },
         "mode": "lines",
         "name": "lifestrategy20",
         "showlegend": true,
         "type": "scattergl",
         "x": [
          "1985-01-01T00:00:00.000000000",
          "1985-02-01T00:00:00.000000000",
          "1985-03-01T00:00:00.000000000",
          "1985-04-01T00:00:00.000000000",
          "1985-05-01T00:00:00.000000000",
          "1985-06-01T00:00:00.000000000",
          "1985-07-01T00:00:00.000000000",
          "1985-08-01T00:00:00.000000000",
          "1985-09-01T00:00:00.000000000",
          "1985-10-01T00:00:00.000000000",
          "1985-11-01T00:00:00.000000000",
          "1985-12-01T00:00:00.000000000",
          "1986-01-01T00:00:00.000000000",
          "1986-02-01T00:00:00.000000000",
          "1986-03-01T00:00:00.000000000",
          "1986-04-01T00:00:00.000000000",
          "1986-05-01T00:00:00.000000000",
          "1986-06-01T00:00:00.000000000",
          "1986-07-01T00:00:00.000000000",
          "1986-08-01T00:00:00.000000000",
          "1986-09-01T00:00:00.000000000",
          "1986-10-01T00:00:00.000000000",
          "1986-11-01T00:00:00.000000000",
          "1986-12-01T00:00:00.000000000",
          "1987-01-01T00:00:00.000000000",
          "1987-02-01T00:00:00.000000000",
          "1987-03-01T00:00:00.000000000",
          "1987-04-01T00:00:00.000000000",
          "1987-05-01T00:00:00.000000000",
          "1987-06-01T00:00:00.000000000",
          "1987-07-01T00:00:00.000000000",
          "1987-08-01T00:00:00.000000000",
          "1987-09-01T00:00:00.000000000",
          "1987-10-01T00:00:00.000000000",
          "1987-11-01T00:00:00.000000000",
          "1987-12-01T00:00:00.000000000",
          "1988-01-01T00:00:00.000000000",
          "1988-02-01T00:00:00.000000000",
          "1988-03-01T00:00:00.000000000",
          "1988-04-01T00:00:00.000000000",
          "1988-05-01T00:00:00.000000000",
          "1988-06-01T00:00:00.000000000",
          "1988-07-01T00:00:00.000000000",
          "1988-08-01T00:00:00.000000000",
          "1988-09-01T00:00:00.000000000",
          "1988-10-01T00:00:00.000000000",
          "1988-11-01T00:00:00.000000000",
          "1988-12-01T00:00:00.000000000",
          "1989-01-01T00:00:00.000000000",
          "1989-02-01T00:00:00.000000000",
          "1989-03-01T00:00:00.000000000",
          "1989-04-01T00:00:00.000000000",
          "1989-05-01T00:00:00.000000000",
          "1989-06-01T00:00:00.000000000",
          "1989-07-01T00:00:00.000000000",
          "1989-08-01T00:00:00.000000000",
          "1989-09-01T00:00:00.000000000",
          "1989-10-01T00:00:00.000000000",
          "1989-11-01T00:00:00.000000000",
          "1989-12-01T00:00:00.000000000",
          "1990-01-01T00:00:00.000000000",
          "1990-02-01T00:00:00.000000000",
          "1990-03-01T00:00:00.000000000",
          "1990-04-01T00:00:00.000000000",
          "1990-05-01T00:00:00.000000000",
          "1990-06-01T00:00:00.000000000",
          "1990-07-01T00:00:00.000000000",
          "1990-08-01T00:00:00.000000000",
          "1990-09-01T00:00:00.000000000",
          "1990-10-01T00:00:00.000000000",
          "1990-11-01T00:00:00.000000000",
          "1990-12-01T00:00:00.000000000",
          "1991-01-01T00:00:00.000000000",
          "1991-02-01T00:00:00.000000000",
          "1991-03-01T00:00:00.000000000",
          "1991-04-01T00:00:00.000000000",
          "1991-05-01T00:00:00.000000000",
          "1991-06-01T00:00:00.000000000",
          "1991-07-01T00:00:00.000000000",
          "1991-08-01T00:00:00.000000000",
          "1991-09-01T00:00:00.000000000",
          "1991-10-01T00:00:00.000000000",
          "1991-11-01T00:00:00.000000000",
          "1991-12-01T00:00:00.000000000",
          "1992-01-01T00:00:00.000000000",
          "1992-02-01T00:00:00.000000000",
          "1992-03-01T00:00:00.000000000",
          "1992-04-01T00:00:00.000000000",
          "1992-05-01T00:00:00.000000000",
          "1992-06-01T00:00:00.000000000",
          "1992-07-01T00:00:00.000000000",
          "1992-08-01T00:00:00.000000000",
          "1992-09-01T00:00:00.000000000",
          "1992-10-01T00:00:00.000000000",
          "1992-11-01T00:00:00.000000000",
          "1992-12-01T00:00:00.000000000",
          "1993-01-01T00:00:00.000000000",
          "1993-02-01T00:00:00.000000000",
          "1993-03-01T00:00:00.000000000",
          "1993-04-01T00:00:00.000000000",
          "1993-05-01T00:00:00.000000000",
          "1993-06-01T00:00:00.000000000",
          "1993-07-01T00:00:00.000000000",
          "1993-08-01T00:00:00.000000000",
          "1993-09-01T00:00:00.000000000",
          "1993-10-01T00:00:00.000000000",
          "1993-11-01T00:00:00.000000000",
          "1993-12-01T00:00:00.000000000",
          "1994-01-01T00:00:00.000000000",
          "1994-02-01T00:00:00.000000000",
          "1994-03-01T00:00:00.000000000",
          "1994-04-01T00:00:00.000000000",
          "1994-05-01T00:00:00.000000000",
          "1994-06-01T00:00:00.000000000",
          "1994-07-01T00:00:00.000000000",
          "1994-08-01T00:00:00.000000000",
          "1994-09-01T00:00:00.000000000",
          "1994-10-01T00:00:00.000000000",
          "1994-11-01T00:00:00.000000000",
          "1994-12-01T00:00:00.000000000",
          "1995-01-01T00:00:00.000000000",
          "1995-02-01T00:00:00.000000000",
          "1995-03-01T00:00:00.000000000",
          "1995-04-01T00:00:00.000000000",
          "1995-05-01T00:00:00.000000000",
          "1995-06-01T00:00:00.000000000",
          "1995-07-01T00:00:00.000000000",
          "1995-08-01T00:00:00.000000000",
          "1995-09-01T00:00:00.000000000",
          "1995-10-01T00:00:00.000000000",
          "1995-11-01T00:00:00.000000000",
          "1995-12-01T00:00:00.000000000",
          "1996-01-01T00:00:00.000000000",
          "1996-02-01T00:00:00.000000000",
          "1996-03-01T00:00:00.000000000",
          "1996-04-01T00:00:00.000000000",
          "1996-05-01T00:00:00.000000000",
          "1996-06-01T00:00:00.000000000",
          "1996-07-01T00:00:00.000000000",
          "1996-08-01T00:00:00.000000000",
          "1996-09-01T00:00:00.000000000",
          "1996-10-01T00:00:00.000000000",
          "1996-11-01T00:00:00.000000000",
          "1996-12-01T00:00:00.000000000",
          "1997-01-01T00:00:00.000000000",
          "1997-02-01T00:00:00.000000000",
          "1997-03-01T00:00:00.000000000",
          "1997-04-01T00:00:00.000000000",
          "1997-05-01T00:00:00.000000000",
          "1997-06-01T00:00:00.000000000",
          "1997-07-01T00:00:00.000000000",
          "1997-08-01T00:00:00.000000000",
          "1997-09-01T00:00:00.000000000",
          "1997-10-01T00:00:00.000000000",
          "1997-11-01T00:00:00.000000000",
          "1997-12-01T00:00:00.000000000",
          "1998-01-01T00:00:00.000000000",
          "1998-02-01T00:00:00.000000000",
          "1998-03-01T00:00:00.000000000",
          "1998-04-01T00:00:00.000000000",
          "1998-05-01T00:00:00.000000000",
          "1998-06-01T00:00:00.000000000",
          "1998-07-01T00:00:00.000000000",
          "1998-08-01T00:00:00.000000000",
          "1998-09-01T00:00:00.000000000",
          "1998-10-01T00:00:00.000000000",
          "1998-11-01T00:00:00.000000000",
          "1998-12-01T00:00:00.000000000",
          "1999-01-01T00:00:00.000000000",
          "1999-02-01T00:00:00.000000000",
          "1999-03-01T00:00:00.000000000",
          "1999-04-01T00:00:00.000000000",
          "1999-05-01T00:00:00.000000000",
          "1999-07-01T00:00:00.000000000",
          "1999-09-01T00:00:00.000000000",
          "1999-10-01T00:00:00.000000000",
          "1999-11-01T00:00:00.000000000",
          "1999-12-01T00:00:00.000000000",
          "2000-01-01T00:00:00.000000000",
          "2000-03-01T00:00:00.000000000",
          "2000-04-01T00:00:00.000000000",
          "2000-05-01T00:00:00.000000000",
          "2000-06-01T00:00:00.000000000",
          "2000-07-01T00:00:00.000000000",
          "2000-08-01T00:00:00.000000000",
          "2000-09-01T00:00:00.000000000",
          "2000-10-01T00:00:00.000000000",
          "2000-11-01T00:00:00.000000000",
          "2000-12-01T00:00:00.000000000",
          "2001-01-01T00:00:00.000000000",
          "2001-02-01T00:00:00.000000000",
          "2001-03-01T00:00:00.000000000",
          "2001-04-01T00:00:00.000000000",
          "2001-05-01T00:00:00.000000000",
          "2001-06-01T00:00:00.000000000",
          "2001-07-01T00:00:00.000000000",
          "2001-08-01T00:00:00.000000000",
          "2001-09-01T00:00:00.000000000",
          "2001-10-01T00:00:00.000000000",
          "2001-11-01T00:00:00.000000000",
          "2001-12-01T00:00:00.000000000",
          "2002-02-01T00:00:00.000000000",
          "2002-03-01T00:00:00.000000000",
          "2002-04-01T00:00:00.000000000",
          "2002-05-01T00:00:00.000000000",
          "2002-06-01T00:00:00.000000000",
          "2002-07-01T00:00:00.000000000",
          "2002-08-01T00:00:00.000000000",
          "2002-09-01T00:00:00.000000000",
          "2002-10-01T00:00:00.000000000",
          "2002-11-01T00:00:00.000000000",
          "2002-12-01T00:00:00.000000000",
          "2003-01-01T00:00:00.000000000",
          "2003-02-01T00:00:00.000000000",
          "2003-03-01T00:00:00.000000000",
          "2003-04-01T00:00:00.000000000",
          "2003-05-01T00:00:00.000000000",
          "2003-06-01T00:00:00.000000000",
          "2003-08-01T00:00:00.000000000",
          "2003-09-01T00:00:00.000000000",
          "2003-10-01T00:00:00.000000000",
          "2003-11-01T00:00:00.000000000",
          "2003-12-01T00:00:00.000000000",
          "2004-01-01T00:00:00.000000000",
          "2004-02-01T00:00:00.000000000",
          "2004-03-01T00:00:00.000000000",
          "2004-04-01T00:00:00.000000000",
          "2004-05-01T00:00:00.000000000",
          "2004-06-01T00:00:00.000000000",
          "2004-07-01T00:00:00.000000000",
          "2004-08-01T00:00:00.000000000",
          "2004-09-01T00:00:00.000000000",
          "2004-10-01T00:00:00.000000000",
          "2004-11-01T00:00:00.000000000",
          "2004-12-01T00:00:00.000000000",
          "2005-01-01T00:00:00.000000000",
          "2005-02-01T00:00:00.000000000",
          "2005-03-01T00:00:00.000000000",
          "2005-04-01T00:00:00.000000000",
          "2005-05-01T00:00:00.000000000",
          "2005-06-01T00:00:00.000000000",
          "2005-07-01T00:00:00.000000000",
          "2005-08-01T00:00:00.000000000",
          "2005-09-01T00:00:00.000000000",
          "2005-10-01T00:00:00.000000000",
          "2005-11-01T00:00:00.000000000",
          "2005-12-01T00:00:00.000000000",
          "2006-01-01T00:00:00.000000000",
          "2006-02-01T00:00:00.000000000",
          "2006-03-01T00:00:00.000000000",
          "2006-04-01T00:00:00.000000000",
          "2006-05-01T00:00:00.000000000",
          "2006-06-01T00:00:00.000000000",
          "2006-07-01T00:00:00.000000000",
          "2006-08-01T00:00:00.000000000",
          "2006-09-01T00:00:00.000000000",
          "2006-10-01T00:00:00.000000000",
          "2006-11-01T00:00:00.000000000",
          "2006-12-01T00:00:00.000000000",
          "2007-01-01T00:00:00.000000000",
          "2007-02-01T00:00:00.000000000",
          "2007-03-01T00:00:00.000000000",
          "2007-04-01T00:00:00.000000000",
          "2007-05-01T00:00:00.000000000",
          "2007-06-01T00:00:00.000000000",
          "2007-07-01T00:00:00.000000000",
          "2007-08-01T00:00:00.000000000",
          "2007-09-01T00:00:00.000000000",
          "2007-10-01T00:00:00.000000000",
          "2007-11-01T00:00:00.000000000",
          "2007-12-01T00:00:00.000000000",
          "2008-01-01T00:00:00.000000000",
          "2008-02-01T00:00:00.000000000",
          "2008-03-01T00:00:00.000000000",
          "2008-04-01T00:00:00.000000000",
          "2008-05-01T00:00:00.000000000",
          "2008-06-01T00:00:00.000000000",
          "2008-07-01T00:00:00.000000000",
          "2008-08-01T00:00:00.000000000",
          "2008-09-01T00:00:00.000000000",
          "2008-11-01T00:00:00.000000000",
          "2008-12-01T00:00:00.000000000",
          "2009-01-01T00:00:00.000000000",
          "2009-02-01T00:00:00.000000000",
          "2009-04-01T00:00:00.000000000",
          "2009-05-01T00:00:00.000000000",
          "2009-06-01T00:00:00.000000000",
          "2009-07-01T00:00:00.000000000",
          "2009-08-01T00:00:00.000000000",
          "2009-09-01T00:00:00.000000000",
          "2009-10-01T00:00:00.000000000",
          "2009-11-01T00:00:00.000000000",
          "2009-12-01T00:00:00.000000000",
          "2010-01-01T00:00:00.000000000",
          "2010-02-01T00:00:00.000000000",
          "2010-03-01T00:00:00.000000000",
          "2010-04-01T00:00:00.000000000",
          "2010-05-01T00:00:00.000000000",
          "2010-06-01T00:00:00.000000000",
          "2010-07-01T00:00:00.000000000",
          "2010-08-01T00:00:00.000000000",
          "2010-09-01T00:00:00.000000000",
          "2010-10-01T00:00:00.000000000",
          "2010-11-01T00:00:00.000000000",
          "2010-12-01T00:00:00.000000000",
          "2011-01-01T00:00:00.000000000",
          "2011-02-01T00:00:00.000000000",
          "2011-03-01T00:00:00.000000000",
          "2011-04-01T00:00:00.000000000",
          "2011-05-01T00:00:00.000000000",
          "2011-06-01T00:00:00.000000000",
          "2011-07-01T00:00:00.000000000",
          "2011-08-01T00:00:00.000000000",
          "2011-09-01T00:00:00.000000000",
          "2011-10-01T00:00:00.000000000",
          "2011-11-01T00:00:00.000000000",
          "2011-12-01T00:00:00.000000000",
          "2012-01-01T00:00:00.000000000",
          "2012-02-01T00:00:00.000000000",
          "2012-03-01T00:00:00.000000000",
          "2012-04-01T00:00:00.000000000",
          "2012-05-01T00:00:00.000000000",
          "2012-06-01T00:00:00.000000000",
          "2012-07-01T00:00:00.000000000",
          "2012-08-01T00:00:00.000000000",
          "2012-09-01T00:00:00.000000000",
          "2012-10-01T00:00:00.000000000",
          "2012-11-01T00:00:00.000000000",
          "2012-12-01T00:00:00.000000000",
          "2013-01-01T00:00:00.000000000",
          "2013-02-01T00:00:00.000000000",
          "2013-03-01T00:00:00.000000000",
          "2013-04-01T00:00:00.000000000",
          "2013-05-01T00:00:00.000000000",
          "2013-06-01T00:00:00.000000000",
          "2013-07-01T00:00:00.000000000",
          "2013-08-01T00:00:00.000000000",
          "2013-09-01T00:00:00.000000000",
          "2013-10-01T00:00:00.000000000",
          "2013-11-01T00:00:00.000000000",
          "2013-12-01T00:00:00.000000000",
          "2014-01-01T00:00:00.000000000",
          "2014-02-01T00:00:00.000000000",
          "2014-03-01T00:00:00.000000000",
          "2014-04-01T00:00:00.000000000",
          "2014-05-01T00:00:00.000000000",
          "2014-06-01T00:00:00.000000000",
          "2014-07-01T00:00:00.000000000",
          "2014-08-01T00:00:00.000000000",
          "2014-09-01T00:00:00.000000000",
          "2014-10-01T00:00:00.000000000",
          "2014-11-01T00:00:00.000000000",
          "2014-12-01T00:00:00.000000000",
          "2015-01-01T00:00:00.000000000",
          "2015-02-01T00:00:00.000000000",
          "2015-03-01T00:00:00.000000000",
          "2015-04-01T00:00:00.000000000",
          "2015-05-01T00:00:00.000000000",
          "2015-06-01T00:00:00.000000000",
          "2015-07-01T00:00:00.000000000",
          "2015-08-01T00:00:00.000000000",
          "2015-09-01T00:00:00.000000000",
          "2015-10-01T00:00:00.000000000",
          "2015-11-01T00:00:00.000000000",
          "2015-12-01T00:00:00.000000000",
          "2016-01-01T00:00:00.000000000",
          "2016-02-01T00:00:00.000000000",
          "2016-03-01T00:00:00.000000000",
          "2016-04-01T00:00:00.000000000",
          "2016-05-01T00:00:00.000000000",
          "2016-06-01T00:00:00.000000000",
          "2016-07-01T00:00:00.000000000",
          "2016-08-01T00:00:00.000000000",
          "2016-09-01T00:00:00.000000000",
          "2016-10-01T00:00:00.000000000",
          "2016-11-01T00:00:00.000000000",
          "2016-12-01T00:00:00.000000000",
          "2017-01-01T00:00:00.000000000",
          "2017-02-01T00:00:00.000000000",
          "2017-03-01T00:00:00.000000000",
          "2017-04-01T00:00:00.000000000",
          "2017-05-01T00:00:00.000000000",
          "2017-06-01T00:00:00.000000000",
          "2017-07-01T00:00:00.000000000",
          "2017-08-01T00:00:00.000000000",
          "2017-09-01T00:00:00.000000000",
          "2017-10-01T00:00:00.000000000",
          "2017-11-01T00:00:00.000000000",
          "2017-12-01T00:00:00.000000000",
          "2018-01-01T00:00:00.000000000",
          "2018-02-01T00:00:00.000000000",
          "2018-03-01T00:00:00.000000000",
          "2018-04-01T00:00:00.000000000",
          "2018-05-01T00:00:00.000000000",
          "2018-06-01T00:00:00.000000000",
          "2018-07-01T00:00:00.000000000",
          "2018-08-01T00:00:00.000000000",
          "2018-09-01T00:00:00.000000000",
          "2018-10-01T00:00:00.000000000",
          "2018-11-01T00:00:00.000000000",
          "2018-12-01T00:00:00.000000000",
          "2019-01-01T00:00:00.000000000",
          "2019-02-01T00:00:00.000000000",
          "2019-03-01T00:00:00.000000000",
          "2019-04-01T00:00:00.000000000",
          "2019-05-01T00:00:00.000000000",
          "2019-06-01T00:00:00.000000000",
          "2019-07-01T00:00:00.000000000",
          "2019-08-01T00:00:00.000000000",
          "2019-09-01T00:00:00.000000000",
          "2019-10-01T00:00:00.000000000",
          "2019-11-01T00:00:00.000000000",
          "2019-12-01T00:00:00.000000000",
          "2020-01-01T00:00:00.000000000",
          "2020-02-01T00:00:00.000000000",
          "2020-03-01T00:00:00.000000000",
          "2020-04-01T00:00:00.000000000"
         ],
         "xaxis": "x",
         "y": {
          "bdata": "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",
          "dtype": "f8"
         },
         "yaxis": "y"
        },
        {
         "hovertemplate": "<b>%{fullData.name}</b><br>Date: %{x|%b %Y}<br>Total Return: %{y:.2f}%<extra></extra>",
         "legendgroup": "lifestrategy0",
         "line": {
          "color": "#2CA02C",
          "dash": "solid"
         },
         "marker": {
          "symbol": "circle"
         },
         "mode": "lines",
         "name": "lifestrategy0",
         "showlegend": true,
         "type": "scattergl",
         "x": [
          "1985-01-01T00:00:00.000000000",
          "1985-02-01T00:00:00.000000000",
          "1985-03-01T00:00:00.000000000",
          "1985-04-01T00:00:00.000000000",
          "1985-05-01T00:00:00.000000000",
          "1985-06-01T00:00:00.000000000",
          "1985-07-01T00:00:00.000000000",
          "1985-08-01T00:00:00.000000000",
          "1985-09-01T00:00:00.000000000",
          "1985-10-01T00:00:00.000000000",
          "1985-11-01T00:00:00.000000000",
          "1985-12-01T00:00:00.000000000",
          "1986-01-01T00:00:00.000000000",
          "1986-02-01T00:00:00.000000000",
          "1986-03-01T00:00:00.000000000",
          "1986-04-01T00:00:00.000000000",
          "1986-05-01T00:00:00.000000000",
          "1986-06-01T00:00:00.000000000",
          "1986-07-01T00:00:00.000000000",
          "1986-08-01T00:00:00.000000000",
          "1986-09-01T00:00:00.000000000",
          "1986-10-01T00:00:00.000000000",
          "1986-11-01T00:00:00.000000000",
          "1986-12-01T00:00:00.000000000",
          "1987-01-01T00:00:00.000000000",
          "1987-02-01T00:00:00.000000000",
          "1987-03-01T00:00:00.000000000",
          "1987-04-01T00:00:00.000000000",
          "1987-05-01T00:00:00.000000000",
          "1987-06-01T00:00:00.000000000",
          "1987-07-01T00:00:00.000000000",
          "1987-08-01T00:00:00.000000000",
          "1987-09-01T00:00:00.000000000",
          "1987-10-01T00:00:00.000000000",
          "1987-11-01T00:00:00.000000000",
          "1987-12-01T00:00:00.000000000",
          "1988-01-01T00:00:00.000000000",
          "1988-02-01T00:00:00.000000000",
          "1988-03-01T00:00:00.000000000",
          "1988-04-01T00:00:00.000000000",
          "1988-05-01T00:00:00.000000000",
          "1988-06-01T00:00:00.000000000",
          "1988-07-01T00:00:00.000000000",
          "1988-08-01T00:00:00.000000000",
          "1988-09-01T00:00:00.000000000",
          "1988-10-01T00:00:00.000000000",
          "1988-11-01T00:00:00.000000000",
          "1988-12-01T00:00:00.000000000",
          "1989-01-01T00:00:00.000000000",
          "1989-02-01T00:00:00.000000000",
          "1989-03-01T00:00:00.000000000",
          "1989-04-01T00:00:00.000000000",
          "1989-05-01T00:00:00.000000000",
          "1989-06-01T00:00:00.000000000",
          "1989-07-01T00:00:00.000000000",
          "1989-08-01T00:00:00.000000000",
          "1989-09-01T00:00:00.000000000",
          "1989-10-01T00:00:00.000000000",
          "1989-11-01T00:00:00.000000000",
          "1989-12-01T00:00:00.000000000",
          "1990-01-01T00:00:00.000000000",
          "1990-02-01T00:00:00.000000000",
          "1990-03-01T00:00:00.000000000",
          "1990-04-01T00:00:00.000000000",
          "1990-05-01T00:00:00.000000000",
          "1990-06-01T00:00:00.000000000",
          "1990-07-01T00:00:00.000000000",
          "1990-08-01T00:00:00.000000000",
          "1990-09-01T00:00:00.000000000",
          "1990-10-01T00:00:00.000000000",
          "1990-11-01T00:00:00.000000000",
          "1990-12-01T00:00:00.000000000",
          "1991-01-01T00:00:00.000000000",
          "1991-02-01T00:00:00.000000000",
          "1991-03-01T00:00:00.000000000",
          "1991-04-01T00:00:00.000000000",
          "1991-05-01T00:00:00.000000000",
          "1991-06-01T00:00:00.000000000",
          "1991-07-01T00:00:00.000000000",
          "1991-08-01T00:00:00.000000000",
          "1991-09-01T00:00:00.000000000",
          "1991-10-01T00:00:00.000000000",
          "1991-11-01T00:00:00.000000000",
          "1991-12-01T00:00:00.000000000",
          "1992-01-01T00:00:00.000000000",
          "1992-02-01T00:00:00.000000000",
          "1992-03-01T00:00:00.000000000",
          "1992-04-01T00:00:00.000000000",
          "1992-05-01T00:00:00.000000000",
          "1992-06-01T00:00:00.000000000",
          "1992-07-01T00:00:00.000000000",
          "1992-08-01T00:00:00.000000000",
          "1992-09-01T00:00:00.000000000",
          "1992-10-01T00:00:00.000000000",
          "1992-11-01T00:00:00.000000000",
          "1992-12-01T00:00:00.000000000",
          "1993-01-01T00:00:00.000000000",
          "1993-02-01T00:00:00.000000000",
          "1993-03-01T00:00:00.000000000",
          "1993-04-01T00:00:00.000000000",
          "1993-05-01T00:00:00.000000000",
          "1993-06-01T00:00:00.000000000",
          "1993-07-01T00:00:00.000000000",
          "1993-08-01T00:00:00.000000000",
          "1993-09-01T00:00:00.000000000",
          "1993-10-01T00:00:00.000000000",
          "1993-11-01T00:00:00.000000000",
          "1993-12-01T00:00:00.000000000",
          "1994-01-01T00:00:00.000000000",
          "1994-02-01T00:00:00.000000000",
          "1994-03-01T00:00:00.000000000",
          "1994-04-01T00:00:00.000000000",
          "1994-05-01T00:00:00.000000000",
          "1994-06-01T00:00:00.000000000",
          "1994-07-01T00:00:00.000000000",
          "1994-08-01T00:00:00.000000000",
          "1994-09-01T00:00:00.000000000",
          "1994-10-01T00:00:00.000000000",
          "1994-11-01T00:00:00.000000000",
          "1994-12-01T00:00:00.000000000",
          "1995-01-01T00:00:00.000000000",
          "1995-02-01T00:00:00.000000000",
          "1995-03-01T00:00:00.000000000",
          "1995-04-01T00:00:00.000000000",
          "1995-05-01T00:00:00.000000000",
          "1995-06-01T00:00:00.000000000",
          "1995-07-01T00:00:00.000000000",
          "1995-08-01T00:00:00.000000000",
          "1995-09-01T00:00:00.000000000",
          "1995-10-01T00:00:00.000000000",
          "1995-11-01T00:00:00.000000000",
          "1995-12-01T00:00:00.000000000",
          "1996-01-01T00:00:00.000000000",
          "1996-02-01T00:00:00.000000000",
          "1996-03-01T00:00:00.000000000",
          "1996-04-01T00:00:00.000000000",
          "1996-05-01T00:00:00.000000000",
          "1996-06-01T00:00:00.000000000",
          "1996-07-01T00:00:00.000000000",
          "1996-08-01T00:00:00.000000000",
          "1996-09-01T00:00:00.000000000",
          "1996-10-01T00:00:00.000000000",
          "1996-11-01T00:00:00.000000000",
          "1996-12-01T00:00:00.000000000",
          "1997-01-01T00:00:00.000000000",
          "1997-02-01T00:00:00.000000000",
          "1997-03-01T00:00:00.000000000",
          "1997-04-01T00:00:00.000000000",
          "1997-05-01T00:00:00.000000000",
          "1997-06-01T00:00:00.000000000",
          "1997-07-01T00:00:00.000000000",
          "1997-08-01T00:00:00.000000000",
          "1997-09-01T00:00:00.000000000",
          "1997-10-01T00:00:00.000000000",
          "1997-11-01T00:00:00.000000000",
          "1997-12-01T00:00:00.000000000",
          "1998-01-01T00:00:00.000000000",
          "1998-02-01T00:00:00.000000000",
          "1998-03-01T00:00:00.000000000",
          "1998-04-01T00:00:00.000000000",
          "1998-05-01T00:00:00.000000000",
          "1998-06-01T00:00:00.000000000",
          "1998-07-01T00:00:00.000000000",
          "1998-08-01T00:00:00.000000000",
          "1998-09-01T00:00:00.000000000",
          "1998-10-01T00:00:00.000000000",
          "1998-11-01T00:00:00.000000000",
          "1998-12-01T00:00:00.000000000",
          "1999-01-01T00:00:00.000000000",
          "1999-02-01T00:00:00.000000000",
          "1999-03-01T00:00:00.000000000",
          "1999-04-01T00:00:00.000000000",
          "1999-05-01T00:00:00.000000000",
          "1999-07-01T00:00:00.000000000",
          "1999-09-01T00:00:00.000000000",
          "1999-10-01T00:00:00.000000000",
          "1999-11-01T00:00:00.000000000",
          "1999-12-01T00:00:00.000000000",
          "2000-01-01T00:00:00.000000000",
          "2000-03-01T00:00:00.000000000",
          "2000-04-01T00:00:00.000000000",
          "2000-05-01T00:00:00.000000000",
          "2000-06-01T00:00:00.000000000",
          "2000-07-01T00:00:00.000000000",
          "2000-08-01T00:00:00.000000000",
          "2000-09-01T00:00:00.000000000",
          "2000-10-01T00:00:00.000000000",
          "2000-11-01T00:00:00.000000000",
          "2000-12-01T00:00:00.000000000",
          "2001-01-01T00:00:00.000000000",
          "2001-02-01T00:00:00.000000000",
          "2001-03-01T00:00:00.000000000",
          "2001-04-01T00:00:00.000000000",
          "2001-05-01T00:00:00.000000000",
          "2001-06-01T00:00:00.000000000",
          "2001-07-01T00:00:00.000000000",
          "2001-08-01T00:00:00.000000000",
          "2001-09-01T00:00:00.000000000",
          "2001-10-01T00:00:00.000000000",
          "2001-11-01T00:00:00.000000000",
          "2001-12-01T00:00:00.000000000",
          "2002-02-01T00:00:00.000000000",
          "2002-03-01T00:00:00.000000000",
          "2002-04-01T00:00:00.000000000",
          "2002-05-01T00:00:00.000000000",
          "2002-06-01T00:00:00.000000000",
          "2002-07-01T00:00:00.000000000",
          "2002-08-01T00:00:00.000000000",
          "2002-09-01T00:00:00.000000000",
          "2002-10-01T00:00:00.000000000",
          "2002-11-01T00:00:00.000000000",
          "2002-12-01T00:00:00.000000000",
          "2003-01-01T00:00:00.000000000",
          "2003-02-01T00:00:00.000000000",
          "2003-03-01T00:00:00.000000000",
          "2003-04-01T00:00:00.000000000",
          "2003-05-01T00:00:00.000000000",
          "2003-06-01T00:00:00.000000000",
          "2003-08-01T00:00:00.000000000",
          "2003-09-01T00:00:00.000000000",
          "2003-10-01T00:00:00.000000000",
          "2003-11-01T00:00:00.000000000",
          "2003-12-01T00:00:00.000000000",
          "2004-01-01T00:00:00.000000000",
          "2004-02-01T00:00:00.000000000",
          "2004-03-01T00:00:00.000000000",
          "2004-04-01T00:00:00.000000000",
          "2004-05-01T00:00:00.000000000",
          "2004-06-01T00:00:00.000000000",
          "2004-07-01T00:00:00.000000000",
          "2004-08-01T00:00:00.000000000",
          "2004-09-01T00:00:00.000000000",
          "2004-10-01T00:00:00.000000000",
          "2004-11-01T00:00:00.000000000",
          "2004-12-01T00:00:00.000000000",
          "2005-01-01T00:00:00.000000000",
          "2005-02-01T00:00:00.000000000",
          "2005-03-01T00:00:00.000000000",
          "2005-04-01T00:00:00.000000000",
          "2005-05-01T00:00:00.000000000",
          "2005-06-01T00:00:00.000000000",
          "2005-07-01T00:00:00.000000000",
          "2005-08-01T00:00:00.000000000",
          "2005-09-01T00:00:00.000000000",
          "2005-10-01T00:00:00.000000000",
          "2005-11-01T00:00:00.000000000",
          "2005-12-01T00:00:00.000000000",
          "2006-01-01T00:00:00.000000000",
          "2006-02-01T00:00:00.000000000",
          "2006-03-01T00:00:00.000000000",
          "2006-04-01T00:00:00.000000000",
          "2006-05-01T00:00:00.000000000",
          "2006-06-01T00:00:00.000000000",
          "2006-07-01T00:00:00.000000000",
          "2006-08-01T00:00:00.000000000",
          "2006-09-01T00:00:00.000000000",
          "2006-10-01T00:00:00.000000000",
          "2006-11-01T00:00:00.000000000",
          "2006-12-01T00:00:00.000000000",
          "2007-01-01T00:00:00.000000000",
          "2007-02-01T00:00:00.000000000",
          "2007-03-01T00:00:00.000000000",
          "2007-04-01T00:00:00.000000000",
          "2007-05-01T00:00:00.000000000",
          "2007-06-01T00:00:00.000000000",
          "2007-07-01T00:00:00.000000000",
          "2007-08-01T00:00:00.000000000",
          "2007-09-01T00:00:00.000000000",
          "2007-10-01T00:00:00.000000000",
          "2007-11-01T00:00:00.000000000",
          "2007-12-01T00:00:00.000000000",
          "2008-01-01T00:00:00.000000000",
          "2008-02-01T00:00:00.000000000",
          "2008-03-01T00:00:00.000000000",
          "2008-04-01T00:00:00.000000000",
          "2008-05-01T00:00:00.000000000",
          "2008-06-01T00:00:00.000000000",
          "2008-07-01T00:00:00.000000000",
          "2008-08-01T00:00:00.000000000",
          "2008-09-01T00:00:00.000000000",
          "2008-11-01T00:00:00.000000000",
          "2008-12-01T00:00:00.000000000",
          "2009-01-01T00:00:00.000000000",
          "2009-02-01T00:00:00.000000000",
          "2009-04-01T00:00:00.000000000",
          "2009-05-01T00:00:00.000000000",
          "2009-06-01T00:00:00.000000000",
          "2009-07-01T00:00:00.000000000",
          "2009-08-01T00:00:00.000000000",
          "2009-09-01T00:00:00.000000000",
          "2009-10-01T00:00:00.000000000",
          "2009-11-01T00:00:00.000000000",
          "2009-12-01T00:00:00.000000000",
          "2010-01-01T00:00:00.000000000",
          "2010-02-01T00:00:00.000000000",
          "2010-03-01T00:00:00.000000000",
          "2010-04-01T00:00:00.000000000",
          "2010-05-01T00:00:00.000000000",
          "2010-06-01T00:00:00.000000000",
          "2010-07-01T00:00:00.000000000",
          "2010-08-01T00:00:00.000000000",
          "2010-09-01T00:00:00.000000000",
          "2010-10-01T00:00:00.000000000",
          "2010-11-01T00:00:00.000000000",
          "2010-12-01T00:00:00.000000000",
          "2011-01-01T00:00:00.000000000",
          "2011-02-01T00:00:00.000000000",
          "2011-03-01T00:00:00.000000000",
          "2011-04-01T00:00:00.000000000",
          "2011-05-01T00:00:00.000000000",
          "2011-06-01T00:00:00.000000000",
          "2011-07-01T00:00:00.000000000",
          "2011-08-01T00:00:00.000000000",
          "2011-09-01T00:00:00.000000000",
          "2011-10-01T00:00:00.000000000",
          "2011-11-01T00:00:00.000000000",
          "2011-12-01T00:00:00.000000000",
          "2012-01-01T00:00:00.000000000",
          "2012-02-01T00:00:00.000000000",
          "2012-03-01T00:00:00.000000000",
          "2012-04-01T00:00:00.000000000",
          "2012-05-01T00:00:00.000000000",
          "2012-06-01T00:00:00.000000000",
          "2012-07-01T00:00:00.000000000",
          "2012-08-01T00:00:00.000000000",
          "2012-09-01T00:00:00.000000000",
          "2012-10-01T00:00:00.000000000",
          "2012-11-01T00:00:00.000000000",
          "2012-12-01T00:00:00.000000000",
          "2013-01-01T00:00:00.000000000",
          "2013-02-01T00:00:00.000000000",
          "2013-03-01T00:00:00.000000000",
          "2013-04-01T00:00:00.000000000",
          "2013-05-01T00:00:00.000000000",
          "2013-06-01T00:00:00.000000000",
          "2013-07-01T00:00:00.000000000",
          "2013-08-01T00:00:00.000000000",
          "2013-09-01T00:00:00.000000000",
          "2013-10-01T00:00:00.000000000",
          "2013-11-01T00:00:00.000000000",
          "2013-12-01T00:00:00.000000000",
          "2014-01-01T00:00:00.000000000",
          "2014-02-01T00:00:00.000000000",
          "2014-03-01T00:00:00.000000000",
          "2014-04-01T00:00:00.000000000",
          "2014-05-01T00:00:00.000000000",
          "2014-06-01T00:00:00.000000000",
          "2014-07-01T00:00:00.000000000",
          "2014-08-01T00:00:00.000000000",
          "2014-09-01T00:00:00.000000000",
          "2014-10-01T00:00:00.000000000",
          "2014-11-01T00:00:00.000000000",
          "2014-12-01T00:00:00.000000000",
          "2015-01-01T00:00:00.000000000",
          "2015-02-01T00:00:00.000000000",
          "2015-03-01T00:00:00.000000000",
          "2015-04-01T00:00:00.000000000",
          "2015-05-01T00:00:00.000000000",
          "2015-06-01T00:00:00.000000000",
          "2015-07-01T00:00:00.000000000",
          "2015-08-01T00:00:00.000000000",
          "2015-09-01T00:00:00.000000000",
          "2015-10-01T00:00:00.000000000",
          "2015-11-01T00:00:00.000000000",
          "2015-12-01T00:00:00.000000000",
          "2016-01-01T00:00:00.000000000",
          "2016-02-01T00:00:00.000000000",
          "2016-03-01T00:00:00.000000000",
          "2016-04-01T00:00:00.000000000",
          "2016-05-01T00:00:00.000000000",
          "2016-06-01T00:00:00.000000000",
          "2016-07-01T00:00:00.000000000",
          "2016-08-01T00:00:00.000000000",
          "2016-09-01T00:00:00.000000000",
          "2016-10-01T00:00:00.000000000",
          "2016-11-01T00:00:00.000000000",
          "2016-12-01T00:00:00.000000000",
          "2017-01-01T00:00:00.000000000",
          "2017-02-01T00:00:00.000000000",
          "2017-03-01T00:00:00.000000000",
          "2017-04-01T00:00:00.000000000",
          "2017-05-01T00:00:00.000000000",
          "2017-06-01T00:00:00.000000000",
          "2017-07-01T00:00:00.000000000",
          "2017-08-01T00:00:00.000000000",
          "2017-09-01T00:00:00.000000000",
          "2017-10-01T00:00:00.000000000",
          "2017-11-01T00:00:00.000000000",
          "2017-12-01T00:00:00.000000000",
          "2018-01-01T00:00:00.000000000",
          "2018-02-01T00:00:00.000000000",
          "2018-03-01T00:00:00.000000000",
          "2018-04-01T00:00:00.000000000",
          "2018-05-01T00:00:00.000000000",
          "2018-06-01T00:00:00.000000000",
          "2018-07-01T00:00:00.000000000",
          "2018-08-01T00:00:00.000000000",
          "2018-09-01T00:00:00.000000000",
          "2018-10-01T00:00:00.000000000",
          "2018-11-01T00:00:00.000000000",
          "2018-12-01T00:00:00.000000000",
          "2019-01-01T00:00:00.000000000",
          "2019-02-01T00:00:00.000000000",
          "2019-03-01T00:00:00.000000000",
          "2019-04-01T00:00:00.000000000",
          "2019-05-01T00:00:00.000000000",
          "2019-06-01T00:00:00.000000000",
          "2019-07-01T00:00:00.000000000",
          "2019-08-01T00:00:00.000000000",
          "2019-09-01T00:00:00.000000000",
          "2019-10-01T00:00:00.000000000",
          "2019-11-01T00:00:00.000000000",
          "2019-12-01T00:00:00.000000000",
          "2020-01-01T00:00:00.000000000",
          "2020-02-01T00:00:00.000000000",
          "2020-03-01T00:00:00.000000000",
          "2020-04-01T00:00:00.000000000"
         ],
         "xaxis": "x",
         "y": {
          "bdata": "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",
          "dtype": "f8"
         },
         "yaxis": "y"
        }
       ],
       "layout": {
        "font": {
         "color": "black"
        },
        "height": 800,
        "legend": {
         "font": {
          "size": 22
         },
         "orientation": "h",
         "title": {
          "text": "Portfolio"
         },
         "tracegroupgap": 0,
         "x": 0.5,
         "xanchor": "center",
         "y": 1.05,
         "yanchor": "bottom"
        },
        "template": {
         "data": {
          "bar": [
           {
            "error_x": {
             "color": "rgb(36,36,36)"
            },
            "error_y": {
             "color": "rgb(36,36,36)"
            },
            "marker": {
             "line": {
              "color": "white",
              "width": 0.5
             },
             "pattern": {
              "fillmode": "overlay",
              "size": 10,
              "solidity": 0.2
             }
            },
            "type": "bar"
           }
          ],
          "barpolar": [
           {
            "marker": {
             "line": {
              "color": "white",
              "width": 0.5
             },
             "pattern": {
              "fillmode": "overlay",
              "size": 10,
              "solidity": 0.2
             }
            },
            "type": "barpolar"
           }
          ],
          "carpet": [
           {
            "aaxis": {
             "endlinecolor": "rgb(36,36,36)",
             "gridcolor": "white",
             "linecolor": "white",
             "minorgridcolor": "white",
             "startlinecolor": "rgb(36,36,36)"
            },
            "baxis": {
             "endlinecolor": "rgb(36,36,36)",
             "gridcolor": "white",
             "linecolor": "white",
             "minorgridcolor": "white",
             "startlinecolor": "rgb(36,36,36)"
            },
            "type": "carpet"
           }
          ],
          "choropleth": [
           {
            "colorbar": {
             "outlinewidth": 1,
             "tickcolor": "rgb(36,36,36)",
             "ticks": "outside"
            },
            "type": "choropleth"
           }
          ],
          "contour": [
           {
            "colorbar": {
             "outlinewidth": 1,
             "tickcolor": "rgb(36,36,36)",
             "ticks": "outside"
            },
            "colorscale": [
             [
              0,
              "#440154"
             ],
             [
              0.1111111111111111,
              "#482878"
             ],
             [
              0.2222222222222222,
              "#3e4989"
             ],
             [
              0.3333333333333333,
              "#31688e"
             ],
             [
              0.4444444444444444,
              "#26828e"
             ],
             [
              0.5555555555555556,
              "#1f9e89"
             ],
             [
              0.6666666666666666,
              "#35b779"
             ],
             [
              0.7777777777777778,
              "#6ece58"
             ],
             [
              0.8888888888888888,
              "#b5de2b"
             ],
             [
              1,
              "#fde725"
             ]
            ],
            "type": "contour"
           }
          ],
          "contourcarpet": [
           {
            "colorbar": {
             "outlinewidth": 1,
             "tickcolor": "rgb(36,36,36)",
             "ticks": "outside"
            },
            "type": "contourcarpet"
           }
          ],
          "heatmap": [
           {
            "colorbar": {
             "outlinewidth": 1,
             "tickcolor": "rgb(36,36,36)",
             "ticks": "outside"
            },
            "colorscale": [
             [
              0,
              "#440154"
             ],
             [
              0.1111111111111111,
              "#482878"
             ],
             [
              0.2222222222222222,
              "#3e4989"
             ],
             [
              0.3333333333333333,
              "#31688e"
             ],
             [
              0.4444444444444444,
              "#26828e"
             ],
             [
              0.5555555555555556,
              "#1f9e89"
             ],
             [
              0.6666666666666666,
              "#35b779"
             ],
             [
              0.7777777777777778,
              "#6ece58"
             ],
             [
              0.8888888888888888,
              "#b5de2b"
             ],
             [
              1,
              "#fde725"
             ]
            ],
            "type": "heatmap"
           }
          ],
          "histogram": [
           {
            "marker": {
             "line": {
              "color": "white",
              "width": 0.6
             }
            },
            "type": "histogram"
           }
          ],
          "histogram2d": [
           {
            "colorbar": {
             "outlinewidth": 1,
             "tickcolor": "rgb(36,36,36)",
             "ticks": "outside"
            },
            "colorscale": [
             [
              0,
              "#440154"
             ],
             [
              0.1111111111111111,
              "#482878"
             ],
             [
              0.2222222222222222,
              "#3e4989"
             ],
             [
              0.3333333333333333,
              "#31688e"
             ],
             [
              0.4444444444444444,
              "#26828e"
             ],
             [
              0.5555555555555556,
              "#1f9e89"
             ],
             [
              0.6666666666666666,
              "#35b779"
             ],
             [
              0.7777777777777778,
              "#6ece58"
             ],
             [
              0.8888888888888888,
              "#b5de2b"
             ],
             [
              1,
              "#fde725"
             ]
            ],
            "type": "histogram2d"
           }
          ],
          "histogram2dcontour": [
           {
            "colorbar": {
             "outlinewidth": 1,
             "tickcolor": "rgb(36,36,36)",
             "ticks": "outside"
            },
            "colorscale": [
             [
              0,
              "#440154"
             ],
             [
              0.1111111111111111,
              "#482878"
             ],
             [
              0.2222222222222222,
              "#3e4989"
             ],
             [
              0.3333333333333333,
              "#31688e"
             ],
             [
              0.4444444444444444,
              "#26828e"
             ],
             [
              0.5555555555555556,
              "#1f9e89"
             ],
             [
              0.6666666666666666,
              "#35b779"
             ],
             [
              0.7777777777777778,
              "#6ece58"
             ],
             [
              0.8888888888888888,
              "#b5de2b"
             ],
             [
              1,
              "#fde725"
             ]
            ],
            "type": "histogram2dcontour"
           }
          ],
          "mesh3d": [
           {
            "colorbar": {
             "outlinewidth": 1,
             "tickcolor": "rgb(36,36,36)",
             "ticks": "outside"
            },
            "type": "mesh3d"
           }
          ],
          "parcoords": [
           {
            "line": {
             "colorbar": {
              "outlinewidth": 1,
              "tickcolor": "rgb(36,36,36)",
              "ticks": "outside"
             }
            },
            "type": "parcoords"
           }
          ],
          "pie": [
           {
            "automargin": true,
            "type": "pie"
           }
          ],
          "scatter": [
           {
            "fillpattern": {
             "fillmode": "overlay",
             "size": 10,
             "solidity": 0.2
            },
            "type": "scatter"
           }
          ],
          "scatter3d": [
           {
            "line": {
             "colorbar": {
              "outlinewidth": 1,
              "tickcolor": "rgb(36,36,36)",
              "ticks": "outside"
             }
            },
            "marker": {
             "colorbar": {
              "outlinewidth": 1,
              "tickcolor": "rgb(36,36,36)",
              "ticks": "outside"
             }
            },
            "type": "scatter3d"
           }
          ],
          "scattercarpet": [
           {
            "marker": {
             "colorbar": {
              "outlinewidth": 1,
              "tickcolor": "rgb(36,36,36)",
              "ticks": "outside"
             }
            },
            "type": "scattercarpet"
           }
          ],
          "scattergeo": [
           {
            "marker": {
             "colorbar": {
              "outlinewidth": 1,
              "tickcolor": "rgb(36,36,36)",
              "ticks": "outside"
             }
            },
            "type": "scattergeo"
           }
          ],
          "scattergl": [
           {
            "marker": {
             "colorbar": {
              "outlinewidth": 1,
              "tickcolor": "rgb(36,36,36)",
              "ticks": "outside"
             }
            },
            "type": "scattergl"
           }
          ],
          "scattermap": [
           {
            "marker": {
             "colorbar": {
              "outlinewidth": 1,
              "tickcolor": "rgb(36,36,36)",
              "ticks": "outside"
             }
            },
            "type": "scattermap"
           }
          ],
          "scattermapbox": [
           {
            "marker": {
             "colorbar": {
              "outlinewidth": 1,
              "tickcolor": "rgb(36,36,36)",
              "ticks": "outside"
             }
            },
            "type": "scattermapbox"
           }
          ],
          "scatterpolar": [
           {
            "marker": {
             "colorbar": {
              "outlinewidth": 1,
              "tickcolor": "rgb(36,36,36)",
              "ticks": "outside"
             }
            },
            "type": "scatterpolar"
           }
          ],
          "scatterpolargl": [
           {
            "marker": {
             "colorbar": {
              "outlinewidth": 1,
              "tickcolor": "rgb(36,36,36)",
              "ticks": "outside"
             }
            },
            "type": "scatterpolargl"
           }
          ],
          "scatterternary": [
           {
            "marker": {
             "colorbar": {
              "outlinewidth": 1,
              "tickcolor": "rgb(36,36,36)",
              "ticks": "outside"
             }
            },
            "type": "scatterternary"
           }
          ],
          "surface": [
           {
            "colorbar": {
             "outlinewidth": 1,
             "tickcolor": "rgb(36,36,36)",
             "ticks": "outside"
            },
            "colorscale": [
             [
              0,
              "#440154"
             ],
             [
              0.1111111111111111,
              "#482878"
             ],
             [
              0.2222222222222222,
              "#3e4989"
             ],
             [
              0.3333333333333333,
              "#31688e"
             ],
             [
              0.4444444444444444,
              "#26828e"
             ],
             [
              0.5555555555555556,
              "#1f9e89"
             ],
             [
              0.6666666666666666,
              "#35b779"
             ],
             [
              0.7777777777777778,
              "#6ece58"
             ],
             [
              0.8888888888888888,
              "#b5de2b"
             ],
             [
              1,
              "#fde725"
             ]
            ],
            "type": "surface"
           }
          ],
          "table": [
           {
            "cells": {
             "fill": {
              "color": "rgb(237,237,237)"
             },
             "line": {
              "color": "white"
             }
            },
            "header": {
             "fill": {
              "color": "rgb(217,217,217)"
             },
             "line": {
              "color": "white"
             }
            },
            "type": "table"
           }
          ]
         },
         "layout": {
          "annotationdefaults": {
           "arrowhead": 0,
           "arrowwidth": 1
          },
          "autotypenumbers": "strict",
          "coloraxis": {
           "colorbar": {
            "outlinewidth": 1,
            "tickcolor": "rgb(36,36,36)",
            "ticks": "outside"
           }
          },
          "colorscale": {
           "diverging": [
            [
             0,
             "rgb(103,0,31)"
            ],
            [
             0.1,
             "rgb(178,24,43)"
            ],
            [
             0.2,
             "rgb(214,96,77)"
            ],
            [
             0.3,
             "rgb(244,165,130)"
            ],
            [
             0.4,
             "rgb(253,219,199)"
            ],
            [
             0.5,
             "rgb(247,247,247)"
            ],
            [
             0.6,
             "rgb(209,229,240)"
            ],
            [
             0.7,
             "rgb(146,197,222)"
            ],
            [
             0.8,
             "rgb(67,147,195)"
            ],
            [
             0.9,
             "rgb(33,102,172)"
            ],
            [
             1,
             "rgb(5,48,97)"
            ]
           ],
           "sequential": [
            [
             0,
             "#440154"
            ],
            [
             0.1111111111111111,
             "#482878"
            ],
            [
             0.2222222222222222,
             "#3e4989"
            ],
            [
             0.3333333333333333,
             "#31688e"
            ],
            [
             0.4444444444444444,
             "#26828e"
            ],
            [
             0.5555555555555556,
             "#1f9e89"
            ],
            [
             0.6666666666666666,
             "#35b779"
            ],
            [
             0.7777777777777778,
             "#6ece58"
            ],
            [
             0.8888888888888888,
             "#b5de2b"
            ],
            [
             1,
             "#fde725"
            ]
           ],
           "sequentialminus": [
            [
             0,
             "#440154"
            ],
            [
             0.1111111111111111,
             "#482878"
            ],
            [
             0.2222222222222222,
             "#3e4989"
            ],
            [
             0.3333333333333333,
             "#31688e"
            ],
            [
             0.4444444444444444,
             "#26828e"
            ],
            [
             0.5555555555555556,
             "#1f9e89"
            ],
            [
             0.6666666666666666,
             "#35b779"
            ],
            [
             0.7777777777777778,
             "#6ece58"
            ],
            [
             0.8888888888888888,
             "#b5de2b"
            ],
            [
             1,
             "#fde725"
            ]
           ]
          },
          "colorway": [
           "#1F77B4",
           "#FF7F0E",
           "#2CA02C",
           "#D62728",
           "#9467BD",
           "#8C564B",
           "#E377C2",
           "#7F7F7F",
           "#BCBD22",
           "#17BECF"
          ],
          "font": {
           "color": "rgb(36,36,36)"
          },
          "geo": {
           "bgcolor": "white",
           "lakecolor": "white",
           "landcolor": "white",
           "showlakes": true,
           "showland": true,
           "subunitcolor": "white"
          },
          "hoverlabel": {
           "align": "left"
          },
          "hovermode": "closest",
          "mapbox": {
           "style": "light"
          },
          "paper_bgcolor": "white",
          "plot_bgcolor": "white",
          "polar": {
           "angularaxis": {
            "gridcolor": "rgb(232,232,232)",
            "linecolor": "rgb(36,36,36)",
            "showgrid": false,
            "showline": true,
            "ticks": "outside"
           },
           "bgcolor": "white",
           "radialaxis": {
            "gridcolor": "rgb(232,232,232)",
            "linecolor": "rgb(36,36,36)",
            "showgrid": false,
            "showline": true,
            "ticks": "outside"
           }
          },
          "scene": {
           "xaxis": {
            "backgroundcolor": "white",
            "gridcolor": "rgb(232,232,232)",
            "gridwidth": 2,
            "linecolor": "rgb(36,36,36)",
            "showbackground": true,
            "showgrid": false,
            "showline": true,
            "ticks": "outside",
            "zeroline": false,
            "zerolinecolor": "rgb(36,36,36)"
           },
           "yaxis": {
            "backgroundcolor": "white",
            "gridcolor": "rgb(232,232,232)",
            "gridwidth": 2,
            "linecolor": "rgb(36,36,36)",
            "showbackground": true,
            "showgrid": false,
            "showline": true,
            "ticks": "outside",
            "zeroline": false,
            "zerolinecolor": "rgb(36,36,36)"
           },
           "zaxis": {
            "backgroundcolor": "white",
            "gridcolor": "rgb(232,232,232)",
            "gridwidth": 2,
            "linecolor": "rgb(36,36,36)",
            "showbackground": true,
            "showgrid": false,
            "showline": true,
            "ticks": "outside",
            "zeroline": false,
            "zerolinecolor": "rgb(36,36,36)"
           }
          },
          "shapedefaults": {
           "fillcolor": "black",
           "line": {
            "width": 0
           },
           "opacity": 0.3
          },
          "ternary": {
           "aaxis": {
            "gridcolor": "rgb(232,232,232)",
            "linecolor": "rgb(36,36,36)",
            "showgrid": false,
            "showline": true,
            "ticks": "outside"
           },
           "baxis": {
            "gridcolor": "rgb(232,232,232)",
            "linecolor": "rgb(36,36,36)",
            "showgrid": false,
            "showline": true,
            "ticks": "outside"
           },
           "bgcolor": "white",
           "caxis": {
            "gridcolor": "rgb(232,232,232)",
            "linecolor": "rgb(36,36,36)",
            "showgrid": false,
            "showline": true,
            "ticks": "outside"
           }
          },
          "title": {
           "x": 0.05
          },
          "xaxis": {
           "automargin": true,
           "gridcolor": "rgb(232,232,232)",
           "linecolor": "rgb(36,36,36)",
           "showgrid": false,
           "showline": true,
           "ticks": "outside",
           "title": {
            "standoff": 15
           },
           "zeroline": false,
           "zerolinecolor": "rgb(36,36,36)"
          },
          "yaxis": {
           "automargin": true,
           "gridcolor": "rgb(232,232,232)",
           "linecolor": "rgb(36,36,36)",
           "showgrid": false,
           "showline": true,
           "ticks": "outside",
           "title": {
            "standoff": 15
           },
           "zeroline": false,
           "zerolinecolor": "rgb(36,36,36)"
          }
         }
        },
        "title": {
         "font": {
          "family": "Arial",
          "size": 25
         },
         "text": " "
        },
        "width": 1200,
        "xaxis": {
         "anchor": "y",
         "domain": [
          0,
          1
         ],
         "gridcolor": "lightgray",
         "gridwidth": 1,
         "linecolor": "black",
         "linewidth": 2,
         "showgrid": true,
         "tickfont": {
          "color": "black",
          "size": 16
         },
         "tickformat": "%Y",
         "title": {
          "font": {
           "color": "black",
           "family": "Arial",
           "size": 22
          },
          "text": "Date"
         }
        },
        "yaxis": {
         "anchor": "x",
         "domain": [
          0,
          1
         ],
         "gridcolor": "lightgray",
         "gridwidth": 1,
         "linecolor": "black",
         "linewidth": 2,
         "showgrid": true,
         "tickfont": {
          "color": "black",
          "size": 16
         },
         "tickformat": ".1f",
         "tickprefix": "",
         "ticksuffix": "%",
         "title": {
          "font": {
           "color": "black",
           "family": "Arial",
           "size": 22
          },
          "text": "Total Return"
         }
        }
       }
      }
     },
     "metadata": {},
     "output_type": "display_data"
    }
   ],
   "source": [
    "plot_total_returns_streamlit(final_results_totalreturn)"
   ]
  },
  {
   "cell_type": "code",
   "execution_count": 77,
   "metadata": {},
   "outputs": [
    {
     "data": {
      "application/vnd.plotly.v1+json": {
       "config": {
        "plotlyServerURL": "https://plot.ly"
       },
       "data": [
        {
         "alignmentgroup": "True",
         "box": {
          "visible": false
         },
         "hoveron": "points+kde",
         "hovertemplate": "Portfolio=%{y}<br>Return=%{x}<extra></extra>",
         "legendgroup": "lifestrategy40",
         "marker": {
          "color": "#1f77b4"
         },
         "name": "lifestrategy40",
         "offsetgroup": "lifestrategy40",
         "orientation": "h",
         "points": "all",
         "scalegroup": "True",
         "showlegend": true,
         "type": "violin",
         "x": {
          "bdata": "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",
          "dtype": "f8"
         },
         "x0": " ",
         "xaxis": "x",
         "y": [
          "lifestrategy40",
          "lifestrategy40",
          "lifestrategy40",
          "lifestrategy40",
          "lifestrategy40",
          "lifestrategy40",
          "lifestrategy40",
          "lifestrategy40",
          "lifestrategy40",
          "lifestrategy40",
          "lifestrategy40",
          "lifestrategy40",
          "lifestrategy40",
          "lifestrategy40",
          "lifestrategy40",
          "lifestrategy40",
          "lifestrategy40",
          "lifestrategy40",
          "lifestrategy40",
          "lifestrategy40",
          "lifestrategy40",
          "lifestrategy40",
          "lifestrategy40",
          "lifestrategy40",
          "lifestrategy40",
          "lifestrategy40",
          "lifestrategy40",
          "lifestrategy40",
          "lifestrategy40",
          "lifestrategy40",
          "lifestrategy40",
          "lifestrategy40",
          "lifestrategy40",
          "lifestrategy40",
          "lifestrategy40",
          "lifestrategy40",
          "lifestrategy40",
          "lifestrategy40",
          "lifestrategy40",
          "lifestrategy40",
          "lifestrategy40",
          "lifestrategy40",
          "lifestrategy40",
          "lifestrategy40",
          "lifestrategy40",
          "lifestrategy40",
          "lifestrategy40",
          "lifestrategy40",
          "lifestrategy40",
          "lifestrategy40",
          "lifestrategy40",
          "lifestrategy40",
          "lifestrategy40",
          "lifestrategy40",
          "lifestrategy40",
          "lifestrategy40",
          "lifestrategy40",
          "lifestrategy40",
          "lifestrategy40",
          "lifestrategy40",
          "lifestrategy40",
          "lifestrategy40",
          "lifestrategy40",
          "lifestrategy40",
          "lifestrategy40",
          "lifestrategy40",
          "lifestrategy40",
          "lifestrategy40",
          "lifestrategy40",
          "lifestrategy40",
          "lifestrategy40",
          "lifestrategy40",
          "lifestrategy40",
          "lifestrategy40",
          "lifestrategy40",
          "lifestrategy40",
          "lifestrategy40",
          "lifestrategy40",
          "lifestrategy40",
          "lifestrategy40",
          "lifestrategy40",
          "lifestrategy40",
          "lifestrategy40",
          "lifestrategy40",
          "lifestrategy40",
          "lifestrategy40",
          "lifestrategy40",
          "lifestrategy40",
          "lifestrategy40",
          "lifestrategy40",
          "lifestrategy40",
          "lifestrategy40",
          "lifestrategy40",
          "lifestrategy40",
          "lifestrategy40",
          "lifestrategy40",
          "lifestrategy40",
          "lifestrategy40",
          "lifestrategy40",
          "lifestrategy40",
          "lifestrategy40",
          "lifestrategy40",
          "lifestrategy40",
          "lifestrategy40",
          "lifestrategy40",
          "lifestrategy40",
          "lifestrategy40",
          "lifestrategy40",
          "lifestrategy40",
          "lifestrategy40",
          "lifestrategy40",
          "lifestrategy40",
          "lifestrategy40",
          "lifestrategy40",
          "lifestrategy40",
          "lifestrategy40",
          "lifestrategy40",
          "lifestrategy40",
          "lifestrategy40",
          "lifestrategy40",
          "lifestrategy40",
          "lifestrategy40",
          "lifestrategy40",
          "lifestrategy40",
          "lifestrategy40",
          "lifestrategy40",
          "lifestrategy40",
          "lifestrategy40",
          "lifestrategy40",
          "lifestrategy40",
          "lifestrategy40",
          "lifestrategy40",
          "lifestrategy40",
          "lifestrategy40",
          "lifestrategy40",
          "lifestrategy40",
          "lifestrategy40",
          "lifestrategy40",
          "lifestrategy40",
          "lifestrategy40",
          "lifestrategy40",
          "lifestrategy40",
          "lifestrategy40",
          "lifestrategy40",
          "lifestrategy40",
          "lifestrategy40",
          "lifestrategy40",
          "lifestrategy40",
          "lifestrategy40",
          "lifestrategy40",
          "lifestrategy40",
          "lifestrategy40",
          "lifestrategy40",
          "lifestrategy40",
          "lifestrategy40",
          "lifestrategy40",
          "lifestrategy40",
          "lifestrategy40",
          "lifestrategy40",
          "lifestrategy40",
          "lifestrategy40",
          "lifestrategy40",
          "lifestrategy40",
          "lifestrategy40",
          "lifestrategy40",
          "lifestrategy40",
          "lifestrategy40",
          "lifestrategy40",
          "lifestrategy40",
          "lifestrategy40",
          "lifestrategy40",
          "lifestrategy40",
          "lifestrategy40",
          "lifestrategy40",
          "lifestrategy40",
          "lifestrategy40",
          "lifestrategy40",
          "lifestrategy40",
          "lifestrategy40",
          "lifestrategy40",
          "lifestrategy40",
          "lifestrategy40",
          "lifestrategy40",
          "lifestrategy40",
          "lifestrategy40",
          "lifestrategy40",
          "lifestrategy40",
          "lifestrategy40",
          "lifestrategy40",
          "lifestrategy40",
          "lifestrategy40",
          "lifestrategy40",
          "lifestrategy40",
          "lifestrategy40",
          "lifestrategy40",
          "lifestrategy40",
          "lifestrategy40",
          "lifestrategy40",
          "lifestrategy40",
          "lifestrategy40",
          "lifestrategy40",
          "lifestrategy40",
          "lifestrategy40",
          "lifestrategy40",
          "lifestrategy40",
          "lifestrategy40",
          "lifestrategy40",
          "lifestrategy40",
          "lifestrategy40",
          "lifestrategy40",
          "lifestrategy40",
          "lifestrategy40",
          "lifestrategy40",
          "lifestrategy40",
          "lifestrategy40",
          "lifestrategy40",
          "lifestrategy40",
          "lifestrategy40",
          "lifestrategy40",
          "lifestrategy40",
          "lifestrategy40",
          "lifestrategy40",
          "lifestrategy40",
          "lifestrategy40",
          "lifestrategy40",
          "lifestrategy40",
          "lifestrategy40",
          "lifestrategy40",
          "lifestrategy40",
          "lifestrategy40",
          "lifestrategy40",
          "lifestrategy40",
          "lifestrategy40",
          "lifestrategy40",
          "lifestrategy40",
          "lifestrategy40",
          "lifestrategy40",
          "lifestrategy40",
          "lifestrategy40",
          "lifestrategy40",
          "lifestrategy40",
          "lifestrategy40",
          "lifestrategy40",
          "lifestrategy40",
          "lifestrategy40",
          "lifestrategy40",
          "lifestrategy40",
          "lifestrategy40",
          "lifestrategy40",
          "lifestrategy40",
          "lifestrategy40",
          "lifestrategy40",
          "lifestrategy40",
          "lifestrategy40",
          "lifestrategy40",
          "lifestrategy40",
          "lifestrategy40",
          "lifestrategy40",
          "lifestrategy40",
          "lifestrategy40",
          "lifestrategy40",
          "lifestrategy40",
          "lifestrategy40",
          "lifestrategy40",
          "lifestrategy40",
          "lifestrategy40",
          "lifestrategy40",
          "lifestrategy40",
          "lifestrategy40",
          "lifestrategy40",
          "lifestrategy40",
          "lifestrategy40",
          "lifestrategy40",
          "lifestrategy40",
          "lifestrategy40",
          "lifestrategy40",
          "lifestrategy40",
          "lifestrategy40",
          "lifestrategy40",
          "lifestrategy40",
          "lifestrategy40",
          "lifestrategy40",
          "lifestrategy40",
          "lifestrategy40",
          "lifestrategy40",
          "lifestrategy40",
          "lifestrategy40",
          "lifestrategy40",
          "lifestrategy40",
          "lifestrategy40",
          "lifestrategy40",
          "lifestrategy40",
          "lifestrategy40",
          "lifestrategy40",
          "lifestrategy40",
          "lifestrategy40",
          "lifestrategy40",
          "lifestrategy40",
          "lifestrategy40",
          "lifestrategy40",
          "lifestrategy40",
          "lifestrategy40",
          "lifestrategy40",
          "lifestrategy40",
          "lifestrategy40",
          "lifestrategy40",
          "lifestrategy40",
          "lifestrategy40",
          "lifestrategy40",
          "lifestrategy40",
          "lifestrategy40",
          "lifestrategy40",
          "lifestrategy40",
          "lifestrategy40",
          "lifestrategy40",
          "lifestrategy40",
          "lifestrategy40",
          "lifestrategy40",
          "lifestrategy40",
          "lifestrategy40",
          "lifestrategy40",
          "lifestrategy40",
          "lifestrategy40",
          "lifestrategy40",
          "lifestrategy40",
          "lifestrategy40",
          "lifestrategy40",
          "lifestrategy40",
          "lifestrategy40",
          "lifestrategy40",
          "lifestrategy40",
          "lifestrategy40",
          "lifestrategy40",
          "lifestrategy40",
          "lifestrategy40",
          "lifestrategy40",
          "lifestrategy40",
          "lifestrategy40",
          "lifestrategy40",
          "lifestrategy40",
          "lifestrategy40",
          "lifestrategy40",
          "lifestrategy40",
          "lifestrategy40",
          "lifestrategy40",
          "lifestrategy40",
          "lifestrategy40",
          "lifestrategy40",
          "lifestrategy40",
          "lifestrategy40",
          "lifestrategy40",
          "lifestrategy40",
          "lifestrategy40",
          "lifestrategy40",
          "lifestrategy40",
          "lifestrategy40",
          "lifestrategy40",
          "lifestrategy40",
          "lifestrategy40",
          "lifestrategy40",
          "lifestrategy40",
          "lifestrategy40",
          "lifestrategy40",
          "lifestrategy40",
          "lifestrategy40",
          "lifestrategy40",
          "lifestrategy40",
          "lifestrategy40",
          "lifestrategy40",
          "lifestrategy40",
          "lifestrategy40",
          "lifestrategy40",
          "lifestrategy40",
          "lifestrategy40",
          "lifestrategy40",
          "lifestrategy40",
          "lifestrategy40",
          "lifestrategy40",
          "lifestrategy40",
          "lifestrategy40",
          "lifestrategy40",
          "lifestrategy40",
          "lifestrategy40",
          "lifestrategy40",
          "lifestrategy40",
          "lifestrategy40",
          "lifestrategy40",
          "lifestrategy40",
          "lifestrategy40",
          "lifestrategy40",
          "lifestrategy40",
          "lifestrategy40",
          "lifestrategy40",
          "lifestrategy40",
          "lifestrategy40",
          "lifestrategy40",
          "lifestrategy40",
          "lifestrategy40",
          "lifestrategy40",
          "lifestrategy40",
          "lifestrategy40",
          "lifestrategy40",
          "lifestrategy40",
          "lifestrategy40",
          "lifestrategy40",
          "lifestrategy40",
          "lifestrategy40",
          "lifestrategy40",
          "lifestrategy40",
          "lifestrategy40",
          "lifestrategy40",
          "lifestrategy40",
          "lifestrategy40",
          "lifestrategy40",
          "lifestrategy40",
          "lifestrategy40",
          "lifestrategy40"
         ],
         "y0": " ",
         "yaxis": "y"
        },
        {
         "alignmentgroup": "True",
         "box": {
          "visible": false
         },
         "hoveron": "points+kde",
         "hovertemplate": "Portfolio=%{y}<br>Return=%{x}<extra></extra>",
         "legendgroup": "lifestrategy20",
         "marker": {
          "color": "#ff7f0e"
         },
         "name": "lifestrategy20",
         "offsetgroup": "lifestrategy20",
         "orientation": "h",
         "points": "all",
         "scalegroup": "True",
         "showlegend": true,
         "type": "violin",
         "x": {
          "bdata": "Y0UNpmH4qD9ZwARu3c2jP/Dce7jkuKM/j8L1KFyPoj+tad5xio6kP3L5D+m3r6M/PKBsyhXepT/4ja89sySgP5Z4QNmUK5w/izcyj/zBoD+C4seYu5agP3Y3T3XIzaA/N4lBYOXQoj/LLa2GxD2mP2KE8GjjiKU/bEPFOH8Tqj+SlsrbEU6rP3XN5Jttbqw/n1kSoKaWrT+jkjoBTYStP8VyS6shca8/MjhKXp1jsD8AV7JjIxCvP8mrcwzIXq8/j1N0JJf/sD/2KFyPwvWwP5/Ik6RrJq8/uB6F61G4rj9xyXGndLCuP3DOiNLe4Ks/LSY2H9eGqj/hRV9BmrGoP6gAGM+goa8/bsDnhxHCsz/FjzF3LSG3P51GWipvR7g/Xi7iOzHrtT8TLA5nfjW3P8E5I0p7g7c/ZQETuHU3tz+ASL99HTi3P9KMRdPZybg/iZgSSfQyuj/A7J48LNS6PxXj/E0oRLg/oijQJ/IkuT/htOBFX0G6Py8012mkpbo/QZqxaDo7uT/y7zMuHAi5P6M7iJ0pdLY/z4O7s3bbtT/2QCswZHWzP69fsBu2LbI/hXzQs1n1sT+H4SNiSiSxPz1+b9Of/bA/UDblCu9ysT9q3nGKjuSyPxh47j1ccrQ/WtjTDn9Ntj+AK9mxEYi3P1SM8zehELk/aLPqc7UVuz8PtAJDVre6PyTRyyiWW7o//7J78rBQuz+I9NvXgXO+P+CcEaW9wb8/kSxgArfuvj9FKowtBDnAP23/ykqTUsA/Z5sb0xOWwD8r2bERiNe9P4vDmV/NAbo/Dwu1pnnHuT8TuHU3T3W4P0NWt3pOerc/76zddqG5tj91H4DUJk62P6SNI9biU7g/qg65GW7Atz8p7Q2+MJm6P1k0nZ0Mjro/bvqzHykiuz8Bh1ClZg+8P3YyOEpenbs/kgVM4NbdvD+Z9WIoJ9q9P5F++zpwzsA/e0ljtI6qwj9gH5268lnCP8ISDyibcsE/PUm6ZvLNvj9AMEeP39u8P6kT0ETY8Lw/BOeMKO0Nvj99PzVeukm8PwN4CyQofrw/mrFoOjsZvD+zXgzlRLu6P5sb0xOWeLg/EvdY+tAFtT/G+ZtQiICzP8BbIEHxY7Q/Cr/Uz5uKtD8ldQKaCBu2P32utmJ/2bU/fZHQlnMptj/nAMEcPX63P9XPm4pUGLs/wmnBi76CvD/P2m0Xmuu8PxDM0eP3Nr0/nRGlvcEXvj/jx5i7lpC/P40LB0KygME/+Um1T8djwj9ubkxPWOLBPy5W1GAahsM/+I2vPbMkxD9WSPlJtU/DP8e6uI0G8MI/RkJbzqW4wj9KXp1jQPbCPw+XHHdKB8M/bLJGPUSjwz9JERlW8UbCP9l3RfC/lcA/TkUqjC0EwT98D5ccd0q/P3506spneb4/NEsC1NSyvT+alIJuL2nAP8ucLouJzb8/QPZ698d7vT+OBvAWSFC8P6Ay/n3Ghbs/XkvIBz2bvT+UvDrHgOy9P/IHA8+9h7s/UWuad5yiuz9sQ8U4fxO6P7PSpBR0e7k/4PPDCOHRtj/ZzvdT46WzPykiwyreyLQ/f2q8dJMYtD9bfAqA8QyyP18pyxDHurA/n5PeN772rD+4rwPnjCitPwdfmEwVjKo/+8vuycNCrT9slWBxOPOrP5EnSddMvqk/pb3BFyZTpT9zLsVVZd+lPz0s1JrmHac/oRABh1Clpj8o8iTpmsmnP7ahYpy/CaU/+dozSwLUpD/HYwYq49+nP3x+GCE82qg/jWK5pdWQqD8aho+IKZGkP/wYc9cS8qE/YKsEi8OZnz+THRuBeF2fP/sioS3nUpw/XkvIBz2blT8KndfYJaqXP4nvxKwXQ5k/f03WqIdolD8SvYxiuaWVP/XzpiIVxoY/odtLGqN1hD8xzt+EQgSMP5TeN772zII/220Xmus0gj/t9e6P96qFP9lCkIMSZoo/4BCq1OyBhj9DxTh/EwpBPz0P7s7abWc/YTJVMCqpI782WaMeotFdP/uWOV0WE4s/XwfOGVHaez+IhVrTvON0P+49XHLcKV0/aR1VTRB1D7+WJqWg20t6v3aJ6q2BrWK/v9TPm4pUaD/nUlxV9l2BP/RPcLGiBoM/wf9WsmMjcD+8eapDboZrPxtHrMWnAHg/pMfvbfqzbz8CZVOu8C5nPxNhw9MrZXk/vJF55A8Gfj9pHVVNEHWPP75qZcIv9ZM/88gfDDz3jj9BguLHmLuWP7kZbsDnh5E/BCFZwARujT/Co40j1uKTP+DW3TzVIZc/XaeRlsrbkT8bL90kBoGVPxYYsrrVc5I/TpfFxObjij+U9gZfmEyFP0ImGTkLe4o/OxkcJa/OkT8prir7rgieP6vP1VbsL5s/CcTr+gW7oT+NYrml1ZCYP4TwaOOItZg/vJF55A8Gjj9/h6JAn8iTPznulA7W/5k/Pu3w12SNmj8c6+I2GsCbP/G6fsFu2JY/1ZXP8jy4mz/mP6Tfvg6cPwCMZ9DQP6E/kDF3LSEfpD8Fi8OZX82hP8ai6exkcKQ/DyibcoV3qT9ORSqMLQSpPwXdXtIYraM/EqCmlq31pT/KiXYVUn6iP61RD9HoDqI/6IcRwqONoz+693DJcaekP1RvDWyVYKE/KuPfZ1w4oD86zJcXYB+dP7vVc9L7xpc/Q8U4fxMKoT+L4H8r2bGhPye9b3ztmaU/yy2thsQ9pj+ztb5IaMupP3cQO1PovKY/XoB9dOrKpz9fB84ZUdqrPzp15bM8D64/KT+p9ul4rD/EzhQ6r7GrP2B2Tx4Waq0/hZm2f2WlsT+XqN4a2CqxP4cW2c73U7M/yk+qfToesz8YQznRrkKyPzANw0fElLA/jSjtDb4wsT9p44i1+BSwP96wbVFmg6w/kwA1tWytrz+VtyOcFrywP0P/BBcrarA/0oxF09nJsD+q8dJNYhCwP5Gb4QZ8frA/ERlW8UbmsT/27o/3qpWxP95xio7k8q8/IQIOoUrNrj+qtwa2SrCoP3HmV3OAYK4/xLEubqMBrD9QjZduEoOwPxWRYRVvZK4/HuG04EVfsT9Wfa62Yn+xP41iuaXVkLA/GcVyS6shsT+L/WX35GGxP9DQP8HFirI/qkNuhhvwsT9hpu1fWWmyP+xMofMau7Q/xLEubqMBtD8YPiKmRBK1P9XsgVZgyLI/F9S3zOmysD+0HykiwyquPyZw626e6rA/A+yjU1c+qz/iOzHrxVCuP2VwlLw6x7A/EXAIVWr2sD8MAiuHFtmuP3ZxGw3gLbA/PX5v05/9sD/6CtKMRdOxP0QX1LfM6bI/ucK7XMR3sj8UP8bctYS0P/YjRWRYxbM/9wZfmEwVtD8TChFwCFWyP07RkVz+Q7I/qn06HjNQsT8ZkL3e/fGuP/8+48KBkKw/NUbrqGqCsD/OjekJSzywP+Z0WUxsPq4/8u8zLhwIqT+yRj1EozuoPzNQGf8+46I/kDF3LSEfpD8WMIFbd/OkPxPVWwNbJag/SZ2AJsKGpz/+mqxRD9GoP9lfdk8eFqo/pvJ2hNOCpz+tad5xio6kP4wtBDkoYaY/Vyb8Uj9vqj+WlSaloNurP5ayDHGsi6s/KSLDKt7IrD/iBnx+GCGsP8AJhQg4hKo/uECC4seYqz/VeOkmMQisPzojSnuDL6w/S5NS0O0lrT/vOEVHcvmvP/zG155ZErA/hgMhWcAErj9YrUz4pX6uP6Tk1TkGZK8/71UrE36prz9tc2N6whKvPzawVYLF4aw/kst/SL99rT8gtYmT+x2qP7ZKsDic+aU/qU2c3O9QpD+rz9VW7C+bP9NNYhBYOaQ/EqW9wRcmoz+lg/V/DvOlP+PCgZAsYKI/Zr0Yyol2pT+qglFJnYCmP0QX1LfM6aI/jxmojH+foT/L+PcZFw6kPxJOC170FaQ/scQDyqZcoT9eaK7TSEulPzP5Zpsb06M/teBFX0GaoT/SNZNvtrmhP6Cmlq31RaI//Yf029eBoz/o3sMlx52iPwqi7gOQ2qQ/OC140VeQpj93Z+22C82lP7raiv1l96Q/3lSkwthCoD8ZVvFG5pGfP//nMF9egJ0/wD46deWznD9C7Eyh8xqbP+TaUDHO36Q/0jWTb7a5oT+m0HmNXaKaPzVj0XR2Mpg/WwhyUMJMmz92w7ZFmQ2SPwe2SrA4nJk/DhDM0eP3lj9wXwfOGVGaP5EPejarPpc/f03WqIdolD8z+WabG9OTPy/6CtKMRZM/ixpMw/ARkT/3OxQF+kSOP3TS+8bXnok/XaeRlsrbkT+nIhXGFoKcPwLxun7Bbpg/OdbFbTSAlz9ehZSfVPuUP5+wxAPKpow/sBu2LcpskD/GxObj2lCRP23/ykqTUpA/OZz51RwgiD/pDmJnCp2HP06XxcTm44o/vmplwi/1kz+6MT1hiQeUP/j8MEJ4tJE/3NeBc0aUlj/YZI16iEaXP6g65Ga4AX8/",
          "dtype": "f8"
         },
         "x0": " ",
         "xaxis": "x",
         "y": [
          "lifestrategy20",
          "lifestrategy20",
          "lifestrategy20",
          "lifestrategy20",
          "lifestrategy20",
          "lifestrategy20",
          "lifestrategy20",
          "lifestrategy20",
          "lifestrategy20",
          "lifestrategy20",
          "lifestrategy20",
          "lifestrategy20",
          "lifestrategy20",
          "lifestrategy20",
          "lifestrategy20",
          "lifestrategy20",
          "lifestrategy20",
          "lifestrategy20",
          "lifestrategy20",
          "lifestrategy20",
          "lifestrategy20",
          "lifestrategy20",
          "lifestrategy20",
          "lifestrategy20",
          "lifestrategy20",
          "lifestrategy20",
          "lifestrategy20",
          "lifestrategy20",
          "lifestrategy20",
          "lifestrategy20",
          "lifestrategy20",
          "lifestrategy20",
          "lifestrategy20",
          "lifestrategy20",
          "lifestrategy20",
          "lifestrategy20",
          "lifestrategy20",
          "lifestrategy20",
          "lifestrategy20",
          "lifestrategy20",
          "lifestrategy20",
          "lifestrategy20",
          "lifestrategy20",
          "lifestrategy20",
          "lifestrategy20",
          "lifestrategy20",
          "lifestrategy20",
          "lifestrategy20",
          "lifestrategy20",
          "lifestrategy20",
          "lifestrategy20",
          "lifestrategy20",
          "lifestrategy20",
          "lifestrategy20",
          "lifestrategy20",
          "lifestrategy20",
          "lifestrategy20",
          "lifestrategy20",
          "lifestrategy20",
          "lifestrategy20",
          "lifestrategy20",
          "lifestrategy20",
          "lifestrategy20",
          "lifestrategy20",
          "lifestrategy20",
          "lifestrategy20",
          "lifestrategy20",
          "lifestrategy20",
          "lifestrategy20",
          "lifestrategy20",
          "lifestrategy20",
          "lifestrategy20",
          "lifestrategy20",
          "lifestrategy20",
          "lifestrategy20",
          "lifestrategy20",
          "lifestrategy20",
          "lifestrategy20",
          "lifestrategy20",
          "lifestrategy20",
          "lifestrategy20",
          "lifestrategy20",
          "lifestrategy20",
          "lifestrategy20",
          "lifestrategy20",
          "lifestrategy20",
          "lifestrategy20",
          "lifestrategy20",
          "lifestrategy20",
          "lifestrategy20",
          "lifestrategy20",
          "lifestrategy20",
          "lifestrategy20",
          "lifestrategy20",
          "lifestrategy20",
          "lifestrategy20",
          "lifestrategy20",
          "lifestrategy20",
          "lifestrategy20",
          "lifestrategy20",
          "lifestrategy20",
          "lifestrategy20",
          "lifestrategy20",
          "lifestrategy20",
          "lifestrategy20",
          "lifestrategy20",
          "lifestrategy20",
          "lifestrategy20",
          "lifestrategy20",
          "lifestrategy20",
          "lifestrategy20",
          "lifestrategy20",
          "lifestrategy20",
          "lifestrategy20",
          "lifestrategy20",
          "lifestrategy20",
          "lifestrategy20",
          "lifestrategy20",
          "lifestrategy20",
          "lifestrategy20",
          "lifestrategy20",
          "lifestrategy20",
          "lifestrategy20",
          "lifestrategy20",
          "lifestrategy20",
          "lifestrategy20",
          "lifestrategy20",
          "lifestrategy20",
          "lifestrategy20",
          "lifestrategy20",
          "lifestrategy20",
          "lifestrategy20",
          "lifestrategy20",
          "lifestrategy20",
          "lifestrategy20",
          "lifestrategy20",
          "lifestrategy20",
          "lifestrategy20",
          "lifestrategy20",
          "lifestrategy20",
          "lifestrategy20",
          "lifestrategy20",
          "lifestrategy20",
          "lifestrategy20",
          "lifestrategy20",
          "lifestrategy20",
          "lifestrategy20",
          "lifestrategy20",
          "lifestrategy20",
          "lifestrategy20",
          "lifestrategy20",
          "lifestrategy20",
          "lifestrategy20",
          "lifestrategy20",
          "lifestrategy20",
          "lifestrategy20",
          "lifestrategy20",
          "lifestrategy20",
          "lifestrategy20",
          "lifestrategy20",
          "lifestrategy20",
          "lifestrategy20",
          "lifestrategy20",
          "lifestrategy20",
          "lifestrategy20",
          "lifestrategy20",
          "lifestrategy20",
          "lifestrategy20",
          "lifestrategy20",
          "lifestrategy20",
          "lifestrategy20",
          "lifestrategy20",
          "lifestrategy20",
          "lifestrategy20",
          "lifestrategy20",
          "lifestrategy20",
          "lifestrategy20",
          "lifestrategy20",
          "lifestrategy20",
          "lifestrategy20",
          "lifestrategy20",
          "lifestrategy20",
          "lifestrategy20",
          "lifestrategy20",
          "lifestrategy20",
          "lifestrategy20",
          "lifestrategy20",
          "lifestrategy20",
          "lifestrategy20",
          "lifestrategy20",
          "lifestrategy20",
          "lifestrategy20",
          "lifestrategy20",
          "lifestrategy20",
          "lifestrategy20",
          "lifestrategy20",
          "lifestrategy20",
          "lifestrategy20",
          "lifestrategy20",
          "lifestrategy20",
          "lifestrategy20",
          "lifestrategy20",
          "lifestrategy20",
          "lifestrategy20",
          "lifestrategy20",
          "lifestrategy20",
          "lifestrategy20",
          "lifestrategy20",
          "lifestrategy20",
          "lifestrategy20",
          "lifestrategy20",
          "lifestrategy20",
          "lifestrategy20",
          "lifestrategy20",
          "lifestrategy20",
          "lifestrategy20",
          "lifestrategy20",
          "lifestrategy20",
          "lifestrategy20",
          "lifestrategy20",
          "lifestrategy20",
          "lifestrategy20",
          "lifestrategy20",
          "lifestrategy20",
          "lifestrategy20",
          "lifestrategy20",
          "lifestrategy20",
          "lifestrategy20",
          "lifestrategy20",
          "lifestrategy20",
          "lifestrategy20",
          "lifestrategy20",
          "lifestrategy20",
          "lifestrategy20",
          "lifestrategy20",
          "lifestrategy20",
          "lifestrategy20",
          "lifestrategy20",
          "lifestrategy20",
          "lifestrategy20",
          "lifestrategy20",
          "lifestrategy20",
          "lifestrategy20",
          "lifestrategy20",
          "lifestrategy20",
          "lifestrategy20",
          "lifestrategy20",
          "lifestrategy20",
          "lifestrategy20",
          "lifestrategy20",
          "lifestrategy20",
          "lifestrategy20",
          "lifestrategy20",
          "lifestrategy20",
          "lifestrategy20",
          "lifestrategy20",
          "lifestrategy20",
          "lifestrategy20",
          "lifestrategy20",
          "lifestrategy20",
          "lifestrategy20",
          "lifestrategy20",
          "lifestrategy20",
          "lifestrategy20",
          "lifestrategy20",
          "lifestrategy20",
          "lifestrategy20",
          "lifestrategy20",
          "lifestrategy20",
          "lifestrategy20",
          "lifestrategy20",
          "lifestrategy20",
          "lifestrategy20",
          "lifestrategy20",
          "lifestrategy20",
          "lifestrategy20",
          "lifestrategy20",
          "lifestrategy20",
          "lifestrategy20",
          "lifestrategy20",
          "lifestrategy20",
          "lifestrategy20",
          "lifestrategy20",
          "lifestrategy20",
          "lifestrategy20",
          "lifestrategy20",
          "lifestrategy20",
          "lifestrategy20",
          "lifestrategy20",
          "lifestrategy20",
          "lifestrategy20",
          "lifestrategy20",
          "lifestrategy20",
          "lifestrategy20",
          "lifestrategy20",
          "lifestrategy20",
          "lifestrategy20",
          "lifestrategy20",
          "lifestrategy20",
          "lifestrategy20",
          "lifestrategy20",
          "lifestrategy20",
          "lifestrategy20",
          "lifestrategy20",
          "lifestrategy20",
          "lifestrategy20",
          "lifestrategy20",
          "lifestrategy20",
          "lifestrategy20",
          "lifestrategy20",
          "lifestrategy20",
          "lifestrategy20",
          "lifestrategy20",
          "lifestrategy20",
          "lifestrategy20",
          "lifestrategy20",
          "lifestrategy20",
          "lifestrategy20",
          "lifestrategy20",
          "lifestrategy20",
          "lifestrategy20",
          "lifestrategy20",
          "lifestrategy20",
          "lifestrategy20",
          "lifestrategy20",
          "lifestrategy20",
          "lifestrategy20",
          "lifestrategy20",
          "lifestrategy20",
          "lifestrategy20",
          "lifestrategy20",
          "lifestrategy20",
          "lifestrategy20",
          "lifestrategy20",
          "lifestrategy20",
          "lifestrategy20",
          "lifestrategy20",
          "lifestrategy20",
          "lifestrategy20",
          "lifestrategy20",
          "lifestrategy20",
          "lifestrategy20",
          "lifestrategy20",
          "lifestrategy20",
          "lifestrategy20",
          "lifestrategy20",
          "lifestrategy20",
          "lifestrategy20",
          "lifestrategy20",
          "lifestrategy20",
          "lifestrategy20",
          "lifestrategy20",
          "lifestrategy20",
          "lifestrategy20",
          "lifestrategy20",
          "lifestrategy20",
          "lifestrategy20",
          "lifestrategy20",
          "lifestrategy20",
          "lifestrategy20",
          "lifestrategy20",
          "lifestrategy20",
          "lifestrategy20",
          "lifestrategy20",
          "lifestrategy20",
          "lifestrategy20",
          "lifestrategy20",
          "lifestrategy20",
          "lifestrategy20",
          "lifestrategy20",
          "lifestrategy20",
          "lifestrategy20",
          "lifestrategy20",
          "lifestrategy20",
          "lifestrategy20",
          "lifestrategy20",
          "lifestrategy20",
          "lifestrategy20",
          "lifestrategy20",
          "lifestrategy20",
          "lifestrategy20",
          "lifestrategy20",
          "lifestrategy20",
          "lifestrategy20",
          "lifestrategy20",
          "lifestrategy20",
          "lifestrategy20",
          "lifestrategy20",
          "lifestrategy20",
          "lifestrategy20",
          "lifestrategy20",
          "lifestrategy20",
          "lifestrategy20",
          "lifestrategy20",
          "lifestrategy20",
          "lifestrategy20",
          "lifestrategy20",
          "lifestrategy20",
          "lifestrategy20",
          "lifestrategy20",
          "lifestrategy20",
          "lifestrategy20",
          "lifestrategy20",
          "lifestrategy20",
          "lifestrategy20",
          "lifestrategy20",
          "lifestrategy20",
          "lifestrategy20",
          "lifestrategy20",
          "lifestrategy20",
          "lifestrategy20",
          "lifestrategy20",
          "lifestrategy20",
          "lifestrategy20",
          "lifestrategy20",
          "lifestrategy20",
          "lifestrategy20"
         ],
         "y0": " ",
         "yaxis": "y"
        },
        {
         "alignmentgroup": "True",
         "box": {
          "visible": false
         },
         "hoveron": "points+kde",
         "hovertemplate": "Portfolio=%{y}<br>Return=%{x}<extra></extra>",
         "legendgroup": "lifestrategy0",
         "marker": {
          "color": "#2ca02c"
         },
         "name": "lifestrategy0",
         "offsetgroup": "lifestrategy0",
         "orientation": "h",
         "points": "all",
         "scalegroup": "True",
         "showlegend": true,
         "type": "violin",
         "x": {
          "bdata": "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",
          "dtype": "f8"
         },
         "x0": " ",
         "xaxis": "x",
         "y": [
          "lifestrategy0",
          "lifestrategy0",
          "lifestrategy0",
          "lifestrategy0",
          "lifestrategy0",
          "lifestrategy0",
          "lifestrategy0",
          "lifestrategy0",
          "lifestrategy0",
          "lifestrategy0",
          "lifestrategy0",
          "lifestrategy0",
          "lifestrategy0",
          "lifestrategy0",
          "lifestrategy0",
          "lifestrategy0",
          "lifestrategy0",
          "lifestrategy0",
          "lifestrategy0",
          "lifestrategy0",
          "lifestrategy0",
          "lifestrategy0",
          "lifestrategy0",
          "lifestrategy0",
          "lifestrategy0",
          "lifestrategy0",
          "lifestrategy0",
          "lifestrategy0",
          "lifestrategy0",
          "lifestrategy0",
          "lifestrategy0",
          "lifestrategy0",
          "lifestrategy0",
          "lifestrategy0",
          "lifestrategy0",
          "lifestrategy0",
          "lifestrategy0",
          "lifestrategy0",
          "lifestrategy0",
          "lifestrategy0",
          "lifestrategy0",
          "lifestrategy0",
          "lifestrategy0",
          "lifestrategy0",
          "lifestrategy0",
          "lifestrategy0",
          "lifestrategy0",
          "lifestrategy0",
          "lifestrategy0",
          "lifestrategy0",
          "lifestrategy0",
          "lifestrategy0",
          "lifestrategy0",
          "lifestrategy0",
          "lifestrategy0",
          "lifestrategy0",
          "lifestrategy0",
          "lifestrategy0",
          "lifestrategy0",
          "lifestrategy0",
          "lifestrategy0",
          "lifestrategy0",
          "lifestrategy0",
          "lifestrategy0",
          "lifestrategy0",
          "lifestrategy0",
          "lifestrategy0",
          "lifestrategy0",
          "lifestrategy0",
          "lifestrategy0",
          "lifestrategy0",
          "lifestrategy0",
          "lifestrategy0",
          "lifestrategy0",
          "lifestrategy0",
          "lifestrategy0",
          "lifestrategy0",
          "lifestrategy0",
          "lifestrategy0",
          "lifestrategy0",
          "lifestrategy0",
          "lifestrategy0",
          "lifestrategy0",
          "lifestrategy0",
          "lifestrategy0",
          "lifestrategy0",
          "lifestrategy0",
          "lifestrategy0",
          "lifestrategy0",
          "lifestrategy0",
          "lifestrategy0",
          "lifestrategy0",
          "lifestrategy0",
          "lifestrategy0",
          "lifestrategy0",
          "lifestrategy0",
          "lifestrategy0",
          "lifestrategy0",
          "lifestrategy0",
          "lifestrategy0",
          "lifestrategy0",
          "lifestrategy0",
          "lifestrategy0",
          "lifestrategy0",
          "lifestrategy0",
          "lifestrategy0",
          "lifestrategy0",
          "lifestrategy0",
          "lifestrategy0",
          "lifestrategy0",
          "lifestrategy0",
          "lifestrategy0",
          "lifestrategy0",
          "lifestrategy0",
          "lifestrategy0",
          "lifestrategy0",
          "lifestrategy0",
          "lifestrategy0",
          "lifestrategy0",
          "lifestrategy0",
          "lifestrategy0",
          "lifestrategy0",
          "lifestrategy0",
          "lifestrategy0",
          "lifestrategy0",
          "lifestrategy0",
          "lifestrategy0",
          "lifestrategy0",
          "lifestrategy0",
          "lifestrategy0",
          "lifestrategy0",
          "lifestrategy0",
          "lifestrategy0",
          "lifestrategy0",
          "lifestrategy0",
          "lifestrategy0",
          "lifestrategy0",
          "lifestrategy0",
          "lifestrategy0",
          "lifestrategy0",
          "lifestrategy0",
          "lifestrategy0",
          "lifestrategy0",
          "lifestrategy0",
          "lifestrategy0",
          "lifestrategy0",
          "lifestrategy0",
          "lifestrategy0",
          "lifestrategy0",
          "lifestrategy0",
          "lifestrategy0",
          "lifestrategy0",
          "lifestrategy0",
          "lifestrategy0",
          "lifestrategy0",
          "lifestrategy0",
          "lifestrategy0",
          "lifestrategy0",
          "lifestrategy0",
          "lifestrategy0",
          "lifestrategy0",
          "lifestrategy0",
          "lifestrategy0",
          "lifestrategy0",
          "lifestrategy0",
          "lifestrategy0",
          "lifestrategy0",
          "lifestrategy0",
          "lifestrategy0",
          "lifestrategy0",
          "lifestrategy0",
          "lifestrategy0",
          "lifestrategy0",
          "lifestrategy0",
          "lifestrategy0",
          "lifestrategy0",
          "lifestrategy0",
          "lifestrategy0",
          "lifestrategy0",
          "lifestrategy0",
          "lifestrategy0",
          "lifestrategy0",
          "lifestrategy0",
          "lifestrategy0",
          "lifestrategy0",
          "lifestrategy0",
          "lifestrategy0",
          "lifestrategy0",
          "lifestrategy0",
          "lifestrategy0",
          "lifestrategy0",
          "lifestrategy0",
          "lifestrategy0",
          "lifestrategy0",
          "lifestrategy0",
          "lifestrategy0",
          "lifestrategy0",
          "lifestrategy0",
          "lifestrategy0",
          "lifestrategy0",
          "lifestrategy0",
          "lifestrategy0",
          "lifestrategy0",
          "lifestrategy0",
          "lifestrategy0",
          "lifestrategy0",
          "lifestrategy0",
          "lifestrategy0",
          "lifestrategy0",
          "lifestrategy0",
          "lifestrategy0",
          "lifestrategy0",
          "lifestrategy0",
          "lifestrategy0",
          "lifestrategy0",
          "lifestrategy0",
          "lifestrategy0",
          "lifestrategy0",
          "lifestrategy0",
          "lifestrategy0",
          "lifestrategy0",
          "lifestrategy0",
          "lifestrategy0",
          "lifestrategy0",
          "lifestrategy0",
          "lifestrategy0",
          "lifestrategy0",
          "lifestrategy0",
          "lifestrategy0",
          "lifestrategy0",
          "lifestrategy0",
          "lifestrategy0",
          "lifestrategy0",
          "lifestrategy0",
          "lifestrategy0",
          "lifestrategy0",
          "lifestrategy0",
          "lifestrategy0",
          "lifestrategy0",
          "lifestrategy0",
          "lifestrategy0",
          "lifestrategy0",
          "lifestrategy0",
          "lifestrategy0",
          "lifestrategy0",
          "lifestrategy0",
          "lifestrategy0",
          "lifestrategy0",
          "lifestrategy0",
          "lifestrategy0",
          "lifestrategy0",
          "lifestrategy0",
          "lifestrategy0",
          "lifestrategy0",
          "lifestrategy0",
          "lifestrategy0",
          "lifestrategy0",
          "lifestrategy0",
          "lifestrategy0",
          "lifestrategy0",
          "lifestrategy0",
          "lifestrategy0",
          "lifestrategy0",
          "lifestrategy0",
          "lifestrategy0",
          "lifestrategy0",
          "lifestrategy0",
          "lifestrategy0",
          "lifestrategy0",
          "lifestrategy0",
          "lifestrategy0",
          "lifestrategy0",
          "lifestrategy0",
          "lifestrategy0",
          "lifestrategy0",
          "lifestrategy0",
          "lifestrategy0",
          "lifestrategy0",
          "lifestrategy0",
          "lifestrategy0",
          "lifestrategy0",
          "lifestrategy0",
          "lifestrategy0",
          "lifestrategy0",
          "lifestrategy0",
          "lifestrategy0",
          "lifestrategy0",
          "lifestrategy0",
          "lifestrategy0",
          "lifestrategy0",
          "lifestrategy0",
          "lifestrategy0",
          "lifestrategy0",
          "lifestrategy0",
          "lifestrategy0",
          "lifestrategy0",
          "lifestrategy0",
          "lifestrategy0",
          "lifestrategy0",
          "lifestrategy0",
          "lifestrategy0",
          "lifestrategy0",
          "lifestrategy0",
          "lifestrategy0",
          "lifestrategy0",
          "lifestrategy0",
          "lifestrategy0",
          "lifestrategy0",
          "lifestrategy0",
          "lifestrategy0",
          "lifestrategy0",
          "lifestrategy0",
          "lifestrategy0",
          "lifestrategy0",
          "lifestrategy0",
          "lifestrategy0",
          "lifestrategy0",
          "lifestrategy0",
          "lifestrategy0",
          "lifestrategy0",
          "lifestrategy0",
          "lifestrategy0",
          "lifestrategy0",
          "lifestrategy0",
          "lifestrategy0",
          "lifestrategy0",
          "lifestrategy0",
          "lifestrategy0",
          "lifestrategy0",
          "lifestrategy0",
          "lifestrategy0",
          "lifestrategy0",
          "lifestrategy0",
          "lifestrategy0",
          "lifestrategy0",
          "lifestrategy0",
          "lifestrategy0",
          "lifestrategy0",
          "lifestrategy0",
          "lifestrategy0",
          "lifestrategy0",
          "lifestrategy0",
          "lifestrategy0",
          "lifestrategy0",
          "lifestrategy0",
          "lifestrategy0",
          "lifestrategy0",
          "lifestrategy0",
          "lifestrategy0",
          "lifestrategy0",
          "lifestrategy0",
          "lifestrategy0",
          "lifestrategy0",
          "lifestrategy0",
          "lifestrategy0",
          "lifestrategy0",
          "lifestrategy0",
          "lifestrategy0",
          "lifestrategy0",
          "lifestrategy0",
          "lifestrategy0",
          "lifestrategy0",
          "lifestrategy0",
          "lifestrategy0",
          "lifestrategy0",
          "lifestrategy0",
          "lifestrategy0",
          "lifestrategy0",
          "lifestrategy0",
          "lifestrategy0",
          "lifestrategy0",
          "lifestrategy0",
          "lifestrategy0",
          "lifestrategy0",
          "lifestrategy0",
          "lifestrategy0",
          "lifestrategy0",
          "lifestrategy0",
          "lifestrategy0",
          "lifestrategy0",
          "lifestrategy0",
          "lifestrategy0",
          "lifestrategy0",
          "lifestrategy0",
          "lifestrategy0",
          "lifestrategy0",
          "lifestrategy0",
          "lifestrategy0",
          "lifestrategy0",
          "lifestrategy0",
          "lifestrategy0",
          "lifestrategy0",
          "lifestrategy0",
          "lifestrategy0",
          "lifestrategy0",
          "lifestrategy0",
          "lifestrategy0",
          "lifestrategy0",
          "lifestrategy0",
          "lifestrategy0",
          "lifestrategy0",
          "lifestrategy0",
          "lifestrategy0",
          "lifestrategy0",
          "lifestrategy0",
          "lifestrategy0",
          "lifestrategy0",
          "lifestrategy0",
          "lifestrategy0",
          "lifestrategy0",
          "lifestrategy0",
          "lifestrategy0",
          "lifestrategy0",
          "lifestrategy0",
          "lifestrategy0",
          "lifestrategy0",
          "lifestrategy0"
         ],
         "y0": " ",
         "yaxis": "y"
        }
       ],
       "layout": {
        "annotations": [
         {
          "font": {
           "color": "#2ca02c",
           "size": 16
          },
          "showarrow": false,
          "text": "Median: 4.66%",
          "x": 0.04655,
          "xanchor": "left",
          "y": 0.4
         },
         {
          "font": {
           "color": "#2ca02c",
           "size": 16
          },
          "showarrow": false,
          "text": "5th %: -0.80%",
          "x": -0.007988,
          "xanchor": "left",
          "y": 0.35000000000000003
         },
         {
          "font": {
           "color": "#ff7f0e",
           "size": 16
          },
          "showarrow": false,
          "text": "Median: 5.46%",
          "x": 0.05459,
          "xanchor": "left",
          "y": 1.4000000000000001
         },
         {
          "font": {
           "color": "#ff7f0e",
           "size": 16
          },
          "showarrow": false,
          "text": "5th %: 0.91%",
          "x": 0.009122000000000002,
          "xanchor": "left",
          "y": 1.35
         },
         {
          "font": {
           "color": "#1f77b4",
           "size": 16
          },
          "showarrow": false,
          "text": "Median: 6.06%",
          "x": 0.06059,
          "xanchor": "left",
          "y": 2.4
         },
         {
          "font": {
           "color": "#1f77b4",
           "size": 16
          },
          "showarrow": false,
          "text": "5th %: 0.55%",
          "x": 0.005502,
          "xanchor": "left",
          "y": 2.35
         }
        ],
        "font": {
         "color": "black"
        },
        "height": 690,
        "legend": {
         "font": {
          "size": 22
         },
         "orientation": "h",
         "title": {
          "text": "Portfolio"
         },
         "tracegroupgap": 0,
         "x": 0.5,
         "xanchor": "center",
         "y": 1.05,
         "yanchor": "bottom"
        },
        "margin": {
         "t": 60
        },
        "shapes": [
         {
          "line": {
           "color": "#2ca02c",
           "width": 3
          },
          "opacity": 1,
          "type": "line",
          "x0": 0.04655,
          "x1": 0.04655,
          "xref": "x",
          "y0": -0.3,
          "y1": 0.3,
          "yref": "y"
         },
         {
          "line": {
           "color": "#2ca02c",
           "dash": "dash",
           "width": 3
          },
          "opacity": 1,
          "type": "line",
          "x0": -0.007988,
          "x1": -0.007988,
          "xref": "x",
          "y0": -0.3,
          "y1": 0.3,
          "yref": "y"
         },
         {
          "line": {
           "color": "#ff7f0e",
           "width": 3
          },
          "opacity": 1,
          "type": "line",
          "x0": 0.05459,
          "x1": 0.05459,
          "xref": "x",
          "y0": 0.7,
          "y1": 1.3,
          "yref": "y"
         },
         {
          "line": {
           "color": "#ff7f0e",
           "dash": "dash",
           "width": 3
          },
          "opacity": 1,
          "type": "line",
          "x0": 0.009122000000000002,
          "x1": 0.009122000000000002,
          "xref": "x",
          "y0": 0.7,
          "y1": 1.3,
          "yref": "y"
         },
         {
          "line": {
           "color": "#1f77b4",
           "width": 3
          },
          "opacity": 1,
          "type": "line",
          "x0": 0.06059,
          "x1": 0.06059,
          "xref": "x",
          "y0": 1.7,
          "y1": 2.3,
          "yref": "y"
         },
         {
          "line": {
           "color": "#1f77b4",
           "dash": "dash",
           "width": 3
          },
          "opacity": 1,
          "type": "line",
          "x0": 0.005502,
          "x1": 0.005502,
          "xref": "x",
          "y0": 1.7,
          "y1": 2.3,
          "yref": "y"
         }
        ],
        "template": {
         "data": {
          "bar": [
           {
            "error_x": {
             "color": "rgb(36,36,36)"
            },
            "error_y": {
             "color": "rgb(36,36,36)"
            },
            "marker": {
             "line": {
              "color": "white",
              "width": 0.5
             },
             "pattern": {
              "fillmode": "overlay",
              "size": 10,
              "solidity": 0.2
             }
            },
            "type": "bar"
           }
          ],
          "barpolar": [
           {
            "marker": {
             "line": {
              "color": "white",
              "width": 0.5
             },
             "pattern": {
              "fillmode": "overlay",
              "size": 10,
              "solidity": 0.2
             }
            },
            "type": "barpolar"
           }
          ],
          "carpet": [
           {
            "aaxis": {
             "endlinecolor": "rgb(36,36,36)",
             "gridcolor": "white",
             "linecolor": "white",
             "minorgridcolor": "white",
             "startlinecolor": "rgb(36,36,36)"
            },
            "baxis": {
             "endlinecolor": "rgb(36,36,36)",
             "gridcolor": "white",
             "linecolor": "white",
             "minorgridcolor": "white",
             "startlinecolor": "rgb(36,36,36)"
            },
            "type": "carpet"
           }
          ],
          "choropleth": [
           {
            "colorbar": {
             "outlinewidth": 1,
             "tickcolor": "rgb(36,36,36)",
             "ticks": "outside"
            },
            "type": "choropleth"
           }
          ],
          "contour": [
           {
            "colorbar": {
             "outlinewidth": 1,
             "tickcolor": "rgb(36,36,36)",
             "ticks": "outside"
            },
            "colorscale": [
             [
              0,
              "#440154"
             ],
             [
              0.1111111111111111,
              "#482878"
             ],
             [
              0.2222222222222222,
              "#3e4989"
             ],
             [
              0.3333333333333333,
              "#31688e"
             ],
             [
              0.4444444444444444,
              "#26828e"
             ],
             [
              0.5555555555555556,
              "#1f9e89"
             ],
             [
              0.6666666666666666,
              "#35b779"
             ],
             [
              0.7777777777777778,
              "#6ece58"
             ],
             [
              0.8888888888888888,
              "#b5de2b"
             ],
             [
              1,
              "#fde725"
             ]
            ],
            "type": "contour"
           }
          ],
          "contourcarpet": [
           {
            "colorbar": {
             "outlinewidth": 1,
             "tickcolor": "rgb(36,36,36)",
             "ticks": "outside"
            },
            "type": "contourcarpet"
           }
          ],
          "heatmap": [
           {
            "colorbar": {
             "outlinewidth": 1,
             "tickcolor": "rgb(36,36,36)",
             "ticks": "outside"
            },
            "colorscale": [
             [
              0,
              "#440154"
             ],
             [
              0.1111111111111111,
              "#482878"
             ],
             [
              0.2222222222222222,
              "#3e4989"
             ],
             [
              0.3333333333333333,
              "#31688e"
             ],
             [
              0.4444444444444444,
              "#26828e"
             ],
             [
              0.5555555555555556,
              "#1f9e89"
             ],
             [
              0.6666666666666666,
              "#35b779"
             ],
             [
              0.7777777777777778,
              "#6ece58"
             ],
             [
              0.8888888888888888,
              "#b5de2b"
             ],
             [
              1,
              "#fde725"
             ]
            ],
            "type": "heatmap"
           }
          ],
          "histogram": [
           {
            "marker": {
             "line": {
              "color": "white",
              "width": 0.6
             }
            },
            "type": "histogram"
           }
          ],
          "histogram2d": [
           {
            "colorbar": {
             "outlinewidth": 1,
             "tickcolor": "rgb(36,36,36)",
             "ticks": "outside"
            },
            "colorscale": [
             [
              0,
              "#440154"
             ],
             [
              0.1111111111111111,
              "#482878"
             ],
             [
              0.2222222222222222,
              "#3e4989"
             ],
             [
              0.3333333333333333,
              "#31688e"
             ],
             [
              0.4444444444444444,
              "#26828e"
             ],
             [
              0.5555555555555556,
              "#1f9e89"
             ],
             [
              0.6666666666666666,
              "#35b779"
             ],
             [
              0.7777777777777778,
              "#6ece58"
             ],
             [
              0.8888888888888888,
              "#b5de2b"
             ],
             [
              1,
              "#fde725"
             ]
            ],
            "type": "histogram2d"
           }
          ],
          "histogram2dcontour": [
           {
            "colorbar": {
             "outlinewidth": 1,
             "tickcolor": "rgb(36,36,36)",
             "ticks": "outside"
            },
            "colorscale": [
             [
              0,
              "#440154"
             ],
             [
              0.1111111111111111,
              "#482878"
             ],
             [
              0.2222222222222222,
              "#3e4989"
             ],
             [
              0.3333333333333333,
              "#31688e"
             ],
             [
              0.4444444444444444,
              "#26828e"
             ],
             [
              0.5555555555555556,
              "#1f9e89"
             ],
             [
              0.6666666666666666,
              "#35b779"
             ],
             [
              0.7777777777777778,
              "#6ece58"
             ],
             [
              0.8888888888888888,
              "#b5de2b"
             ],
             [
              1,
              "#fde725"
             ]
            ],
            "type": "histogram2dcontour"
           }
          ],
          "mesh3d": [
           {
            "colorbar": {
             "outlinewidth": 1,
             "tickcolor": "rgb(36,36,36)",
             "ticks": "outside"
            },
            "type": "mesh3d"
           }
          ],
          "parcoords": [
           {
            "line": {
             "colorbar": {
              "outlinewidth": 1,
              "tickcolor": "rgb(36,36,36)",
              "ticks": "outside"
             }
            },
            "type": "parcoords"
           }
          ],
          "pie": [
           {
            "automargin": true,
            "type": "pie"
           }
          ],
          "scatter": [
           {
            "fillpattern": {
             "fillmode": "overlay",
             "size": 10,
             "solidity": 0.2
            },
            "type": "scatter"
           }
          ],
          "scatter3d": [
           {
            "line": {
             "colorbar": {
              "outlinewidth": 1,
              "tickcolor": "rgb(36,36,36)",
              "ticks": "outside"
             }
            },
            "marker": {
             "colorbar": {
              "outlinewidth": 1,
              "tickcolor": "rgb(36,36,36)",
              "ticks": "outside"
             }
            },
            "type": "scatter3d"
           }
          ],
          "scattercarpet": [
           {
            "marker": {
             "colorbar": {
              "outlinewidth": 1,
              "tickcolor": "rgb(36,36,36)",
              "ticks": "outside"
             }
            },
            "type": "scattercarpet"
           }
          ],
          "scattergeo": [
           {
            "marker": {
             "colorbar": {
              "outlinewidth": 1,
              "tickcolor": "rgb(36,36,36)",
              "ticks": "outside"
             }
            },
            "type": "scattergeo"
           }
          ],
          "scattergl": [
           {
            "marker": {
             "colorbar": {
              "outlinewidth": 1,
              "tickcolor": "rgb(36,36,36)",
              "ticks": "outside"
             }
            },
            "type": "scattergl"
           }
          ],
          "scattermap": [
           {
            "marker": {
             "colorbar": {
              "outlinewidth": 1,
              "tickcolor": "rgb(36,36,36)",
              "ticks": "outside"
             }
            },
            "type": "scattermap"
           }
          ],
          "scattermapbox": [
           {
            "marker": {
             "colorbar": {
              "outlinewidth": 1,
              "tickcolor": "rgb(36,36,36)",
              "ticks": "outside"
             }
            },
            "type": "scattermapbox"
           }
          ],
          "scatterpolar": [
           {
            "marker": {
             "colorbar": {
              "outlinewidth": 1,
              "tickcolor": "rgb(36,36,36)",
              "ticks": "outside"
             }
            },
            "type": "scatterpolar"
           }
          ],
          "scatterpolargl": [
           {
            "marker": {
             "colorbar": {
              "outlinewidth": 1,
              "tickcolor": "rgb(36,36,36)",
              "ticks": "outside"
             }
            },
            "type": "scatterpolargl"
           }
          ],
          "scatterternary": [
           {
            "marker": {
             "colorbar": {
              "outlinewidth": 1,
              "tickcolor": "rgb(36,36,36)",
              "ticks": "outside"
             }
            },
            "type": "scatterternary"
           }
          ],
          "surface": [
           {
            "colorbar": {
             "outlinewidth": 1,
             "tickcolor": "rgb(36,36,36)",
             "ticks": "outside"
            },
            "colorscale": [
             [
              0,
              "#440154"
             ],
             [
              0.1111111111111111,
              "#482878"
             ],
             [
              0.2222222222222222,
              "#3e4989"
             ],
             [
              0.3333333333333333,
              "#31688e"
             ],
             [
              0.4444444444444444,
              "#26828e"
             ],
             [
              0.5555555555555556,
              "#1f9e89"
             ],
             [
              0.6666666666666666,
              "#35b779"
             ],
             [
              0.7777777777777778,
              "#6ece58"
             ],
             [
              0.8888888888888888,
              "#b5de2b"
             ],
             [
              1,
              "#fde725"
             ]
            ],
            "type": "surface"
           }
          ],
          "table": [
           {
            "cells": {
             "fill": {
              "color": "rgb(237,237,237)"
             },
             "line": {
              "color": "white"
             }
            },
            "header": {
             "fill": {
              "color": "rgb(217,217,217)"
             },
             "line": {
              "color": "white"
             }
            },
            "type": "table"
           }
          ]
         },
         "layout": {
          "annotationdefaults": {
           "arrowhead": 0,
           "arrowwidth": 1
          },
          "autotypenumbers": "strict",
          "coloraxis": {
           "colorbar": {
            "outlinewidth": 1,
            "tickcolor": "rgb(36,36,36)",
            "ticks": "outside"
           }
          },
          "colorscale": {
           "diverging": [
            [
             0,
             "rgb(103,0,31)"
            ],
            [
             0.1,
             "rgb(178,24,43)"
            ],
            [
             0.2,
             "rgb(214,96,77)"
            ],
            [
             0.3,
             "rgb(244,165,130)"
            ],
            [
             0.4,
             "rgb(253,219,199)"
            ],
            [
             0.5,
             "rgb(247,247,247)"
            ],
            [
             0.6,
             "rgb(209,229,240)"
            ],
            [
             0.7,
             "rgb(146,197,222)"
            ],
            [
             0.8,
             "rgb(67,147,195)"
            ],
            [
             0.9,
             "rgb(33,102,172)"
            ],
            [
             1,
             "rgb(5,48,97)"
            ]
           ],
           "sequential": [
            [
             0,
             "#440154"
            ],
            [
             0.1111111111111111,
             "#482878"
            ],
            [
             0.2222222222222222,
             "#3e4989"
            ],
            [
             0.3333333333333333,
             "#31688e"
            ],
            [
             0.4444444444444444,
             "#26828e"
            ],
            [
             0.5555555555555556,
             "#1f9e89"
            ],
            [
             0.6666666666666666,
             "#35b779"
            ],
            [
             0.7777777777777778,
             "#6ece58"
            ],
            [
             0.8888888888888888,
             "#b5de2b"
            ],
            [
             1,
             "#fde725"
            ]
           ],
           "sequentialminus": [
            [
             0,
             "#440154"
            ],
            [
             0.1111111111111111,
             "#482878"
            ],
            [
             0.2222222222222222,
             "#3e4989"
            ],
            [
             0.3333333333333333,
             "#31688e"
            ],
            [
             0.4444444444444444,
             "#26828e"
            ],
            [
             0.5555555555555556,
             "#1f9e89"
            ],
            [
             0.6666666666666666,
             "#35b779"
            ],
            [
             0.7777777777777778,
             "#6ece58"
            ],
            [
             0.8888888888888888,
             "#b5de2b"
            ],
            [
             1,
             "#fde725"
            ]
           ]
          },
          "colorway": [
           "#1F77B4",
           "#FF7F0E",
           "#2CA02C",
           "#D62728",
           "#9467BD",
           "#8C564B",
           "#E377C2",
           "#7F7F7F",
           "#BCBD22",
           "#17BECF"
          ],
          "font": {
           "color": "rgb(36,36,36)"
          },
          "geo": {
           "bgcolor": "white",
           "lakecolor": "white",
           "landcolor": "white",
           "showlakes": true,
           "showland": true,
           "subunitcolor": "white"
          },
          "hoverlabel": {
           "align": "left"
          },
          "hovermode": "closest",
          "mapbox": {
           "style": "light"
          },
          "paper_bgcolor": "white",
          "plot_bgcolor": "white",
          "polar": {
           "angularaxis": {
            "gridcolor": "rgb(232,232,232)",
            "linecolor": "rgb(36,36,36)",
            "showgrid": false,
            "showline": true,
            "ticks": "outside"
           },
           "bgcolor": "white",
           "radialaxis": {
            "gridcolor": "rgb(232,232,232)",
            "linecolor": "rgb(36,36,36)",
            "showgrid": false,
            "showline": true,
            "ticks": "outside"
           }
          },
          "scene": {
           "xaxis": {
            "backgroundcolor": "white",
            "gridcolor": "rgb(232,232,232)",
            "gridwidth": 2,
            "linecolor": "rgb(36,36,36)",
            "showbackground": true,
            "showgrid": false,
            "showline": true,
            "ticks": "outside",
            "zeroline": false,
            "zerolinecolor": "rgb(36,36,36)"
           },
           "yaxis": {
            "backgroundcolor": "white",
            "gridcolor": "rgb(232,232,232)",
            "gridwidth": 2,
            "linecolor": "rgb(36,36,36)",
            "showbackground": true,
            "showgrid": false,
            "showline": true,
            "ticks": "outside",
            "zeroline": false,
            "zerolinecolor": "rgb(36,36,36)"
           },
           "zaxis": {
            "backgroundcolor": "white",
            "gridcolor": "rgb(232,232,232)",
            "gridwidth": 2,
            "linecolor": "rgb(36,36,36)",
            "showbackground": true,
            "showgrid": false,
            "showline": true,
            "ticks": "outside",
            "zeroline": false,
            "zerolinecolor": "rgb(36,36,36)"
           }
          },
          "shapedefaults": {
           "fillcolor": "black",
           "line": {
            "width": 0
           },
           "opacity": 0.3
          },
          "ternary": {
           "aaxis": {
            "gridcolor": "rgb(232,232,232)",
            "linecolor": "rgb(36,36,36)",
            "showgrid": false,
            "showline": true,
            "ticks": "outside"
           },
           "baxis": {
            "gridcolor": "rgb(232,232,232)",
            "linecolor": "rgb(36,36,36)",
            "showgrid": false,
            "showline": true,
            "ticks": "outside"
           },
           "bgcolor": "white",
           "caxis": {
            "gridcolor": "rgb(232,232,232)",
            "linecolor": "rgb(36,36,36)",
            "showgrid": false,
            "showline": true,
            "ticks": "outside"
           }
          },
          "title": {
           "x": 0.05
          },
          "xaxis": {
           "automargin": true,
           "gridcolor": "rgb(232,232,232)",
           "linecolor": "rgb(36,36,36)",
           "showgrid": false,
           "showline": true,
           "ticks": "outside",
           "title": {
            "standoff": 15
           },
           "zeroline": false,
           "zerolinecolor": "rgb(36,36,36)"
          },
          "yaxis": {
           "automargin": true,
           "gridcolor": "rgb(232,232,232)",
           "linecolor": "rgb(36,36,36)",
           "showgrid": false,
           "showline": true,
           "ticks": "outside",
           "title": {
            "standoff": 15
           },
           "zeroline": false,
           "zerolinecolor": "rgb(36,36,36)"
          }
         }
        },
        "title": {
         "text": " "
        },
        "violingap": 0.25,
        "violinmode": "overlay",
        "width": 1200,
        "xaxis": {
         "anchor": "y",
         "domain": [
          0,
          1
         ],
         "gridcolor": "lightgray",
         "linecolor": "black",
         "linewidth": 2,
         "showgrid": true,
         "tickfont": {
          "color": "black",
          "size": 16
         },
         "tickformat": ".1%",
         "title": {
          "font": {
           "color": "black",
           "family": "Arial",
           "size": 22
          },
          "text": "Annualized Return (%)"
         }
        },
        "yaxis": {
         "anchor": "x",
         "categoryarray": [
          "lifestrategy0",
          "lifestrategy20",
          "lifestrategy40"
         ],
         "categoryorder": "array",
         "domain": [
          0,
          1
         ],
         "gridcolor": "lightgray",
         "linecolor": "black",
         "linewidth": 2,
         "showgrid": true,
         "tickfont": {
          "color": "black",
          "size": 16
         },
         "title": {
          "font": {
           "color": "black",
           "family": "Arial",
           "size": 22
          },
          "text": "Portfolio"
         }
        }
       }
      }
     },
     "metadata": {},
     "output_type": "display_data"
    }
   ],
   "source": [
    "plot_return_distributions_streamlit(final_results)"
   ]
  },
  {
   "cell_type": "code",
   "execution_count": null,
   "metadata": {},
   "outputs": [],
   "source": []
  },
  {
   "cell_type": "code",
   "execution_count": null,
   "metadata": {},
   "outputs": [],
   "source": []
  },
  {
   "cell_type": "code",
   "execution_count": 12,
   "metadata": {},
   "outputs": [
    {
     "data": {
      "text/plain": [
       "Index(['lifestrategy40', 'lifestrategy20', 'lifestrategy0'], dtype='object')"
      ]
     },
     "execution_count": 12,
     "metadata": {},
     "output_type": "execute_result"
    }
   ],
   "source": [
    "final_results.keys()[1:]"
   ]
  },
  {
   "cell_type": "code",
   "execution_count": 18,
   "metadata": {},
   "outputs": [
    {
     "data": {
      "application/vnd.microsoft.datawrangler.viewer.v0+json": {
       "columns": [
        {
         "name": "index",
         "rawType": "int64",
         "type": "integer"
        },
        {
         "name": "Date",
         "rawType": "object",
         "type": "string"
        },
        {
         "name": "lifestrategy40",
         "rawType": "float64",
         "type": "float"
        },
        {
         "name": "lifestrategy20",
         "rawType": "float64",
         "type": "float"
        },
        {
         "name": "lifestrategy0",
         "rawType": "float64",
         "type": "float"
        }
       ],
       "ref": "94cef4e0-dd13-44d3-b786-291bf36d261d",
       "rows": [
        [
         "0",
         "01/1985",
         "0.39092439595758055",
         "0.2688236922670799",
         "0.1466672987806652"
        ],
        [
         "1",
         "02/1985",
         "0.3059073447574221",
         "0.2089514106736654",
         "0.11195077999864522"
        ],
        [
         "2",
         "03/1985",
         "0.2739737716306456",
         "0.2080205530387762",
         "0.14204458956835864"
        ],
        [
         "3",
         "04/1985",
         "0.2818217105418461",
         "0.19487566905257814",
         "0.10798306416291537"
        ],
        [
         "4",
         "05/1985",
         "0.30912938847094185",
         "0.2175305494509061",
         "0.1259548834977655"
        ],
        [
         "5",
         "06/1985",
         "0.3014565300368537",
         "0.20761348317017414",
         "0.11385713650888496"
        ],
        [
         "6",
         "07/1985",
         "0.3232694143807082",
         "0.23258731257119547",
         "0.14193338323230753"
        ],
        [
         "7",
         "08/1985",
         "0.2308151828466698",
         "0.1679098343680232",
         "0.10500117727623115"
        ],
        [
         "8",
         "09/1985",
         "0.16955246397375134",
         "0.14532907619571955",
         "0.12112515151169312"
        ],
        [
         "9",
         "10/1985",
         "0.21419818288292158",
         "0.1747189255484327",
         "0.13527683837674975"
        ],
        [
         "10",
         "11/1985",
         "0.18975328444624395",
         "0.17284326792496008",
         "0.15590147939632382"
        ],
        [
         "11",
         "12/1985",
         "0.1948180163332669",
         "0.1752308847837889",
         "0.15567691913757042"
        ],
        [
         "12",
         "01/1986",
         "0.2259229088229906",
         "0.197761143846783",
         "0.16960913932090027"
        ],
        [
         "13",
         "02/1986",
         "0.2636902818732241",
         "0.23690802256019117",
         "0.21011578957049548"
        ],
        [
         "14",
         "03/1986",
         "0.2540125426041975",
         "0.22875027494186528",
         "0.20349082951026953"
        ],
        [
         "15",
         "04/1986",
         "0.30312416112441265",
         "0.2819436877330883",
         "0.26079876386856893"
        ],
        [
         "16",
         "05/1986",
         "0.3337497842835151",
         "0.2966485171966524",
         "0.25947525495731116"
        ],
        [
         "17",
         "06/1986",
         "0.3193329006115786",
         "0.31024619183500857",
         "0.301147896907737"
        ],
        [
         "18",
         "07/1986",
         "0.3539537157352619",
         "0.3243332564510095",
         "0.2947415910107338"
        ],
        [
         "19",
         "08/1986",
         "0.32589897293897807",
         "0.3234571015207641",
         "0.3210188291300131"
        ],
        [
         "20",
         "09/1986",
         "0.35944222712291674",
         "0.3471497502750409",
         "0.3348833575475796"
        ],
        [
         "21",
         "10/1986",
         "0.38721738216157675",
         "0.3637945687754365",
         "0.3403099620042749"
        ],
        [
         "22",
         "11/1986",
         "0.32539778263174624",
         "0.3424602252672653",
         "0.35957007836209387"
        ],
        [
         "23",
         "12/1986",
         "0.3387306446147764",
         "0.3462615392224859",
         "0.3538262871960547"
        ],
        [
         "24",
         "01/1987",
         "0.3438530420340944",
         "0.3791156348262459",
         "0.4143226723111022"
        ],
        [
         "25",
         "02/1987",
         "0.33999397934722997",
         "0.37814597448575693",
         "0.4163692193345776"
        ],
        [
         "26",
         "03/1987",
         "0.29025994861866944",
         "0.3435363913031573",
         "0.3967937071900274"
        ],
        [
         "27",
         "04/1987",
         "0.27537019324091805",
         "0.33822557760000027",
         "0.4010449631969628"
        ],
        [
         "28",
         "05/1987",
         "0.28346918627010864",
         "0.3378468773861498",
         "0.3922269790693549"
        ],
        [
         "29",
         "06/1987",
         "0.23607845564126162",
         "0.3035567888490036",
         "0.37105178500554237"
        ],
        [
         "30",
         "07/1987",
         "0.20389678728445393",
         "0.28731988444688583",
         "0.3707300173972423"
        ],
        [
         "31",
         "08/1987",
         "0.17216180493520272",
         "0.2655605383364428",
         "0.3589309183455842"
        ],
        [
         "32",
         "09/1987",
         "0.24827024360100602",
         "0.3494994221164205",
         "0.45071637705392664"
        ],
        [
         "33",
         "10/1987",
         "0.37801672766045513",
         "0.45024509856825157",
         "0.5225291155523055"
        ],
        [
         "34",
         "11/1987",
         "0.4992271710272662",
         "0.5410958096375043",
         "0.582955833581756"
        ],
        [
         "35",
         "12/1987",
         "0.5217594051881935",
         "0.5730889482354549",
         "0.6243933714115588"
        ],
        [
         "36",
         "01/1988",
         "0.46885196738588775",
         "0.5079577648559177",
         "0.5470412244174754"
        ],
        [
         "37",
         "02/1988",
         "0.48305197927937527",
         "0.5432878187760979",
         "0.6034945757953651"
        ],
        [
         "38",
         "03/1988",
         "0.5044190670311226",
         "0.5517254824499218",
         "0.5990495760267018"
        ],
        [
         "39",
         "04/1988",
         "0.4996419944506352",
         "0.5435000809918196",
         "0.5873650175011804"
        ],
        [
         "40",
         "05/1988",
         "0.5120598569738752",
         "0.5435708402535917",
         "0.5750296133379962"
        ],
        [
         "41",
         "06/1988",
         "0.5397535517640923",
         "0.5874373809684146",
         "0.6351094025632946"
        ],
        [
         "42",
         "07/1988",
         "0.5678515409921157",
         "0.6277130054371114",
         "0.6874884686139364"
        ],
        [
         "43",
         "08/1988",
         "0.6130005091116526",
         "0.6459564034853769",
         "0.6788432555789481"
        ],
        [
         "44",
         "09/1988",
         "0.52434966911144",
         "0.5727297758283645",
         "0.621152746187682"
        ],
        [
         "45",
         "10/1988",
         "0.5427219003652992",
         "0.597521613218196",
         "0.6523726234764491"
        ],
        [
         "46",
         "11/1988",
         "0.5579175156090592",
         "0.6293379116566467",
         "0.7008288948502615"
        ],
        [
         "47",
         "12/1988",
         "0.5791328629370909",
         "0.6406743254081468",
         "0.7022058240180635"
        ],
        [
         "48",
         "01/1989",
         "0.5496658524212494",
         "0.5999960435092362",
         "0.6504307295956719"
        ],
        [
         "49",
         "02/1989",
         "0.5374244847365148",
         "0.5943239547508554",
         "0.6511773956753761"
        ]
       ],
       "shape": {
        "columns": 4,
        "rows": 417
       }
      },
      "text/html": [
       "<div>\n",
       "<style scoped>\n",
       "    .dataframe tbody tr th:only-of-type {\n",
       "        vertical-align: middle;\n",
       "    }\n",
       "\n",
       "    .dataframe tbody tr th {\n",
       "        vertical-align: top;\n",
       "    }\n",
       "\n",
       "    .dataframe thead th {\n",
       "        text-align: right;\n",
       "    }\n",
       "</style>\n",
       "<table border=\"1\" class=\"dataframe\">\n",
       "  <thead>\n",
       "    <tr style=\"text-align: right;\">\n",
       "      <th></th>\n",
       "      <th>Date</th>\n",
       "      <th>lifestrategy40</th>\n",
       "      <th>lifestrategy20</th>\n",
       "      <th>lifestrategy0</th>\n",
       "    </tr>\n",
       "  </thead>\n",
       "  <tbody>\n",
       "    <tr>\n",
       "      <th>0</th>\n",
       "      <td>01/1985</td>\n",
       "      <td>0.390924</td>\n",
       "      <td>0.268824</td>\n",
       "      <td>0.146667</td>\n",
       "    </tr>\n",
       "    <tr>\n",
       "      <th>1</th>\n",
       "      <td>02/1985</td>\n",
       "      <td>0.305907</td>\n",
       "      <td>0.208951</td>\n",
       "      <td>0.111951</td>\n",
       "    </tr>\n",
       "    <tr>\n",
       "      <th>2</th>\n",
       "      <td>03/1985</td>\n",
       "      <td>0.273974</td>\n",
       "      <td>0.208021</td>\n",
       "      <td>0.142045</td>\n",
       "    </tr>\n",
       "    <tr>\n",
       "      <th>3</th>\n",
       "      <td>04/1985</td>\n",
       "      <td>0.281822</td>\n",
       "      <td>0.194876</td>\n",
       "      <td>0.107983</td>\n",
       "    </tr>\n",
       "    <tr>\n",
       "      <th>4</th>\n",
       "      <td>05/1985</td>\n",
       "      <td>0.309129</td>\n",
       "      <td>0.217531</td>\n",
       "      <td>0.125955</td>\n",
       "    </tr>\n",
       "    <tr>\n",
       "      <th>...</th>\n",
       "      <td>...</td>\n",
       "      <td>...</td>\n",
       "      <td>...</td>\n",
       "      <td>...</td>\n",
       "    </tr>\n",
       "    <tr>\n",
       "      <th>412</th>\n",
       "      <td>12/2019</td>\n",
       "      <td>0.285241</td>\n",
       "      <td>0.101702</td>\n",
       "      <td>-0.081832</td>\n",
       "    </tr>\n",
       "    <tr>\n",
       "      <th>413</th>\n",
       "      <td>01/2020</td>\n",
       "      <td>0.287259</td>\n",
       "      <td>0.089492</td>\n",
       "      <td>-0.108280</td>\n",
       "    </tr>\n",
       "    <tr>\n",
       "      <th>414</th>\n",
       "      <td>02/2020</td>\n",
       "      <td>0.341954</td>\n",
       "      <td>0.115220</td>\n",
       "      <td>-0.111469</td>\n",
       "    </tr>\n",
       "    <tr>\n",
       "      <th>415</th>\n",
       "      <td>03/2020</td>\n",
       "      <td>0.374079</td>\n",
       "      <td>0.118935</td>\n",
       "      <td>-0.136208</td>\n",
       "    </tr>\n",
       "    <tr>\n",
       "      <th>416</th>\n",
       "      <td>04/2020</td>\n",
       "      <td>0.238035</td>\n",
       "      <td>0.038427</td>\n",
       "      <td>-0.161218</td>\n",
       "    </tr>\n",
       "  </tbody>\n",
       "</table>\n",
       "<p>417 rows × 4 columns</p>\n",
       "</div>"
      ],
      "text/plain": [
       "        Date  lifestrategy40  lifestrategy20  lifestrategy0\n",
       "0    01/1985        0.390924        0.268824       0.146667\n",
       "1    02/1985        0.305907        0.208951       0.111951\n",
       "2    03/1985        0.273974        0.208021       0.142045\n",
       "3    04/1985        0.281822        0.194876       0.107983\n",
       "4    05/1985        0.309129        0.217531       0.125955\n",
       "..       ...             ...             ...            ...\n",
       "412  12/2019        0.285241        0.101702      -0.081832\n",
       "413  01/2020        0.287259        0.089492      -0.108280\n",
       "414  02/2020        0.341954        0.115220      -0.111469\n",
       "415  03/2020        0.374079        0.118935      -0.136208\n",
       "416  04/2020        0.238035        0.038427      -0.161218\n",
       "\n",
       "[417 rows x 4 columns]"
      ]
     },
     "execution_count": 18,
     "metadata": {},
     "output_type": "execute_result"
    }
   ],
   "source": [
    "final_results_totalreturn = final_results.copy()\n",
    "years = 5\n",
    "\n",
    "for portfolio in final_results_totalreturn.keys()[1:]:\n",
    "\n",
    "    final_results_totalreturn[portfolio] = (final_results[portfolio] + 1)**years - 1\n",
    "\n",
    "final_results_totalreturn"
   ]
  },
  {
   "cell_type": "markdown",
   "metadata": {},
   "source": []
  },
  {
   "cell_type": "code",
   "execution_count": null,
   "metadata": {},
   "outputs": [],
   "source": []
  },
  {
   "cell_type": "code",
   "execution_count": null,
   "metadata": {},
   "outputs": [],
   "source": []
  },
  {
   "cell_type": "code",
   "execution_count": 1,
   "metadata": {},
   "outputs": [
    {
     "ename": "NameError",
     "evalue": "name 'portfolios' is not defined",
     "output_type": "error",
     "traceback": [
      "\u001b[31m---------------------------------------------------------------------------\u001b[39m",
      "\u001b[31mNameError\u001b[39m                                 Traceback (most recent call last)",
      "\u001b[36mCell\u001b[39m\u001b[36m \u001b[39m\u001b[32mIn[1]\u001b[39m\u001b[32m, line 3\u001b[39m\n\u001b[32m      1\u001b[39m final_maxdrawdown = \u001b[38;5;28;01mNone\u001b[39;00m\n\u001b[32m----> \u001b[39m\u001b[32m3\u001b[39m \u001b[38;5;28;01mfor\u001b[39;00m portfolio_name \u001b[38;5;129;01min\u001b[39;00m \u001b[43mportfolios\u001b[49m:\n\u001b[32m      5\u001b[39m     portfolio = load_portfolio(portfolio_name)\n\u001b[32m      6\u001b[39m     data, weights = prune_data_portfolio(portfolio)\n",
      "\u001b[31mNameError\u001b[39m: name 'portfolios' is not defined"
     ]
    }
   ],
   "source": [
    "final_maxdrawdown = None\n",
    "\n",
    "for portfolio_name in portfolios:\n",
    "\n",
    "    portfolio = load_portfolio(portfolio_name)\n",
    "    data, weights = prune_data_portfolio(portfolio)\n",
    "\n",
    "    prices = compute_portfolio_prices(portfolio, portfolio_name)\n",
    "\n",
    "    maxdrawdown = max_drawdown(prices)\n",
    "\n",
    "    final_maxdrawdown = merge_results(final_maxdrawdown, maxdrawdown)\n",
    "\n",
    "plot_max_drawdown(final_maxdrawdown)"
   ]
  },
  {
   "cell_type": "code",
   "execution_count": null,
   "metadata": {},
   "outputs": [],
   "source": []
  },
  {
   "cell_type": "code",
   "execution_count": null,
   "metadata": {},
   "outputs": [
    {
     "ename": "NameError",
     "evalue": "name 'total_return' is not defined",
     "output_type": "error",
     "traceback": [
      "\u001b[31m---------------------------------------------------------------------------\u001b[39m",
      "\u001b[31mNameError\u001b[39m                                 Traceback (most recent call last)",
      "\u001b[36mCell\u001b[39m\u001b[36m \u001b[39m\u001b[32mIn[10]\u001b[39m\u001b[32m, line 1\u001b[39m\n\u001b[32m----> \u001b[39m\u001b[32m1\u001b[39m \u001b[43mtotal_return\u001b[49m ** (\u001b[32m1\u001b[39m / years) - \u001b[32m1\u001b[39m\n",
      "\u001b[31mNameError\u001b[39m: name 'total_return' is not defined"
     ]
    }
   ],
   "source": [
    "(annualized_return + 1)**years"
   ]
  },
  {
   "cell_type": "code",
   "execution_count": null,
   "metadata": {},
   "outputs": [],
   "source": []
  },
  {
   "cell_type": "code",
   "execution_count": null,
   "metadata": {},
   "outputs": [],
   "source": []
  }
 ],
 "metadata": {
  "kernelspec": {
   "display_name": "finace4all",
   "language": "python",
   "name": "python3"
  },
  "language_info": {
   "codemirror_mode": {
    "name": "ipython",
    "version": 3
   },
   "file_extension": ".py",
   "mimetype": "text/x-python",
   "name": "python",
   "nbconvert_exporter": "python",
   "pygments_lexer": "ipython3",
   "version": "3.12.9"
  }
 },
 "nbformat": 4,
 "nbformat_minor": 2
}
