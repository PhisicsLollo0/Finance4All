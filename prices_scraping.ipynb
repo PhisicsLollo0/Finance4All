{
 "cells": [
  {
   "cell_type": "code",
   "execution_count": 2,
   "metadata": {},
   "outputs": [
    {
     "name": "stdout",
     "output_type": "stream",
     "text": [
      "['/home/cavallo/Finance4All/data/indexes/MSCI_Europe_Small_Cap_Value_Weighted.csv', '/home/cavallo/Finance4All/data/indexes/Historical_data_updated.csv', '/home/cavallo/Finance4All/data/indexes/MSCI_Europe.csv', '/home/cavallo/Finance4All/data/indexes/MSCI_World_Momentum.csv', '/home/cavallo/Finance4All/data/indexes/MSCI_ACWI.csv', '/home/cavallo/Finance4All/data/indexes/MSCI_World.csv', '/home/cavallo/Finance4All/data/indexes/S&P_500_Minimum_Volatility.csv', '/home/cavallo/Finance4All/data/indexes/MSCI_Emerging_Markets.csv', '/home/cavallo/Finance4All/data/indexes/FTSE_World_Government_Bond_Developed_Markets.csv', '/home/cavallo/Finance4All/data/indexes/S&P_500.csv', '/home/cavallo/Finance4All/data/indexes/MSCI_USA_Small_Cap_Value_Weighted.csv']\n"
     ]
    }
   ],
   "source": [
    "from src.scraping.get_data import *\n",
    "from src.utils.checks import *\n",
    "from src.portfolio.data_manipulation import *\n",
    "from src.plots.basics import *\n",
    "from src.computations.compute_returns import *\n",
    "from src.computations.metrics import *\n",
    "from src.utils.basics import *\n",
    "from src.plots.basics_streamlit import *\n",
    "\n",
    "get_data_info()\n",
    "data = get_data_updated_2025()"
   ]
  },
  {
   "cell_type": "markdown",
   "metadata": {},
   "source": [
    "download_data_updated()"
   ]
  },
  {
   "cell_type": "code",
   "execution_count": 6,
   "metadata": {},
   "outputs": [
    {
     "data": {
      "text/plain": [
       "['100_2factors',\n",
       " '80_20_ACWI',\n",
       " '80_20_World',\n",
       " '80_20_2factors',\n",
       " 'lifestrategy60',\n",
       " 'lifestrategy80',\n",
       " 'lifestrategy20',\n",
       " 'lifestrategy0',\n",
       " 'lifestrategy40',\n",
       " 'lifestrategy100',\n",
       " '80_20_1factor',\n",
       " '60_40_World']"
      ]
     },
     "execution_count": 6,
     "metadata": {},
     "output_type": "execute_result"
    }
   ],
   "source": [
    "get_list_of_portfolios()"
   ]
  },
  {
   "cell_type": "code",
   "execution_count": 3,
   "metadata": {},
   "outputs": [
    {
     "data": {
      "text/plain": [
       "['100_2factors',\n",
       " '80_20_2factors',\n",
       " '80_20_1factor',\n",
       " '80_20_ACWI',\n",
       " '80_20_World',\n",
       " 'lifestrategy100',\n",
       " 'lifestrategy80',\n",
       " 'lifestrategy60',\n",
       " 'lifestrategy40',\n",
       " 'lifestrategy20',\n",
       " 'lifestrategy0']"
      ]
     },
     "execution_count": 3,
     "metadata": {},
     "output_type": "execute_result"
    }
   ],
   "source": [
    "PORTFOLIOS = [\n",
    "    '100_2factors',\n",
    "    '80_20_2factors',\n",
    "    '80_20_1factor',\n",
    "    '80_20_ACWI',\n",
    "    '80_20_World'\n",
    "]\n",
    "\n",
    "PORTOFOLIO_NAMES = {\n",
    "    '100_2factors'  : '100% Stocks + SmallCap Value + Momentum',\n",
    "    '80_20_2factors': '80% Stocks + 20% Bonds + SmallCap Value + Momentum',\n",
    "    '80_20_1factor' : '80% Stocks + 20% Bonds + SmallCap Value',\n",
    "    '80_20_ACWI'    : '80% Stocks(ACWI) + 20% Bonds',\n",
    "    '80_20_World'   : '80% Stocks(World) + 20% Bonds',\n",
    "}\n",
    "\n",
    "PORTFOLIO_DESCRIPTIONS = {\n",
    "    '100_2factors'  : 'This portfolio invests 100% in stocks, focusing on small-cap value and momentum strategies.',\n",
    "    '80_20_2factors': 'This portfolio allocates 80% to stocks and 20% to bonds, incorporating small-cap value and momentum factors.',\n",
    "    '80_20_1factor' : 'This portfolio invests 80% in stocks and 20% in bonds, focusing on small-cap value.',\n",
    "    '80_20_ACWI'    : 'This portfolio invests 80% in global stocks (ACWI) and 20% in bonds.',\n",
    "    '80_20_World'   : 'This portfolio invests 80% in world stocks and 20% in bonds.'\n",
    "}\n",
    "\n",
    "# Add another group of portfolios in col2\n",
    "SIMPLE_PORTFOLIOS = [\n",
    "    'lifestrategy100',\n",
    "    'lifestrategy80',\n",
    "    'lifestrategy60',\n",
    "    'lifestrategy40',\n",
    "    'lifestrategy20',\n",
    "    'lifestrategy0'\n",
    "]\n",
    "\n",
    "SIMPLE_PORTFOLIO_NAMES = {\n",
    "    'lifestrategy100': '100% Stocks',\n",
    "    'lifestrategy80' : '80% Stocks + 20% Bonds',\n",
    "    'lifestrategy60' : '60% Stocks + 40% Bonds',\n",
    "    'lifestrategy40' : '40% Stocks + 60% Bonds',\n",
    "    'lifestrategy20' : '20% Stocks + 80% Bonds',\n",
    "    'lifestrategy0'  : '100% Bonds'\n",
    "}\n",
    "\n",
    "SIMPLE_PORTFOLIO_DESCRIPTIONS = {\n",
    "    'lifestrategy100': 'This portfolio invests 100% in stocks, suitable for aggressive strategies seeking high growth. Note that stocks are MSCI World',\n",
    "    'lifestrategy80' : 'This portfolio allocates 80% to stocks and 20% to bonds, balancing growth and stability. Stocks are MSCI World',\n",
    "    'lifestrategy60' : 'This portfolio invests 60% in stocks and 40% in bonds, providing moderate growth with some stability. Stocks are MSCI World',\n",
    "    'lifestrategy40' : 'This portfolio invests 40% in stocks and 60% in bonds, focusing on stability with some growth potential. Stocks are MSCI World',\n",
    "    'lifestrategy20' : 'This portfolio invests 20% in stocks and 80% in bonds, prioritizing stability with minimal growth. Stocks are MSCI World',\n",
    "    'lifestrategy0'  : 'This portfolio invests 100% in bonds, suitable for conservative strategies seeking capital preservation.'\n",
    "}\n",
    "\n",
    "ALL_PORTFOLIOS = PORTFOLIOS + SIMPLE_PORTFOLIOS\n",
    "ALL_PORTFOLIOS"
   ]
  },
  {
   "cell_type": "code",
   "execution_count": null,
   "metadata": {},
   "outputs": [],
   "source": [
    "import seaborn as sns\n",
    "from matplotlib.lines import Line2D\n",
    "\n",
    "import plotly.express as px\n",
    "\n",
    "def plot_annualized_returns(results, years=None, plot_figure=True):\n",
    "    \"\"\"\n",
    "    Plots the annualized returns of indices over time interactively using Plotly and Seaborn style.\n",
    "    \"\"\"\n",
    "    df = pd.DataFrame(results)\n",
    "    df[\"Date\"] = pd.to_datetime(df[\"Date\"], format=\"%m/%Y\")\n",
    "    df.set_index(\"Date\", inplace=True)\n",
    "\n",
    "    # Seaborn style for consistency\n",
    "    sns.set(style=\"whitegrid\", context=\"talk\")\n",
    "\n",
    "    # Melt for Plotly\n",
    "    df_reset = df.reset_index()\n",
    "    df_melt = df_reset.melt(id_vars=\"Date\", var_name=\"Portfolio\", value_name=\"Annualized Return\")\n",
    "\n",
    "    fig = px.line(\n",
    "        df_melt,\n",
    "        x=\"Date\",\n",
    "        y=\"Annualized Return\",\n",
    "        color=\"Portfolio\",\n",
    "        title=f\"Annualized Returns of {years} years rolling windows\",\n",
    "        labels={\"Annualized Return\": \"Annualized Return (%)\"},\n",
    "        template=\"simple_white\"\n",
    "    )\n",
    "    fig.update_traces(mode=\"lines\", line=dict(width=2))\n",
    "    fig.update_layout(\n",
    "        yaxis_tickformat=\".2%\",\n",
    "        xaxis_title=\"Date\",\n",
    "        yaxis_title=\"Annualized Return (%)\",\n",
    "        legend_title=\"Portfolio\",\n",
    "        title_font_size=18,\n",
    "        title_font_family=\"Arial\",\n",
    "        legend=dict(font=dict(size=14)),\n",
    "        xaxis=dict(tickformat=\"%Y\")\n",
    "    )\n",
    "    return fig\n"
   ]
  },
  {
   "cell_type": "code",
   "execution_count": null,
   "metadata": {},
   "outputs": [
    {
     "data": {
      "application/vnd.plotly.v1+json": {
       "config": {
        "plotlyServerURL": "https://plot.ly"
       },
       "data": [
        {
         "alignmentgroup": "True",
         "box": {
          "visible": false
         },
         "hovertemplate": "Portfolio=%{y}<br>Return=%{x}<extra></extra>",
         "legendgroup": "lifestrategy40",
         "marker": {
          "color": "#1f77b4"
         },
         "name": "lifestrategy40",
         "offsetgroup": "lifestrategy40",
         "orientation": "h",
         "points": "all",
         "scalegroup": "True",
         "showlegend": true,
         "type": "violin",
         "x": {
          "bdata": "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",
          "dtype": "f8"
         },
         "x0": " ",
         "xaxis": "x",
         "y": [
          "lifestrategy40",
          "lifestrategy40",
          "lifestrategy40",
          "lifestrategy40",
          "lifestrategy40",
          "lifestrategy40",
          "lifestrategy40",
          "lifestrategy40",
          "lifestrategy40",
          "lifestrategy40",
          "lifestrategy40",
          "lifestrategy40",
          "lifestrategy40",
          "lifestrategy40",
          "lifestrategy40",
          "lifestrategy40",
          "lifestrategy40",
          "lifestrategy40",
          "lifestrategy40",
          "lifestrategy40",
          "lifestrategy40",
          "lifestrategy40",
          "lifestrategy40",
          "lifestrategy40",
          "lifestrategy40",
          "lifestrategy40",
          "lifestrategy40",
          "lifestrategy40",
          "lifestrategy40",
          "lifestrategy40",
          "lifestrategy40",
          "lifestrategy40",
          "lifestrategy40",
          "lifestrategy40",
          "lifestrategy40",
          "lifestrategy40",
          "lifestrategy40",
          "lifestrategy40",
          "lifestrategy40",
          "lifestrategy40",
          "lifestrategy40",
          "lifestrategy40",
          "lifestrategy40",
          "lifestrategy40",
          "lifestrategy40",
          "lifestrategy40",
          "lifestrategy40",
          "lifestrategy40",
          "lifestrategy40",
          "lifestrategy40",
          "lifestrategy40",
          "lifestrategy40",
          "lifestrategy40",
          "lifestrategy40",
          "lifestrategy40",
          "lifestrategy40",
          "lifestrategy40",
          "lifestrategy40",
          "lifestrategy40",
          "lifestrategy40",
          "lifestrategy40",
          "lifestrategy40",
          "lifestrategy40",
          "lifestrategy40",
          "lifestrategy40",
          "lifestrategy40",
          "lifestrategy40",
          "lifestrategy40",
          "lifestrategy40",
          "lifestrategy40",
          "lifestrategy40",
          "lifestrategy40",
          "lifestrategy40",
          "lifestrategy40",
          "lifestrategy40",
          "lifestrategy40",
          "lifestrategy40",
          "lifestrategy40",
          "lifestrategy40",
          "lifestrategy40",
          "lifestrategy40",
          "lifestrategy40",
          "lifestrategy40",
          "lifestrategy40",
          "lifestrategy40",
          "lifestrategy40",
          "lifestrategy40",
          "lifestrategy40",
          "lifestrategy40",
          "lifestrategy40",
          "lifestrategy40",
          "lifestrategy40",
          "lifestrategy40",
          "lifestrategy40",
          "lifestrategy40",
          "lifestrategy40",
          "lifestrategy40",
          "lifestrategy40",
          "lifestrategy40",
          "lifestrategy40",
          "lifestrategy40",
          "lifestrategy40",
          "lifestrategy40",
          "lifestrategy40",
          "lifestrategy40",
          "lifestrategy40",
          "lifestrategy40",
          "lifestrategy40",
          "lifestrategy40",
          "lifestrategy40",
          "lifestrategy40",
          "lifestrategy40",
          "lifestrategy40",
          "lifestrategy40",
          "lifestrategy40",
          "lifestrategy40",
          "lifestrategy40",
          "lifestrategy40",
          "lifestrategy40",
          "lifestrategy40",
          "lifestrategy40",
          "lifestrategy40",
          "lifestrategy40",
          "lifestrategy40",
          "lifestrategy40",
          "lifestrategy40",
          "lifestrategy40",
          "lifestrategy40",
          "lifestrategy40",
          "lifestrategy40",
          "lifestrategy40",
          "lifestrategy40",
          "lifestrategy40",
          "lifestrategy40",
          "lifestrategy40",
          "lifestrategy40",
          "lifestrategy40",
          "lifestrategy40",
          "lifestrategy40",
          "lifestrategy40",
          "lifestrategy40",
          "lifestrategy40",
          "lifestrategy40",
          "lifestrategy40",
          "lifestrategy40",
          "lifestrategy40",
          "lifestrategy40",
          "lifestrategy40",
          "lifestrategy40",
          "lifestrategy40",
          "lifestrategy40",
          "lifestrategy40",
          "lifestrategy40",
          "lifestrategy40",
          "lifestrategy40",
          "lifestrategy40",
          "lifestrategy40",
          "lifestrategy40",
          "lifestrategy40",
          "lifestrategy40",
          "lifestrategy40",
          "lifestrategy40",
          "lifestrategy40",
          "lifestrategy40",
          "lifestrategy40",
          "lifestrategy40",
          "lifestrategy40",
          "lifestrategy40",
          "lifestrategy40",
          "lifestrategy40",
          "lifestrategy40",
          "lifestrategy40",
          "lifestrategy40",
          "lifestrategy40",
          "lifestrategy40",
          "lifestrategy40",
          "lifestrategy40",
          "lifestrategy40",
          "lifestrategy40",
          "lifestrategy40",
          "lifestrategy40",
          "lifestrategy40",
          "lifestrategy40",
          "lifestrategy40",
          "lifestrategy40",
          "lifestrategy40",
          "lifestrategy40",
          "lifestrategy40",
          "lifestrategy40",
          "lifestrategy40",
          "lifestrategy40",
          "lifestrategy40",
          "lifestrategy40",
          "lifestrategy40",
          "lifestrategy40",
          "lifestrategy40",
          "lifestrategy40",
          "lifestrategy40",
          "lifestrategy40",
          "lifestrategy40",
          "lifestrategy40",
          "lifestrategy40",
          "lifestrategy40",
          "lifestrategy40",
          "lifestrategy40",
          "lifestrategy40",
          "lifestrategy40",
          "lifestrategy40",
          "lifestrategy40",
          "lifestrategy40",
          "lifestrategy40",
          "lifestrategy40",
          "lifestrategy40",
          "lifestrategy40",
          "lifestrategy40",
          "lifestrategy40",
          "lifestrategy40",
          "lifestrategy40",
          "lifestrategy40",
          "lifestrategy40",
          "lifestrategy40",
          "lifestrategy40",
          "lifestrategy40",
          "lifestrategy40",
          "lifestrategy40",
          "lifestrategy40",
          "lifestrategy40",
          "lifestrategy40",
          "lifestrategy40",
          "lifestrategy40",
          "lifestrategy40",
          "lifestrategy40",
          "lifestrategy40",
          "lifestrategy40",
          "lifestrategy40",
          "lifestrategy40",
          "lifestrategy40",
          "lifestrategy40",
          "lifestrategy40",
          "lifestrategy40",
          "lifestrategy40",
          "lifestrategy40",
          "lifestrategy40",
          "lifestrategy40",
          "lifestrategy40",
          "lifestrategy40",
          "lifestrategy40",
          "lifestrategy40",
          "lifestrategy40",
          "lifestrategy40",
          "lifestrategy40",
          "lifestrategy40",
          "lifestrategy40",
          "lifestrategy40",
          "lifestrategy40",
          "lifestrategy40",
          "lifestrategy40",
          "lifestrategy40",
          "lifestrategy40",
          "lifestrategy40",
          "lifestrategy40",
          "lifestrategy40",
          "lifestrategy40",
          "lifestrategy40",
          "lifestrategy40",
          "lifestrategy40",
          "lifestrategy40",
          "lifestrategy40",
          "lifestrategy40",
          "lifestrategy40",
          "lifestrategy40",
          "lifestrategy40",
          "lifestrategy40",
          "lifestrategy40",
          "lifestrategy40",
          "lifestrategy40",
          "lifestrategy40",
          "lifestrategy40",
          "lifestrategy40",
          "lifestrategy40",
          "lifestrategy40",
          "lifestrategy40",
          "lifestrategy40",
          "lifestrategy40",
          "lifestrategy40",
          "lifestrategy40",
          "lifestrategy40",
          "lifestrategy40",
          "lifestrategy40",
          "lifestrategy40",
          "lifestrategy40",
          "lifestrategy40",
          "lifestrategy40",
          "lifestrategy40",
          "lifestrategy40",
          "lifestrategy40",
          "lifestrategy40",
          "lifestrategy40",
          "lifestrategy40",
          "lifestrategy40",
          "lifestrategy40",
          "lifestrategy40",
          "lifestrategy40",
          "lifestrategy40",
          "lifestrategy40",
          "lifestrategy40",
          "lifestrategy40",
          "lifestrategy40",
          "lifestrategy40",
          "lifestrategy40",
          "lifestrategy40",
          "lifestrategy40",
          "lifestrategy40",
          "lifestrategy40",
          "lifestrategy40",
          "lifestrategy40",
          "lifestrategy40",
          "lifestrategy40",
          "lifestrategy40",
          "lifestrategy40",
          "lifestrategy40",
          "lifestrategy40",
          "lifestrategy40",
          "lifestrategy40",
          "lifestrategy40",
          "lifestrategy40",
          "lifestrategy40",
          "lifestrategy40",
          "lifestrategy40",
          "lifestrategy40",
          "lifestrategy40",
          "lifestrategy40",
          "lifestrategy40",
          "lifestrategy40",
          "lifestrategy40",
          "lifestrategy40",
          "lifestrategy40",
          "lifestrategy40",
          "lifestrategy40",
          "lifestrategy40",
          "lifestrategy40",
          "lifestrategy40",
          "lifestrategy40",
          "lifestrategy40",
          "lifestrategy40",
          "lifestrategy40",
          "lifestrategy40",
          "lifestrategy40",
          "lifestrategy40",
          "lifestrategy40",
          "lifestrategy40",
          "lifestrategy40",
          "lifestrategy40",
          "lifestrategy40",
          "lifestrategy40",
          "lifestrategy40",
          "lifestrategy40",
          "lifestrategy40",
          "lifestrategy40",
          "lifestrategy40",
          "lifestrategy40",
          "lifestrategy40",
          "lifestrategy40",
          "lifestrategy40",
          "lifestrategy40",
          "lifestrategy40",
          "lifestrategy40",
          "lifestrategy40",
          "lifestrategy40",
          "lifestrategy40",
          "lifestrategy40",
          "lifestrategy40",
          "lifestrategy40",
          "lifestrategy40",
          "lifestrategy40",
          "lifestrategy40",
          "lifestrategy40",
          "lifestrategy40",
          "lifestrategy40",
          "lifestrategy40",
          "lifestrategy40",
          "lifestrategy40",
          "lifestrategy40",
          "lifestrategy40",
          "lifestrategy40",
          "lifestrategy40",
          "lifestrategy40",
          "lifestrategy40",
          "lifestrategy40",
          "lifestrategy40",
          "lifestrategy40",
          "lifestrategy40",
          "lifestrategy40",
          "lifestrategy40",
          "lifestrategy40",
          "lifestrategy40",
          "lifestrategy40",
          "lifestrategy40",
          "lifestrategy40",
          "lifestrategy40",
          "lifestrategy40",
          "lifestrategy40",
          "lifestrategy40",
          "lifestrategy40",
          "lifestrategy40",
          "lifestrategy40",
          "lifestrategy40",
          "lifestrategy40",
          "lifestrategy40",
          "lifestrategy40",
          "lifestrategy40",
          "lifestrategy40",
          "lifestrategy40",
          "lifestrategy40",
          "lifestrategy40",
          "lifestrategy40",
          "lifestrategy40"
         ],
         "y0": " ",
         "yaxis": "y"
        },
        {
         "alignmentgroup": "True",
         "box": {
          "visible": false
         },
         "hovertemplate": "Portfolio=%{y}<br>Return=%{x}<extra></extra>",
         "legendgroup": "lifestrategy20",
         "marker": {
          "color": "#ff7f0e"
         },
         "name": "lifestrategy20",
         "offsetgroup": "lifestrategy20",
         "orientation": "h",
         "points": "all",
         "scalegroup": "True",
         "showlegend": true,
         "type": "violin",
         "x": {
          "bdata": "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",
          "dtype": "f8"
         },
         "x0": " ",
         "xaxis": "x",
         "y": [
          "lifestrategy20",
          "lifestrategy20",
          "lifestrategy20",
          "lifestrategy20",
          "lifestrategy20",
          "lifestrategy20",
          "lifestrategy20",
          "lifestrategy20",
          "lifestrategy20",
          "lifestrategy20",
          "lifestrategy20",
          "lifestrategy20",
          "lifestrategy20",
          "lifestrategy20",
          "lifestrategy20",
          "lifestrategy20",
          "lifestrategy20",
          "lifestrategy20",
          "lifestrategy20",
          "lifestrategy20",
          "lifestrategy20",
          "lifestrategy20",
          "lifestrategy20",
          "lifestrategy20",
          "lifestrategy20",
          "lifestrategy20",
          "lifestrategy20",
          "lifestrategy20",
          "lifestrategy20",
          "lifestrategy20",
          "lifestrategy20",
          "lifestrategy20",
          "lifestrategy20",
          "lifestrategy20",
          "lifestrategy20",
          "lifestrategy20",
          "lifestrategy20",
          "lifestrategy20",
          "lifestrategy20",
          "lifestrategy20",
          "lifestrategy20",
          "lifestrategy20",
          "lifestrategy20",
          "lifestrategy20",
          "lifestrategy20",
          "lifestrategy20",
          "lifestrategy20",
          "lifestrategy20",
          "lifestrategy20",
          "lifestrategy20",
          "lifestrategy20",
          "lifestrategy20",
          "lifestrategy20",
          "lifestrategy20",
          "lifestrategy20",
          "lifestrategy20",
          "lifestrategy20",
          "lifestrategy20",
          "lifestrategy20",
          "lifestrategy20",
          "lifestrategy20",
          "lifestrategy20",
          "lifestrategy20",
          "lifestrategy20",
          "lifestrategy20",
          "lifestrategy20",
          "lifestrategy20",
          "lifestrategy20",
          "lifestrategy20",
          "lifestrategy20",
          "lifestrategy20",
          "lifestrategy20",
          "lifestrategy20",
          "lifestrategy20",
          "lifestrategy20",
          "lifestrategy20",
          "lifestrategy20",
          "lifestrategy20",
          "lifestrategy20",
          "lifestrategy20",
          "lifestrategy20",
          "lifestrategy20",
          "lifestrategy20",
          "lifestrategy20",
          "lifestrategy20",
          "lifestrategy20",
          "lifestrategy20",
          "lifestrategy20",
          "lifestrategy20",
          "lifestrategy20",
          "lifestrategy20",
          "lifestrategy20",
          "lifestrategy20",
          "lifestrategy20",
          "lifestrategy20",
          "lifestrategy20",
          "lifestrategy20",
          "lifestrategy20",
          "lifestrategy20",
          "lifestrategy20",
          "lifestrategy20",
          "lifestrategy20",
          "lifestrategy20",
          "lifestrategy20",
          "lifestrategy20",
          "lifestrategy20",
          "lifestrategy20",
          "lifestrategy20",
          "lifestrategy20",
          "lifestrategy20",
          "lifestrategy20",
          "lifestrategy20",
          "lifestrategy20",
          "lifestrategy20",
          "lifestrategy20",
          "lifestrategy20",
          "lifestrategy20",
          "lifestrategy20",
          "lifestrategy20",
          "lifestrategy20",
          "lifestrategy20",
          "lifestrategy20",
          "lifestrategy20",
          "lifestrategy20",
          "lifestrategy20",
          "lifestrategy20",
          "lifestrategy20",
          "lifestrategy20",
          "lifestrategy20",
          "lifestrategy20",
          "lifestrategy20",
          "lifestrategy20",
          "lifestrategy20",
          "lifestrategy20",
          "lifestrategy20",
          "lifestrategy20",
          "lifestrategy20",
          "lifestrategy20",
          "lifestrategy20",
          "lifestrategy20",
          "lifestrategy20",
          "lifestrategy20",
          "lifestrategy20",
          "lifestrategy20",
          "lifestrategy20",
          "lifestrategy20",
          "lifestrategy20",
          "lifestrategy20",
          "lifestrategy20",
          "lifestrategy20",
          "lifestrategy20",
          "lifestrategy20",
          "lifestrategy20",
          "lifestrategy20",
          "lifestrategy20",
          "lifestrategy20",
          "lifestrategy20",
          "lifestrategy20",
          "lifestrategy20",
          "lifestrategy20",
          "lifestrategy20",
          "lifestrategy20",
          "lifestrategy20",
          "lifestrategy20",
          "lifestrategy20",
          "lifestrategy20",
          "lifestrategy20",
          "lifestrategy20",
          "lifestrategy20",
          "lifestrategy20",
          "lifestrategy20",
          "lifestrategy20",
          "lifestrategy20",
          "lifestrategy20",
          "lifestrategy20",
          "lifestrategy20",
          "lifestrategy20",
          "lifestrategy20",
          "lifestrategy20",
          "lifestrategy20",
          "lifestrategy20",
          "lifestrategy20",
          "lifestrategy20",
          "lifestrategy20",
          "lifestrategy20",
          "lifestrategy20",
          "lifestrategy20",
          "lifestrategy20",
          "lifestrategy20",
          "lifestrategy20",
          "lifestrategy20",
          "lifestrategy20",
          "lifestrategy20",
          "lifestrategy20",
          "lifestrategy20",
          "lifestrategy20",
          "lifestrategy20",
          "lifestrategy20",
          "lifestrategy20",
          "lifestrategy20",
          "lifestrategy20",
          "lifestrategy20",
          "lifestrategy20",
          "lifestrategy20",
          "lifestrategy20",
          "lifestrategy20",
          "lifestrategy20",
          "lifestrategy20",
          "lifestrategy20",
          "lifestrategy20",
          "lifestrategy20",
          "lifestrategy20",
          "lifestrategy20",
          "lifestrategy20",
          "lifestrategy20",
          "lifestrategy20",
          "lifestrategy20",
          "lifestrategy20",
          "lifestrategy20",
          "lifestrategy20",
          "lifestrategy20",
          "lifestrategy20",
          "lifestrategy20",
          "lifestrategy20",
          "lifestrategy20",
          "lifestrategy20",
          "lifestrategy20",
          "lifestrategy20",
          "lifestrategy20",
          "lifestrategy20",
          "lifestrategy20",
          "lifestrategy20",
          "lifestrategy20",
          "lifestrategy20",
          "lifestrategy20",
          "lifestrategy20",
          "lifestrategy20",
          "lifestrategy20",
          "lifestrategy20",
          "lifestrategy20",
          "lifestrategy20",
          "lifestrategy20",
          "lifestrategy20",
          "lifestrategy20",
          "lifestrategy20",
          "lifestrategy20",
          "lifestrategy20",
          "lifestrategy20",
          "lifestrategy20",
          "lifestrategy20",
          "lifestrategy20",
          "lifestrategy20",
          "lifestrategy20",
          "lifestrategy20",
          "lifestrategy20",
          "lifestrategy20",
          "lifestrategy20",
          "lifestrategy20",
          "lifestrategy20",
          "lifestrategy20",
          "lifestrategy20",
          "lifestrategy20",
          "lifestrategy20",
          "lifestrategy20",
          "lifestrategy20",
          "lifestrategy20",
          "lifestrategy20",
          "lifestrategy20",
          "lifestrategy20",
          "lifestrategy20",
          "lifestrategy20",
          "lifestrategy20",
          "lifestrategy20",
          "lifestrategy20",
          "lifestrategy20",
          "lifestrategy20",
          "lifestrategy20",
          "lifestrategy20",
          "lifestrategy20",
          "lifestrategy20",
          "lifestrategy20",
          "lifestrategy20",
          "lifestrategy20",
          "lifestrategy20",
          "lifestrategy20",
          "lifestrategy20",
          "lifestrategy20",
          "lifestrategy20",
          "lifestrategy20",
          "lifestrategy20",
          "lifestrategy20",
          "lifestrategy20",
          "lifestrategy20",
          "lifestrategy20",
          "lifestrategy20",
          "lifestrategy20",
          "lifestrategy20",
          "lifestrategy20",
          "lifestrategy20",
          "lifestrategy20",
          "lifestrategy20",
          "lifestrategy20",
          "lifestrategy20",
          "lifestrategy20",
          "lifestrategy20",
          "lifestrategy20",
          "lifestrategy20",
          "lifestrategy20",
          "lifestrategy20",
          "lifestrategy20",
          "lifestrategy20",
          "lifestrategy20",
          "lifestrategy20",
          "lifestrategy20",
          "lifestrategy20",
          "lifestrategy20",
          "lifestrategy20",
          "lifestrategy20",
          "lifestrategy20",
          "lifestrategy20",
          "lifestrategy20",
          "lifestrategy20",
          "lifestrategy20",
          "lifestrategy20",
          "lifestrategy20",
          "lifestrategy20",
          "lifestrategy20",
          "lifestrategy20",
          "lifestrategy20",
          "lifestrategy20",
          "lifestrategy20",
          "lifestrategy20",
          "lifestrategy20",
          "lifestrategy20",
          "lifestrategy20",
          "lifestrategy20",
          "lifestrategy20",
          "lifestrategy20",
          "lifestrategy20",
          "lifestrategy20",
          "lifestrategy20",
          "lifestrategy20",
          "lifestrategy20",
          "lifestrategy20",
          "lifestrategy20",
          "lifestrategy20",
          "lifestrategy20",
          "lifestrategy20",
          "lifestrategy20",
          "lifestrategy20",
          "lifestrategy20",
          "lifestrategy20",
          "lifestrategy20",
          "lifestrategy20",
          "lifestrategy20",
          "lifestrategy20",
          "lifestrategy20",
          "lifestrategy20",
          "lifestrategy20",
          "lifestrategy20",
          "lifestrategy20",
          "lifestrategy20",
          "lifestrategy20",
          "lifestrategy20",
          "lifestrategy20",
          "lifestrategy20",
          "lifestrategy20",
          "lifestrategy20",
          "lifestrategy20",
          "lifestrategy20",
          "lifestrategy20",
          "lifestrategy20",
          "lifestrategy20",
          "lifestrategy20",
          "lifestrategy20",
          "lifestrategy20",
          "lifestrategy20",
          "lifestrategy20",
          "lifestrategy20",
          "lifestrategy20",
          "lifestrategy20",
          "lifestrategy20",
          "lifestrategy20",
          "lifestrategy20",
          "lifestrategy20",
          "lifestrategy20",
          "lifestrategy20",
          "lifestrategy20",
          "lifestrategy20",
          "lifestrategy20",
          "lifestrategy20",
          "lifestrategy20",
          "lifestrategy20",
          "lifestrategy20",
          "lifestrategy20",
          "lifestrategy20",
          "lifestrategy20",
          "lifestrategy20",
          "lifestrategy20",
          "lifestrategy20",
          "lifestrategy20",
          "lifestrategy20",
          "lifestrategy20",
          "lifestrategy20",
          "lifestrategy20",
          "lifestrategy20",
          "lifestrategy20",
          "lifestrategy20",
          "lifestrategy20",
          "lifestrategy20",
          "lifestrategy20",
          "lifestrategy20",
          "lifestrategy20",
          "lifestrategy20",
          "lifestrategy20",
          "lifestrategy20",
          "lifestrategy20"
         ],
         "y0": " ",
         "yaxis": "y"
        },
        {
         "alignmentgroup": "True",
         "box": {
          "visible": false
         },
         "hovertemplate": "Portfolio=%{y}<br>Return=%{x}<extra></extra>",
         "legendgroup": "lifestrategy0",
         "marker": {
          "color": "#2ca02c"
         },
         "name": "lifestrategy0",
         "offsetgroup": "lifestrategy0",
         "orientation": "h",
         "points": "all",
         "scalegroup": "True",
         "showlegend": true,
         "type": "violin",
         "x": {
          "bdata": "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",
          "dtype": "f8"
         },
         "x0": " ",
         "xaxis": "x",
         "y": [
          "lifestrategy0",
          "lifestrategy0",
          "lifestrategy0",
          "lifestrategy0",
          "lifestrategy0",
          "lifestrategy0",
          "lifestrategy0",
          "lifestrategy0",
          "lifestrategy0",
          "lifestrategy0",
          "lifestrategy0",
          "lifestrategy0",
          "lifestrategy0",
          "lifestrategy0",
          "lifestrategy0",
          "lifestrategy0",
          "lifestrategy0",
          "lifestrategy0",
          "lifestrategy0",
          "lifestrategy0",
          "lifestrategy0",
          "lifestrategy0",
          "lifestrategy0",
          "lifestrategy0",
          "lifestrategy0",
          "lifestrategy0",
          "lifestrategy0",
          "lifestrategy0",
          "lifestrategy0",
          "lifestrategy0",
          "lifestrategy0",
          "lifestrategy0",
          "lifestrategy0",
          "lifestrategy0",
          "lifestrategy0",
          "lifestrategy0",
          "lifestrategy0",
          "lifestrategy0",
          "lifestrategy0",
          "lifestrategy0",
          "lifestrategy0",
          "lifestrategy0",
          "lifestrategy0",
          "lifestrategy0",
          "lifestrategy0",
          "lifestrategy0",
          "lifestrategy0",
          "lifestrategy0",
          "lifestrategy0",
          "lifestrategy0",
          "lifestrategy0",
          "lifestrategy0",
          "lifestrategy0",
          "lifestrategy0",
          "lifestrategy0",
          "lifestrategy0",
          "lifestrategy0",
          "lifestrategy0",
          "lifestrategy0",
          "lifestrategy0",
          "lifestrategy0",
          "lifestrategy0",
          "lifestrategy0",
          "lifestrategy0",
          "lifestrategy0",
          "lifestrategy0",
          "lifestrategy0",
          "lifestrategy0",
          "lifestrategy0",
          "lifestrategy0",
          "lifestrategy0",
          "lifestrategy0",
          "lifestrategy0",
          "lifestrategy0",
          "lifestrategy0",
          "lifestrategy0",
          "lifestrategy0",
          "lifestrategy0",
          "lifestrategy0",
          "lifestrategy0",
          "lifestrategy0",
          "lifestrategy0",
          "lifestrategy0",
          "lifestrategy0",
          "lifestrategy0",
          "lifestrategy0",
          "lifestrategy0",
          "lifestrategy0",
          "lifestrategy0",
          "lifestrategy0",
          "lifestrategy0",
          "lifestrategy0",
          "lifestrategy0",
          "lifestrategy0",
          "lifestrategy0",
          "lifestrategy0",
          "lifestrategy0",
          "lifestrategy0",
          "lifestrategy0",
          "lifestrategy0",
          "lifestrategy0",
          "lifestrategy0",
          "lifestrategy0",
          "lifestrategy0",
          "lifestrategy0",
          "lifestrategy0",
          "lifestrategy0",
          "lifestrategy0",
          "lifestrategy0",
          "lifestrategy0",
          "lifestrategy0",
          "lifestrategy0",
          "lifestrategy0",
          "lifestrategy0",
          "lifestrategy0",
          "lifestrategy0",
          "lifestrategy0",
          "lifestrategy0",
          "lifestrategy0",
          "lifestrategy0",
          "lifestrategy0",
          "lifestrategy0",
          "lifestrategy0",
          "lifestrategy0",
          "lifestrategy0",
          "lifestrategy0",
          "lifestrategy0",
          "lifestrategy0",
          "lifestrategy0",
          "lifestrategy0",
          "lifestrategy0",
          "lifestrategy0",
          "lifestrategy0",
          "lifestrategy0",
          "lifestrategy0",
          "lifestrategy0",
          "lifestrategy0",
          "lifestrategy0",
          "lifestrategy0",
          "lifestrategy0",
          "lifestrategy0",
          "lifestrategy0",
          "lifestrategy0",
          "lifestrategy0",
          "lifestrategy0",
          "lifestrategy0",
          "lifestrategy0",
          "lifestrategy0",
          "lifestrategy0",
          "lifestrategy0",
          "lifestrategy0",
          "lifestrategy0",
          "lifestrategy0",
          "lifestrategy0",
          "lifestrategy0",
          "lifestrategy0",
          "lifestrategy0",
          "lifestrategy0",
          "lifestrategy0",
          "lifestrategy0",
          "lifestrategy0",
          "lifestrategy0",
          "lifestrategy0",
          "lifestrategy0",
          "lifestrategy0",
          "lifestrategy0",
          "lifestrategy0",
          "lifestrategy0",
          "lifestrategy0",
          "lifestrategy0",
          "lifestrategy0",
          "lifestrategy0",
          "lifestrategy0",
          "lifestrategy0",
          "lifestrategy0",
          "lifestrategy0",
          "lifestrategy0",
          "lifestrategy0",
          "lifestrategy0",
          "lifestrategy0",
          "lifestrategy0",
          "lifestrategy0",
          "lifestrategy0",
          "lifestrategy0",
          "lifestrategy0",
          "lifestrategy0",
          "lifestrategy0",
          "lifestrategy0",
          "lifestrategy0",
          "lifestrategy0",
          "lifestrategy0",
          "lifestrategy0",
          "lifestrategy0",
          "lifestrategy0",
          "lifestrategy0",
          "lifestrategy0",
          "lifestrategy0",
          "lifestrategy0",
          "lifestrategy0",
          "lifestrategy0",
          "lifestrategy0",
          "lifestrategy0",
          "lifestrategy0",
          "lifestrategy0",
          "lifestrategy0",
          "lifestrategy0",
          "lifestrategy0",
          "lifestrategy0",
          "lifestrategy0",
          "lifestrategy0",
          "lifestrategy0",
          "lifestrategy0",
          "lifestrategy0",
          "lifestrategy0",
          "lifestrategy0",
          "lifestrategy0",
          "lifestrategy0",
          "lifestrategy0",
          "lifestrategy0",
          "lifestrategy0",
          "lifestrategy0",
          "lifestrategy0",
          "lifestrategy0",
          "lifestrategy0",
          "lifestrategy0",
          "lifestrategy0",
          "lifestrategy0",
          "lifestrategy0",
          "lifestrategy0",
          "lifestrategy0",
          "lifestrategy0",
          "lifestrategy0",
          "lifestrategy0",
          "lifestrategy0",
          "lifestrategy0",
          "lifestrategy0",
          "lifestrategy0",
          "lifestrategy0",
          "lifestrategy0",
          "lifestrategy0",
          "lifestrategy0",
          "lifestrategy0",
          "lifestrategy0",
          "lifestrategy0",
          "lifestrategy0",
          "lifestrategy0",
          "lifestrategy0",
          "lifestrategy0",
          "lifestrategy0",
          "lifestrategy0",
          "lifestrategy0",
          "lifestrategy0",
          "lifestrategy0",
          "lifestrategy0",
          "lifestrategy0",
          "lifestrategy0",
          "lifestrategy0",
          "lifestrategy0",
          "lifestrategy0",
          "lifestrategy0",
          "lifestrategy0",
          "lifestrategy0",
          "lifestrategy0",
          "lifestrategy0",
          "lifestrategy0",
          "lifestrategy0",
          "lifestrategy0",
          "lifestrategy0",
          "lifestrategy0",
          "lifestrategy0",
          "lifestrategy0",
          "lifestrategy0",
          "lifestrategy0",
          "lifestrategy0",
          "lifestrategy0",
          "lifestrategy0",
          "lifestrategy0",
          "lifestrategy0",
          "lifestrategy0",
          "lifestrategy0",
          "lifestrategy0",
          "lifestrategy0",
          "lifestrategy0",
          "lifestrategy0",
          "lifestrategy0",
          "lifestrategy0",
          "lifestrategy0",
          "lifestrategy0",
          "lifestrategy0",
          "lifestrategy0",
          "lifestrategy0",
          "lifestrategy0",
          "lifestrategy0",
          "lifestrategy0",
          "lifestrategy0",
          "lifestrategy0",
          "lifestrategy0",
          "lifestrategy0",
          "lifestrategy0",
          "lifestrategy0",
          "lifestrategy0",
          "lifestrategy0",
          "lifestrategy0",
          "lifestrategy0",
          "lifestrategy0",
          "lifestrategy0",
          "lifestrategy0",
          "lifestrategy0",
          "lifestrategy0",
          "lifestrategy0",
          "lifestrategy0",
          "lifestrategy0",
          "lifestrategy0",
          "lifestrategy0",
          "lifestrategy0",
          "lifestrategy0",
          "lifestrategy0",
          "lifestrategy0",
          "lifestrategy0",
          "lifestrategy0",
          "lifestrategy0",
          "lifestrategy0",
          "lifestrategy0",
          "lifestrategy0",
          "lifestrategy0",
          "lifestrategy0",
          "lifestrategy0",
          "lifestrategy0",
          "lifestrategy0",
          "lifestrategy0",
          "lifestrategy0",
          "lifestrategy0",
          "lifestrategy0",
          "lifestrategy0",
          "lifestrategy0",
          "lifestrategy0",
          "lifestrategy0",
          "lifestrategy0",
          "lifestrategy0",
          "lifestrategy0",
          "lifestrategy0",
          "lifestrategy0",
          "lifestrategy0",
          "lifestrategy0",
          "lifestrategy0",
          "lifestrategy0",
          "lifestrategy0",
          "lifestrategy0",
          "lifestrategy0",
          "lifestrategy0",
          "lifestrategy0",
          "lifestrategy0",
          "lifestrategy0",
          "lifestrategy0",
          "lifestrategy0",
          "lifestrategy0",
          "lifestrategy0",
          "lifestrategy0",
          "lifestrategy0",
          "lifestrategy0",
          "lifestrategy0",
          "lifestrategy0",
          "lifestrategy0",
          "lifestrategy0",
          "lifestrategy0",
          "lifestrategy0",
          "lifestrategy0",
          "lifestrategy0",
          "lifestrategy0",
          "lifestrategy0",
          "lifestrategy0",
          "lifestrategy0",
          "lifestrategy0",
          "lifestrategy0",
          "lifestrategy0",
          "lifestrategy0",
          "lifestrategy0",
          "lifestrategy0",
          "lifestrategy0",
          "lifestrategy0",
          "lifestrategy0",
          "lifestrategy0",
          "lifestrategy0",
          "lifestrategy0",
          "lifestrategy0",
          "lifestrategy0",
          "lifestrategy0",
          "lifestrategy0",
          "lifestrategy0",
          "lifestrategy0",
          "lifestrategy0",
          "lifestrategy0",
          "lifestrategy0",
          "lifestrategy0",
          "lifestrategy0",
          "lifestrategy0",
          "lifestrategy0",
          "lifestrategy0",
          "lifestrategy0",
          "lifestrategy0",
          "lifestrategy0",
          "lifestrategy0",
          "lifestrategy0",
          "lifestrategy0",
          "lifestrategy0",
          "lifestrategy0",
          "lifestrategy0",
          "lifestrategy0",
          "lifestrategy0",
          "lifestrategy0",
          "lifestrategy0",
          "lifestrategy0",
          "lifestrategy0",
          "lifestrategy0",
          "lifestrategy0",
          "lifestrategy0",
          "lifestrategy0"
         ],
         "y0": " ",
         "yaxis": "y"
        }
       ],
       "layout": {
        "annotations": [
         {
          "font": {
           "color": "#2ca02c",
           "size": 12
          },
          "showarrow": false,
          "text": "Median: 4.66%",
          "x": 0.04655,
          "xanchor": "left",
          "y": 0.44999999999999996
         },
         {
          "font": {
           "color": "#2ca02c",
           "size": 12
          },
          "showarrow": false,
          "text": "5th %: -0.80%",
          "x": -0.007988,
          "xanchor": "left",
          "y": 0.39999999999999997
         },
         {
          "font": {
           "color": "#ff7f0e",
           "size": 12
          },
          "showarrow": false,
          "text": "Median: 5.46%",
          "x": 0.05459,
          "xanchor": "left",
          "y": 1.45
         },
         {
          "font": {
           "color": "#ff7f0e",
           "size": 12
          },
          "showarrow": false,
          "text": "5th %: 0.91%",
          "x": 0.009122000000000002,
          "xanchor": "left",
          "y": 1.4
         },
         {
          "font": {
           "color": "#1f77b4",
           "size": 12
          },
          "showarrow": false,
          "text": "Median: 6.06%",
          "x": 0.06059,
          "xanchor": "left",
          "y": 2.4499999999999997
         },
         {
          "font": {
           "color": "#1f77b4",
           "size": 12
          },
          "showarrow": false,
          "text": "5th %: 0.55%",
          "x": 0.005502,
          "xanchor": "left",
          "y": 2.4
         }
        ],
        "height": 480,
        "legend": {
         "font": {
          "size": 14
         },
         "title": {
          "text": "Portfolio"
         },
         "tracegroupgap": 0
        },
        "margin": {
         "t": 60
        },
        "shapes": [
         {
          "line": {
           "color": "#2ca02c",
           "width": 3
          },
          "opacity": 1,
          "type": "line",
          "x0": 0.04655,
          "x1": 0.04655,
          "xref": "x",
          "y0": -0.3,
          "y1": 0.3,
          "yref": "y"
         },
         {
          "line": {
           "color": "#2ca02c",
           "dash": "dash",
           "width": 3
          },
          "opacity": 1,
          "type": "line",
          "x0": -0.007988,
          "x1": -0.007988,
          "xref": "x",
          "y0": -0.3,
          "y1": 0.3,
          "yref": "y"
         },
         {
          "line": {
           "color": "#ff7f0e",
           "width": 3
          },
          "opacity": 1,
          "type": "line",
          "x0": 0.05459,
          "x1": 0.05459,
          "xref": "x",
          "y0": 0.7,
          "y1": 1.3,
          "yref": "y"
         },
         {
          "line": {
           "color": "#ff7f0e",
           "dash": "dash",
           "width": 3
          },
          "opacity": 1,
          "type": "line",
          "x0": 0.009122000000000002,
          "x1": 0.009122000000000002,
          "xref": "x",
          "y0": 0.7,
          "y1": 1.3,
          "yref": "y"
         },
         {
          "line": {
           "color": "#1f77b4",
           "width": 3
          },
          "opacity": 1,
          "type": "line",
          "x0": 0.06059,
          "x1": 0.06059,
          "xref": "x",
          "y0": 1.7,
          "y1": 2.3,
          "yref": "y"
         },
         {
          "line": {
           "color": "#1f77b4",
           "dash": "dash",
           "width": 3
          },
          "opacity": 1,
          "type": "line",
          "x0": 0.005502,
          "x1": 0.005502,
          "xref": "x",
          "y0": 1.7,
          "y1": 2.3,
          "yref": "y"
         }
        ],
        "template": {
         "data": {
          "bar": [
           {
            "error_x": {
             "color": "rgb(36,36,36)"
            },
            "error_y": {
             "color": "rgb(36,36,36)"
            },
            "marker": {
             "line": {
              "color": "white",
              "width": 0.5
             },
             "pattern": {
              "fillmode": "overlay",
              "size": 10,
              "solidity": 0.2
             }
            },
            "type": "bar"
           }
          ],
          "barpolar": [
           {
            "marker": {
             "line": {
              "color": "white",
              "width": 0.5
             },
             "pattern": {
              "fillmode": "overlay",
              "size": 10,
              "solidity": 0.2
             }
            },
            "type": "barpolar"
           }
          ],
          "carpet": [
           {
            "aaxis": {
             "endlinecolor": "rgb(36,36,36)",
             "gridcolor": "white",
             "linecolor": "white",
             "minorgridcolor": "white",
             "startlinecolor": "rgb(36,36,36)"
            },
            "baxis": {
             "endlinecolor": "rgb(36,36,36)",
             "gridcolor": "white",
             "linecolor": "white",
             "minorgridcolor": "white",
             "startlinecolor": "rgb(36,36,36)"
            },
            "type": "carpet"
           }
          ],
          "choropleth": [
           {
            "colorbar": {
             "outlinewidth": 1,
             "tickcolor": "rgb(36,36,36)",
             "ticks": "outside"
            },
            "type": "choropleth"
           }
          ],
          "contour": [
           {
            "colorbar": {
             "outlinewidth": 1,
             "tickcolor": "rgb(36,36,36)",
             "ticks": "outside"
            },
            "colorscale": [
             [
              0,
              "#440154"
             ],
             [
              0.1111111111111111,
              "#482878"
             ],
             [
              0.2222222222222222,
              "#3e4989"
             ],
             [
              0.3333333333333333,
              "#31688e"
             ],
             [
              0.4444444444444444,
              "#26828e"
             ],
             [
              0.5555555555555556,
              "#1f9e89"
             ],
             [
              0.6666666666666666,
              "#35b779"
             ],
             [
              0.7777777777777778,
              "#6ece58"
             ],
             [
              0.8888888888888888,
              "#b5de2b"
             ],
             [
              1,
              "#fde725"
             ]
            ],
            "type": "contour"
           }
          ],
          "contourcarpet": [
           {
            "colorbar": {
             "outlinewidth": 1,
             "tickcolor": "rgb(36,36,36)",
             "ticks": "outside"
            },
            "type": "contourcarpet"
           }
          ],
          "heatmap": [
           {
            "colorbar": {
             "outlinewidth": 1,
             "tickcolor": "rgb(36,36,36)",
             "ticks": "outside"
            },
            "colorscale": [
             [
              0,
              "#440154"
             ],
             [
              0.1111111111111111,
              "#482878"
             ],
             [
              0.2222222222222222,
              "#3e4989"
             ],
             [
              0.3333333333333333,
              "#31688e"
             ],
             [
              0.4444444444444444,
              "#26828e"
             ],
             [
              0.5555555555555556,
              "#1f9e89"
             ],
             [
              0.6666666666666666,
              "#35b779"
             ],
             [
              0.7777777777777778,
              "#6ece58"
             ],
             [
              0.8888888888888888,
              "#b5de2b"
             ],
             [
              1,
              "#fde725"
             ]
            ],
            "type": "heatmap"
           }
          ],
          "histogram": [
           {
            "marker": {
             "line": {
              "color": "white",
              "width": 0.6
             }
            },
            "type": "histogram"
           }
          ],
          "histogram2d": [
           {
            "colorbar": {
             "outlinewidth": 1,
             "tickcolor": "rgb(36,36,36)",
             "ticks": "outside"
            },
            "colorscale": [
             [
              0,
              "#440154"
             ],
             [
              0.1111111111111111,
              "#482878"
             ],
             [
              0.2222222222222222,
              "#3e4989"
             ],
             [
              0.3333333333333333,
              "#31688e"
             ],
             [
              0.4444444444444444,
              "#26828e"
             ],
             [
              0.5555555555555556,
              "#1f9e89"
             ],
             [
              0.6666666666666666,
              "#35b779"
             ],
             [
              0.7777777777777778,
              "#6ece58"
             ],
             [
              0.8888888888888888,
              "#b5de2b"
             ],
             [
              1,
              "#fde725"
             ]
            ],
            "type": "histogram2d"
           }
          ],
          "histogram2dcontour": [
           {
            "colorbar": {
             "outlinewidth": 1,
             "tickcolor": "rgb(36,36,36)",
             "ticks": "outside"
            },
            "colorscale": [
             [
              0,
              "#440154"
             ],
             [
              0.1111111111111111,
              "#482878"
             ],
             [
              0.2222222222222222,
              "#3e4989"
             ],
             [
              0.3333333333333333,
              "#31688e"
             ],
             [
              0.4444444444444444,
              "#26828e"
             ],
             [
              0.5555555555555556,
              "#1f9e89"
             ],
             [
              0.6666666666666666,
              "#35b779"
             ],
             [
              0.7777777777777778,
              "#6ece58"
             ],
             [
              0.8888888888888888,
              "#b5de2b"
             ],
             [
              1,
              "#fde725"
             ]
            ],
            "type": "histogram2dcontour"
           }
          ],
          "mesh3d": [
           {
            "colorbar": {
             "outlinewidth": 1,
             "tickcolor": "rgb(36,36,36)",
             "ticks": "outside"
            },
            "type": "mesh3d"
           }
          ],
          "parcoords": [
           {
            "line": {
             "colorbar": {
              "outlinewidth": 1,
              "tickcolor": "rgb(36,36,36)",
              "ticks": "outside"
             }
            },
            "type": "parcoords"
           }
          ],
          "pie": [
           {
            "automargin": true,
            "type": "pie"
           }
          ],
          "scatter": [
           {
            "fillpattern": {
             "fillmode": "overlay",
             "size": 10,
             "solidity": 0.2
            },
            "type": "scatter"
           }
          ],
          "scatter3d": [
           {
            "line": {
             "colorbar": {
              "outlinewidth": 1,
              "tickcolor": "rgb(36,36,36)",
              "ticks": "outside"
             }
            },
            "marker": {
             "colorbar": {
              "outlinewidth": 1,
              "tickcolor": "rgb(36,36,36)",
              "ticks": "outside"
             }
            },
            "type": "scatter3d"
           }
          ],
          "scattercarpet": [
           {
            "marker": {
             "colorbar": {
              "outlinewidth": 1,
              "tickcolor": "rgb(36,36,36)",
              "ticks": "outside"
             }
            },
            "type": "scattercarpet"
           }
          ],
          "scattergeo": [
           {
            "marker": {
             "colorbar": {
              "outlinewidth": 1,
              "tickcolor": "rgb(36,36,36)",
              "ticks": "outside"
             }
            },
            "type": "scattergeo"
           }
          ],
          "scattergl": [
           {
            "marker": {
             "colorbar": {
              "outlinewidth": 1,
              "tickcolor": "rgb(36,36,36)",
              "ticks": "outside"
             }
            },
            "type": "scattergl"
           }
          ],
          "scattermap": [
           {
            "marker": {
             "colorbar": {
              "outlinewidth": 1,
              "tickcolor": "rgb(36,36,36)",
              "ticks": "outside"
             }
            },
            "type": "scattermap"
           }
          ],
          "scattermapbox": [
           {
            "marker": {
             "colorbar": {
              "outlinewidth": 1,
              "tickcolor": "rgb(36,36,36)",
              "ticks": "outside"
             }
            },
            "type": "scattermapbox"
           }
          ],
          "scatterpolar": [
           {
            "marker": {
             "colorbar": {
              "outlinewidth": 1,
              "tickcolor": "rgb(36,36,36)",
              "ticks": "outside"
             }
            },
            "type": "scatterpolar"
           }
          ],
          "scatterpolargl": [
           {
            "marker": {
             "colorbar": {
              "outlinewidth": 1,
              "tickcolor": "rgb(36,36,36)",
              "ticks": "outside"
             }
            },
            "type": "scatterpolargl"
           }
          ],
          "scatterternary": [
           {
            "marker": {
             "colorbar": {
              "outlinewidth": 1,
              "tickcolor": "rgb(36,36,36)",
              "ticks": "outside"
             }
            },
            "type": "scatterternary"
           }
          ],
          "surface": [
           {
            "colorbar": {
             "outlinewidth": 1,
             "tickcolor": "rgb(36,36,36)",
             "ticks": "outside"
            },
            "colorscale": [
             [
              0,
              "#440154"
             ],
             [
              0.1111111111111111,
              "#482878"
             ],
             [
              0.2222222222222222,
              "#3e4989"
             ],
             [
              0.3333333333333333,
              "#31688e"
             ],
             [
              0.4444444444444444,
              "#26828e"
             ],
             [
              0.5555555555555556,
              "#1f9e89"
             ],
             [
              0.6666666666666666,
              "#35b779"
             ],
             [
              0.7777777777777778,
              "#6ece58"
             ],
             [
              0.8888888888888888,
              "#b5de2b"
             ],
             [
              1,
              "#fde725"
             ]
            ],
            "type": "surface"
           }
          ],
          "table": [
           {
            "cells": {
             "fill": {
              "color": "rgb(237,237,237)"
             },
             "line": {
              "color": "white"
             }
            },
            "header": {
             "fill": {
              "color": "rgb(217,217,217)"
             },
             "line": {
              "color": "white"
             }
            },
            "type": "table"
           }
          ]
         },
         "layout": {
          "annotationdefaults": {
           "arrowhead": 0,
           "arrowwidth": 1
          },
          "autotypenumbers": "strict",
          "coloraxis": {
           "colorbar": {
            "outlinewidth": 1,
            "tickcolor": "rgb(36,36,36)",
            "ticks": "outside"
           }
          },
          "colorscale": {
           "diverging": [
            [
             0,
             "rgb(103,0,31)"
            ],
            [
             0.1,
             "rgb(178,24,43)"
            ],
            [
             0.2,
             "rgb(214,96,77)"
            ],
            [
             0.3,
             "rgb(244,165,130)"
            ],
            [
             0.4,
             "rgb(253,219,199)"
            ],
            [
             0.5,
             "rgb(247,247,247)"
            ],
            [
             0.6,
             "rgb(209,229,240)"
            ],
            [
             0.7,
             "rgb(146,197,222)"
            ],
            [
             0.8,
             "rgb(67,147,195)"
            ],
            [
             0.9,
             "rgb(33,102,172)"
            ],
            [
             1,
             "rgb(5,48,97)"
            ]
           ],
           "sequential": [
            [
             0,
             "#440154"
            ],
            [
             0.1111111111111111,
             "#482878"
            ],
            [
             0.2222222222222222,
             "#3e4989"
            ],
            [
             0.3333333333333333,
             "#31688e"
            ],
            [
             0.4444444444444444,
             "#26828e"
            ],
            [
             0.5555555555555556,
             "#1f9e89"
            ],
            [
             0.6666666666666666,
             "#35b779"
            ],
            [
             0.7777777777777778,
             "#6ece58"
            ],
            [
             0.8888888888888888,
             "#b5de2b"
            ],
            [
             1,
             "#fde725"
            ]
           ],
           "sequentialminus": [
            [
             0,
             "#440154"
            ],
            [
             0.1111111111111111,
             "#482878"
            ],
            [
             0.2222222222222222,
             "#3e4989"
            ],
            [
             0.3333333333333333,
             "#31688e"
            ],
            [
             0.4444444444444444,
             "#26828e"
            ],
            [
             0.5555555555555556,
             "#1f9e89"
            ],
            [
             0.6666666666666666,
             "#35b779"
            ],
            [
             0.7777777777777778,
             "#6ece58"
            ],
            [
             0.8888888888888888,
             "#b5de2b"
            ],
            [
             1,
             "#fde725"
            ]
           ]
          },
          "colorway": [
           "#1F77B4",
           "#FF7F0E",
           "#2CA02C",
           "#D62728",
           "#9467BD",
           "#8C564B",
           "#E377C2",
           "#7F7F7F",
           "#BCBD22",
           "#17BECF"
          ],
          "font": {
           "color": "rgb(36,36,36)"
          },
          "geo": {
           "bgcolor": "white",
           "lakecolor": "white",
           "landcolor": "white",
           "showlakes": true,
           "showland": true,
           "subunitcolor": "white"
          },
          "hoverlabel": {
           "align": "left"
          },
          "hovermode": "closest",
          "mapbox": {
           "style": "light"
          },
          "paper_bgcolor": "white",
          "plot_bgcolor": "white",
          "polar": {
           "angularaxis": {
            "gridcolor": "rgb(232,232,232)",
            "linecolor": "rgb(36,36,36)",
            "showgrid": false,
            "showline": true,
            "ticks": "outside"
           },
           "bgcolor": "white",
           "radialaxis": {
            "gridcolor": "rgb(232,232,232)",
            "linecolor": "rgb(36,36,36)",
            "showgrid": false,
            "showline": true,
            "ticks": "outside"
           }
          },
          "scene": {
           "xaxis": {
            "backgroundcolor": "white",
            "gridcolor": "rgb(232,232,232)",
            "gridwidth": 2,
            "linecolor": "rgb(36,36,36)",
            "showbackground": true,
            "showgrid": false,
            "showline": true,
            "ticks": "outside",
            "zeroline": false,
            "zerolinecolor": "rgb(36,36,36)"
           },
           "yaxis": {
            "backgroundcolor": "white",
            "gridcolor": "rgb(232,232,232)",
            "gridwidth": 2,
            "linecolor": "rgb(36,36,36)",
            "showbackground": true,
            "showgrid": false,
            "showline": true,
            "ticks": "outside",
            "zeroline": false,
            "zerolinecolor": "rgb(36,36,36)"
           },
           "zaxis": {
            "backgroundcolor": "white",
            "gridcolor": "rgb(232,232,232)",
            "gridwidth": 2,
            "linecolor": "rgb(36,36,36)",
            "showbackground": true,
            "showgrid": false,
            "showline": true,
            "ticks": "outside",
            "zeroline": false,
            "zerolinecolor": "rgb(36,36,36)"
           }
          },
          "shapedefaults": {
           "fillcolor": "black",
           "line": {
            "width": 0
           },
           "opacity": 0.3
          },
          "ternary": {
           "aaxis": {
            "gridcolor": "rgb(232,232,232)",
            "linecolor": "rgb(36,36,36)",
            "showgrid": false,
            "showline": true,
            "ticks": "outside"
           },
           "baxis": {
            "gridcolor": "rgb(232,232,232)",
            "linecolor": "rgb(36,36,36)",
            "showgrid": false,
            "showline": true,
            "ticks": "outside"
           },
           "bgcolor": "white",
           "caxis": {
            "gridcolor": "rgb(232,232,232)",
            "linecolor": "rgb(36,36,36)",
            "showgrid": false,
            "showline": true,
            "ticks": "outside"
           }
          },
          "title": {
           "x": 0.05
          },
          "xaxis": {
           "automargin": true,
           "gridcolor": "rgb(232,232,232)",
           "linecolor": "rgb(36,36,36)",
           "showgrid": false,
           "showline": true,
           "ticks": "outside",
           "title": {
            "standoff": 15
           },
           "zeroline": false,
           "zerolinecolor": "rgb(36,36,36)"
          },
          "yaxis": {
           "automargin": true,
           "gridcolor": "rgb(232,232,232)",
           "linecolor": "rgb(36,36,36)",
           "showgrid": false,
           "showline": true,
           "ticks": "outside",
           "title": {
            "standoff": 15
           },
           "zeroline": false,
           "zerolinecolor": "rgb(36,36,36)"
          }
         }
        },
        "title": {
         "font": {
          "family": "Arial",
          "size": 18
         }
        },
        "violingap": 0.2,
        "violinmode": "overlay",
        "xaxis": {
         "anchor": "y",
         "domain": [
          0,
          1
         ],
         "gridcolor": "lightgray",
         "gridwidth": 1,
         "showgrid": true,
         "tickformat": ".2%",
         "title": {
          "text": "Monthly Return"
         },
         "zeroline": false
        },
        "yaxis": {
         "anchor": "x",
         "categoryarray": [
          "lifestrategy0",
          "lifestrategy20",
          "lifestrategy40"
         ],
         "categoryorder": "array",
         "domain": [
          0,
          1
         ],
         "gridcolor": "lightgray",
         "gridwidth": 1,
         "showgrid": true,
         "tickmode": "array",
         "ticktext": [
          "lifestrategy0",
          "lifestrategy20",
          "lifestrategy40"
         ],
         "tickvals": [
          0,
          1,
          2
         ],
         "title": {
          "text": "Portfolio"
         },
         "zeroline": false
        }
       }
      }
     },
     "metadata": {},
     "output_type": "display_data"
    }
   ],
   "source": [
    "def plot_return_distributions(df):\n",
    "    \"\"\"\n",
    "    Interactive horizontal violin plot of portfolio returns with matplotlib colors,\n",
    "    clean white style, and custom median and 5th percentile lines.\n",
    "    Lines are visible by mapping portfolio categories to numeric y-positions.\n",
    "    \"\"\"\n",
    "    import plotly.express as px\n",
    "    import matplotlib.pyplot as plt\n",
    "    import seaborn as sns\n",
    "    import pandas as pd\n",
    "\n",
    "    # Prepare data\n",
    "    returns_df = df.drop(columns='Date').dropna(how='all')\n",
    "    long_df = returns_df.melt(var_name='Portfolio', value_name='Return').dropna()\n",
    "\n",
    "    # Get unique portfolios\n",
    "    portfolios = long_df['Portfolio'].unique()\n",
    "\n",
    "    # Get matplotlib colormap and convert to hex colors\n",
    "    cmap = plt.get_cmap('tab10')\n",
    "    colors = {p: '#%02x%02x%02x' % tuple(int(255*x) for x in cmap(i)[:3]) \n",
    "              for i, p in enumerate(portfolios)}\n",
    "    \n",
    "    # Dynamic height\n",
    "    plot_height = 160 * len(portfolios)\n",
    "\n",
    "    # Set seaborn style for font consistency (optional)\n",
    "    sns.set(style=\"whitegrid\", context=\"talk\")\n",
    "\n",
    "    # Create violin plot WITHOUT boxplot lines\n",
    "    fig = px.violin(\n",
    "        long_df,\n",
    "        y='Portfolio',\n",
    "        x='Return',\n",
    "        color='Portfolio',\n",
    "        box=False,\n",
    "        points='all',\n",
    "        hover_data=['Return'],\n",
    "        color_discrete_map=colors,\n",
    "        template='simple_white'\n",
    "    )\n",
    "\n",
    "    # Get category order and corresponding y-positions\n",
    "    category_order = fig.layout.yaxis.categoryarray\n",
    "    y_positions = {p: i for i, p in enumerate(category_order)}\n",
    "\n",
    "    # Update layout\n",
    "    fig.update_layout(\n",
    "        xaxis_title='Monthly Return',\n",
    "        yaxis_title='Portfolio',\n",
    "        height=plot_height,\n",
    "        violinmode='group',\n",
    "        violingap=0.5,\n",
    "        title_font_size=18,\n",
    "        title_font_family='Arial',\n",
    "        legend_title_text='Portfolio',\n",
    "        legend=dict(font=dict(size=14)),\n",
    "        xaxis=dict(\n",
    "            tickformat='.2%',\n",
    "            showgrid=True,\n",
    "            gridcolor='lightgray',\n",
    "            gridwidth=1,\n",
    "            zeroline=False,\n",
    "        ),\n",
    "        yaxis=dict(\n",
    "            tickmode='array',\n",
    "            tickvals=list(y_positions.values()),\n",
    "            ticktext=list(y_positions.keys()),\n",
    "            showgrid=True,\n",
    "            gridcolor='lightgray',\n",
    "            gridwidth=1,\n",
    "            zeroline=False,\n",
    "        ),\n",
    "    )\n",
    "\n",
    "    # Calculate stats\n",
    "    median = long_df.groupby('Portfolio')['Return'].median()\n",
    "    percentile_5 = long_df.groupby('Portfolio')['Return'].quantile(0.05)\n",
    "\n",
    "    shapes = []\n",
    "    annotations = []\n",
    "    line_height = 0.6\n",
    "\n",
    "    for portfolio in category_order:\n",
    "        y_pos = y_positions[portfolio]\n",
    "        median_val = median[portfolio]\n",
    "        p5_val = percentile_5[portfolio]\n",
    "\n",
    "        # Median line\n",
    "        shapes.append(dict(\n",
    "            type='line',\n",
    "            x0=median_val, x1=median_val,\n",
    "            y0=y_pos - line_height/2, y1=y_pos + line_height/2,\n",
    "            line=dict(color=colors[portfolio], width=3),\n",
    "            opacity=1,\n",
    "            xref='x', yref='y'\n",
    "        ))\n",
    "        annotations.append(dict(\n",
    "            x=median_val,\n",
    "            y=y_pos + line_height / 2 + 0.15,\n",
    "            text=f\"Median: {median_val:.2%}\",\n",
    "            showarrow=False,\n",
    "            font=dict(color=colors[portfolio], size=12),\n",
    "            xanchor='left'\n",
    "        ))\n",
    "\n",
    "        # 5th percentile line\n",
    "        shapes.append(dict(\n",
    "            type='line',\n",
    "            x0=p5_val, x1=p5_val,\n",
    "            y0=y_pos - line_height/2, y1=y_pos + line_height/2,\n",
    "            line=dict(color=colors[portfolio], width=3, dash='dash'),\n",
    "            opacity=1,\n",
    "            xref='x', yref='y'\n",
    "        ))\n",
    "        annotations.append(dict(\n",
    "            x=p5_val,\n",
    "            y=y_pos - line_height / 2 + 0.70,\n",
    "            text=f\"5th %: {p5_val:.2%}\",\n",
    "            showarrow=False,\n",
    "            font=dict(color=colors[portfolio], size=12),\n",
    "            xanchor='left'\n",
    "        ))\n",
    "\n",
    "    fig.update_layout(shapes=shapes, annotations=annotations)\n",
    "\n",
    "    return fig\n",
    "\n",
    "\n",
    "# Example usage:\n",
    "fig = plot_return_distributions(final_results)\n",
    "fig.show()\n"
   ]
  },
  {
   "cell_type": "code",
   "execution_count": 55,
   "metadata": {},
   "outputs": [
    {
     "data": {
      "application/vnd.plotly.v1+json": {
       "config": {
        "plotlyServerURL": "https://plot.ly"
       },
       "data": [
        {
         "hovertemplate": "Portfolio=100_2factors<br>Date=%{x}<br>Annualized Return (%)=%{y}<extra></extra>",
         "legendgroup": "100_2factors",
         "line": {
          "color": "#1F77B4",
          "dash": "solid",
          "width": 2
         },
         "marker": {
          "symbol": "circle"
         },
         "mode": "lines",
         "name": "100_2factors",
         "orientation": "v",
         "showlegend": true,
         "type": "scatter",
         "x": [
          "1985-01-01T00:00:00.000000000",
          "1985-02-01T00:00:00.000000000",
          "1985-03-01T00:00:00.000000000",
          "1985-04-01T00:00:00.000000000",
          "1985-05-01T00:00:00.000000000",
          "1985-06-01T00:00:00.000000000",
          "1985-07-01T00:00:00.000000000",
          "1985-08-01T00:00:00.000000000",
          "1985-09-01T00:00:00.000000000",
          "1985-10-01T00:00:00.000000000",
          "1985-11-01T00:00:00.000000000",
          "1985-12-01T00:00:00.000000000",
          "1986-01-01T00:00:00.000000000",
          "1986-02-01T00:00:00.000000000",
          "1986-03-01T00:00:00.000000000",
          "1986-04-01T00:00:00.000000000",
          "1986-05-01T00:00:00.000000000",
          "1986-06-01T00:00:00.000000000",
          "1986-07-01T00:00:00.000000000",
          "1986-08-01T00:00:00.000000000",
          "1986-09-01T00:00:00.000000000",
          "1986-10-01T00:00:00.000000000",
          "1986-11-01T00:00:00.000000000",
          "1986-12-01T00:00:00.000000000",
          "1987-01-01T00:00:00.000000000",
          "1987-02-01T00:00:00.000000000",
          "1987-03-01T00:00:00.000000000",
          "1987-04-01T00:00:00.000000000",
          "1987-05-01T00:00:00.000000000",
          "1987-06-01T00:00:00.000000000",
          "1987-07-01T00:00:00.000000000",
          "1987-08-01T00:00:00.000000000",
          "1987-09-01T00:00:00.000000000",
          "1987-10-01T00:00:00.000000000",
          "1987-11-01T00:00:00.000000000",
          "1987-12-01T00:00:00.000000000",
          "1988-01-01T00:00:00.000000000",
          "1988-02-01T00:00:00.000000000",
          "1988-03-01T00:00:00.000000000",
          "1988-04-01T00:00:00.000000000",
          "1988-05-01T00:00:00.000000000",
          "1988-06-01T00:00:00.000000000",
          "1988-07-01T00:00:00.000000000",
          "1988-08-01T00:00:00.000000000",
          "1988-09-01T00:00:00.000000000",
          "1988-10-01T00:00:00.000000000",
          "1988-11-01T00:00:00.000000000",
          "1988-12-01T00:00:00.000000000",
          "1989-01-01T00:00:00.000000000",
          "1989-02-01T00:00:00.000000000",
          "1989-03-01T00:00:00.000000000",
          "1989-04-01T00:00:00.000000000",
          "1989-05-01T00:00:00.000000000",
          "1989-06-01T00:00:00.000000000",
          "1989-07-01T00:00:00.000000000",
          "1989-08-01T00:00:00.000000000",
          "1989-09-01T00:00:00.000000000",
          "1989-10-01T00:00:00.000000000",
          "1989-11-01T00:00:00.000000000",
          "1989-12-01T00:00:00.000000000",
          "1990-01-01T00:00:00.000000000",
          "1990-02-01T00:00:00.000000000",
          "1990-03-01T00:00:00.000000000",
          "1990-04-01T00:00:00.000000000",
          "1990-05-01T00:00:00.000000000",
          "1990-06-01T00:00:00.000000000",
          "1990-07-01T00:00:00.000000000",
          "1990-08-01T00:00:00.000000000",
          "1990-09-01T00:00:00.000000000",
          "1990-10-01T00:00:00.000000000",
          "1990-11-01T00:00:00.000000000",
          "1990-12-01T00:00:00.000000000",
          "1991-01-01T00:00:00.000000000",
          "1991-02-01T00:00:00.000000000",
          "1991-03-01T00:00:00.000000000",
          "1991-04-01T00:00:00.000000000",
          "1991-05-01T00:00:00.000000000",
          "1991-06-01T00:00:00.000000000",
          "1991-07-01T00:00:00.000000000",
          "1991-08-01T00:00:00.000000000",
          "1991-09-01T00:00:00.000000000",
          "1991-10-01T00:00:00.000000000",
          "1991-11-01T00:00:00.000000000",
          "1991-12-01T00:00:00.000000000",
          "1992-01-01T00:00:00.000000000",
          "1992-02-01T00:00:00.000000000",
          "1992-03-01T00:00:00.000000000",
          "1992-04-01T00:00:00.000000000",
          "1992-05-01T00:00:00.000000000",
          "1992-06-01T00:00:00.000000000",
          "1992-07-01T00:00:00.000000000",
          "1992-08-01T00:00:00.000000000",
          "1992-09-01T00:00:00.000000000",
          "1992-10-01T00:00:00.000000000",
          "1992-11-01T00:00:00.000000000",
          "1992-12-01T00:00:00.000000000",
          "1993-01-01T00:00:00.000000000",
          "1993-02-01T00:00:00.000000000",
          "1993-03-01T00:00:00.000000000",
          "1993-04-01T00:00:00.000000000",
          "1993-05-01T00:00:00.000000000",
          "1993-06-01T00:00:00.000000000",
          "1993-07-01T00:00:00.000000000",
          "1993-08-01T00:00:00.000000000",
          "1993-09-01T00:00:00.000000000",
          "1993-10-01T00:00:00.000000000",
          "1993-11-01T00:00:00.000000000",
          "1993-12-01T00:00:00.000000000",
          "1994-01-01T00:00:00.000000000",
          "1994-02-01T00:00:00.000000000",
          "1994-03-01T00:00:00.000000000",
          "1994-04-01T00:00:00.000000000",
          "1994-05-01T00:00:00.000000000",
          "1994-06-01T00:00:00.000000000",
          "1994-07-01T00:00:00.000000000",
          "1994-08-01T00:00:00.000000000",
          "1994-09-01T00:00:00.000000000",
          "1994-10-01T00:00:00.000000000",
          "1994-11-01T00:00:00.000000000",
          "1994-12-01T00:00:00.000000000",
          "1995-01-01T00:00:00.000000000",
          "1995-02-01T00:00:00.000000000",
          "1995-03-01T00:00:00.000000000",
          "1995-04-01T00:00:00.000000000",
          "1995-05-01T00:00:00.000000000",
          "1995-06-01T00:00:00.000000000",
          "1995-07-01T00:00:00.000000000",
          "1995-08-01T00:00:00.000000000",
          "1995-09-01T00:00:00.000000000",
          "1995-10-01T00:00:00.000000000",
          "1995-11-01T00:00:00.000000000",
          "1995-12-01T00:00:00.000000000",
          "1996-01-01T00:00:00.000000000",
          "1996-02-01T00:00:00.000000000",
          "1996-03-01T00:00:00.000000000",
          "1996-04-01T00:00:00.000000000",
          "1996-05-01T00:00:00.000000000",
          "1996-06-01T00:00:00.000000000",
          "1996-07-01T00:00:00.000000000",
          "1996-08-01T00:00:00.000000000",
          "1996-09-01T00:00:00.000000000",
          "1996-10-01T00:00:00.000000000",
          "1996-11-01T00:00:00.000000000",
          "1996-12-01T00:00:00.000000000",
          "1997-01-01T00:00:00.000000000",
          "1997-02-01T00:00:00.000000000",
          "1997-03-01T00:00:00.000000000",
          "1997-04-01T00:00:00.000000000",
          "1997-05-01T00:00:00.000000000",
          "1997-06-01T00:00:00.000000000",
          "1997-07-01T00:00:00.000000000",
          "1997-08-01T00:00:00.000000000",
          "1997-09-01T00:00:00.000000000",
          "1997-10-01T00:00:00.000000000",
          "1997-11-01T00:00:00.000000000",
          "1997-12-01T00:00:00.000000000",
          "1998-01-01T00:00:00.000000000",
          "1998-02-01T00:00:00.000000000",
          "1998-03-01T00:00:00.000000000",
          "1998-04-01T00:00:00.000000000",
          "1998-05-01T00:00:00.000000000",
          "1998-06-01T00:00:00.000000000",
          "1998-07-01T00:00:00.000000000",
          "1998-08-01T00:00:00.000000000",
          "1998-09-01T00:00:00.000000000",
          "1998-10-01T00:00:00.000000000",
          "1998-11-01T00:00:00.000000000",
          "1998-12-01T00:00:00.000000000",
          "1999-01-01T00:00:00.000000000",
          "1999-02-01T00:00:00.000000000",
          "1999-03-01T00:00:00.000000000",
          "1999-04-01T00:00:00.000000000",
          "1999-05-01T00:00:00.000000000",
          "1999-07-01T00:00:00.000000000",
          "1999-09-01T00:00:00.000000000",
          "1999-10-01T00:00:00.000000000",
          "1999-11-01T00:00:00.000000000"
         ],
         "xaxis": "x",
         "y": {
          "bdata": "AAAAAAAA+H8AAAAAAAD4fwAAAAAAAPh/AAAAAAAA+H8AAAAAAAD4fwAAAAAAAPh/AAAAAAAA+H8AAAAAAAD4fwAAAAAAAPh/AAAAAAAA+H8AAAAAAAD4fwAAAAAAAPh/AAAAAAAA+H8AAAAAAAD4fwAAAAAAAPh/AAAAAAAA+H8AAAAAAAD4fwAAAAAAAPh/AAAAAAAA+H8AAAAAAAD4fwAAAAAAAPh/AAAAAAAA+H8AAAAAAAD4fwAAAAAAAPh/AAAAAAAA+H8AAAAAAAD4fwAAAAAAAPh/AAAAAAAA+H8AAAAAAAD4fwAAAAAAAPh/AAAAAAAA+H8AAAAAAAD4fwAAAAAAAPh/AAAAAAAA+H8AAAAAAAD4fwAAAAAAAPh/AAAAAAAA+H8AAAAAAAD4fwAAAAAAAPh/AAAAAAAA+H8AAAAAAAD4fwAAAAAAAPh/AAAAAAAA+H8AAAAAAAD4fwAAAAAAAPh/AAAAAAAA+H8AAAAAAAD4fwAAAAAAAPh/AAAAAAAA+H8AAAAAAAD4fwAAAAAAAPh/AAAAAAAA+H8AAAAAAAD4fwAAAAAAAPh/AAAAAAAA+H8AAAAAAAD4fwAAAAAAAPh/AAAAAAAA+H8AAAAAAAD4fwAAAAAAAPh/AAAAAAAA+H8AAAAAAAD4fwAAAAAAAPh/AAAAAAAA+H8AAAAAAAD4fwAAAAAAAPh/AAAAAAAA+H8AAAAAAAD4fwAAAAAAAPh/AAAAAAAA+H8AAAAAAAD4fwAAAAAAAPh/AAAAAAAA+H8AAAAAAAD4fwAAAAAAAPh/AAAAAAAA+H8AAAAAAAD4fwAAAAAAAPh/AAAAAAAA+H8AAAAAAAD4fwAAAAAAAPh/AAAAAAAA+H8AAAAAAAD4fwAAAAAAAPh/AAAAAAAA+H8AAAAAAAD4fwAAAAAAAPh/AAAAAAAA+H8AAAAAAAD4fwAAAAAAAPh/AAAAAAAA+H8AAAAAAAD4fwAAAAAAAPh/AAAAAAAA+H8AAAAAAAD4fwAAAAAAAPh/AAAAAAAA+H8AAAAAAAD4fwAAAAAAAPh/AAAAAAAA+H8AAAAAAAD4fwAAAAAAAPh/AAAAAAAA+H8AAAAAAAD4fwAAAAAAAPh/AAAAAAAA+H8AAAAAAAD4fwAAAAAAAPh/AAAAAAAA+H8AAAAAAAD4fwAAAAAAAPh/AAAAAAAA+H8AAAAAAAD4fwAAAAAAAPh/AAAAAAAA+H8AAAAAAAD4fwAAAAAAAPh/AAAAAAAA+H8dA7LXuz+2P/ERMSWS6LU/H9eGinH+tj9YkGYsms62P00tW+uLhLY/n6ut2F92tz9pHVVNEHW3Px+duvJZnrc/kfKTap+Otz/8xteeWRK4P0M50a5Cyrc/NWPRdHYyuD8PnDOitDe4P8EcPX5v07c/ObnfoSjQtz+qK5/leXC3P5+OxwxUxrc/G4F4Xb9gtz9FZFjFG5m3P6YPXVDfMrc/JNbiUwCMtz85ud+hKNC3P08eFmpN87Y/CvSJPEm6tj/mriXkg561PxWRYRVvZLY/tmeWBKiptT++TX/2I0W0P3nMQGX8+7Q/rUz4pX7etD8plltaDYmzPwHBHD1+b7M/j8L1KFyPsj/wMy4cCMmyP1Lt0/GYgbI/IEHxY8xdsz/kMQOV8e+zPzgyj/zBwLM/bvqzHykisz/Q7SWN0TqyPyyazk4GR7E/HJlH/mDgsT++3v3xXrWyPzvCacGLvrI/Onr83qY/sz/o2az6XG21P+8gdqbQebU/YHZPHhZqtT+hvmVOl8W0P3XN5JttbrQ/vFzEd2LWsz99XBsqxvmzP7MkQE0tW7M/4UBIFjCBsz+8eapDboazP6NAn8iTpLM/jkC8rl+wsz8LtaZ5xymyPyy3tBoS97A/",
          "dtype": "f8"
         },
         "yaxis": "y"
        },
        {
         "hovertemplate": "Portfolio=80_20_2factors<br>Date=%{x}<br>Annualized Return (%)=%{y}<extra></extra>",
         "legendgroup": "80_20_2factors",
         "line": {
          "color": "#FF7F0E",
          "dash": "solid",
          "width": 2
         },
         "marker": {
          "symbol": "circle"
         },
         "mode": "lines",
         "name": "80_20_2factors",
         "orientation": "v",
         "showlegend": true,
         "type": "scatter",
         "x": [
          "1985-01-01T00:00:00.000000000",
          "1985-02-01T00:00:00.000000000",
          "1985-03-01T00:00:00.000000000",
          "1985-04-01T00:00:00.000000000",
          "1985-05-01T00:00:00.000000000",
          "1985-06-01T00:00:00.000000000",
          "1985-07-01T00:00:00.000000000",
          "1985-08-01T00:00:00.000000000",
          "1985-09-01T00:00:00.000000000",
          "1985-10-01T00:00:00.000000000",
          "1985-11-01T00:00:00.000000000",
          "1985-12-01T00:00:00.000000000",
          "1986-01-01T00:00:00.000000000",
          "1986-02-01T00:00:00.000000000",
          "1986-03-01T00:00:00.000000000",
          "1986-04-01T00:00:00.000000000",
          "1986-05-01T00:00:00.000000000",
          "1986-06-01T00:00:00.000000000",
          "1986-07-01T00:00:00.000000000",
          "1986-08-01T00:00:00.000000000",
          "1986-09-01T00:00:00.000000000",
          "1986-10-01T00:00:00.000000000",
          "1986-11-01T00:00:00.000000000",
          "1986-12-01T00:00:00.000000000",
          "1987-01-01T00:00:00.000000000",
          "1987-02-01T00:00:00.000000000",
          "1987-03-01T00:00:00.000000000",
          "1987-04-01T00:00:00.000000000",
          "1987-05-01T00:00:00.000000000",
          "1987-06-01T00:00:00.000000000",
          "1987-07-01T00:00:00.000000000",
          "1987-08-01T00:00:00.000000000",
          "1987-09-01T00:00:00.000000000",
          "1987-10-01T00:00:00.000000000",
          "1987-11-01T00:00:00.000000000",
          "1987-12-01T00:00:00.000000000",
          "1988-01-01T00:00:00.000000000",
          "1988-02-01T00:00:00.000000000",
          "1988-03-01T00:00:00.000000000",
          "1988-04-01T00:00:00.000000000",
          "1988-05-01T00:00:00.000000000",
          "1988-06-01T00:00:00.000000000",
          "1988-07-01T00:00:00.000000000",
          "1988-08-01T00:00:00.000000000",
          "1988-09-01T00:00:00.000000000",
          "1988-10-01T00:00:00.000000000",
          "1988-11-01T00:00:00.000000000",
          "1988-12-01T00:00:00.000000000",
          "1989-01-01T00:00:00.000000000",
          "1989-02-01T00:00:00.000000000",
          "1989-03-01T00:00:00.000000000",
          "1989-04-01T00:00:00.000000000",
          "1989-05-01T00:00:00.000000000",
          "1989-06-01T00:00:00.000000000",
          "1989-07-01T00:00:00.000000000",
          "1989-08-01T00:00:00.000000000",
          "1989-09-01T00:00:00.000000000",
          "1989-10-01T00:00:00.000000000",
          "1989-11-01T00:00:00.000000000",
          "1989-12-01T00:00:00.000000000",
          "1990-01-01T00:00:00.000000000",
          "1990-02-01T00:00:00.000000000",
          "1990-03-01T00:00:00.000000000",
          "1990-04-01T00:00:00.000000000",
          "1990-05-01T00:00:00.000000000",
          "1990-06-01T00:00:00.000000000",
          "1990-07-01T00:00:00.000000000",
          "1990-08-01T00:00:00.000000000",
          "1990-09-01T00:00:00.000000000",
          "1990-10-01T00:00:00.000000000",
          "1990-11-01T00:00:00.000000000",
          "1990-12-01T00:00:00.000000000",
          "1991-01-01T00:00:00.000000000",
          "1991-02-01T00:00:00.000000000",
          "1991-03-01T00:00:00.000000000",
          "1991-04-01T00:00:00.000000000",
          "1991-05-01T00:00:00.000000000",
          "1991-06-01T00:00:00.000000000",
          "1991-07-01T00:00:00.000000000",
          "1991-08-01T00:00:00.000000000",
          "1991-09-01T00:00:00.000000000",
          "1991-10-01T00:00:00.000000000",
          "1991-11-01T00:00:00.000000000",
          "1991-12-01T00:00:00.000000000",
          "1992-01-01T00:00:00.000000000",
          "1992-02-01T00:00:00.000000000",
          "1992-03-01T00:00:00.000000000",
          "1992-04-01T00:00:00.000000000",
          "1992-05-01T00:00:00.000000000",
          "1992-06-01T00:00:00.000000000",
          "1992-07-01T00:00:00.000000000",
          "1992-08-01T00:00:00.000000000",
          "1992-09-01T00:00:00.000000000",
          "1992-10-01T00:00:00.000000000",
          "1992-11-01T00:00:00.000000000",
          "1992-12-01T00:00:00.000000000",
          "1993-01-01T00:00:00.000000000",
          "1993-02-01T00:00:00.000000000",
          "1993-03-01T00:00:00.000000000",
          "1993-04-01T00:00:00.000000000",
          "1993-05-01T00:00:00.000000000",
          "1993-06-01T00:00:00.000000000",
          "1993-07-01T00:00:00.000000000",
          "1993-08-01T00:00:00.000000000",
          "1993-09-01T00:00:00.000000000",
          "1993-10-01T00:00:00.000000000",
          "1993-11-01T00:00:00.000000000",
          "1993-12-01T00:00:00.000000000",
          "1994-01-01T00:00:00.000000000",
          "1994-02-01T00:00:00.000000000",
          "1994-03-01T00:00:00.000000000",
          "1994-04-01T00:00:00.000000000",
          "1994-05-01T00:00:00.000000000",
          "1994-06-01T00:00:00.000000000",
          "1994-07-01T00:00:00.000000000",
          "1994-08-01T00:00:00.000000000",
          "1994-09-01T00:00:00.000000000",
          "1994-10-01T00:00:00.000000000",
          "1994-11-01T00:00:00.000000000",
          "1994-12-01T00:00:00.000000000",
          "1995-01-01T00:00:00.000000000",
          "1995-02-01T00:00:00.000000000",
          "1995-03-01T00:00:00.000000000",
          "1995-04-01T00:00:00.000000000",
          "1995-05-01T00:00:00.000000000",
          "1995-06-01T00:00:00.000000000",
          "1995-07-01T00:00:00.000000000",
          "1995-08-01T00:00:00.000000000",
          "1995-09-01T00:00:00.000000000",
          "1995-10-01T00:00:00.000000000",
          "1995-11-01T00:00:00.000000000",
          "1995-12-01T00:00:00.000000000",
          "1996-01-01T00:00:00.000000000",
          "1996-02-01T00:00:00.000000000",
          "1996-03-01T00:00:00.000000000",
          "1996-04-01T00:00:00.000000000",
          "1996-05-01T00:00:00.000000000",
          "1996-06-01T00:00:00.000000000",
          "1996-07-01T00:00:00.000000000",
          "1996-08-01T00:00:00.000000000",
          "1996-09-01T00:00:00.000000000",
          "1996-10-01T00:00:00.000000000",
          "1996-11-01T00:00:00.000000000",
          "1996-12-01T00:00:00.000000000",
          "1997-01-01T00:00:00.000000000",
          "1997-02-01T00:00:00.000000000",
          "1997-03-01T00:00:00.000000000",
          "1997-04-01T00:00:00.000000000",
          "1997-05-01T00:00:00.000000000",
          "1997-06-01T00:00:00.000000000",
          "1997-07-01T00:00:00.000000000",
          "1997-08-01T00:00:00.000000000",
          "1997-09-01T00:00:00.000000000",
          "1997-10-01T00:00:00.000000000",
          "1997-11-01T00:00:00.000000000",
          "1997-12-01T00:00:00.000000000",
          "1998-01-01T00:00:00.000000000",
          "1998-02-01T00:00:00.000000000",
          "1998-03-01T00:00:00.000000000",
          "1998-04-01T00:00:00.000000000",
          "1998-05-01T00:00:00.000000000",
          "1998-06-01T00:00:00.000000000",
          "1998-07-01T00:00:00.000000000",
          "1998-08-01T00:00:00.000000000",
          "1998-09-01T00:00:00.000000000",
          "1998-10-01T00:00:00.000000000",
          "1998-11-01T00:00:00.000000000",
          "1998-12-01T00:00:00.000000000",
          "1999-01-01T00:00:00.000000000",
          "1999-02-01T00:00:00.000000000",
          "1999-03-01T00:00:00.000000000",
          "1999-04-01T00:00:00.000000000",
          "1999-05-01T00:00:00.000000000",
          "1999-07-01T00:00:00.000000000",
          "1999-09-01T00:00:00.000000000",
          "1999-10-01T00:00:00.000000000",
          "1999-11-01T00:00:00.000000000"
         ],
         "xaxis": "x",
         "y": {
          "bdata": "AAAAAAAA+H8AAAAAAAD4fwAAAAAAAPh/AAAAAAAA+H8AAAAAAAD4fwAAAAAAAPh/AAAAAAAA+H8AAAAAAAD4fwAAAAAAAPh/AAAAAAAA+H8AAAAAAAD4fwAAAAAAAPh/AAAAAAAA+H8AAAAAAAD4fwAAAAAAAPh/AAAAAAAA+H8AAAAAAAD4fwAAAAAAAPh/AAAAAAAA+H8AAAAAAAD4fwAAAAAAAPh/AAAAAAAA+H8AAAAAAAD4fwAAAAAAAPh/AAAAAAAA+H8AAAAAAAD4fwAAAAAAAPh/AAAAAAAA+H8AAAAAAAD4fwAAAAAAAPh/AAAAAAAA+H8AAAAAAAD4fwAAAAAAAPh/AAAAAAAA+H8AAAAAAAD4fwAAAAAAAPh/AAAAAAAA+H8AAAAAAAD4fwAAAAAAAPh/AAAAAAAA+H8AAAAAAAD4fwAAAAAAAPh/AAAAAAAA+H8AAAAAAAD4fwAAAAAAAPh/AAAAAAAA+H8AAAAAAAD4fwAAAAAAAPh/AAAAAAAA+H8AAAAAAAD4fwAAAAAAAPh/AAAAAAAA+H8AAAAAAAD4fwAAAAAAAPh/AAAAAAAA+H8AAAAAAAD4fwAAAAAAAPh/AAAAAAAA+H8AAAAAAAD4fwAAAAAAAPh/AAAAAAAA+H8AAAAAAAD4fwAAAAAAAPh/AAAAAAAA+H8AAAAAAAD4fwAAAAAAAPh/AAAAAAAA+H8AAAAAAAD4fwAAAAAAAPh/AAAAAAAA+H8AAAAAAAD4fwAAAAAAAPh/AAAAAAAA+H8AAAAAAAD4fwAAAAAAAPh/AAAAAAAA+H8AAAAAAAD4fwAAAAAAAPh/AAAAAAAA+H8AAAAAAAD4fwAAAAAAAPh/AAAAAAAA+H8AAAAAAAD4fwAAAAAAAPh/AAAAAAAA+H8AAAAAAAD4fwAAAAAAAPh/AAAAAAAA+H8AAAAAAAD4fwAAAAAAAPh/AAAAAAAA+H8AAAAAAAD4fwAAAAAAAPh/AAAAAAAA+H8AAAAAAAD4fwAAAAAAAPh/AAAAAAAA+H8AAAAAAAD4fwAAAAAAAPh/AAAAAAAA+H8AAAAAAAD4fwAAAAAAAPh/AAAAAAAA+H8AAAAAAAD4fwAAAAAAAPh/AAAAAAAA+H8AAAAAAAD4fwAAAAAAAPh/AAAAAAAA+H8AAAAAAAD4fwAAAAAAAPh/AAAAAAAA+H8AAAAAAAD4fwAAAAAAAPh/AAAAAAAA+H8AAAAAAAD4fwAAAAAAAPh/AAAAAAAA+H+Kk/sdigK1Px2UMNP2r7Q/wOeHEcKjtT/T2cngKHm1P5gvL8A+OrU/6J/gYkUNtj+syr4rgv+1P2JKJNHLKLY/uFhRg2kYtj/mV3OAYI62P5vmHafoSLY/2J5ZEqCmtj8OLbKd76e2P+27IvjfSrY/ih9j7lpCtj9TrvAuF/G1PwK8BRIUP7Y/+5EiMqzitT/D2EKQgxK2P6Fns+pztbU/shGI1/ULtj+KH2PuWkK2PwQhWcAEbrU/EMzR4/c2tT/NBplk5Cy0P3OFd7mI77Q/nL8JhQg4tD8p0CfyJOmyP2ZrfZHQlrM/2/l+arx0sz/VJk7udyiyP5EKYwtBDrI/w7ZFmQ0ysT+cxCCwcmixP8jvbfqzH7E/qkNuhhvwsT/EQq1p3nGyP/z7jAsHQrI/zO7Jw0KtsT/Y0w5/TdawPwQ5KGGm7a8/Ksb5m1CIsD8NGvonuFixP8wLsI9OXbE/ufyH9NvXsT/oaiv2l92zP+hqK/aX3bM/0VynkZbKsz/hXS7iOzGzP7yzdtuF5rI/wjQMHxFTsj8LmMCtu3myPxEZVvFG5rE/kQpjC0EOsj/SGK2jqgmyP0JD/wQXK7I/wCZr1EM0sj+LNzKP/MGwP3kB9tGpK68/",
          "dtype": "f8"
         },
         "yaxis": "y"
        },
        {
         "hovertemplate": "Portfolio=80_20_1factor<br>Date=%{x}<br>Annualized Return (%)=%{y}<extra></extra>",
         "legendgroup": "80_20_1factor",
         "line": {
          "color": "#2CA02C",
          "dash": "solid",
          "width": 2
         },
         "marker": {
          "symbol": "circle"
         },
         "mode": "lines",
         "name": "80_20_1factor",
         "orientation": "v",
         "showlegend": true,
         "type": "scatter",
         "x": [
          "1985-01-01T00:00:00.000000000",
          "1985-02-01T00:00:00.000000000",
          "1985-03-01T00:00:00.000000000",
          "1985-04-01T00:00:00.000000000",
          "1985-05-01T00:00:00.000000000",
          "1985-06-01T00:00:00.000000000",
          "1985-07-01T00:00:00.000000000",
          "1985-08-01T00:00:00.000000000",
          "1985-09-01T00:00:00.000000000",
          "1985-10-01T00:00:00.000000000",
          "1985-11-01T00:00:00.000000000",
          "1985-12-01T00:00:00.000000000",
          "1986-01-01T00:00:00.000000000",
          "1986-02-01T00:00:00.000000000",
          "1986-03-01T00:00:00.000000000",
          "1986-04-01T00:00:00.000000000",
          "1986-05-01T00:00:00.000000000",
          "1986-06-01T00:00:00.000000000",
          "1986-07-01T00:00:00.000000000",
          "1986-08-01T00:00:00.000000000",
          "1986-09-01T00:00:00.000000000",
          "1986-10-01T00:00:00.000000000",
          "1986-11-01T00:00:00.000000000",
          "1986-12-01T00:00:00.000000000",
          "1987-01-01T00:00:00.000000000",
          "1987-02-01T00:00:00.000000000",
          "1987-03-01T00:00:00.000000000",
          "1987-04-01T00:00:00.000000000",
          "1987-05-01T00:00:00.000000000",
          "1987-06-01T00:00:00.000000000",
          "1987-07-01T00:00:00.000000000",
          "1987-08-01T00:00:00.000000000",
          "1987-09-01T00:00:00.000000000",
          "1987-10-01T00:00:00.000000000",
          "1987-11-01T00:00:00.000000000",
          "1987-12-01T00:00:00.000000000",
          "1988-01-01T00:00:00.000000000",
          "1988-02-01T00:00:00.000000000",
          "1988-03-01T00:00:00.000000000",
          "1988-04-01T00:00:00.000000000",
          "1988-05-01T00:00:00.000000000",
          "1988-06-01T00:00:00.000000000",
          "1988-07-01T00:00:00.000000000",
          "1988-08-01T00:00:00.000000000",
          "1988-09-01T00:00:00.000000000",
          "1988-10-01T00:00:00.000000000",
          "1988-11-01T00:00:00.000000000",
          "1988-12-01T00:00:00.000000000",
          "1989-01-01T00:00:00.000000000",
          "1989-02-01T00:00:00.000000000",
          "1989-03-01T00:00:00.000000000",
          "1989-04-01T00:00:00.000000000",
          "1989-05-01T00:00:00.000000000",
          "1989-06-01T00:00:00.000000000",
          "1989-07-01T00:00:00.000000000",
          "1989-08-01T00:00:00.000000000",
          "1989-09-01T00:00:00.000000000",
          "1989-10-01T00:00:00.000000000",
          "1989-11-01T00:00:00.000000000",
          "1989-12-01T00:00:00.000000000",
          "1990-01-01T00:00:00.000000000",
          "1990-02-01T00:00:00.000000000",
          "1990-03-01T00:00:00.000000000",
          "1990-04-01T00:00:00.000000000",
          "1990-05-01T00:00:00.000000000",
          "1990-06-01T00:00:00.000000000",
          "1990-07-01T00:00:00.000000000",
          "1990-08-01T00:00:00.000000000",
          "1990-09-01T00:00:00.000000000",
          "1990-10-01T00:00:00.000000000",
          "1990-11-01T00:00:00.000000000",
          "1990-12-01T00:00:00.000000000",
          "1991-01-01T00:00:00.000000000",
          "1991-02-01T00:00:00.000000000",
          "1991-03-01T00:00:00.000000000",
          "1991-04-01T00:00:00.000000000",
          "1991-05-01T00:00:00.000000000",
          "1991-06-01T00:00:00.000000000",
          "1991-07-01T00:00:00.000000000",
          "1991-08-01T00:00:00.000000000",
          "1991-09-01T00:00:00.000000000",
          "1991-10-01T00:00:00.000000000",
          "1991-11-01T00:00:00.000000000",
          "1991-12-01T00:00:00.000000000",
          "1992-01-01T00:00:00.000000000",
          "1992-02-01T00:00:00.000000000",
          "1992-03-01T00:00:00.000000000",
          "1992-04-01T00:00:00.000000000",
          "1992-05-01T00:00:00.000000000",
          "1992-06-01T00:00:00.000000000",
          "1992-07-01T00:00:00.000000000",
          "1992-08-01T00:00:00.000000000",
          "1992-09-01T00:00:00.000000000",
          "1992-10-01T00:00:00.000000000",
          "1992-11-01T00:00:00.000000000",
          "1992-12-01T00:00:00.000000000",
          "1993-01-01T00:00:00.000000000",
          "1993-02-01T00:00:00.000000000",
          "1993-03-01T00:00:00.000000000",
          "1993-04-01T00:00:00.000000000",
          "1993-05-01T00:00:00.000000000",
          "1993-06-01T00:00:00.000000000",
          "1993-07-01T00:00:00.000000000",
          "1993-08-01T00:00:00.000000000",
          "1993-09-01T00:00:00.000000000",
          "1993-10-01T00:00:00.000000000",
          "1993-11-01T00:00:00.000000000",
          "1993-12-01T00:00:00.000000000",
          "1994-01-01T00:00:00.000000000",
          "1994-02-01T00:00:00.000000000",
          "1994-03-01T00:00:00.000000000",
          "1994-04-01T00:00:00.000000000",
          "1994-05-01T00:00:00.000000000",
          "1994-06-01T00:00:00.000000000",
          "1994-07-01T00:00:00.000000000",
          "1994-08-01T00:00:00.000000000",
          "1994-09-01T00:00:00.000000000",
          "1994-10-01T00:00:00.000000000",
          "1994-11-01T00:00:00.000000000",
          "1994-12-01T00:00:00.000000000",
          "1995-01-01T00:00:00.000000000",
          "1995-02-01T00:00:00.000000000",
          "1995-03-01T00:00:00.000000000",
          "1995-04-01T00:00:00.000000000",
          "1995-05-01T00:00:00.000000000",
          "1995-06-01T00:00:00.000000000",
          "1995-07-01T00:00:00.000000000",
          "1995-08-01T00:00:00.000000000",
          "1995-09-01T00:00:00.000000000",
          "1995-10-01T00:00:00.000000000",
          "1995-11-01T00:00:00.000000000",
          "1995-12-01T00:00:00.000000000",
          "1996-01-01T00:00:00.000000000",
          "1996-02-01T00:00:00.000000000",
          "1996-03-01T00:00:00.000000000",
          "1996-04-01T00:00:00.000000000",
          "1996-05-01T00:00:00.000000000",
          "1996-06-01T00:00:00.000000000",
          "1996-07-01T00:00:00.000000000",
          "1996-08-01T00:00:00.000000000",
          "1996-09-01T00:00:00.000000000",
          "1996-10-01T00:00:00.000000000",
          "1996-11-01T00:00:00.000000000",
          "1996-12-01T00:00:00.000000000",
          "1997-01-01T00:00:00.000000000",
          "1997-02-01T00:00:00.000000000",
          "1997-03-01T00:00:00.000000000",
          "1997-04-01T00:00:00.000000000",
          "1997-05-01T00:00:00.000000000",
          "1997-06-01T00:00:00.000000000",
          "1997-07-01T00:00:00.000000000",
          "1997-08-01T00:00:00.000000000",
          "1997-09-01T00:00:00.000000000",
          "1997-10-01T00:00:00.000000000",
          "1997-11-01T00:00:00.000000000",
          "1997-12-01T00:00:00.000000000",
          "1998-01-01T00:00:00.000000000",
          "1998-02-01T00:00:00.000000000",
          "1998-03-01T00:00:00.000000000",
          "1998-04-01T00:00:00.000000000",
          "1998-05-01T00:00:00.000000000",
          "1998-06-01T00:00:00.000000000",
          "1998-07-01T00:00:00.000000000",
          "1998-08-01T00:00:00.000000000",
          "1998-09-01T00:00:00.000000000",
          "1998-10-01T00:00:00.000000000",
          "1998-11-01T00:00:00.000000000",
          "1998-12-01T00:00:00.000000000",
          "1999-01-01T00:00:00.000000000",
          "1999-02-01T00:00:00.000000000",
          "1999-03-01T00:00:00.000000000",
          "1999-04-01T00:00:00.000000000",
          "1999-05-01T00:00:00.000000000",
          "1999-07-01T00:00:00.000000000",
          "1999-09-01T00:00:00.000000000",
          "1999-10-01T00:00:00.000000000",
          "1999-11-01T00:00:00.000000000"
         ],
         "xaxis": "x",
         "y": {
          "bdata": "AAAAAAAA+H8AAAAAAAD4fwAAAAAAAPh/AAAAAAAA+H8AAAAAAAD4fwAAAAAAAPh/AAAAAAAA+H8AAAAAAAD4fwAAAAAAAPh/AAAAAAAA+H8AAAAAAAD4fwAAAAAAAPh/AAAAAAAA+H8AAAAAAAD4fwAAAAAAAPh/AAAAAAAA+H8AAAAAAAD4fwAAAAAAAPh/AAAAAAAA+H8AAAAAAAD4fwAAAAAAAPh/AAAAAAAA+H8AAAAAAAD4fwAAAAAAAPh/AAAAAAAA+H8AAAAAAAD4fwAAAAAAAPh/AAAAAAAA+H8AAAAAAAD4fwAAAAAAAPh/AAAAAAAA+H8AAAAAAAD4fwAAAAAAAPh/AAAAAAAA+H8AAAAAAAD4fwAAAAAAAPh/AAAAAAAA+H8AAAAAAAD4fwAAAAAAAPh/AAAAAAAA+H8AAAAAAAD4fwAAAAAAAPh/AAAAAAAA+H8AAAAAAAD4fwAAAAAAAPh/AAAAAAAA+H8AAAAAAAD4fwAAAAAAAPh/AAAAAAAA+H8AAAAAAAD4fwAAAAAAAPh/AAAAAAAA+H8AAAAAAAD4fwAAAAAAAPh/AAAAAAAA+H8AAAAAAAD4fwAAAAAAAPh/AAAAAAAA+H8AAAAAAAD4fwAAAAAAAPh/AAAAAAAA+H8AAAAAAAD4fwAAAAAAAPh/AAAAAAAA+H8AAAAAAAD4fwAAAAAAAPh/AAAAAAAA+H8AAAAAAAD4fwAAAAAAAPh/AAAAAAAA+H8AAAAAAAD4fwAAAAAAAPh/AAAAAAAA+H8AAAAAAAD4fwAAAAAAAPh/AAAAAAAA+H8AAAAAAAD4fwAAAAAAAPh/AAAAAAAA+H8AAAAAAAD4fwAAAAAAAPh/AAAAAAAA+H8AAAAAAAD4fwAAAAAAAPh/AAAAAAAA+H8AAAAAAAD4fwAAAAAAAPh/AAAAAAAA+H8AAAAAAAD4fwAAAAAAAPh/AAAAAAAA+H8AAAAAAAD4fwAAAAAAAPh/AAAAAAAA+H8AAAAAAAD4fwAAAAAAAPh/AAAAAAAA+H8AAAAAAAD4fwAAAAAAAPh/AAAAAAAA+H8AAAAAAAD4fwAAAAAAAPh/AAAAAAAA+H8AAAAAAAD4fwAAAAAAAPh/AAAAAAAA+H8AAAAAAAD4fwAAAAAAAPh/AAAAAAAA+H8AAAAAAAD4fwAAAAAAAPh/AAAAAAAA+H8AAAAAAAD4fwAAAAAAAPh/AAAAAAAA+H8AAAAAAAD4fwAAAAAAAPh/AAAAAAAA+H8peXWOAdmzP8b5m1CIgLM/HLEWnwJgtD/5FADjGTS0P4Oj5NU5BrQ/KzBkdavntD+dhT3t8Ne0P2TMXUvIB7U/3GgAb4EEtT/PoKF/gou1P2jon+BiRbU/6LzGLlG9tT8fSx+6oL61P2Svd3+8V7U/OKEQAYdQtT9uTE9Y4gG1P+CEQgQcQrU/UfcBSG3itD8wTKYKRiW1P5IFTODW3bQ/bCHIQQkztT8+6Nms+ly1P1dbsb/snrQ/I/jfSnZstD+ppE5AE2GzPwOV8e8zLrQ/PpY+dEF9sz/67evAOSOyP8Qlx53SwbI/vt798V61sj9wtrkxPWGxP1RvDWyVYLE/3ze+9sySsD9lcJS8OsewPzVG66hqgrA/cLa5MT1hsT+JtfgUAOOxPz9SRIZVvLE/vW987ZklsT/lm21uTE+wP2Qe+YOB564/fuNrzywJsD/D0ytlGeKwP85THXIz3LA/hbacS3FVsT+t3XahuU6zP5wWvOgrSLM/7N0f71Ursz/GUE60q5CyP2wm32xzY7I/Jhk5C3vasT857pQO1v+xPxNhw9MrZbE/Yf2fw3x5sT/ZmULnNXaxP7XgRV9BmrE/hZm2f2WlsT/eVKTC2EKwP0PKT6p9Oq4/",
          "dtype": "f8"
         },
         "yaxis": "y"
        },
        {
         "hovertemplate": "Portfolio=80_20_ACWI<br>Date=%{x}<br>Annualized Return (%)=%{y}<extra></extra>",
         "legendgroup": "80_20_ACWI",
         "line": {
          "color": "#D62728",
          "dash": "solid",
          "width": 2
         },
         "marker": {
          "symbol": "circle"
         },
         "mode": "lines",
         "name": "80_20_ACWI",
         "orientation": "v",
         "showlegend": true,
         "type": "scatter",
         "x": [
          "1985-01-01T00:00:00.000000000",
          "1985-02-01T00:00:00.000000000",
          "1985-03-01T00:00:00.000000000",
          "1985-04-01T00:00:00.000000000",
          "1985-05-01T00:00:00.000000000",
          "1985-06-01T00:00:00.000000000",
          "1985-07-01T00:00:00.000000000",
          "1985-08-01T00:00:00.000000000",
          "1985-09-01T00:00:00.000000000",
          "1985-10-01T00:00:00.000000000",
          "1985-11-01T00:00:00.000000000",
          "1985-12-01T00:00:00.000000000",
          "1986-01-01T00:00:00.000000000",
          "1986-02-01T00:00:00.000000000",
          "1986-03-01T00:00:00.000000000",
          "1986-04-01T00:00:00.000000000",
          "1986-05-01T00:00:00.000000000",
          "1986-06-01T00:00:00.000000000",
          "1986-07-01T00:00:00.000000000",
          "1986-08-01T00:00:00.000000000",
          "1986-09-01T00:00:00.000000000",
          "1986-10-01T00:00:00.000000000",
          "1986-11-01T00:00:00.000000000",
          "1986-12-01T00:00:00.000000000",
          "1987-01-01T00:00:00.000000000",
          "1987-02-01T00:00:00.000000000",
          "1987-03-01T00:00:00.000000000",
          "1987-04-01T00:00:00.000000000",
          "1987-05-01T00:00:00.000000000",
          "1987-06-01T00:00:00.000000000",
          "1987-07-01T00:00:00.000000000",
          "1987-08-01T00:00:00.000000000",
          "1987-09-01T00:00:00.000000000",
          "1987-10-01T00:00:00.000000000",
          "1987-11-01T00:00:00.000000000",
          "1987-12-01T00:00:00.000000000",
          "1988-01-01T00:00:00.000000000",
          "1988-02-01T00:00:00.000000000",
          "1988-03-01T00:00:00.000000000",
          "1988-04-01T00:00:00.000000000",
          "1988-05-01T00:00:00.000000000",
          "1988-06-01T00:00:00.000000000",
          "1988-07-01T00:00:00.000000000",
          "1988-08-01T00:00:00.000000000",
          "1988-09-01T00:00:00.000000000",
          "1988-10-01T00:00:00.000000000",
          "1988-11-01T00:00:00.000000000",
          "1988-12-01T00:00:00.000000000",
          "1989-01-01T00:00:00.000000000",
          "1989-02-01T00:00:00.000000000",
          "1989-03-01T00:00:00.000000000",
          "1989-04-01T00:00:00.000000000",
          "1989-05-01T00:00:00.000000000",
          "1989-06-01T00:00:00.000000000",
          "1989-07-01T00:00:00.000000000",
          "1989-08-01T00:00:00.000000000",
          "1989-09-01T00:00:00.000000000",
          "1989-10-01T00:00:00.000000000",
          "1989-11-01T00:00:00.000000000",
          "1989-12-01T00:00:00.000000000",
          "1990-01-01T00:00:00.000000000",
          "1990-02-01T00:00:00.000000000",
          "1990-03-01T00:00:00.000000000",
          "1990-04-01T00:00:00.000000000",
          "1990-05-01T00:00:00.000000000",
          "1990-06-01T00:00:00.000000000",
          "1990-07-01T00:00:00.000000000",
          "1990-08-01T00:00:00.000000000",
          "1990-09-01T00:00:00.000000000",
          "1990-10-01T00:00:00.000000000",
          "1990-11-01T00:00:00.000000000",
          "1990-12-01T00:00:00.000000000",
          "1991-01-01T00:00:00.000000000",
          "1991-02-01T00:00:00.000000000",
          "1991-03-01T00:00:00.000000000",
          "1991-04-01T00:00:00.000000000",
          "1991-05-01T00:00:00.000000000",
          "1991-06-01T00:00:00.000000000",
          "1991-07-01T00:00:00.000000000",
          "1991-08-01T00:00:00.000000000",
          "1991-09-01T00:00:00.000000000",
          "1991-10-01T00:00:00.000000000",
          "1991-11-01T00:00:00.000000000",
          "1991-12-01T00:00:00.000000000",
          "1992-01-01T00:00:00.000000000",
          "1992-02-01T00:00:00.000000000",
          "1992-03-01T00:00:00.000000000",
          "1992-04-01T00:00:00.000000000",
          "1992-05-01T00:00:00.000000000",
          "1992-06-01T00:00:00.000000000",
          "1992-07-01T00:00:00.000000000",
          "1992-08-01T00:00:00.000000000",
          "1992-09-01T00:00:00.000000000",
          "1992-10-01T00:00:00.000000000",
          "1992-11-01T00:00:00.000000000",
          "1992-12-01T00:00:00.000000000",
          "1993-01-01T00:00:00.000000000",
          "1993-02-01T00:00:00.000000000",
          "1993-03-01T00:00:00.000000000",
          "1993-04-01T00:00:00.000000000",
          "1993-05-01T00:00:00.000000000",
          "1993-06-01T00:00:00.000000000",
          "1993-07-01T00:00:00.000000000",
          "1993-08-01T00:00:00.000000000",
          "1993-09-01T00:00:00.000000000",
          "1993-10-01T00:00:00.000000000",
          "1993-11-01T00:00:00.000000000",
          "1993-12-01T00:00:00.000000000",
          "1994-01-01T00:00:00.000000000",
          "1994-02-01T00:00:00.000000000",
          "1994-03-01T00:00:00.000000000",
          "1994-04-01T00:00:00.000000000",
          "1994-05-01T00:00:00.000000000",
          "1994-06-01T00:00:00.000000000",
          "1994-07-01T00:00:00.000000000",
          "1994-08-01T00:00:00.000000000",
          "1994-09-01T00:00:00.000000000",
          "1994-10-01T00:00:00.000000000",
          "1994-11-01T00:00:00.000000000",
          "1994-12-01T00:00:00.000000000",
          "1995-01-01T00:00:00.000000000",
          "1995-02-01T00:00:00.000000000",
          "1995-03-01T00:00:00.000000000",
          "1995-04-01T00:00:00.000000000",
          "1995-05-01T00:00:00.000000000",
          "1995-06-01T00:00:00.000000000",
          "1995-07-01T00:00:00.000000000",
          "1995-08-01T00:00:00.000000000",
          "1995-09-01T00:00:00.000000000",
          "1995-10-01T00:00:00.000000000",
          "1995-11-01T00:00:00.000000000",
          "1995-12-01T00:00:00.000000000",
          "1996-01-01T00:00:00.000000000",
          "1996-02-01T00:00:00.000000000",
          "1996-03-01T00:00:00.000000000",
          "1996-04-01T00:00:00.000000000",
          "1996-05-01T00:00:00.000000000",
          "1996-06-01T00:00:00.000000000",
          "1996-07-01T00:00:00.000000000",
          "1996-08-01T00:00:00.000000000",
          "1996-09-01T00:00:00.000000000",
          "1996-10-01T00:00:00.000000000",
          "1996-11-01T00:00:00.000000000",
          "1996-12-01T00:00:00.000000000",
          "1997-01-01T00:00:00.000000000",
          "1997-02-01T00:00:00.000000000",
          "1997-03-01T00:00:00.000000000",
          "1997-04-01T00:00:00.000000000",
          "1997-05-01T00:00:00.000000000",
          "1997-06-01T00:00:00.000000000",
          "1997-07-01T00:00:00.000000000",
          "1997-08-01T00:00:00.000000000",
          "1997-09-01T00:00:00.000000000",
          "1997-10-01T00:00:00.000000000",
          "1997-11-01T00:00:00.000000000",
          "1997-12-01T00:00:00.000000000",
          "1998-01-01T00:00:00.000000000",
          "1998-02-01T00:00:00.000000000",
          "1998-03-01T00:00:00.000000000",
          "1998-04-01T00:00:00.000000000",
          "1998-05-01T00:00:00.000000000",
          "1998-06-01T00:00:00.000000000",
          "1998-07-01T00:00:00.000000000",
          "1998-08-01T00:00:00.000000000",
          "1998-09-01T00:00:00.000000000",
          "1998-10-01T00:00:00.000000000",
          "1998-11-01T00:00:00.000000000",
          "1998-12-01T00:00:00.000000000",
          "1999-01-01T00:00:00.000000000",
          "1999-02-01T00:00:00.000000000",
          "1999-03-01T00:00:00.000000000",
          "1999-04-01T00:00:00.000000000",
          "1999-05-01T00:00:00.000000000",
          "1999-07-01T00:00:00.000000000",
          "1999-09-01T00:00:00.000000000",
          "1999-10-01T00:00:00.000000000",
          "1999-11-01T00:00:00.000000000"
         ],
         "xaxis": "x",
         "y": {
          "bdata": "AAAAAAAA+H8AAAAAAAD4fwAAAAAAAPh/AAAAAAAA+H8AAAAAAAD4fwAAAAAAAPh/AAAAAAAA+H8AAAAAAAD4fwAAAAAAAPh/AAAAAAAA+H8AAAAAAAD4fwAAAAAAAPh/AAAAAAAA+H8AAAAAAAD4fwAAAAAAAPh/AAAAAAAA+H8AAAAAAAD4fwAAAAAAAPh/AAAAAAAA+H8AAAAAAAD4fwAAAAAAAPh/AAAAAAAA+H8AAAAAAAD4fwAAAAAAAPh/AAAAAAAA+H8AAAAAAAD4fwAAAAAAAPh/AAAAAAAA+H8AAAAAAAD4fwAAAAAAAPh/AAAAAAAA+H8AAAAAAAD4fwAAAAAAAPh/AAAAAAAA+H8AAAAAAAD4f5j6eVORCrM/34lZL4Zysj+afLPNjemxPz81XrpJDLI/mFEst7Qasj8LtaZ5xymyP9Zuu9Bcp7E/Z2FPO/w1sT+14EVfQZqxPyIa3UHsTLE/1ouhnGhXsT8RNjy9UpaxP6QZi6azk7E/w7ZFmQ0ysT8z4Zf6eVOxPxNhw9MrZbE/tf0rK01KsT+NKO0NvjCxP4enV8oyxLE/rW71nPS+sT/pJjEIrByyP1JEhlW8kbE/6glLPKBssj/pQxfUt8yxPyLDKt7IPLI/coqO5PIfsj/S+8bXnlmyP7MHWoEhq7M/2ZQrvMtFtD+3ek563/iyP87Cnnb4a7I/nFCIgEOosj/TTWIQWDm0P6sEi8OZX7U/4q/JGvUQtT+MhLacS3G1P4hLjjulg7U/+b1Nf/YjtT9ZhjjWxW20P3+HokCfyLM/GM+goX+Csz95Xb9gN2yzPwXdXtIYrbM/PGu3XWiusz/TakjcY+mzP6dc4V0u4rM/9BWkGYumsz/ElEiil1G0P/94r1qZ8LM//3ivWpnwsz/mP6Tfvg60P8/3U+Olm7Q//z7jwoGQtD+22y4012m0P5gvL8A+OrU/7yB2ptB5tT882jhiLT61PxLaci7FVbU/CmgibHh6tT8xlBPtKqS0P6s+V1uxv7Q/QlvOpbiqtD93+GuyRj20P+aWVkPiHrM/9l0R/G8lsz8gtYmT+x2yP3/7OnDOiLI/5e0IpwUvsj/nGJC93v2xPw2Jeyx96LI/lkOLbOf7sT+cUIiAQ6iyPzWYhuEjYrI/QX3LnC6LsT+i0R3EzhSyP/qzHykiw7I/j6UPXVDfsj/2XRH8byWzP/ZAKzBkdbM/U9DtJY3Rsj/I7236sx+xPy0mNh/XhrI/SnuDL0ymsj8t7GmHvyazP1kXt9EA3rI/ODKP/MHAsz+jQJ/Ik6SzP7MkQE0tW7M/U1xV9l0RtD8QQGoTJ/ezP5Axdy0hH7Q/PE7RkVz+sz/59xkXDoS0PwrcupunOrQ/tLCnHf6atD8MzXUaaam0PytqMA3DR7Q/S+oENBE2tD+to6oJou6zPwrcupunOrQ/02pI3GPpsz/dzVMdcjO0P+hqK/aX3bM/f2q8dJMYtD/VWwNbJVi0P7H5uDZUjLM/42vPLAlQsz+m7V9ZaVKyP3/Bbti2KLM/eLRxxFp8sj9rmnecoiOxP6DgYkUNprE/r5l8s82NsT8mqrcGtkqwP73GLlG9NbA/XMmOjUC8rj9UAIxn0NCvPzbIJCNnYa8/68VQTrSrsD+c4QZ8fhixP0w3iUFg5bA/C2MLQQ5KsD9g5dAi2/muP5YEqKlla60/ZDvfT42Xrj8Rx7q4jQawP9o4Yi0+BbA/eo1donprsD+WJqWg20uyP3BfB84ZUbI/bEPFOH8Tsj/K4Ch5dY6xP/DErBdDObE/MxtkkpGzsD+b/uxHisiwP7A4nPnVHLA/on+CixU1sD8X8Z2Y9WKwP9KpK5/lebA/kZvhBnx+sD/RkVz+Q/qtP2RA9nr3x6s/",
          "dtype": "f8"
         },
         "yaxis": "y"
        },
        {
         "hovertemplate": "Portfolio=80_20_World<br>Date=%{x}<br>Annualized Return (%)=%{y}<extra></extra>",
         "legendgroup": "80_20_World",
         "line": {
          "color": "#9467BD",
          "dash": "solid",
          "width": 2
         },
         "marker": {
          "symbol": "circle"
         },
         "mode": "lines",
         "name": "80_20_World",
         "orientation": "v",
         "showlegend": true,
         "type": "scatter",
         "x": [
          "1985-01-01T00:00:00.000000000",
          "1985-02-01T00:00:00.000000000",
          "1985-03-01T00:00:00.000000000",
          "1985-04-01T00:00:00.000000000",
          "1985-05-01T00:00:00.000000000",
          "1985-06-01T00:00:00.000000000",
          "1985-07-01T00:00:00.000000000",
          "1985-08-01T00:00:00.000000000",
          "1985-09-01T00:00:00.000000000",
          "1985-10-01T00:00:00.000000000",
          "1985-11-01T00:00:00.000000000",
          "1985-12-01T00:00:00.000000000",
          "1986-01-01T00:00:00.000000000",
          "1986-02-01T00:00:00.000000000",
          "1986-03-01T00:00:00.000000000",
          "1986-04-01T00:00:00.000000000",
          "1986-05-01T00:00:00.000000000",
          "1986-06-01T00:00:00.000000000",
          "1986-07-01T00:00:00.000000000",
          "1986-08-01T00:00:00.000000000",
          "1986-09-01T00:00:00.000000000",
          "1986-10-01T00:00:00.000000000",
          "1986-11-01T00:00:00.000000000",
          "1986-12-01T00:00:00.000000000",
          "1987-01-01T00:00:00.000000000",
          "1987-02-01T00:00:00.000000000",
          "1987-03-01T00:00:00.000000000",
          "1987-04-01T00:00:00.000000000",
          "1987-05-01T00:00:00.000000000",
          "1987-06-01T00:00:00.000000000",
          "1987-07-01T00:00:00.000000000",
          "1987-08-01T00:00:00.000000000",
          "1987-09-01T00:00:00.000000000",
          "1987-10-01T00:00:00.000000000",
          "1987-11-01T00:00:00.000000000",
          "1987-12-01T00:00:00.000000000",
          "1988-01-01T00:00:00.000000000",
          "1988-02-01T00:00:00.000000000",
          "1988-03-01T00:00:00.000000000",
          "1988-04-01T00:00:00.000000000",
          "1988-05-01T00:00:00.000000000",
          "1988-06-01T00:00:00.000000000",
          "1988-07-01T00:00:00.000000000",
          "1988-08-01T00:00:00.000000000",
          "1988-09-01T00:00:00.000000000",
          "1988-10-01T00:00:00.000000000",
          "1988-11-01T00:00:00.000000000",
          "1988-12-01T00:00:00.000000000",
          "1989-01-01T00:00:00.000000000",
          "1989-02-01T00:00:00.000000000",
          "1989-03-01T00:00:00.000000000",
          "1989-04-01T00:00:00.000000000",
          "1989-05-01T00:00:00.000000000",
          "1989-06-01T00:00:00.000000000",
          "1989-07-01T00:00:00.000000000",
          "1989-08-01T00:00:00.000000000",
          "1989-09-01T00:00:00.000000000",
          "1989-10-01T00:00:00.000000000",
          "1989-11-01T00:00:00.000000000",
          "1989-12-01T00:00:00.000000000",
          "1990-01-01T00:00:00.000000000",
          "1990-02-01T00:00:00.000000000",
          "1990-03-01T00:00:00.000000000",
          "1990-04-01T00:00:00.000000000",
          "1990-05-01T00:00:00.000000000",
          "1990-06-01T00:00:00.000000000",
          "1990-07-01T00:00:00.000000000",
          "1990-08-01T00:00:00.000000000",
          "1990-09-01T00:00:00.000000000",
          "1990-10-01T00:00:00.000000000",
          "1990-11-01T00:00:00.000000000",
          "1990-12-01T00:00:00.000000000",
          "1991-01-01T00:00:00.000000000",
          "1991-02-01T00:00:00.000000000",
          "1991-03-01T00:00:00.000000000",
          "1991-04-01T00:00:00.000000000",
          "1991-05-01T00:00:00.000000000",
          "1991-06-01T00:00:00.000000000",
          "1991-07-01T00:00:00.000000000",
          "1991-08-01T00:00:00.000000000",
          "1991-09-01T00:00:00.000000000",
          "1991-10-01T00:00:00.000000000",
          "1991-11-01T00:00:00.000000000",
          "1991-12-01T00:00:00.000000000",
          "1992-01-01T00:00:00.000000000",
          "1992-02-01T00:00:00.000000000",
          "1992-03-01T00:00:00.000000000",
          "1992-04-01T00:00:00.000000000",
          "1992-05-01T00:00:00.000000000",
          "1992-06-01T00:00:00.000000000",
          "1992-07-01T00:00:00.000000000",
          "1992-08-01T00:00:00.000000000",
          "1992-09-01T00:00:00.000000000",
          "1992-10-01T00:00:00.000000000",
          "1992-11-01T00:00:00.000000000",
          "1992-12-01T00:00:00.000000000",
          "1993-01-01T00:00:00.000000000",
          "1993-02-01T00:00:00.000000000",
          "1993-03-01T00:00:00.000000000",
          "1993-04-01T00:00:00.000000000",
          "1993-05-01T00:00:00.000000000",
          "1993-06-01T00:00:00.000000000",
          "1993-07-01T00:00:00.000000000",
          "1993-08-01T00:00:00.000000000",
          "1993-09-01T00:00:00.000000000",
          "1993-10-01T00:00:00.000000000",
          "1993-11-01T00:00:00.000000000",
          "1993-12-01T00:00:00.000000000",
          "1994-01-01T00:00:00.000000000",
          "1994-02-01T00:00:00.000000000",
          "1994-03-01T00:00:00.000000000",
          "1994-04-01T00:00:00.000000000",
          "1994-05-01T00:00:00.000000000",
          "1994-06-01T00:00:00.000000000",
          "1994-07-01T00:00:00.000000000",
          "1994-08-01T00:00:00.000000000",
          "1994-09-01T00:00:00.000000000",
          "1994-10-01T00:00:00.000000000",
          "1994-11-01T00:00:00.000000000",
          "1994-12-01T00:00:00.000000000",
          "1995-01-01T00:00:00.000000000",
          "1995-02-01T00:00:00.000000000",
          "1995-03-01T00:00:00.000000000",
          "1995-04-01T00:00:00.000000000",
          "1995-05-01T00:00:00.000000000",
          "1995-06-01T00:00:00.000000000",
          "1995-07-01T00:00:00.000000000",
          "1995-08-01T00:00:00.000000000",
          "1995-09-01T00:00:00.000000000",
          "1995-10-01T00:00:00.000000000",
          "1995-11-01T00:00:00.000000000",
          "1995-12-01T00:00:00.000000000",
          "1996-01-01T00:00:00.000000000",
          "1996-02-01T00:00:00.000000000",
          "1996-03-01T00:00:00.000000000",
          "1996-04-01T00:00:00.000000000",
          "1996-05-01T00:00:00.000000000",
          "1996-06-01T00:00:00.000000000",
          "1996-07-01T00:00:00.000000000",
          "1996-08-01T00:00:00.000000000",
          "1996-09-01T00:00:00.000000000",
          "1996-10-01T00:00:00.000000000",
          "1996-11-01T00:00:00.000000000",
          "1996-12-01T00:00:00.000000000",
          "1997-01-01T00:00:00.000000000",
          "1997-02-01T00:00:00.000000000",
          "1997-03-01T00:00:00.000000000",
          "1997-04-01T00:00:00.000000000",
          "1997-05-01T00:00:00.000000000",
          "1997-06-01T00:00:00.000000000",
          "1997-07-01T00:00:00.000000000",
          "1997-08-01T00:00:00.000000000",
          "1997-09-01T00:00:00.000000000",
          "1997-10-01T00:00:00.000000000",
          "1997-11-01T00:00:00.000000000",
          "1997-12-01T00:00:00.000000000",
          "1998-01-01T00:00:00.000000000",
          "1998-02-01T00:00:00.000000000",
          "1998-03-01T00:00:00.000000000",
          "1998-04-01T00:00:00.000000000",
          "1998-05-01T00:00:00.000000000",
          "1998-06-01T00:00:00.000000000",
          "1998-07-01T00:00:00.000000000",
          "1998-08-01T00:00:00.000000000",
          "1998-09-01T00:00:00.000000000",
          "1998-10-01T00:00:00.000000000",
          "1998-11-01T00:00:00.000000000",
          "1998-12-01T00:00:00.000000000",
          "1999-01-01T00:00:00.000000000",
          "1999-02-01T00:00:00.000000000",
          "1999-03-01T00:00:00.000000000",
          "1999-04-01T00:00:00.000000000",
          "1999-05-01T00:00:00.000000000",
          "1999-07-01T00:00:00.000000000",
          "1999-09-01T00:00:00.000000000",
          "1999-10-01T00:00:00.000000000",
          "1999-11-01T00:00:00.000000000"
         ],
         "xaxis": "x",
         "y": {
          "bdata": "eo1donprsD/FOH8TChGwP6SqCaLuA7A/KH6MuWsJsT8qqRPQRNiwP0op6PaSxrA/hbacS3FVsT/ONjemJyyxP+/hkuNO6bA/jSjtDb4wsT+PcFrwoq+wP/63kh0bgbA/bTmX4qqyrz9HyatzDMiuP8Xm49pQMa4/662BrRIsrj8Zc9cS8kGvP0esxacAGK8/ZcdGIF7Xrz+bj2tDxTivP7A4nPnVHLA/O6qaIOo+sD/xRuaRPxiwPwk4hCo1e7A/6/8c5ssLsD8Nq3gj88ivPzLmriXkg64/mwMEc/T4rT+8kXnkDwauP4o8Sbpm8q0/3h/vVSsTrj8MWd3qOemtPyECDqFKza4/Hv6arFEPsT/27o/3qpWxP7O1vkhoy7E/MdP2r6w0sT+Z8Ev9vKmwPyRiSiTRy7A/qIx/n3HhsD9I/mDgufewP/63kh0bgbA/Tpzc71AUsD85fxMKEXCwPy4cCMkCJrA/7Q2+MJkqsD9Of/YjRWSwP37GhQMhWbA/qOMxA5Xxrz+A8Qwa+iewP0UqjC0EObA/0sYRa/EpsD9DHOviNhqwPzdUjPM3obA/Ups4ud+hsD90DMhe7/6wPwLxun7BbrA/xsTm49pQsT8zG2SSkbOwPwsMWd3qObE/vW987ZklsT8e4bTgRV+xP9Pe4AuTqbI/kpbK2xFOsz/430p2bASyPyDvVSsTfrE/JAuYwK27sT9qwYu+gjSzPwzqW+Z0WbQ/ieqtga0StD/36XjMQGW0P7wi+N9KdrQ/bqMBvAUStD9Xz0nvG1+zPw+0AkNWt7I/bjSAt0CCsj/60AX1LXOyP1tCPujZrLI/rRdDOdGusj+gbMoV3uWyP9CzWfW52rI/Hm0csRafsj8v+grSjEWzP6vsuyL437I/4XoUrkfhsj+Y+nlTkQqzP7hAguLHmLM/cOtunuqQsz+ppE5AE2GzP8a/z7hwILQ/boYb8PlhtD/9TShEwCG0P3f4a7JGPbQ/GHjuPVxytD8rpPyk2qezP2RA9nr3x7M/yhXe5SK+sz9szywJUFOzPwd8fhghPLI/SIrIsIo3sj/YtiizQSaxP+Un1T4dj7E/k2+2uTE9sT+mYfiImBKxP4vDmV/NAbI/yO9t+rMfsT9nJ4Oj5NWxP/w1WaMeorE/2NMOf03WsD96Nqs+V1uxPwNgPIOG/rE/YcPTK2UZsj/S+8bXnlmyP//sR4rIsLI/PzVeukkMsj/B4nDmV3OwP1InoImw4bE/+N9KdmwEsj9MpgpGJXWyP/4mFCLgELI/OZfiqrLvsj9MiSR6GcWyP/SJPEm6ZrI/Lexph78msz8r3sg88gezP4lBYOXQIrM/hzO/mgMEsz+c+dUcIJizPzVB1H0AUrM/mMCtu3mqsz8x68VQTrSzP1OWIY51cbM/C0EOSphpsz+UwVHy6hyzP27dzVMdcrM/tU/HYwYqsz+a6zTSUnmzP10z+WabG7M/NUHUfQBSsz/kTulg/Z+zP4MXfQVpxrI/HF97ZkmAsj8qb0c4LXixP/SJPEm6ZrI/t+7mqQ65sT8dOGdEaW+wP18M5US7CrE/BOJ1/YLdsD9Yc4Bgjh6vP706x4Ds9a4/0csolltarT+XrfVFQluuP/dY+tAF9a0//OO9amXCrz9cOBCSBUywPxcOhGQBE7A/m6xRD9Horj95r1qZ8EutP2RA9nr3x6s/aAWGrG71rD8IA8+9h0uuPwgDz72HS64/61bPSe8brz+FtpxLcVWxP04oRMAhVLE/GcVyS6shsT9cGyrG+ZuwP0xxVdl3RbA/euQPBp57rz8/HY8ZqIyvP5et9UVCW64/+zpwzojSrj9HrMWnABivP7SrkPKTaq8/EQGHUKVmrz99PzVeukmsP0JD/wQXK6o/",
          "dtype": "f8"
         },
         "yaxis": "y"
        }
       ],
       "layout": {
        "font": {
         "color": "black"
        },
        "height": 800,
        "legend": {
         "font": {
          "size": 22
         },
         "orientation": "h",
         "title": {
          "text": "Portfolio"
         },
         "tracegroupgap": 0,
         "x": 0.5,
         "xanchor": "center",
         "y": 1.05,
         "yanchor": "bottom"
        },
        "template": {
         "data": {
          "bar": [
           {
            "error_x": {
             "color": "rgb(36,36,36)"
            },
            "error_y": {
             "color": "rgb(36,36,36)"
            },
            "marker": {
             "line": {
              "color": "white",
              "width": 0.5
             },
             "pattern": {
              "fillmode": "overlay",
              "size": 10,
              "solidity": 0.2
             }
            },
            "type": "bar"
           }
          ],
          "barpolar": [
           {
            "marker": {
             "line": {
              "color": "white",
              "width": 0.5
             },
             "pattern": {
              "fillmode": "overlay",
              "size": 10,
              "solidity": 0.2
             }
            },
            "type": "barpolar"
           }
          ],
          "carpet": [
           {
            "aaxis": {
             "endlinecolor": "rgb(36,36,36)",
             "gridcolor": "white",
             "linecolor": "white",
             "minorgridcolor": "white",
             "startlinecolor": "rgb(36,36,36)"
            },
            "baxis": {
             "endlinecolor": "rgb(36,36,36)",
             "gridcolor": "white",
             "linecolor": "white",
             "minorgridcolor": "white",
             "startlinecolor": "rgb(36,36,36)"
            },
            "type": "carpet"
           }
          ],
          "choropleth": [
           {
            "colorbar": {
             "outlinewidth": 1,
             "tickcolor": "rgb(36,36,36)",
             "ticks": "outside"
            },
            "type": "choropleth"
           }
          ],
          "contour": [
           {
            "colorbar": {
             "outlinewidth": 1,
             "tickcolor": "rgb(36,36,36)",
             "ticks": "outside"
            },
            "colorscale": [
             [
              0,
              "#440154"
             ],
             [
              0.1111111111111111,
              "#482878"
             ],
             [
              0.2222222222222222,
              "#3e4989"
             ],
             [
              0.3333333333333333,
              "#31688e"
             ],
             [
              0.4444444444444444,
              "#26828e"
             ],
             [
              0.5555555555555556,
              "#1f9e89"
             ],
             [
              0.6666666666666666,
              "#35b779"
             ],
             [
              0.7777777777777778,
              "#6ece58"
             ],
             [
              0.8888888888888888,
              "#b5de2b"
             ],
             [
              1,
              "#fde725"
             ]
            ],
            "type": "contour"
           }
          ],
          "contourcarpet": [
           {
            "colorbar": {
             "outlinewidth": 1,
             "tickcolor": "rgb(36,36,36)",
             "ticks": "outside"
            },
            "type": "contourcarpet"
           }
          ],
          "heatmap": [
           {
            "colorbar": {
             "outlinewidth": 1,
             "tickcolor": "rgb(36,36,36)",
             "ticks": "outside"
            },
            "colorscale": [
             [
              0,
              "#440154"
             ],
             [
              0.1111111111111111,
              "#482878"
             ],
             [
              0.2222222222222222,
              "#3e4989"
             ],
             [
              0.3333333333333333,
              "#31688e"
             ],
             [
              0.4444444444444444,
              "#26828e"
             ],
             [
              0.5555555555555556,
              "#1f9e89"
             ],
             [
              0.6666666666666666,
              "#35b779"
             ],
             [
              0.7777777777777778,
              "#6ece58"
             ],
             [
              0.8888888888888888,
              "#b5de2b"
             ],
             [
              1,
              "#fde725"
             ]
            ],
            "type": "heatmap"
           }
          ],
          "histogram": [
           {
            "marker": {
             "line": {
              "color": "white",
              "width": 0.6
             }
            },
            "type": "histogram"
           }
          ],
          "histogram2d": [
           {
            "colorbar": {
             "outlinewidth": 1,
             "tickcolor": "rgb(36,36,36)",
             "ticks": "outside"
            },
            "colorscale": [
             [
              0,
              "#440154"
             ],
             [
              0.1111111111111111,
              "#482878"
             ],
             [
              0.2222222222222222,
              "#3e4989"
             ],
             [
              0.3333333333333333,
              "#31688e"
             ],
             [
              0.4444444444444444,
              "#26828e"
             ],
             [
              0.5555555555555556,
              "#1f9e89"
             ],
             [
              0.6666666666666666,
              "#35b779"
             ],
             [
              0.7777777777777778,
              "#6ece58"
             ],
             [
              0.8888888888888888,
              "#b5de2b"
             ],
             [
              1,
              "#fde725"
             ]
            ],
            "type": "histogram2d"
           }
          ],
          "histogram2dcontour": [
           {
            "colorbar": {
             "outlinewidth": 1,
             "tickcolor": "rgb(36,36,36)",
             "ticks": "outside"
            },
            "colorscale": [
             [
              0,
              "#440154"
             ],
             [
              0.1111111111111111,
              "#482878"
             ],
             [
              0.2222222222222222,
              "#3e4989"
             ],
             [
              0.3333333333333333,
              "#31688e"
             ],
             [
              0.4444444444444444,
              "#26828e"
             ],
             [
              0.5555555555555556,
              "#1f9e89"
             ],
             [
              0.6666666666666666,
              "#35b779"
             ],
             [
              0.7777777777777778,
              "#6ece58"
             ],
             [
              0.8888888888888888,
              "#b5de2b"
             ],
             [
              1,
              "#fde725"
             ]
            ],
            "type": "histogram2dcontour"
           }
          ],
          "mesh3d": [
           {
            "colorbar": {
             "outlinewidth": 1,
             "tickcolor": "rgb(36,36,36)",
             "ticks": "outside"
            },
            "type": "mesh3d"
           }
          ],
          "parcoords": [
           {
            "line": {
             "colorbar": {
              "outlinewidth": 1,
              "tickcolor": "rgb(36,36,36)",
              "ticks": "outside"
             }
            },
            "type": "parcoords"
           }
          ],
          "pie": [
           {
            "automargin": true,
            "type": "pie"
           }
          ],
          "scatter": [
           {
            "fillpattern": {
             "fillmode": "overlay",
             "size": 10,
             "solidity": 0.2
            },
            "type": "scatter"
           }
          ],
          "scatter3d": [
           {
            "line": {
             "colorbar": {
              "outlinewidth": 1,
              "tickcolor": "rgb(36,36,36)",
              "ticks": "outside"
             }
            },
            "marker": {
             "colorbar": {
              "outlinewidth": 1,
              "tickcolor": "rgb(36,36,36)",
              "ticks": "outside"
             }
            },
            "type": "scatter3d"
           }
          ],
          "scattercarpet": [
           {
            "marker": {
             "colorbar": {
              "outlinewidth": 1,
              "tickcolor": "rgb(36,36,36)",
              "ticks": "outside"
             }
            },
            "type": "scattercarpet"
           }
          ],
          "scattergeo": [
           {
            "marker": {
             "colorbar": {
              "outlinewidth": 1,
              "tickcolor": "rgb(36,36,36)",
              "ticks": "outside"
             }
            },
            "type": "scattergeo"
           }
          ],
          "scattergl": [
           {
            "marker": {
             "colorbar": {
              "outlinewidth": 1,
              "tickcolor": "rgb(36,36,36)",
              "ticks": "outside"
             }
            },
            "type": "scattergl"
           }
          ],
          "scattermap": [
           {
            "marker": {
             "colorbar": {
              "outlinewidth": 1,
              "tickcolor": "rgb(36,36,36)",
              "ticks": "outside"
             }
            },
            "type": "scattermap"
           }
          ],
          "scattermapbox": [
           {
            "marker": {
             "colorbar": {
              "outlinewidth": 1,
              "tickcolor": "rgb(36,36,36)",
              "ticks": "outside"
             }
            },
            "type": "scattermapbox"
           }
          ],
          "scatterpolar": [
           {
            "marker": {
             "colorbar": {
              "outlinewidth": 1,
              "tickcolor": "rgb(36,36,36)",
              "ticks": "outside"
             }
            },
            "type": "scatterpolar"
           }
          ],
          "scatterpolargl": [
           {
            "marker": {
             "colorbar": {
              "outlinewidth": 1,
              "tickcolor": "rgb(36,36,36)",
              "ticks": "outside"
             }
            },
            "type": "scatterpolargl"
           }
          ],
          "scatterternary": [
           {
            "marker": {
             "colorbar": {
              "outlinewidth": 1,
              "tickcolor": "rgb(36,36,36)",
              "ticks": "outside"
             }
            },
            "type": "scatterternary"
           }
          ],
          "surface": [
           {
            "colorbar": {
             "outlinewidth": 1,
             "tickcolor": "rgb(36,36,36)",
             "ticks": "outside"
            },
            "colorscale": [
             [
              0,
              "#440154"
             ],
             [
              0.1111111111111111,
              "#482878"
             ],
             [
              0.2222222222222222,
              "#3e4989"
             ],
             [
              0.3333333333333333,
              "#31688e"
             ],
             [
              0.4444444444444444,
              "#26828e"
             ],
             [
              0.5555555555555556,
              "#1f9e89"
             ],
             [
              0.6666666666666666,
              "#35b779"
             ],
             [
              0.7777777777777778,
              "#6ece58"
             ],
             [
              0.8888888888888888,
              "#b5de2b"
             ],
             [
              1,
              "#fde725"
             ]
            ],
            "type": "surface"
           }
          ],
          "table": [
           {
            "cells": {
             "fill": {
              "color": "rgb(237,237,237)"
             },
             "line": {
              "color": "white"
             }
            },
            "header": {
             "fill": {
              "color": "rgb(217,217,217)"
             },
             "line": {
              "color": "white"
             }
            },
            "type": "table"
           }
          ]
         },
         "layout": {
          "annotationdefaults": {
           "arrowhead": 0,
           "arrowwidth": 1
          },
          "autotypenumbers": "strict",
          "coloraxis": {
           "colorbar": {
            "outlinewidth": 1,
            "tickcolor": "rgb(36,36,36)",
            "ticks": "outside"
           }
          },
          "colorscale": {
           "diverging": [
            [
             0,
             "rgb(103,0,31)"
            ],
            [
             0.1,
             "rgb(178,24,43)"
            ],
            [
             0.2,
             "rgb(214,96,77)"
            ],
            [
             0.3,
             "rgb(244,165,130)"
            ],
            [
             0.4,
             "rgb(253,219,199)"
            ],
            [
             0.5,
             "rgb(247,247,247)"
            ],
            [
             0.6,
             "rgb(209,229,240)"
            ],
            [
             0.7,
             "rgb(146,197,222)"
            ],
            [
             0.8,
             "rgb(67,147,195)"
            ],
            [
             0.9,
             "rgb(33,102,172)"
            ],
            [
             1,
             "rgb(5,48,97)"
            ]
           ],
           "sequential": [
            [
             0,
             "#440154"
            ],
            [
             0.1111111111111111,
             "#482878"
            ],
            [
             0.2222222222222222,
             "#3e4989"
            ],
            [
             0.3333333333333333,
             "#31688e"
            ],
            [
             0.4444444444444444,
             "#26828e"
            ],
            [
             0.5555555555555556,
             "#1f9e89"
            ],
            [
             0.6666666666666666,
             "#35b779"
            ],
            [
             0.7777777777777778,
             "#6ece58"
            ],
            [
             0.8888888888888888,
             "#b5de2b"
            ],
            [
             1,
             "#fde725"
            ]
           ],
           "sequentialminus": [
            [
             0,
             "#440154"
            ],
            [
             0.1111111111111111,
             "#482878"
            ],
            [
             0.2222222222222222,
             "#3e4989"
            ],
            [
             0.3333333333333333,
             "#31688e"
            ],
            [
             0.4444444444444444,
             "#26828e"
            ],
            [
             0.5555555555555556,
             "#1f9e89"
            ],
            [
             0.6666666666666666,
             "#35b779"
            ],
            [
             0.7777777777777778,
             "#6ece58"
            ],
            [
             0.8888888888888888,
             "#b5de2b"
            ],
            [
             1,
             "#fde725"
            ]
           ]
          },
          "colorway": [
           "#1F77B4",
           "#FF7F0E",
           "#2CA02C",
           "#D62728",
           "#9467BD",
           "#8C564B",
           "#E377C2",
           "#7F7F7F",
           "#BCBD22",
           "#17BECF"
          ],
          "font": {
           "color": "rgb(36,36,36)"
          },
          "geo": {
           "bgcolor": "white",
           "lakecolor": "white",
           "landcolor": "white",
           "showlakes": true,
           "showland": true,
           "subunitcolor": "white"
          },
          "hoverlabel": {
           "align": "left"
          },
          "hovermode": "closest",
          "mapbox": {
           "style": "light"
          },
          "paper_bgcolor": "white",
          "plot_bgcolor": "white",
          "polar": {
           "angularaxis": {
            "gridcolor": "rgb(232,232,232)",
            "linecolor": "rgb(36,36,36)",
            "showgrid": false,
            "showline": true,
            "ticks": "outside"
           },
           "bgcolor": "white",
           "radialaxis": {
            "gridcolor": "rgb(232,232,232)",
            "linecolor": "rgb(36,36,36)",
            "showgrid": false,
            "showline": true,
            "ticks": "outside"
           }
          },
          "scene": {
           "xaxis": {
            "backgroundcolor": "white",
            "gridcolor": "rgb(232,232,232)",
            "gridwidth": 2,
            "linecolor": "rgb(36,36,36)",
            "showbackground": true,
            "showgrid": false,
            "showline": true,
            "ticks": "outside",
            "zeroline": false,
            "zerolinecolor": "rgb(36,36,36)"
           },
           "yaxis": {
            "backgroundcolor": "white",
            "gridcolor": "rgb(232,232,232)",
            "gridwidth": 2,
            "linecolor": "rgb(36,36,36)",
            "showbackground": true,
            "showgrid": false,
            "showline": true,
            "ticks": "outside",
            "zeroline": false,
            "zerolinecolor": "rgb(36,36,36)"
           },
           "zaxis": {
            "backgroundcolor": "white",
            "gridcolor": "rgb(232,232,232)",
            "gridwidth": 2,
            "linecolor": "rgb(36,36,36)",
            "showbackground": true,
            "showgrid": false,
            "showline": true,
            "ticks": "outside",
            "zeroline": false,
            "zerolinecolor": "rgb(36,36,36)"
           }
          },
          "shapedefaults": {
           "fillcolor": "black",
           "line": {
            "width": 0
           },
           "opacity": 0.3
          },
          "ternary": {
           "aaxis": {
            "gridcolor": "rgb(232,232,232)",
            "linecolor": "rgb(36,36,36)",
            "showgrid": false,
            "showline": true,
            "ticks": "outside"
           },
           "baxis": {
            "gridcolor": "rgb(232,232,232)",
            "linecolor": "rgb(36,36,36)",
            "showgrid": false,
            "showline": true,
            "ticks": "outside"
           },
           "bgcolor": "white",
           "caxis": {
            "gridcolor": "rgb(232,232,232)",
            "linecolor": "rgb(36,36,36)",
            "showgrid": false,
            "showline": true,
            "ticks": "outside"
           }
          },
          "title": {
           "x": 0.05
          },
          "xaxis": {
           "automargin": true,
           "gridcolor": "rgb(232,232,232)",
           "linecolor": "rgb(36,36,36)",
           "showgrid": false,
           "showline": true,
           "ticks": "outside",
           "title": {
            "standoff": 15
           },
           "zeroline": false,
           "zerolinecolor": "rgb(36,36,36)"
          },
          "yaxis": {
           "automargin": true,
           "gridcolor": "rgb(232,232,232)",
           "linecolor": "rgb(36,36,36)",
           "showgrid": false,
           "showline": true,
           "ticks": "outside",
           "title": {
            "standoff": 15
           },
           "zeroline": false,
           "zerolinecolor": "rgb(36,36,36)"
          }
         }
        },
        "title": {
         "font": {
          "family": "Arial",
          "size": 25
         },
         "text": " "
        },
        "width": 1200,
        "xaxis": {
         "anchor": "y",
         "domain": [
          0,
          1
         ],
         "gridcolor": "lightgray",
         "gridwidth": 1,
         "linecolor": "black",
         "linewidth": 2,
         "showgrid": true,
         "tickfont": {
          "color": "black",
          "size": 16
         },
         "tickformat": "%Y",
         "title": {
          "font": {
           "color": "black",
           "family": "Arial",
           "size": 22
          },
          "text": "Date"
         }
        },
        "yaxis": {
         "anchor": "x",
         "domain": [
          0,
          1
         ],
         "gridcolor": "lightgray",
         "gridwidth": 1,
         "linecolor": "black",
         "linewidth": 2,
         "showgrid": true,
         "tickfont": {
          "color": "black",
          "size": 16
         },
         "tickformat": ".1%",
         "title": {
          "font": {
           "color": "black",
           "family": "Arial",
           "size": 22
          },
          "text": "Annualized Return (%)"
         }
        }
       }
      }
     },
     "metadata": {},
     "output_type": "display_data"
    }
   ],
   "source": [
    "from src.plots.basics_streamlit import *\n",
    "\n",
    "plot_annualized_returns_streamlit(final_results)"
   ]
  },
  {
   "cell_type": "code",
   "execution_count": null,
   "metadata": {},
   "outputs": [],
   "source": []
  },
  {
   "cell_type": "code",
   "execution_count": 4,
   "metadata": {},
   "outputs": [
    {
     "name": "stdout",
     "output_type": "stream",
     "text": [
      "['/home/cavallo/Finance4All/data/indexes/MSCI_Europe_Small_Cap_Value_Weighted.csv', '/home/cavallo/Finance4All/data/indexes/Historical_data_updated.csv', '/home/cavallo/Finance4All/data/indexes/MSCI_Europe.csv', '/home/cavallo/Finance4All/data/indexes/MSCI_World_Momentum.csv', '/home/cavallo/Finance4All/data/indexes/MSCI_ACWI.csv', '/home/cavallo/Finance4All/data/indexes/MSCI_World.csv', '/home/cavallo/Finance4All/data/indexes/S&P_500_Minimum_Volatility.csv', '/home/cavallo/Finance4All/data/indexes/MSCI_Emerging_Markets.csv', '/home/cavallo/Finance4All/data/indexes/FTSE_World_Government_Bond_Developed_Markets.csv', '/home/cavallo/Finance4All/data/indexes/S&P_500.csv', '/home/cavallo/Finance4All/data/indexes/MSCI_USA_Small_Cap_Value_Weighted.csv']\n",
      "['/home/cavallo/Finance4All/data/indexes/MSCI_Europe_Small_Cap_Value_Weighted.csv', '/home/cavallo/Finance4All/data/indexes/Historical_data_updated.csv', '/home/cavallo/Finance4All/data/indexes/MSCI_Europe.csv', '/home/cavallo/Finance4All/data/indexes/MSCI_World_Momentum.csv', '/home/cavallo/Finance4All/data/indexes/MSCI_ACWI.csv', '/home/cavallo/Finance4All/data/indexes/MSCI_World.csv', '/home/cavallo/Finance4All/data/indexes/S&P_500_Minimum_Volatility.csv', '/home/cavallo/Finance4All/data/indexes/MSCI_Emerging_Markets.csv', '/home/cavallo/Finance4All/data/indexes/FTSE_World_Government_Bond_Developed_Markets.csv', '/home/cavallo/Finance4All/data/indexes/S&P_500.csv', '/home/cavallo/Finance4All/data/indexes/MSCI_USA_Small_Cap_Value_Weighted.csv']\n",
      "['/home/cavallo/Finance4All/data/indexes/MSCI_Europe_Small_Cap_Value_Weighted.csv', '/home/cavallo/Finance4All/data/indexes/Historical_data_updated.csv', '/home/cavallo/Finance4All/data/indexes/MSCI_Europe.csv', '/home/cavallo/Finance4All/data/indexes/MSCI_World_Momentum.csv', '/home/cavallo/Finance4All/data/indexes/MSCI_ACWI.csv', '/home/cavallo/Finance4All/data/indexes/MSCI_World.csv', '/home/cavallo/Finance4All/data/indexes/S&P_500_Minimum_Volatility.csv', '/home/cavallo/Finance4All/data/indexes/MSCI_Emerging_Markets.csv', '/home/cavallo/Finance4All/data/indexes/FTSE_World_Government_Bond_Developed_Markets.csv', '/home/cavallo/Finance4All/data/indexes/S&P_500.csv', '/home/cavallo/Finance4All/data/indexes/MSCI_USA_Small_Cap_Value_Weighted.csv']\n",
      "['/home/cavallo/Finance4All/data/indexes/MSCI_Europe_Small_Cap_Value_Weighted.csv', '/home/cavallo/Finance4All/data/indexes/Historical_data_updated.csv', '/home/cavallo/Finance4All/data/indexes/MSCI_Europe.csv', '/home/cavallo/Finance4All/data/indexes/MSCI_World_Momentum.csv', '/home/cavallo/Finance4All/data/indexes/MSCI_ACWI.csv', '/home/cavallo/Finance4All/data/indexes/MSCI_World.csv', '/home/cavallo/Finance4All/data/indexes/S&P_500_Minimum_Volatility.csv', '/home/cavallo/Finance4All/data/indexes/MSCI_Emerging_Markets.csv', '/home/cavallo/Finance4All/data/indexes/FTSE_World_Government_Bond_Developed_Markets.csv', '/home/cavallo/Finance4All/data/indexes/S&P_500.csv', '/home/cavallo/Finance4All/data/indexes/MSCI_USA_Small_Cap_Value_Weighted.csv']\n",
      "['/home/cavallo/Finance4All/data/indexes/MSCI_Europe_Small_Cap_Value_Weighted.csv', '/home/cavallo/Finance4All/data/indexes/Historical_data_updated.csv', '/home/cavallo/Finance4All/data/indexes/MSCI_Europe.csv', '/home/cavallo/Finance4All/data/indexes/MSCI_World_Momentum.csv', '/home/cavallo/Finance4All/data/indexes/MSCI_ACWI.csv', '/home/cavallo/Finance4All/data/indexes/MSCI_World.csv', '/home/cavallo/Finance4All/data/indexes/S&P_500_Minimum_Volatility.csv', '/home/cavallo/Finance4All/data/indexes/MSCI_Emerging_Markets.csv', '/home/cavallo/Finance4All/data/indexes/FTSE_World_Government_Bond_Developed_Markets.csv', '/home/cavallo/Finance4All/data/indexes/S&P_500.csv', '/home/cavallo/Finance4All/data/indexes/MSCI_USA_Small_Cap_Value_Weighted.csv']\n",
      "['/home/cavallo/Finance4All/data/indexes/MSCI_Europe_Small_Cap_Value_Weighted.csv', '/home/cavallo/Finance4All/data/indexes/Historical_data_updated.csv', '/home/cavallo/Finance4All/data/indexes/MSCI_Europe.csv', '/home/cavallo/Finance4All/data/indexes/MSCI_World_Momentum.csv', '/home/cavallo/Finance4All/data/indexes/MSCI_ACWI.csv', '/home/cavallo/Finance4All/data/indexes/MSCI_World.csv', '/home/cavallo/Finance4All/data/indexes/S&P_500_Minimum_Volatility.csv', '/home/cavallo/Finance4All/data/indexes/MSCI_Emerging_Markets.csv', '/home/cavallo/Finance4All/data/indexes/FTSE_World_Government_Bond_Developed_Markets.csv', '/home/cavallo/Finance4All/data/indexes/S&P_500.csv', '/home/cavallo/Finance4All/data/indexes/MSCI_USA_Small_Cap_Value_Weighted.csv']\n"
     ]
    },
    {
     "data": {
      "image/png": "[encoded data removed]",
      "text/plain": [
       "<Figure size 1400x700 with 1 Axes>"
      ]
     },
     "metadata": {},
     "output_type": "display_data"
    },
    {
     "data": {
      "image/png": "[encoded data removed]",
      "text/plain": [
       "<Figure size 1400x700 with 1 Axes>"
      ]
     },
     "metadata": {},
     "output_type": "display_data"
    }
   ],
   "source": [
    "portfolios = ['100_2factors',\n",
    "              '80_20_2factors',\n",
    "              '80_20_1factor',\n",
    "              '80_20_ACWI',\n",
    "              '80_20_World']\n",
    "\n",
    "portfolios = [ 'lifestrategy40',\n",
    "               'lifestrategy20',\n",
    "               'lifestrategy0']\n",
    "\n",
    "for years in [5]:\n",
    "    final_results = None \n",
    "    for portfolio_name in portfolios:\n",
    "\n",
    "        portfolio = load_portfolio(portfolio_name)\n",
    "        data, weights = prune_data_portfolio(portfolio)\n",
    "\n",
    "        # Compute the returns\n",
    "        results = compute_portfolio_returns_combined(*prune_data_portfolio(portfolio), years=years)\n",
    "        results = results.rename(columns={results.columns[-1]: portfolio_name})\n",
    "        results[portfolio_name] = results[portfolio_name].round(5)\n",
    "\n",
    "        final_results = merge_results(final_results, results)\n",
    "    \n",
    "    plot_annualized_returns(final_results, years=years)\n",
    "    plot_returns_histogram(final_results, years=years)"
   ]
  },
  {
   "cell_type": "code",
   "execution_count": null,
   "metadata": {},
   "outputs": [],
   "source": []
  },
  {
   "cell_type": "code",
   "execution_count": null,
   "metadata": {},
   "outputs": [],
   "source": []
  },
  {
   "cell_type": "code",
   "execution_count": null,
   "metadata": {},
   "outputs": [],
   "source": []
  },
  {
   "cell_type": "code",
   "execution_count": null,
   "metadata": {},
   "outputs": [],
   "source": []
  },
  {
   "cell_type": "code",
   "execution_count": null,
   "metadata": {},
   "outputs": [],
   "source": []
  },
  {
   "cell_type": "code",
   "execution_count": null,
   "metadata": {},
   "outputs": [],
   "source": []
  },
  {
   "cell_type": "code",
   "execution_count": null,
   "metadata": {},
   "outputs": [],
   "source": []
  },
  {
   "cell_type": "code",
   "execution_count": null,
   "metadata": {},
   "outputs": [],
   "source": []
  },
  {
   "cell_type": "code",
   "execution_count": null,
   "metadata": {},
   "outputs": [],
   "source": []
  },
  {
   "cell_type": "code",
   "execution_count": 63,
   "metadata": {},
   "outputs": [
    {
     "data": {
      "image/png": "[encoded data removed]",
      "text/plain": [
       "<Figure size 1400x700 with 1 Axes>"
      ]
     },
     "metadata": {},
     "output_type": "display_data"
    }
   ],
   "source": [
    "final_maxdrawdown = None\n",
    "\n",
    "for portfolio_name in portfolios:\n",
    "\n",
    "    portfolio = load_portfolio(portfolio_name)\n",
    "    data, weights = prune_data_portfolio(portfolio)\n",
    "\n",
    "    prices = compute_portfolio_prices(portfolio, portfolio_name)\n",
    "\n",
    "    maxdrawdown = max_drawdown(prices)\n",
    "\n",
    "    final_maxdrawdown = merge_results(final_maxdrawdown, maxdrawdown)\n",
    "\n",
    "plot_max_drawdown(final_maxdrawdown)"
   ]
  },
  {
   "cell_type": "code",
   "execution_count": null,
   "metadata": {},
   "outputs": [],
   "source": []
  },
  {
   "cell_type": "code",
   "execution_count": null,
   "metadata": {},
   "outputs": [],
   "source": []
  }
 ],
 "metadata": {
  "kernelspec": {
   "display_name": "finace4all",
   "language": "python",
   "name": "python3"
  },
  "language_info": {
   "codemirror_mode": {
    "name": "ipython",
    "version": 3
   },
   "file_extension": ".py",
   "mimetype": "text/x-python",
   "name": "python",
   "nbconvert_exporter": "python",
   "pygments_lexer": "ipython3",
   "version": "3.12.9"
  }
 },
 "nbformat": 4,
 "nbformat_minor": 2
}
