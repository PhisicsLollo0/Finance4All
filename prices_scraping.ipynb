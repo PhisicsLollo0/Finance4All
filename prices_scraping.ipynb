{
 "cells": [
  {
   "cell_type": "code",
   "execution_count": 1,
   "metadata": {},
   "outputs": [],
   "source": [
    "from src.scraping.get_data import *\n",
    "from src.utils.checks import *\n",
    "from src.portfolio.data_manipulation import *\n",
    "from src.plots.basics import *\n",
    "from src.computations.compute_returns import *\n",
    "from src.computations.metrics import *\n",
    "from src.utils.basics import *\n",
    "from src.plots.basics_streamlit import *\n",
    "\n",
    "get_data_info()\n",
    "data = get_data_updated_2025()"
   ]
  },
  {
   "cell_type": "markdown",
   "metadata": {},
   "source": [
    "download_data_updated()"
   ]
  },
  {
   "cell_type": "code",
   "execution_count": 2,
   "metadata": {},
   "outputs": [
    {
     "data": {
      "application/vnd.microsoft.datawrangler.viewer.v0+json": {
       "columns": [
        {
         "name": "index",
         "rawType": "int64",
         "type": "integer"
        },
        {
         "name": "Date",
         "rawType": "object",
         "type": "string"
        },
        {
         "name": "MSCI Europe Small Cap Value Weighted",
         "rawType": "float64",
         "type": "float"
        },
        {
         "name": "MSCI USA Small Cap Value Weighted.1",
         "rawType": "float64",
         "type": "float"
        },
        {
         "name": "MSCI Europe",
         "rawType": "float64",
         "type": "float"
        },
        {
         "name": "MSCI World Momentum",
         "rawType": "float64",
         "type": "float"
        },
        {
         "name": "MSCI ACWI",
         "rawType": "float64",
         "type": "float"
        },
        {
         "name": "MSCI World",
         "rawType": "float64",
         "type": "float"
        },
        {
         "name": "S&P 500 Minimum Volatility",
         "rawType": "float64",
         "type": "float"
        },
        {
         "name": "MSCI Emerging Markets",
         "rawType": "float64",
         "type": "float"
        },
        {
         "name": "FTSE World Government Bond - Developed Markets",
         "rawType": "float64",
         "type": "float"
        },
        {
         "name": "S&P 500",
         "rawType": "float64",
         "type": "float"
        },
        {
         "name": "MSCI USA Small Cap Value Weighted",
         "rawType": "float64",
         "type": "float"
        }
       ],
       "ref": "8fce93c0-6187-4799-8001-6a930d681bdf",
       "rows": [
        [
         "0",
         "01/1975",
         null,
         null,
         null,
         null,
         null,
         null,
         null,
         null,
         null,
         null,
         null
        ],
        [
         "1",
         "02/1975",
         null,
         null,
         null,
         null,
         null,
         null,
         null,
         null,
         null,
         null,
         null
        ],
        [
         "2",
         "03/1975",
         null,
         null,
         null,
         null,
         null,
         null,
         null,
         null,
         null,
         null,
         null
        ],
        [
         "3",
         "04/1975",
         null,
         null,
         null,
         null,
         null,
         null,
         null,
         null,
         null,
         null,
         null
        ],
        [
         "4",
         "05/1975",
         null,
         null,
         null,
         null,
         null,
         null,
         null,
         null,
         null,
         null,
         null
        ],
        [
         "5",
         "06/1975",
         null,
         null,
         null,
         null,
         null,
         null,
         null,
         null,
         null,
         null,
         null
        ],
        [
         "6",
         "07/1975",
         null,
         null,
         null,
         null,
         null,
         null,
         null,
         null,
         null,
         null,
         null
        ],
        [
         "7",
         "08/1975",
         null,
         null,
         null,
         null,
         null,
         null,
         null,
         null,
         null,
         null,
         null
        ],
        [
         "8",
         "09/1975",
         null,
         null,
         null,
         null,
         null,
         null,
         null,
         null,
         null,
         null,
         null
        ],
        [
         "9",
         "10/1975",
         null,
         null,
         null,
         null,
         null,
         null,
         null,
         null,
         null,
         null,
         null
        ],
        [
         "10",
         "11/1975",
         null,
         null,
         null,
         null,
         null,
         null,
         null,
         null,
         null,
         null,
         null
        ],
        [
         "11",
         "12/1975",
         null,
         null,
         null,
         null,
         null,
         null,
         null,
         null,
         null,
         null,
         null
        ],
        [
         "12",
         "01/1976",
         null,
         null,
         null,
         null,
         null,
         null,
         null,
         null,
         null,
         null,
         null
        ],
        [
         "13",
         "02/1976",
         null,
         null,
         null,
         null,
         null,
         null,
         null,
         null,
         null,
         null,
         null
        ],
        [
         "14",
         "03/1976",
         null,
         null,
         null,
         null,
         null,
         null,
         null,
         null,
         null,
         null,
         null
        ],
        [
         "15",
         "04/1976",
         null,
         null,
         null,
         null,
         null,
         null,
         null,
         null,
         null,
         null,
         null
        ],
        [
         "16",
         "05/1976",
         null,
         null,
         null,
         null,
         null,
         null,
         null,
         null,
         null,
         null,
         null
        ],
        [
         "17",
         "06/1976",
         null,
         null,
         null,
         null,
         null,
         null,
         null,
         null,
         null,
         null,
         null
        ],
        [
         "18",
         "07/1976",
         null,
         null,
         null,
         null,
         null,
         null,
         null,
         null,
         null,
         null,
         null
        ],
        [
         "19",
         "08/1976",
         null,
         null,
         null,
         null,
         null,
         null,
         null,
         null,
         null,
         null,
         null
        ],
        [
         "20",
         "09/1976",
         null,
         null,
         null,
         null,
         null,
         null,
         null,
         null,
         null,
         null,
         null
        ],
        [
         "21",
         "10/1976",
         null,
         null,
         null,
         null,
         null,
         null,
         null,
         null,
         null,
         null,
         null
        ],
        [
         "22",
         "11/1976",
         null,
         null,
         null,
         null,
         null,
         null,
         null,
         null,
         null,
         null,
         null
        ],
        [
         "23",
         "12/1976",
         null,
         null,
         null,
         null,
         null,
         null,
         null,
         null,
         null,
         null,
         null
        ],
        [
         "24",
         "01/1977",
         null,
         null,
         null,
         null,
         null,
         null,
         null,
         null,
         null,
         null,
         null
        ],
        [
         "25",
         "02/1977",
         null,
         null,
         null,
         null,
         null,
         null,
         null,
         null,
         null,
         null,
         null
        ],
        [
         "26",
         "03/1977",
         null,
         null,
         null,
         null,
         null,
         null,
         null,
         null,
         null,
         null,
         null
        ],
        [
         "27",
         "04/1977",
         null,
         null,
         null,
         null,
         null,
         null,
         null,
         null,
         null,
         null,
         null
        ],
        [
         "28",
         "05/1977",
         null,
         null,
         null,
         null,
         null,
         null,
         null,
         null,
         null,
         null,
         null
        ],
        [
         "29",
         "06/1977",
         null,
         null,
         null,
         null,
         null,
         null,
         null,
         null,
         null,
         null,
         null
        ],
        [
         "30",
         "07/1977",
         null,
         null,
         null,
         null,
         null,
         null,
         null,
         null,
         null,
         null,
         null
        ],
        [
         "31",
         "08/1977",
         null,
         null,
         null,
         null,
         null,
         null,
         null,
         null,
         null,
         null,
         null
        ],
        [
         "32",
         "09/1977",
         null,
         null,
         null,
         null,
         null,
         null,
         null,
         null,
         null,
         null,
         null
        ],
        [
         "33",
         "10/1977",
         null,
         null,
         null,
         null,
         null,
         null,
         null,
         null,
         null,
         null,
         null
        ],
        [
         "34",
         "11/1977",
         null,
         null,
         null,
         null,
         null,
         null,
         null,
         null,
         null,
         null,
         null
        ],
        [
         "35",
         "12/1977",
         null,
         null,
         null,
         null,
         null,
         null,
         null,
         null,
         null,
         null,
         null
        ],
        [
         "36",
         "01/1978",
         null,
         null,
         null,
         null,
         null,
         null,
         null,
         null,
         null,
         null,
         null
        ],
        [
         "37",
         "02/1978",
         null,
         null,
         null,
         null,
         null,
         null,
         null,
         null,
         null,
         null,
         null
        ],
        [
         "38",
         "03/1978",
         null,
         null,
         null,
         null,
         null,
         null,
         null,
         null,
         null,
         null,
         null
        ],
        [
         "39",
         "04/1978",
         null,
         null,
         null,
         null,
         null,
         null,
         null,
         null,
         null,
         null,
         null
        ],
        [
         "40",
         "05/1978",
         null,
         null,
         null,
         null,
         null,
         null,
         null,
         null,
         null,
         null,
         null
        ],
        [
         "41",
         "06/1978",
         null,
         null,
         null,
         null,
         null,
         null,
         null,
         null,
         null,
         null,
         null
        ],
        [
         "42",
         "07/1978",
         null,
         null,
         null,
         null,
         null,
         null,
         null,
         null,
         null,
         null,
         null
        ],
        [
         "43",
         "08/1978",
         null,
         null,
         null,
         null,
         null,
         null,
         null,
         null,
         null,
         null,
         null
        ],
        [
         "44",
         "09/1978",
         null,
         null,
         null,
         null,
         null,
         null,
         null,
         null,
         null,
         null,
         null
        ],
        [
         "45",
         "10/1978",
         null,
         null,
         null,
         null,
         null,
         null,
         null,
         null,
         null,
         null,
         null
        ],
        [
         "46",
         "11/1978",
         null,
         null,
         null,
         null,
         null,
         null,
         null,
         null,
         null,
         null,
         null
        ],
        [
         "47",
         "12/1978",
         null,
         null,
         "10000.0",
         null,
         null,
         "10000.0",
         null,
         null,
         null,
         null,
         null
        ],
        [
         "48",
         "01/1979",
         null,
         null,
         "10185.22014136237",
         null,
         null,
         "10398.930905250509",
         null,
         null,
         null,
         null,
         null
        ],
        [
         "49",
         "02/1979",
         null,
         null,
         "10417.900537688138",
         null,
         null,
         "10248.849017195264",
         null,
         null,
         null,
         null,
         null
        ]
       ],
       "shape": {
        "columns": 12,
        "rows": 606
       }
      },
      "text/html": [
       "<div>\n",
       "<style scoped>\n",
       "    .dataframe tbody tr th:only-of-type {\n",
       "        vertical-align: middle;\n",
       "    }\n",
       "\n",
       "    .dataframe tbody tr th {\n",
       "        vertical-align: top;\n",
       "    }\n",
       "\n",
       "    .dataframe thead th {\n",
       "        text-align: right;\n",
       "    }\n",
       "</style>\n",
       "<table border=\"1\" class=\"dataframe\">\n",
       "  <thead>\n",
       "    <tr style=\"text-align: right;\">\n",
       "      <th></th>\n",
       "      <th>Date</th>\n",
       "      <th>MSCI Europe Small Cap Value Weighted</th>\n",
       "      <th>MSCI USA Small Cap Value Weighted.1</th>\n",
       "      <th>MSCI Europe</th>\n",
       "      <th>MSCI World Momentum</th>\n",
       "      <th>MSCI ACWI</th>\n",
       "      <th>MSCI World</th>\n",
       "      <th>S&amp;P 500 Minimum Volatility</th>\n",
       "      <th>MSCI Emerging Markets</th>\n",
       "      <th>FTSE World Government Bond - Developed Markets</th>\n",
       "      <th>S&amp;P 500</th>\n",
       "      <th>MSCI USA Small Cap Value Weighted</th>\n",
       "    </tr>\n",
       "  </thead>\n",
       "  <tbody>\n",
       "    <tr>\n",
       "      <th>0</th>\n",
       "      <td>01/1975</td>\n",
       "      <td>NaN</td>\n",
       "      <td>NaN</td>\n",
       "      <td>NaN</td>\n",
       "      <td>NaN</td>\n",
       "      <td>NaN</td>\n",
       "      <td>NaN</td>\n",
       "      <td>NaN</td>\n",
       "      <td>NaN</td>\n",
       "      <td>NaN</td>\n",
       "      <td>NaN</td>\n",
       "      <td>NaN</td>\n",
       "    </tr>\n",
       "    <tr>\n",
       "      <th>1</th>\n",
       "      <td>02/1975</td>\n",
       "      <td>NaN</td>\n",
       "      <td>NaN</td>\n",
       "      <td>NaN</td>\n",
       "      <td>NaN</td>\n",
       "      <td>NaN</td>\n",
       "      <td>NaN</td>\n",
       "      <td>NaN</td>\n",
       "      <td>NaN</td>\n",
       "      <td>NaN</td>\n",
       "      <td>NaN</td>\n",
       "      <td>NaN</td>\n",
       "    </tr>\n",
       "    <tr>\n",
       "      <th>2</th>\n",
       "      <td>03/1975</td>\n",
       "      <td>NaN</td>\n",
       "      <td>NaN</td>\n",
       "      <td>NaN</td>\n",
       "      <td>NaN</td>\n",
       "      <td>NaN</td>\n",
       "      <td>NaN</td>\n",
       "      <td>NaN</td>\n",
       "      <td>NaN</td>\n",
       "      <td>NaN</td>\n",
       "      <td>NaN</td>\n",
       "      <td>NaN</td>\n",
       "    </tr>\n",
       "    <tr>\n",
       "      <th>3</th>\n",
       "      <td>04/1975</td>\n",
       "      <td>NaN</td>\n",
       "      <td>NaN</td>\n",
       "      <td>NaN</td>\n",
       "      <td>NaN</td>\n",
       "      <td>NaN</td>\n",
       "      <td>NaN</td>\n",
       "      <td>NaN</td>\n",
       "      <td>NaN</td>\n",
       "      <td>NaN</td>\n",
       "      <td>NaN</td>\n",
       "      <td>NaN</td>\n",
       "    </tr>\n",
       "    <tr>\n",
       "      <th>4</th>\n",
       "      <td>05/1975</td>\n",
       "      <td>NaN</td>\n",
       "      <td>NaN</td>\n",
       "      <td>NaN</td>\n",
       "      <td>NaN</td>\n",
       "      <td>NaN</td>\n",
       "      <td>NaN</td>\n",
       "      <td>NaN</td>\n",
       "      <td>NaN</td>\n",
       "      <td>NaN</td>\n",
       "      <td>NaN</td>\n",
       "      <td>NaN</td>\n",
       "    </tr>\n",
       "    <tr>\n",
       "      <th>...</th>\n",
       "      <td>...</td>\n",
       "      <td>...</td>\n",
       "      <td>...</td>\n",
       "      <td>...</td>\n",
       "      <td>...</td>\n",
       "      <td>...</td>\n",
       "      <td>...</td>\n",
       "      <td>...</td>\n",
       "      <td>...</td>\n",
       "      <td>...</td>\n",
       "      <td>...</td>\n",
       "      <td>...</td>\n",
       "    </tr>\n",
       "    <tr>\n",
       "      <th>601</th>\n",
       "      <td>02/2025</td>\n",
       "      <td>151620.912337</td>\n",
       "      <td>332033.356917</td>\n",
       "      <td>771142.176129</td>\n",
       "      <td>278724.388599</td>\n",
       "      <td>243528.409920</td>\n",
       "      <td>1.017283e+06</td>\n",
       "      <td>93364.614043</td>\n",
       "      <td>352456.719356</td>\n",
       "      <td>57818.820684</td>\n",
       "      <td>333427.489458</td>\n",
       "      <td>332033.356917</td>\n",
       "    </tr>\n",
       "    <tr>\n",
       "      <th>602</th>\n",
       "      <td>03/2025</td>\n",
       "      <td>149258.620455</td>\n",
       "      <td>301474.781370</td>\n",
       "      <td>740100.039015</td>\n",
       "      <td>253014.321457</td>\n",
       "      <td>225203.342503</td>\n",
       "      <td>9.356841e+05</td>\n",
       "      <td>87854.767453</td>\n",
       "      <td>341488.238952</td>\n",
       "      <td>56062.489396</td>\n",
       "      <td>302887.181519</td>\n",
       "      <td>301474.781370</td>\n",
       "    </tr>\n",
       "    <tr>\n",
       "      <th>603</th>\n",
       "      <td>04/2025</td>\n",
       "      <td>151103.730645</td>\n",
       "      <td>274195.338702</td>\n",
       "      <td>734564.922807</td>\n",
       "      <td>248540.215643</td>\n",
       "      <td>215995.891590</td>\n",
       "      <td>8.976836e+05</td>\n",
       "      <td>82429.995779</td>\n",
       "      <td>328764.402587</td>\n",
       "      <td>55177.416831</td>\n",
       "      <td>286073.221001</td>\n",
       "      <td>274195.338702</td>\n",
       "    </tr>\n",
       "    <tr>\n",
       "      <th>604</th>\n",
       "      <td>05/2025</td>\n",
       "      <td>NaN</td>\n",
       "      <td>NaN</td>\n",
       "      <td>NaN</td>\n",
       "      <td>NaN</td>\n",
       "      <td>NaN</td>\n",
       "      <td>NaN</td>\n",
       "      <td>NaN</td>\n",
       "      <td>NaN</td>\n",
       "      <td>NaN</td>\n",
       "      <td>NaN</td>\n",
       "      <td>NaN</td>\n",
       "    </tr>\n",
       "    <tr>\n",
       "      <th>605</th>\n",
       "      <td>06/2025</td>\n",
       "      <td>NaN</td>\n",
       "      <td>NaN</td>\n",
       "      <td>NaN</td>\n",
       "      <td>NaN</td>\n",
       "      <td>NaN</td>\n",
       "      <td>NaN</td>\n",
       "      <td>NaN</td>\n",
       "      <td>NaN</td>\n",
       "      <td>NaN</td>\n",
       "      <td>NaN</td>\n",
       "      <td>NaN</td>\n",
       "    </tr>\n",
       "  </tbody>\n",
       "</table>\n",
       "<p>606 rows × 12 columns</p>\n",
       "</div>"
      ],
      "text/plain": [
       "        Date  MSCI Europe Small Cap Value Weighted  \\\n",
       "0    01/1975                                   NaN   \n",
       "1    02/1975                                   NaN   \n",
       "2    03/1975                                   NaN   \n",
       "3    04/1975                                   NaN   \n",
       "4    05/1975                                   NaN   \n",
       "..       ...                                   ...   \n",
       "601  02/2025                         151620.912337   \n",
       "602  03/2025                         149258.620455   \n",
       "603  04/2025                         151103.730645   \n",
       "604  05/2025                                   NaN   \n",
       "605  06/2025                                   NaN   \n",
       "\n",
       "     MSCI USA Small Cap Value Weighted.1    MSCI Europe  MSCI World Momentum  \\\n",
       "0                                    NaN            NaN                  NaN   \n",
       "1                                    NaN            NaN                  NaN   \n",
       "2                                    NaN            NaN                  NaN   \n",
       "3                                    NaN            NaN                  NaN   \n",
       "4                                    NaN            NaN                  NaN   \n",
       "..                                   ...            ...                  ...   \n",
       "601                        332033.356917  771142.176129        278724.388599   \n",
       "602                        301474.781370  740100.039015        253014.321457   \n",
       "603                        274195.338702  734564.922807        248540.215643   \n",
       "604                                  NaN            NaN                  NaN   \n",
       "605                                  NaN            NaN                  NaN   \n",
       "\n",
       "         MSCI ACWI    MSCI World  S&P 500 Minimum Volatility  \\\n",
       "0              NaN           NaN                         NaN   \n",
       "1              NaN           NaN                         NaN   \n",
       "2              NaN           NaN                         NaN   \n",
       "3              NaN           NaN                         NaN   \n",
       "4              NaN           NaN                         NaN   \n",
       "..             ...           ...                         ...   \n",
       "601  243528.409920  1.017283e+06                93364.614043   \n",
       "602  225203.342503  9.356841e+05                87854.767453   \n",
       "603  215995.891590  8.976836e+05                82429.995779   \n",
       "604            NaN           NaN                         NaN   \n",
       "605            NaN           NaN                         NaN   \n",
       "\n",
       "     MSCI Emerging Markets  FTSE World Government Bond - Developed Markets  \\\n",
       "0                      NaN                                             NaN   \n",
       "1                      NaN                                             NaN   \n",
       "2                      NaN                                             NaN   \n",
       "3                      NaN                                             NaN   \n",
       "4                      NaN                                             NaN   \n",
       "..                     ...                                             ...   \n",
       "601          352456.719356                                    57818.820684   \n",
       "602          341488.238952                                    56062.489396   \n",
       "603          328764.402587                                    55177.416831   \n",
       "604                    NaN                                             NaN   \n",
       "605                    NaN                                             NaN   \n",
       "\n",
       "           S&P 500  MSCI USA Small Cap Value Weighted  \n",
       "0              NaN                                NaN  \n",
       "1              NaN                                NaN  \n",
       "2              NaN                                NaN  \n",
       "3              NaN                                NaN  \n",
       "4              NaN                                NaN  \n",
       "..             ...                                ...  \n",
       "601  333427.489458                      332033.356917  \n",
       "602  302887.181519                      301474.781370  \n",
       "603  286073.221001                      274195.338702  \n",
       "604            NaN                                NaN  \n",
       "605            NaN                                NaN  \n",
       "\n",
       "[606 rows x 12 columns]"
      ]
     },
     "execution_count": 2,
     "metadata": {},
     "output_type": "execute_result"
    }
   ],
   "source": [
    "data"
   ]
  },
  {
   "cell_type": "code",
   "execution_count": 3,
   "metadata": {},
   "outputs": [
    {
     "data": {
      "text/plain": [
       "['100_2factors',\n",
       " '80_20_ACWI',\n",
       " '80_20_World',\n",
       " '80_20_2factors',\n",
       " '100_1factor',\n",
       " 'lifestrategy60',\n",
       " 'lifestrategy80',\n",
       " 'lifestrategy20',\n",
       " 'lifestrategy0',\n",
       " 'lifestrategy40',\n",
       " 'lifestrategy100',\n",
       " '80_20_1factor',\n",
       " '60_40_World']"
      ]
     },
     "execution_count": 3,
     "metadata": {},
     "output_type": "execute_result"
    }
   ],
   "source": [
    "get_list_of_portfolios()"
   ]
  },
  {
   "cell_type": "code",
   "execution_count": 4,
   "metadata": {},
   "outputs": [
    {
     "data": {
      "text/plain": [
       "['100_2factors',\n",
       " '80_20_2factors',\n",
       " '80_20_1factor',\n",
       " '80_20_ACWI',\n",
       " '80_20_World',\n",
       " 'lifestrategy100',\n",
       " 'lifestrategy80',\n",
       " 'lifestrategy60',\n",
       " 'lifestrategy40',\n",
       " 'lifestrategy20',\n",
       " 'lifestrategy0']"
      ]
     },
     "execution_count": 4,
     "metadata": {},
     "output_type": "execute_result"
    }
   ],
   "source": [
    "PORTFOLIOS = [\n",
    "    '100_2factors',\n",
    "    '80_20_2factors',\n",
    "    '80_20_1factor',\n",
    "    '80_20_ACWI',\n",
    "    '80_20_World'\n",
    "]\n",
    "\n",
    "PORTOFOLIO_NAMES = {\n",
    "    '100_2factors'  : '100% Stocks + SmallCap Value + Momentum',\n",
    "    '80_20_2factors': '80% Stocks + 20% Bonds + SmallCap Value + Momentum',\n",
    "    '80_20_1factor' : '80% Stocks + 20% Bonds + SmallCap Value',\n",
    "    '80_20_ACWI'    : '80% Stocks(ACWI) + 20% Bonds',\n",
    "    '80_20_World'   : '80% Stocks(World) + 20% Bonds',\n",
    "}\n",
    "\n",
    "PORTFOLIO_DESCRIPTIONS = {\n",
    "    '100_2factors'  : 'This portfolio invests 100% in stocks, focusing on small-cap value and momentum strategies.',\n",
    "    '80_20_2factors': 'This portfolio allocates 80% to stocks and 20% to bonds, incorporating small-cap value and momentum factors.',\n",
    "    '80_20_1factor' : 'This portfolio invests 80% in stocks and 20% in bonds, focusing on small-cap value.',\n",
    "    '80_20_ACWI'    : 'This portfolio invests 80% in global stocks (ACWI) and 20% in bonds.',\n",
    "    '80_20_World'   : 'This portfolio invests 80% in world stocks and 20% in bonds.'\n",
    "}\n",
    "\n",
    "# Add another group of portfolios in col2\n",
    "SIMPLE_PORTFOLIOS = [\n",
    "    'lifestrategy100',\n",
    "    'lifestrategy80',\n",
    "    'lifestrategy60',\n",
    "    'lifestrategy40',\n",
    "    'lifestrategy20',\n",
    "    'lifestrategy0'\n",
    "]\n",
    "\n",
    "SIMPLE_PORTFOLIO_NAMES = {\n",
    "    'lifestrategy100': '100% Stocks',\n",
    "    'lifestrategy80' : '80% Stocks + 20% Bonds',\n",
    "    'lifestrategy60' : '60% Stocks + 40% Bonds',\n",
    "    'lifestrategy40' : '40% Stocks + 60% Bonds',\n",
    "    'lifestrategy20' : '20% Stocks + 80% Bonds',\n",
    "    'lifestrategy0'  : '100% Bonds'\n",
    "}\n",
    "\n",
    "SIMPLE_PORTFOLIO_DESCRIPTIONS = {\n",
    "    'lifestrategy100': 'This portfolio invests 100% in stocks, suitable for aggressive strategies seeking high growth. Note that stocks are MSCI World',\n",
    "    'lifestrategy80' : 'This portfolio allocates 80% to stocks and 20% to bonds, balancing growth and stability. Stocks are MSCI World',\n",
    "    'lifestrategy60' : 'This portfolio invests 60% in stocks and 40% in bonds, providing moderate growth with some stability. Stocks are MSCI World',\n",
    "    'lifestrategy40' : 'This portfolio invests 40% in stocks and 60% in bonds, focusing on stability with some growth potential. Stocks are MSCI World',\n",
    "    'lifestrategy20' : 'This portfolio invests 20% in stocks and 80% in bonds, prioritizing stability with minimal growth. Stocks are MSCI World',\n",
    "    'lifestrategy0'  : 'This portfolio invests 100% in bonds, suitable for conservative strategies seeking capital preservation.'\n",
    "}\n",
    "\n",
    "ALL_PORTFOLIOS = PORTFOLIOS + SIMPLE_PORTFOLIOS\n",
    "ALL_PORTFOLIOS"
   ]
  },
  {
   "cell_type": "code",
   "execution_count": 5,
   "metadata": {},
   "outputs": [],
   "source": [
    "DEFAULT_LAYOUT = {\n",
    "    \"template\": \"simple_white\",\n",
    "    \"width\": 1200,\n",
    "    \"height\": 800,\n",
    "    \"legend_title\": \"Portfolio\",\n",
    "    \"title_font_size\": 25,\n",
    "    \"title_font_family\": \"Arial\",\n",
    "    \"legend\": dict(font=dict(size=22)),\n",
    "    \"xaxis\": dict(\n",
    "        tickformat=\"%Y\",\n",
    "        title_font=dict(size=22, color=\"black\", family=\"Arial\"),\n",
    "        tickfont=dict(size=16, color=\"black\"),\n",
    "        linecolor=\"black\",\n",
    "        linewidth=2,\n",
    "        showgrid=True,\n",
    "        gridcolor=\"lightgray\",\n",
    "        gridwidth=1\n",
    "    ),\n",
    "    \"yaxis\": dict(\n",
    "        title_font=dict(size=22, color=\"black\", family=\"Arial\"),\n",
    "        tickfont=dict(size=16, color=\"black\"),\n",
    "        linecolor=\"black\",\n",
    "        tickformat=\".1f\",           # Show one decimal\n",
    "        tickprefix=\"\",              # No prefix needed; suffix adds %\n",
    "        ticksuffix=\"%\",            # ✅ Add percent sign without multiplying\n",
    "        linewidth=2,\n",
    "        showgrid=True,\n",
    "        gridcolor=\"lightgray\",\n",
    "        gridwidth=1\n",
    "    ),\n",
    "    \"font\": dict(color=\"black\")\n",
    "}"
   ]
  },
  {
   "cell_type": "code",
   "execution_count": null,
   "metadata": {},
   "outputs": [],
   "source": [
    "def plot_return_distributions_streamlit(df):\n",
    "    \"\"\"\n",
    "    Create an interactive violin plot showing portfolio return distributions,\n",
    "    with custom median and 5th percentile lines using Plotly and matplotlib colors.\n",
    "    \"\"\"\n",
    "    def _prepare_data(df):\n",
    "        returns_df = df.dropna(how='all')\n",
    "        long_df = returns_df.melt(id_vars='Date', var_name='Portfolio', value_name='Return').dropna()\n",
    "        return long_df\n",
    "\n",
    "    def _get_colors(portfolios):\n",
    "        cmap = plt.get_cmap('tab10')\n",
    "        return {\n",
    "            p: '#{0:02x}{1:02x}{2:02x}'.format(\n",
    "                int(255 * r), int(255 * g), int(255 * b)\n",
    "            )\n",
    "            for p, (r, g, b, _) in zip(portfolios, cmap(range(len(portfolios))))\n",
    "        }\n",
    "\n",
    "    def _get_plot_shapes_and_annotations(medians, p5s, y_positions, colors, line_height=0.6):\n",
    "        shapes, annotations = [], []\n",
    "        for portfolio, y_pos in y_positions.items():\n",
    "            median_val = medians[portfolio]\n",
    "            p5_val = p5s[portfolio]\n",
    "\n",
    "            # Median line\n",
    "            shapes.append(dict(\n",
    "                type='line', x0=median_val, x1=median_val,\n",
    "                y0=y_pos - line_height/2, y1=y_pos + line_height/2,\n",
    "                line=dict(color=colors[portfolio], width=3),\n",
    "                opacity=1,\n",
    "                xref='x', yref='y'\n",
    "            ))\n",
    "            annotations.append(dict(\n",
    "                x=median_val, y=y_pos + line_height / 2 + 0.1,\n",
    "                text=f\"Median: {median_val:.2%}\",\n",
    "                showarrow=False,\n",
    "                font=dict(color=colors[portfolio], size=16),\n",
    "                xanchor='left'\n",
    "            ))\n",
    "\n",
    "            # 5th percentile line\n",
    "            shapes.append(dict(\n",
    "                type='line', x0=p5_val, x1=p5_val,\n",
    "                y0=y_pos - line_height/2, y1=y_pos + line_height/2,\n",
    "                line=dict(color=colors[portfolio], width=3, dash='dash'),\n",
    "                opacity=1,\n",
    "                xref='x', yref='y'\n",
    "            ))\n",
    "            annotations.append(dict(\n",
    "                x=p5_val, y=y_pos - line_height / 2 + 0.65,\n",
    "                text=f\"5th %: {p5_val:.2%}\",\n",
    "                showarrow=False,\n",
    "                font=dict(color=colors[portfolio], size=16),\n",
    "                xanchor='left'\n",
    "            ))\n",
    "\n",
    "        return shapes, annotations\n",
    "\n",
    "    # Data preparation\n",
    "    long_df = _prepare_data(df)\n",
    "    portfolios = long_df['Portfolio'].unique()\n",
    "    colors = _get_colors(portfolios)\n",
    "    plot_height = 230 * len(portfolios)\n",
    "\n",
    "    # Seaborn style (optional)\n",
    "    sns.set(style=\"whitegrid\", context=\"talk\")\n",
    "\n",
    "    # Violin plot\n",
    "    fig = px.violin(\n",
    "        long_df,\n",
    "        y='Portfolio',\n",
    "        x='Return',\n",
    "        color='Portfolio',\n",
    "        box=False,\n",
    "        points='all',\n",
    "        color_discrete_map=colors,\n",
    "        template='simple_white'\n",
    "    )\n",
    "\n",
    "    # Order & positioning\n",
    "    category_order = fig.layout.yaxis.categoryarray or portfolios.tolist()\n",
    "    y_positions = {p: i for i, p in enumerate(category_order)}\n",
    "\n",
    "    # Statistics\n",
    "    medians = long_df.groupby('Portfolio')['Return'].median()\n",
    "    p5s = long_df.groupby('Portfolio')['Return'].quantile(0.05)\n",
    "    shapes, annotations = _get_plot_shapes_and_annotations(medians, p5s, y_positions, colors)\n",
    "\n",
    "    # Final layout update\n",
    "    fig.update_layout(\n",
    "        height=plot_height,\n",
    "        width=1200,\n",
    "        violingap=0.25,\n",
    "        violinmode='overlay',\n",
    "        shapes=shapes,\n",
    "        annotations=annotations,\n",
    "        template='simple_white',\n",
    "        legend=dict(\n",
    "            orientation=\"h\",\n",
    "            yanchor=\"bottom\",\n",
    "            y=1.05,\n",
    "            xanchor=\"center\",\n",
    "            x=0.5,\n",
    "            font=dict(size=22)\n",
    "        ),\n",
    "        font=dict(color=\"black\"),\n",
    "        title_font_size=25,\n",
    "        title_font_family=\"Arial\",\n",
    "        title = \" \",\n",
    "        xaxis=dict(\n",
    "            title=\"Annualized Return (%)\",\n",
    "            title_font=dict(size=22, color=\"black\", family=\"Arial\"),\n",
    "            tickfont=dict(size=16, color=\"black\"),\n",
    "            tickformat=\".1%\",\n",
    "            linecolor=\"black\",\n",
    "            linewidth=2,\n",
    "            showgrid=True,\n",
    "            gridcolor=\"lightgray\"\n",
    "        ),\n",
    "        yaxis=dict(\n",
    "            title=\"Portfolio\",\n",
    "            title_font=dict(size=22, color=\"black\", family=\"Arial\"),\n",
    "            tickfont=dict(size=16, color=\"black\"),\n",
    "            linecolor=\"black\",\n",
    "            linewidth=2,\n",
    "            showgrid=True,\n",
    "            gridcolor=\"lightgray\",\n",
    "            categoryorder='array',\n",
    "            categoryarray=category_order\n",
    "        )\n",
    "    )\n",
    "        # Customize hover template for each trace\n",
    "    fig.update_traces(\n",
    "        hoveron = 'points+kde'\n",
    "        )\n",
    "           \n",
    "\n",
    "    return fig\n"
   ]
  },
  {
   "cell_type": "code",
   "execution_count": 7,
   "metadata": {},
   "outputs": [],
   "source": [
    "portfolios = ['100_2factors',\n",
    "              '80_20_2factors',\n",
    "              '80_20_1factor',\n",
    "              '80_20_ACWI',\n",
    "              '80_20_World']\n",
    "\n",
    "portfolios = [ 'lifestrategy40',\n",
    "               'lifestrategy20',\n",
    "               'lifestrategy0']\n",
    "\n",
    "for years in [5]:\n",
    "    final_results = None \n",
    "    for portfolio_name in portfolios:\n",
    "\n",
    "        portfolio = load_portfolio(portfolio_name)\n",
    "        data, weights = prune_data_portfolio(portfolio)\n",
    "\n",
    "        # Compute the returns\n",
    "        results = compute_portfolio_returns_combined(*prune_data_portfolio(portfolio), years=years)\n",
    "        results = results.rename(columns={results.columns[-1]: portfolio_name})\n",
    "        results[portfolio_name] = results[portfolio_name].round(5)\n",
    "\n",
    "        final_results = merge_results(final_results, results)"
   ]
  },
  {
   "cell_type": "code",
   "execution_count": null,
   "metadata": {},
   "outputs": [],
   "source": []
  },
  {
   "cell_type": "code",
   "execution_count": 73,
   "metadata": {},
   "outputs": [
    {
     "data": {
      "application/vnd.plotly.v1+json": {
       "config": {
        "plotlyServerURL": "https://plot.ly"
       },
       "data": [
        {
         "alignmentgroup": "True",
         "box": {
          "visible": false
         },
         "hoveron": "points+kde",
         "hovertemplate": "Portfolio=%{y}<br>Return=%{x}<extra></extra>",
         "legendgroup": "lifestrategy40",
         "marker": {
          "color": "#1f77b4"
         },
         "name": "lifestrategy40",
         "offsetgroup": "lifestrategy40",
         "orientation": "h",
         "points": "all",
         "scalegroup": "True",
         "showlegend": true,
         "type": "violin",
         "x": {
          "bdata": "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",
          "dtype": "f8"
         },
         "x0": " ",
         "xaxis": "x",
         "y": [
          "lifestrategy40",
          "lifestrategy40",
          "lifestrategy40",
          "lifestrategy40",
          "lifestrategy40",
          "lifestrategy40",
          "lifestrategy40",
          "lifestrategy40",
          "lifestrategy40",
          "lifestrategy40",
          "lifestrategy40",
          "lifestrategy40",
          "lifestrategy40",
          "lifestrategy40",
          "lifestrategy40",
          "lifestrategy40",
          "lifestrategy40",
          "lifestrategy40",
          "lifestrategy40",
          "lifestrategy40",
          "lifestrategy40",
          "lifestrategy40",
          "lifestrategy40",
          "lifestrategy40",
          "lifestrategy40",
          "lifestrategy40",
          "lifestrategy40",
          "lifestrategy40",
          "lifestrategy40",
          "lifestrategy40",
          "lifestrategy40",
          "lifestrategy40",
          "lifestrategy40",
          "lifestrategy40",
          "lifestrategy40",
          "lifestrategy40",
          "lifestrategy40",
          "lifestrategy40",
          "lifestrategy40",
          "lifestrategy40",
          "lifestrategy40",
          "lifestrategy40",
          "lifestrategy40",
          "lifestrategy40",
          "lifestrategy40",
          "lifestrategy40",
          "lifestrategy40",
          "lifestrategy40",
          "lifestrategy40",
          "lifestrategy40",
          "lifestrategy40",
          "lifestrategy40",
          "lifestrategy40",
          "lifestrategy40",
          "lifestrategy40",
          "lifestrategy40",
          "lifestrategy40",
          "lifestrategy40",
          "lifestrategy40",
          "lifestrategy40",
          "lifestrategy40",
          "lifestrategy40",
          "lifestrategy40",
          "lifestrategy40",
          "lifestrategy40",
          "lifestrategy40",
          "lifestrategy40",
          "lifestrategy40",
          "lifestrategy40",
          "lifestrategy40",
          "lifestrategy40",
          "lifestrategy40",
          "lifestrategy40",
          "lifestrategy40",
          "lifestrategy40",
          "lifestrategy40",
          "lifestrategy40",
          "lifestrategy40",
          "lifestrategy40",
          "lifestrategy40",
          "lifestrategy40",
          "lifestrategy40",
          "lifestrategy40",
          "lifestrategy40",
          "lifestrategy40",
          "lifestrategy40",
          "lifestrategy40",
          "lifestrategy40",
          "lifestrategy40",
          "lifestrategy40",
          "lifestrategy40",
          "lifestrategy40",
          "lifestrategy40",
          "lifestrategy40",
          "lifestrategy40",
          "lifestrategy40",
          "lifestrategy40",
          "lifestrategy40",
          "lifestrategy40",
          "lifestrategy40",
          "lifestrategy40",
          "lifestrategy40",
          "lifestrategy40",
          "lifestrategy40",
          "lifestrategy40",
          "lifestrategy40",
          "lifestrategy40",
          "lifestrategy40",
          "lifestrategy40",
          "lifestrategy40",
          "lifestrategy40",
          "lifestrategy40",
          "lifestrategy40",
          "lifestrategy40",
          "lifestrategy40",
          "lifestrategy40",
          "lifestrategy40",
          "lifestrategy40",
          "lifestrategy40",
          "lifestrategy40",
          "lifestrategy40",
          "lifestrategy40",
          "lifestrategy40",
          "lifestrategy40",
          "lifestrategy40",
          "lifestrategy40",
          "lifestrategy40",
          "lifestrategy40",
          "lifestrategy40",
          "lifestrategy40",
          "lifestrategy40",
          "lifestrategy40",
          "lifestrategy40",
          "lifestrategy40",
          "lifestrategy40",
          "lifestrategy40",
          "lifestrategy40",
          "lifestrategy40",
          "lifestrategy40",
          "lifestrategy40",
          "lifestrategy40",
          "lifestrategy40",
          "lifestrategy40",
          "lifestrategy40",
          "lifestrategy40",
          "lifestrategy40",
          "lifestrategy40",
          "lifestrategy40",
          "lifestrategy40",
          "lifestrategy40",
          "lifestrategy40",
          "lifestrategy40",
          "lifestrategy40",
          "lifestrategy40",
          "lifestrategy40",
          "lifestrategy40",
          "lifestrategy40",
          "lifestrategy40",
          "lifestrategy40",
          "lifestrategy40",
          "lifestrategy40",
          "lifestrategy40",
          "lifestrategy40",
          "lifestrategy40",
          "lifestrategy40",
          "lifestrategy40",
          "lifestrategy40",
          "lifestrategy40",
          "lifestrategy40",
          "lifestrategy40",
          "lifestrategy40",
          "lifestrategy40",
          "lifestrategy40",
          "lifestrategy40",
          "lifestrategy40",
          "lifestrategy40",
          "lifestrategy40",
          "lifestrategy40",
          "lifestrategy40",
          "lifestrategy40",
          "lifestrategy40",
          "lifestrategy40",
          "lifestrategy40",
          "lifestrategy40",
          "lifestrategy40",
          "lifestrategy40",
          "lifestrategy40",
          "lifestrategy40",
          "lifestrategy40",
          "lifestrategy40",
          "lifestrategy40",
          "lifestrategy40",
          "lifestrategy40",
          "lifestrategy40",
          "lifestrategy40",
          "lifestrategy40",
          "lifestrategy40",
          "lifestrategy40",
          "lifestrategy40",
          "lifestrategy40",
          "lifestrategy40",
          "lifestrategy40",
          "lifestrategy40",
          "lifestrategy40",
          "lifestrategy40",
          "lifestrategy40",
          "lifestrategy40",
          "lifestrategy40",
          "lifestrategy40",
          "lifestrategy40",
          "lifestrategy40",
          "lifestrategy40",
          "lifestrategy40",
          "lifestrategy40",
          "lifestrategy40",
          "lifestrategy40",
          "lifestrategy40",
          "lifestrategy40",
          "lifestrategy40",
          "lifestrategy40",
          "lifestrategy40",
          "lifestrategy40",
          "lifestrategy40",
          "lifestrategy40",
          "lifestrategy40",
          "lifestrategy40",
          "lifestrategy40",
          "lifestrategy40",
          "lifestrategy40",
          "lifestrategy40",
          "lifestrategy40",
          "lifestrategy40",
          "lifestrategy40",
          "lifestrategy40",
          "lifestrategy40",
          "lifestrategy40",
          "lifestrategy40",
          "lifestrategy40",
          "lifestrategy40",
          "lifestrategy40",
          "lifestrategy40",
          "lifestrategy40",
          "lifestrategy40",
          "lifestrategy40",
          "lifestrategy40",
          "lifestrategy40",
          "lifestrategy40",
          "lifestrategy40",
          "lifestrategy40",
          "lifestrategy40",
          "lifestrategy40",
          "lifestrategy40",
          "lifestrategy40",
          "lifestrategy40",
          "lifestrategy40",
          "lifestrategy40",
          "lifestrategy40",
          "lifestrategy40",
          "lifestrategy40",
          "lifestrategy40",
          "lifestrategy40",
          "lifestrategy40",
          "lifestrategy40",
          "lifestrategy40",
          "lifestrategy40",
          "lifestrategy40",
          "lifestrategy40",
          "lifestrategy40",
          "lifestrategy40",
          "lifestrategy40",
          "lifestrategy40",
          "lifestrategy40",
          "lifestrategy40",
          "lifestrategy40",
          "lifestrategy40",
          "lifestrategy40",
          "lifestrategy40",
          "lifestrategy40",
          "lifestrategy40",
          "lifestrategy40",
          "lifestrategy40",
          "lifestrategy40",
          "lifestrategy40",
          "lifestrategy40",
          "lifestrategy40",
          "lifestrategy40",
          "lifestrategy40",
          "lifestrategy40",
          "lifestrategy40",
          "lifestrategy40",
          "lifestrategy40",
          "lifestrategy40",
          "lifestrategy40",
          "lifestrategy40",
          "lifestrategy40",
          "lifestrategy40",
          "lifestrategy40",
          "lifestrategy40",
          "lifestrategy40",
          "lifestrategy40",
          "lifestrategy40",
          "lifestrategy40",
          "lifestrategy40",
          "lifestrategy40",
          "lifestrategy40",
          "lifestrategy40",
          "lifestrategy40",
          "lifestrategy40",
          "lifestrategy40",
          "lifestrategy40",
          "lifestrategy40",
          "lifestrategy40",
          "lifestrategy40",
          "lifestrategy40",
          "lifestrategy40",
          "lifestrategy40",
          "lifestrategy40",
          "lifestrategy40",
          "lifestrategy40",
          "lifestrategy40",
          "lifestrategy40",
          "lifestrategy40",
          "lifestrategy40",
          "lifestrategy40",
          "lifestrategy40",
          "lifestrategy40",
          "lifestrategy40",
          "lifestrategy40",
          "lifestrategy40",
          "lifestrategy40",
          "lifestrategy40",
          "lifestrategy40",
          "lifestrategy40",
          "lifestrategy40",
          "lifestrategy40",
          "lifestrategy40",
          "lifestrategy40",
          "lifestrategy40",
          "lifestrategy40",
          "lifestrategy40",
          "lifestrategy40",
          "lifestrategy40",
          "lifestrategy40",
          "lifestrategy40",
          "lifestrategy40",
          "lifestrategy40",
          "lifestrategy40",
          "lifestrategy40",
          "lifestrategy40",
          "lifestrategy40",
          "lifestrategy40",
          "lifestrategy40",
          "lifestrategy40",
          "lifestrategy40",
          "lifestrategy40",
          "lifestrategy40",
          "lifestrategy40",
          "lifestrategy40",
          "lifestrategy40",
          "lifestrategy40",
          "lifestrategy40",
          "lifestrategy40",
          "lifestrategy40",
          "lifestrategy40",
          "lifestrategy40",
          "lifestrategy40",
          "lifestrategy40",
          "lifestrategy40",
          "lifestrategy40",
          "lifestrategy40",
          "lifestrategy40",
          "lifestrategy40",
          "lifestrategy40",
          "lifestrategy40",
          "lifestrategy40",
          "lifestrategy40",
          "lifestrategy40",
          "lifestrategy40",
          "lifestrategy40",
          "lifestrategy40",
          "lifestrategy40",
          "lifestrategy40",
          "lifestrategy40",
          "lifestrategy40",
          "lifestrategy40",
          "lifestrategy40",
          "lifestrategy40",
          "lifestrategy40",
          "lifestrategy40",
          "lifestrategy40",
          "lifestrategy40",
          "lifestrategy40",
          "lifestrategy40",
          "lifestrategy40",
          "lifestrategy40",
          "lifestrategy40",
          "lifestrategy40",
          "lifestrategy40",
          "lifestrategy40",
          "lifestrategy40",
          "lifestrategy40",
          "lifestrategy40",
          "lifestrategy40",
          "lifestrategy40",
          "lifestrategy40",
          "lifestrategy40",
          "lifestrategy40",
          "lifestrategy40",
          "lifestrategy40",
          "lifestrategy40",
          "lifestrategy40",
          "lifestrategy40",
          "lifestrategy40",
          "lifestrategy40",
          "lifestrategy40",
          "lifestrategy40",
          "lifestrategy40"
         ],
         "y0": " ",
         "yaxis": "y"
        },
        {
         "alignmentgroup": "True",
         "box": {
          "visible": false
         },
         "hoveron": "points+kde",
         "hovertemplate": "Portfolio=%{y}<br>Return=%{x}<extra></extra>",
         "legendgroup": "lifestrategy20",
         "marker": {
          "color": "#ff7f0e"
         },
         "name": "lifestrategy20",
         "offsetgroup": "lifestrategy20",
         "orientation": "h",
         "points": "all",
         "scalegroup": "True",
         "showlegend": true,
         "type": "violin",
         "x": {
          "bdata": "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",
          "dtype": "f8"
         },
         "x0": " ",
         "xaxis": "x",
         "y": [
          "lifestrategy20",
          "lifestrategy20",
          "lifestrategy20",
          "lifestrategy20",
          "lifestrategy20",
          "lifestrategy20",
          "lifestrategy20",
          "lifestrategy20",
          "lifestrategy20",
          "lifestrategy20",
          "lifestrategy20",
          "lifestrategy20",
          "lifestrategy20",
          "lifestrategy20",
          "lifestrategy20",
          "lifestrategy20",
          "lifestrategy20",
          "lifestrategy20",
          "lifestrategy20",
          "lifestrategy20",
          "lifestrategy20",
          "lifestrategy20",
          "lifestrategy20",
          "lifestrategy20",
          "lifestrategy20",
          "lifestrategy20",
          "lifestrategy20",
          "lifestrategy20",
          "lifestrategy20",
          "lifestrategy20",
          "lifestrategy20",
          "lifestrategy20",
          "lifestrategy20",
          "lifestrategy20",
          "lifestrategy20",
          "lifestrategy20",
          "lifestrategy20",
          "lifestrategy20",
          "lifestrategy20",
          "lifestrategy20",
          "lifestrategy20",
          "lifestrategy20",
          "lifestrategy20",
          "lifestrategy20",
          "lifestrategy20",
          "lifestrategy20",
          "lifestrategy20",
          "lifestrategy20",
          "lifestrategy20",
          "lifestrategy20",
          "lifestrategy20",
          "lifestrategy20",
          "lifestrategy20",
          "lifestrategy20",
          "lifestrategy20",
          "lifestrategy20",
          "lifestrategy20",
          "lifestrategy20",
          "lifestrategy20",
          "lifestrategy20",
          "lifestrategy20",
          "lifestrategy20",
          "lifestrategy20",
          "lifestrategy20",
          "lifestrategy20",
          "lifestrategy20",
          "lifestrategy20",
          "lifestrategy20",
          "lifestrategy20",
          "lifestrategy20",
          "lifestrategy20",
          "lifestrategy20",
          "lifestrategy20",
          "lifestrategy20",
          "lifestrategy20",
          "lifestrategy20",
          "lifestrategy20",
          "lifestrategy20",
          "lifestrategy20",
          "lifestrategy20",
          "lifestrategy20",
          "lifestrategy20",
          "lifestrategy20",
          "lifestrategy20",
          "lifestrategy20",
          "lifestrategy20",
          "lifestrategy20",
          "lifestrategy20",
          "lifestrategy20",
          "lifestrategy20",
          "lifestrategy20",
          "lifestrategy20",
          "lifestrategy20",
          "lifestrategy20",
          "lifestrategy20",
          "lifestrategy20",
          "lifestrategy20",
          "lifestrategy20",
          "lifestrategy20",
          "lifestrategy20",
          "lifestrategy20",
          "lifestrategy20",
          "lifestrategy20",
          "lifestrategy20",
          "lifestrategy20",
          "lifestrategy20",
          "lifestrategy20",
          "lifestrategy20",
          "lifestrategy20",
          "lifestrategy20",
          "lifestrategy20",
          "lifestrategy20",
          "lifestrategy20",
          "lifestrategy20",
          "lifestrategy20",
          "lifestrategy20",
          "lifestrategy20",
          "lifestrategy20",
          "lifestrategy20",
          "lifestrategy20",
          "lifestrategy20",
          "lifestrategy20",
          "lifestrategy20",
          "lifestrategy20",
          "lifestrategy20",
          "lifestrategy20",
          "lifestrategy20",
          "lifestrategy20",
          "lifestrategy20",
          "lifestrategy20",
          "lifestrategy20",
          "lifestrategy20",
          "lifestrategy20",
          "lifestrategy20",
          "lifestrategy20",
          "lifestrategy20",
          "lifestrategy20",
          "lifestrategy20",
          "lifestrategy20",
          "lifestrategy20",
          "lifestrategy20",
          "lifestrategy20",
          "lifestrategy20",
          "lifestrategy20",
          "lifestrategy20",
          "lifestrategy20",
          "lifestrategy20",
          "lifestrategy20",
          "lifestrategy20",
          "lifestrategy20",
          "lifestrategy20",
          "lifestrategy20",
          "lifestrategy20",
          "lifestrategy20",
          "lifestrategy20",
          "lifestrategy20",
          "lifestrategy20",
          "lifestrategy20",
          "lifestrategy20",
          "lifestrategy20",
          "lifestrategy20",
          "lifestrategy20",
          "lifestrategy20",
          "lifestrategy20",
          "lifestrategy20",
          "lifestrategy20",
          "lifestrategy20",
          "lifestrategy20",
          "lifestrategy20",
          "lifestrategy20",
          "lifestrategy20",
          "lifestrategy20",
          "lifestrategy20",
          "lifestrategy20",
          "lifestrategy20",
          "lifestrategy20",
          "lifestrategy20",
          "lifestrategy20",
          "lifestrategy20",
          "lifestrategy20",
          "lifestrategy20",
          "lifestrategy20",
          "lifestrategy20",
          "lifestrategy20",
          "lifestrategy20",
          "lifestrategy20",
          "lifestrategy20",
          "lifestrategy20",
          "lifestrategy20",
          "lifestrategy20",
          "lifestrategy20",
          "lifestrategy20",
          "lifestrategy20",
          "lifestrategy20",
          "lifestrategy20",
          "lifestrategy20",
          "lifestrategy20",
          "lifestrategy20",
          "lifestrategy20",
          "lifestrategy20",
          "lifestrategy20",
          "lifestrategy20",
          "lifestrategy20",
          "lifestrategy20",
          "lifestrategy20",
          "lifestrategy20",
          "lifestrategy20",
          "lifestrategy20",
          "lifestrategy20",
          "lifestrategy20",
          "lifestrategy20",
          "lifestrategy20",
          "lifestrategy20",
          "lifestrategy20",
          "lifestrategy20",
          "lifestrategy20",
          "lifestrategy20",
          "lifestrategy20",
          "lifestrategy20",
          "lifestrategy20",
          "lifestrategy20",
          "lifestrategy20",
          "lifestrategy20",
          "lifestrategy20",
          "lifestrategy20",
          "lifestrategy20",
          "lifestrategy20",
          "lifestrategy20",
          "lifestrategy20",
          "lifestrategy20",
          "lifestrategy20",
          "lifestrategy20",
          "lifestrategy20",
          "lifestrategy20",
          "lifestrategy20",
          "lifestrategy20",
          "lifestrategy20",
          "lifestrategy20",
          "lifestrategy20",
          "lifestrategy20",
          "lifestrategy20",
          "lifestrategy20",
          "lifestrategy20",
          "lifestrategy20",
          "lifestrategy20",
          "lifestrategy20",
          "lifestrategy20",
          "lifestrategy20",
          "lifestrategy20",
          "lifestrategy20",
          "lifestrategy20",
          "lifestrategy20",
          "lifestrategy20",
          "lifestrategy20",
          "lifestrategy20",
          "lifestrategy20",
          "lifestrategy20",
          "lifestrategy20",
          "lifestrategy20",
          "lifestrategy20",
          "lifestrategy20",
          "lifestrategy20",
          "lifestrategy20",
          "lifestrategy20",
          "lifestrategy20",
          "lifestrategy20",
          "lifestrategy20",
          "lifestrategy20",
          "lifestrategy20",
          "lifestrategy20",
          "lifestrategy20",
          "lifestrategy20",
          "lifestrategy20",
          "lifestrategy20",
          "lifestrategy20",
          "lifestrategy20",
          "lifestrategy20",
          "lifestrategy20",
          "lifestrategy20",
          "lifestrategy20",
          "lifestrategy20",
          "lifestrategy20",
          "lifestrategy20",
          "lifestrategy20",
          "lifestrategy20",
          "lifestrategy20",
          "lifestrategy20",
          "lifestrategy20",
          "lifestrategy20",
          "lifestrategy20",
          "lifestrategy20",
          "lifestrategy20",
          "lifestrategy20",
          "lifestrategy20",
          "lifestrategy20",
          "lifestrategy20",
          "lifestrategy20",
          "lifestrategy20",
          "lifestrategy20",
          "lifestrategy20",
          "lifestrategy20",
          "lifestrategy20",
          "lifestrategy20",
          "lifestrategy20",
          "lifestrategy20",
          "lifestrategy20",
          "lifestrategy20",
          "lifestrategy20",
          "lifestrategy20",
          "lifestrategy20",
          "lifestrategy20",
          "lifestrategy20",
          "lifestrategy20",
          "lifestrategy20",
          "lifestrategy20",
          "lifestrategy20",
          "lifestrategy20",
          "lifestrategy20",
          "lifestrategy20",
          "lifestrategy20",
          "lifestrategy20",
          "lifestrategy20",
          "lifestrategy20",
          "lifestrategy20",
          "lifestrategy20",
          "lifestrategy20",
          "lifestrategy20",
          "lifestrategy20",
          "lifestrategy20",
          "lifestrategy20",
          "lifestrategy20",
          "lifestrategy20",
          "lifestrategy20",
          "lifestrategy20",
          "lifestrategy20",
          "lifestrategy20",
          "lifestrategy20",
          "lifestrategy20",
          "lifestrategy20",
          "lifestrategy20",
          "lifestrategy20",
          "lifestrategy20",
          "lifestrategy20",
          "lifestrategy20",
          "lifestrategy20",
          "lifestrategy20",
          "lifestrategy20",
          "lifestrategy20",
          "lifestrategy20",
          "lifestrategy20",
          "lifestrategy20",
          "lifestrategy20",
          "lifestrategy20",
          "lifestrategy20",
          "lifestrategy20",
          "lifestrategy20",
          "lifestrategy20",
          "lifestrategy20",
          "lifestrategy20",
          "lifestrategy20",
          "lifestrategy20",
          "lifestrategy20",
          "lifestrategy20",
          "lifestrategy20",
          "lifestrategy20",
          "lifestrategy20",
          "lifestrategy20",
          "lifestrategy20",
          "lifestrategy20",
          "lifestrategy20",
          "lifestrategy20",
          "lifestrategy20",
          "lifestrategy20",
          "lifestrategy20",
          "lifestrategy20",
          "lifestrategy20",
          "lifestrategy20",
          "lifestrategy20",
          "lifestrategy20",
          "lifestrategy20",
          "lifestrategy20",
          "lifestrategy20",
          "lifestrategy20",
          "lifestrategy20",
          "lifestrategy20",
          "lifestrategy20",
          "lifestrategy20",
          "lifestrategy20",
          "lifestrategy20",
          "lifestrategy20",
          "lifestrategy20",
          "lifestrategy20",
          "lifestrategy20",
          "lifestrategy20",
          "lifestrategy20",
          "lifestrategy20",
          "lifestrategy20",
          "lifestrategy20",
          "lifestrategy20",
          "lifestrategy20",
          "lifestrategy20",
          "lifestrategy20",
          "lifestrategy20",
          "lifestrategy20",
          "lifestrategy20",
          "lifestrategy20",
          "lifestrategy20",
          "lifestrategy20",
          "lifestrategy20",
          "lifestrategy20",
          "lifestrategy20",
          "lifestrategy20",
          "lifestrategy20",
          "lifestrategy20",
          "lifestrategy20",
          "lifestrategy20",
          "lifestrategy20"
         ],
         "y0": " ",
         "yaxis": "y"
        },
        {
         "alignmentgroup": "True",
         "box": {
          "visible": false
         },
         "hoveron": "points+kde",
         "hovertemplate": "Portfolio=%{y}<br>Return=%{x}<extra></extra>",
         "legendgroup": "lifestrategy0",
         "marker": {
          "color": "#2ca02c"
         },
         "name": "lifestrategy0",
         "offsetgroup": "lifestrategy0",
         "orientation": "h",
         "points": "all",
         "scalegroup": "True",
         "showlegend": true,
         "type": "violin",
         "x": {
          "bdata": "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",
          "dtype": "f8"
         },
         "x0": " ",
         "xaxis": "x",
         "y": [
          "lifestrategy0",
          "lifestrategy0",
          "lifestrategy0",
          "lifestrategy0",
          "lifestrategy0",
          "lifestrategy0",
          "lifestrategy0",
          "lifestrategy0",
          "lifestrategy0",
          "lifestrategy0",
          "lifestrategy0",
          "lifestrategy0",
          "lifestrategy0",
          "lifestrategy0",
          "lifestrategy0",
          "lifestrategy0",
          "lifestrategy0",
          "lifestrategy0",
          "lifestrategy0",
          "lifestrategy0",
          "lifestrategy0",
          "lifestrategy0",
          "lifestrategy0",
          "lifestrategy0",
          "lifestrategy0",
          "lifestrategy0",
          "lifestrategy0",
          "lifestrategy0",
          "lifestrategy0",
          "lifestrategy0",
          "lifestrategy0",
          "lifestrategy0",
          "lifestrategy0",
          "lifestrategy0",
          "lifestrategy0",
          "lifestrategy0",
          "lifestrategy0",
          "lifestrategy0",
          "lifestrategy0",
          "lifestrategy0",
          "lifestrategy0",
          "lifestrategy0",
          "lifestrategy0",
          "lifestrategy0",
          "lifestrategy0",
          "lifestrategy0",
          "lifestrategy0",
          "lifestrategy0",
          "lifestrategy0",
          "lifestrategy0",
          "lifestrategy0",
          "lifestrategy0",
          "lifestrategy0",
          "lifestrategy0",
          "lifestrategy0",
          "lifestrategy0",
          "lifestrategy0",
          "lifestrategy0",
          "lifestrategy0",
          "lifestrategy0",
          "lifestrategy0",
          "lifestrategy0",
          "lifestrategy0",
          "lifestrategy0",
          "lifestrategy0",
          "lifestrategy0",
          "lifestrategy0",
          "lifestrategy0",
          "lifestrategy0",
          "lifestrategy0",
          "lifestrategy0",
          "lifestrategy0",
          "lifestrategy0",
          "lifestrategy0",
          "lifestrategy0",
          "lifestrategy0",
          "lifestrategy0",
          "lifestrategy0",
          "lifestrategy0",
          "lifestrategy0",
          "lifestrategy0",
          "lifestrategy0",
          "lifestrategy0",
          "lifestrategy0",
          "lifestrategy0",
          "lifestrategy0",
          "lifestrategy0",
          "lifestrategy0",
          "lifestrategy0",
          "lifestrategy0",
          "lifestrategy0",
          "lifestrategy0",
          "lifestrategy0",
          "lifestrategy0",
          "lifestrategy0",
          "lifestrategy0",
          "lifestrategy0",
          "lifestrategy0",
          "lifestrategy0",
          "lifestrategy0",
          "lifestrategy0",
          "lifestrategy0",
          "lifestrategy0",
          "lifestrategy0",
          "lifestrategy0",
          "lifestrategy0",
          "lifestrategy0",
          "lifestrategy0",
          "lifestrategy0",
          "lifestrategy0",
          "lifestrategy0",
          "lifestrategy0",
          "lifestrategy0",
          "lifestrategy0",
          "lifestrategy0",
          "lifestrategy0",
          "lifestrategy0",
          "lifestrategy0",
          "lifestrategy0",
          "lifestrategy0",
          "lifestrategy0",
          "lifestrategy0",
          "lifestrategy0",
          "lifestrategy0",
          "lifestrategy0",
          "lifestrategy0",
          "lifestrategy0",
          "lifestrategy0",
          "lifestrategy0",
          "lifestrategy0",
          "lifestrategy0",
          "lifestrategy0",
          "lifestrategy0",
          "lifestrategy0",
          "lifestrategy0",
          "lifestrategy0",
          "lifestrategy0",
          "lifestrategy0",
          "lifestrategy0",
          "lifestrategy0",
          "lifestrategy0",
          "lifestrategy0",
          "lifestrategy0",
          "lifestrategy0",
          "lifestrategy0",
          "lifestrategy0",
          "lifestrategy0",
          "lifestrategy0",
          "lifestrategy0",
          "lifestrategy0",
          "lifestrategy0",
          "lifestrategy0",
          "lifestrategy0",
          "lifestrategy0",
          "lifestrategy0",
          "lifestrategy0",
          "lifestrategy0",
          "lifestrategy0",
          "lifestrategy0",
          "lifestrategy0",
          "lifestrategy0",
          "lifestrategy0",
          "lifestrategy0",
          "lifestrategy0",
          "lifestrategy0",
          "lifestrategy0",
          "lifestrategy0",
          "lifestrategy0",
          "lifestrategy0",
          "lifestrategy0",
          "lifestrategy0",
          "lifestrategy0",
          "lifestrategy0",
          "lifestrategy0",
          "lifestrategy0",
          "lifestrategy0",
          "lifestrategy0",
          "lifestrategy0",
          "lifestrategy0",
          "lifestrategy0",
          "lifestrategy0",
          "lifestrategy0",
          "lifestrategy0",
          "lifestrategy0",
          "lifestrategy0",
          "lifestrategy0",
          "lifestrategy0",
          "lifestrategy0",
          "lifestrategy0",
          "lifestrategy0",
          "lifestrategy0",
          "lifestrategy0",
          "lifestrategy0",
          "lifestrategy0",
          "lifestrategy0",
          "lifestrategy0",
          "lifestrategy0",
          "lifestrategy0",
          "lifestrategy0",
          "lifestrategy0",
          "lifestrategy0",
          "lifestrategy0",
          "lifestrategy0",
          "lifestrategy0",
          "lifestrategy0",
          "lifestrategy0",
          "lifestrategy0",
          "lifestrategy0",
          "lifestrategy0",
          "lifestrategy0",
          "lifestrategy0",
          "lifestrategy0",
          "lifestrategy0",
          "lifestrategy0",
          "lifestrategy0",
          "lifestrategy0",
          "lifestrategy0",
          "lifestrategy0",
          "lifestrategy0",
          "lifestrategy0",
          "lifestrategy0",
          "lifestrategy0",
          "lifestrategy0",
          "lifestrategy0",
          "lifestrategy0",
          "lifestrategy0",
          "lifestrategy0",
          "lifestrategy0",
          "lifestrategy0",
          "lifestrategy0",
          "lifestrategy0",
          "lifestrategy0",
          "lifestrategy0",
          "lifestrategy0",
          "lifestrategy0",
          "lifestrategy0",
          "lifestrategy0",
          "lifestrategy0",
          "lifestrategy0",
          "lifestrategy0",
          "lifestrategy0",
          "lifestrategy0",
          "lifestrategy0",
          "lifestrategy0",
          "lifestrategy0",
          "lifestrategy0",
          "lifestrategy0",
          "lifestrategy0",
          "lifestrategy0",
          "lifestrategy0",
          "lifestrategy0",
          "lifestrategy0",
          "lifestrategy0",
          "lifestrategy0",
          "lifestrategy0",
          "lifestrategy0",
          "lifestrategy0",
          "lifestrategy0",
          "lifestrategy0",
          "lifestrategy0",
          "lifestrategy0",
          "lifestrategy0",
          "lifestrategy0",
          "lifestrategy0",
          "lifestrategy0",
          "lifestrategy0",
          "lifestrategy0",
          "lifestrategy0",
          "lifestrategy0",
          "lifestrategy0",
          "lifestrategy0",
          "lifestrategy0",
          "lifestrategy0",
          "lifestrategy0",
          "lifestrategy0",
          "lifestrategy0",
          "lifestrategy0",
          "lifestrategy0",
          "lifestrategy0",
          "lifestrategy0",
          "lifestrategy0",
          "lifestrategy0",
          "lifestrategy0",
          "lifestrategy0",
          "lifestrategy0",
          "lifestrategy0",
          "lifestrategy0",
          "lifestrategy0",
          "lifestrategy0",
          "lifestrategy0",
          "lifestrategy0",
          "lifestrategy0",
          "lifestrategy0",
          "lifestrategy0",
          "lifestrategy0",
          "lifestrategy0",
          "lifestrategy0",
          "lifestrategy0",
          "lifestrategy0",
          "lifestrategy0",
          "lifestrategy0",
          "lifestrategy0",
          "lifestrategy0",
          "lifestrategy0",
          "lifestrategy0",
          "lifestrategy0",
          "lifestrategy0",
          "lifestrategy0",
          "lifestrategy0",
          "lifestrategy0",
          "lifestrategy0",
          "lifestrategy0",
          "lifestrategy0",
          "lifestrategy0",
          "lifestrategy0",
          "lifestrategy0",
          "lifestrategy0",
          "lifestrategy0",
          "lifestrategy0",
          "lifestrategy0",
          "lifestrategy0",
          "lifestrategy0",
          "lifestrategy0",
          "lifestrategy0",
          "lifestrategy0",
          "lifestrategy0",
          "lifestrategy0",
          "lifestrategy0",
          "lifestrategy0",
          "lifestrategy0",
          "lifestrategy0",
          "lifestrategy0",
          "lifestrategy0",
          "lifestrategy0",
          "lifestrategy0",
          "lifestrategy0",
          "lifestrategy0",
          "lifestrategy0",
          "lifestrategy0",
          "lifestrategy0",
          "lifestrategy0",
          "lifestrategy0",
          "lifestrategy0",
          "lifestrategy0",
          "lifestrategy0",
          "lifestrategy0",
          "lifestrategy0",
          "lifestrategy0",
          "lifestrategy0",
          "lifestrategy0",
          "lifestrategy0",
          "lifestrategy0",
          "lifestrategy0",
          "lifestrategy0",
          "lifestrategy0",
          "lifestrategy0",
          "lifestrategy0",
          "lifestrategy0",
          "lifestrategy0",
          "lifestrategy0",
          "lifestrategy0",
          "lifestrategy0",
          "lifestrategy0",
          "lifestrategy0",
          "lifestrategy0",
          "lifestrategy0",
          "lifestrategy0",
          "lifestrategy0",
          "lifestrategy0",
          "lifestrategy0",
          "lifestrategy0",
          "lifestrategy0",
          "lifestrategy0",
          "lifestrategy0",
          "lifestrategy0",
          "lifestrategy0",
          "lifestrategy0",
          "lifestrategy0",
          "lifestrategy0",
          "lifestrategy0",
          "lifestrategy0",
          "lifestrategy0",
          "lifestrategy0",
          "lifestrategy0",
          "lifestrategy0",
          "lifestrategy0",
          "lifestrategy0",
          "lifestrategy0",
          "lifestrategy0",
          "lifestrategy0",
          "lifestrategy0",
          "lifestrategy0",
          "lifestrategy0",
          "lifestrategy0",
          "lifestrategy0",
          "lifestrategy0",
          "lifestrategy0",
          "lifestrategy0",
          "lifestrategy0",
          "lifestrategy0",
          "lifestrategy0",
          "lifestrategy0",
          "lifestrategy0",
          "lifestrategy0",
          "lifestrategy0",
          "lifestrategy0",
          "lifestrategy0",
          "lifestrategy0",
          "lifestrategy0",
          "lifestrategy0",
          "lifestrategy0",
          "lifestrategy0",
          "lifestrategy0",
          "lifestrategy0",
          "lifestrategy0",
          "lifestrategy0",
          "lifestrategy0"
         ],
         "y0": " ",
         "yaxis": "y"
        }
       ],
       "layout": {
        "annotations": [
         {
          "font": {
           "color": "#2ca02c",
           "size": 16
          },
          "showarrow": false,
          "text": "Median: 4.66%",
          "x": 0.04655,
          "xanchor": "left",
          "y": 0.4
         },
         {
          "font": {
           "color": "#2ca02c",
           "size": 16
          },
          "showarrow": false,
          "text": "5th %: -0.80%",
          "x": -0.007988,
          "xanchor": "left",
          "y": 0.35000000000000003
         },
         {
          "font": {
           "color": "#ff7f0e",
           "size": 16
          },
          "showarrow": false,
          "text": "Median: 5.46%",
          "x": 0.05459,
          "xanchor": "left",
          "y": 1.4000000000000001
         },
         {
          "font": {
           "color": "#ff7f0e",
           "size": 16
          },
          "showarrow": false,
          "text": "5th %: 0.91%",
          "x": 0.009122000000000002,
          "xanchor": "left",
          "y": 1.35
         },
         {
          "font": {
           "color": "#1f77b4",
           "size": 16
          },
          "showarrow": false,
          "text": "Median: 6.06%",
          "x": 0.06059,
          "xanchor": "left",
          "y": 2.4
         },
         {
          "font": {
           "color": "#1f77b4",
           "size": 16
          },
          "showarrow": false,
          "text": "5th %: 0.55%",
          "x": 0.005502,
          "xanchor": "left",
          "y": 2.35
         }
        ],
        "font": {
         "color": "black"
        },
        "height": 690,
        "legend": {
         "font": {
          "size": 22
         },
         "orientation": "h",
         "title": {
          "text": "Portfolio"
         },
         "tracegroupgap": 0,
         "x": 0.5,
         "xanchor": "center",
         "y": 1.05,
         "yanchor": "bottom"
        },
        "margin": {
         "t": 60
        },
        "shapes": [
         {
          "line": {
           "color": "#2ca02c",
           "width": 3
          },
          "opacity": 1,
          "type": "line",
          "x0": 0.04655,
          "x1": 0.04655,
          "xref": "x",
          "y0": -0.3,
          "y1": 0.3,
          "yref": "y"
         },
         {
          "line": {
           "color": "#2ca02c",
           "dash": "dash",
           "width": 3
          },
          "opacity": 1,
          "type": "line",
          "x0": -0.007988,
          "x1": -0.007988,
          "xref": "x",
          "y0": -0.3,
          "y1": 0.3,
          "yref": "y"
         },
         {
          "line": {
           "color": "#ff7f0e",
           "width": 3
          },
          "opacity": 1,
          "type": "line",
          "x0": 0.05459,
          "x1": 0.05459,
          "xref": "x",
          "y0": 0.7,
          "y1": 1.3,
          "yref": "y"
         },
         {
          "line": {
           "color": "#ff7f0e",
           "dash": "dash",
           "width": 3
          },
          "opacity": 1,
          "type": "line",
          "x0": 0.009122000000000002,
          "x1": 0.009122000000000002,
          "xref": "x",
          "y0": 0.7,
          "y1": 1.3,
          "yref": "y"
         },
         {
          "line": {
           "color": "#1f77b4",
           "width": 3
          },
          "opacity": 1,
          "type": "line",
          "x0": 0.06059,
          "x1": 0.06059,
          "xref": "x",
          "y0": 1.7,
          "y1": 2.3,
          "yref": "y"
         },
         {
          "line": {
           "color": "#1f77b4",
           "dash": "dash",
           "width": 3
          },
          "opacity": 1,
          "type": "line",
          "x0": 0.005502,
          "x1": 0.005502,
          "xref": "x",
          "y0": 1.7,
          "y1": 2.3,
          "yref": "y"
         }
        ],
        "template": {
         "data": {
          "bar": [
           {
            "error_x": {
             "color": "rgb(36,36,36)"
            },
            "error_y": {
             "color": "rgb(36,36,36)"
            },
            "marker": {
             "line": {
              "color": "white",
              "width": 0.5
             },
             "pattern": {
              "fillmode": "overlay",
              "size": 10,
              "solidity": 0.2
             }
            },
            "type": "bar"
           }
          ],
          "barpolar": [
           {
            "marker": {
             "line": {
              "color": "white",
              "width": 0.5
             },
             "pattern": {
              "fillmode": "overlay",
              "size": 10,
              "solidity": 0.2
             }
            },
            "type": "barpolar"
           }
          ],
          "carpet": [
           {
            "aaxis": {
             "endlinecolor": "rgb(36,36,36)",
             "gridcolor": "white",
             "linecolor": "white",
             "minorgridcolor": "white",
             "startlinecolor": "rgb(36,36,36)"
            },
            "baxis": {
             "endlinecolor": "rgb(36,36,36)",
             "gridcolor": "white",
             "linecolor": "white",
             "minorgridcolor": "white",
             "startlinecolor": "rgb(36,36,36)"
            },
            "type": "carpet"
           }
          ],
          "choropleth": [
           {
            "colorbar": {
             "outlinewidth": 1,
             "tickcolor": "rgb(36,36,36)",
             "ticks": "outside"
            },
            "type": "choropleth"
           }
          ],
          "contour": [
           {
            "colorbar": {
             "outlinewidth": 1,
             "tickcolor": "rgb(36,36,36)",
             "ticks": "outside"
            },
            "colorscale": [
             [
              0,
              "#440154"
             ],
             [
              0.1111111111111111,
              "#482878"
             ],
             [
              0.2222222222222222,
              "#3e4989"
             ],
             [
              0.3333333333333333,
              "#31688e"
             ],
             [
              0.4444444444444444,
              "#26828e"
             ],
             [
              0.5555555555555556,
              "#1f9e89"
             ],
             [
              0.6666666666666666,
              "#35b779"
             ],
             [
              0.7777777777777778,
              "#6ece58"
             ],
             [
              0.8888888888888888,
              "#b5de2b"
             ],
             [
              1,
              "#fde725"
             ]
            ],
            "type": "contour"
           }
          ],
          "contourcarpet": [
           {
            "colorbar": {
             "outlinewidth": 1,
             "tickcolor": "rgb(36,36,36)",
             "ticks": "outside"
            },
            "type": "contourcarpet"
           }
          ],
          "heatmap": [
           {
            "colorbar": {
             "outlinewidth": 1,
             "tickcolor": "rgb(36,36,36)",
             "ticks": "outside"
            },
            "colorscale": [
             [
              0,
              "#440154"
             ],
             [
              0.1111111111111111,
              "#482878"
             ],
             [
              0.2222222222222222,
              "#3e4989"
             ],
             [
              0.3333333333333333,
              "#31688e"
             ],
             [
              0.4444444444444444,
              "#26828e"
             ],
             [
              0.5555555555555556,
              "#1f9e89"
             ],
             [
              0.6666666666666666,
              "#35b779"
             ],
             [
              0.7777777777777778,
              "#6ece58"
             ],
             [
              0.8888888888888888,
              "#b5de2b"
             ],
             [
              1,
              "#fde725"
             ]
            ],
            "type": "heatmap"
           }
          ],
          "histogram": [
           {
            "marker": {
             "line": {
              "color": "white",
              "width": 0.6
             }
            },
            "type": "histogram"
           }
          ],
          "histogram2d": [
           {
            "colorbar": {
             "outlinewidth": 1,
             "tickcolor": "rgb(36,36,36)",
             "ticks": "outside"
            },
            "colorscale": [
             [
              0,
              "#440154"
             ],
             [
              0.1111111111111111,
              "#482878"
             ],
             [
              0.2222222222222222,
              "#3e4989"
             ],
             [
              0.3333333333333333,
              "#31688e"
             ],
             [
              0.4444444444444444,
              "#26828e"
             ],
             [
              0.5555555555555556,
              "#1f9e89"
             ],
             [
              0.6666666666666666,
              "#35b779"
             ],
             [
              0.7777777777777778,
              "#6ece58"
             ],
             [
              0.8888888888888888,
              "#b5de2b"
             ],
             [
              1,
              "#fde725"
             ]
            ],
            "type": "histogram2d"
           }
          ],
          "histogram2dcontour": [
           {
            "colorbar": {
             "outlinewidth": 1,
             "tickcolor": "rgb(36,36,36)",
             "ticks": "outside"
            },
            "colorscale": [
             [
              0,
              "#440154"
             ],
             [
              0.1111111111111111,
              "#482878"
             ],
             [
              0.2222222222222222,
              "#3e4989"
             ],
             [
              0.3333333333333333,
              "#31688e"
             ],
             [
              0.4444444444444444,
              "#26828e"
             ],
             [
              0.5555555555555556,
              "#1f9e89"
             ],
             [
              0.6666666666666666,
              "#35b779"
             ],
             [
              0.7777777777777778,
              "#6ece58"
             ],
             [
              0.8888888888888888,
              "#b5de2b"
             ],
             [
              1,
              "#fde725"
             ]
            ],
            "type": "histogram2dcontour"
           }
          ],
          "mesh3d": [
           {
            "colorbar": {
             "outlinewidth": 1,
             "tickcolor": "rgb(36,36,36)",
             "ticks": "outside"
            },
            "type": "mesh3d"
           }
          ],
          "parcoords": [
           {
            "line": {
             "colorbar": {
              "outlinewidth": 1,
              "tickcolor": "rgb(36,36,36)",
              "ticks": "outside"
             }
            },
            "type": "parcoords"
           }
          ],
          "pie": [
           {
            "automargin": true,
            "type": "pie"
           }
          ],
          "scatter": [
           {
            "fillpattern": {
             "fillmode": "overlay",
             "size": 10,
             "solidity": 0.2
            },
            "type": "scatter"
           }
          ],
          "scatter3d": [
           {
            "line": {
             "colorbar": {
              "outlinewidth": 1,
              "tickcolor": "rgb(36,36,36)",
              "ticks": "outside"
             }
            },
            "marker": {
             "colorbar": {
              "outlinewidth": 1,
              "tickcolor": "rgb(36,36,36)",
              "ticks": "outside"
             }
            },
            "type": "scatter3d"
           }
          ],
          "scattercarpet": [
           {
            "marker": {
             "colorbar": {
              "outlinewidth": 1,
              "tickcolor": "rgb(36,36,36)",
              "ticks": "outside"
             }
            },
            "type": "scattercarpet"
           }
          ],
          "scattergeo": [
           {
            "marker": {
             "colorbar": {
              "outlinewidth": 1,
              "tickcolor": "rgb(36,36,36)",
              "ticks": "outside"
             }
            },
            "type": "scattergeo"
           }
          ],
          "scattergl": [
           {
            "marker": {
             "colorbar": {
              "outlinewidth": 1,
              "tickcolor": "rgb(36,36,36)",
              "ticks": "outside"
             }
            },
            "type": "scattergl"
           }
          ],
          "scattermap": [
           {
            "marker": {
             "colorbar": {
              "outlinewidth": 1,
              "tickcolor": "rgb(36,36,36)",
              "ticks": "outside"
             }
            },
            "type": "scattermap"
           }
          ],
          "scattermapbox": [
           {
            "marker": {
             "colorbar": {
              "outlinewidth": 1,
              "tickcolor": "rgb(36,36,36)",
              "ticks": "outside"
             }
            },
            "type": "scattermapbox"
           }
          ],
          "scatterpolar": [
           {
            "marker": {
             "colorbar": {
              "outlinewidth": 1,
              "tickcolor": "rgb(36,36,36)",
              "ticks": "outside"
             }
            },
            "type": "scatterpolar"
           }
          ],
          "scatterpolargl": [
           {
            "marker": {
             "colorbar": {
              "outlinewidth": 1,
              "tickcolor": "rgb(36,36,36)",
              "ticks": "outside"
             }
            },
            "type": "scatterpolargl"
           }
          ],
          "scatterternary": [
           {
            "marker": {
             "colorbar": {
              "outlinewidth": 1,
              "tickcolor": "rgb(36,36,36)",
              "ticks": "outside"
             }
            },
            "type": "scatterternary"
           }
          ],
          "surface": [
           {
            "colorbar": {
             "outlinewidth": 1,
             "tickcolor": "rgb(36,36,36)",
             "ticks": "outside"
            },
            "colorscale": [
             [
              0,
              "#440154"
             ],
             [
              0.1111111111111111,
              "#482878"
             ],
             [
              0.2222222222222222,
              "#3e4989"
             ],
             [
              0.3333333333333333,
              "#31688e"
             ],
             [
              0.4444444444444444,
              "#26828e"
             ],
             [
              0.5555555555555556,
              "#1f9e89"
             ],
             [
              0.6666666666666666,
              "#35b779"
             ],
             [
              0.7777777777777778,
              "#6ece58"
             ],
             [
              0.8888888888888888,
              "#b5de2b"
             ],
             [
              1,
              "#fde725"
             ]
            ],
            "type": "surface"
           }
          ],
          "table": [
           {
            "cells": {
             "fill": {
              "color": "rgb(237,237,237)"
             },
             "line": {
              "color": "white"
             }
            },
            "header": {
             "fill": {
              "color": "rgb(217,217,217)"
             },
             "line": {
              "color": "white"
             }
            },
            "type": "table"
           }
          ]
         },
         "layout": {
          "annotationdefaults": {
           "arrowhead": 0,
           "arrowwidth": 1
          },
          "autotypenumbers": "strict",
          "coloraxis": {
           "colorbar": {
            "outlinewidth": 1,
            "tickcolor": "rgb(36,36,36)",
            "ticks": "outside"
           }
          },
          "colorscale": {
           "diverging": [
            [
             0,
             "rgb(103,0,31)"
            ],
            [
             0.1,
             "rgb(178,24,43)"
            ],
            [
             0.2,
             "rgb(214,96,77)"
            ],
            [
             0.3,
             "rgb(244,165,130)"
            ],
            [
             0.4,
             "rgb(253,219,199)"
            ],
            [
             0.5,
             "rgb(247,247,247)"
            ],
            [
             0.6,
             "rgb(209,229,240)"
            ],
            [
             0.7,
             "rgb(146,197,222)"
            ],
            [
             0.8,
             "rgb(67,147,195)"
            ],
            [
             0.9,
             "rgb(33,102,172)"
            ],
            [
             1,
             "rgb(5,48,97)"
            ]
           ],
           "sequential": [
            [
             0,
             "#440154"
            ],
            [
             0.1111111111111111,
             "#482878"
            ],
            [
             0.2222222222222222,
             "#3e4989"
            ],
            [
             0.3333333333333333,
             "#31688e"
            ],
            [
             0.4444444444444444,
             "#26828e"
            ],
            [
             0.5555555555555556,
             "#1f9e89"
            ],
            [
             0.6666666666666666,
             "#35b779"
            ],
            [
             0.7777777777777778,
             "#6ece58"
            ],
            [
             0.8888888888888888,
             "#b5de2b"
            ],
            [
             1,
             "#fde725"
            ]
           ],
           "sequentialminus": [
            [
             0,
             "#440154"
            ],
            [
             0.1111111111111111,
             "#482878"
            ],
            [
             0.2222222222222222,
             "#3e4989"
            ],
            [
             0.3333333333333333,
             "#31688e"
            ],
            [
             0.4444444444444444,
             "#26828e"
            ],
            [
             0.5555555555555556,
             "#1f9e89"
            ],
            [
             0.6666666666666666,
             "#35b779"
            ],
            [
             0.7777777777777778,
             "#6ece58"
            ],
            [
             0.8888888888888888,
             "#b5de2b"
            ],
            [
             1,
             "#fde725"
            ]
           ]
          },
          "colorway": [
           "#1F77B4",
           "#FF7F0E",
           "#2CA02C",
           "#D62728",
           "#9467BD",
           "#8C564B",
           "#E377C2",
           "#7F7F7F",
           "#BCBD22",
           "#17BECF"
          ],
          "font": {
           "color": "rgb(36,36,36)"
          },
          "geo": {
           "bgcolor": "white",
           "lakecolor": "white",
           "landcolor": "white",
           "showlakes": true,
           "showland": true,
           "subunitcolor": "white"
          },
          "hoverlabel": {
           "align": "left"
          },
          "hovermode": "closest",
          "mapbox": {
           "style": "light"
          },
          "paper_bgcolor": "white",
          "plot_bgcolor": "white",
          "polar": {
           "angularaxis": {
            "gridcolor": "rgb(232,232,232)",
            "linecolor": "rgb(36,36,36)",
            "showgrid": false,
            "showline": true,
            "ticks": "outside"
           },
           "bgcolor": "white",
           "radialaxis": {
            "gridcolor": "rgb(232,232,232)",
            "linecolor": "rgb(36,36,36)",
            "showgrid": false,
            "showline": true,
            "ticks": "outside"
           }
          },
          "scene": {
           "xaxis": {
            "backgroundcolor": "white",
            "gridcolor": "rgb(232,232,232)",
            "gridwidth": 2,
            "linecolor": "rgb(36,36,36)",
            "showbackground": true,
            "showgrid": false,
            "showline": true,
            "ticks": "outside",
            "zeroline": false,
            "zerolinecolor": "rgb(36,36,36)"
           },
           "yaxis": {
            "backgroundcolor": "white",
            "gridcolor": "rgb(232,232,232)",
            "gridwidth": 2,
            "linecolor": "rgb(36,36,36)",
            "showbackground": true,
            "showgrid": false,
            "showline": true,
            "ticks": "outside",
            "zeroline": false,
            "zerolinecolor": "rgb(36,36,36)"
           },
           "zaxis": {
            "backgroundcolor": "white",
            "gridcolor": "rgb(232,232,232)",
            "gridwidth": 2,
            "linecolor": "rgb(36,36,36)",
            "showbackground": true,
            "showgrid": false,
            "showline": true,
            "ticks": "outside",
            "zeroline": false,
            "zerolinecolor": "rgb(36,36,36)"
           }
          },
          "shapedefaults": {
           "fillcolor": "black",
           "line": {
            "width": 0
           },
           "opacity": 0.3
          },
          "ternary": {
           "aaxis": {
            "gridcolor": "rgb(232,232,232)",
            "linecolor": "rgb(36,36,36)",
            "showgrid": false,
            "showline": true,
            "ticks": "outside"
           },
           "baxis": {
            "gridcolor": "rgb(232,232,232)",
            "linecolor": "rgb(36,36,36)",
            "showgrid": false,
            "showline": true,
            "ticks": "outside"
           },
           "bgcolor": "white",
           "caxis": {
            "gridcolor": "rgb(232,232,232)",
            "linecolor": "rgb(36,36,36)",
            "showgrid": false,
            "showline": true,
            "ticks": "outside"
           }
          },
          "title": {
           "x": 0.05
          },
          "xaxis": {
           "automargin": true,
           "gridcolor": "rgb(232,232,232)",
           "linecolor": "rgb(36,36,36)",
           "showgrid": false,
           "showline": true,
           "ticks": "outside",
           "title": {
            "standoff": 15
           },
           "zeroline": false,
           "zerolinecolor": "rgb(36,36,36)"
          },
          "yaxis": {
           "automargin": true,
           "gridcolor": "rgb(232,232,232)",
           "linecolor": "rgb(36,36,36)",
           "showgrid": false,
           "showline": true,
           "ticks": "outside",
           "title": {
            "standoff": 15
           },
           "zeroline": false,
           "zerolinecolor": "rgb(36,36,36)"
          }
         }
        },
        "title": {
         "text": " "
        },
        "violingap": 0.25,
        "violinmode": "overlay",
        "width": 1200,
        "xaxis": {
         "anchor": "y",
         "domain": [
          0,
          1
         ],
         "gridcolor": "lightgray",
         "linecolor": "black",
         "linewidth": 2,
         "showgrid": true,
         "tickfont": {
          "color": "black",
          "size": 16
         },
         "tickformat": ".0%",
         "title": {
          "font": {
           "color": "black",
           "family": "Arial",
           "size": 22
          },
          "text": "Annualized Return (%)"
         }
        },
        "yaxis": {
         "anchor": "x",
         "categoryarray": [
          "lifestrategy0",
          "lifestrategy20",
          "lifestrategy40"
         ],
         "categoryorder": "array",
         "domain": [
          0,
          1
         ],
         "gridcolor": "lightgray",
         "linecolor": "black",
         "linewidth": 2,
         "showgrid": true,
         "tickfont": {
          "color": "black",
          "size": 16
         },
         "title": {
          "font": {
           "color": "black",
           "family": "Arial",
           "size": 22
          },
          "text": "Portfolio"
         }
        }
       }
      }
     },
     "metadata": {},
     "output_type": "display_data"
    }
   ],
   "source": [
    "plot_return_distributions_streamlit(final_results)"
   ]
  },
  {
   "cell_type": "code",
   "execution_count": null,
   "metadata": {},
   "outputs": [],
   "source": []
  },
  {
   "cell_type": "code",
   "execution_count": 66,
   "metadata": {},
   "outputs": [
    {
     "data": {
      "application/vnd.microsoft.datawrangler.viewer.v0+json": {
       "columns": [
        {
         "name": "index",
         "rawType": "int64",
         "type": "integer"
        },
        {
         "name": "Date",
         "rawType": "object",
         "type": "string"
        },
        {
         "name": "Portfolio",
         "rawType": "object",
         "type": "string"
        },
        {
         "name": "Return",
         "rawType": "float64",
         "type": "float"
        }
       ],
       "ref": "4ec720bc-8740-4d0c-98fe-a0be6cb24596",
       "rows": [
        [
         "0",
         "01/1985",
         "lifestrategy40",
         "0.06822"
        ],
        [
         "1",
         "02/1985",
         "lifestrategy40",
         "0.05483"
        ],
        [
         "2",
         "03/1985",
         "lifestrategy40",
         "0.04962"
        ],
        [
         "3",
         "04/1985",
         "lifestrategy40",
         "0.05091"
        ],
        [
         "4",
         "05/1985",
         "lifestrategy40",
         "0.05535"
        ],
        [
         "5",
         "06/1985",
         "lifestrategy40",
         "0.05411"
        ],
        [
         "6",
         "07/1985",
         "lifestrategy40",
         "0.05762"
        ],
        [
         "7",
         "08/1985",
         "lifestrategy40",
         "0.04241"
        ],
        [
         "8",
         "09/1985",
         "lifestrategy40",
         "0.03182"
        ],
        [
         "9",
         "10/1985",
         "lifestrategy40",
         "0.03958"
        ],
        [
         "10",
         "11/1985",
         "lifestrategy40",
         "0.03536"
        ],
        [
         "11",
         "12/1985",
         "lifestrategy40",
         "0.03624"
        ],
        [
         "12",
         "01/1986",
         "lifestrategy40",
         "0.04158"
        ],
        [
         "13",
         "02/1986",
         "lifestrategy40",
         "0.04792"
        ],
        [
         "14",
         "03/1986",
         "lifestrategy40",
         "0.04631"
        ],
        [
         "15",
         "04/1986",
         "lifestrategy40",
         "0.05438"
        ],
        [
         "16",
         "05/1986",
         "lifestrategy40",
         "0.05929"
        ],
        [
         "17",
         "06/1986",
         "lifestrategy40",
         "0.05699"
        ],
        [
         "18",
         "07/1986",
         "lifestrategy40",
         "0.06248"
        ],
        [
         "19",
         "08/1986",
         "lifestrategy40",
         "0.05804"
        ],
        [
         "20",
         "09/1986",
         "lifestrategy40",
         "0.06334"
        ],
        [
         "21",
         "10/1986",
         "lifestrategy40",
         "0.06765"
        ],
        [
         "22",
         "11/1986",
         "lifestrategy40",
         "0.05796"
        ],
        [
         "23",
         "12/1986",
         "lifestrategy40",
         "0.06008"
        ],
        [
         "24",
         "01/1987",
         "lifestrategy40",
         "0.06089"
        ],
        [
         "25",
         "02/1987",
         "lifestrategy40",
         "0.06028"
        ],
        [
         "26",
         "03/1987",
         "lifestrategy40",
         "0.05229"
        ],
        [
         "27",
         "04/1987",
         "lifestrategy40",
         "0.04985"
        ],
        [
         "28",
         "05/1987",
         "lifestrategy40",
         "0.05118"
        ],
        [
         "29",
         "06/1987",
         "lifestrategy40",
         "0.0433"
        ],
        [
         "30",
         "07/1987",
         "lifestrategy40",
         "0.03781"
        ],
        [
         "31",
         "08/1987",
         "lifestrategy40",
         "0.03228"
        ],
        [
         "32",
         "09/1987",
         "lifestrategy40",
         "0.04535"
        ],
        [
         "33",
         "10/1987",
         "lifestrategy40",
         "0.06623"
        ],
        [
         "34",
         "11/1987",
         "lifestrategy40",
         "0.08436"
        ],
        [
         "35",
         "12/1987",
         "lifestrategy40",
         "0.0876"
        ],
        [
         "36",
         "01/1988",
         "lifestrategy40",
         "0.07993"
        ],
        [
         "37",
         "02/1988",
         "lifestrategy40",
         "0.08201"
        ],
        [
         "38",
         "03/1988",
         "lifestrategy40",
         "0.08511"
        ],
        [
         "39",
         "04/1988",
         "lifestrategy40",
         "0.08442"
        ],
        [
         "40",
         "05/1988",
         "lifestrategy40",
         "0.08621"
        ],
        [
         "41",
         "06/1988",
         "lifestrategy40",
         "0.09016"
        ],
        [
         "42",
         "07/1988",
         "lifestrategy40",
         "0.09411"
        ],
        [
         "43",
         "08/1988",
         "lifestrategy40",
         "0.10034"
        ],
        [
         "44",
         "09/1988",
         "lifestrategy40",
         "0.08797"
        ],
        [
         "45",
         "10/1988",
         "lifestrategy40",
         "0.09058"
        ],
        [
         "46",
         "11/1988",
         "lifestrategy40",
         "0.09272"
        ],
        [
         "47",
         "12/1988",
         "lifestrategy40",
         "0.09568"
        ],
        [
         "48",
         "01/1989",
         "lifestrategy40",
         "0.09156"
        ],
        [
         "49",
         "02/1989",
         "lifestrategy40",
         "0.08983"
        ]
       ],
       "shape": {
        "columns": 3,
        "rows": 1251
       }
      },
      "text/html": [
       "<div>\n",
       "<style scoped>\n",
       "    .dataframe tbody tr th:only-of-type {\n",
       "        vertical-align: middle;\n",
       "    }\n",
       "\n",
       "    .dataframe tbody tr th {\n",
       "        vertical-align: top;\n",
       "    }\n",
       "\n",
       "    .dataframe thead th {\n",
       "        text-align: right;\n",
       "    }\n",
       "</style>\n",
       "<table border=\"1\" class=\"dataframe\">\n",
       "  <thead>\n",
       "    <tr style=\"text-align: right;\">\n",
       "      <th></th>\n",
       "      <th>Date</th>\n",
       "      <th>Portfolio</th>\n",
       "      <th>Return</th>\n",
       "    </tr>\n",
       "  </thead>\n",
       "  <tbody>\n",
       "    <tr>\n",
       "      <th>0</th>\n",
       "      <td>01/1985</td>\n",
       "      <td>lifestrategy40</td>\n",
       "      <td>0.06822</td>\n",
       "    </tr>\n",
       "    <tr>\n",
       "      <th>1</th>\n",
       "      <td>02/1985</td>\n",
       "      <td>lifestrategy40</td>\n",
       "      <td>0.05483</td>\n",
       "    </tr>\n",
       "    <tr>\n",
       "      <th>2</th>\n",
       "      <td>03/1985</td>\n",
       "      <td>lifestrategy40</td>\n",
       "      <td>0.04962</td>\n",
       "    </tr>\n",
       "    <tr>\n",
       "      <th>3</th>\n",
       "      <td>04/1985</td>\n",
       "      <td>lifestrategy40</td>\n",
       "      <td>0.05091</td>\n",
       "    </tr>\n",
       "    <tr>\n",
       "      <th>4</th>\n",
       "      <td>05/1985</td>\n",
       "      <td>lifestrategy40</td>\n",
       "      <td>0.05535</td>\n",
       "    </tr>\n",
       "    <tr>\n",
       "      <th>...</th>\n",
       "      <td>...</td>\n",
       "      <td>...</td>\n",
       "      <td>...</td>\n",
       "    </tr>\n",
       "    <tr>\n",
       "      <th>1246</th>\n",
       "      <td>12/2019</td>\n",
       "      <td>lifestrategy0</td>\n",
       "      <td>-0.01693</td>\n",
       "    </tr>\n",
       "    <tr>\n",
       "      <th>1247</th>\n",
       "      <td>01/2020</td>\n",
       "      <td>lifestrategy0</td>\n",
       "      <td>-0.02266</td>\n",
       "    </tr>\n",
       "    <tr>\n",
       "      <th>1248</th>\n",
       "      <td>02/2020</td>\n",
       "      <td>lifestrategy0</td>\n",
       "      <td>-0.02336</td>\n",
       "    </tr>\n",
       "    <tr>\n",
       "      <th>1249</th>\n",
       "      <td>03/2020</td>\n",
       "      <td>lifestrategy0</td>\n",
       "      <td>-0.02886</td>\n",
       "    </tr>\n",
       "    <tr>\n",
       "      <th>1250</th>\n",
       "      <td>04/2020</td>\n",
       "      <td>lifestrategy0</td>\n",
       "      <td>-0.03455</td>\n",
       "    </tr>\n",
       "  </tbody>\n",
       "</table>\n",
       "<p>1251 rows × 3 columns</p>\n",
       "</div>"
      ],
      "text/plain": [
       "         Date       Portfolio   Return\n",
       "0     01/1985  lifestrategy40  0.06822\n",
       "1     02/1985  lifestrategy40  0.05483\n",
       "2     03/1985  lifestrategy40  0.04962\n",
       "3     04/1985  lifestrategy40  0.05091\n",
       "4     05/1985  lifestrategy40  0.05535\n",
       "...       ...             ...      ...\n",
       "1246  12/2019   lifestrategy0 -0.01693\n",
       "1247  01/2020   lifestrategy0 -0.02266\n",
       "1248  02/2020   lifestrategy0 -0.02336\n",
       "1249  03/2020   lifestrategy0 -0.02886\n",
       "1250  04/2020   lifestrategy0 -0.03455\n",
       "\n",
       "[1251 rows x 3 columns]"
      ]
     },
     "execution_count": 66,
     "metadata": {},
     "output_type": "execute_result"
    }
   ],
   "source": [
    "def _prepare_data(df):\n",
    "    returns_df = df.dropna(how='all')\n",
    "    long_df = returns_df.melt(id_vars='Date', var_name='Portfolio', value_name='Return').dropna()\n",
    "    return long_df\n",
    "\n",
    "_prepare_data(final_results)\n"
   ]
  },
  {
   "cell_type": "code",
   "execution_count": 61,
   "metadata": {},
   "outputs": [
    {
     "data": {
      "application/vnd.microsoft.datawrangler.viewer.v0+json": {
       "columns": [
        {
         "name": "index",
         "rawType": "int64",
         "type": "integer"
        },
        {
         "name": "Date",
         "rawType": "object",
         "type": "string"
        },
        {
         "name": "lifestrategy40",
         "rawType": "float64",
         "type": "float"
        },
        {
         "name": "lifestrategy20",
         "rawType": "float64",
         "type": "float"
        },
        {
         "name": "lifestrategy0",
         "rawType": "float64",
         "type": "float"
        }
       ],
       "ref": "5c3096b1-80f1-4536-9917-edfa59ea4b03",
       "rows": [
        [
         "0",
         "01/1985",
         "0.06822",
         "0.04877",
         "0.02775"
        ],
        [
         "1",
         "02/1985",
         "0.05483",
         "0.03868",
         "0.02145"
        ],
        [
         "2",
         "03/1985",
         "0.04962",
         "0.03852",
         "0.02692"
        ],
        [
         "3",
         "04/1985",
         "0.05091",
         "0.03625",
         "0.02072"
        ],
        [
         "4",
         "05/1985",
         "0.05535",
         "0.04015",
         "0.02401"
        ],
        [
         "5",
         "06/1985",
         "0.05411",
         "0.03845",
         "0.0218"
        ],
        [
         "6",
         "07/1985",
         "0.05762",
         "0.04271",
         "0.0269"
        ],
        [
         "7",
         "08/1985",
         "0.04241",
         "0.03153",
         "0.02017"
        ],
        [
         "8",
         "09/1985",
         "0.03182",
         "0.02751",
         "0.02313"
        ],
        [
         "9",
         "10/1985",
         "0.03958",
         "0.03273",
         "0.0257"
        ],
        [
         "10",
         "11/1985",
         "0.03536",
         "0.0324",
         "0.0294"
        ],
        [
         "11",
         "12/1985",
         "0.03624",
         "0.03282",
         "0.02936"
        ],
        [
         "12",
         "01/1986",
         "0.04158",
         "0.03675",
         "0.03183"
        ],
        [
         "13",
         "02/1986",
         "0.04792",
         "0.04344",
         "0.03888"
        ],
        [
         "14",
         "03/1986",
         "0.04631",
         "0.04206",
         "0.03774"
        ],
        [
         "15",
         "04/1986",
         "0.05438",
         "0.05093",
         "0.04744"
        ],
        [
         "16",
         "05/1986",
         "0.05929",
         "0.05333",
         "0.04722"
        ],
        [
         "17",
         "06/1986",
         "0.05699",
         "0.05553",
         "0.05406"
        ],
        [
         "18",
         "07/1986",
         "0.06248",
         "0.05779",
         "0.05302"
        ],
        [
         "19",
         "08/1986",
         "0.05804",
         "0.05765",
         "0.05726"
        ],
        [
         "20",
         "09/1986",
         "0.06334",
         "0.06141",
         "0.05947"
        ],
        [
         "21",
         "10/1986",
         "0.06765",
         "0.06402",
         "0.06033"
        ],
        [
         "22",
         "11/1986",
         "0.05796",
         "0.06067",
         "0.06336"
        ],
        [
         "23",
         "12/1986",
         "0.06008",
         "0.06127",
         "0.06246"
        ],
        [
         "24",
         "01/1987",
         "0.06089",
         "0.0664",
         "0.07179"
        ],
        [
         "25",
         "02/1987",
         "0.06028",
         "0.06625",
         "0.0721"
        ],
        [
         "26",
         "03/1987",
         "0.05229",
         "0.06084",
         "0.06912"
        ],
        [
         "27",
         "04/1987",
         "0.04985",
         "0.06",
         "0.06977"
        ],
        [
         "28",
         "05/1987",
         "0.05118",
         "0.05994",
         "0.06842"
        ],
        [
         "29",
         "06/1987",
         "0.0433",
         "0.05445",
         "0.06515"
        ],
        [
         "30",
         "07/1987",
         "0.03781",
         "0.05181",
         "0.0651"
        ],
        [
         "31",
         "08/1987",
         "0.03228",
         "0.04823",
         "0.06326"
        ],
        [
         "32",
         "09/1987",
         "0.04535",
         "0.06178",
         "0.07725"
        ],
        [
         "33",
         "10/1987",
         "0.06623",
         "0.07718",
         "0.08771"
        ],
        [
         "34",
         "11/1987",
         "0.08436",
         "0.09035",
         "0.09621"
        ],
        [
         "35",
         "12/1987",
         "0.0876",
         "0.09484",
         "0.10189"
        ],
        [
         "36",
         "01/1988",
         "0.07993",
         "0.08562",
         "0.09119"
        ],
        [
         "37",
         "02/1988",
         "0.08201",
         "0.09066",
         "0.09904"
        ],
        [
         "38",
         "03/1988",
         "0.08511",
         "0.09185",
         "0.09843"
        ],
        [
         "39",
         "04/1988",
         "0.08442",
         "0.09069",
         "0.09682"
        ],
        [
         "40",
         "05/1988",
         "0.08621",
         "0.0907",
         "0.09511"
        ],
        [
         "41",
         "06/1988",
         "0.09016",
         "0.09683",
         "0.10334"
        ],
        [
         "42",
         "07/1988",
         "0.09411",
         "0.10234",
         "0.11032"
        ],
        [
         "43",
         "08/1988",
         "0.10034",
         "0.1048",
         "0.10918"
        ],
        [
         "44",
         "09/1988",
         "0.08797",
         "0.09479",
         "0.10145"
        ],
        [
         "45",
         "10/1988",
         "0.09058",
         "0.09822",
         "0.10566"
        ],
        [
         "46",
         "11/1988",
         "0.09272",
         "0.10256",
         "0.11207"
        ],
        [
         "47",
         "12/1988",
         "0.09568",
         "0.10409",
         "0.11225"
        ],
        [
         "48",
         "01/1989",
         "0.09156",
         "0.09856",
         "0.1054"
        ],
        [
         "49",
         "02/1989",
         "0.08983",
         "0.09778",
         "0.1055"
        ]
       ],
       "shape": {
        "columns": 4,
        "rows": 417
       }
      },
      "text/html": [
       "<div>\n",
       "<style scoped>\n",
       "    .dataframe tbody tr th:only-of-type {\n",
       "        vertical-align: middle;\n",
       "    }\n",
       "\n",
       "    .dataframe tbody tr th {\n",
       "        vertical-align: top;\n",
       "    }\n",
       "\n",
       "    .dataframe thead th {\n",
       "        text-align: right;\n",
       "    }\n",
       "</style>\n",
       "<table border=\"1\" class=\"dataframe\">\n",
       "  <thead>\n",
       "    <tr style=\"text-align: right;\">\n",
       "      <th></th>\n",
       "      <th>Date</th>\n",
       "      <th>lifestrategy40</th>\n",
       "      <th>lifestrategy20</th>\n",
       "      <th>lifestrategy0</th>\n",
       "    </tr>\n",
       "  </thead>\n",
       "  <tbody>\n",
       "    <tr>\n",
       "      <th>0</th>\n",
       "      <td>01/1985</td>\n",
       "      <td>0.06822</td>\n",
       "      <td>0.04877</td>\n",
       "      <td>0.02775</td>\n",
       "    </tr>\n",
       "    <tr>\n",
       "      <th>1</th>\n",
       "      <td>02/1985</td>\n",
       "      <td>0.05483</td>\n",
       "      <td>0.03868</td>\n",
       "      <td>0.02145</td>\n",
       "    </tr>\n",
       "    <tr>\n",
       "      <th>2</th>\n",
       "      <td>03/1985</td>\n",
       "      <td>0.04962</td>\n",
       "      <td>0.03852</td>\n",
       "      <td>0.02692</td>\n",
       "    </tr>\n",
       "    <tr>\n",
       "      <th>3</th>\n",
       "      <td>04/1985</td>\n",
       "      <td>0.05091</td>\n",
       "      <td>0.03625</td>\n",
       "      <td>0.02072</td>\n",
       "    </tr>\n",
       "    <tr>\n",
       "      <th>4</th>\n",
       "      <td>05/1985</td>\n",
       "      <td>0.05535</td>\n",
       "      <td>0.04015</td>\n",
       "      <td>0.02401</td>\n",
       "    </tr>\n",
       "    <tr>\n",
       "      <th>...</th>\n",
       "      <td>...</td>\n",
       "      <td>...</td>\n",
       "      <td>...</td>\n",
       "      <td>...</td>\n",
       "    </tr>\n",
       "    <tr>\n",
       "      <th>412</th>\n",
       "      <td>12/2019</td>\n",
       "      <td>0.05147</td>\n",
       "      <td>0.01956</td>\n",
       "      <td>-0.01693</td>\n",
       "    </tr>\n",
       "    <tr>\n",
       "      <th>413</th>\n",
       "      <td>01/2020</td>\n",
       "      <td>0.05180</td>\n",
       "      <td>0.01729</td>\n",
       "      <td>-0.02266</td>\n",
       "    </tr>\n",
       "    <tr>\n",
       "      <th>414</th>\n",
       "      <td>02/2020</td>\n",
       "      <td>0.06059</td>\n",
       "      <td>0.02205</td>\n",
       "      <td>-0.02336</td>\n",
       "    </tr>\n",
       "    <tr>\n",
       "      <th>415</th>\n",
       "      <td>03/2020</td>\n",
       "      <td>0.06562</td>\n",
       "      <td>0.02273</td>\n",
       "      <td>-0.02886</td>\n",
       "    </tr>\n",
       "    <tr>\n",
       "      <th>416</th>\n",
       "      <td>04/2020</td>\n",
       "      <td>0.04363</td>\n",
       "      <td>0.00757</td>\n",
       "      <td>-0.03455</td>\n",
       "    </tr>\n",
       "  </tbody>\n",
       "</table>\n",
       "<p>417 rows × 4 columns</p>\n",
       "</div>"
      ],
      "text/plain": [
       "        Date  lifestrategy40  lifestrategy20  lifestrategy0\n",
       "0    01/1985         0.06822         0.04877        0.02775\n",
       "1    02/1985         0.05483         0.03868        0.02145\n",
       "2    03/1985         0.04962         0.03852        0.02692\n",
       "3    04/1985         0.05091         0.03625        0.02072\n",
       "4    05/1985         0.05535         0.04015        0.02401\n",
       "..       ...             ...             ...            ...\n",
       "412  12/2019         0.05147         0.01956       -0.01693\n",
       "413  01/2020         0.05180         0.01729       -0.02266\n",
       "414  02/2020         0.06059         0.02205       -0.02336\n",
       "415  03/2020         0.06562         0.02273       -0.02886\n",
       "416  04/2020         0.04363         0.00757       -0.03455\n",
       "\n",
       "[417 rows x 4 columns]"
      ]
     },
     "execution_count": 61,
     "metadata": {},
     "output_type": "execute_result"
    }
   ],
   "source": [
    "final_results"
   ]
  },
  {
   "cell_type": "code",
   "execution_count": 64,
   "metadata": {},
   "outputs": [
    {
     "data": {
      "application/vnd.microsoft.datawrangler.viewer.v0+json": {
       "columns": [
        {
         "name": "index",
         "rawType": "int64",
         "type": "integer"
        },
        {
         "name": "Date",
         "rawType": "object",
         "type": "string"
        },
        {
         "name": "Portfolio",
         "rawType": "object",
         "type": "string"
        },
        {
         "name": "Return",
         "rawType": "float64",
         "type": "float"
        }
       ],
       "ref": "44c2626a-7de6-45fe-9746-f34bbcf26c96",
       "rows": [
        [
         "0",
         "01/1985",
         "lifestrategy40",
         "0.06822"
        ],
        [
         "1",
         "02/1985",
         "lifestrategy40",
         "0.05483"
        ],
        [
         "2",
         "03/1985",
         "lifestrategy40",
         "0.04962"
        ],
        [
         "3",
         "04/1985",
         "lifestrategy40",
         "0.05091"
        ],
        [
         "4",
         "05/1985",
         "lifestrategy40",
         "0.05535"
        ],
        [
         "5",
         "06/1985",
         "lifestrategy40",
         "0.05411"
        ],
        [
         "6",
         "07/1985",
         "lifestrategy40",
         "0.05762"
        ],
        [
         "7",
         "08/1985",
         "lifestrategy40",
         "0.04241"
        ],
        [
         "8",
         "09/1985",
         "lifestrategy40",
         "0.03182"
        ],
        [
         "9",
         "10/1985",
         "lifestrategy40",
         "0.03958"
        ],
        [
         "10",
         "11/1985",
         "lifestrategy40",
         "0.03536"
        ],
        [
         "11",
         "12/1985",
         "lifestrategy40",
         "0.03624"
        ],
        [
         "12",
         "01/1986",
         "lifestrategy40",
         "0.04158"
        ],
        [
         "13",
         "02/1986",
         "lifestrategy40",
         "0.04792"
        ],
        [
         "14",
         "03/1986",
         "lifestrategy40",
         "0.04631"
        ],
        [
         "15",
         "04/1986",
         "lifestrategy40",
         "0.05438"
        ],
        [
         "16",
         "05/1986",
         "lifestrategy40",
         "0.05929"
        ],
        [
         "17",
         "06/1986",
         "lifestrategy40",
         "0.05699"
        ],
        [
         "18",
         "07/1986",
         "lifestrategy40",
         "0.06248"
        ],
        [
         "19",
         "08/1986",
         "lifestrategy40",
         "0.05804"
        ],
        [
         "20",
         "09/1986",
         "lifestrategy40",
         "0.06334"
        ],
        [
         "21",
         "10/1986",
         "lifestrategy40",
         "0.06765"
        ],
        [
         "22",
         "11/1986",
         "lifestrategy40",
         "0.05796"
        ],
        [
         "23",
         "12/1986",
         "lifestrategy40",
         "0.06008"
        ],
        [
         "24",
         "01/1987",
         "lifestrategy40",
         "0.06089"
        ],
        [
         "25",
         "02/1987",
         "lifestrategy40",
         "0.06028"
        ],
        [
         "26",
         "03/1987",
         "lifestrategy40",
         "0.05229"
        ],
        [
         "27",
         "04/1987",
         "lifestrategy40",
         "0.04985"
        ],
        [
         "28",
         "05/1987",
         "lifestrategy40",
         "0.05118"
        ],
        [
         "29",
         "06/1987",
         "lifestrategy40",
         "0.0433"
        ],
        [
         "30",
         "07/1987",
         "lifestrategy40",
         "0.03781"
        ],
        [
         "31",
         "08/1987",
         "lifestrategy40",
         "0.03228"
        ],
        [
         "32",
         "09/1987",
         "lifestrategy40",
         "0.04535"
        ],
        [
         "33",
         "10/1987",
         "lifestrategy40",
         "0.06623"
        ],
        [
         "34",
         "11/1987",
         "lifestrategy40",
         "0.08436"
        ],
        [
         "35",
         "12/1987",
         "lifestrategy40",
         "0.0876"
        ],
        [
         "36",
         "01/1988",
         "lifestrategy40",
         "0.07993"
        ],
        [
         "37",
         "02/1988",
         "lifestrategy40",
         "0.08201"
        ],
        [
         "38",
         "03/1988",
         "lifestrategy40",
         "0.08511"
        ],
        [
         "39",
         "04/1988",
         "lifestrategy40",
         "0.08442"
        ],
        [
         "40",
         "05/1988",
         "lifestrategy40",
         "0.08621"
        ],
        [
         "41",
         "06/1988",
         "lifestrategy40",
         "0.09016"
        ],
        [
         "42",
         "07/1988",
         "lifestrategy40",
         "0.09411"
        ],
        [
         "43",
         "08/1988",
         "lifestrategy40",
         "0.10034"
        ],
        [
         "44",
         "09/1988",
         "lifestrategy40",
         "0.08797"
        ],
        [
         "45",
         "10/1988",
         "lifestrategy40",
         "0.09058"
        ],
        [
         "46",
         "11/1988",
         "lifestrategy40",
         "0.09272"
        ],
        [
         "47",
         "12/1988",
         "lifestrategy40",
         "0.09568"
        ],
        [
         "48",
         "01/1989",
         "lifestrategy40",
         "0.09156"
        ],
        [
         "49",
         "02/1989",
         "lifestrategy40",
         "0.08983"
        ]
       ],
       "shape": {
        "columns": 3,
        "rows": 1251
       }
      },
      "text/html": [
       "<div>\n",
       "<style scoped>\n",
       "    .dataframe tbody tr th:only-of-type {\n",
       "        vertical-align: middle;\n",
       "    }\n",
       "\n",
       "    .dataframe tbody tr th {\n",
       "        vertical-align: top;\n",
       "    }\n",
       "\n",
       "    .dataframe thead th {\n",
       "        text-align: right;\n",
       "    }\n",
       "</style>\n",
       "<table border=\"1\" class=\"dataframe\">\n",
       "  <thead>\n",
       "    <tr style=\"text-align: right;\">\n",
       "      <th></th>\n",
       "      <th>Date</th>\n",
       "      <th>Portfolio</th>\n",
       "      <th>Return</th>\n",
       "    </tr>\n",
       "  </thead>\n",
       "  <tbody>\n",
       "    <tr>\n",
       "      <th>0</th>\n",
       "      <td>01/1985</td>\n",
       "      <td>lifestrategy40</td>\n",
       "      <td>0.06822</td>\n",
       "    </tr>\n",
       "    <tr>\n",
       "      <th>1</th>\n",
       "      <td>02/1985</td>\n",
       "      <td>lifestrategy40</td>\n",
       "      <td>0.05483</td>\n",
       "    </tr>\n",
       "    <tr>\n",
       "      <th>2</th>\n",
       "      <td>03/1985</td>\n",
       "      <td>lifestrategy40</td>\n",
       "      <td>0.04962</td>\n",
       "    </tr>\n",
       "    <tr>\n",
       "      <th>3</th>\n",
       "      <td>04/1985</td>\n",
       "      <td>lifestrategy40</td>\n",
       "      <td>0.05091</td>\n",
       "    </tr>\n",
       "    <tr>\n",
       "      <th>4</th>\n",
       "      <td>05/1985</td>\n",
       "      <td>lifestrategy40</td>\n",
       "      <td>0.05535</td>\n",
       "    </tr>\n",
       "    <tr>\n",
       "      <th>...</th>\n",
       "      <td>...</td>\n",
       "      <td>...</td>\n",
       "      <td>...</td>\n",
       "    </tr>\n",
       "    <tr>\n",
       "      <th>1246</th>\n",
       "      <td>12/2019</td>\n",
       "      <td>lifestrategy0</td>\n",
       "      <td>-0.01693</td>\n",
       "    </tr>\n",
       "    <tr>\n",
       "      <th>1247</th>\n",
       "      <td>01/2020</td>\n",
       "      <td>lifestrategy0</td>\n",
       "      <td>-0.02266</td>\n",
       "    </tr>\n",
       "    <tr>\n",
       "      <th>1248</th>\n",
       "      <td>02/2020</td>\n",
       "      <td>lifestrategy0</td>\n",
       "      <td>-0.02336</td>\n",
       "    </tr>\n",
       "    <tr>\n",
       "      <th>1249</th>\n",
       "      <td>03/2020</td>\n",
       "      <td>lifestrategy0</td>\n",
       "      <td>-0.02886</td>\n",
       "    </tr>\n",
       "    <tr>\n",
       "      <th>1250</th>\n",
       "      <td>04/2020</td>\n",
       "      <td>lifestrategy0</td>\n",
       "      <td>-0.03455</td>\n",
       "    </tr>\n",
       "  </tbody>\n",
       "</table>\n",
       "<p>1251 rows × 3 columns</p>\n",
       "</div>"
      ],
      "text/plain": [
       "         Date       Portfolio   Return\n",
       "0     01/1985  lifestrategy40  0.06822\n",
       "1     02/1985  lifestrategy40  0.05483\n",
       "2     03/1985  lifestrategy40  0.04962\n",
       "3     04/1985  lifestrategy40  0.05091\n",
       "4     05/1985  lifestrategy40  0.05535\n",
       "...       ...             ...      ...\n",
       "1246  12/2019   lifestrategy0 -0.01693\n",
       "1247  01/2020   lifestrategy0 -0.02266\n",
       "1248  02/2020   lifestrategy0 -0.02336\n",
       "1249  03/2020   lifestrategy0 -0.02886\n",
       "1250  04/2020   lifestrategy0 -0.03455\n",
       "\n",
       "[1251 rows x 3 columns]"
      ]
     },
     "execution_count": 64,
     "metadata": {},
     "output_type": "execute_result"
    }
   ],
   "source": [
    "final_results.melt(id_vars='Date', var_name='Portfolio', value_name='Return').dropna()"
   ]
  },
  {
   "cell_type": "code",
   "execution_count": null,
   "metadata": {},
   "outputs": [],
   "source": []
  },
  {
   "cell_type": "code",
   "execution_count": null,
   "metadata": {},
   "outputs": [],
   "source": []
  },
  {
   "cell_type": "code",
   "execution_count": 63,
   "metadata": {},
   "outputs": [
    {
     "data": {
      "image/png": "[encoded data removed]",
      "text/plain": [
       "<Figure size 1400x700 with 1 Axes>"
      ]
     },
     "metadata": {},
     "output_type": "display_data"
    }
   ],
   "source": [
    "final_maxdrawdown = None\n",
    "\n",
    "for portfolio_name in portfolios:\n",
    "\n",
    "    portfolio = load_portfolio(portfolio_name)\n",
    "    data, weights = prune_data_portfolio(portfolio)\n",
    "\n",
    "    prices = compute_portfolio_prices(portfolio, portfolio_name)\n",
    "\n",
    "    maxdrawdown = max_drawdown(prices)\n",
    "\n",
    "    final_maxdrawdown = merge_results(final_maxdrawdown, maxdrawdown)\n",
    "\n",
    "plot_max_drawdown(final_maxdrawdown)"
   ]
  },
  {
   "cell_type": "code",
   "execution_count": null,
   "metadata": {},
   "outputs": [],
   "source": []
  },
  {
   "cell_type": "code",
   "execution_count": null,
   "metadata": {},
   "outputs": [],
   "source": []
  }
 ],
 "metadata": {
  "kernelspec": {
   "display_name": "finace4all",
   "language": "python",
   "name": "python3"
  },
  "language_info": {
   "codemirror_mode": {
    "name": "ipython",
    "version": 3
   },
   "file_extension": ".py",
   "mimetype": "text/x-python",
   "name": "python",
   "nbconvert_exporter": "python",
   "pygments_lexer": "ipython3",
   "version": "3.12.9"
  }
 },
 "nbformat": 4,
 "nbformat_minor": 2
}
