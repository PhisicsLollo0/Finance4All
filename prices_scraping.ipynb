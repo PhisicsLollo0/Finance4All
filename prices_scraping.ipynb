{
 "cells": [
  {
   "cell_type": "code",
   "execution_count": 1,
   "metadata": {},
   "outputs": [],
   "source": [
    "from src.scraping.get_data import *"
   ]
  },
  {
   "cell_type": "code",
   "execution_count": 2,
   "metadata": {},
   "outputs": [
    {
     "name": "stdout",
     "output_type": "stream",
     "text": [
      "File downloaded and renamed to /home/cavallo/Finance4All/data/indexes/MSCI_World.csv\n",
      "File downloaded and renamed to /home/cavallo/Finance4All/data/indexes/MSCI_Europe_Small_Cap_Value_Weighted.csv\n",
      "File downloaded and renamed to /home/cavallo/Finance4All/data/indexes/MSCI_Europe.csv\n",
      "File downloaded and renamed to /home/cavallo/Finance4All/data/indexes/MSCI_ACWI.csv\n",
      "File downloaded and renamed to /home/cavallo/Finance4All/data/indexes/S&P_500_Minimum_Volatility.csv\n",
      "File downloaded and renamed to /home/cavallo/Finance4All/data/indexes/MSCI_Emerging_Markets.csv\n",
      "File downloaded and renamed to /home/cavallo/Finance4All/data/indexes/FTSE_World_Government_Bond_Developed_Markets.csv\n",
      "File downloaded and renamed to /home/cavallo/Finance4All/data/indexes/S&P_500.csv\n",
      "File downloaded and renamed to /home/cavallo/Finance4All/data/indexes/MSCI_USA_Small_Cap_Value_Weighted.csv\n"
     ]
    }
   ],
   "source": [
    "download_data_updated()"
   ]
  },
  {
   "cell_type": "code",
   "execution_count": 44,
   "metadata": {},
   "outputs": [
    {
     "data": {
      "text/html": [
       "<div>\n",
       "<style scoped>\n",
       "    .dataframe tbody tr th:only-of-type {\n",
       "        vertical-align: middle;\n",
       "    }\n",
       "\n",
       "    .dataframe tbody tr th {\n",
       "        vertical-align: top;\n",
       "    }\n",
       "\n",
       "    .dataframe thead th {\n",
       "        text-align: right;\n",
       "    }\n",
       "</style>\n",
       "<table border=\"1\" class=\"dataframe\">\n",
       "  <thead>\n",
       "    <tr style=\"text-align: right;\">\n",
       "      <th></th>\n",
       "      <th>index_name</th>\n",
       "      <th>first_date_available</th>\n",
       "      <th>last_date_available</th>\n",
       "    </tr>\n",
       "  </thead>\n",
       "  <tbody>\n",
       "    <tr>\n",
       "      <th>0</th>\n",
       "      <td>MSCI Europe Small Cap Value Weighted</td>\n",
       "      <td>11/1994</td>\n",
       "      <td>03/2025</td>\n",
       "    </tr>\n",
       "    <tr>\n",
       "      <th>1</th>\n",
       "      <td>MSCI Europe</td>\n",
       "      <td>12/1978</td>\n",
       "      <td>03/2025</td>\n",
       "    </tr>\n",
       "    <tr>\n",
       "      <th>2</th>\n",
       "      <td>MSCI ACWI</td>\n",
       "      <td>12/1987</td>\n",
       "      <td>03/2025</td>\n",
       "    </tr>\n",
       "    <tr>\n",
       "      <th>3</th>\n",
       "      <td>MSCI World</td>\n",
       "      <td>12/1978</td>\n",
       "      <td>03/2025</td>\n",
       "    </tr>\n",
       "    <tr>\n",
       "      <th>4</th>\n",
       "      <td>S&amp;P 500 Minimum Volatility</td>\n",
       "      <td>12/1998</td>\n",
       "      <td>02/2025</td>\n",
       "    </tr>\n",
       "    <tr>\n",
       "      <th>5</th>\n",
       "      <td>MSCI Emerging Markets</td>\n",
       "      <td>12/1987</td>\n",
       "      <td>03/2025</td>\n",
       "    </tr>\n",
       "    <tr>\n",
       "      <th>6</th>\n",
       "      <td>FTSE World Government Bond - Developed Markets</td>\n",
       "      <td>01/1985</td>\n",
       "      <td>02/2025</td>\n",
       "    </tr>\n",
       "    <tr>\n",
       "      <th>7</th>\n",
       "      <td>S&amp;P 500</td>\n",
       "      <td>02/1992</td>\n",
       "      <td>02/2025</td>\n",
       "    </tr>\n",
       "    <tr>\n",
       "      <th>8</th>\n",
       "      <td>MSCI USA Small Cap Value Weighted</td>\n",
       "      <td>11/1994</td>\n",
       "      <td>03/2025</td>\n",
       "    </tr>\n",
       "  </tbody>\n",
       "</table>\n",
       "</div>"
      ],
      "text/plain": [
       "                                       index_name first_date_available  \\\n",
       "0            MSCI Europe Small Cap Value Weighted              11/1994   \n",
       "1                                     MSCI Europe              12/1978   \n",
       "2                                       MSCI ACWI              12/1987   \n",
       "3                                      MSCI World              12/1978   \n",
       "4                      S&P 500 Minimum Volatility              12/1998   \n",
       "5                           MSCI Emerging Markets              12/1987   \n",
       "6  FTSE World Government Bond - Developed Markets              01/1985   \n",
       "7                                         S&P 500              02/1992   \n",
       "8               MSCI USA Small Cap Value Weighted              11/1994   \n",
       "\n",
       "  last_date_available  \n",
       "0             03/2025  \n",
       "1             03/2025  \n",
       "2             03/2025  \n",
       "3             03/2025  \n",
       "4             02/2025  \n",
       "5             03/2025  \n",
       "6             02/2025  \n",
       "7             02/2025  \n",
       "8             03/2025  "
      ]
     },
     "execution_count": 44,
     "metadata": {},
     "output_type": "execute_result"
    }
   ],
   "source": [
    "from datetime import datetime\n",
    "import pandas as pd\n",
    "from glob import glob\n",
    "\n",
    "now = datetime.now()\n",
    "\n",
    "current_date = now.strftime(\"%Y/%m\")  # Current date\n",
    "current_date\n",
    "\n",
    "available_indexes = glob(\"data/indexes/*.csv\")\n",
    "\n",
    "index_name         = []\n",
    "last_date_available = []\n",
    "first_date_available = []\n",
    "\n",
    "for i in range(len(available_indexes)):\n",
    "    df = pd.read_csv(available_indexes[i])\n",
    "    last_date_available.append(df.Date.values[-1])\n",
    "    first_date_available.append(df.Date.values[0])\n",
    "    index_name.append(df.columns[-1])\n",
    "\n",
    "index_dictionary = pd.DataFrame({\n",
    "    \"index_name\": index_name,\n",
    "    \"first_date_available\": first_date_available,\n",
    "    \"last_date_available\": last_date_available,\n",
    "})\n",
    "\n",
    "index_dictionary"
   ]
  },
  {
   "cell_type": "code",
   "execution_count": null,
   "metadata": {},
   "outputs": [],
   "source": []
  }
 ],
 "metadata": {
  "kernelspec": {
   "display_name": "finace4all",
   "language": "python",
   "name": "python3"
  },
  "language_info": {
   "codemirror_mode": {
    "name": "ipython",
    "version": 3
   },
   "file_extension": ".py",
   "mimetype": "text/x-python",
   "name": "python",
   "nbconvert_exporter": "python",
   "pygments_lexer": "ipython3",
   "version": "3.12.9"
  }
 },
 "nbformat": 4,
 "nbformat_minor": 2
}
