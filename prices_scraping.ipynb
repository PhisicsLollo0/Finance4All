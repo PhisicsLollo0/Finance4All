{
 "cells": [
  {
   "cell_type": "code",
   "execution_count": 1,
   "metadata": {},
   "outputs": [],
   "source": [
    "from src.scraping.get_data import *\n",
    "from src.utils.checks import *\n",
    "from src.portfolio.data_manipulation import *"
   ]
  },
  {
   "cell_type": "code",
   "execution_count": 2,
   "metadata": {},
   "outputs": [
    {
     "name": "stdout",
     "output_type": "stream",
     "text": [
      "File downloaded and renamed to MSCI_World.csv\n",
      "File downloaded and renamed to MSCI_Europe_Small_Cap_Value_Weighted.csv\n",
      "File downloaded and renamed to MSCI_Europe.csv\n",
      "File downloaded and renamed to MSCI_ACWI.csv\n",
      "File downloaded and renamed to S&P_500_Minimum_Volatility.csv\n",
      "File downloaded and renamed to MSCI_Emerging_Markets.csv\n",
      "File downloaded and renamed to FTSE_World_Government_Bond_Developed_Markets.csv\n",
      "File downloaded and renamed to S&P_500.csv\n",
      "File downloaded and renamed to MSCI_USA_Small_Cap_Value_Weighted.csv\n",
      "File downloaded and renamed to MSCI_World_Momentum.csv\n"
     ]
    }
   ],
   "source": [
    "download_data_updated()"
   ]
  },
  {
   "cell_type": "code",
   "execution_count": 2,
   "metadata": {},
   "outputs": [
    {
     "data": {
      "application/vnd.microsoft.datawrangler.viewer.v0+json": {
       "columns": [
        {
         "name": "index",
         "rawType": "int64",
         "type": "integer"
        },
        {
         "name": "index_name",
         "rawType": "object",
         "type": "string"
        },
        {
         "name": "first_date_available",
         "rawType": "object",
         "type": "string"
        },
        {
         "name": "last_date_available",
         "rawType": "object",
         "type": "string"
        }
       ],
       "conversionMethod": "pd.DataFrame",
       "ref": "0b2a50df-2734-4249-8a43-911f9dae468e",
       "rows": [
        [
         "0",
         "MSCI Europe Small Cap Value Weighted",
         "11/1994",
         "04/2025"
        ],
        [
         "1",
         "MSCI Europe",
         "12/1978",
         "04/2025"
        ],
        [
         "2",
         "MSCI World Momentum",
         "06/1994",
         "04/2025"
        ],
        [
         "3",
         "MSCI ACWI",
         "12/1987",
         "04/2025"
        ],
        [
         "4",
         "MSCI World",
         "12/1978",
         "04/2025"
        ],
        [
         "5",
         "S&P 500 Minimum Volatility",
         "12/1998",
         "04/2025"
        ],
        [
         "6",
         "MSCI Emerging Markets",
         "12/1987",
         "04/2025"
        ],
        [
         "7",
         "FTSE World Government Bond - Developed Markets",
         "01/1985",
         "04/2025"
        ],
        [
         "8",
         "S&P 500",
         "02/1992",
         "04/2025"
        ],
        [
         "9",
         "MSCI USA Small Cap Value Weighted",
         "11/1994",
         "04/2025"
        ]
       ],
       "shape": {
        "columns": 3,
        "rows": 10
       }
      },
      "text/html": [
       "<div>\n",
       "<style scoped>\n",
       "    .dataframe tbody tr th:only-of-type {\n",
       "        vertical-align: middle;\n",
       "    }\n",
       "\n",
       "    .dataframe tbody tr th {\n",
       "        vertical-align: top;\n",
       "    }\n",
       "\n",
       "    .dataframe thead th {\n",
       "        text-align: right;\n",
       "    }\n",
       "</style>\n",
       "<table border=\"1\" class=\"dataframe\">\n",
       "  <thead>\n",
       "    <tr style=\"text-align: right;\">\n",
       "      <th></th>\n",
       "      <th>index_name</th>\n",
       "      <th>first_date_available</th>\n",
       "      <th>last_date_available</th>\n",
       "    </tr>\n",
       "  </thead>\n",
       "  <tbody>\n",
       "    <tr>\n",
       "      <th>0</th>\n",
       "      <td>MSCI Europe Small Cap Value Weighted</td>\n",
       "      <td>11/1994</td>\n",
       "      <td>04/2025</td>\n",
       "    </tr>\n",
       "    <tr>\n",
       "      <th>1</th>\n",
       "      <td>MSCI Europe</td>\n",
       "      <td>12/1978</td>\n",
       "      <td>04/2025</td>\n",
       "    </tr>\n",
       "    <tr>\n",
       "      <th>2</th>\n",
       "      <td>MSCI World Momentum</td>\n",
       "      <td>06/1994</td>\n",
       "      <td>04/2025</td>\n",
       "    </tr>\n",
       "    <tr>\n",
       "      <th>3</th>\n",
       "      <td>MSCI ACWI</td>\n",
       "      <td>12/1987</td>\n",
       "      <td>04/2025</td>\n",
       "    </tr>\n",
       "    <tr>\n",
       "      <th>4</th>\n",
       "      <td>MSCI World</td>\n",
       "      <td>12/1978</td>\n",
       "      <td>04/2025</td>\n",
       "    </tr>\n",
       "    <tr>\n",
       "      <th>5</th>\n",
       "      <td>S&amp;P 500 Minimum Volatility</td>\n",
       "      <td>12/1998</td>\n",
       "      <td>04/2025</td>\n",
       "    </tr>\n",
       "    <tr>\n",
       "      <th>6</th>\n",
       "      <td>MSCI Emerging Markets</td>\n",
       "      <td>12/1987</td>\n",
       "      <td>04/2025</td>\n",
       "    </tr>\n",
       "    <tr>\n",
       "      <th>7</th>\n",
       "      <td>FTSE World Government Bond - Developed Markets</td>\n",
       "      <td>01/1985</td>\n",
       "      <td>04/2025</td>\n",
       "    </tr>\n",
       "    <tr>\n",
       "      <th>8</th>\n",
       "      <td>S&amp;P 500</td>\n",
       "      <td>02/1992</td>\n",
       "      <td>04/2025</td>\n",
       "    </tr>\n",
       "    <tr>\n",
       "      <th>9</th>\n",
       "      <td>MSCI USA Small Cap Value Weighted</td>\n",
       "      <td>11/1994</td>\n",
       "      <td>04/2025</td>\n",
       "    </tr>\n",
       "  </tbody>\n",
       "</table>\n",
       "</div>"
      ],
      "text/plain": [
       "                                       index_name first_date_available  \\\n",
       "0            MSCI Europe Small Cap Value Weighted              11/1994   \n",
       "1                                     MSCI Europe              12/1978   \n",
       "2                             MSCI World Momentum              06/1994   \n",
       "3                                       MSCI ACWI              12/1987   \n",
       "4                                      MSCI World              12/1978   \n",
       "5                      S&P 500 Minimum Volatility              12/1998   \n",
       "6                           MSCI Emerging Markets              12/1987   \n",
       "7  FTSE World Government Bond - Developed Markets              01/1985   \n",
       "8                                         S&P 500              02/1992   \n",
       "9               MSCI USA Small Cap Value Weighted              11/1994   \n",
       "\n",
       "  last_date_available  \n",
       "0             04/2025  \n",
       "1             04/2025  \n",
       "2             04/2025  \n",
       "3             04/2025  \n",
       "4             04/2025  \n",
       "5             04/2025  \n",
       "6             04/2025  \n",
       "7             04/2025  \n",
       "8             04/2025  \n",
       "9             04/2025  "
      ]
     },
     "execution_count": 2,
     "metadata": {},
     "output_type": "execute_result"
    }
   ],
   "source": [
    "get_data_info()"
   ]
  },
  {
   "cell_type": "code",
   "execution_count": 6,
   "metadata": {},
   "outputs": [],
   "source": [
    "data = get_data_updated_2025()"
   ]
  },
  {
   "cell_type": "code",
   "execution_count": null,
   "metadata": {},
   "outputs": [],
   "source": []
  },
  {
   "cell_type": "code",
   "execution_count": 13,
   "metadata": {},
   "outputs": [
    {
     "data": {
      "text/plain": [
       "100"
      ]
     },
     "execution_count": 13,
     "metadata": {},
     "output_type": "execute_result"
    }
   ],
   "source": [
    "sum(portfolio.values())"
   ]
  },
  {
   "cell_type": "code",
   "execution_count": 20,
   "metadata": {},
   "outputs": [
    {
     "data": {
      "application/vnd.microsoft.datawrangler.viewer.v0+json": {
       "columns": [
        {
         "name": "index",
         "rawType": "int64",
         "type": "integer"
        },
        {
         "name": "Date",
         "rawType": "object",
         "type": "string"
        },
        {
         "name": "MSCI ACWI",
         "rawType": "float64",
         "type": "float"
        }
       ],
       "conversionMethod": "pd.DataFrame",
       "ref": "3d33618e-83af-4e6b-8984-84d0872b9002",
       "rows": [
        [
         "155",
         "12/1987",
         "10000.0"
        ],
        [
         "156",
         "01/1988",
         "10362.212139605464"
        ],
        [
         "157",
         "02/1988",
         "11282.110059171597"
        ],
        [
         "158",
         "03/1988",
         "11476.420852926867"
        ],
        [
         "159",
         "04/1988",
         "11556.986830015314"
        ],
        [
         "160",
         "05/1988",
         "11443.912967032968"
        ],
        [
         "161",
         "06/1988",
         "11860.614285714286"
        ],
        [
         "162",
         "07/1988",
         "12692.719556541022"
        ],
        [
         "163",
         "08/1988",
         "12268.07996735286"
        ],
        [
         "164",
         "09/1988",
         "12705.951237958045"
        ],
        [
         "165",
         "10/1988",
         "13206.140200210748"
        ],
        [
         "166",
         "11/1988",
         "13111.622940035424"
        ],
        [
         "167",
         "12/1988",
         "13247.062765957447"
        ],
        [
         "168",
         "01/1989",
         "14271.517099719102"
        ],
        [
         "169",
         "02/1989",
         "14363.729488091009"
        ],
        [
         "170",
         "03/1989",
         "14380.523217321284"
        ],
        [
         "171",
         "04/1989",
         "14824.704615384617"
        ],
        [
         "172",
         "05/1989",
         "15097.170723468142"
        ],
        [
         "173",
         "06/1989",
         "15156.392567825756"
        ],
        [
         "174",
         "07/1989",
         "16134.110132480584"
        ],
        [
         "175",
         "08/1989",
         "15999.009408053438"
        ],
        [
         "176",
         "09/1989",
         "16736.539218087608"
        ],
        [
         "177",
         "10/1989",
         "15588.74137805984"
        ],
        [
         "178",
         "11/1989",
         "15970.501447721184"
        ],
        [
         "179",
         "12/1989",
         "15816.957840616966"
        ],
        [
         "180",
         "01/1990",
         "14648.831209449345"
        ],
        [
         "181",
         "02/1990",
         "13848.459492735785"
        ],
        [
         "182",
         "03/1990",
         "13221.54347281383"
        ],
        [
         "183",
         "04/1990",
         "12888.758410290236"
        ],
        [
         "184",
         "05/1990",
         "14003.356298158811"
        ],
        [
         "185",
         "06/1990",
         "14003.615335619794"
        ],
        [
         "186",
         "07/1990",
         "13718.972344975053"
        ],
        [
         "187",
         "08/1990",
         "11882.573531193217"
        ],
        [
         "188",
         "09/1990",
         "10658.782997118156"
        ],
        [
         "189",
         "10/1990",
         "11298.61351590106"
        ],
        [
         "190",
         "11/1990",
         "10889.580588829558"
        ],
        [
         "191",
         "12/1990",
         "11256.10995911215"
        ],
        [
         "192",
         "01/1991",
         "11701.476679841897"
        ],
        [
         "193",
         "02/1991",
         "12589.058648240123"
        ],
        [
         "194",
         "03/1991",
         "13320.208712002508"
        ],
        [
         "195",
         "04/1991",
         "14148.504439676512"
        ],
        [
         "196",
         "05/1991",
         "14680.777571500252"
        ],
        [
         "197",
         "06/1991",
         "14299.854233171409"
        ],
        [
         "198",
         "07/1991",
         "15000.589941804918"
        ],
        [
         "199",
         "08/1991",
         "14640.996177370032"
        ],
        [
         "200",
         "09/1991",
         "14599.65963984801"
        ],
        [
         "201",
         "10/1991",
         "14834.15830721003"
        ],
        [
         "202",
         "11/1991",
         "13664.87302469626"
        ],
        [
         "203",
         "12/1991",
         "14213.518422266648"
        ],
        [
         "204",
         "01/1992",
         "14099.681533101044"
        ]
       ],
       "shape": {
        "columns": 2,
        "rows": 449
       }
      },
      "text/html": [
       "<div>\n",
       "<style scoped>\n",
       "    .dataframe tbody tr th:only-of-type {\n",
       "        vertical-align: middle;\n",
       "    }\n",
       "\n",
       "    .dataframe tbody tr th {\n",
       "        vertical-align: top;\n",
       "    }\n",
       "\n",
       "    .dataframe thead th {\n",
       "        text-align: right;\n",
       "    }\n",
       "</style>\n",
       "<table border=\"1\" class=\"dataframe\">\n",
       "  <thead>\n",
       "    <tr style=\"text-align: right;\">\n",
       "      <th></th>\n",
       "      <th>Date</th>\n",
       "      <th>MSCI ACWI</th>\n",
       "    </tr>\n",
       "  </thead>\n",
       "  <tbody>\n",
       "    <tr>\n",
       "      <th>155</th>\n",
       "      <td>12/1987</td>\n",
       "      <td>10000.000000</td>\n",
       "    </tr>\n",
       "    <tr>\n",
       "      <th>156</th>\n",
       "      <td>01/1988</td>\n",
       "      <td>10362.212140</td>\n",
       "    </tr>\n",
       "    <tr>\n",
       "      <th>157</th>\n",
       "      <td>02/1988</td>\n",
       "      <td>11282.110059</td>\n",
       "    </tr>\n",
       "    <tr>\n",
       "      <th>158</th>\n",
       "      <td>03/1988</td>\n",
       "      <td>11476.420853</td>\n",
       "    </tr>\n",
       "    <tr>\n",
       "      <th>159</th>\n",
       "      <td>04/1988</td>\n",
       "      <td>11556.986830</td>\n",
       "    </tr>\n",
       "    <tr>\n",
       "      <th>...</th>\n",
       "      <td>...</td>\n",
       "      <td>...</td>\n",
       "    </tr>\n",
       "    <tr>\n",
       "      <th>599</th>\n",
       "      <td>12/2024</td>\n",
       "      <td>238077.880001</td>\n",
       "    </tr>\n",
       "    <tr>\n",
       "      <th>600</th>\n",
       "      <td>01/2025</td>\n",
       "      <td>245110.877561</td>\n",
       "    </tr>\n",
       "    <tr>\n",
       "      <th>601</th>\n",
       "      <td>02/2025</td>\n",
       "      <td>243528.409920</td>\n",
       "    </tr>\n",
       "    <tr>\n",
       "      <th>602</th>\n",
       "      <td>03/2025</td>\n",
       "      <td>225203.342503</td>\n",
       "    </tr>\n",
       "    <tr>\n",
       "      <th>603</th>\n",
       "      <td>04/2025</td>\n",
       "      <td>215995.891590</td>\n",
       "    </tr>\n",
       "  </tbody>\n",
       "</table>\n",
       "<p>449 rows × 2 columns</p>\n",
       "</div>"
      ],
      "text/plain": [
       "        Date      MSCI ACWI\n",
       "155  12/1987   10000.000000\n",
       "156  01/1988   10362.212140\n",
       "157  02/1988   11282.110059\n",
       "158  03/1988   11476.420853\n",
       "159  04/1988   11556.986830\n",
       "..       ...            ...\n",
       "599  12/2024  238077.880001\n",
       "600  01/2025  245110.877561\n",
       "601  02/2025  243528.409920\n",
       "602  03/2025  225203.342503\n",
       "603  04/2025  215995.891590\n",
       "\n",
       "[449 rows x 2 columns]"
      ]
     },
     "execution_count": 20,
     "metadata": {},
     "output_type": "execute_result"
    }
   ],
   "source": [
    "portfolio = { 'MSCI ACWI'                                      : 80-16,\n",
    "              'FTSE World Government Bond - Developed Markets' : 20,\n",
    "              'MSCI World Momentum'                            : 8,\n",
    "              'MSCI USA Small Cap Value Weighted'              : 5,\n",
    "              'MSCI Europe Small Cap Value Weighted'           : 3,\n",
    "            }\n",
    "\n",
    "portfolio = { 'MSCI ACWI' : 100}\n",
    "\n",
    "years = 20  # Number of years for the rolling window\n",
    "\n",
    "ETFs    = list(portfolio.keys())\n",
    "weights = list(portfolio.values())\n",
    "\n",
    "data_selected = select_etfs(data, ETFs)\n",
    "data_selected"
   ]
  },
  {
   "cell_type": "code",
   "execution_count": null,
   "metadata": {},
   "outputs": [],
   "source": []
  },
  {
   "cell_type": "code",
   "execution_count": 38,
   "metadata": {},
   "outputs": [],
   "source": [
    "import matplotlib.pyplot as plt\n",
    "\n",
    "def plot_percentage_returns(data, start_date=None, end_date=None):\n",
    "    # Convert 'Date' column to datetime\n",
    "    data['Date'] = pd.to_datetime(data['Date'])\n",
    "\n",
    "    # Apply filtering based on available limits right at the start\n",
    "    if start_date:\n",
    "        data = data[data['Date'] >= pd.to_datetime(start_date)]\n",
    "    if end_date:\n",
    "        data = data[data['Date'] <= pd.to_datetime(end_date)]\n",
    "\n",
    "    # Drop the 'Date' column and calculate returns\n",
    "    dates = data['Date']\n",
    "    data = data.drop(columns=['Date'])\n",
    "    data_returns = data.div(data.iloc[0]).subtract(0) *100\n",
    "\n",
    "    # Create DataFrame with percentage returns\n",
    "    df = pd.DataFrame(pd.concat([dates, data_returns], axis=1))\n",
    "\n",
    "    # Set Date as index\n",
    "    df.set_index(\"Date\", inplace=True)\n",
    "\n",
    "    # Plot\n",
    "    plt.figure(figsize=(10, 5))\n",
    "    for col in df.columns:\n",
    "        plt.plot(df.index, df[col], label=col)\n",
    "\n",
    "    plt.xlabel(\"Date\")\n",
    "    plt.ylabel(\"Return (%)\")\n",
    "    plt.title(\"Returns\")\n",
    "    plt.legend()\n",
    "    plt.grid(True)\n",
    "    plt.xticks(rotation=45)\n",
    "\n",
    "    plt.yscale('log')\n",
    "\n",
    "    plt.show()"
   ]
  },
  {
   "cell_type": "code",
   "execution_count": 39,
   "metadata": {},
   "outputs": [
    {
     "data": {
      "image/png": "[encoded data removed]",
      "text/plain": [
       "<Figure size 1000x500 with 1 Axes>"
      ]
     },
     "metadata": {},
     "output_type": "display_data"
    }
   ],
   "source": [
    "plot_percentage_returns(data_selected)"
   ]
  }
 ],
 "metadata": {
  "kernelspec": {
   "display_name": "finace4all",
   "language": "python",
   "name": "python3"
  },
  "language_info": {
   "codemirror_mode": {
    "name": "ipython",
    "version": 3
   },
   "file_extension": ".py",
   "mimetype": "text/x-python",
   "name": "python",
   "nbconvert_exporter": "python",
   "pygments_lexer": "ipython3",
   "version": "3.12.9"
  }
 },
 "nbformat": 4,
 "nbformat_minor": 2
}
