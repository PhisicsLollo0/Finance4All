{
 "cells": [
  {
   "cell_type": "code",
   "execution_count": 3,
   "metadata": {},
   "outputs": [
    {
     "name": "stdout",
     "output_type": "stream",
     "text": [
      "Current date: 2025/08\n"
     ]
    }
   ],
   "source": [
    "from src.scraping.get_data import *\n",
    "from src.utils.checks import *\n",
    "from src.portfolio.data_manipulation import *\n",
    "from src.plots.basics import *\n",
    "from src.computations.compute_returns import *\n",
    "from src.computations.metrics import *\n",
    "from src.utils.basics import *\n",
    "from src.plots.basics_streamlit import *\n",
    "\n",
    "get_data_info()\n",
    "data = get_data_updated_2025()"
   ]
  },
  {
   "cell_type": "code",
   "execution_count": 2,
   "metadata": {},
   "outputs": [
    {
     "name": "stdout",
     "output_type": "stream",
     "text": [
      "File downloaded and renamed to MSCI_World.csv\n",
      "File downloaded and renamed to MSCI_Europe_Small_Cap_Value_Weighted.csv\n",
      "File downloaded and renamed to MSCI_Europe.csv\n",
      "File downloaded and renamed to MSCI_ACWI.csv\n",
      "File downloaded and renamed to S&P_500_Minimum_Volatility.csv\n",
      "File downloaded and renamed to MSCI_Emerging_Markets.csv\n",
      "File downloaded and renamed to FTSE_World_Government_Bond_Developed_Markets.csv\n",
      "File downloaded and renamed to S&P_500.csv\n",
      "File downloaded and renamed to MSCI_USA_Small_Cap_Value_Weighted.csv\n",
      "File downloaded and renamed to MSCI_World_Momentum.csv\n",
      "File downloaded and renamed to MSCI_World_Quality.csv\n",
      "File downloaded and renamed to MSCI_EMU.csv\n"
     ]
    }
   ],
   "source": [
    "download_data_updated()"
   ]
  },
  {
   "cell_type": "code",
   "execution_count": 4,
   "metadata": {},
   "outputs": [
    {
     "data": {
      "application/vnd.microsoft.datawrangler.viewer.v0+json": {
       "columns": [
        {
         "name": "index",
         "rawType": "int64",
         "type": "integer"
        },
        {
         "name": "Date",
         "rawType": "object",
         "type": "string"
        },
        {
         "name": "MSCI Europe Small Cap Value Weighted",
         "rawType": "float64",
         "type": "float"
        },
        {
         "name": "MSCI USA Small Cap Value Weighted.1",
         "rawType": "float64",
         "type": "float"
        },
        {
         "name": "MSCI Europe",
         "rawType": "float64",
         "type": "float"
        },
        {
         "name": "MSCI World Momentum",
         "rawType": "float64",
         "type": "float"
        },
        {
         "name": "MSCI EMU",
         "rawType": "float64",
         "type": "float"
        },
        {
         "name": "MSCI ACWI",
         "rawType": "float64",
         "type": "float"
        },
        {
         "name": "MSCI World",
         "rawType": "float64",
         "type": "float"
        },
        {
         "name": "S&P 500 Minimum Volatility",
         "rawType": "float64",
         "type": "float"
        },
        {
         "name": "MSCI Emerging Markets",
         "rawType": "float64",
         "type": "float"
        },
        {
         "name": "FTSE World Government Bond - Developed Markets",
         "rawType": "float64",
         "type": "float"
        },
        {
         "name": "S&P 500",
         "rawType": "float64",
         "type": "float"
        },
        {
         "name": "MSCI USA Small Cap Value Weighted",
         "rawType": "float64",
         "type": "float"
        },
        {
         "name": "MSCI World Sector Neutral Quality",
         "rawType": "float64",
         "type": "float"
        }
       ],
       "ref": "a03c3755-d678-4e1c-81de-bc73262652c0",
       "rows": [
        [
         "0",
         "01/1975",
         null,
         null,
         null,
         null,
         null,
         null,
         null,
         null,
         null,
         null,
         null,
         null,
         null
        ],
        [
         "1",
         "02/1975",
         null,
         null,
         null,
         null,
         null,
         null,
         null,
         null,
         null,
         null,
         null,
         null,
         null
        ],
        [
         "2",
         "03/1975",
         null,
         null,
         null,
         null,
         null,
         null,
         null,
         null,
         null,
         null,
         null,
         null,
         null
        ],
        [
         "3",
         "04/1975",
         null,
         null,
         null,
         null,
         null,
         null,
         null,
         null,
         null,
         null,
         null,
         null,
         null
        ],
        [
         "4",
         "05/1975",
         null,
         null,
         null,
         null,
         null,
         null,
         null,
         null,
         null,
         null,
         null,
         null,
         null
        ],
        [
         "5",
         "06/1975",
         null,
         null,
         null,
         null,
         null,
         null,
         null,
         null,
         null,
         null,
         null,
         null,
         null
        ],
        [
         "6",
         "07/1975",
         null,
         null,
         null,
         null,
         null,
         null,
         null,
         null,
         null,
         null,
         null,
         null,
         null
        ],
        [
         "7",
         "08/1975",
         null,
         null,
         null,
         null,
         null,
         null,
         null,
         null,
         null,
         null,
         null,
         null,
         null
        ],
        [
         "8",
         "09/1975",
         null,
         null,
         null,
         null,
         null,
         null,
         null,
         null,
         null,
         null,
         null,
         null,
         null
        ],
        [
         "9",
         "10/1975",
         null,
         null,
         null,
         null,
         null,
         null,
         null,
         null,
         null,
         null,
         null,
         null,
         null
        ],
        [
         "10",
         "11/1975",
         null,
         null,
         null,
         null,
         null,
         null,
         null,
         null,
         null,
         null,
         null,
         null,
         null
        ],
        [
         "11",
         "12/1975",
         null,
         null,
         null,
         null,
         null,
         null,
         null,
         null,
         null,
         null,
         null,
         null,
         null
        ],
        [
         "12",
         "01/1976",
         null,
         null,
         null,
         null,
         null,
         null,
         null,
         null,
         null,
         null,
         null,
         null,
         null
        ],
        [
         "13",
         "02/1976",
         null,
         null,
         null,
         null,
         null,
         null,
         null,
         null,
         null,
         null,
         null,
         null,
         null
        ],
        [
         "14",
         "03/1976",
         null,
         null,
         null,
         null,
         null,
         null,
         null,
         null,
         null,
         null,
         null,
         null,
         null
        ],
        [
         "15",
         "04/1976",
         null,
         null,
         null,
         null,
         null,
         null,
         null,
         null,
         null,
         null,
         null,
         null,
         null
        ],
        [
         "16",
         "05/1976",
         null,
         null,
         null,
         null,
         null,
         null,
         null,
         null,
         null,
         null,
         null,
         null,
         null
        ],
        [
         "17",
         "06/1976",
         null,
         null,
         null,
         null,
         null,
         null,
         null,
         null,
         null,
         null,
         null,
         null,
         null
        ],
        [
         "18",
         "07/1976",
         null,
         null,
         null,
         null,
         null,
         null,
         null,
         null,
         null,
         null,
         null,
         null,
         null
        ],
        [
         "19",
         "08/1976",
         null,
         null,
         null,
         null,
         null,
         null,
         null,
         null,
         null,
         null,
         null,
         null,
         null
        ],
        [
         "20",
         "09/1976",
         null,
         null,
         null,
         null,
         null,
         null,
         null,
         null,
         null,
         null,
         null,
         null,
         null
        ],
        [
         "21",
         "10/1976",
         null,
         null,
         null,
         null,
         null,
         null,
         null,
         null,
         null,
         null,
         null,
         null,
         null
        ],
        [
         "22",
         "11/1976",
         null,
         null,
         null,
         null,
         null,
         null,
         null,
         null,
         null,
         null,
         null,
         null,
         null
        ],
        [
         "23",
         "12/1976",
         null,
         null,
         null,
         null,
         null,
         null,
         null,
         null,
         null,
         null,
         null,
         null,
         null
        ],
        [
         "24",
         "01/1977",
         null,
         null,
         null,
         null,
         null,
         null,
         null,
         null,
         null,
         null,
         null,
         null,
         null
        ],
        [
         "25",
         "02/1977",
         null,
         null,
         null,
         null,
         null,
         null,
         null,
         null,
         null,
         null,
         null,
         null,
         null
        ],
        [
         "26",
         "03/1977",
         null,
         null,
         null,
         null,
         null,
         null,
         null,
         null,
         null,
         null,
         null,
         null,
         null
        ],
        [
         "27",
         "04/1977",
         null,
         null,
         null,
         null,
         null,
         null,
         null,
         null,
         null,
         null,
         null,
         null,
         null
        ],
        [
         "28",
         "05/1977",
         null,
         null,
         null,
         null,
         null,
         null,
         null,
         null,
         null,
         null,
         null,
         null,
         null
        ],
        [
         "29",
         "06/1977",
         null,
         null,
         null,
         null,
         null,
         null,
         null,
         null,
         null,
         null,
         null,
         null,
         null
        ],
        [
         "30",
         "07/1977",
         null,
         null,
         null,
         null,
         null,
         null,
         null,
         null,
         null,
         null,
         null,
         null,
         null
        ],
        [
         "31",
         "08/1977",
         null,
         null,
         null,
         null,
         null,
         null,
         null,
         null,
         null,
         null,
         null,
         null,
         null
        ],
        [
         "32",
         "09/1977",
         null,
         null,
         null,
         null,
         null,
         null,
         null,
         null,
         null,
         null,
         null,
         null,
         null
        ],
        [
         "33",
         "10/1977",
         null,
         null,
         null,
         null,
         null,
         null,
         null,
         null,
         null,
         null,
         null,
         null,
         null
        ],
        [
         "34",
         "11/1977",
         null,
         null,
         null,
         null,
         null,
         null,
         null,
         null,
         null,
         null,
         null,
         null,
         null
        ],
        [
         "35",
         "12/1977",
         null,
         null,
         null,
         null,
         null,
         null,
         null,
         null,
         null,
         null,
         null,
         null,
         null
        ],
        [
         "36",
         "01/1978",
         null,
         null,
         null,
         null,
         null,
         null,
         null,
         null,
         null,
         null,
         null,
         null,
         null
        ],
        [
         "37",
         "02/1978",
         null,
         null,
         null,
         null,
         null,
         null,
         null,
         null,
         null,
         null,
         null,
         null,
         null
        ],
        [
         "38",
         "03/1978",
         null,
         null,
         null,
         null,
         null,
         null,
         null,
         null,
         null,
         null,
         null,
         null,
         null
        ],
        [
         "39",
         "04/1978",
         null,
         null,
         null,
         null,
         null,
         null,
         null,
         null,
         null,
         null,
         null,
         null,
         null
        ],
        [
         "40",
         "05/1978",
         null,
         null,
         null,
         null,
         null,
         null,
         null,
         null,
         null,
         null,
         null,
         null,
         null
        ],
        [
         "41",
         "06/1978",
         null,
         null,
         null,
         null,
         null,
         null,
         null,
         null,
         null,
         null,
         null,
         null,
         null
        ],
        [
         "42",
         "07/1978",
         null,
         null,
         null,
         null,
         null,
         null,
         null,
         null,
         null,
         null,
         null,
         null,
         null
        ],
        [
         "43",
         "08/1978",
         null,
         null,
         null,
         null,
         null,
         null,
         null,
         null,
         null,
         null,
         null,
         null,
         null
        ],
        [
         "44",
         "09/1978",
         null,
         null,
         null,
         null,
         null,
         null,
         null,
         null,
         null,
         null,
         null,
         null,
         null
        ],
        [
         "45",
         "10/1978",
         null,
         null,
         null,
         null,
         null,
         null,
         null,
         null,
         null,
         null,
         null,
         null,
         null
        ],
        [
         "46",
         "11/1978",
         null,
         null,
         null,
         null,
         null,
         null,
         null,
         null,
         null,
         null,
         null,
         null,
         null
        ],
        [
         "47",
         "12/1978",
         null,
         null,
         "10000.0",
         null,
         null,
         null,
         "10000.0",
         null,
         null,
         null,
         null,
         null,
         null
        ],
        [
         "48",
         "01/1979",
         null,
         null,
         "10185.22014136237",
         null,
         null,
         null,
         "10398.930905250509",
         null,
         null,
         null,
         null,
         null,
         null
        ],
        [
         "49",
         "02/1979",
         null,
         null,
         "10417.900537688138",
         null,
         null,
         null,
         "10248.849017195264",
         null,
         null,
         null,
         null,
         null,
         null
        ]
       ],
       "shape": {
        "columns": 14,
        "rows": 608
       }
      },
      "text/html": [
       "<div>\n",
       "<style scoped>\n",
       "    .dataframe tbody tr th:only-of-type {\n",
       "        vertical-align: middle;\n",
       "    }\n",
       "\n",
       "    .dataframe tbody tr th {\n",
       "        vertical-align: top;\n",
       "    }\n",
       "\n",
       "    .dataframe thead th {\n",
       "        text-align: right;\n",
       "    }\n",
       "</style>\n",
       "<table border=\"1\" class=\"dataframe\">\n",
       "  <thead>\n",
       "    <tr style=\"text-align: right;\">\n",
       "      <th></th>\n",
       "      <th>Date</th>\n",
       "      <th>MSCI Europe Small Cap Value Weighted</th>\n",
       "      <th>MSCI USA Small Cap Value Weighted.1</th>\n",
       "      <th>MSCI Europe</th>\n",
       "      <th>MSCI World Momentum</th>\n",
       "      <th>MSCI EMU</th>\n",
       "      <th>MSCI ACWI</th>\n",
       "      <th>MSCI World</th>\n",
       "      <th>S&amp;P 500 Minimum Volatility</th>\n",
       "      <th>MSCI Emerging Markets</th>\n",
       "      <th>FTSE World Government Bond - Developed Markets</th>\n",
       "      <th>S&amp;P 500</th>\n",
       "      <th>MSCI USA Small Cap Value Weighted</th>\n",
       "      <th>MSCI World Sector Neutral Quality</th>\n",
       "    </tr>\n",
       "  </thead>\n",
       "  <tbody>\n",
       "    <tr>\n",
       "      <th>0</th>\n",
       "      <td>01/1975</td>\n",
       "      <td>NaN</td>\n",
       "      <td>NaN</td>\n",
       "      <td>NaN</td>\n",
       "      <td>NaN</td>\n",
       "      <td>NaN</td>\n",
       "      <td>NaN</td>\n",
       "      <td>NaN</td>\n",
       "      <td>NaN</td>\n",
       "      <td>NaN</td>\n",
       "      <td>NaN</td>\n",
       "      <td>NaN</td>\n",
       "      <td>NaN</td>\n",
       "      <td>NaN</td>\n",
       "    </tr>\n",
       "    <tr>\n",
       "      <th>1</th>\n",
       "      <td>02/1975</td>\n",
       "      <td>NaN</td>\n",
       "      <td>NaN</td>\n",
       "      <td>NaN</td>\n",
       "      <td>NaN</td>\n",
       "      <td>NaN</td>\n",
       "      <td>NaN</td>\n",
       "      <td>NaN</td>\n",
       "      <td>NaN</td>\n",
       "      <td>NaN</td>\n",
       "      <td>NaN</td>\n",
       "      <td>NaN</td>\n",
       "      <td>NaN</td>\n",
       "      <td>NaN</td>\n",
       "    </tr>\n",
       "    <tr>\n",
       "      <th>2</th>\n",
       "      <td>03/1975</td>\n",
       "      <td>NaN</td>\n",
       "      <td>NaN</td>\n",
       "      <td>NaN</td>\n",
       "      <td>NaN</td>\n",
       "      <td>NaN</td>\n",
       "      <td>NaN</td>\n",
       "      <td>NaN</td>\n",
       "      <td>NaN</td>\n",
       "      <td>NaN</td>\n",
       "      <td>NaN</td>\n",
       "      <td>NaN</td>\n",
       "      <td>NaN</td>\n",
       "      <td>NaN</td>\n",
       "    </tr>\n",
       "    <tr>\n",
       "      <th>3</th>\n",
       "      <td>04/1975</td>\n",
       "      <td>NaN</td>\n",
       "      <td>NaN</td>\n",
       "      <td>NaN</td>\n",
       "      <td>NaN</td>\n",
       "      <td>NaN</td>\n",
       "      <td>NaN</td>\n",
       "      <td>NaN</td>\n",
       "      <td>NaN</td>\n",
       "      <td>NaN</td>\n",
       "      <td>NaN</td>\n",
       "      <td>NaN</td>\n",
       "      <td>NaN</td>\n",
       "      <td>NaN</td>\n",
       "    </tr>\n",
       "    <tr>\n",
       "      <th>4</th>\n",
       "      <td>05/1975</td>\n",
       "      <td>NaN</td>\n",
       "      <td>NaN</td>\n",
       "      <td>NaN</td>\n",
       "      <td>NaN</td>\n",
       "      <td>NaN</td>\n",
       "      <td>NaN</td>\n",
       "      <td>NaN</td>\n",
       "      <td>NaN</td>\n",
       "      <td>NaN</td>\n",
       "      <td>NaN</td>\n",
       "      <td>NaN</td>\n",
       "      <td>NaN</td>\n",
       "      <td>NaN</td>\n",
       "    </tr>\n",
       "    <tr>\n",
       "      <th>...</th>\n",
       "      <td>...</td>\n",
       "      <td>...</td>\n",
       "      <td>...</td>\n",
       "      <td>...</td>\n",
       "      <td>...</td>\n",
       "      <td>...</td>\n",
       "      <td>...</td>\n",
       "      <td>...</td>\n",
       "      <td>...</td>\n",
       "      <td>...</td>\n",
       "      <td>...</td>\n",
       "      <td>...</td>\n",
       "      <td>...</td>\n",
       "      <td>...</td>\n",
       "    </tr>\n",
       "    <tr>\n",
       "      <th>603</th>\n",
       "      <td>04/2025</td>\n",
       "      <td>151103.730645</td>\n",
       "      <td>274195.338702</td>\n",
       "      <td>734564.922807</td>\n",
       "      <td>248540.215643</td>\n",
       "      <td>161750.436328</td>\n",
       "      <td>215995.89159</td>\n",
       "      <td>897683.562553</td>\n",
       "      <td>82429.995779</td>\n",
       "      <td>328764.402587</td>\n",
       "      <td>55177.416831</td>\n",
       "      <td>286073.221001</td>\n",
       "      <td>274195.338702</td>\n",
       "      <td>69198.447553</td>\n",
       "    </tr>\n",
       "    <tr>\n",
       "      <th>604</th>\n",
       "      <td>05/2025</td>\n",
       "      <td>161707.718540</td>\n",
       "      <td>NaN</td>\n",
       "      <td>NaN</td>\n",
       "      <td>NaN</td>\n",
       "      <td>171036.392426</td>\n",
       "      <td>NaN</td>\n",
       "      <td>NaN</td>\n",
       "      <td>NaN</td>\n",
       "      <td>NaN</td>\n",
       "      <td>NaN</td>\n",
       "      <td>NaN</td>\n",
       "      <td>NaN</td>\n",
       "      <td>72460.238942</td>\n",
       "    </tr>\n",
       "    <tr>\n",
       "      <th>605</th>\n",
       "      <td>06/2025</td>\n",
       "      <td>NaN</td>\n",
       "      <td>NaN</td>\n",
       "      <td>NaN</td>\n",
       "      <td>NaN</td>\n",
       "      <td>NaN</td>\n",
       "      <td>NaN</td>\n",
       "      <td>NaN</td>\n",
       "      <td>NaN</td>\n",
       "      <td>NaN</td>\n",
       "      <td>NaN</td>\n",
       "      <td>NaN</td>\n",
       "      <td>NaN</td>\n",
       "      <td>NaN</td>\n",
       "    </tr>\n",
       "    <tr>\n",
       "      <th>606</th>\n",
       "      <td>07/2025</td>\n",
       "      <td>NaN</td>\n",
       "      <td>NaN</td>\n",
       "      <td>NaN</td>\n",
       "      <td>NaN</td>\n",
       "      <td>NaN</td>\n",
       "      <td>NaN</td>\n",
       "      <td>NaN</td>\n",
       "      <td>NaN</td>\n",
       "      <td>NaN</td>\n",
       "      <td>NaN</td>\n",
       "      <td>NaN</td>\n",
       "      <td>NaN</td>\n",
       "      <td>NaN</td>\n",
       "    </tr>\n",
       "    <tr>\n",
       "      <th>607</th>\n",
       "      <td>08/2025</td>\n",
       "      <td>NaN</td>\n",
       "      <td>NaN</td>\n",
       "      <td>NaN</td>\n",
       "      <td>NaN</td>\n",
       "      <td>NaN</td>\n",
       "      <td>NaN</td>\n",
       "      <td>NaN</td>\n",
       "      <td>NaN</td>\n",
       "      <td>NaN</td>\n",
       "      <td>NaN</td>\n",
       "      <td>NaN</td>\n",
       "      <td>NaN</td>\n",
       "      <td>NaN</td>\n",
       "    </tr>\n",
       "  </tbody>\n",
       "</table>\n",
       "<p>608 rows × 14 columns</p>\n",
       "</div>"
      ],
      "text/plain": [
       "        Date  MSCI Europe Small Cap Value Weighted  \\\n",
       "0    01/1975                                   NaN   \n",
       "1    02/1975                                   NaN   \n",
       "2    03/1975                                   NaN   \n",
       "3    04/1975                                   NaN   \n",
       "4    05/1975                                   NaN   \n",
       "..       ...                                   ...   \n",
       "603  04/2025                         151103.730645   \n",
       "604  05/2025                         161707.718540   \n",
       "605  06/2025                                   NaN   \n",
       "606  07/2025                                   NaN   \n",
       "607  08/2025                                   NaN   \n",
       "\n",
       "     MSCI USA Small Cap Value Weighted.1    MSCI Europe  MSCI World Momentum  \\\n",
       "0                                    NaN            NaN                  NaN   \n",
       "1                                    NaN            NaN                  NaN   \n",
       "2                                    NaN            NaN                  NaN   \n",
       "3                                    NaN            NaN                  NaN   \n",
       "4                                    NaN            NaN                  NaN   \n",
       "..                                   ...            ...                  ...   \n",
       "603                        274195.338702  734564.922807        248540.215643   \n",
       "604                                  NaN            NaN                  NaN   \n",
       "605                                  NaN            NaN                  NaN   \n",
       "606                                  NaN            NaN                  NaN   \n",
       "607                                  NaN            NaN                  NaN   \n",
       "\n",
       "          MSCI EMU     MSCI ACWI     MSCI World  S&P 500 Minimum Volatility  \\\n",
       "0              NaN           NaN            NaN                         NaN   \n",
       "1              NaN           NaN            NaN                         NaN   \n",
       "2              NaN           NaN            NaN                         NaN   \n",
       "3              NaN           NaN            NaN                         NaN   \n",
       "4              NaN           NaN            NaN                         NaN   \n",
       "..             ...           ...            ...                         ...   \n",
       "603  161750.436328  215995.89159  897683.562553                82429.995779   \n",
       "604  171036.392426           NaN            NaN                         NaN   \n",
       "605            NaN           NaN            NaN                         NaN   \n",
       "606            NaN           NaN            NaN                         NaN   \n",
       "607            NaN           NaN            NaN                         NaN   \n",
       "\n",
       "     MSCI Emerging Markets  FTSE World Government Bond - Developed Markets  \\\n",
       "0                      NaN                                             NaN   \n",
       "1                      NaN                                             NaN   \n",
       "2                      NaN                                             NaN   \n",
       "3                      NaN                                             NaN   \n",
       "4                      NaN                                             NaN   \n",
       "..                     ...                                             ...   \n",
       "603          328764.402587                                    55177.416831   \n",
       "604                    NaN                                             NaN   \n",
       "605                    NaN                                             NaN   \n",
       "606                    NaN                                             NaN   \n",
       "607                    NaN                                             NaN   \n",
       "\n",
       "           S&P 500  MSCI USA Small Cap Value Weighted  \\\n",
       "0              NaN                                NaN   \n",
       "1              NaN                                NaN   \n",
       "2              NaN                                NaN   \n",
       "3              NaN                                NaN   \n",
       "4              NaN                                NaN   \n",
       "..             ...                                ...   \n",
       "603  286073.221001                      274195.338702   \n",
       "604            NaN                                NaN   \n",
       "605            NaN                                NaN   \n",
       "606            NaN                                NaN   \n",
       "607            NaN                                NaN   \n",
       "\n",
       "     MSCI World Sector Neutral Quality  \n",
       "0                                  NaN  \n",
       "1                                  NaN  \n",
       "2                                  NaN  \n",
       "3                                  NaN  \n",
       "4                                  NaN  \n",
       "..                                 ...  \n",
       "603                       69198.447553  \n",
       "604                       72460.238942  \n",
       "605                                NaN  \n",
       "606                                NaN  \n",
       "607                                NaN  \n",
       "\n",
       "[608 rows x 14 columns]"
      ]
     },
     "execution_count": 4,
     "metadata": {},
     "output_type": "execute_result"
    }
   ],
   "source": [
    "data"
   ]
  },
  {
   "cell_type": "code",
   "execution_count": 5,
   "metadata": {},
   "outputs": [
    {
     "data": {
      "text/plain": [
       "['100_2factors',\n",
       " '80_20_ACWI',\n",
       " '80_20_World',\n",
       " '80_20_2factors',\n",
       " '100_1factor',\n",
       " 'lifestrategy60',\n",
       " 'lifestrategy80',\n",
       " 'lifestrategy20',\n",
       " 'lifestrategy0',\n",
       " 'lifestrategy40',\n",
       " 'lifestrategy100',\n",
       " '80_20_1factor',\n",
       " '60_40_World']"
      ]
     },
     "execution_count": 5,
     "metadata": {},
     "output_type": "execute_result"
    }
   ],
   "source": [
    "get_list_of_portfolios()"
   ]
  },
  {
   "cell_type": "code",
   "execution_count": 14,
   "metadata": {},
   "outputs": [
    {
     "data": {
      "text/plain": [
       "['100_2factors_EUR',\n",
       " '100_2factors',\n",
       " '80_20_2factors',\n",
       " '80_20_1factor',\n",
       " '80_20_ACWI',\n",
       " '80_20_World',\n",
       " 'simple100',\n",
       " 'simple80',\n",
       " 'simple60',\n",
       " 'simple40',\n",
       " 'simple20',\n",
       " 'simple0']"
      ]
     },
     "execution_count": 14,
     "metadata": {},
     "output_type": "execute_result"
    }
   ],
   "source": [
    "PORTFOLIOS = [\n",
    "    '100_2factors_EUR',\n",
    "    '100_2factors',\n",
    "    '80_20_2factors',\n",
    "    '80_20_1factor',\n",
    "    '80_20_ACWI',\n",
    "    '80_20_World'\n",
    "]\n",
    "\n",
    "PORTFOLIO_NAMES = {\n",
    "    '100_2factors_EUR': '100% Stocks + SmallCap Value + Momentum + Currency Bias',\n",
    "    '100_2factors'  : '100% Stocks + SmallCap Value + Momentum',\n",
    "    '80_20_2factors': '80% Stocks + 20% Bonds + SmallCap Value + Momentum',\n",
    "    '80_20_1factor' : '80% Stocks + 20% Bonds + SmallCap Value',\n",
    "    '80_20_ACWI'    : '80% Stocks (ACWI) + 20% Bonds',\n",
    "    '80_20_World'   : '80% Stocks (World) + 20% Bonds',\n",
    "}\n",
    "\n",
    "PORTFOLIO_DESCRIPTIONS = {\n",
    "    '100_2factors_EUR': 'This portfolio invests 100% in stocks, focusing on small-cap value and momentum strategies, with a currency bias towards EUR currency.',\n",
    "    '100_2factors'    : 'This portfolio invests 100% in stocks, focusing on small-cap value and momentum strategies.',\n",
    "    '80_20_2factors'  : 'This portfolio allocates 80% to stocks and 20% to bonds, incorporating small-cap value and momentum factors.',\n",
    "    '80_20_1factor'   : 'This portfolio invests 80% in stocks and 20% in bonds, focusing on small-cap value.',\n",
    "    '80_20_ACWI'      : 'This portfolio invests 80% in global stocks (ACWI) and 20% in bonds.',\n",
    "    '80_20_World'     : 'This portfolio invests 80% in world stocks and 20% in bonds.'\n",
    "}\n",
    "\n",
    "# Simple portfolios renamed from lifestrategy to simple\n",
    "SIMPLE_PORTFOLIOS = [\n",
    "    'simple100',\n",
    "    'simple80',\n",
    "    'simple60',\n",
    "    'simple40',\n",
    "    'simple20',\n",
    "    'simple0'\n",
    "]\n",
    "\n",
    "SIMPLE_PORTFOLIO_NAMES = {\n",
    "    'simple100': '100% Stocks',\n",
    "    'simple80' : '80% Stocks + 20% Bonds',\n",
    "    'simple60' : '60% Stocks + 40% Bonds',\n",
    "    'simple40' : '40% Stocks + 60% Bonds',\n",
    "    'simple20' : '20% Stocks + 80% Bonds',\n",
    "    'simple0'  : '100% Bonds'\n",
    "}\n",
    "\n",
    "SIMPLE_PORTFOLIO_DESCRIPTIONS = {\n",
    "    'simple100': 'This portfolio invests 100% in stocks, suitable for aggressive strategies seeking high growth. Stocks are MSCI World.',\n",
    "    'simple80' : 'This portfolio allocates 80% to stocks and 20% to bonds, balancing growth and stability. Stocks are MSCI World.',\n",
    "    'simple60' : 'This portfolio invests 60% in stocks and 40% in bonds, providing moderate growth with some stability. Stocks are MSCI World.',\n",
    "    'simple40' : 'This portfolio invests 40% in stocks and 60% in bonds, focusing on stability with some growth potential. Stocks are MSCI World.',\n",
    "    'simple20' : 'This portfolio invests 20% in stocks and 80% in bonds, prioritizing stability with minimal growth. Stocks are MSCI World.',\n",
    "    'simple0'  : 'This portfolio invests 100% in bonds, suitable for conservative strategies seeking capital preservation.'\n",
    "}\n",
    "\n",
    "ALL_PORTFOLIOS = PORTFOLIOS + SIMPLE_PORTFOLIOS\n",
    "ALL_PORTFOLIOS"
   ]
  },
  {
   "cell_type": "code",
   "execution_count": 6,
   "metadata": {},
   "outputs": [],
   "source": [
    "DEFAULT_LAYOUT = {\n",
    "    \"template\": \"simple_white\",\n",
    "    \"width\": 1200,\n",
    "    \"height\": 800,\n",
    "    \"legend_title\": \"Portfolio\",\n",
    "    \"title_font_size\": 25,\n",
    "    \"title_font_family\": \"Arial\",\n",
    "    \"legend\": dict(font=dict(size=22)),\n",
    "    \"xaxis\": dict(\n",
    "        tickformat=\"%Y\",\n",
    "        title_font=dict(size=22, color=\"black\", family=\"Arial\"),\n",
    "        tickfont=dict(size=16, color=\"black\"),\n",
    "        linecolor=\"black\",\n",
    "        linewidth=2,\n",
    "        showgrid=True,\n",
    "        gridcolor=\"lightgray\",\n",
    "        gridwidth=1\n",
    "    ),\n",
    "    \"yaxis\": dict(\n",
    "        title_font=dict(size=22, color=\"black\", family=\"Arial\"),\n",
    "        tickfont=dict(size=16, color=\"black\"),\n",
    "        linecolor=\"black\",\n",
    "        tickformat=\".1f\",           # Show one decimal\n",
    "        tickprefix=\"\",              # No prefix needed; suffix adds %\n",
    "        ticksuffix=\"%\",            # ✅ Add percent sign without multiplying\n",
    "        linewidth=2,\n",
    "        showgrid=True,\n",
    "        gridcolor=\"lightgray\",\n",
    "        gridwidth=1\n",
    "    ),\n",
    "    \"font\": dict(color=\"black\")\n",
    "}"
   ]
  },
  {
   "cell_type": "code",
   "execution_count": 9,
   "metadata": {},
   "outputs": [],
   "source": [
    "def plot_return_distributions_streamlit(df):\n",
    "    \"\"\"\n",
    "    Create an interactive violin plot showing portfolio return distributions,\n",
    "    with custom median and 5th percentile lines using Plotly and matplotlib colors.\n",
    "    \"\"\"\n",
    "    def _prepare_data(df):\n",
    "        returns_df = df.dropna(how='all')\n",
    "        long_df = returns_df.melt(id_vars='Date', var_name='Portfolio', value_name='Return').dropna()\n",
    "        return long_df\n",
    "\n",
    "    def _get_colors(portfolios):\n",
    "        cmap = plt.get_cmap('tab10')\n",
    "        return {\n",
    "            p: '#{0:02x}{1:02x}{2:02x}'.format(\n",
    "                int(255 * r), int(255 * g), int(255 * b)\n",
    "            )\n",
    "            for p, (r, g, b, _) in zip(portfolios, cmap(range(len(portfolios))))\n",
    "        }\n",
    "\n",
    "    def _get_plot_shapes_and_annotations(medians, p5s, y_positions, colors, line_height=0.6):\n",
    "        shapes, annotations = [], []\n",
    "        for portfolio, y_pos in y_positions.items():\n",
    "            median_val = medians[portfolio]\n",
    "            p5_val = p5s[portfolio]\n",
    "\n",
    "            # Median line\n",
    "            shapes.append(dict(\n",
    "                type='line', x0=median_val, x1=median_val,\n",
    "                y0=y_pos - line_height/2, y1=y_pos + line_height/2,\n",
    "                line=dict(color=colors[portfolio], width=3),\n",
    "                opacity=1,\n",
    "                xref='x', yref='y'\n",
    "            ))\n",
    "            annotations.append(dict(\n",
    "                x=median_val, y=y_pos + line_height / 2 + 0.1,\n",
    "                text=f\"Median: {median_val:.2%}\",\n",
    "                showarrow=False,\n",
    "                font=dict(color=colors[portfolio], size=16),\n",
    "                xanchor='left'\n",
    "            ))\n",
    "\n",
    "            # 5th percentile line\n",
    "            shapes.append(dict(\n",
    "                type='line', x0=p5_val, x1=p5_val,\n",
    "                y0=y_pos - line_height/2, y1=y_pos + line_height/2,\n",
    "                line=dict(color=colors[portfolio], width=3, dash='dash'),\n",
    "                opacity=1,\n",
    "                xref='x', yref='y'\n",
    "            ))\n",
    "            annotations.append(dict(\n",
    "                x=p5_val, y=y_pos - line_height / 2 + 0.65,\n",
    "                text=f\"5th %: {p5_val:.2%}\",\n",
    "                showarrow=False,\n",
    "                font=dict(color=colors[portfolio], size=16),\n",
    "                xanchor='left'\n",
    "            ))\n",
    "\n",
    "        return shapes, annotations\n",
    "\n",
    "    # Data preparation\n",
    "    long_df = _prepare_data(df)\n",
    "    portfolios = long_df['Portfolio'].unique()\n",
    "    colors = _get_colors(portfolios)\n",
    "    plot_height = 230 * len(portfolios)\n",
    "\n",
    "    # Seaborn style (optional)\n",
    "    sns.set(style=\"whitegrid\", context=\"talk\")\n",
    "\n",
    "    # Violin plot\n",
    "    fig = px.violin(\n",
    "        long_df,\n",
    "        y='Portfolio',\n",
    "        x='Return',\n",
    "        color='Portfolio',\n",
    "        box=False,\n",
    "        points='all',\n",
    "        color_discrete_map=colors,\n",
    "        template='simple_white'\n",
    "    )\n",
    "\n",
    "    # Order & positioning\n",
    "    category_order = fig.layout.yaxis.categoryarray or portfolios.tolist()\n",
    "    y_positions = {p: i for i, p in enumerate(category_order)}\n",
    "\n",
    "    # Statistics\n",
    "    medians = long_df.groupby('Portfolio')['Return'].median()\n",
    "    p5s = long_df.groupby('Portfolio')['Return'].quantile(0.05)\n",
    "    shapes, annotations = _get_plot_shapes_and_annotations(medians, p5s, y_positions, colors)\n",
    "\n",
    "    # Final layout update\n",
    "    fig.update_layout(\n",
    "        height=plot_height,\n",
    "        width=1200,\n",
    "        violingap=0.25,\n",
    "        violinmode='overlay',\n",
    "        shapes=shapes,\n",
    "        annotations=annotations,\n",
    "        template='simple_white',\n",
    "        legend=dict(\n",
    "            orientation=\"h\",\n",
    "            yanchor=\"bottom\",\n",
    "            y=1.05,\n",
    "            xanchor=\"center\",\n",
    "            x=0.5,\n",
    "            font=dict(size=22)\n",
    "        ),\n",
    "        font=dict(color=\"black\"),\n",
    "        title_font_size=25,\n",
    "        title_font_family=\"Arial\",\n",
    "        title = \" \",\n",
    "        xaxis=dict(\n",
    "            title=\"Annualized Return (%)\",\n",
    "            title_font=dict(size=22, color=\"black\", family=\"Arial\"),\n",
    "            tickfont=dict(size=16, color=\"black\"),\n",
    "            tickformat=\".1%\",\n",
    "            linecolor=\"black\",\n",
    "            linewidth=2,\n",
    "            showgrid=True,\n",
    "            gridcolor=\"lightgray\"\n",
    "        ),\n",
    "        yaxis=dict(\n",
    "            title=\"Portfolio\",\n",
    "            title_font=dict(size=22, color=\"black\", family=\"Arial\"),\n",
    "            tickfont=dict(size=16, color=\"black\"),\n",
    "            linecolor=\"black\",\n",
    "            linewidth=2,\n",
    "            showgrid=True,\n",
    "            gridcolor=\"lightgray\",\n",
    "            categoryorder='array',\n",
    "            categoryarray=category_order\n",
    "        )\n",
    "    )\n",
    "        # Customize hover template for each trace\n",
    "    fig.update_traces(\n",
    "        hoveron = 'points+kde'\n",
    "        )\n",
    "\n",
    "    return fig\n"
   ]
  },
  {
   "cell_type": "code",
   "execution_count": 15,
   "metadata": {},
   "outputs": [
    {
     "name": "stdout",
     "output_type": "stream",
     "text": [
      "Current date: 2025/08\n",
      "Current date: 2025/08\n",
      "Current date: 2025/08\n",
      "Current date: 2025/08\n",
      "Current date: 2025/08\n",
      "Current date: 2025/08\n",
      "Current date: 2025/08\n",
      "Current date: 2025/08\n"
     ]
    }
   ],
   "source": [
    "portfolios = ['100_2factors_EUR',\n",
    "              '100_2factors',\n",
    "              '80_20_2factors',\n",
    "              'simple100']\n",
    "\n",
    "# portfolios = [ 'lifestrategy40',\n",
    "#                'lifestrategy20',\n",
    "#                'lifestrategy0']\n",
    "\n",
    "for years in [5]:\n",
    "    final_results = None \n",
    "    for portfolio_name in portfolios:\n",
    "\n",
    "        portfolio = load_portfolio(portfolio_name)\n",
    "        data, weights = prune_data_portfolio(portfolio)\n",
    "\n",
    "        # Compute the returns\n",
    "        results = compute_portfolio_returns_combined(*prune_data_portfolio(portfolio), years=years)\n",
    "        results = results.rename(columns={results.columns[-1]: portfolio_name})\n",
    "        results[portfolio_name] = results[portfolio_name].round(5)\n",
    "\n",
    "        final_results = merge_results(final_results, results)\n",
    "\n",
    "\n",
    "    final_results_totalreturn = final_results.copy()\n",
    "\n",
    "    for portfolio_name in portfolios:    \n",
    "        final_results_totalreturn[portfolio_name] = (final_results[portfolio_name] + 1)**years - 1\n"
   ]
  },
  {
   "cell_type": "code",
   "execution_count": 16,
   "metadata": {},
   "outputs": [],
   "source": [
    "def plot_total_returns_streamlit(results, years=None):\n",
    "    \"\"\"\n",
    "    Plots the total returns of indices over time interactively using Plotly and Seaborn style.\n",
    "\n",
    "    Parameters:\n",
    "        results (dict or DataFrame): The results data containing 'Date' and portfolio return columns.\n",
    "        years (int, optional): Number of years used for rolling window annotation.\n",
    "    \"\"\"\n",
    "    df = pd.DataFrame(results)\n",
    "    df[\"Date\"] = pd.to_datetime(df[\"Date\"], format=\"%m/%Y\")\n",
    "    df.set_index(\"Date\", inplace=True)\n",
    "\n",
    "    sns.set(style=\"whitegrid\", context=\"talk\")\n",
    "\n",
    "    df_reset = df.reset_index()\n",
    "    df_melt = df_reset.melt(id_vars=\"Date\", var_name=\"Portfolio\", value_name=\"Total Return\")\n",
    "\n",
    "    # Multiply by 100 to convert to percentage\n",
    "    df_melt[\"Total Return\"] *= 100\n",
    "\n",
    "    fig = px.line(\n",
    "        df_melt,\n",
    "        x=\"Date\",\n",
    "        y=\"Total Return\",\n",
    "        color=\"Portfolio\",\n",
    "        title=\" \",\n",
    "        template=\"simple_white\"\n",
    "    )\n",
    "\n",
    "    fig.update_layout(\n",
    "        legend=dict(\n",
    "            orientation=\"h\",\n",
    "            yanchor=\"bottom\",\n",
    "            y=1.05,\n",
    "            xanchor=\"center\",\n",
    "            x=0.5\n",
    "        )\n",
    "    )\n",
    "    \n",
    "    # ✨ Custom hover menu\n",
    "    fig.update_traces(\n",
    "        mode=\"lines\",\n",
    "        hovertemplate=(\n",
    "            \"<b>%{fullData.name}</b><br>\" +\n",
    "            \"Date: %{x|%b %Y}<br>\" +  # Changed to show Month Year\n",
    "            \"Total Return: %{y:.2f}%<extra></extra>\"\n",
    "        )\n",
    "    )\n",
    "\n",
    "    fig.update_layout(**DEFAULT_LAYOUT)\n",
    "\n",
    "    return fig"
   ]
  },
  {
   "cell_type": "code",
   "execution_count": 17,
   "metadata": {},
   "outputs": [
    {
     "data": {
      "application/vnd.plotly.v1+json": {
       "config": {
        "plotlyServerURL": "https://plot.ly"
       },
       "data": [
        {
         "hovertemplate": "<b>%{fullData.name}</b><br>Date: %{x|%b %Y}<br>Total Return: %{y:.2f}%<extra></extra>",
         "legendgroup": "100_2factors_EUR",
         "line": {
          "color": "#1F77B4",
          "dash": "solid"
         },
         "marker": {
          "symbol": "circle"
         },
         "mode": "lines",
         "name": "100_2factors_EUR",
         "showlegend": true,
         "type": "scattergl",
         "x": [
          "1985-01-01T00:00:00.000000000",
          "1985-02-01T00:00:00.000000000",
          "1985-03-01T00:00:00.000000000",
          "1985-04-01T00:00:00.000000000",
          "1985-05-01T00:00:00.000000000",
          "1985-06-01T00:00:00.000000000",
          "1985-07-01T00:00:00.000000000",
          "1985-08-01T00:00:00.000000000",
          "1985-09-01T00:00:00.000000000",
          "1985-10-01T00:00:00.000000000",
          "1985-11-01T00:00:00.000000000",
          "1985-12-01T00:00:00.000000000",
          "1986-01-01T00:00:00.000000000",
          "1986-02-01T00:00:00.000000000",
          "1986-03-01T00:00:00.000000000",
          "1986-04-01T00:00:00.000000000",
          "1986-05-01T00:00:00.000000000",
          "1986-06-01T00:00:00.000000000",
          "1986-07-01T00:00:00.000000000",
          "1986-08-01T00:00:00.000000000",
          "1986-09-01T00:00:00.000000000",
          "1986-10-01T00:00:00.000000000",
          "1986-11-01T00:00:00.000000000",
          "1986-12-01T00:00:00.000000000",
          "1987-01-01T00:00:00.000000000",
          "1987-02-01T00:00:00.000000000",
          "1987-03-01T00:00:00.000000000",
          "1987-04-01T00:00:00.000000000",
          "1987-05-01T00:00:00.000000000",
          "1987-06-01T00:00:00.000000000",
          "1987-07-01T00:00:00.000000000",
          "1987-08-01T00:00:00.000000000",
          "1987-09-01T00:00:00.000000000",
          "1987-10-01T00:00:00.000000000",
          "1987-11-01T00:00:00.000000000",
          "1987-12-01T00:00:00.000000000",
          "1988-01-01T00:00:00.000000000",
          "1988-02-01T00:00:00.000000000",
          "1988-03-01T00:00:00.000000000",
          "1988-04-01T00:00:00.000000000",
          "1988-05-01T00:00:00.000000000",
          "1988-06-01T00:00:00.000000000",
          "1988-07-01T00:00:00.000000000",
          "1988-08-01T00:00:00.000000000",
          "1988-09-01T00:00:00.000000000",
          "1988-10-01T00:00:00.000000000",
          "1988-11-01T00:00:00.000000000",
          "1988-12-01T00:00:00.000000000",
          "1989-01-01T00:00:00.000000000",
          "1989-02-01T00:00:00.000000000",
          "1989-03-01T00:00:00.000000000",
          "1989-04-01T00:00:00.000000000",
          "1989-05-01T00:00:00.000000000",
          "1989-06-01T00:00:00.000000000",
          "1989-07-01T00:00:00.000000000",
          "1989-08-01T00:00:00.000000000",
          "1989-09-01T00:00:00.000000000",
          "1989-10-01T00:00:00.000000000",
          "1989-11-01T00:00:00.000000000",
          "1989-12-01T00:00:00.000000000",
          "1990-01-01T00:00:00.000000000",
          "1990-02-01T00:00:00.000000000",
          "1990-03-01T00:00:00.000000000",
          "1990-04-01T00:00:00.000000000",
          "1990-05-01T00:00:00.000000000",
          "1990-06-01T00:00:00.000000000",
          "1990-07-01T00:00:00.000000000",
          "1990-08-01T00:00:00.000000000",
          "1990-09-01T00:00:00.000000000",
          "1990-10-01T00:00:00.000000000",
          "1990-11-01T00:00:00.000000000",
          "1990-12-01T00:00:00.000000000",
          "1991-01-01T00:00:00.000000000",
          "1991-02-01T00:00:00.000000000",
          "1991-03-01T00:00:00.000000000",
          "1991-04-01T00:00:00.000000000",
          "1991-05-01T00:00:00.000000000",
          "1991-06-01T00:00:00.000000000",
          "1991-07-01T00:00:00.000000000",
          "1991-08-01T00:00:00.000000000",
          "1991-09-01T00:00:00.000000000",
          "1991-10-01T00:00:00.000000000",
          "1991-11-01T00:00:00.000000000",
          "1991-12-01T00:00:00.000000000",
          "1992-01-01T00:00:00.000000000",
          "1992-02-01T00:00:00.000000000",
          "1992-03-01T00:00:00.000000000",
          "1992-04-01T00:00:00.000000000",
          "1992-05-01T00:00:00.000000000",
          "1992-06-01T00:00:00.000000000",
          "1992-07-01T00:00:00.000000000",
          "1992-08-01T00:00:00.000000000",
          "1992-09-01T00:00:00.000000000",
          "1992-10-01T00:00:00.000000000",
          "1992-11-01T00:00:00.000000000",
          "1992-12-01T00:00:00.000000000",
          "1993-01-01T00:00:00.000000000",
          "1993-02-01T00:00:00.000000000",
          "1993-03-01T00:00:00.000000000",
          "1993-04-01T00:00:00.000000000",
          "1993-05-01T00:00:00.000000000",
          "1993-06-01T00:00:00.000000000",
          "1993-07-01T00:00:00.000000000",
          "1993-08-01T00:00:00.000000000",
          "1993-09-01T00:00:00.000000000",
          "1993-10-01T00:00:00.000000000",
          "1993-11-01T00:00:00.000000000",
          "1993-12-01T00:00:00.000000000",
          "1994-01-01T00:00:00.000000000",
          "1994-02-01T00:00:00.000000000",
          "1994-03-01T00:00:00.000000000",
          "1994-04-01T00:00:00.000000000",
          "1994-05-01T00:00:00.000000000",
          "1994-06-01T00:00:00.000000000",
          "1994-07-01T00:00:00.000000000",
          "1994-08-01T00:00:00.000000000",
          "1994-09-01T00:00:00.000000000",
          "1994-10-01T00:00:00.000000000",
          "1994-11-01T00:00:00.000000000",
          "1994-12-01T00:00:00.000000000",
          "1995-01-01T00:00:00.000000000",
          "1995-02-01T00:00:00.000000000",
          "1995-03-01T00:00:00.000000000",
          "1995-04-01T00:00:00.000000000",
          "1995-05-01T00:00:00.000000000",
          "1995-06-01T00:00:00.000000000",
          "1995-07-01T00:00:00.000000000",
          "1995-08-01T00:00:00.000000000",
          "1995-09-01T00:00:00.000000000",
          "1995-10-01T00:00:00.000000000",
          "1995-11-01T00:00:00.000000000",
          "1995-12-01T00:00:00.000000000",
          "1996-01-01T00:00:00.000000000",
          "1996-02-01T00:00:00.000000000",
          "1996-03-01T00:00:00.000000000",
          "1996-04-01T00:00:00.000000000",
          "1996-05-01T00:00:00.000000000",
          "1996-06-01T00:00:00.000000000",
          "1996-07-01T00:00:00.000000000",
          "1996-08-01T00:00:00.000000000",
          "1996-09-01T00:00:00.000000000",
          "1996-10-01T00:00:00.000000000",
          "1996-11-01T00:00:00.000000000",
          "1996-12-01T00:00:00.000000000",
          "1997-01-01T00:00:00.000000000",
          "1997-02-01T00:00:00.000000000",
          "1997-03-01T00:00:00.000000000",
          "1997-04-01T00:00:00.000000000",
          "1997-05-01T00:00:00.000000000",
          "1997-06-01T00:00:00.000000000",
          "1997-07-01T00:00:00.000000000",
          "1997-08-01T00:00:00.000000000",
          "1997-09-01T00:00:00.000000000",
          "1997-10-01T00:00:00.000000000",
          "1997-11-01T00:00:00.000000000",
          "1997-12-01T00:00:00.000000000",
          "1998-01-01T00:00:00.000000000",
          "1998-02-01T00:00:00.000000000",
          "1998-03-01T00:00:00.000000000",
          "1998-04-01T00:00:00.000000000",
          "1998-05-01T00:00:00.000000000",
          "1998-06-01T00:00:00.000000000",
          "1998-07-01T00:00:00.000000000",
          "1998-08-01T00:00:00.000000000",
          "1998-09-01T00:00:00.000000000",
          "1998-10-01T00:00:00.000000000",
          "1998-11-01T00:00:00.000000000",
          "1998-12-01T00:00:00.000000000",
          "1999-01-01T00:00:00.000000000",
          "1999-02-01T00:00:00.000000000",
          "1999-03-01T00:00:00.000000000",
          "1999-04-01T00:00:00.000000000",
          "1999-05-01T00:00:00.000000000",
          "1999-07-01T00:00:00.000000000",
          "1999-09-01T00:00:00.000000000",
          "1999-10-01T00:00:00.000000000",
          "1999-11-01T00:00:00.000000000",
          "1999-12-01T00:00:00.000000000",
          "2000-01-01T00:00:00.000000000",
          "2000-03-01T00:00:00.000000000",
          "2000-04-01T00:00:00.000000000",
          "2000-05-01T00:00:00.000000000",
          "2000-06-01T00:00:00.000000000",
          "2000-07-01T00:00:00.000000000",
          "2000-08-01T00:00:00.000000000",
          "2000-09-01T00:00:00.000000000",
          "2000-10-01T00:00:00.000000000",
          "2000-11-01T00:00:00.000000000",
          "2000-12-01T00:00:00.000000000",
          "2001-01-01T00:00:00.000000000",
          "2001-02-01T00:00:00.000000000",
          "2001-03-01T00:00:00.000000000",
          "2001-04-01T00:00:00.000000000",
          "2001-05-01T00:00:00.000000000",
          "2001-06-01T00:00:00.000000000",
          "2001-07-01T00:00:00.000000000",
          "2001-08-01T00:00:00.000000000",
          "2001-09-01T00:00:00.000000000",
          "2001-10-01T00:00:00.000000000",
          "2001-11-01T00:00:00.000000000",
          "2001-12-01T00:00:00.000000000",
          "2002-02-01T00:00:00.000000000",
          "2002-03-01T00:00:00.000000000",
          "2002-04-01T00:00:00.000000000",
          "2002-05-01T00:00:00.000000000",
          "2002-06-01T00:00:00.000000000",
          "2002-07-01T00:00:00.000000000",
          "2002-08-01T00:00:00.000000000",
          "2002-09-01T00:00:00.000000000",
          "2002-10-01T00:00:00.000000000",
          "2002-11-01T00:00:00.000000000",
          "2002-12-01T00:00:00.000000000",
          "2003-01-01T00:00:00.000000000",
          "2003-02-01T00:00:00.000000000",
          "2003-03-01T00:00:00.000000000",
          "2003-04-01T00:00:00.000000000",
          "2003-05-01T00:00:00.000000000",
          "2003-06-01T00:00:00.000000000",
          "2003-08-01T00:00:00.000000000",
          "2003-09-01T00:00:00.000000000",
          "2003-10-01T00:00:00.000000000",
          "2003-11-01T00:00:00.000000000",
          "2003-12-01T00:00:00.000000000",
          "2004-01-01T00:00:00.000000000",
          "2004-02-01T00:00:00.000000000",
          "2004-03-01T00:00:00.000000000",
          "2004-04-01T00:00:00.000000000",
          "2004-05-01T00:00:00.000000000",
          "2004-06-01T00:00:00.000000000",
          "2004-07-01T00:00:00.000000000",
          "2004-08-01T00:00:00.000000000",
          "2004-09-01T00:00:00.000000000",
          "2004-10-01T00:00:00.000000000",
          "2004-11-01T00:00:00.000000000",
          "2004-12-01T00:00:00.000000000",
          "2005-01-01T00:00:00.000000000",
          "2005-02-01T00:00:00.000000000",
          "2005-03-01T00:00:00.000000000",
          "2005-04-01T00:00:00.000000000",
          "2005-05-01T00:00:00.000000000",
          "2005-06-01T00:00:00.000000000",
          "2005-07-01T00:00:00.000000000",
          "2005-08-01T00:00:00.000000000",
          "2005-09-01T00:00:00.000000000",
          "2005-10-01T00:00:00.000000000",
          "2005-11-01T00:00:00.000000000",
          "2005-12-01T00:00:00.000000000",
          "2006-01-01T00:00:00.000000000",
          "2006-02-01T00:00:00.000000000",
          "2006-03-01T00:00:00.000000000",
          "2006-04-01T00:00:00.000000000",
          "2006-05-01T00:00:00.000000000",
          "2006-06-01T00:00:00.000000000",
          "2006-07-01T00:00:00.000000000",
          "2006-08-01T00:00:00.000000000",
          "2006-09-01T00:00:00.000000000",
          "2006-10-01T00:00:00.000000000",
          "2006-11-01T00:00:00.000000000",
          "2006-12-01T00:00:00.000000000",
          "2007-01-01T00:00:00.000000000",
          "2007-02-01T00:00:00.000000000",
          "2007-03-01T00:00:00.000000000",
          "2007-04-01T00:00:00.000000000",
          "2007-05-01T00:00:00.000000000",
          "2007-06-01T00:00:00.000000000",
          "2007-07-01T00:00:00.000000000",
          "2007-08-01T00:00:00.000000000",
          "2007-09-01T00:00:00.000000000",
          "2007-10-01T00:00:00.000000000",
          "2007-11-01T00:00:00.000000000",
          "2007-12-01T00:00:00.000000000",
          "2008-01-01T00:00:00.000000000",
          "2008-02-01T00:00:00.000000000",
          "2008-03-01T00:00:00.000000000",
          "2008-04-01T00:00:00.000000000",
          "2008-05-01T00:00:00.000000000",
          "2008-06-01T00:00:00.000000000",
          "2008-07-01T00:00:00.000000000",
          "2008-08-01T00:00:00.000000000",
          "2008-09-01T00:00:00.000000000",
          "2008-11-01T00:00:00.000000000",
          "2008-12-01T00:00:00.000000000",
          "2009-01-01T00:00:00.000000000",
          "2009-02-01T00:00:00.000000000",
          "2009-04-01T00:00:00.000000000",
          "2009-05-01T00:00:00.000000000",
          "2009-06-01T00:00:00.000000000",
          "2009-07-01T00:00:00.000000000",
          "2009-08-01T00:00:00.000000000",
          "2009-09-01T00:00:00.000000000",
          "2009-10-01T00:00:00.000000000",
          "2009-11-01T00:00:00.000000000",
          "2009-12-01T00:00:00.000000000",
          "2010-01-01T00:00:00.000000000",
          "2010-02-01T00:00:00.000000000",
          "2010-03-01T00:00:00.000000000",
          "2010-04-01T00:00:00.000000000",
          "2010-05-01T00:00:00.000000000",
          "2010-06-01T00:00:00.000000000",
          "2010-07-01T00:00:00.000000000",
          "2010-08-01T00:00:00.000000000",
          "2010-09-01T00:00:00.000000000",
          "2010-10-01T00:00:00.000000000",
          "2010-11-01T00:00:00.000000000",
          "2010-12-01T00:00:00.000000000",
          "2011-01-01T00:00:00.000000000",
          "2011-02-01T00:00:00.000000000",
          "2011-03-01T00:00:00.000000000",
          "2011-04-01T00:00:00.000000000",
          "2011-05-01T00:00:00.000000000",
          "2011-06-01T00:00:00.000000000",
          "2011-07-01T00:00:00.000000000",
          "2011-08-01T00:00:00.000000000",
          "2011-09-01T00:00:00.000000000",
          "2011-10-01T00:00:00.000000000",
          "2011-11-01T00:00:00.000000000",
          "2011-12-01T00:00:00.000000000",
          "2012-01-01T00:00:00.000000000",
          "2012-02-01T00:00:00.000000000",
          "2012-03-01T00:00:00.000000000",
          "2012-04-01T00:00:00.000000000",
          "2012-05-01T00:00:00.000000000",
          "2012-06-01T00:00:00.000000000",
          "2012-07-01T00:00:00.000000000",
          "2012-08-01T00:00:00.000000000",
          "2012-09-01T00:00:00.000000000",
          "2012-10-01T00:00:00.000000000",
          "2012-11-01T00:00:00.000000000",
          "2012-12-01T00:00:00.000000000",
          "2013-01-01T00:00:00.000000000",
          "2013-02-01T00:00:00.000000000",
          "2013-03-01T00:00:00.000000000",
          "2013-04-01T00:00:00.000000000",
          "2013-05-01T00:00:00.000000000",
          "2013-06-01T00:00:00.000000000",
          "2013-07-01T00:00:00.000000000",
          "2013-08-01T00:00:00.000000000",
          "2013-09-01T00:00:00.000000000",
          "2013-10-01T00:00:00.000000000",
          "2013-11-01T00:00:00.000000000",
          "2013-12-01T00:00:00.000000000",
          "2014-01-01T00:00:00.000000000",
          "2014-02-01T00:00:00.000000000",
          "2014-03-01T00:00:00.000000000",
          "2014-04-01T00:00:00.000000000",
          "2014-05-01T00:00:00.000000000",
          "2014-06-01T00:00:00.000000000",
          "2014-07-01T00:00:00.000000000",
          "2014-08-01T00:00:00.000000000",
          "2014-09-01T00:00:00.000000000",
          "2014-10-01T00:00:00.000000000",
          "2014-11-01T00:00:00.000000000",
          "2014-12-01T00:00:00.000000000",
          "2015-01-01T00:00:00.000000000",
          "2015-02-01T00:00:00.000000000",
          "2015-03-01T00:00:00.000000000",
          "2015-04-01T00:00:00.000000000",
          "2015-05-01T00:00:00.000000000",
          "2015-06-01T00:00:00.000000000",
          "2015-07-01T00:00:00.000000000",
          "2015-08-01T00:00:00.000000000",
          "2015-09-01T00:00:00.000000000",
          "2015-10-01T00:00:00.000000000",
          "2015-11-01T00:00:00.000000000",
          "2015-12-01T00:00:00.000000000",
          "2016-01-01T00:00:00.000000000",
          "2016-02-01T00:00:00.000000000",
          "2016-03-01T00:00:00.000000000",
          "2016-04-01T00:00:00.000000000",
          "2016-05-01T00:00:00.000000000",
          "2016-06-01T00:00:00.000000000",
          "2016-07-01T00:00:00.000000000",
          "2016-08-01T00:00:00.000000000",
          "2016-09-01T00:00:00.000000000",
          "2016-10-01T00:00:00.000000000",
          "2016-11-01T00:00:00.000000000",
          "2016-12-01T00:00:00.000000000",
          "2017-01-01T00:00:00.000000000",
          "2017-02-01T00:00:00.000000000",
          "2017-03-01T00:00:00.000000000",
          "2017-04-01T00:00:00.000000000",
          "2017-05-01T00:00:00.000000000",
          "2017-06-01T00:00:00.000000000",
          "2017-07-01T00:00:00.000000000",
          "2017-08-01T00:00:00.000000000",
          "2017-09-01T00:00:00.000000000",
          "2017-10-01T00:00:00.000000000",
          "2017-11-01T00:00:00.000000000",
          "2017-12-01T00:00:00.000000000",
          "2018-01-01T00:00:00.000000000",
          "2018-02-01T00:00:00.000000000",
          "2018-03-01T00:00:00.000000000",
          "2018-04-01T00:00:00.000000000",
          "2018-05-01T00:00:00.000000000",
          "2018-06-01T00:00:00.000000000",
          "2018-07-01T00:00:00.000000000",
          "2018-08-01T00:00:00.000000000",
          "2018-09-01T00:00:00.000000000",
          "2018-10-01T00:00:00.000000000",
          "2018-11-01T00:00:00.000000000",
          "2018-12-01T00:00:00.000000000",
          "2019-01-01T00:00:00.000000000",
          "2019-02-01T00:00:00.000000000",
          "2019-03-01T00:00:00.000000000",
          "2019-04-01T00:00:00.000000000",
          "2019-05-01T00:00:00.000000000",
          "2019-06-01T00:00:00.000000000",
          "2019-07-01T00:00:00.000000000",
          "2019-08-01T00:00:00.000000000",
          "2019-09-01T00:00:00.000000000",
          "2019-10-01T00:00:00.000000000",
          "2019-11-01T00:00:00.000000000",
          "2019-12-01T00:00:00.000000000",
          "2020-01-01T00:00:00.000000000",
          "2020-02-01T00:00:00.000000000",
          "2020-03-01T00:00:00.000000000",
          "2020-04-01T00:00:00.000000000"
         ],
         "xaxis": "x",
         "y": {
          "bdata": "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",
          "dtype": "f8"
         },
         "yaxis": "y"
        },
        {
         "hovertemplate": "<b>%{fullData.name}</b><br>Date: %{x|%b %Y}<br>Total Return: %{y:.2f}%<extra></extra>",
         "legendgroup": "100_2factors",
         "line": {
          "color": "#FF7F0E",
          "dash": "solid"
         },
         "marker": {
          "symbol": "circle"
         },
         "mode": "lines",
         "name": "100_2factors",
         "showlegend": true,
         "type": "scattergl",
         "x": [
          "1985-01-01T00:00:00.000000000",
          "1985-02-01T00:00:00.000000000",
          "1985-03-01T00:00:00.000000000",
          "1985-04-01T00:00:00.000000000",
          "1985-05-01T00:00:00.000000000",
          "1985-06-01T00:00:00.000000000",
          "1985-07-01T00:00:00.000000000",
          "1985-08-01T00:00:00.000000000",
          "1985-09-01T00:00:00.000000000",
          "1985-10-01T00:00:00.000000000",
          "1985-11-01T00:00:00.000000000",
          "1985-12-01T00:00:00.000000000",
          "1986-01-01T00:00:00.000000000",
          "1986-02-01T00:00:00.000000000",
          "1986-03-01T00:00:00.000000000",
          "1986-04-01T00:00:00.000000000",
          "1986-05-01T00:00:00.000000000",
          "1986-06-01T00:00:00.000000000",
          "1986-07-01T00:00:00.000000000",
          "1986-08-01T00:00:00.000000000",
          "1986-09-01T00:00:00.000000000",
          "1986-10-01T00:00:00.000000000",
          "1986-11-01T00:00:00.000000000",
          "1986-12-01T00:00:00.000000000",
          "1987-01-01T00:00:00.000000000",
          "1987-02-01T00:00:00.000000000",
          "1987-03-01T00:00:00.000000000",
          "1987-04-01T00:00:00.000000000",
          "1987-05-01T00:00:00.000000000",
          "1987-06-01T00:00:00.000000000",
          "1987-07-01T00:00:00.000000000",
          "1987-08-01T00:00:00.000000000",
          "1987-09-01T00:00:00.000000000",
          "1987-10-01T00:00:00.000000000",
          "1987-11-01T00:00:00.000000000",
          "1987-12-01T00:00:00.000000000",
          "1988-01-01T00:00:00.000000000",
          "1988-02-01T00:00:00.000000000",
          "1988-03-01T00:00:00.000000000",
          "1988-04-01T00:00:00.000000000",
          "1988-05-01T00:00:00.000000000",
          "1988-06-01T00:00:00.000000000",
          "1988-07-01T00:00:00.000000000",
          "1988-08-01T00:00:00.000000000",
          "1988-09-01T00:00:00.000000000",
          "1988-10-01T00:00:00.000000000",
          "1988-11-01T00:00:00.000000000",
          "1988-12-01T00:00:00.000000000",
          "1989-01-01T00:00:00.000000000",
          "1989-02-01T00:00:00.000000000",
          "1989-03-01T00:00:00.000000000",
          "1989-04-01T00:00:00.000000000",
          "1989-05-01T00:00:00.000000000",
          "1989-06-01T00:00:00.000000000",
          "1989-07-01T00:00:00.000000000",
          "1989-08-01T00:00:00.000000000",
          "1989-09-01T00:00:00.000000000",
          "1989-10-01T00:00:00.000000000",
          "1989-11-01T00:00:00.000000000",
          "1989-12-01T00:00:00.000000000",
          "1990-01-01T00:00:00.000000000",
          "1990-02-01T00:00:00.000000000",
          "1990-03-01T00:00:00.000000000",
          "1990-04-01T00:00:00.000000000",
          "1990-05-01T00:00:00.000000000",
          "1990-06-01T00:00:00.000000000",
          "1990-07-01T00:00:00.000000000",
          "1990-08-01T00:00:00.000000000",
          "1990-09-01T00:00:00.000000000",
          "1990-10-01T00:00:00.000000000",
          "1990-11-01T00:00:00.000000000",
          "1990-12-01T00:00:00.000000000",
          "1991-01-01T00:00:00.000000000",
          "1991-02-01T00:00:00.000000000",
          "1991-03-01T00:00:00.000000000",
          "1991-04-01T00:00:00.000000000",
          "1991-05-01T00:00:00.000000000",
          "1991-06-01T00:00:00.000000000",
          "1991-07-01T00:00:00.000000000",
          "1991-08-01T00:00:00.000000000",
          "1991-09-01T00:00:00.000000000",
          "1991-10-01T00:00:00.000000000",
          "1991-11-01T00:00:00.000000000",
          "1991-12-01T00:00:00.000000000",
          "1992-01-01T00:00:00.000000000",
          "1992-02-01T00:00:00.000000000",
          "1992-03-01T00:00:00.000000000",
          "1992-04-01T00:00:00.000000000",
          "1992-05-01T00:00:00.000000000",
          "1992-06-01T00:00:00.000000000",
          "1992-07-01T00:00:00.000000000",
          "1992-08-01T00:00:00.000000000",
          "1992-09-01T00:00:00.000000000",
          "1992-10-01T00:00:00.000000000",
          "1992-11-01T00:00:00.000000000",
          "1992-12-01T00:00:00.000000000",
          "1993-01-01T00:00:00.000000000",
          "1993-02-01T00:00:00.000000000",
          "1993-03-01T00:00:00.000000000",
          "1993-04-01T00:00:00.000000000",
          "1993-05-01T00:00:00.000000000",
          "1993-06-01T00:00:00.000000000",
          "1993-07-01T00:00:00.000000000",
          "1993-08-01T00:00:00.000000000",
          "1993-09-01T00:00:00.000000000",
          "1993-10-01T00:00:00.000000000",
          "1993-11-01T00:00:00.000000000",
          "1993-12-01T00:00:00.000000000",
          "1994-01-01T00:00:00.000000000",
          "1994-02-01T00:00:00.000000000",
          "1994-03-01T00:00:00.000000000",
          "1994-04-01T00:00:00.000000000",
          "1994-05-01T00:00:00.000000000",
          "1994-06-01T00:00:00.000000000",
          "1994-07-01T00:00:00.000000000",
          "1994-08-01T00:00:00.000000000",
          "1994-09-01T00:00:00.000000000",
          "1994-10-01T00:00:00.000000000",
          "1994-11-01T00:00:00.000000000",
          "1994-12-01T00:00:00.000000000",
          "1995-01-01T00:00:00.000000000",
          "1995-02-01T00:00:00.000000000",
          "1995-03-01T00:00:00.000000000",
          "1995-04-01T00:00:00.000000000",
          "1995-05-01T00:00:00.000000000",
          "1995-06-01T00:00:00.000000000",
          "1995-07-01T00:00:00.000000000",
          "1995-08-01T00:00:00.000000000",
          "1995-09-01T00:00:00.000000000",
          "1995-10-01T00:00:00.000000000",
          "1995-11-01T00:00:00.000000000",
          "1995-12-01T00:00:00.000000000",
          "1996-01-01T00:00:00.000000000",
          "1996-02-01T00:00:00.000000000",
          "1996-03-01T00:00:00.000000000",
          "1996-04-01T00:00:00.000000000",
          "1996-05-01T00:00:00.000000000",
          "1996-06-01T00:00:00.000000000",
          "1996-07-01T00:00:00.000000000",
          "1996-08-01T00:00:00.000000000",
          "1996-09-01T00:00:00.000000000",
          "1996-10-01T00:00:00.000000000",
          "1996-11-01T00:00:00.000000000",
          "1996-12-01T00:00:00.000000000",
          "1997-01-01T00:00:00.000000000",
          "1997-02-01T00:00:00.000000000",
          "1997-03-01T00:00:00.000000000",
          "1997-04-01T00:00:00.000000000",
          "1997-05-01T00:00:00.000000000",
          "1997-06-01T00:00:00.000000000",
          "1997-07-01T00:00:00.000000000",
          "1997-08-01T00:00:00.000000000",
          "1997-09-01T00:00:00.000000000",
          "1997-10-01T00:00:00.000000000",
          "1997-11-01T00:00:00.000000000",
          "1997-12-01T00:00:00.000000000",
          "1998-01-01T00:00:00.000000000",
          "1998-02-01T00:00:00.000000000",
          "1998-03-01T00:00:00.000000000",
          "1998-04-01T00:00:00.000000000",
          "1998-05-01T00:00:00.000000000",
          "1998-06-01T00:00:00.000000000",
          "1998-07-01T00:00:00.000000000",
          "1998-08-01T00:00:00.000000000",
          "1998-09-01T00:00:00.000000000",
          "1998-10-01T00:00:00.000000000",
          "1998-11-01T00:00:00.000000000",
          "1998-12-01T00:00:00.000000000",
          "1999-01-01T00:00:00.000000000",
          "1999-02-01T00:00:00.000000000",
          "1999-03-01T00:00:00.000000000",
          "1999-04-01T00:00:00.000000000",
          "1999-05-01T00:00:00.000000000",
          "1999-07-01T00:00:00.000000000",
          "1999-09-01T00:00:00.000000000",
          "1999-10-01T00:00:00.000000000",
          "1999-11-01T00:00:00.000000000",
          "1999-12-01T00:00:00.000000000",
          "2000-01-01T00:00:00.000000000",
          "2000-03-01T00:00:00.000000000",
          "2000-04-01T00:00:00.000000000",
          "2000-05-01T00:00:00.000000000",
          "2000-06-01T00:00:00.000000000",
          "2000-07-01T00:00:00.000000000",
          "2000-08-01T00:00:00.000000000",
          "2000-09-01T00:00:00.000000000",
          "2000-10-01T00:00:00.000000000",
          "2000-11-01T00:00:00.000000000",
          "2000-12-01T00:00:00.000000000",
          "2001-01-01T00:00:00.000000000",
          "2001-02-01T00:00:00.000000000",
          "2001-03-01T00:00:00.000000000",
          "2001-04-01T00:00:00.000000000",
          "2001-05-01T00:00:00.000000000",
          "2001-06-01T00:00:00.000000000",
          "2001-07-01T00:00:00.000000000",
          "2001-08-01T00:00:00.000000000",
          "2001-09-01T00:00:00.000000000",
          "2001-10-01T00:00:00.000000000",
          "2001-11-01T00:00:00.000000000",
          "2001-12-01T00:00:00.000000000",
          "2002-02-01T00:00:00.000000000",
          "2002-03-01T00:00:00.000000000",
          "2002-04-01T00:00:00.000000000",
          "2002-05-01T00:00:00.000000000",
          "2002-06-01T00:00:00.000000000",
          "2002-07-01T00:00:00.000000000",
          "2002-08-01T00:00:00.000000000",
          "2002-09-01T00:00:00.000000000",
          "2002-10-01T00:00:00.000000000",
          "2002-11-01T00:00:00.000000000",
          "2002-12-01T00:00:00.000000000",
          "2003-01-01T00:00:00.000000000",
          "2003-02-01T00:00:00.000000000",
          "2003-03-01T00:00:00.000000000",
          "2003-04-01T00:00:00.000000000",
          "2003-05-01T00:00:00.000000000",
          "2003-06-01T00:00:00.000000000",
          "2003-08-01T00:00:00.000000000",
          "2003-09-01T00:00:00.000000000",
          "2003-10-01T00:00:00.000000000",
          "2003-11-01T00:00:00.000000000",
          "2003-12-01T00:00:00.000000000",
          "2004-01-01T00:00:00.000000000",
          "2004-02-01T00:00:00.000000000",
          "2004-03-01T00:00:00.000000000",
          "2004-04-01T00:00:00.000000000",
          "2004-05-01T00:00:00.000000000",
          "2004-06-01T00:00:00.000000000",
          "2004-07-01T00:00:00.000000000",
          "2004-08-01T00:00:00.000000000",
          "2004-09-01T00:00:00.000000000",
          "2004-10-01T00:00:00.000000000",
          "2004-11-01T00:00:00.000000000",
          "2004-12-01T00:00:00.000000000",
          "2005-01-01T00:00:00.000000000",
          "2005-02-01T00:00:00.000000000",
          "2005-03-01T00:00:00.000000000",
          "2005-04-01T00:00:00.000000000",
          "2005-05-01T00:00:00.000000000",
          "2005-06-01T00:00:00.000000000",
          "2005-07-01T00:00:00.000000000",
          "2005-08-01T00:00:00.000000000",
          "2005-09-01T00:00:00.000000000",
          "2005-10-01T00:00:00.000000000",
          "2005-11-01T00:00:00.000000000",
          "2005-12-01T00:00:00.000000000",
          "2006-01-01T00:00:00.000000000",
          "2006-02-01T00:00:00.000000000",
          "2006-03-01T00:00:00.000000000",
          "2006-04-01T00:00:00.000000000",
          "2006-05-01T00:00:00.000000000",
          "2006-06-01T00:00:00.000000000",
          "2006-07-01T00:00:00.000000000",
          "2006-08-01T00:00:00.000000000",
          "2006-09-01T00:00:00.000000000",
          "2006-10-01T00:00:00.000000000",
          "2006-11-01T00:00:00.000000000",
          "2006-12-01T00:00:00.000000000",
          "2007-01-01T00:00:00.000000000",
          "2007-02-01T00:00:00.000000000",
          "2007-03-01T00:00:00.000000000",
          "2007-04-01T00:00:00.000000000",
          "2007-05-01T00:00:00.000000000",
          "2007-06-01T00:00:00.000000000",
          "2007-07-01T00:00:00.000000000",
          "2007-08-01T00:00:00.000000000",
          "2007-09-01T00:00:00.000000000",
          "2007-10-01T00:00:00.000000000",
          "2007-11-01T00:00:00.000000000",
          "2007-12-01T00:00:00.000000000",
          "2008-01-01T00:00:00.000000000",
          "2008-02-01T00:00:00.000000000",
          "2008-03-01T00:00:00.000000000",
          "2008-04-01T00:00:00.000000000",
          "2008-05-01T00:00:00.000000000",
          "2008-06-01T00:00:00.000000000",
          "2008-07-01T00:00:00.000000000",
          "2008-08-01T00:00:00.000000000",
          "2008-09-01T00:00:00.000000000",
          "2008-11-01T00:00:00.000000000",
          "2008-12-01T00:00:00.000000000",
          "2009-01-01T00:00:00.000000000",
          "2009-02-01T00:00:00.000000000",
          "2009-04-01T00:00:00.000000000",
          "2009-05-01T00:00:00.000000000",
          "2009-06-01T00:00:00.000000000",
          "2009-07-01T00:00:00.000000000",
          "2009-08-01T00:00:00.000000000",
          "2009-09-01T00:00:00.000000000",
          "2009-10-01T00:00:00.000000000",
          "2009-11-01T00:00:00.000000000",
          "2009-12-01T00:00:00.000000000",
          "2010-01-01T00:00:00.000000000",
          "2010-02-01T00:00:00.000000000",
          "2010-03-01T00:00:00.000000000",
          "2010-04-01T00:00:00.000000000",
          "2010-05-01T00:00:00.000000000",
          "2010-06-01T00:00:00.000000000",
          "2010-07-01T00:00:00.000000000",
          "2010-08-01T00:00:00.000000000",
          "2010-09-01T00:00:00.000000000",
          "2010-10-01T00:00:00.000000000",
          "2010-11-01T00:00:00.000000000",
          "2010-12-01T00:00:00.000000000",
          "2011-01-01T00:00:00.000000000",
          "2011-02-01T00:00:00.000000000",
          "2011-03-01T00:00:00.000000000",
          "2011-04-01T00:00:00.000000000",
          "2011-05-01T00:00:00.000000000",
          "2011-06-01T00:00:00.000000000",
          "2011-07-01T00:00:00.000000000",
          "2011-08-01T00:00:00.000000000",
          "2011-09-01T00:00:00.000000000",
          "2011-10-01T00:00:00.000000000",
          "2011-11-01T00:00:00.000000000",
          "2011-12-01T00:00:00.000000000",
          "2012-01-01T00:00:00.000000000",
          "2012-02-01T00:00:00.000000000",
          "2012-03-01T00:00:00.000000000",
          "2012-04-01T00:00:00.000000000",
          "2012-05-01T00:00:00.000000000",
          "2012-06-01T00:00:00.000000000",
          "2012-07-01T00:00:00.000000000",
          "2012-08-01T00:00:00.000000000",
          "2012-09-01T00:00:00.000000000",
          "2012-10-01T00:00:00.000000000",
          "2012-11-01T00:00:00.000000000",
          "2012-12-01T00:00:00.000000000",
          "2013-01-01T00:00:00.000000000",
          "2013-02-01T00:00:00.000000000",
          "2013-03-01T00:00:00.000000000",
          "2013-04-01T00:00:00.000000000",
          "2013-05-01T00:00:00.000000000",
          "2013-06-01T00:00:00.000000000",
          "2013-07-01T00:00:00.000000000",
          "2013-08-01T00:00:00.000000000",
          "2013-09-01T00:00:00.000000000",
          "2013-10-01T00:00:00.000000000",
          "2013-11-01T00:00:00.000000000",
          "2013-12-01T00:00:00.000000000",
          "2014-01-01T00:00:00.000000000",
          "2014-02-01T00:00:00.000000000",
          "2014-03-01T00:00:00.000000000",
          "2014-04-01T00:00:00.000000000",
          "2014-05-01T00:00:00.000000000",
          "2014-06-01T00:00:00.000000000",
          "2014-07-01T00:00:00.000000000",
          "2014-08-01T00:00:00.000000000",
          "2014-09-01T00:00:00.000000000",
          "2014-10-01T00:00:00.000000000",
          "2014-11-01T00:00:00.000000000",
          "2014-12-01T00:00:00.000000000",
          "2015-01-01T00:00:00.000000000",
          "2015-02-01T00:00:00.000000000",
          "2015-03-01T00:00:00.000000000",
          "2015-04-01T00:00:00.000000000",
          "2015-05-01T00:00:00.000000000",
          "2015-06-01T00:00:00.000000000",
          "2015-07-01T00:00:00.000000000",
          "2015-08-01T00:00:00.000000000",
          "2015-09-01T00:00:00.000000000",
          "2015-10-01T00:00:00.000000000",
          "2015-11-01T00:00:00.000000000",
          "2015-12-01T00:00:00.000000000",
          "2016-01-01T00:00:00.000000000",
          "2016-02-01T00:00:00.000000000",
          "2016-03-01T00:00:00.000000000",
          "2016-04-01T00:00:00.000000000",
          "2016-05-01T00:00:00.000000000",
          "2016-06-01T00:00:00.000000000",
          "2016-07-01T00:00:00.000000000",
          "2016-08-01T00:00:00.000000000",
          "2016-09-01T00:00:00.000000000",
          "2016-10-01T00:00:00.000000000",
          "2016-11-01T00:00:00.000000000",
          "2016-12-01T00:00:00.000000000",
          "2017-01-01T00:00:00.000000000",
          "2017-02-01T00:00:00.000000000",
          "2017-03-01T00:00:00.000000000",
          "2017-04-01T00:00:00.000000000",
          "2017-05-01T00:00:00.000000000",
          "2017-06-01T00:00:00.000000000",
          "2017-07-01T00:00:00.000000000",
          "2017-08-01T00:00:00.000000000",
          "2017-09-01T00:00:00.000000000",
          "2017-10-01T00:00:00.000000000",
          "2017-11-01T00:00:00.000000000",
          "2017-12-01T00:00:00.000000000",
          "2018-01-01T00:00:00.000000000",
          "2018-02-01T00:00:00.000000000",
          "2018-03-01T00:00:00.000000000",
          "2018-04-01T00:00:00.000000000",
          "2018-05-01T00:00:00.000000000",
          "2018-06-01T00:00:00.000000000",
          "2018-07-01T00:00:00.000000000",
          "2018-08-01T00:00:00.000000000",
          "2018-09-01T00:00:00.000000000",
          "2018-10-01T00:00:00.000000000",
          "2018-11-01T00:00:00.000000000",
          "2018-12-01T00:00:00.000000000",
          "2019-01-01T00:00:00.000000000",
          "2019-02-01T00:00:00.000000000",
          "2019-03-01T00:00:00.000000000",
          "2019-04-01T00:00:00.000000000",
          "2019-05-01T00:00:00.000000000",
          "2019-06-01T00:00:00.000000000",
          "2019-07-01T00:00:00.000000000",
          "2019-08-01T00:00:00.000000000",
          "2019-09-01T00:00:00.000000000",
          "2019-10-01T00:00:00.000000000",
          "2019-11-01T00:00:00.000000000",
          "2019-12-01T00:00:00.000000000",
          "2020-01-01T00:00:00.000000000",
          "2020-02-01T00:00:00.000000000",
          "2020-03-01T00:00:00.000000000",
          "2020-04-01T00:00:00.000000000"
         ],
         "xaxis": "x",
         "y": {
          "bdata": "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",
          "dtype": "f8"
         },
         "yaxis": "y"
        },
        {
         "hovertemplate": "<b>%{fullData.name}</b><br>Date: %{x|%b %Y}<br>Total Return: %{y:.2f}%<extra></extra>",
         "legendgroup": "80_20_2factors",
         "line": {
          "color": "#2CA02C",
          "dash": "solid"
         },
         "marker": {
          "symbol": "circle"
         },
         "mode": "lines",
         "name": "80_20_2factors",
         "showlegend": true,
         "type": "scattergl",
         "x": [
          "1985-01-01T00:00:00.000000000",
          "1985-02-01T00:00:00.000000000",
          "1985-03-01T00:00:00.000000000",
          "1985-04-01T00:00:00.000000000",
          "1985-05-01T00:00:00.000000000",
          "1985-06-01T00:00:00.000000000",
          "1985-07-01T00:00:00.000000000",
          "1985-08-01T00:00:00.000000000",
          "1985-09-01T00:00:00.000000000",
          "1985-10-01T00:00:00.000000000",
          "1985-11-01T00:00:00.000000000",
          "1985-12-01T00:00:00.000000000",
          "1986-01-01T00:00:00.000000000",
          "1986-02-01T00:00:00.000000000",
          "1986-03-01T00:00:00.000000000",
          "1986-04-01T00:00:00.000000000",
          "1986-05-01T00:00:00.000000000",
          "1986-06-01T00:00:00.000000000",
          "1986-07-01T00:00:00.000000000",
          "1986-08-01T00:00:00.000000000",
          "1986-09-01T00:00:00.000000000",
          "1986-10-01T00:00:00.000000000",
          "1986-11-01T00:00:00.000000000",
          "1986-12-01T00:00:00.000000000",
          "1987-01-01T00:00:00.000000000",
          "1987-02-01T00:00:00.000000000",
          "1987-03-01T00:00:00.000000000",
          "1987-04-01T00:00:00.000000000",
          "1987-05-01T00:00:00.000000000",
          "1987-06-01T00:00:00.000000000",
          "1987-07-01T00:00:00.000000000",
          "1987-08-01T00:00:00.000000000",
          "1987-09-01T00:00:00.000000000",
          "1987-10-01T00:00:00.000000000",
          "1987-11-01T00:00:00.000000000",
          "1987-12-01T00:00:00.000000000",
          "1988-01-01T00:00:00.000000000",
          "1988-02-01T00:00:00.000000000",
          "1988-03-01T00:00:00.000000000",
          "1988-04-01T00:00:00.000000000",
          "1988-05-01T00:00:00.000000000",
          "1988-06-01T00:00:00.000000000",
          "1988-07-01T00:00:00.000000000",
          "1988-08-01T00:00:00.000000000",
          "1988-09-01T00:00:00.000000000",
          "1988-10-01T00:00:00.000000000",
          "1988-11-01T00:00:00.000000000",
          "1988-12-01T00:00:00.000000000",
          "1989-01-01T00:00:00.000000000",
          "1989-02-01T00:00:00.000000000",
          "1989-03-01T00:00:00.000000000",
          "1989-04-01T00:00:00.000000000",
          "1989-05-01T00:00:00.000000000",
          "1989-06-01T00:00:00.000000000",
          "1989-07-01T00:00:00.000000000",
          "1989-08-01T00:00:00.000000000",
          "1989-09-01T00:00:00.000000000",
          "1989-10-01T00:00:00.000000000",
          "1989-11-01T00:00:00.000000000",
          "1989-12-01T00:00:00.000000000",
          "1990-01-01T00:00:00.000000000",
          "1990-02-01T00:00:00.000000000",
          "1990-03-01T00:00:00.000000000",
          "1990-04-01T00:00:00.000000000",
          "1990-05-01T00:00:00.000000000",
          "1990-06-01T00:00:00.000000000",
          "1990-07-01T00:00:00.000000000",
          "1990-08-01T00:00:00.000000000",
          "1990-09-01T00:00:00.000000000",
          "1990-10-01T00:00:00.000000000",
          "1990-11-01T00:00:00.000000000",
          "1990-12-01T00:00:00.000000000",
          "1991-01-01T00:00:00.000000000",
          "1991-02-01T00:00:00.000000000",
          "1991-03-01T00:00:00.000000000",
          "1991-04-01T00:00:00.000000000",
          "1991-05-01T00:00:00.000000000",
          "1991-06-01T00:00:00.000000000",
          "1991-07-01T00:00:00.000000000",
          "1991-08-01T00:00:00.000000000",
          "1991-09-01T00:00:00.000000000",
          "1991-10-01T00:00:00.000000000",
          "1991-11-01T00:00:00.000000000",
          "1991-12-01T00:00:00.000000000",
          "1992-01-01T00:00:00.000000000",
          "1992-02-01T00:00:00.000000000",
          "1992-03-01T00:00:00.000000000",
          "1992-04-01T00:00:00.000000000",
          "1992-05-01T00:00:00.000000000",
          "1992-06-01T00:00:00.000000000",
          "1992-07-01T00:00:00.000000000",
          "1992-08-01T00:00:00.000000000",
          "1992-09-01T00:00:00.000000000",
          "1992-10-01T00:00:00.000000000",
          "1992-11-01T00:00:00.000000000",
          "1992-12-01T00:00:00.000000000",
          "1993-01-01T00:00:00.000000000",
          "1993-02-01T00:00:00.000000000",
          "1993-03-01T00:00:00.000000000",
          "1993-04-01T00:00:00.000000000",
          "1993-05-01T00:00:00.000000000",
          "1993-06-01T00:00:00.000000000",
          "1993-07-01T00:00:00.000000000",
          "1993-08-01T00:00:00.000000000",
          "1993-09-01T00:00:00.000000000",
          "1993-10-01T00:00:00.000000000",
          "1993-11-01T00:00:00.000000000",
          "1993-12-01T00:00:00.000000000",
          "1994-01-01T00:00:00.000000000",
          "1994-02-01T00:00:00.000000000",
          "1994-03-01T00:00:00.000000000",
          "1994-04-01T00:00:00.000000000",
          "1994-05-01T00:00:00.000000000",
          "1994-06-01T00:00:00.000000000",
          "1994-07-01T00:00:00.000000000",
          "1994-08-01T00:00:00.000000000",
          "1994-09-01T00:00:00.000000000",
          "1994-10-01T00:00:00.000000000",
          "1994-11-01T00:00:00.000000000",
          "1994-12-01T00:00:00.000000000",
          "1995-01-01T00:00:00.000000000",
          "1995-02-01T00:00:00.000000000",
          "1995-03-01T00:00:00.000000000",
          "1995-04-01T00:00:00.000000000",
          "1995-05-01T00:00:00.000000000",
          "1995-06-01T00:00:00.000000000",
          "1995-07-01T00:00:00.000000000",
          "1995-08-01T00:00:00.000000000",
          "1995-09-01T00:00:00.000000000",
          "1995-10-01T00:00:00.000000000",
          "1995-11-01T00:00:00.000000000",
          "1995-12-01T00:00:00.000000000",
          "1996-01-01T00:00:00.000000000",
          "1996-02-01T00:00:00.000000000",
          "1996-03-01T00:00:00.000000000",
          "1996-04-01T00:00:00.000000000",
          "1996-05-01T00:00:00.000000000",
          "1996-06-01T00:00:00.000000000",
          "1996-07-01T00:00:00.000000000",
          "1996-08-01T00:00:00.000000000",
          "1996-09-01T00:00:00.000000000",
          "1996-10-01T00:00:00.000000000",
          "1996-11-01T00:00:00.000000000",
          "1996-12-01T00:00:00.000000000",
          "1997-01-01T00:00:00.000000000",
          "1997-02-01T00:00:00.000000000",
          "1997-03-01T00:00:00.000000000",
          "1997-04-01T00:00:00.000000000",
          "1997-05-01T00:00:00.000000000",
          "1997-06-01T00:00:00.000000000",
          "1997-07-01T00:00:00.000000000",
          "1997-08-01T00:00:00.000000000",
          "1997-09-01T00:00:00.000000000",
          "1997-10-01T00:00:00.000000000",
          "1997-11-01T00:00:00.000000000",
          "1997-12-01T00:00:00.000000000",
          "1998-01-01T00:00:00.000000000",
          "1998-02-01T00:00:00.000000000",
          "1998-03-01T00:00:00.000000000",
          "1998-04-01T00:00:00.000000000",
          "1998-05-01T00:00:00.000000000",
          "1998-06-01T00:00:00.000000000",
          "1998-07-01T00:00:00.000000000",
          "1998-08-01T00:00:00.000000000",
          "1998-09-01T00:00:00.000000000",
          "1998-10-01T00:00:00.000000000",
          "1998-11-01T00:00:00.000000000",
          "1998-12-01T00:00:00.000000000",
          "1999-01-01T00:00:00.000000000",
          "1999-02-01T00:00:00.000000000",
          "1999-03-01T00:00:00.000000000",
          "1999-04-01T00:00:00.000000000",
          "1999-05-01T00:00:00.000000000",
          "1999-07-01T00:00:00.000000000",
          "1999-09-01T00:00:00.000000000",
          "1999-10-01T00:00:00.000000000",
          "1999-11-01T00:00:00.000000000",
          "1999-12-01T00:00:00.000000000",
          "2000-01-01T00:00:00.000000000",
          "2000-03-01T00:00:00.000000000",
          "2000-04-01T00:00:00.000000000",
          "2000-05-01T00:00:00.000000000",
          "2000-06-01T00:00:00.000000000",
          "2000-07-01T00:00:00.000000000",
          "2000-08-01T00:00:00.000000000",
          "2000-09-01T00:00:00.000000000",
          "2000-10-01T00:00:00.000000000",
          "2000-11-01T00:00:00.000000000",
          "2000-12-01T00:00:00.000000000",
          "2001-01-01T00:00:00.000000000",
          "2001-02-01T00:00:00.000000000",
          "2001-03-01T00:00:00.000000000",
          "2001-04-01T00:00:00.000000000",
          "2001-05-01T00:00:00.000000000",
          "2001-06-01T00:00:00.000000000",
          "2001-07-01T00:00:00.000000000",
          "2001-08-01T00:00:00.000000000",
          "2001-09-01T00:00:00.000000000",
          "2001-10-01T00:00:00.000000000",
          "2001-11-01T00:00:00.000000000",
          "2001-12-01T00:00:00.000000000",
          "2002-02-01T00:00:00.000000000",
          "2002-03-01T00:00:00.000000000",
          "2002-04-01T00:00:00.000000000",
          "2002-05-01T00:00:00.000000000",
          "2002-06-01T00:00:00.000000000",
          "2002-07-01T00:00:00.000000000",
          "2002-08-01T00:00:00.000000000",
          "2002-09-01T00:00:00.000000000",
          "2002-10-01T00:00:00.000000000",
          "2002-11-01T00:00:00.000000000",
          "2002-12-01T00:00:00.000000000",
          "2003-01-01T00:00:00.000000000",
          "2003-02-01T00:00:00.000000000",
          "2003-03-01T00:00:00.000000000",
          "2003-04-01T00:00:00.000000000",
          "2003-05-01T00:00:00.000000000",
          "2003-06-01T00:00:00.000000000",
          "2003-08-01T00:00:00.000000000",
          "2003-09-01T00:00:00.000000000",
          "2003-10-01T00:00:00.000000000",
          "2003-11-01T00:00:00.000000000",
          "2003-12-01T00:00:00.000000000",
          "2004-01-01T00:00:00.000000000",
          "2004-02-01T00:00:00.000000000",
          "2004-03-01T00:00:00.000000000",
          "2004-04-01T00:00:00.000000000",
          "2004-05-01T00:00:00.000000000",
          "2004-06-01T00:00:00.000000000",
          "2004-07-01T00:00:00.000000000",
          "2004-08-01T00:00:00.000000000",
          "2004-09-01T00:00:00.000000000",
          "2004-10-01T00:00:00.000000000",
          "2004-11-01T00:00:00.000000000",
          "2004-12-01T00:00:00.000000000",
          "2005-01-01T00:00:00.000000000",
          "2005-02-01T00:00:00.000000000",
          "2005-03-01T00:00:00.000000000",
          "2005-04-01T00:00:00.000000000",
          "2005-05-01T00:00:00.000000000",
          "2005-06-01T00:00:00.000000000",
          "2005-07-01T00:00:00.000000000",
          "2005-08-01T00:00:00.000000000",
          "2005-09-01T00:00:00.000000000",
          "2005-10-01T00:00:00.000000000",
          "2005-11-01T00:00:00.000000000",
          "2005-12-01T00:00:00.000000000",
          "2006-01-01T00:00:00.000000000",
          "2006-02-01T00:00:00.000000000",
          "2006-03-01T00:00:00.000000000",
          "2006-04-01T00:00:00.000000000",
          "2006-05-01T00:00:00.000000000",
          "2006-06-01T00:00:00.000000000",
          "2006-07-01T00:00:00.000000000",
          "2006-08-01T00:00:00.000000000",
          "2006-09-01T00:00:00.000000000",
          "2006-10-01T00:00:00.000000000",
          "2006-11-01T00:00:00.000000000",
          "2006-12-01T00:00:00.000000000",
          "2007-01-01T00:00:00.000000000",
          "2007-02-01T00:00:00.000000000",
          "2007-03-01T00:00:00.000000000",
          "2007-04-01T00:00:00.000000000",
          "2007-05-01T00:00:00.000000000",
          "2007-06-01T00:00:00.000000000",
          "2007-07-01T00:00:00.000000000",
          "2007-08-01T00:00:00.000000000",
          "2007-09-01T00:00:00.000000000",
          "2007-10-01T00:00:00.000000000",
          "2007-11-01T00:00:00.000000000",
          "2007-12-01T00:00:00.000000000",
          "2008-01-01T00:00:00.000000000",
          "2008-02-01T00:00:00.000000000",
          "2008-03-01T00:00:00.000000000",
          "2008-04-01T00:00:00.000000000",
          "2008-05-01T00:00:00.000000000",
          "2008-06-01T00:00:00.000000000",
          "2008-07-01T00:00:00.000000000",
          "2008-08-01T00:00:00.000000000",
          "2008-09-01T00:00:00.000000000",
          "2008-11-01T00:00:00.000000000",
          "2008-12-01T00:00:00.000000000",
          "2009-01-01T00:00:00.000000000",
          "2009-02-01T00:00:00.000000000",
          "2009-04-01T00:00:00.000000000",
          "2009-05-01T00:00:00.000000000",
          "2009-06-01T00:00:00.000000000",
          "2009-07-01T00:00:00.000000000",
          "2009-08-01T00:00:00.000000000",
          "2009-09-01T00:00:00.000000000",
          "2009-10-01T00:00:00.000000000",
          "2009-11-01T00:00:00.000000000",
          "2009-12-01T00:00:00.000000000",
          "2010-01-01T00:00:00.000000000",
          "2010-02-01T00:00:00.000000000",
          "2010-03-01T00:00:00.000000000",
          "2010-04-01T00:00:00.000000000",
          "2010-05-01T00:00:00.000000000",
          "2010-06-01T00:00:00.000000000",
          "2010-07-01T00:00:00.000000000",
          "2010-08-01T00:00:00.000000000",
          "2010-09-01T00:00:00.000000000",
          "2010-10-01T00:00:00.000000000",
          "2010-11-01T00:00:00.000000000",
          "2010-12-01T00:00:00.000000000",
          "2011-01-01T00:00:00.000000000",
          "2011-02-01T00:00:00.000000000",
          "2011-03-01T00:00:00.000000000",
          "2011-04-01T00:00:00.000000000",
          "2011-05-01T00:00:00.000000000",
          "2011-06-01T00:00:00.000000000",
          "2011-07-01T00:00:00.000000000",
          "2011-08-01T00:00:00.000000000",
          "2011-09-01T00:00:00.000000000",
          "2011-10-01T00:00:00.000000000",
          "2011-11-01T00:00:00.000000000",
          "2011-12-01T00:00:00.000000000",
          "2012-01-01T00:00:00.000000000",
          "2012-02-01T00:00:00.000000000",
          "2012-03-01T00:00:00.000000000",
          "2012-04-01T00:00:00.000000000",
          "2012-05-01T00:00:00.000000000",
          "2012-06-01T00:00:00.000000000",
          "2012-07-01T00:00:00.000000000",
          "2012-08-01T00:00:00.000000000",
          "2012-09-01T00:00:00.000000000",
          "2012-10-01T00:00:00.000000000",
          "2012-11-01T00:00:00.000000000",
          "2012-12-01T00:00:00.000000000",
          "2013-01-01T00:00:00.000000000",
          "2013-02-01T00:00:00.000000000",
          "2013-03-01T00:00:00.000000000",
          "2013-04-01T00:00:00.000000000",
          "2013-05-01T00:00:00.000000000",
          "2013-06-01T00:00:00.000000000",
          "2013-07-01T00:00:00.000000000",
          "2013-08-01T00:00:00.000000000",
          "2013-09-01T00:00:00.000000000",
          "2013-10-01T00:00:00.000000000",
          "2013-11-01T00:00:00.000000000",
          "2013-12-01T00:00:00.000000000",
          "2014-01-01T00:00:00.000000000",
          "2014-02-01T00:00:00.000000000",
          "2014-03-01T00:00:00.000000000",
          "2014-04-01T00:00:00.000000000",
          "2014-05-01T00:00:00.000000000",
          "2014-06-01T00:00:00.000000000",
          "2014-07-01T00:00:00.000000000",
          "2014-08-01T00:00:00.000000000",
          "2014-09-01T00:00:00.000000000",
          "2014-10-01T00:00:00.000000000",
          "2014-11-01T00:00:00.000000000",
          "2014-12-01T00:00:00.000000000",
          "2015-01-01T00:00:00.000000000",
          "2015-02-01T00:00:00.000000000",
          "2015-03-01T00:00:00.000000000",
          "2015-04-01T00:00:00.000000000",
          "2015-05-01T00:00:00.000000000",
          "2015-06-01T00:00:00.000000000",
          "2015-07-01T00:00:00.000000000",
          "2015-08-01T00:00:00.000000000",
          "2015-09-01T00:00:00.000000000",
          "2015-10-01T00:00:00.000000000",
          "2015-11-01T00:00:00.000000000",
          "2015-12-01T00:00:00.000000000",
          "2016-01-01T00:00:00.000000000",
          "2016-02-01T00:00:00.000000000",
          "2016-03-01T00:00:00.000000000",
          "2016-04-01T00:00:00.000000000",
          "2016-05-01T00:00:00.000000000",
          "2016-06-01T00:00:00.000000000",
          "2016-07-01T00:00:00.000000000",
          "2016-08-01T00:00:00.000000000",
          "2016-09-01T00:00:00.000000000",
          "2016-10-01T00:00:00.000000000",
          "2016-11-01T00:00:00.000000000",
          "2016-12-01T00:00:00.000000000",
          "2017-01-01T00:00:00.000000000",
          "2017-02-01T00:00:00.000000000",
          "2017-03-01T00:00:00.000000000",
          "2017-04-01T00:00:00.000000000",
          "2017-05-01T00:00:00.000000000",
          "2017-06-01T00:00:00.000000000",
          "2017-07-01T00:00:00.000000000",
          "2017-08-01T00:00:00.000000000",
          "2017-09-01T00:00:00.000000000",
          "2017-10-01T00:00:00.000000000",
          "2017-11-01T00:00:00.000000000",
          "2017-12-01T00:00:00.000000000",
          "2018-01-01T00:00:00.000000000",
          "2018-02-01T00:00:00.000000000",
          "2018-03-01T00:00:00.000000000",
          "2018-04-01T00:00:00.000000000",
          "2018-05-01T00:00:00.000000000",
          "2018-06-01T00:00:00.000000000",
          "2018-07-01T00:00:00.000000000",
          "2018-08-01T00:00:00.000000000",
          "2018-09-01T00:00:00.000000000",
          "2018-10-01T00:00:00.000000000",
          "2018-11-01T00:00:00.000000000",
          "2018-12-01T00:00:00.000000000",
          "2019-01-01T00:00:00.000000000",
          "2019-02-01T00:00:00.000000000",
          "2019-03-01T00:00:00.000000000",
          "2019-04-01T00:00:00.000000000",
          "2019-05-01T00:00:00.000000000",
          "2019-06-01T00:00:00.000000000",
          "2019-07-01T00:00:00.000000000",
          "2019-08-01T00:00:00.000000000",
          "2019-09-01T00:00:00.000000000",
          "2019-10-01T00:00:00.000000000",
          "2019-11-01T00:00:00.000000000",
          "2019-12-01T00:00:00.000000000",
          "2020-01-01T00:00:00.000000000",
          "2020-02-01T00:00:00.000000000",
          "2020-03-01T00:00:00.000000000",
          "2020-04-01T00:00:00.000000000"
         ],
         "xaxis": "x",
         "y": {
          "bdata": "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",
          "dtype": "f8"
         },
         "yaxis": "y"
        },
        {
         "hovertemplate": "<b>%{fullData.name}</b><br>Date: %{x|%b %Y}<br>Total Return: %{y:.2f}%<extra></extra>",
         "legendgroup": "simple100",
         "line": {
          "color": "#D62728",
          "dash": "solid"
         },
         "marker": {
          "symbol": "circle"
         },
         "mode": "lines",
         "name": "simple100",
         "showlegend": true,
         "type": "scattergl",
         "x": [
          "1985-01-01T00:00:00.000000000",
          "1985-02-01T00:00:00.000000000",
          "1985-03-01T00:00:00.000000000",
          "1985-04-01T00:00:00.000000000",
          "1985-05-01T00:00:00.000000000",
          "1985-06-01T00:00:00.000000000",
          "1985-07-01T00:00:00.000000000",
          "1985-08-01T00:00:00.000000000",
          "1985-09-01T00:00:00.000000000",
          "1985-10-01T00:00:00.000000000",
          "1985-11-01T00:00:00.000000000",
          "1985-12-01T00:00:00.000000000",
          "1986-01-01T00:00:00.000000000",
          "1986-02-01T00:00:00.000000000",
          "1986-03-01T00:00:00.000000000",
          "1986-04-01T00:00:00.000000000",
          "1986-05-01T00:00:00.000000000",
          "1986-06-01T00:00:00.000000000",
          "1986-07-01T00:00:00.000000000",
          "1986-08-01T00:00:00.000000000",
          "1986-09-01T00:00:00.000000000",
          "1986-10-01T00:00:00.000000000",
          "1986-11-01T00:00:00.000000000",
          "1986-12-01T00:00:00.000000000",
          "1987-01-01T00:00:00.000000000",
          "1987-02-01T00:00:00.000000000",
          "1987-03-01T00:00:00.000000000",
          "1987-04-01T00:00:00.000000000",
          "1987-05-01T00:00:00.000000000",
          "1987-06-01T00:00:00.000000000",
          "1987-07-01T00:00:00.000000000",
          "1987-08-01T00:00:00.000000000",
          "1987-09-01T00:00:00.000000000",
          "1987-10-01T00:00:00.000000000",
          "1987-11-01T00:00:00.000000000",
          "1987-12-01T00:00:00.000000000",
          "1988-01-01T00:00:00.000000000",
          "1988-02-01T00:00:00.000000000",
          "1988-03-01T00:00:00.000000000",
          "1988-04-01T00:00:00.000000000",
          "1988-05-01T00:00:00.000000000",
          "1988-06-01T00:00:00.000000000",
          "1988-07-01T00:00:00.000000000",
          "1988-08-01T00:00:00.000000000",
          "1988-09-01T00:00:00.000000000",
          "1988-10-01T00:00:00.000000000",
          "1988-11-01T00:00:00.000000000",
          "1988-12-01T00:00:00.000000000",
          "1989-01-01T00:00:00.000000000",
          "1989-02-01T00:00:00.000000000",
          "1989-03-01T00:00:00.000000000",
          "1989-04-01T00:00:00.000000000",
          "1989-05-01T00:00:00.000000000",
          "1989-06-01T00:00:00.000000000",
          "1989-07-01T00:00:00.000000000",
          "1989-08-01T00:00:00.000000000",
          "1989-09-01T00:00:00.000000000",
          "1989-10-01T00:00:00.000000000",
          "1989-11-01T00:00:00.000000000",
          "1989-12-01T00:00:00.000000000",
          "1990-01-01T00:00:00.000000000",
          "1990-02-01T00:00:00.000000000",
          "1990-03-01T00:00:00.000000000",
          "1990-04-01T00:00:00.000000000",
          "1990-05-01T00:00:00.000000000",
          "1990-06-01T00:00:00.000000000",
          "1990-07-01T00:00:00.000000000",
          "1990-08-01T00:00:00.000000000",
          "1990-09-01T00:00:00.000000000",
          "1990-10-01T00:00:00.000000000",
          "1990-11-01T00:00:00.000000000",
          "1990-12-01T00:00:00.000000000",
          "1991-01-01T00:00:00.000000000",
          "1991-02-01T00:00:00.000000000",
          "1991-03-01T00:00:00.000000000",
          "1991-04-01T00:00:00.000000000",
          "1991-05-01T00:00:00.000000000",
          "1991-06-01T00:00:00.000000000",
          "1991-07-01T00:00:00.000000000",
          "1991-08-01T00:00:00.000000000",
          "1991-09-01T00:00:00.000000000",
          "1991-10-01T00:00:00.000000000",
          "1991-11-01T00:00:00.000000000",
          "1991-12-01T00:00:00.000000000",
          "1992-01-01T00:00:00.000000000",
          "1992-02-01T00:00:00.000000000",
          "1992-03-01T00:00:00.000000000",
          "1992-04-01T00:00:00.000000000",
          "1992-05-01T00:00:00.000000000",
          "1992-06-01T00:00:00.000000000",
          "1992-07-01T00:00:00.000000000",
          "1992-08-01T00:00:00.000000000",
          "1992-09-01T00:00:00.000000000",
          "1992-10-01T00:00:00.000000000",
          "1992-11-01T00:00:00.000000000",
          "1992-12-01T00:00:00.000000000",
          "1993-01-01T00:00:00.000000000",
          "1993-02-01T00:00:00.000000000",
          "1993-03-01T00:00:00.000000000",
          "1993-04-01T00:00:00.000000000",
          "1993-05-01T00:00:00.000000000",
          "1993-06-01T00:00:00.000000000",
          "1993-07-01T00:00:00.000000000",
          "1993-08-01T00:00:00.000000000",
          "1993-09-01T00:00:00.000000000",
          "1993-10-01T00:00:00.000000000",
          "1993-11-01T00:00:00.000000000",
          "1993-12-01T00:00:00.000000000",
          "1994-01-01T00:00:00.000000000",
          "1994-02-01T00:00:00.000000000",
          "1994-03-01T00:00:00.000000000",
          "1994-04-01T00:00:00.000000000",
          "1994-05-01T00:00:00.000000000",
          "1994-06-01T00:00:00.000000000",
          "1994-07-01T00:00:00.000000000",
          "1994-08-01T00:00:00.000000000",
          "1994-09-01T00:00:00.000000000",
          "1994-10-01T00:00:00.000000000",
          "1994-11-01T00:00:00.000000000",
          "1994-12-01T00:00:00.000000000",
          "1995-01-01T00:00:00.000000000",
          "1995-02-01T00:00:00.000000000",
          "1995-03-01T00:00:00.000000000",
          "1995-04-01T00:00:00.000000000",
          "1995-05-01T00:00:00.000000000",
          "1995-06-01T00:00:00.000000000",
          "1995-07-01T00:00:00.000000000",
          "1995-08-01T00:00:00.000000000",
          "1995-09-01T00:00:00.000000000",
          "1995-10-01T00:00:00.000000000",
          "1995-11-01T00:00:00.000000000",
          "1995-12-01T00:00:00.000000000",
          "1996-01-01T00:00:00.000000000",
          "1996-02-01T00:00:00.000000000",
          "1996-03-01T00:00:00.000000000",
          "1996-04-01T00:00:00.000000000",
          "1996-05-01T00:00:00.000000000",
          "1996-06-01T00:00:00.000000000",
          "1996-07-01T00:00:00.000000000",
          "1996-08-01T00:00:00.000000000",
          "1996-09-01T00:00:00.000000000",
          "1996-10-01T00:00:00.000000000",
          "1996-11-01T00:00:00.000000000",
          "1996-12-01T00:00:00.000000000",
          "1997-01-01T00:00:00.000000000",
          "1997-02-01T00:00:00.000000000",
          "1997-03-01T00:00:00.000000000",
          "1997-04-01T00:00:00.000000000",
          "1997-05-01T00:00:00.000000000",
          "1997-06-01T00:00:00.000000000",
          "1997-07-01T00:00:00.000000000",
          "1997-08-01T00:00:00.000000000",
          "1997-09-01T00:00:00.000000000",
          "1997-10-01T00:00:00.000000000",
          "1997-11-01T00:00:00.000000000",
          "1997-12-01T00:00:00.000000000",
          "1998-01-01T00:00:00.000000000",
          "1998-02-01T00:00:00.000000000",
          "1998-03-01T00:00:00.000000000",
          "1998-04-01T00:00:00.000000000",
          "1998-05-01T00:00:00.000000000",
          "1998-06-01T00:00:00.000000000",
          "1998-07-01T00:00:00.000000000",
          "1998-08-01T00:00:00.000000000",
          "1998-09-01T00:00:00.000000000",
          "1998-10-01T00:00:00.000000000",
          "1998-11-01T00:00:00.000000000",
          "1998-12-01T00:00:00.000000000",
          "1999-01-01T00:00:00.000000000",
          "1999-02-01T00:00:00.000000000",
          "1999-03-01T00:00:00.000000000",
          "1999-04-01T00:00:00.000000000",
          "1999-05-01T00:00:00.000000000",
          "1999-07-01T00:00:00.000000000",
          "1999-09-01T00:00:00.000000000",
          "1999-10-01T00:00:00.000000000",
          "1999-11-01T00:00:00.000000000",
          "1999-12-01T00:00:00.000000000",
          "2000-01-01T00:00:00.000000000",
          "2000-03-01T00:00:00.000000000",
          "2000-04-01T00:00:00.000000000",
          "2000-05-01T00:00:00.000000000",
          "2000-06-01T00:00:00.000000000",
          "2000-07-01T00:00:00.000000000",
          "2000-08-01T00:00:00.000000000",
          "2000-09-01T00:00:00.000000000",
          "2000-10-01T00:00:00.000000000",
          "2000-11-01T00:00:00.000000000",
          "2000-12-01T00:00:00.000000000",
          "2001-01-01T00:00:00.000000000",
          "2001-02-01T00:00:00.000000000",
          "2001-03-01T00:00:00.000000000",
          "2001-04-01T00:00:00.000000000",
          "2001-05-01T00:00:00.000000000",
          "2001-06-01T00:00:00.000000000",
          "2001-07-01T00:00:00.000000000",
          "2001-08-01T00:00:00.000000000",
          "2001-09-01T00:00:00.000000000",
          "2001-10-01T00:00:00.000000000",
          "2001-11-01T00:00:00.000000000",
          "2001-12-01T00:00:00.000000000",
          "2002-02-01T00:00:00.000000000",
          "2002-03-01T00:00:00.000000000",
          "2002-04-01T00:00:00.000000000",
          "2002-05-01T00:00:00.000000000",
          "2002-06-01T00:00:00.000000000",
          "2002-07-01T00:00:00.000000000",
          "2002-08-01T00:00:00.000000000",
          "2002-09-01T00:00:00.000000000",
          "2002-10-01T00:00:00.000000000",
          "2002-11-01T00:00:00.000000000",
          "2002-12-01T00:00:00.000000000",
          "2003-01-01T00:00:00.000000000",
          "2003-02-01T00:00:00.000000000",
          "2003-03-01T00:00:00.000000000",
          "2003-04-01T00:00:00.000000000",
          "2003-05-01T00:00:00.000000000",
          "2003-06-01T00:00:00.000000000",
          "2003-08-01T00:00:00.000000000",
          "2003-09-01T00:00:00.000000000",
          "2003-10-01T00:00:00.000000000",
          "2003-11-01T00:00:00.000000000",
          "2003-12-01T00:00:00.000000000",
          "2004-01-01T00:00:00.000000000",
          "2004-02-01T00:00:00.000000000",
          "2004-03-01T00:00:00.000000000",
          "2004-04-01T00:00:00.000000000",
          "2004-05-01T00:00:00.000000000",
          "2004-06-01T00:00:00.000000000",
          "2004-07-01T00:00:00.000000000",
          "2004-08-01T00:00:00.000000000",
          "2004-09-01T00:00:00.000000000",
          "2004-10-01T00:00:00.000000000",
          "2004-11-01T00:00:00.000000000",
          "2004-12-01T00:00:00.000000000",
          "2005-01-01T00:00:00.000000000",
          "2005-02-01T00:00:00.000000000",
          "2005-03-01T00:00:00.000000000",
          "2005-04-01T00:00:00.000000000",
          "2005-05-01T00:00:00.000000000",
          "2005-06-01T00:00:00.000000000",
          "2005-07-01T00:00:00.000000000",
          "2005-08-01T00:00:00.000000000",
          "2005-09-01T00:00:00.000000000",
          "2005-10-01T00:00:00.000000000",
          "2005-11-01T00:00:00.000000000",
          "2005-12-01T00:00:00.000000000",
          "2006-01-01T00:00:00.000000000",
          "2006-02-01T00:00:00.000000000",
          "2006-03-01T00:00:00.000000000",
          "2006-04-01T00:00:00.000000000",
          "2006-05-01T00:00:00.000000000",
          "2006-06-01T00:00:00.000000000",
          "2006-07-01T00:00:00.000000000",
          "2006-08-01T00:00:00.000000000",
          "2006-09-01T00:00:00.000000000",
          "2006-10-01T00:00:00.000000000",
          "2006-11-01T00:00:00.000000000",
          "2006-12-01T00:00:00.000000000",
          "2007-01-01T00:00:00.000000000",
          "2007-02-01T00:00:00.000000000",
          "2007-03-01T00:00:00.000000000",
          "2007-04-01T00:00:00.000000000",
          "2007-05-01T00:00:00.000000000",
          "2007-06-01T00:00:00.000000000",
          "2007-07-01T00:00:00.000000000",
          "2007-08-01T00:00:00.000000000",
          "2007-09-01T00:00:00.000000000",
          "2007-10-01T00:00:00.000000000",
          "2007-11-01T00:00:00.000000000",
          "2007-12-01T00:00:00.000000000",
          "2008-01-01T00:00:00.000000000",
          "2008-02-01T00:00:00.000000000",
          "2008-03-01T00:00:00.000000000",
          "2008-04-01T00:00:00.000000000",
          "2008-05-01T00:00:00.000000000",
          "2008-06-01T00:00:00.000000000",
          "2008-07-01T00:00:00.000000000",
          "2008-08-01T00:00:00.000000000",
          "2008-09-01T00:00:00.000000000",
          "2008-11-01T00:00:00.000000000",
          "2008-12-01T00:00:00.000000000",
          "2009-01-01T00:00:00.000000000",
          "2009-02-01T00:00:00.000000000",
          "2009-04-01T00:00:00.000000000",
          "2009-05-01T00:00:00.000000000",
          "2009-06-01T00:00:00.000000000",
          "2009-07-01T00:00:00.000000000",
          "2009-08-01T00:00:00.000000000",
          "2009-09-01T00:00:00.000000000",
          "2009-10-01T00:00:00.000000000",
          "2009-11-01T00:00:00.000000000",
          "2009-12-01T00:00:00.000000000",
          "2010-01-01T00:00:00.000000000",
          "2010-02-01T00:00:00.000000000",
          "2010-03-01T00:00:00.000000000",
          "2010-04-01T00:00:00.000000000",
          "2010-05-01T00:00:00.000000000",
          "2010-06-01T00:00:00.000000000",
          "2010-07-01T00:00:00.000000000",
          "2010-08-01T00:00:00.000000000",
          "2010-09-01T00:00:00.000000000",
          "2010-10-01T00:00:00.000000000",
          "2010-11-01T00:00:00.000000000",
          "2010-12-01T00:00:00.000000000",
          "2011-01-01T00:00:00.000000000",
          "2011-02-01T00:00:00.000000000",
          "2011-03-01T00:00:00.000000000",
          "2011-04-01T00:00:00.000000000",
          "2011-05-01T00:00:00.000000000",
          "2011-06-01T00:00:00.000000000",
          "2011-07-01T00:00:00.000000000",
          "2011-08-01T00:00:00.000000000",
          "2011-09-01T00:00:00.000000000",
          "2011-10-01T00:00:00.000000000",
          "2011-11-01T00:00:00.000000000",
          "2011-12-01T00:00:00.000000000",
          "2012-01-01T00:00:00.000000000",
          "2012-02-01T00:00:00.000000000",
          "2012-03-01T00:00:00.000000000",
          "2012-04-01T00:00:00.000000000",
          "2012-05-01T00:00:00.000000000",
          "2012-06-01T00:00:00.000000000",
          "2012-07-01T00:00:00.000000000",
          "2012-08-01T00:00:00.000000000",
          "2012-09-01T00:00:00.000000000",
          "2012-10-01T00:00:00.000000000",
          "2012-11-01T00:00:00.000000000",
          "2012-12-01T00:00:00.000000000",
          "2013-01-01T00:00:00.000000000",
          "2013-02-01T00:00:00.000000000",
          "2013-03-01T00:00:00.000000000",
          "2013-04-01T00:00:00.000000000",
          "2013-05-01T00:00:00.000000000",
          "2013-06-01T00:00:00.000000000",
          "2013-07-01T00:00:00.000000000",
          "2013-08-01T00:00:00.000000000",
          "2013-09-01T00:00:00.000000000",
          "2013-10-01T00:00:00.000000000",
          "2013-11-01T00:00:00.000000000",
          "2013-12-01T00:00:00.000000000",
          "2014-01-01T00:00:00.000000000",
          "2014-02-01T00:00:00.000000000",
          "2014-03-01T00:00:00.000000000",
          "2014-04-01T00:00:00.000000000",
          "2014-05-01T00:00:00.000000000",
          "2014-06-01T00:00:00.000000000",
          "2014-07-01T00:00:00.000000000",
          "2014-08-01T00:00:00.000000000",
          "2014-09-01T00:00:00.000000000",
          "2014-10-01T00:00:00.000000000",
          "2014-11-01T00:00:00.000000000",
          "2014-12-01T00:00:00.000000000",
          "2015-01-01T00:00:00.000000000",
          "2015-02-01T00:00:00.000000000",
          "2015-03-01T00:00:00.000000000",
          "2015-04-01T00:00:00.000000000",
          "2015-05-01T00:00:00.000000000",
          "2015-06-01T00:00:00.000000000",
          "2015-07-01T00:00:00.000000000",
          "2015-08-01T00:00:00.000000000",
          "2015-09-01T00:00:00.000000000",
          "2015-10-01T00:00:00.000000000",
          "2015-11-01T00:00:00.000000000",
          "2015-12-01T00:00:00.000000000",
          "2016-01-01T00:00:00.000000000",
          "2016-02-01T00:00:00.000000000",
          "2016-03-01T00:00:00.000000000",
          "2016-04-01T00:00:00.000000000",
          "2016-05-01T00:00:00.000000000",
          "2016-06-01T00:00:00.000000000",
          "2016-07-01T00:00:00.000000000",
          "2016-08-01T00:00:00.000000000",
          "2016-09-01T00:00:00.000000000",
          "2016-10-01T00:00:00.000000000",
          "2016-11-01T00:00:00.000000000",
          "2016-12-01T00:00:00.000000000",
          "2017-01-01T00:00:00.000000000",
          "2017-02-01T00:00:00.000000000",
          "2017-03-01T00:00:00.000000000",
          "2017-04-01T00:00:00.000000000",
          "2017-05-01T00:00:00.000000000",
          "2017-06-01T00:00:00.000000000",
          "2017-07-01T00:00:00.000000000",
          "2017-08-01T00:00:00.000000000",
          "2017-09-01T00:00:00.000000000",
          "2017-10-01T00:00:00.000000000",
          "2017-11-01T00:00:00.000000000",
          "2017-12-01T00:00:00.000000000",
          "2018-01-01T00:00:00.000000000",
          "2018-02-01T00:00:00.000000000",
          "2018-03-01T00:00:00.000000000",
          "2018-04-01T00:00:00.000000000",
          "2018-05-01T00:00:00.000000000",
          "2018-06-01T00:00:00.000000000",
          "2018-07-01T00:00:00.000000000",
          "2018-08-01T00:00:00.000000000",
          "2018-09-01T00:00:00.000000000",
          "2018-10-01T00:00:00.000000000",
          "2018-11-01T00:00:00.000000000",
          "2018-12-01T00:00:00.000000000",
          "2019-01-01T00:00:00.000000000",
          "2019-02-01T00:00:00.000000000",
          "2019-03-01T00:00:00.000000000",
          "2019-04-01T00:00:00.000000000",
          "2019-05-01T00:00:00.000000000",
          "2019-06-01T00:00:00.000000000",
          "2019-07-01T00:00:00.000000000",
          "2019-08-01T00:00:00.000000000",
          "2019-09-01T00:00:00.000000000",
          "2019-10-01T00:00:00.000000000",
          "2019-11-01T00:00:00.000000000",
          "2019-12-01T00:00:00.000000000",
          "2020-01-01T00:00:00.000000000",
          "2020-02-01T00:00:00.000000000",
          "2020-03-01T00:00:00.000000000",
          "2020-04-01T00:00:00.000000000"
         ],
         "xaxis": "x",
         "y": {
          "bdata": "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",
          "dtype": "f8"
         },
         "yaxis": "y"
        }
       ],
       "layout": {
        "font": {
         "color": "black"
        },
        "height": 800,
        "legend": {
         "font": {
          "size": 22
         },
         "orientation": "h",
         "title": {
          "text": "Portfolio"
         },
         "tracegroupgap": 0,
         "x": 0.5,
         "xanchor": "center",
         "y": 1.05,
         "yanchor": "bottom"
        },
        "template": {
         "data": {
          "bar": [
           {
            "error_x": {
             "color": "rgb(36,36,36)"
            },
            "error_y": {
             "color": "rgb(36,36,36)"
            },
            "marker": {
             "line": {
              "color": "white",
              "width": 0.5
             },
             "pattern": {
              "fillmode": "overlay",
              "size": 10,
              "solidity": 0.2
             }
            },
            "type": "bar"
           }
          ],
          "barpolar": [
           {
            "marker": {
             "line": {
              "color": "white",
              "width": 0.5
             },
             "pattern": {
              "fillmode": "overlay",
              "size": 10,
              "solidity": 0.2
             }
            },
            "type": "barpolar"
           }
          ],
          "carpet": [
           {
            "aaxis": {
             "endlinecolor": "rgb(36,36,36)",
             "gridcolor": "white",
             "linecolor": "white",
             "minorgridcolor": "white",
             "startlinecolor": "rgb(36,36,36)"
            },
            "baxis": {
             "endlinecolor": "rgb(36,36,36)",
             "gridcolor": "white",
             "linecolor": "white",
             "minorgridcolor": "white",
             "startlinecolor": "rgb(36,36,36)"
            },
            "type": "carpet"
           }
          ],
          "choropleth": [
           {
            "colorbar": {
             "outlinewidth": 1,
             "tickcolor": "rgb(36,36,36)",
             "ticks": "outside"
            },
            "type": "choropleth"
           }
          ],
          "contour": [
           {
            "colorbar": {
             "outlinewidth": 1,
             "tickcolor": "rgb(36,36,36)",
             "ticks": "outside"
            },
            "colorscale": [
             [
              0,
              "#440154"
             ],
             [
              0.1111111111111111,
              "#482878"
             ],
             [
              0.2222222222222222,
              "#3e4989"
             ],
             [
              0.3333333333333333,
              "#31688e"
             ],
             [
              0.4444444444444444,
              "#26828e"
             ],
             [
              0.5555555555555556,
              "#1f9e89"
             ],
             [
              0.6666666666666666,
              "#35b779"
             ],
             [
              0.7777777777777778,
              "#6ece58"
             ],
             [
              0.8888888888888888,
              "#b5de2b"
             ],
             [
              1,
              "#fde725"
             ]
            ],
            "type": "contour"
           }
          ],
          "contourcarpet": [
           {
            "colorbar": {
             "outlinewidth": 1,
             "tickcolor": "rgb(36,36,36)",
             "ticks": "outside"
            },
            "type": "contourcarpet"
           }
          ],
          "heatmap": [
           {
            "colorbar": {
             "outlinewidth": 1,
             "tickcolor": "rgb(36,36,36)",
             "ticks": "outside"
            },
            "colorscale": [
             [
              0,
              "#440154"
             ],
             [
              0.1111111111111111,
              "#482878"
             ],
             [
              0.2222222222222222,
              "#3e4989"
             ],
             [
              0.3333333333333333,
              "#31688e"
             ],
             [
              0.4444444444444444,
              "#26828e"
             ],
             [
              0.5555555555555556,
              "#1f9e89"
             ],
             [
              0.6666666666666666,
              "#35b779"
             ],
             [
              0.7777777777777778,
              "#6ece58"
             ],
             [
              0.8888888888888888,
              "#b5de2b"
             ],
             [
              1,
              "#fde725"
             ]
            ],
            "type": "heatmap"
           }
          ],
          "histogram": [
           {
            "marker": {
             "line": {
              "color": "white",
              "width": 0.6
             }
            },
            "type": "histogram"
           }
          ],
          "histogram2d": [
           {
            "colorbar": {
             "outlinewidth": 1,
             "tickcolor": "rgb(36,36,36)",
             "ticks": "outside"
            },
            "colorscale": [
             [
              0,
              "#440154"
             ],
             [
              0.1111111111111111,
              "#482878"
             ],
             [
              0.2222222222222222,
              "#3e4989"
             ],
             [
              0.3333333333333333,
              "#31688e"
             ],
             [
              0.4444444444444444,
              "#26828e"
             ],
             [
              0.5555555555555556,
              "#1f9e89"
             ],
             [
              0.6666666666666666,
              "#35b779"
             ],
             [
              0.7777777777777778,
              "#6ece58"
             ],
             [
              0.8888888888888888,
              "#b5de2b"
             ],
             [
              1,
              "#fde725"
             ]
            ],
            "type": "histogram2d"
           }
          ],
          "histogram2dcontour": [
           {
            "colorbar": {
             "outlinewidth": 1,
             "tickcolor": "rgb(36,36,36)",
             "ticks": "outside"
            },
            "colorscale": [
             [
              0,
              "#440154"
             ],
             [
              0.1111111111111111,
              "#482878"
             ],
             [
              0.2222222222222222,
              "#3e4989"
             ],
             [
              0.3333333333333333,
              "#31688e"
             ],
             [
              0.4444444444444444,
              "#26828e"
             ],
             [
              0.5555555555555556,
              "#1f9e89"
             ],
             [
              0.6666666666666666,
              "#35b779"
             ],
             [
              0.7777777777777778,
              "#6ece58"
             ],
             [
              0.8888888888888888,
              "#b5de2b"
             ],
             [
              1,
              "#fde725"
             ]
            ],
            "type": "histogram2dcontour"
           }
          ],
          "mesh3d": [
           {
            "colorbar": {
             "outlinewidth": 1,
             "tickcolor": "rgb(36,36,36)",
             "ticks": "outside"
            },
            "type": "mesh3d"
           }
          ],
          "parcoords": [
           {
            "line": {
             "colorbar": {
              "outlinewidth": 1,
              "tickcolor": "rgb(36,36,36)",
              "ticks": "outside"
             }
            },
            "type": "parcoords"
           }
          ],
          "pie": [
           {
            "automargin": true,
            "type": "pie"
           }
          ],
          "scatter": [
           {
            "fillpattern": {
             "fillmode": "overlay",
             "size": 10,
             "solidity": 0.2
            },
            "type": "scatter"
           }
          ],
          "scatter3d": [
           {
            "line": {
             "colorbar": {
              "outlinewidth": 1,
              "tickcolor": "rgb(36,36,36)",
              "ticks": "outside"
             }
            },
            "marker": {
             "colorbar": {
              "outlinewidth": 1,
              "tickcolor": "rgb(36,36,36)",
              "ticks": "outside"
             }
            },
            "type": "scatter3d"
           }
          ],
          "scattercarpet": [
           {
            "marker": {
             "colorbar": {
              "outlinewidth": 1,
              "tickcolor": "rgb(36,36,36)",
              "ticks": "outside"
             }
            },
            "type": "scattercarpet"
           }
          ],
          "scattergeo": [
           {
            "marker": {
             "colorbar": {
              "outlinewidth": 1,
              "tickcolor": "rgb(36,36,36)",
              "ticks": "outside"
             }
            },
            "type": "scattergeo"
           }
          ],
          "scattergl": [
           {
            "marker": {
             "colorbar": {
              "outlinewidth": 1,
              "tickcolor": "rgb(36,36,36)",
              "ticks": "outside"
             }
            },
            "type": "scattergl"
           }
          ],
          "scattermap": [
           {
            "marker": {
             "colorbar": {
              "outlinewidth": 1,
              "tickcolor": "rgb(36,36,36)",
              "ticks": "outside"
             }
            },
            "type": "scattermap"
           }
          ],
          "scattermapbox": [
           {
            "marker": {
             "colorbar": {
              "outlinewidth": 1,
              "tickcolor": "rgb(36,36,36)",
              "ticks": "outside"
             }
            },
            "type": "scattermapbox"
           }
          ],
          "scatterpolar": [
           {
            "marker": {
             "colorbar": {
              "outlinewidth": 1,
              "tickcolor": "rgb(36,36,36)",
              "ticks": "outside"
             }
            },
            "type": "scatterpolar"
           }
          ],
          "scatterpolargl": [
           {
            "marker": {
             "colorbar": {
              "outlinewidth": 1,
              "tickcolor": "rgb(36,36,36)",
              "ticks": "outside"
             }
            },
            "type": "scatterpolargl"
           }
          ],
          "scatterternary": [
           {
            "marker": {
             "colorbar": {
              "outlinewidth": 1,
              "tickcolor": "rgb(36,36,36)",
              "ticks": "outside"
             }
            },
            "type": "scatterternary"
           }
          ],
          "surface": [
           {
            "colorbar": {
             "outlinewidth": 1,
             "tickcolor": "rgb(36,36,36)",
             "ticks": "outside"
            },
            "colorscale": [
             [
              0,
              "#440154"
             ],
             [
              0.1111111111111111,
              "#482878"
             ],
             [
              0.2222222222222222,
              "#3e4989"
             ],
             [
              0.3333333333333333,
              "#31688e"
             ],
             [
              0.4444444444444444,
              "#26828e"
             ],
             [
              0.5555555555555556,
              "#1f9e89"
             ],
             [
              0.6666666666666666,
              "#35b779"
             ],
             [
              0.7777777777777778,
              "#6ece58"
             ],
             [
              0.8888888888888888,
              "#b5de2b"
             ],
             [
              1,
              "#fde725"
             ]
            ],
            "type": "surface"
           }
          ],
          "table": [
           {
            "cells": {
             "fill": {
              "color": "rgb(237,237,237)"
             },
             "line": {
              "color": "white"
             }
            },
            "header": {
             "fill": {
              "color": "rgb(217,217,217)"
             },
             "line": {
              "color": "white"
             }
            },
            "type": "table"
           }
          ]
         },
         "layout": {
          "annotationdefaults": {
           "arrowhead": 0,
           "arrowwidth": 1
          },
          "autotypenumbers": "strict",
          "coloraxis": {
           "colorbar": {
            "outlinewidth": 1,
            "tickcolor": "rgb(36,36,36)",
            "ticks": "outside"
           }
          },
          "colorscale": {
           "diverging": [
            [
             0,
             "rgb(103,0,31)"
            ],
            [
             0.1,
             "rgb(178,24,43)"
            ],
            [
             0.2,
             "rgb(214,96,77)"
            ],
            [
             0.3,
             "rgb(244,165,130)"
            ],
            [
             0.4,
             "rgb(253,219,199)"
            ],
            [
             0.5,
             "rgb(247,247,247)"
            ],
            [
             0.6,
             "rgb(209,229,240)"
            ],
            [
             0.7,
             "rgb(146,197,222)"
            ],
            [
             0.8,
             "rgb(67,147,195)"
            ],
            [
             0.9,
             "rgb(33,102,172)"
            ],
            [
             1,
             "rgb(5,48,97)"
            ]
           ],
           "sequential": [
            [
             0,
             "#440154"
            ],
            [
             0.1111111111111111,
             "#482878"
            ],
            [
             0.2222222222222222,
             "#3e4989"
            ],
            [
             0.3333333333333333,
             "#31688e"
            ],
            [
             0.4444444444444444,
             "#26828e"
            ],
            [
             0.5555555555555556,
             "#1f9e89"
            ],
            [
             0.6666666666666666,
             "#35b779"
            ],
            [
             0.7777777777777778,
             "#6ece58"
            ],
            [
             0.8888888888888888,
             "#b5de2b"
            ],
            [
             1,
             "#fde725"
            ]
           ],
           "sequentialminus": [
            [
             0,
             "#440154"
            ],
            [
             0.1111111111111111,
             "#482878"
            ],
            [
             0.2222222222222222,
             "#3e4989"
            ],
            [
             0.3333333333333333,
             "#31688e"
            ],
            [
             0.4444444444444444,
             "#26828e"
            ],
            [
             0.5555555555555556,
             "#1f9e89"
            ],
            [
             0.6666666666666666,
             "#35b779"
            ],
            [
             0.7777777777777778,
             "#6ece58"
            ],
            [
             0.8888888888888888,
             "#b5de2b"
            ],
            [
             1,
             "#fde725"
            ]
           ]
          },
          "colorway": [
           "#1F77B4",
           "#FF7F0E",
           "#2CA02C",
           "#D62728",
           "#9467BD",
           "#8C564B",
           "#E377C2",
           "#7F7F7F",
           "#BCBD22",
           "#17BECF"
          ],
          "font": {
           "color": "rgb(36,36,36)"
          },
          "geo": {
           "bgcolor": "white",
           "lakecolor": "white",
           "landcolor": "white",
           "showlakes": true,
           "showland": true,
           "subunitcolor": "white"
          },
          "hoverlabel": {
           "align": "left"
          },
          "hovermode": "closest",
          "mapbox": {
           "style": "light"
          },
          "paper_bgcolor": "white",
          "plot_bgcolor": "white",
          "polar": {
           "angularaxis": {
            "gridcolor": "rgb(232,232,232)",
            "linecolor": "rgb(36,36,36)",
            "showgrid": false,
            "showline": true,
            "ticks": "outside"
           },
           "bgcolor": "white",
           "radialaxis": {
            "gridcolor": "rgb(232,232,232)",
            "linecolor": "rgb(36,36,36)",
            "showgrid": false,
            "showline": true,
            "ticks": "outside"
           }
          },
          "scene": {
           "xaxis": {
            "backgroundcolor": "white",
            "gridcolor": "rgb(232,232,232)",
            "gridwidth": 2,
            "linecolor": "rgb(36,36,36)",
            "showbackground": true,
            "showgrid": false,
            "showline": true,
            "ticks": "outside",
            "zeroline": false,
            "zerolinecolor": "rgb(36,36,36)"
           },
           "yaxis": {
            "backgroundcolor": "white",
            "gridcolor": "rgb(232,232,232)",
            "gridwidth": 2,
            "linecolor": "rgb(36,36,36)",
            "showbackground": true,
            "showgrid": false,
            "showline": true,
            "ticks": "outside",
            "zeroline": false,
            "zerolinecolor": "rgb(36,36,36)"
           },
           "zaxis": {
            "backgroundcolor": "white",
            "gridcolor": "rgb(232,232,232)",
            "gridwidth": 2,
            "linecolor": "rgb(36,36,36)",
            "showbackground": true,
            "showgrid": false,
            "showline": true,
            "ticks": "outside",
            "zeroline": false,
            "zerolinecolor": "rgb(36,36,36)"
           }
          },
          "shapedefaults": {
           "fillcolor": "black",
           "line": {
            "width": 0
           },
           "opacity": 0.3
          },
          "ternary": {
           "aaxis": {
            "gridcolor": "rgb(232,232,232)",
            "linecolor": "rgb(36,36,36)",
            "showgrid": false,
            "showline": true,
            "ticks": "outside"
           },
           "baxis": {
            "gridcolor": "rgb(232,232,232)",
            "linecolor": "rgb(36,36,36)",
            "showgrid": false,
            "showline": true,
            "ticks": "outside"
           },
           "bgcolor": "white",
           "caxis": {
            "gridcolor": "rgb(232,232,232)",
            "linecolor": "rgb(36,36,36)",
            "showgrid": false,
            "showline": true,
            "ticks": "outside"
           }
          },
          "title": {
           "x": 0.05
          },
          "xaxis": {
           "automargin": true,
           "gridcolor": "rgb(232,232,232)",
           "linecolor": "rgb(36,36,36)",
           "showgrid": false,
           "showline": true,
           "ticks": "outside",
           "title": {
            "standoff": 15
           },
           "zeroline": false,
           "zerolinecolor": "rgb(36,36,36)"
          },
          "yaxis": {
           "automargin": true,
           "gridcolor": "rgb(232,232,232)",
           "linecolor": "rgb(36,36,36)",
           "showgrid": false,
           "showline": true,
           "ticks": "outside",
           "title": {
            "standoff": 15
           },
           "zeroline": false,
           "zerolinecolor": "rgb(36,36,36)"
          }
         }
        },
        "title": {
         "font": {
          "family": "Arial",
          "size": 25
         },
         "text": " "
        },
        "width": 1200,
        "xaxis": {
         "anchor": "y",
         "domain": [
          0,
          1
         ],
         "gridcolor": "lightgray",
         "gridwidth": 1,
         "linecolor": "black",
         "linewidth": 2,
         "showgrid": true,
         "tickfont": {
          "color": "black",
          "size": 16
         },
         "tickformat": "%Y",
         "title": {
          "font": {
           "color": "black",
           "family": "Arial",
           "size": 22
          },
          "text": "Date"
         }
        },
        "yaxis": {
         "anchor": "x",
         "domain": [
          0,
          1
         ],
         "gridcolor": "lightgray",
         "gridwidth": 1,
         "linecolor": "black",
         "linewidth": 2,
         "showgrid": true,
         "tickfont": {
          "color": "black",
          "size": 16
         },
         "tickformat": ".1f",
         "tickprefix": "",
         "ticksuffix": "%",
         "title": {
          "font": {
           "color": "black",
           "family": "Arial",
           "size": 22
          },
          "text": "Total Return"
         }
        }
       }
      }
     },
     "metadata": {},
     "output_type": "display_data"
    }
   ],
   "source": [
    "plot_total_returns_streamlit(final_results_totalreturn)"
   ]
  },
  {
   "cell_type": "code",
   "execution_count": 18,
   "metadata": {},
   "outputs": [
    {
     "data": {
      "application/vnd.plotly.v1+json": {
       "config": {
        "plotlyServerURL": "https://plot.ly"
       },
       "data": [
        {
         "alignmentgroup": "True",
         "box": {
          "visible": false
         },
         "hoveron": "points+kde",
         "hovertemplate": "Portfolio=%{y}<br>Return=%{x}<extra></extra>",
         "legendgroup": "100_2factors_EUR",
         "marker": {
          "color": "#1f77b4"
         },
         "name": "100_2factors_EUR",
         "offsetgroup": "100_2factors_EUR",
         "orientation": "h",
         "points": "all",
         "scalegroup": "True",
         "showlegend": true,
         "type": "violin",
         "x": {
          "bdata": "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",
          "dtype": "f8"
         },
         "x0": " ",
         "xaxis": "x",
         "y": [
          "100_2factors_EUR",
          "100_2factors_EUR",
          "100_2factors_EUR",
          "100_2factors_EUR",
          "100_2factors_EUR",
          "100_2factors_EUR",
          "100_2factors_EUR",
          "100_2factors_EUR",
          "100_2factors_EUR",
          "100_2factors_EUR",
          "100_2factors_EUR",
          "100_2factors_EUR",
          "100_2factors_EUR",
          "100_2factors_EUR",
          "100_2factors_EUR",
          "100_2factors_EUR",
          "100_2factors_EUR",
          "100_2factors_EUR",
          "100_2factors_EUR",
          "100_2factors_EUR",
          "100_2factors_EUR",
          "100_2factors_EUR",
          "100_2factors_EUR",
          "100_2factors_EUR",
          "100_2factors_EUR",
          "100_2factors_EUR",
          "100_2factors_EUR",
          "100_2factors_EUR",
          "100_2factors_EUR",
          "100_2factors_EUR",
          "100_2factors_EUR",
          "100_2factors_EUR",
          "100_2factors_EUR",
          "100_2factors_EUR",
          "100_2factors_EUR",
          "100_2factors_EUR",
          "100_2factors_EUR",
          "100_2factors_EUR",
          "100_2factors_EUR",
          "100_2factors_EUR",
          "100_2factors_EUR",
          "100_2factors_EUR",
          "100_2factors_EUR",
          "100_2factors_EUR",
          "100_2factors_EUR",
          "100_2factors_EUR",
          "100_2factors_EUR",
          "100_2factors_EUR",
          "100_2factors_EUR",
          "100_2factors_EUR",
          "100_2factors_EUR",
          "100_2factors_EUR",
          "100_2factors_EUR",
          "100_2factors_EUR",
          "100_2factors_EUR",
          "100_2factors_EUR",
          "100_2factors_EUR",
          "100_2factors_EUR",
          "100_2factors_EUR",
          "100_2factors_EUR",
          "100_2factors_EUR",
          "100_2factors_EUR",
          "100_2factors_EUR",
          "100_2factors_EUR",
          "100_2factors_EUR",
          "100_2factors_EUR",
          "100_2factors_EUR",
          "100_2factors_EUR",
          "100_2factors_EUR",
          "100_2factors_EUR",
          "100_2factors_EUR",
          "100_2factors_EUR",
          "100_2factors_EUR",
          "100_2factors_EUR",
          "100_2factors_EUR",
          "100_2factors_EUR",
          "100_2factors_EUR",
          "100_2factors_EUR",
          "100_2factors_EUR",
          "100_2factors_EUR",
          "100_2factors_EUR",
          "100_2factors_EUR",
          "100_2factors_EUR",
          "100_2factors_EUR",
          "100_2factors_EUR",
          "100_2factors_EUR",
          "100_2factors_EUR",
          "100_2factors_EUR",
          "100_2factors_EUR",
          "100_2factors_EUR",
          "100_2factors_EUR",
          "100_2factors_EUR",
          "100_2factors_EUR",
          "100_2factors_EUR",
          "100_2factors_EUR",
          "100_2factors_EUR",
          "100_2factors_EUR",
          "100_2factors_EUR",
          "100_2factors_EUR",
          "100_2factors_EUR",
          "100_2factors_EUR",
          "100_2factors_EUR",
          "100_2factors_EUR",
          "100_2factors_EUR",
          "100_2factors_EUR",
          "100_2factors_EUR",
          "100_2factors_EUR",
          "100_2factors_EUR",
          "100_2factors_EUR",
          "100_2factors_EUR",
          "100_2factors_EUR",
          "100_2factors_EUR",
          "100_2factors_EUR",
          "100_2factors_EUR",
          "100_2factors_EUR",
          "100_2factors_EUR",
          "100_2factors_EUR",
          "100_2factors_EUR",
          "100_2factors_EUR",
          "100_2factors_EUR",
          "100_2factors_EUR",
          "100_2factors_EUR",
          "100_2factors_EUR",
          "100_2factors_EUR",
          "100_2factors_EUR",
          "100_2factors_EUR",
          "100_2factors_EUR",
          "100_2factors_EUR",
          "100_2factors_EUR",
          "100_2factors_EUR",
          "100_2factors_EUR",
          "100_2factors_EUR",
          "100_2factors_EUR",
          "100_2factors_EUR",
          "100_2factors_EUR",
          "100_2factors_EUR",
          "100_2factors_EUR",
          "100_2factors_EUR",
          "100_2factors_EUR",
          "100_2factors_EUR",
          "100_2factors_EUR",
          "100_2factors_EUR",
          "100_2factors_EUR",
          "100_2factors_EUR",
          "100_2factors_EUR",
          "100_2factors_EUR",
          "100_2factors_EUR",
          "100_2factors_EUR",
          "100_2factors_EUR",
          "100_2factors_EUR",
          "100_2factors_EUR",
          "100_2factors_EUR",
          "100_2factors_EUR",
          "100_2factors_EUR",
          "100_2factors_EUR",
          "100_2factors_EUR",
          "100_2factors_EUR",
          "100_2factors_EUR",
          "100_2factors_EUR",
          "100_2factors_EUR",
          "100_2factors_EUR",
          "100_2factors_EUR",
          "100_2factors_EUR",
          "100_2factors_EUR",
          "100_2factors_EUR",
          "100_2factors_EUR",
          "100_2factors_EUR",
          "100_2factors_EUR",
          "100_2factors_EUR",
          "100_2factors_EUR",
          "100_2factors_EUR",
          "100_2factors_EUR",
          "100_2factors_EUR",
          "100_2factors_EUR",
          "100_2factors_EUR",
          "100_2factors_EUR",
          "100_2factors_EUR",
          "100_2factors_EUR",
          "100_2factors_EUR",
          "100_2factors_EUR",
          "100_2factors_EUR",
          "100_2factors_EUR",
          "100_2factors_EUR",
          "100_2factors_EUR",
          "100_2factors_EUR",
          "100_2factors_EUR",
          "100_2factors_EUR",
          "100_2factors_EUR",
          "100_2factors_EUR",
          "100_2factors_EUR",
          "100_2factors_EUR",
          "100_2factors_EUR",
          "100_2factors_EUR",
          "100_2factors_EUR",
          "100_2factors_EUR",
          "100_2factors_EUR",
          "100_2factors_EUR",
          "100_2factors_EUR",
          "100_2factors_EUR",
          "100_2factors_EUR",
          "100_2factors_EUR",
          "100_2factors_EUR",
          "100_2factors_EUR",
          "100_2factors_EUR",
          "100_2factors_EUR",
          "100_2factors_EUR",
          "100_2factors_EUR",
          "100_2factors_EUR",
          "100_2factors_EUR",
          "100_2factors_EUR",
          "100_2factors_EUR",
          "100_2factors_EUR",
          "100_2factors_EUR",
          "100_2factors_EUR",
          "100_2factors_EUR",
          "100_2factors_EUR",
          "100_2factors_EUR",
          "100_2factors_EUR",
          "100_2factors_EUR",
          "100_2factors_EUR",
          "100_2factors_EUR",
          "100_2factors_EUR",
          "100_2factors_EUR",
          "100_2factors_EUR",
          "100_2factors_EUR",
          "100_2factors_EUR",
          "100_2factors_EUR",
          "100_2factors_EUR",
          "100_2factors_EUR",
          "100_2factors_EUR",
          "100_2factors_EUR",
          "100_2factors_EUR",
          "100_2factors_EUR",
          "100_2factors_EUR",
          "100_2factors_EUR",
          "100_2factors_EUR",
          "100_2factors_EUR",
          "100_2factors_EUR",
          "100_2factors_EUR",
          "100_2factors_EUR",
          "100_2factors_EUR",
          "100_2factors_EUR",
          "100_2factors_EUR",
          "100_2factors_EUR",
          "100_2factors_EUR",
          "100_2factors_EUR",
          "100_2factors_EUR",
          "100_2factors_EUR",
          "100_2factors_EUR",
          "100_2factors_EUR",
          "100_2factors_EUR",
          "100_2factors_EUR",
          "100_2factors_EUR",
          "100_2factors_EUR",
          "100_2factors_EUR",
          "100_2factors_EUR",
          "100_2factors_EUR",
          "100_2factors_EUR",
          "100_2factors_EUR",
          "100_2factors_EUR",
          "100_2factors_EUR",
          "100_2factors_EUR",
          "100_2factors_EUR",
          "100_2factors_EUR",
          "100_2factors_EUR",
          "100_2factors_EUR",
          "100_2factors_EUR",
          "100_2factors_EUR",
          "100_2factors_EUR",
          "100_2factors_EUR",
          "100_2factors_EUR",
          "100_2factors_EUR",
          "100_2factors_EUR",
          "100_2factors_EUR",
          "100_2factors_EUR",
          "100_2factors_EUR",
          "100_2factors_EUR",
          "100_2factors_EUR",
          "100_2factors_EUR",
          "100_2factors_EUR",
          "100_2factors_EUR",
          "100_2factors_EUR",
          "100_2factors_EUR",
          "100_2factors_EUR",
          "100_2factors_EUR",
          "100_2factors_EUR",
          "100_2factors_EUR",
          "100_2factors_EUR",
          "100_2factors_EUR",
          "100_2factors_EUR",
          "100_2factors_EUR",
          "100_2factors_EUR",
          "100_2factors_EUR",
          "100_2factors_EUR",
          "100_2factors_EUR",
          "100_2factors_EUR",
          "100_2factors_EUR",
          "100_2factors_EUR",
          "100_2factors_EUR"
         ],
         "y0": " ",
         "yaxis": "y"
        },
        {
         "alignmentgroup": "True",
         "box": {
          "visible": false
         },
         "hoveron": "points+kde",
         "hovertemplate": "Portfolio=%{y}<br>Return=%{x}<extra></extra>",
         "legendgroup": "100_2factors",
         "marker": {
          "color": "#ff7f0e"
         },
         "name": "100_2factors",
         "offsetgroup": "100_2factors",
         "orientation": "h",
         "points": "all",
         "scalegroup": "True",
         "showlegend": true,
         "type": "violin",
         "x": {
          "bdata": "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",
          "dtype": "f8"
         },
         "x0": " ",
         "xaxis": "x",
         "y": [
          "100_2factors",
          "100_2factors",
          "100_2factors",
          "100_2factors",
          "100_2factors",
          "100_2factors",
          "100_2factors",
          "100_2factors",
          "100_2factors",
          "100_2factors",
          "100_2factors",
          "100_2factors",
          "100_2factors",
          "100_2factors",
          "100_2factors",
          "100_2factors",
          "100_2factors",
          "100_2factors",
          "100_2factors",
          "100_2factors",
          "100_2factors",
          "100_2factors",
          "100_2factors",
          "100_2factors",
          "100_2factors",
          "100_2factors",
          "100_2factors",
          "100_2factors",
          "100_2factors",
          "100_2factors",
          "100_2factors",
          "100_2factors",
          "100_2factors",
          "100_2factors",
          "100_2factors",
          "100_2factors",
          "100_2factors",
          "100_2factors",
          "100_2factors",
          "100_2factors",
          "100_2factors",
          "100_2factors",
          "100_2factors",
          "100_2factors",
          "100_2factors",
          "100_2factors",
          "100_2factors",
          "100_2factors",
          "100_2factors",
          "100_2factors",
          "100_2factors",
          "100_2factors",
          "100_2factors",
          "100_2factors",
          "100_2factors",
          "100_2factors",
          "100_2factors",
          "100_2factors",
          "100_2factors",
          "100_2factors",
          "100_2factors",
          "100_2factors",
          "100_2factors",
          "100_2factors",
          "100_2factors",
          "100_2factors",
          "100_2factors",
          "100_2factors",
          "100_2factors",
          "100_2factors",
          "100_2factors",
          "100_2factors",
          "100_2factors",
          "100_2factors",
          "100_2factors",
          "100_2factors",
          "100_2factors",
          "100_2factors",
          "100_2factors",
          "100_2factors",
          "100_2factors",
          "100_2factors",
          "100_2factors",
          "100_2factors",
          "100_2factors",
          "100_2factors",
          "100_2factors",
          "100_2factors",
          "100_2factors",
          "100_2factors",
          "100_2factors",
          "100_2factors",
          "100_2factors",
          "100_2factors",
          "100_2factors",
          "100_2factors",
          "100_2factors",
          "100_2factors",
          "100_2factors",
          "100_2factors",
          "100_2factors",
          "100_2factors",
          "100_2factors",
          "100_2factors",
          "100_2factors",
          "100_2factors",
          "100_2factors",
          "100_2factors",
          "100_2factors",
          "100_2factors",
          "100_2factors",
          "100_2factors",
          "100_2factors",
          "100_2factors",
          "100_2factors",
          "100_2factors",
          "100_2factors",
          "100_2factors",
          "100_2factors",
          "100_2factors",
          "100_2factors",
          "100_2factors",
          "100_2factors",
          "100_2factors",
          "100_2factors",
          "100_2factors",
          "100_2factors",
          "100_2factors",
          "100_2factors",
          "100_2factors",
          "100_2factors",
          "100_2factors",
          "100_2factors",
          "100_2factors",
          "100_2factors",
          "100_2factors",
          "100_2factors",
          "100_2factors",
          "100_2factors",
          "100_2factors",
          "100_2factors",
          "100_2factors",
          "100_2factors",
          "100_2factors",
          "100_2factors",
          "100_2factors",
          "100_2factors",
          "100_2factors",
          "100_2factors",
          "100_2factors",
          "100_2factors",
          "100_2factors",
          "100_2factors",
          "100_2factors",
          "100_2factors",
          "100_2factors",
          "100_2factors",
          "100_2factors",
          "100_2factors",
          "100_2factors",
          "100_2factors",
          "100_2factors",
          "100_2factors",
          "100_2factors",
          "100_2factors",
          "100_2factors",
          "100_2factors",
          "100_2factors",
          "100_2factors",
          "100_2factors",
          "100_2factors",
          "100_2factors",
          "100_2factors",
          "100_2factors",
          "100_2factors",
          "100_2factors",
          "100_2factors",
          "100_2factors",
          "100_2factors",
          "100_2factors",
          "100_2factors",
          "100_2factors",
          "100_2factors",
          "100_2factors",
          "100_2factors",
          "100_2factors",
          "100_2factors",
          "100_2factors",
          "100_2factors",
          "100_2factors",
          "100_2factors",
          "100_2factors",
          "100_2factors",
          "100_2factors",
          "100_2factors",
          "100_2factors",
          "100_2factors",
          "100_2factors",
          "100_2factors",
          "100_2factors",
          "100_2factors",
          "100_2factors",
          "100_2factors",
          "100_2factors",
          "100_2factors",
          "100_2factors",
          "100_2factors",
          "100_2factors",
          "100_2factors",
          "100_2factors",
          "100_2factors",
          "100_2factors",
          "100_2factors",
          "100_2factors",
          "100_2factors",
          "100_2factors",
          "100_2factors",
          "100_2factors",
          "100_2factors",
          "100_2factors",
          "100_2factors",
          "100_2factors",
          "100_2factors",
          "100_2factors",
          "100_2factors",
          "100_2factors",
          "100_2factors",
          "100_2factors",
          "100_2factors",
          "100_2factors",
          "100_2factors",
          "100_2factors",
          "100_2factors",
          "100_2factors",
          "100_2factors",
          "100_2factors",
          "100_2factors",
          "100_2factors",
          "100_2factors",
          "100_2factors",
          "100_2factors",
          "100_2factors",
          "100_2factors",
          "100_2factors",
          "100_2factors",
          "100_2factors",
          "100_2factors",
          "100_2factors",
          "100_2factors",
          "100_2factors",
          "100_2factors",
          "100_2factors",
          "100_2factors",
          "100_2factors",
          "100_2factors",
          "100_2factors",
          "100_2factors",
          "100_2factors",
          "100_2factors",
          "100_2factors",
          "100_2factors",
          "100_2factors",
          "100_2factors",
          "100_2factors",
          "100_2factors",
          "100_2factors",
          "100_2factors",
          "100_2factors",
          "100_2factors",
          "100_2factors",
          "100_2factors",
          "100_2factors",
          "100_2factors",
          "100_2factors",
          "100_2factors",
          "100_2factors",
          "100_2factors",
          "100_2factors",
          "100_2factors",
          "100_2factors",
          "100_2factors",
          "100_2factors",
          "100_2factors",
          "100_2factors",
          "100_2factors",
          "100_2factors",
          "100_2factors",
          "100_2factors",
          "100_2factors",
          "100_2factors",
          "100_2factors",
          "100_2factors",
          "100_2factors",
          "100_2factors",
          "100_2factors",
          "100_2factors",
          "100_2factors",
          "100_2factors",
          "100_2factors"
         ],
         "y0": " ",
         "yaxis": "y"
        },
        {
         "alignmentgroup": "True",
         "box": {
          "visible": false
         },
         "hoveron": "points+kde",
         "hovertemplate": "Portfolio=%{y}<br>Return=%{x}<extra></extra>",
         "legendgroup": "80_20_2factors",
         "marker": {
          "color": "#2ca02c"
         },
         "name": "80_20_2factors",
         "offsetgroup": "80_20_2factors",
         "orientation": "h",
         "points": "all",
         "scalegroup": "True",
         "showlegend": true,
         "type": "violin",
         "x": {
          "bdata": "Gw3gLZCgzD+aJQFqatnOP7RxxFp8CtA//wkuVtRgzj/kSdI1k2/OP9lfdk8eFs4/d9Zuu9Bczz8G9S1zuizOPxTLLa2GxM0/NNdppKXyyj/ysFBrmnfIP5n1Yign2sk/gnNGlPYGxz9V9l0R/G/FP/2fw3x5AcY/gez17o/3xj9NZyeDo+TFP7UV+8vuycM/M+GX+nlTwT95WKg1zTu+P60vEtpyLsE/GjT0T3Cxwj+YUSy3tBrCP6LuA5DaxME/oOBiRQ2mwT906spneR7AP45AvK5fsLs/3QcgtYmTsz/QRNjw9EqxP2k6OxkcJa8/0lJ5O8JpoT/nxvSEJR6gPzDw3Hu45Jg/iuWWVkPijj/S+8bXnllSP/lmmxvTE4Y/CTNt/8pKgz+if4KLFTWIP/uuCP63km0/ahg+IqZEYj9hpu1fWWmCPy1DHOviNgq/HXdKB+v/jD9LyAc9m1V/Pw0a+ie4WIE/lE25wrtcpD9aDYl7LH2oPzgteNFXkKY/qyFxj6UPnT+twJDVrZ6TP5fK2xFOC44/DkqYaftXhj/CL/XzpiJVPz9SRIZVvIG/3UHsTKHzer9GJXUCmgh7v3L+JhQi4HC/8MSsF0M5gb96/N6mP/uRv3506spneZ6/yTzyBwPPnb/BxYoaTMOgv7STwVHy6py/yQImcOtujr+sOUAwR4+Pv9C4cCAkC4i/1edqK/aXnb9LPKBsyhWOv1uU2SCTjIy/RiV1ApoIaz8VkWEVb2SOP9uF5jqNtIQ/f03WqIdolD/2fw7z5QWIP3506spneW4/evzepj/7cb9BmrFoOjtpPx2PGaiMf48/sW1RZoNMoj8TChFwCFWqPxy2LcpskKk/UaBP5EnSpT+YbhKDwMqhP3+kiAyreKM/ufyH9NvXoT+30QDeAgmqPz4ipkQSvaw/QPuRIjKssj8bEvdY+tC1P0fmkT8YeLY/Tb7Z5sb0vD9BguLHmLu2P0J4tHHEWrQ/wD46deWztD8Cgjl6/N62P4iFWtO847Q/jUXT2cnguD+KAn0iT5K2P25uTE9Y4rE/6iEa3UHsrD/hRV9BmrGoP61p3nGKjqQ/xHdi1ouhfD9YHM78ag5QPxNhw9MrZVk/K4cW2c73k7+An3HhQEhGv0GasWg6O0m/x7q4jQbwNr+bOLnfoSiQP6yowTQMH5E/Vrd6TnrfmD8R34lZL4aSP9QrZRniWJc/KowtBDkooT9xj6UPXVCfPwltOZfiqqI/Atnr3R/vpT+I9NvXgXOmP8tKk1LQ7aU/y4Rf6udNpT9l5CzsaYefPz1hiQeUTZk/EvdY+tAFlT/xRuaRPxiYPw8om3KFd5k/uaXVkLjHoj9f7/54r1qZPxtHrMWnAJg/KnReY5eojj8GTODW3TyFPxh47j1ccow/w0fElEiihz/68gLso1OXP+dSXFX2XYE/7iWN0Tqqej/LuRRXlX2HP/lmmxvTE4Y/W3wKgPEMij/1oQvqW+aUP6HbSxqjdZQ/dsO2RZkNkj8jLZW3I5yWP39N1qiHaJQ/QPZ698d7lT9N845TdCSXP3i5iO/ErJc/q1s9J71vnD9f7/54r1qZP5VgcTjzq5k//mX35GGhlj+9b3ztmSWhP51oVyHlJ6U/HThnRGlvsD+xxAPKplyxP26jAbwFErQ/uOS4UzpYrz/KVMGopE6wPzgVqTC2ELQ/z2bV52ortj/kvWplwi+1P9klqrcGtro/7BLVWwNbwT+CrRIsDmfCP2rBi76CNMM/eO49XHLcxT8vi4nNx7XBP8PYQpCDEsI/yF7v/nivwj/Ut8zpspjAP9jTDn9N1sA/mGn7V1aawD9h4Ln3cMnBPzPEsS5uo8E//Knx0k1iwD+Vn1T7dDzCP4VCBBxClcI/NEsC1NSywT9xGw3gLZDAP8ISDyibcsE/+Db92Y8UwT/vIHam0HnBP80eaAWGrL4/jPhOzHoxvD9gqwSLw5m/P5mByvj3Gb8/ptB5jV2iuj/Qm4pUGFu4Pz8djxmojLc/HqfoSC7/uT81XrpJDAK7P18ktOVcirs/EOm3rwPnvD9z1xLyQc++PyDvVSsTfsE/rthfdk8ewj9sW5TZIJPAP/59xoUDIcE/O3DOiNLewD+paoKo+wDAP1oNiXssfcA/GRwlr84xwD9aR1UTRN2/P0vqBDQRNsA/DDz3Hi45vj/AeAYN/RO8Py2VtyOcFrw/UwWjkjoBvT+AK9mxEYi/P+2BVmDI6r4/Xtcv2A3bvj/g88MI4dG+PzHO34RCBLw/cTjzqzlAuD8g71UrE365P/t5U5EKY7s/2VpfJLTlvD8Fo5I6AU28P8Xm49pQMb4/SYWxhSAHvT9a8KKvIM24P9jw9EpZhrg/z/dT46WbtD+/t+nPfqS4P8wolltaDbk/xEKtad5xuj+e6pCb4Qa8P5Hyk2qfjrc/P6n26XjMuD8kC5jArbu5P29kHvmDgbc/AOMZNPRPuD9FZFjFG5m3Pw9/Tdaoh7g/KuPfZ1w4uD8r9pfdk4e1P22QSUbOwq4/6j4AqU2cnD/htOBFX0GqP1uZ8Ev9vKk/OZz51RwgsD9sW5TZIJOsP4E+kSdJ17Q/U67wLhfxtT8X1LfM6bKwP4UIOIQqNbM/Lq2GxD2Wtj9hw9MrZRm6P0gzFk1nJ7s/bkxPWOIBvT8WMIFbd/O8P2RA9nr3x7s/09nJ4Ch5vT/oaiv2l927PzAvwD46db0/qU2c3O9QvD/5LM+Du7O+P3v3x3vVyrw/7j1cctwpvT+Ss7CnHf66PzKP/MHAc7c/pHA9CtejuD8Zc9cS8kG3P2lXIeUn1bY/Ic1YNJ2dtD+RYRVvZB65P4L/rWTHRrg/C0EOSphpsz9Ah/nyAuyzP60vEtpyLrU/A30iT5KusT8UlnhA2ZSzP5Rqn47HDLQ/Xmiu00hLtT9y3CkdrP+zP4VCBBxClbI/6DBfXoB9tD+SIjKs4o20P+4IpwUv+rI/pics8YCysT990LNZ9bmyPyGTjJyFPbU/CRaHM7+auz9b07zjFB25P4nS3uALk7k/eO49XHLcuT9gArfu5qm2P8pskElGzro/et/42jNLuj8cti3KbJC5P+cYkL3e/bk/oBov3SQGuT/lRLsKKT+5Pwt72uGvybo/vTWwVYLFuT+LbOf7qfG6P0Otad5xir4/PNo4Yi0+wT+m7V9ZaVK6Pw==",
          "dtype": "f8"
         },
         "x0": " ",
         "xaxis": "x",
         "y": [
          "80_20_2factors",
          "80_20_2factors",
          "80_20_2factors",
          "80_20_2factors",
          "80_20_2factors",
          "80_20_2factors",
          "80_20_2factors",
          "80_20_2factors",
          "80_20_2factors",
          "80_20_2factors",
          "80_20_2factors",
          "80_20_2factors",
          "80_20_2factors",
          "80_20_2factors",
          "80_20_2factors",
          "80_20_2factors",
          "80_20_2factors",
          "80_20_2factors",
          "80_20_2factors",
          "80_20_2factors",
          "80_20_2factors",
          "80_20_2factors",
          "80_20_2factors",
          "80_20_2factors",
          "80_20_2factors",
          "80_20_2factors",
          "80_20_2factors",
          "80_20_2factors",
          "80_20_2factors",
          "80_20_2factors",
          "80_20_2factors",
          "80_20_2factors",
          "80_20_2factors",
          "80_20_2factors",
          "80_20_2factors",
          "80_20_2factors",
          "80_20_2factors",
          "80_20_2factors",
          "80_20_2factors",
          "80_20_2factors",
          "80_20_2factors",
          "80_20_2factors",
          "80_20_2factors",
          "80_20_2factors",
          "80_20_2factors",
          "80_20_2factors",
          "80_20_2factors",
          "80_20_2factors",
          "80_20_2factors",
          "80_20_2factors",
          "80_20_2factors",
          "80_20_2factors",
          "80_20_2factors",
          "80_20_2factors",
          "80_20_2factors",
          "80_20_2factors",
          "80_20_2factors",
          "80_20_2factors",
          "80_20_2factors",
          "80_20_2factors",
          "80_20_2factors",
          "80_20_2factors",
          "80_20_2factors",
          "80_20_2factors",
          "80_20_2factors",
          "80_20_2factors",
          "80_20_2factors",
          "80_20_2factors",
          "80_20_2factors",
          "80_20_2factors",
          "80_20_2factors",
          "80_20_2factors",
          "80_20_2factors",
          "80_20_2factors",
          "80_20_2factors",
          "80_20_2factors",
          "80_20_2factors",
          "80_20_2factors",
          "80_20_2factors",
          "80_20_2factors",
          "80_20_2factors",
          "80_20_2factors",
          "80_20_2factors",
          "80_20_2factors",
          "80_20_2factors",
          "80_20_2factors",
          "80_20_2factors",
          "80_20_2factors",
          "80_20_2factors",
          "80_20_2factors",
          "80_20_2factors",
          "80_20_2factors",
          "80_20_2factors",
          "80_20_2factors",
          "80_20_2factors",
          "80_20_2factors",
          "80_20_2factors",
          "80_20_2factors",
          "80_20_2factors",
          "80_20_2factors",
          "80_20_2factors",
          "80_20_2factors",
          "80_20_2factors",
          "80_20_2factors",
          "80_20_2factors",
          "80_20_2factors",
          "80_20_2factors",
          "80_20_2factors",
          "80_20_2factors",
          "80_20_2factors",
          "80_20_2factors",
          "80_20_2factors",
          "80_20_2factors",
          "80_20_2factors",
          "80_20_2factors",
          "80_20_2factors",
          "80_20_2factors",
          "80_20_2factors",
          "80_20_2factors",
          "80_20_2factors",
          "80_20_2factors",
          "80_20_2factors",
          "80_20_2factors",
          "80_20_2factors",
          "80_20_2factors",
          "80_20_2factors",
          "80_20_2factors",
          "80_20_2factors",
          "80_20_2factors",
          "80_20_2factors",
          "80_20_2factors",
          "80_20_2factors",
          "80_20_2factors",
          "80_20_2factors",
          "80_20_2factors",
          "80_20_2factors",
          "80_20_2factors",
          "80_20_2factors",
          "80_20_2factors",
          "80_20_2factors",
          "80_20_2factors",
          "80_20_2factors",
          "80_20_2factors",
          "80_20_2factors",
          "80_20_2factors",
          "80_20_2factors",
          "80_20_2factors",
          "80_20_2factors",
          "80_20_2factors",
          "80_20_2factors",
          "80_20_2factors",
          "80_20_2factors",
          "80_20_2factors",
          "80_20_2factors",
          "80_20_2factors",
          "80_20_2factors",
          "80_20_2factors",
          "80_20_2factors",
          "80_20_2factors",
          "80_20_2factors",
          "80_20_2factors",
          "80_20_2factors",
          "80_20_2factors",
          "80_20_2factors",
          "80_20_2factors",
          "80_20_2factors",
          "80_20_2factors",
          "80_20_2factors",
          "80_20_2factors",
          "80_20_2factors",
          "80_20_2factors",
          "80_20_2factors",
          "80_20_2factors",
          "80_20_2factors",
          "80_20_2factors",
          "80_20_2factors",
          "80_20_2factors",
          "80_20_2factors",
          "80_20_2factors",
          "80_20_2factors",
          "80_20_2factors",
          "80_20_2factors",
          "80_20_2factors",
          "80_20_2factors",
          "80_20_2factors",
          "80_20_2factors",
          "80_20_2factors",
          "80_20_2factors",
          "80_20_2factors",
          "80_20_2factors",
          "80_20_2factors",
          "80_20_2factors",
          "80_20_2factors",
          "80_20_2factors",
          "80_20_2factors",
          "80_20_2factors",
          "80_20_2factors",
          "80_20_2factors",
          "80_20_2factors",
          "80_20_2factors",
          "80_20_2factors",
          "80_20_2factors",
          "80_20_2factors",
          "80_20_2factors",
          "80_20_2factors",
          "80_20_2factors",
          "80_20_2factors",
          "80_20_2factors",
          "80_20_2factors",
          "80_20_2factors",
          "80_20_2factors",
          "80_20_2factors",
          "80_20_2factors",
          "80_20_2factors",
          "80_20_2factors",
          "80_20_2factors",
          "80_20_2factors",
          "80_20_2factors",
          "80_20_2factors",
          "80_20_2factors",
          "80_20_2factors",
          "80_20_2factors",
          "80_20_2factors",
          "80_20_2factors",
          "80_20_2factors",
          "80_20_2factors",
          "80_20_2factors",
          "80_20_2factors",
          "80_20_2factors",
          "80_20_2factors",
          "80_20_2factors",
          "80_20_2factors",
          "80_20_2factors",
          "80_20_2factors",
          "80_20_2factors",
          "80_20_2factors",
          "80_20_2factors",
          "80_20_2factors",
          "80_20_2factors",
          "80_20_2factors",
          "80_20_2factors",
          "80_20_2factors",
          "80_20_2factors",
          "80_20_2factors",
          "80_20_2factors",
          "80_20_2factors",
          "80_20_2factors",
          "80_20_2factors",
          "80_20_2factors",
          "80_20_2factors",
          "80_20_2factors",
          "80_20_2factors",
          "80_20_2factors",
          "80_20_2factors",
          "80_20_2factors",
          "80_20_2factors",
          "80_20_2factors",
          "80_20_2factors",
          "80_20_2factors",
          "80_20_2factors",
          "80_20_2factors",
          "80_20_2factors",
          "80_20_2factors",
          "80_20_2factors",
          "80_20_2factors",
          "80_20_2factors",
          "80_20_2factors",
          "80_20_2factors",
          "80_20_2factors",
          "80_20_2factors",
          "80_20_2factors",
          "80_20_2factors",
          "80_20_2factors",
          "80_20_2factors",
          "80_20_2factors",
          "80_20_2factors",
          "80_20_2factors",
          "80_20_2factors",
          "80_20_2factors",
          "80_20_2factors",
          "80_20_2factors",
          "80_20_2factors",
          "80_20_2factors",
          "80_20_2factors",
          "80_20_2factors",
          "80_20_2factors",
          "80_20_2factors",
          "80_20_2factors",
          "80_20_2factors",
          "80_20_2factors",
          "80_20_2factors",
          "80_20_2factors",
          "80_20_2factors",
          "80_20_2factors",
          "80_20_2factors",
          "80_20_2factors",
          "80_20_2factors",
          "80_20_2factors",
          "80_20_2factors"
         ],
         "y0": " ",
         "yaxis": "y"
        },
        {
         "alignmentgroup": "True",
         "box": {
          "visible": false
         },
         "hoveron": "points+kde",
         "hovertemplate": "Portfolio=%{y}<br>Return=%{x}<extra></extra>",
         "legendgroup": "simple100",
         "marker": {
          "color": "#d62728"
         },
         "name": "simple100",
         "offsetgroup": "simple100",
         "orientation": "h",
         "points": "all",
         "scalegroup": "True",
         "showlegend": true,
         "type": "violin",
         "x": {
          "bdata": "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",
          "dtype": "f8"
         },
         "x0": " ",
         "xaxis": "x",
         "y": [
          "simple100",
          "simple100",
          "simple100",
          "simple100",
          "simple100",
          "simple100",
          "simple100",
          "simple100",
          "simple100",
          "simple100",
          "simple100",
          "simple100",
          "simple100",
          "simple100",
          "simple100",
          "simple100",
          "simple100",
          "simple100",
          "simple100",
          "simple100",
          "simple100",
          "simple100",
          "simple100",
          "simple100",
          "simple100",
          "simple100",
          "simple100",
          "simple100",
          "simple100",
          "simple100",
          "simple100",
          "simple100",
          "simple100",
          "simple100",
          "simple100",
          "simple100",
          "simple100",
          "simple100",
          "simple100",
          "simple100",
          "simple100",
          "simple100",
          "simple100",
          "simple100",
          "simple100",
          "simple100",
          "simple100",
          "simple100",
          "simple100",
          "simple100",
          "simple100",
          "simple100",
          "simple100",
          "simple100",
          "simple100",
          "simple100",
          "simple100",
          "simple100",
          "simple100",
          "simple100",
          "simple100",
          "simple100",
          "simple100",
          "simple100",
          "simple100",
          "simple100",
          "simple100",
          "simple100",
          "simple100",
          "simple100",
          "simple100",
          "simple100",
          "simple100",
          "simple100",
          "simple100",
          "simple100",
          "simple100",
          "simple100",
          "simple100",
          "simple100",
          "simple100",
          "simple100",
          "simple100",
          "simple100",
          "simple100",
          "simple100",
          "simple100",
          "simple100",
          "simple100",
          "simple100",
          "simple100",
          "simple100",
          "simple100",
          "simple100",
          "simple100",
          "simple100",
          "simple100",
          "simple100",
          "simple100",
          "simple100",
          "simple100",
          "simple100",
          "simple100",
          "simple100",
          "simple100",
          "simple100",
          "simple100",
          "simple100",
          "simple100",
          "simple100",
          "simple100",
          "simple100",
          "simple100",
          "simple100",
          "simple100",
          "simple100",
          "simple100",
          "simple100",
          "simple100",
          "simple100",
          "simple100",
          "simple100",
          "simple100",
          "simple100",
          "simple100",
          "simple100",
          "simple100",
          "simple100",
          "simple100",
          "simple100",
          "simple100",
          "simple100",
          "simple100",
          "simple100",
          "simple100",
          "simple100",
          "simple100",
          "simple100",
          "simple100",
          "simple100",
          "simple100",
          "simple100",
          "simple100",
          "simple100",
          "simple100",
          "simple100",
          "simple100",
          "simple100",
          "simple100",
          "simple100",
          "simple100",
          "simple100",
          "simple100",
          "simple100",
          "simple100",
          "simple100",
          "simple100",
          "simple100",
          "simple100",
          "simple100",
          "simple100",
          "simple100",
          "simple100",
          "simple100",
          "simple100",
          "simple100",
          "simple100",
          "simple100",
          "simple100",
          "simple100",
          "simple100",
          "simple100",
          "simple100",
          "simple100",
          "simple100",
          "simple100",
          "simple100",
          "simple100",
          "simple100",
          "simple100",
          "simple100",
          "simple100",
          "simple100",
          "simple100",
          "simple100",
          "simple100",
          "simple100",
          "simple100",
          "simple100",
          "simple100",
          "simple100",
          "simple100",
          "simple100",
          "simple100",
          "simple100",
          "simple100",
          "simple100",
          "simple100",
          "simple100",
          "simple100",
          "simple100",
          "simple100",
          "simple100",
          "simple100",
          "simple100",
          "simple100",
          "simple100",
          "simple100",
          "simple100",
          "simple100",
          "simple100",
          "simple100",
          "simple100",
          "simple100",
          "simple100",
          "simple100",
          "simple100",
          "simple100",
          "simple100",
          "simple100",
          "simple100",
          "simple100",
          "simple100",
          "simple100",
          "simple100",
          "simple100",
          "simple100",
          "simple100",
          "simple100",
          "simple100",
          "simple100",
          "simple100",
          "simple100",
          "simple100",
          "simple100",
          "simple100",
          "simple100",
          "simple100",
          "simple100",
          "simple100",
          "simple100",
          "simple100",
          "simple100",
          "simple100",
          "simple100",
          "simple100",
          "simple100",
          "simple100",
          "simple100",
          "simple100",
          "simple100",
          "simple100",
          "simple100",
          "simple100",
          "simple100",
          "simple100",
          "simple100",
          "simple100",
          "simple100",
          "simple100",
          "simple100",
          "simple100",
          "simple100",
          "simple100",
          "simple100",
          "simple100",
          "simple100",
          "simple100",
          "simple100",
          "simple100",
          "simple100",
          "simple100",
          "simple100",
          "simple100",
          "simple100",
          "simple100",
          "simple100",
          "simple100",
          "simple100",
          "simple100",
          "simple100",
          "simple100",
          "simple100",
          "simple100",
          "simple100",
          "simple100",
          "simple100",
          "simple100",
          "simple100",
          "simple100",
          "simple100",
          "simple100",
          "simple100",
          "simple100",
          "simple100",
          "simple100",
          "simple100",
          "simple100",
          "simple100",
          "simple100",
          "simple100",
          "simple100",
          "simple100",
          "simple100",
          "simple100",
          "simple100",
          "simple100",
          "simple100",
          "simple100",
          "simple100",
          "simple100",
          "simple100",
          "simple100",
          "simple100",
          "simple100",
          "simple100",
          "simple100",
          "simple100",
          "simple100",
          "simple100",
          "simple100",
          "simple100",
          "simple100",
          "simple100",
          "simple100",
          "simple100",
          "simple100",
          "simple100",
          "simple100",
          "simple100",
          "simple100",
          "simple100",
          "simple100",
          "simple100",
          "simple100",
          "simple100",
          "simple100",
          "simple100",
          "simple100",
          "simple100",
          "simple100",
          "simple100",
          "simple100",
          "simple100",
          "simple100",
          "simple100",
          "simple100",
          "simple100",
          "simple100",
          "simple100",
          "simple100",
          "simple100",
          "simple100",
          "simple100",
          "simple100",
          "simple100",
          "simple100",
          "simple100",
          "simple100",
          "simple100",
          "simple100",
          "simple100",
          "simple100",
          "simple100",
          "simple100",
          "simple100",
          "simple100",
          "simple100",
          "simple100",
          "simple100",
          "simple100",
          "simple100",
          "simple100",
          "simple100",
          "simple100",
          "simple100",
          "simple100",
          "simple100",
          "simple100",
          "simple100",
          "simple100",
          "simple100",
          "simple100",
          "simple100",
          "simple100",
          "simple100",
          "simple100",
          "simple100",
          "simple100",
          "simple100",
          "simple100",
          "simple100",
          "simple100",
          "simple100",
          "simple100",
          "simple100",
          "simple100",
          "simple100",
          "simple100",
          "simple100",
          "simple100",
          "simple100",
          "simple100",
          "simple100",
          "simple100",
          "simple100",
          "simple100",
          "simple100",
          "simple100",
          "simple100",
          "simple100",
          "simple100",
          "simple100",
          "simple100",
          "simple100",
          "simple100",
          "simple100"
         ],
         "y0": " ",
         "yaxis": "y"
        }
       ],
       "layout": {
        "annotations": [
         {
          "font": {
           "color": "#d62728",
           "size": 16
          },
          "showarrow": false,
          "text": "Median: 9.18%",
          "x": 0.09175,
          "xanchor": "left",
          "y": 0.4
         },
         {
          "font": {
           "color": "#d62728",
           "size": 16
          },
          "showarrow": false,
          "text": "5th %: -2.94%",
          "x": -0.029425999999999997,
          "xanchor": "left",
          "y": 0.35000000000000003
         },
         {
          "font": {
           "color": "#2ca02c",
           "size": 16
          },
          "showarrow": false,
          "text": "Median: 8.28%",
          "x": 0.08276,
          "xanchor": "left",
          "y": 1.4000000000000001
         },
         {
          "font": {
           "color": "#2ca02c",
           "size": 16
          },
          "showarrow": false,
          "text": "5th %: -0.66%",
          "x": -0.006582,
          "xanchor": "left",
          "y": 1.35
         },
         {
          "font": {
           "color": "#ff7f0e",
           "size": 16
          },
          "showarrow": false,
          "text": "Median: 9.83%",
          "x": 0.09829,
          "xanchor": "left",
          "y": 2.4
         },
         {
          "font": {
           "color": "#ff7f0e",
           "size": 16
          },
          "showarrow": false,
          "text": "5th %: -1.95%",
          "x": -0.019457000000000002,
          "xanchor": "left",
          "y": 2.35
         },
         {
          "font": {
           "color": "#1f77b4",
           "size": 16
          },
          "showarrow": false,
          "text": "Median: 9.30%",
          "x": 0.093,
          "xanchor": "left",
          "y": 3.4
         },
         {
          "font": {
           "color": "#1f77b4",
           "size": 16
          },
          "showarrow": false,
          "text": "5th %: -2.01%",
          "x": -0.020057,
          "xanchor": "left",
          "y": 3.35
         }
        ],
        "font": {
         "color": "black"
        },
        "height": 920,
        "legend": {
         "font": {
          "size": 22
         },
         "orientation": "h",
         "title": {
          "text": "Portfolio"
         },
         "tracegroupgap": 0,
         "x": 0.5,
         "xanchor": "center",
         "y": 1.05,
         "yanchor": "bottom"
        },
        "margin": {
         "t": 60
        },
        "shapes": [
         {
          "line": {
           "color": "#d62728",
           "width": 3
          },
          "opacity": 1,
          "type": "line",
          "x0": 0.09175,
          "x1": 0.09175,
          "xref": "x",
          "y0": -0.3,
          "y1": 0.3,
          "yref": "y"
         },
         {
          "line": {
           "color": "#d62728",
           "dash": "dash",
           "width": 3
          },
          "opacity": 1,
          "type": "line",
          "x0": -0.029425999999999997,
          "x1": -0.029425999999999997,
          "xref": "x",
          "y0": -0.3,
          "y1": 0.3,
          "yref": "y"
         },
         {
          "line": {
           "color": "#2ca02c",
           "width": 3
          },
          "opacity": 1,
          "type": "line",
          "x0": 0.08276,
          "x1": 0.08276,
          "xref": "x",
          "y0": 0.7,
          "y1": 1.3,
          "yref": "y"
         },
         {
          "line": {
           "color": "#2ca02c",
           "dash": "dash",
           "width": 3
          },
          "opacity": 1,
          "type": "line",
          "x0": -0.006582,
          "x1": -0.006582,
          "xref": "x",
          "y0": 0.7,
          "y1": 1.3,
          "yref": "y"
         },
         {
          "line": {
           "color": "#ff7f0e",
           "width": 3
          },
          "opacity": 1,
          "type": "line",
          "x0": 0.09829,
          "x1": 0.09829,
          "xref": "x",
          "y0": 1.7,
          "y1": 2.3,
          "yref": "y"
         },
         {
          "line": {
           "color": "#ff7f0e",
           "dash": "dash",
           "width": 3
          },
          "opacity": 1,
          "type": "line",
          "x0": -0.019457000000000002,
          "x1": -0.019457000000000002,
          "xref": "x",
          "y0": 1.7,
          "y1": 2.3,
          "yref": "y"
         },
         {
          "line": {
           "color": "#1f77b4",
           "width": 3
          },
          "opacity": 1,
          "type": "line",
          "x0": 0.093,
          "x1": 0.093,
          "xref": "x",
          "y0": 2.7,
          "y1": 3.3,
          "yref": "y"
         },
         {
          "line": {
           "color": "#1f77b4",
           "dash": "dash",
           "width": 3
          },
          "opacity": 1,
          "type": "line",
          "x0": -0.020057,
          "x1": -0.020057,
          "xref": "x",
          "y0": 2.7,
          "y1": 3.3,
          "yref": "y"
         }
        ],
        "template": {
         "data": {
          "bar": [
           {
            "error_x": {
             "color": "rgb(36,36,36)"
            },
            "error_y": {
             "color": "rgb(36,36,36)"
            },
            "marker": {
             "line": {
              "color": "white",
              "width": 0.5
             },
             "pattern": {
              "fillmode": "overlay",
              "size": 10,
              "solidity": 0.2
             }
            },
            "type": "bar"
           }
          ],
          "barpolar": [
           {
            "marker": {
             "line": {
              "color": "white",
              "width": 0.5
             },
             "pattern": {
              "fillmode": "overlay",
              "size": 10,
              "solidity": 0.2
             }
            },
            "type": "barpolar"
           }
          ],
          "carpet": [
           {
            "aaxis": {
             "endlinecolor": "rgb(36,36,36)",
             "gridcolor": "white",
             "linecolor": "white",
             "minorgridcolor": "white",
             "startlinecolor": "rgb(36,36,36)"
            },
            "baxis": {
             "endlinecolor": "rgb(36,36,36)",
             "gridcolor": "white",
             "linecolor": "white",
             "minorgridcolor": "white",
             "startlinecolor": "rgb(36,36,36)"
            },
            "type": "carpet"
           }
          ],
          "choropleth": [
           {
            "colorbar": {
             "outlinewidth": 1,
             "tickcolor": "rgb(36,36,36)",
             "ticks": "outside"
            },
            "type": "choropleth"
           }
          ],
          "contour": [
           {
            "colorbar": {
             "outlinewidth": 1,
             "tickcolor": "rgb(36,36,36)",
             "ticks": "outside"
            },
            "colorscale": [
             [
              0,
              "#440154"
             ],
             [
              0.1111111111111111,
              "#482878"
             ],
             [
              0.2222222222222222,
              "#3e4989"
             ],
             [
              0.3333333333333333,
              "#31688e"
             ],
             [
              0.4444444444444444,
              "#26828e"
             ],
             [
              0.5555555555555556,
              "#1f9e89"
             ],
             [
              0.6666666666666666,
              "#35b779"
             ],
             [
              0.7777777777777778,
              "#6ece58"
             ],
             [
              0.8888888888888888,
              "#b5de2b"
             ],
             [
              1,
              "#fde725"
             ]
            ],
            "type": "contour"
           }
          ],
          "contourcarpet": [
           {
            "colorbar": {
             "outlinewidth": 1,
             "tickcolor": "rgb(36,36,36)",
             "ticks": "outside"
            },
            "type": "contourcarpet"
           }
          ],
          "heatmap": [
           {
            "colorbar": {
             "outlinewidth": 1,
             "tickcolor": "rgb(36,36,36)",
             "ticks": "outside"
            },
            "colorscale": [
             [
              0,
              "#440154"
             ],
             [
              0.1111111111111111,
              "#482878"
             ],
             [
              0.2222222222222222,
              "#3e4989"
             ],
             [
              0.3333333333333333,
              "#31688e"
             ],
             [
              0.4444444444444444,
              "#26828e"
             ],
             [
              0.5555555555555556,
              "#1f9e89"
             ],
             [
              0.6666666666666666,
              "#35b779"
             ],
             [
              0.7777777777777778,
              "#6ece58"
             ],
             [
              0.8888888888888888,
              "#b5de2b"
             ],
             [
              1,
              "#fde725"
             ]
            ],
            "type": "heatmap"
           }
          ],
          "histogram": [
           {
            "marker": {
             "line": {
              "color": "white",
              "width": 0.6
             }
            },
            "type": "histogram"
           }
          ],
          "histogram2d": [
           {
            "colorbar": {
             "outlinewidth": 1,
             "tickcolor": "rgb(36,36,36)",
             "ticks": "outside"
            },
            "colorscale": [
             [
              0,
              "#440154"
             ],
             [
              0.1111111111111111,
              "#482878"
             ],
             [
              0.2222222222222222,
              "#3e4989"
             ],
             [
              0.3333333333333333,
              "#31688e"
             ],
             [
              0.4444444444444444,
              "#26828e"
             ],
             [
              0.5555555555555556,
              "#1f9e89"
             ],
             [
              0.6666666666666666,
              "#35b779"
             ],
             [
              0.7777777777777778,
              "#6ece58"
             ],
             [
              0.8888888888888888,
              "#b5de2b"
             ],
             [
              1,
              "#fde725"
             ]
            ],
            "type": "histogram2d"
           }
          ],
          "histogram2dcontour": [
           {
            "colorbar": {
             "outlinewidth": 1,
             "tickcolor": "rgb(36,36,36)",
             "ticks": "outside"
            },
            "colorscale": [
             [
              0,
              "#440154"
             ],
             [
              0.1111111111111111,
              "#482878"
             ],
             [
              0.2222222222222222,
              "#3e4989"
             ],
             [
              0.3333333333333333,
              "#31688e"
             ],
             [
              0.4444444444444444,
              "#26828e"
             ],
             [
              0.5555555555555556,
              "#1f9e89"
             ],
             [
              0.6666666666666666,
              "#35b779"
             ],
             [
              0.7777777777777778,
              "#6ece58"
             ],
             [
              0.8888888888888888,
              "#b5de2b"
             ],
             [
              1,
              "#fde725"
             ]
            ],
            "type": "histogram2dcontour"
           }
          ],
          "mesh3d": [
           {
            "colorbar": {
             "outlinewidth": 1,
             "tickcolor": "rgb(36,36,36)",
             "ticks": "outside"
            },
            "type": "mesh3d"
           }
          ],
          "parcoords": [
           {
            "line": {
             "colorbar": {
              "outlinewidth": 1,
              "tickcolor": "rgb(36,36,36)",
              "ticks": "outside"
             }
            },
            "type": "parcoords"
           }
          ],
          "pie": [
           {
            "automargin": true,
            "type": "pie"
           }
          ],
          "scatter": [
           {
            "fillpattern": {
             "fillmode": "overlay",
             "size": 10,
             "solidity": 0.2
            },
            "type": "scatter"
           }
          ],
          "scatter3d": [
           {
            "line": {
             "colorbar": {
              "outlinewidth": 1,
              "tickcolor": "rgb(36,36,36)",
              "ticks": "outside"
             }
            },
            "marker": {
             "colorbar": {
              "outlinewidth": 1,
              "tickcolor": "rgb(36,36,36)",
              "ticks": "outside"
             }
            },
            "type": "scatter3d"
           }
          ],
          "scattercarpet": [
           {
            "marker": {
             "colorbar": {
              "outlinewidth": 1,
              "tickcolor": "rgb(36,36,36)",
              "ticks": "outside"
             }
            },
            "type": "scattercarpet"
           }
          ],
          "scattergeo": [
           {
            "marker": {
             "colorbar": {
              "outlinewidth": 1,
              "tickcolor": "rgb(36,36,36)",
              "ticks": "outside"
             }
            },
            "type": "scattergeo"
           }
          ],
          "scattergl": [
           {
            "marker": {
             "colorbar": {
              "outlinewidth": 1,
              "tickcolor": "rgb(36,36,36)",
              "ticks": "outside"
             }
            },
            "type": "scattergl"
           }
          ],
          "scattermap": [
           {
            "marker": {
             "colorbar": {
              "outlinewidth": 1,
              "tickcolor": "rgb(36,36,36)",
              "ticks": "outside"
             }
            },
            "type": "scattermap"
           }
          ],
          "scattermapbox": [
           {
            "marker": {
             "colorbar": {
              "outlinewidth": 1,
              "tickcolor": "rgb(36,36,36)",
              "ticks": "outside"
             }
            },
            "type": "scattermapbox"
           }
          ],
          "scatterpolar": [
           {
            "marker": {
             "colorbar": {
              "outlinewidth": 1,
              "tickcolor": "rgb(36,36,36)",
              "ticks": "outside"
             }
            },
            "type": "scatterpolar"
           }
          ],
          "scatterpolargl": [
           {
            "marker": {
             "colorbar": {
              "outlinewidth": 1,
              "tickcolor": "rgb(36,36,36)",
              "ticks": "outside"
             }
            },
            "type": "scatterpolargl"
           }
          ],
          "scatterternary": [
           {
            "marker": {
             "colorbar": {
              "outlinewidth": 1,
              "tickcolor": "rgb(36,36,36)",
              "ticks": "outside"
             }
            },
            "type": "scatterternary"
           }
          ],
          "surface": [
           {
            "colorbar": {
             "outlinewidth": 1,
             "tickcolor": "rgb(36,36,36)",
             "ticks": "outside"
            },
            "colorscale": [
             [
              0,
              "#440154"
             ],
             [
              0.1111111111111111,
              "#482878"
             ],
             [
              0.2222222222222222,
              "#3e4989"
             ],
             [
              0.3333333333333333,
              "#31688e"
             ],
             [
              0.4444444444444444,
              "#26828e"
             ],
             [
              0.5555555555555556,
              "#1f9e89"
             ],
             [
              0.6666666666666666,
              "#35b779"
             ],
             [
              0.7777777777777778,
              "#6ece58"
             ],
             [
              0.8888888888888888,
              "#b5de2b"
             ],
             [
              1,
              "#fde725"
             ]
            ],
            "type": "surface"
           }
          ],
          "table": [
           {
            "cells": {
             "fill": {
              "color": "rgb(237,237,237)"
             },
             "line": {
              "color": "white"
             }
            },
            "header": {
             "fill": {
              "color": "rgb(217,217,217)"
             },
             "line": {
              "color": "white"
             }
            },
            "type": "table"
           }
          ]
         },
         "layout": {
          "annotationdefaults": {
           "arrowhead": 0,
           "arrowwidth": 1
          },
          "autotypenumbers": "strict",
          "coloraxis": {
           "colorbar": {
            "outlinewidth": 1,
            "tickcolor": "rgb(36,36,36)",
            "ticks": "outside"
           }
          },
          "colorscale": {
           "diverging": [
            [
             0,
             "rgb(103,0,31)"
            ],
            [
             0.1,
             "rgb(178,24,43)"
            ],
            [
             0.2,
             "rgb(214,96,77)"
            ],
            [
             0.3,
             "rgb(244,165,130)"
            ],
            [
             0.4,
             "rgb(253,219,199)"
            ],
            [
             0.5,
             "rgb(247,247,247)"
            ],
            [
             0.6,
             "rgb(209,229,240)"
            ],
            [
             0.7,
             "rgb(146,197,222)"
            ],
            [
             0.8,
             "rgb(67,147,195)"
            ],
            [
             0.9,
             "rgb(33,102,172)"
            ],
            [
             1,
             "rgb(5,48,97)"
            ]
           ],
           "sequential": [
            [
             0,
             "#440154"
            ],
            [
             0.1111111111111111,
             "#482878"
            ],
            [
             0.2222222222222222,
             "#3e4989"
            ],
            [
             0.3333333333333333,
             "#31688e"
            ],
            [
             0.4444444444444444,
             "#26828e"
            ],
            [
             0.5555555555555556,
             "#1f9e89"
            ],
            [
             0.6666666666666666,
             "#35b779"
            ],
            [
             0.7777777777777778,
             "#6ece58"
            ],
            [
             0.8888888888888888,
             "#b5de2b"
            ],
            [
             1,
             "#fde725"
            ]
           ],
           "sequentialminus": [
            [
             0,
             "#440154"
            ],
            [
             0.1111111111111111,
             "#482878"
            ],
            [
             0.2222222222222222,
             "#3e4989"
            ],
            [
             0.3333333333333333,
             "#31688e"
            ],
            [
             0.4444444444444444,
             "#26828e"
            ],
            [
             0.5555555555555556,
             "#1f9e89"
            ],
            [
             0.6666666666666666,
             "#35b779"
            ],
            [
             0.7777777777777778,
             "#6ece58"
            ],
            [
             0.8888888888888888,
             "#b5de2b"
            ],
            [
             1,
             "#fde725"
            ]
           ]
          },
          "colorway": [
           "#1F77B4",
           "#FF7F0E",
           "#2CA02C",
           "#D62728",
           "#9467BD",
           "#8C564B",
           "#E377C2",
           "#7F7F7F",
           "#BCBD22",
           "#17BECF"
          ],
          "font": {
           "color": "rgb(36,36,36)"
          },
          "geo": {
           "bgcolor": "white",
           "lakecolor": "white",
           "landcolor": "white",
           "showlakes": true,
           "showland": true,
           "subunitcolor": "white"
          },
          "hoverlabel": {
           "align": "left"
          },
          "hovermode": "closest",
          "mapbox": {
           "style": "light"
          },
          "paper_bgcolor": "white",
          "plot_bgcolor": "white",
          "polar": {
           "angularaxis": {
            "gridcolor": "rgb(232,232,232)",
            "linecolor": "rgb(36,36,36)",
            "showgrid": false,
            "showline": true,
            "ticks": "outside"
           },
           "bgcolor": "white",
           "radialaxis": {
            "gridcolor": "rgb(232,232,232)",
            "linecolor": "rgb(36,36,36)",
            "showgrid": false,
            "showline": true,
            "ticks": "outside"
           }
          },
          "scene": {
           "xaxis": {
            "backgroundcolor": "white",
            "gridcolor": "rgb(232,232,232)",
            "gridwidth": 2,
            "linecolor": "rgb(36,36,36)",
            "showbackground": true,
            "showgrid": false,
            "showline": true,
            "ticks": "outside",
            "zeroline": false,
            "zerolinecolor": "rgb(36,36,36)"
           },
           "yaxis": {
            "backgroundcolor": "white",
            "gridcolor": "rgb(232,232,232)",
            "gridwidth": 2,
            "linecolor": "rgb(36,36,36)",
            "showbackground": true,
            "showgrid": false,
            "showline": true,
            "ticks": "outside",
            "zeroline": false,
            "zerolinecolor": "rgb(36,36,36)"
           },
           "zaxis": {
            "backgroundcolor": "white",
            "gridcolor": "rgb(232,232,232)",
            "gridwidth": 2,
            "linecolor": "rgb(36,36,36)",
            "showbackground": true,
            "showgrid": false,
            "showline": true,
            "ticks": "outside",
            "zeroline": false,
            "zerolinecolor": "rgb(36,36,36)"
           }
          },
          "shapedefaults": {
           "fillcolor": "black",
           "line": {
            "width": 0
           },
           "opacity": 0.3
          },
          "ternary": {
           "aaxis": {
            "gridcolor": "rgb(232,232,232)",
            "linecolor": "rgb(36,36,36)",
            "showgrid": false,
            "showline": true,
            "ticks": "outside"
           },
           "baxis": {
            "gridcolor": "rgb(232,232,232)",
            "linecolor": "rgb(36,36,36)",
            "showgrid": false,
            "showline": true,
            "ticks": "outside"
           },
           "bgcolor": "white",
           "caxis": {
            "gridcolor": "rgb(232,232,232)",
            "linecolor": "rgb(36,36,36)",
            "showgrid": false,
            "showline": true,
            "ticks": "outside"
           }
          },
          "title": {
           "x": 0.05
          },
          "xaxis": {
           "automargin": true,
           "gridcolor": "rgb(232,232,232)",
           "linecolor": "rgb(36,36,36)",
           "showgrid": false,
           "showline": true,
           "ticks": "outside",
           "title": {
            "standoff": 15
           },
           "zeroline": false,
           "zerolinecolor": "rgb(36,36,36)"
          },
          "yaxis": {
           "automargin": true,
           "gridcolor": "rgb(232,232,232)",
           "linecolor": "rgb(36,36,36)",
           "showgrid": false,
           "showline": true,
           "ticks": "outside",
           "title": {
            "standoff": 15
           },
           "zeroline": false,
           "zerolinecolor": "rgb(36,36,36)"
          }
         }
        },
        "title": {
         "text": " "
        },
        "violingap": 0.25,
        "violinmode": "overlay",
        "width": 1200,
        "xaxis": {
         "anchor": "y",
         "domain": [
          0,
          1
         ],
         "gridcolor": "lightgray",
         "linecolor": "black",
         "linewidth": 2,
         "showgrid": true,
         "tickfont": {
          "color": "black",
          "size": 16
         },
         "tickformat": ".1%",
         "title": {
          "font": {
           "color": "black",
           "family": "Arial",
           "size": 22
          },
          "text": "Annualized Return (%)"
         }
        },
        "yaxis": {
         "anchor": "x",
         "categoryarray": [
          "simple100",
          "80_20_2factors",
          "100_2factors",
          "100_2factors_EUR"
         ],
         "categoryorder": "array",
         "domain": [
          0,
          1
         ],
         "gridcolor": "lightgray",
         "linecolor": "black",
         "linewidth": 2,
         "showgrid": true,
         "tickfont": {
          "color": "black",
          "size": 16
         },
         "title": {
          "font": {
           "color": "black",
           "family": "Arial",
           "size": 22
          },
          "text": "Portfolio"
         }
        }
       }
      }
     },
     "metadata": {},
     "output_type": "display_data"
    }
   ],
   "source": [
    "plot_return_distributions_streamlit(final_results)"
   ]
  },
  {
   "cell_type": "code",
   "execution_count": null,
   "metadata": {},
   "outputs": [],
   "source": []
  },
  {
   "cell_type": "code",
   "execution_count": null,
   "metadata": {},
   "outputs": [],
   "source": []
  },
  {
   "cell_type": "code",
   "execution_count": 12,
   "metadata": {},
   "outputs": [
    {
     "data": {
      "text/plain": [
       "Index(['lifestrategy40', 'lifestrategy20', 'lifestrategy0'], dtype='object')"
      ]
     },
     "execution_count": 12,
     "metadata": {},
     "output_type": "execute_result"
    }
   ],
   "source": [
    "final_results.keys()[1:]"
   ]
  },
  {
   "cell_type": "code",
   "execution_count": 18,
   "metadata": {},
   "outputs": [
    {
     "data": {
      "application/vnd.microsoft.datawrangler.viewer.v0+json": {
       "columns": [
        {
         "name": "index",
         "rawType": "int64",
         "type": "integer"
        },
        {
         "name": "Date",
         "rawType": "object",
         "type": "string"
        },
        {
         "name": "lifestrategy40",
         "rawType": "float64",
         "type": "float"
        },
        {
         "name": "lifestrategy20",
         "rawType": "float64",
         "type": "float"
        },
        {
         "name": "lifestrategy0",
         "rawType": "float64",
         "type": "float"
        }
       ],
       "ref": "94cef4e0-dd13-44d3-b786-291bf36d261d",
       "rows": [
        [
         "0",
         "01/1985",
         "0.39092439595758055",
         "0.2688236922670799",
         "0.1466672987806652"
        ],
        [
         "1",
         "02/1985",
         "0.3059073447574221",
         "0.2089514106736654",
         "0.11195077999864522"
        ],
        [
         "2",
         "03/1985",
         "0.2739737716306456",
         "0.2080205530387762",
         "0.14204458956835864"
        ],
        [
         "3",
         "04/1985",
         "0.2818217105418461",
         "0.19487566905257814",
         "0.10798306416291537"
        ],
        [
         "4",
         "05/1985",
         "0.30912938847094185",
         "0.2175305494509061",
         "0.1259548834977655"
        ],
        [
         "5",
         "06/1985",
         "0.3014565300368537",
         "0.20761348317017414",
         "0.11385713650888496"
        ],
        [
         "6",
         "07/1985",
         "0.3232694143807082",
         "0.23258731257119547",
         "0.14193338323230753"
        ],
        [
         "7",
         "08/1985",
         "0.2308151828466698",
         "0.1679098343680232",
         "0.10500117727623115"
        ],
        [
         "8",
         "09/1985",
         "0.16955246397375134",
         "0.14532907619571955",
         "0.12112515151169312"
        ],
        [
         "9",
         "10/1985",
         "0.21419818288292158",
         "0.1747189255484327",
         "0.13527683837674975"
        ],
        [
         "10",
         "11/1985",
         "0.18975328444624395",
         "0.17284326792496008",
         "0.15590147939632382"
        ],
        [
         "11",
         "12/1985",
         "0.1948180163332669",
         "0.1752308847837889",
         "0.15567691913757042"
        ],
        [
         "12",
         "01/1986",
         "0.2259229088229906",
         "0.197761143846783",
         "0.16960913932090027"
        ],
        [
         "13",
         "02/1986",
         "0.2636902818732241",
         "0.23690802256019117",
         "0.21011578957049548"
        ],
        [
         "14",
         "03/1986",
         "0.2540125426041975",
         "0.22875027494186528",
         "0.20349082951026953"
        ],
        [
         "15",
         "04/1986",
         "0.30312416112441265",
         "0.2819436877330883",
         "0.26079876386856893"
        ],
        [
         "16",
         "05/1986",
         "0.3337497842835151",
         "0.2966485171966524",
         "0.25947525495731116"
        ],
        [
         "17",
         "06/1986",
         "0.3193329006115786",
         "0.31024619183500857",
         "0.301147896907737"
        ],
        [
         "18",
         "07/1986",
         "0.3539537157352619",
         "0.3243332564510095",
         "0.2947415910107338"
        ],
        [
         "19",
         "08/1986",
         "0.32589897293897807",
         "0.3234571015207641",
         "0.3210188291300131"
        ],
        [
         "20",
         "09/1986",
         "0.35944222712291674",
         "0.3471497502750409",
         "0.3348833575475796"
        ],
        [
         "21",
         "10/1986",
         "0.38721738216157675",
         "0.3637945687754365",
         "0.3403099620042749"
        ],
        [
         "22",
         "11/1986",
         "0.32539778263174624",
         "0.3424602252672653",
         "0.35957007836209387"
        ],
        [
         "23",
         "12/1986",
         "0.3387306446147764",
         "0.3462615392224859",
         "0.3538262871960547"
        ],
        [
         "24",
         "01/1987",
         "0.3438530420340944",
         "0.3791156348262459",
         "0.4143226723111022"
        ],
        [
         "25",
         "02/1987",
         "0.33999397934722997",
         "0.37814597448575693",
         "0.4163692193345776"
        ],
        [
         "26",
         "03/1987",
         "0.29025994861866944",
         "0.3435363913031573",
         "0.3967937071900274"
        ],
        [
         "27",
         "04/1987",
         "0.27537019324091805",
         "0.33822557760000027",
         "0.4010449631969628"
        ],
        [
         "28",
         "05/1987",
         "0.28346918627010864",
         "0.3378468773861498",
         "0.3922269790693549"
        ],
        [
         "29",
         "06/1987",
         "0.23607845564126162",
         "0.3035567888490036",
         "0.37105178500554237"
        ],
        [
         "30",
         "07/1987",
         "0.20389678728445393",
         "0.28731988444688583",
         "0.3707300173972423"
        ],
        [
         "31",
         "08/1987",
         "0.17216180493520272",
         "0.2655605383364428",
         "0.3589309183455842"
        ],
        [
         "32",
         "09/1987",
         "0.24827024360100602",
         "0.3494994221164205",
         "0.45071637705392664"
        ],
        [
         "33",
         "10/1987",
         "0.37801672766045513",
         "0.45024509856825157",
         "0.5225291155523055"
        ],
        [
         "34",
         "11/1987",
         "0.4992271710272662",
         "0.5410958096375043",
         "0.582955833581756"
        ],
        [
         "35",
         "12/1987",
         "0.5217594051881935",
         "0.5730889482354549",
         "0.6243933714115588"
        ],
        [
         "36",
         "01/1988",
         "0.46885196738588775",
         "0.5079577648559177",
         "0.5470412244174754"
        ],
        [
         "37",
         "02/1988",
         "0.48305197927937527",
         "0.5432878187760979",
         "0.6034945757953651"
        ],
        [
         "38",
         "03/1988",
         "0.5044190670311226",
         "0.5517254824499218",
         "0.5990495760267018"
        ],
        [
         "39",
         "04/1988",
         "0.4996419944506352",
         "0.5435000809918196",
         "0.5873650175011804"
        ],
        [
         "40",
         "05/1988",
         "0.5120598569738752",
         "0.5435708402535917",
         "0.5750296133379962"
        ],
        [
         "41",
         "06/1988",
         "0.5397535517640923",
         "0.5874373809684146",
         "0.6351094025632946"
        ],
        [
         "42",
         "07/1988",
         "0.5678515409921157",
         "0.6277130054371114",
         "0.6874884686139364"
        ],
        [
         "43",
         "08/1988",
         "0.6130005091116526",
         "0.6459564034853769",
         "0.6788432555789481"
        ],
        [
         "44",
         "09/1988",
         "0.52434966911144",
         "0.5727297758283645",
         "0.621152746187682"
        ],
        [
         "45",
         "10/1988",
         "0.5427219003652992",
         "0.597521613218196",
         "0.6523726234764491"
        ],
        [
         "46",
         "11/1988",
         "0.5579175156090592",
         "0.6293379116566467",
         "0.7008288948502615"
        ],
        [
         "47",
         "12/1988",
         "0.5791328629370909",
         "0.6406743254081468",
         "0.7022058240180635"
        ],
        [
         "48",
         "01/1989",
         "0.5496658524212494",
         "0.5999960435092362",
         "0.6504307295956719"
        ],
        [
         "49",
         "02/1989",
         "0.5374244847365148",
         "0.5943239547508554",
         "0.6511773956753761"
        ]
       ],
       "shape": {
        "columns": 4,
        "rows": 417
       }
      },
      "text/html": [
       "<div>\n",
       "<style scoped>\n",
       "    .dataframe tbody tr th:only-of-type {\n",
       "        vertical-align: middle;\n",
       "    }\n",
       "\n",
       "    .dataframe tbody tr th {\n",
       "        vertical-align: top;\n",
       "    }\n",
       "\n",
       "    .dataframe thead th {\n",
       "        text-align: right;\n",
       "    }\n",
       "</style>\n",
       "<table border=\"1\" class=\"dataframe\">\n",
       "  <thead>\n",
       "    <tr style=\"text-align: right;\">\n",
       "      <th></th>\n",
       "      <th>Date</th>\n",
       "      <th>lifestrategy40</th>\n",
       "      <th>lifestrategy20</th>\n",
       "      <th>lifestrategy0</th>\n",
       "    </tr>\n",
       "  </thead>\n",
       "  <tbody>\n",
       "    <tr>\n",
       "      <th>0</th>\n",
       "      <td>01/1985</td>\n",
       "      <td>0.390924</td>\n",
       "      <td>0.268824</td>\n",
       "      <td>0.146667</td>\n",
       "    </tr>\n",
       "    <tr>\n",
       "      <th>1</th>\n",
       "      <td>02/1985</td>\n",
       "      <td>0.305907</td>\n",
       "      <td>0.208951</td>\n",
       "      <td>0.111951</td>\n",
       "    </tr>\n",
       "    <tr>\n",
       "      <th>2</th>\n",
       "      <td>03/1985</td>\n",
       "      <td>0.273974</td>\n",
       "      <td>0.208021</td>\n",
       "      <td>0.142045</td>\n",
       "    </tr>\n",
       "    <tr>\n",
       "      <th>3</th>\n",
       "      <td>04/1985</td>\n",
       "      <td>0.281822</td>\n",
       "      <td>0.194876</td>\n",
       "      <td>0.107983</td>\n",
       "    </tr>\n",
       "    <tr>\n",
       "      <th>4</th>\n",
       "      <td>05/1985</td>\n",
       "      <td>0.309129</td>\n",
       "      <td>0.217531</td>\n",
       "      <td>0.125955</td>\n",
       "    </tr>\n",
       "    <tr>\n",
       "      <th>...</th>\n",
       "      <td>...</td>\n",
       "      <td>...</td>\n",
       "      <td>...</td>\n",
       "      <td>...</td>\n",
       "    </tr>\n",
       "    <tr>\n",
       "      <th>412</th>\n",
       "      <td>12/2019</td>\n",
       "      <td>0.285241</td>\n",
       "      <td>0.101702</td>\n",
       "      <td>-0.081832</td>\n",
       "    </tr>\n",
       "    <tr>\n",
       "      <th>413</th>\n",
       "      <td>01/2020</td>\n",
       "      <td>0.287259</td>\n",
       "      <td>0.089492</td>\n",
       "      <td>-0.108280</td>\n",
       "    </tr>\n",
       "    <tr>\n",
       "      <th>414</th>\n",
       "      <td>02/2020</td>\n",
       "      <td>0.341954</td>\n",
       "      <td>0.115220</td>\n",
       "      <td>-0.111469</td>\n",
       "    </tr>\n",
       "    <tr>\n",
       "      <th>415</th>\n",
       "      <td>03/2020</td>\n",
       "      <td>0.374079</td>\n",
       "      <td>0.118935</td>\n",
       "      <td>-0.136208</td>\n",
       "    </tr>\n",
       "    <tr>\n",
       "      <th>416</th>\n",
       "      <td>04/2020</td>\n",
       "      <td>0.238035</td>\n",
       "      <td>0.038427</td>\n",
       "      <td>-0.161218</td>\n",
       "    </tr>\n",
       "  </tbody>\n",
       "</table>\n",
       "<p>417 rows × 4 columns</p>\n",
       "</div>"
      ],
      "text/plain": [
       "        Date  lifestrategy40  lifestrategy20  lifestrategy0\n",
       "0    01/1985        0.390924        0.268824       0.146667\n",
       "1    02/1985        0.305907        0.208951       0.111951\n",
       "2    03/1985        0.273974        0.208021       0.142045\n",
       "3    04/1985        0.281822        0.194876       0.107983\n",
       "4    05/1985        0.309129        0.217531       0.125955\n",
       "..       ...             ...             ...            ...\n",
       "412  12/2019        0.285241        0.101702      -0.081832\n",
       "413  01/2020        0.287259        0.089492      -0.108280\n",
       "414  02/2020        0.341954        0.115220      -0.111469\n",
       "415  03/2020        0.374079        0.118935      -0.136208\n",
       "416  04/2020        0.238035        0.038427      -0.161218\n",
       "\n",
       "[417 rows x 4 columns]"
      ]
     },
     "execution_count": 18,
     "metadata": {},
     "output_type": "execute_result"
    }
   ],
   "source": [
    "final_results_totalreturn = final_results.copy()\n",
    "years = 5\n",
    "\n",
    "for portfolio in final_results_totalreturn.keys()[1:]:\n",
    "\n",
    "    final_results_totalreturn[portfolio] = (final_results[portfolio] + 1)**years - 1\n",
    "\n",
    "final_results_totalreturn"
   ]
  },
  {
   "cell_type": "markdown",
   "metadata": {},
   "source": []
  },
  {
   "cell_type": "code",
   "execution_count": null,
   "metadata": {},
   "outputs": [],
   "source": []
  },
  {
   "cell_type": "code",
   "execution_count": null,
   "metadata": {},
   "outputs": [],
   "source": []
  },
  {
   "cell_type": "code",
   "execution_count": 1,
   "metadata": {},
   "outputs": [
    {
     "ename": "NameError",
     "evalue": "name 'portfolios' is not defined",
     "output_type": "error",
     "traceback": [
      "\u001b[31m---------------------------------------------------------------------------\u001b[39m",
      "\u001b[31mNameError\u001b[39m                                 Traceback (most recent call last)",
      "\u001b[36mCell\u001b[39m\u001b[36m \u001b[39m\u001b[32mIn[1]\u001b[39m\u001b[32m, line 3\u001b[39m\n\u001b[32m      1\u001b[39m final_maxdrawdown = \u001b[38;5;28;01mNone\u001b[39;00m\n\u001b[32m----> \u001b[39m\u001b[32m3\u001b[39m \u001b[38;5;28;01mfor\u001b[39;00m portfolio_name \u001b[38;5;129;01min\u001b[39;00m \u001b[43mportfolios\u001b[49m:\n\u001b[32m      5\u001b[39m     portfolio = load_portfolio(portfolio_name)\n\u001b[32m      6\u001b[39m     data, weights = prune_data_portfolio(portfolio)\n",
      "\u001b[31mNameError\u001b[39m: name 'portfolios' is not defined"
     ]
    }
   ],
   "source": [
    "final_maxdrawdown = None\n",
    "\n",
    "for portfolio_name in portfolios:\n",
    "\n",
    "    portfolio = load_portfolio(portfolio_name)\n",
    "    data, weights = prune_data_portfolio(portfolio)\n",
    "\n",
    "    prices = compute_portfolio_prices(portfolio, portfolio_name)\n",
    "\n",
    "    maxdrawdown = max_drawdown(prices)\n",
    "\n",
    "    final_maxdrawdown = merge_results(final_maxdrawdown, maxdrawdown)\n",
    "\n",
    "plot_max_drawdown(final_maxdrawdown)"
   ]
  },
  {
   "cell_type": "code",
   "execution_count": null,
   "metadata": {},
   "outputs": [],
   "source": []
  },
  {
   "cell_type": "code",
   "execution_count": null,
   "metadata": {},
   "outputs": [
    {
     "ename": "NameError",
     "evalue": "name 'total_return' is not defined",
     "output_type": "error",
     "traceback": [
      "\u001b[31m---------------------------------------------------------------------------\u001b[39m",
      "\u001b[31mNameError\u001b[39m                                 Traceback (most recent call last)",
      "\u001b[36mCell\u001b[39m\u001b[36m \u001b[39m\u001b[32mIn[10]\u001b[39m\u001b[32m, line 1\u001b[39m\n\u001b[32m----> \u001b[39m\u001b[32m1\u001b[39m \u001b[43mtotal_return\u001b[49m ** (\u001b[32m1\u001b[39m / years) - \u001b[32m1\u001b[39m\n",
      "\u001b[31mNameError\u001b[39m: name 'total_return' is not defined"
     ]
    }
   ],
   "source": [
    "(annualized_return + 1)**years"
   ]
  },
  {
   "cell_type": "code",
   "execution_count": null,
   "metadata": {},
   "outputs": [],
   "source": []
  },
  {
   "cell_type": "code",
   "execution_count": null,
   "metadata": {},
   "outputs": [],
   "source": []
  }
 ],
 "metadata": {
  "kernelspec": {
   "display_name": "finace4all",
   "language": "python",
   "name": "python3"
  },
  "language_info": {
   "codemirror_mode": {
    "name": "ipython",
    "version": 3
   },
   "file_extension": ".py",
   "mimetype": "text/x-python",
   "name": "python",
   "nbconvert_exporter": "python",
   "pygments_lexer": "ipython3",
   "version": "3.12.9"
  }
 },
 "nbformat": 4,
 "nbformat_minor": 2
}
