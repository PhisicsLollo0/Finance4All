{
 "cells": [
  {
   "cell_type": "code",
   "execution_count": 4,
   "metadata": {},
   "outputs": [
    {
     "name": "stdout",
     "output_type": "stream",
     "text": [
      "['/home/cavallo/Finance4All/data/indexes/MSCI_Europe_Small_Cap_Value_Weighted.csv', '/home/cavallo/Finance4All/data/indexes/Historical_data_updated.csv', '/home/cavallo/Finance4All/data/indexes/MSCI_Europe.csv', '/home/cavallo/Finance4All/data/indexes/MSCI_World_Momentum.csv', '/home/cavallo/Finance4All/data/indexes/MSCI_ACWI.csv', '/home/cavallo/Finance4All/data/indexes/MSCI_World.csv', '/home/cavallo/Finance4All/data/indexes/S&P_500_Minimum_Volatility.csv', '/home/cavallo/Finance4All/data/indexes/MSCI_Emerging_Markets.csv', '/home/cavallo/Finance4All/data/indexes/FTSE_World_Government_Bond_Developed_Markets.csv', '/home/cavallo/Finance4All/data/indexes/S&P_500.csv', '/home/cavallo/Finance4All/data/indexes/MSCI_USA_Small_Cap_Value_Weighted.csv']\n"
     ]
    }
   ],
   "source": [
    "from src.scraping.get_data import *\n",
    "from src.utils.checks import *\n",
    "from src.portfolio.data_manipulation import *\n",
    "from src.plots.basics import *\n",
    "from src.computations.compute_returns import *\n",
    "from src.computations.metrics import *\n",
    "from src.utils.basics import *\n",
    "from src.plots.basics_streamlit import *\n",
    "\n",
    "get_data_info()\n",
    "data = get_data_updated_2025()"
   ]
  },
  {
   "cell_type": "markdown",
   "metadata": {},
   "source": [
    "download_data_updated()"
   ]
  },
  {
   "cell_type": "code",
   "execution_count": 5,
   "metadata": {},
   "outputs": [
    {
     "data": {
      "application/vnd.microsoft.datawrangler.viewer.v0+json": {
       "columns": [
        {
         "name": "index",
         "rawType": "int64",
         "type": "integer"
        },
        {
         "name": "Date",
         "rawType": "object",
         "type": "string"
        },
        {
         "name": "MSCI Europe Small Cap Value Weighted",
         "rawType": "float64",
         "type": "float"
        },
        {
         "name": "MSCI USA Small Cap Value Weighted.1",
         "rawType": "float64",
         "type": "float"
        },
        {
         "name": "MSCI Europe",
         "rawType": "float64",
         "type": "float"
        },
        {
         "name": "MSCI World Momentum",
         "rawType": "float64",
         "type": "float"
        },
        {
         "name": "MSCI ACWI",
         "rawType": "float64",
         "type": "float"
        },
        {
         "name": "MSCI World",
         "rawType": "float64",
         "type": "float"
        },
        {
         "name": "S&P 500 Minimum Volatility",
         "rawType": "float64",
         "type": "float"
        },
        {
         "name": "MSCI Emerging Markets",
         "rawType": "float64",
         "type": "float"
        },
        {
         "name": "FTSE World Government Bond - Developed Markets",
         "rawType": "float64",
         "type": "float"
        },
        {
         "name": "S&P 500",
         "rawType": "float64",
         "type": "float"
        },
        {
         "name": "MSCI USA Small Cap Value Weighted",
         "rawType": "float64",
         "type": "float"
        }
       ],
       "ref": "46af0e7b-f023-44c5-b7cf-75e86aadd720",
       "rows": [
        [
         "0",
         "01/1975",
         null,
         null,
         null,
         null,
         null,
         null,
         null,
         null,
         null,
         null,
         null
        ],
        [
         "1",
         "02/1975",
         null,
         null,
         null,
         null,
         null,
         null,
         null,
         null,
         null,
         null,
         null
        ],
        [
         "2",
         "03/1975",
         null,
         null,
         null,
         null,
         null,
         null,
         null,
         null,
         null,
         null,
         null
        ],
        [
         "3",
         "04/1975",
         null,
         null,
         null,
         null,
         null,
         null,
         null,
         null,
         null,
         null,
         null
        ],
        [
         "4",
         "05/1975",
         null,
         null,
         null,
         null,
         null,
         null,
         null,
         null,
         null,
         null,
         null
        ],
        [
         "5",
         "06/1975",
         null,
         null,
         null,
         null,
         null,
         null,
         null,
         null,
         null,
         null,
         null
        ],
        [
         "6",
         "07/1975",
         null,
         null,
         null,
         null,
         null,
         null,
         null,
         null,
         null,
         null,
         null
        ],
        [
         "7",
         "08/1975",
         null,
         null,
         null,
         null,
         null,
         null,
         null,
         null,
         null,
         null,
         null
        ],
        [
         "8",
         "09/1975",
         null,
         null,
         null,
         null,
         null,
         null,
         null,
         null,
         null,
         null,
         null
        ],
        [
         "9",
         "10/1975",
         null,
         null,
         null,
         null,
         null,
         null,
         null,
         null,
         null,
         null,
         null
        ],
        [
         "10",
         "11/1975",
         null,
         null,
         null,
         null,
         null,
         null,
         null,
         null,
         null,
         null,
         null
        ],
        [
         "11",
         "12/1975",
         null,
         null,
         null,
         null,
         null,
         null,
         null,
         null,
         null,
         null,
         null
        ],
        [
         "12",
         "01/1976",
         null,
         null,
         null,
         null,
         null,
         null,
         null,
         null,
         null,
         null,
         null
        ],
        [
         "13",
         "02/1976",
         null,
         null,
         null,
         null,
         null,
         null,
         null,
         null,
         null,
         null,
         null
        ],
        [
         "14",
         "03/1976",
         null,
         null,
         null,
         null,
         null,
         null,
         null,
         null,
         null,
         null,
         null
        ],
        [
         "15",
         "04/1976",
         null,
         null,
         null,
         null,
         null,
         null,
         null,
         null,
         null,
         null,
         null
        ],
        [
         "16",
         "05/1976",
         null,
         null,
         null,
         null,
         null,
         null,
         null,
         null,
         null,
         null,
         null
        ],
        [
         "17",
         "06/1976",
         null,
         null,
         null,
         null,
         null,
         null,
         null,
         null,
         null,
         null,
         null
        ],
        [
         "18",
         "07/1976",
         null,
         null,
         null,
         null,
         null,
         null,
         null,
         null,
         null,
         null,
         null
        ],
        [
         "19",
         "08/1976",
         null,
         null,
         null,
         null,
         null,
         null,
         null,
         null,
         null,
         null,
         null
        ],
        [
         "20",
         "09/1976",
         null,
         null,
         null,
         null,
         null,
         null,
         null,
         null,
         null,
         null,
         null
        ],
        [
         "21",
         "10/1976",
         null,
         null,
         null,
         null,
         null,
         null,
         null,
         null,
         null,
         null,
         null
        ],
        [
         "22",
         "11/1976",
         null,
         null,
         null,
         null,
         null,
         null,
         null,
         null,
         null,
         null,
         null
        ],
        [
         "23",
         "12/1976",
         null,
         null,
         null,
         null,
         null,
         null,
         null,
         null,
         null,
         null,
         null
        ],
        [
         "24",
         "01/1977",
         null,
         null,
         null,
         null,
         null,
         null,
         null,
         null,
         null,
         null,
         null
        ],
        [
         "25",
         "02/1977",
         null,
         null,
         null,
         null,
         null,
         null,
         null,
         null,
         null,
         null,
         null
        ],
        [
         "26",
         "03/1977",
         null,
         null,
         null,
         null,
         null,
         null,
         null,
         null,
         null,
         null,
         null
        ],
        [
         "27",
         "04/1977",
         null,
         null,
         null,
         null,
         null,
         null,
         null,
         null,
         null,
         null,
         null
        ],
        [
         "28",
         "05/1977",
         null,
         null,
         null,
         null,
         null,
         null,
         null,
         null,
         null,
         null,
         null
        ],
        [
         "29",
         "06/1977",
         null,
         null,
         null,
         null,
         null,
         null,
         null,
         null,
         null,
         null,
         null
        ],
        [
         "30",
         "07/1977",
         null,
         null,
         null,
         null,
         null,
         null,
         null,
         null,
         null,
         null,
         null
        ],
        [
         "31",
         "08/1977",
         null,
         null,
         null,
         null,
         null,
         null,
         null,
         null,
         null,
         null,
         null
        ],
        [
         "32",
         "09/1977",
         null,
         null,
         null,
         null,
         null,
         null,
         null,
         null,
         null,
         null,
         null
        ],
        [
         "33",
         "10/1977",
         null,
         null,
         null,
         null,
         null,
         null,
         null,
         null,
         null,
         null,
         null
        ],
        [
         "34",
         "11/1977",
         null,
         null,
         null,
         null,
         null,
         null,
         null,
         null,
         null,
         null,
         null
        ],
        [
         "35",
         "12/1977",
         null,
         null,
         null,
         null,
         null,
         null,
         null,
         null,
         null,
         null,
         null
        ],
        [
         "36",
         "01/1978",
         null,
         null,
         null,
         null,
         null,
         null,
         null,
         null,
         null,
         null,
         null
        ],
        [
         "37",
         "02/1978",
         null,
         null,
         null,
         null,
         null,
         null,
         null,
         null,
         null,
         null,
         null
        ],
        [
         "38",
         "03/1978",
         null,
         null,
         null,
         null,
         null,
         null,
         null,
         null,
         null,
         null,
         null
        ],
        [
         "39",
         "04/1978",
         null,
         null,
         null,
         null,
         null,
         null,
         null,
         null,
         null,
         null,
         null
        ],
        [
         "40",
         "05/1978",
         null,
         null,
         null,
         null,
         null,
         null,
         null,
         null,
         null,
         null,
         null
        ],
        [
         "41",
         "06/1978",
         null,
         null,
         null,
         null,
         null,
         null,
         null,
         null,
         null,
         null,
         null
        ],
        [
         "42",
         "07/1978",
         null,
         null,
         null,
         null,
         null,
         null,
         null,
         null,
         null,
         null,
         null
        ],
        [
         "43",
         "08/1978",
         null,
         null,
         null,
         null,
         null,
         null,
         null,
         null,
         null,
         null,
         null
        ],
        [
         "44",
         "09/1978",
         null,
         null,
         null,
         null,
         null,
         null,
         null,
         null,
         null,
         null,
         null
        ],
        [
         "45",
         "10/1978",
         null,
         null,
         null,
         null,
         null,
         null,
         null,
         null,
         null,
         null,
         null
        ],
        [
         "46",
         "11/1978",
         null,
         null,
         null,
         null,
         null,
         null,
         null,
         null,
         null,
         null,
         null
        ],
        [
         "47",
         "12/1978",
         null,
         null,
         "10000.0",
         null,
         null,
         "10000.0",
         null,
         null,
         null,
         null,
         null
        ],
        [
         "48",
         "01/1979",
         null,
         null,
         "10185.22014136237",
         null,
         null,
         "10398.930905250509",
         null,
         null,
         null,
         null,
         null
        ],
        [
         "49",
         "02/1979",
         null,
         null,
         "10417.900537688138",
         null,
         null,
         "10248.849017195264",
         null,
         null,
         null,
         null,
         null
        ]
       ],
       "shape": {
        "columns": 12,
        "rows": 606
       }
      },
      "text/html": [
       "<div>\n",
       "<style scoped>\n",
       "    .dataframe tbody tr th:only-of-type {\n",
       "        vertical-align: middle;\n",
       "    }\n",
       "\n",
       "    .dataframe tbody tr th {\n",
       "        vertical-align: top;\n",
       "    }\n",
       "\n",
       "    .dataframe thead th {\n",
       "        text-align: right;\n",
       "    }\n",
       "</style>\n",
       "<table border=\"1\" class=\"dataframe\">\n",
       "  <thead>\n",
       "    <tr style=\"text-align: right;\">\n",
       "      <th></th>\n",
       "      <th>Date</th>\n",
       "      <th>MSCI Europe Small Cap Value Weighted</th>\n",
       "      <th>MSCI USA Small Cap Value Weighted.1</th>\n",
       "      <th>MSCI Europe</th>\n",
       "      <th>MSCI World Momentum</th>\n",
       "      <th>MSCI ACWI</th>\n",
       "      <th>MSCI World</th>\n",
       "      <th>S&amp;P 500 Minimum Volatility</th>\n",
       "      <th>MSCI Emerging Markets</th>\n",
       "      <th>FTSE World Government Bond - Developed Markets</th>\n",
       "      <th>S&amp;P 500</th>\n",
       "      <th>MSCI USA Small Cap Value Weighted</th>\n",
       "    </tr>\n",
       "  </thead>\n",
       "  <tbody>\n",
       "    <tr>\n",
       "      <th>0</th>\n",
       "      <td>01/1975</td>\n",
       "      <td>NaN</td>\n",
       "      <td>NaN</td>\n",
       "      <td>NaN</td>\n",
       "      <td>NaN</td>\n",
       "      <td>NaN</td>\n",
       "      <td>NaN</td>\n",
       "      <td>NaN</td>\n",
       "      <td>NaN</td>\n",
       "      <td>NaN</td>\n",
       "      <td>NaN</td>\n",
       "      <td>NaN</td>\n",
       "    </tr>\n",
       "    <tr>\n",
       "      <th>1</th>\n",
       "      <td>02/1975</td>\n",
       "      <td>NaN</td>\n",
       "      <td>NaN</td>\n",
       "      <td>NaN</td>\n",
       "      <td>NaN</td>\n",
       "      <td>NaN</td>\n",
       "      <td>NaN</td>\n",
       "      <td>NaN</td>\n",
       "      <td>NaN</td>\n",
       "      <td>NaN</td>\n",
       "      <td>NaN</td>\n",
       "      <td>NaN</td>\n",
       "    </tr>\n",
       "    <tr>\n",
       "      <th>2</th>\n",
       "      <td>03/1975</td>\n",
       "      <td>NaN</td>\n",
       "      <td>NaN</td>\n",
       "      <td>NaN</td>\n",
       "      <td>NaN</td>\n",
       "      <td>NaN</td>\n",
       "      <td>NaN</td>\n",
       "      <td>NaN</td>\n",
       "      <td>NaN</td>\n",
       "      <td>NaN</td>\n",
       "      <td>NaN</td>\n",
       "      <td>NaN</td>\n",
       "    </tr>\n",
       "    <tr>\n",
       "      <th>3</th>\n",
       "      <td>04/1975</td>\n",
       "      <td>NaN</td>\n",
       "      <td>NaN</td>\n",
       "      <td>NaN</td>\n",
       "      <td>NaN</td>\n",
       "      <td>NaN</td>\n",
       "      <td>NaN</td>\n",
       "      <td>NaN</td>\n",
       "      <td>NaN</td>\n",
       "      <td>NaN</td>\n",
       "      <td>NaN</td>\n",
       "      <td>NaN</td>\n",
       "    </tr>\n",
       "    <tr>\n",
       "      <th>4</th>\n",
       "      <td>05/1975</td>\n",
       "      <td>NaN</td>\n",
       "      <td>NaN</td>\n",
       "      <td>NaN</td>\n",
       "      <td>NaN</td>\n",
       "      <td>NaN</td>\n",
       "      <td>NaN</td>\n",
       "      <td>NaN</td>\n",
       "      <td>NaN</td>\n",
       "      <td>NaN</td>\n",
       "      <td>NaN</td>\n",
       "      <td>NaN</td>\n",
       "    </tr>\n",
       "    <tr>\n",
       "      <th>...</th>\n",
       "      <td>...</td>\n",
       "      <td>...</td>\n",
       "      <td>...</td>\n",
       "      <td>...</td>\n",
       "      <td>...</td>\n",
       "      <td>...</td>\n",
       "      <td>...</td>\n",
       "      <td>...</td>\n",
       "      <td>...</td>\n",
       "      <td>...</td>\n",
       "      <td>...</td>\n",
       "      <td>...</td>\n",
       "    </tr>\n",
       "    <tr>\n",
       "      <th>601</th>\n",
       "      <td>02/2025</td>\n",
       "      <td>151620.912337</td>\n",
       "      <td>332033.356917</td>\n",
       "      <td>771142.176129</td>\n",
       "      <td>278724.388599</td>\n",
       "      <td>243528.409920</td>\n",
       "      <td>1.017283e+06</td>\n",
       "      <td>93364.614043</td>\n",
       "      <td>352456.719356</td>\n",
       "      <td>57818.820684</td>\n",
       "      <td>333427.489458</td>\n",
       "      <td>332033.356917</td>\n",
       "    </tr>\n",
       "    <tr>\n",
       "      <th>602</th>\n",
       "      <td>03/2025</td>\n",
       "      <td>149258.620455</td>\n",
       "      <td>301474.781370</td>\n",
       "      <td>740100.039015</td>\n",
       "      <td>253014.321457</td>\n",
       "      <td>225203.342503</td>\n",
       "      <td>9.356841e+05</td>\n",
       "      <td>87854.767453</td>\n",
       "      <td>341488.238952</td>\n",
       "      <td>56062.489396</td>\n",
       "      <td>302887.181519</td>\n",
       "      <td>301474.781370</td>\n",
       "    </tr>\n",
       "    <tr>\n",
       "      <th>603</th>\n",
       "      <td>04/2025</td>\n",
       "      <td>151103.730645</td>\n",
       "      <td>274195.338702</td>\n",
       "      <td>734564.922807</td>\n",
       "      <td>248540.215643</td>\n",
       "      <td>215995.891590</td>\n",
       "      <td>8.976836e+05</td>\n",
       "      <td>82429.995779</td>\n",
       "      <td>328764.402587</td>\n",
       "      <td>55177.416831</td>\n",
       "      <td>286073.221001</td>\n",
       "      <td>274195.338702</td>\n",
       "    </tr>\n",
       "    <tr>\n",
       "      <th>604</th>\n",
       "      <td>05/2025</td>\n",
       "      <td>NaN</td>\n",
       "      <td>NaN</td>\n",
       "      <td>NaN</td>\n",
       "      <td>NaN</td>\n",
       "      <td>NaN</td>\n",
       "      <td>NaN</td>\n",
       "      <td>NaN</td>\n",
       "      <td>NaN</td>\n",
       "      <td>NaN</td>\n",
       "      <td>NaN</td>\n",
       "      <td>NaN</td>\n",
       "    </tr>\n",
       "    <tr>\n",
       "      <th>605</th>\n",
       "      <td>06/2025</td>\n",
       "      <td>NaN</td>\n",
       "      <td>NaN</td>\n",
       "      <td>NaN</td>\n",
       "      <td>NaN</td>\n",
       "      <td>NaN</td>\n",
       "      <td>NaN</td>\n",
       "      <td>NaN</td>\n",
       "      <td>NaN</td>\n",
       "      <td>NaN</td>\n",
       "      <td>NaN</td>\n",
       "      <td>NaN</td>\n",
       "    </tr>\n",
       "  </tbody>\n",
       "</table>\n",
       "<p>606 rows × 12 columns</p>\n",
       "</div>"
      ],
      "text/plain": [
       "        Date  MSCI Europe Small Cap Value Weighted  \\\n",
       "0    01/1975                                   NaN   \n",
       "1    02/1975                                   NaN   \n",
       "2    03/1975                                   NaN   \n",
       "3    04/1975                                   NaN   \n",
       "4    05/1975                                   NaN   \n",
       "..       ...                                   ...   \n",
       "601  02/2025                         151620.912337   \n",
       "602  03/2025                         149258.620455   \n",
       "603  04/2025                         151103.730645   \n",
       "604  05/2025                                   NaN   \n",
       "605  06/2025                                   NaN   \n",
       "\n",
       "     MSCI USA Small Cap Value Weighted.1    MSCI Europe  MSCI World Momentum  \\\n",
       "0                                    NaN            NaN                  NaN   \n",
       "1                                    NaN            NaN                  NaN   \n",
       "2                                    NaN            NaN                  NaN   \n",
       "3                                    NaN            NaN                  NaN   \n",
       "4                                    NaN            NaN                  NaN   \n",
       "..                                   ...            ...                  ...   \n",
       "601                        332033.356917  771142.176129        278724.388599   \n",
       "602                        301474.781370  740100.039015        253014.321457   \n",
       "603                        274195.338702  734564.922807        248540.215643   \n",
       "604                                  NaN            NaN                  NaN   \n",
       "605                                  NaN            NaN                  NaN   \n",
       "\n",
       "         MSCI ACWI    MSCI World  S&P 500 Minimum Volatility  \\\n",
       "0              NaN           NaN                         NaN   \n",
       "1              NaN           NaN                         NaN   \n",
       "2              NaN           NaN                         NaN   \n",
       "3              NaN           NaN                         NaN   \n",
       "4              NaN           NaN                         NaN   \n",
       "..             ...           ...                         ...   \n",
       "601  243528.409920  1.017283e+06                93364.614043   \n",
       "602  225203.342503  9.356841e+05                87854.767453   \n",
       "603  215995.891590  8.976836e+05                82429.995779   \n",
       "604            NaN           NaN                         NaN   \n",
       "605            NaN           NaN                         NaN   \n",
       "\n",
       "     MSCI Emerging Markets  FTSE World Government Bond - Developed Markets  \\\n",
       "0                      NaN                                             NaN   \n",
       "1                      NaN                                             NaN   \n",
       "2                      NaN                                             NaN   \n",
       "3                      NaN                                             NaN   \n",
       "4                      NaN                                             NaN   \n",
       "..                     ...                                             ...   \n",
       "601          352456.719356                                    57818.820684   \n",
       "602          341488.238952                                    56062.489396   \n",
       "603          328764.402587                                    55177.416831   \n",
       "604                    NaN                                             NaN   \n",
       "605                    NaN                                             NaN   \n",
       "\n",
       "           S&P 500  MSCI USA Small Cap Value Weighted  \n",
       "0              NaN                                NaN  \n",
       "1              NaN                                NaN  \n",
       "2              NaN                                NaN  \n",
       "3              NaN                                NaN  \n",
       "4              NaN                                NaN  \n",
       "..             ...                                ...  \n",
       "601  333427.489458                      332033.356917  \n",
       "602  302887.181519                      301474.781370  \n",
       "603  286073.221001                      274195.338702  \n",
       "604            NaN                                NaN  \n",
       "605            NaN                                NaN  \n",
       "\n",
       "[606 rows x 12 columns]"
      ]
     },
     "execution_count": 5,
     "metadata": {},
     "output_type": "execute_result"
    }
   ],
   "source": [
    "data"
   ]
  },
  {
   "cell_type": "code",
   "execution_count": 3,
   "metadata": {},
   "outputs": [
    {
     "data": {
      "text/plain": [
       "['100_2factors',\n",
       " '80_20_ACWI',\n",
       " '80_20_World',\n",
       " '80_20_2factors',\n",
       " 'lifestrategy60',\n",
       " 'lifestrategy80',\n",
       " 'lifestrategy20',\n",
       " 'lifestrategy0',\n",
       " 'lifestrategy40',\n",
       " 'lifestrategy100',\n",
       " '80_20_1factor',\n",
       " '60_40_World']"
      ]
     },
     "execution_count": 3,
     "metadata": {},
     "output_type": "execute_result"
    }
   ],
   "source": [
    "get_list_of_portfolios()"
   ]
  },
  {
   "cell_type": "code",
   "execution_count": 3,
   "metadata": {},
   "outputs": [
    {
     "data": {
      "text/plain": [
       "['100_2factors',\n",
       " '80_20_2factors',\n",
       " '80_20_1factor',\n",
       " '80_20_ACWI',\n",
       " '80_20_World',\n",
       " 'lifestrategy100',\n",
       " 'lifestrategy80',\n",
       " 'lifestrategy60',\n",
       " 'lifestrategy40',\n",
       " 'lifestrategy20',\n",
       " 'lifestrategy0']"
      ]
     },
     "execution_count": 3,
     "metadata": {},
     "output_type": "execute_result"
    }
   ],
   "source": [
    "PORTFOLIOS = [\n",
    "    '100_2factors',\n",
    "    '80_20_2factors',\n",
    "    '80_20_1factor',\n",
    "    '80_20_ACWI',\n",
    "    '80_20_World'\n",
    "]\n",
    "\n",
    "PORTOFOLIO_NAMES = {\n",
    "    '100_2factors'  : '100% Stocks + SmallCap Value + Momentum',\n",
    "    '80_20_2factors': '80% Stocks + 20% Bonds + SmallCap Value + Momentum',\n",
    "    '80_20_1factor' : '80% Stocks + 20% Bonds + SmallCap Value',\n",
    "    '80_20_ACWI'    : '80% Stocks(ACWI) + 20% Bonds',\n",
    "    '80_20_World'   : '80% Stocks(World) + 20% Bonds',\n",
    "}\n",
    "\n",
    "PORTFOLIO_DESCRIPTIONS = {\n",
    "    '100_2factors'  : 'This portfolio invests 100% in stocks, focusing on small-cap value and momentum strategies.',\n",
    "    '80_20_2factors': 'This portfolio allocates 80% to stocks and 20% to bonds, incorporating small-cap value and momentum factors.',\n",
    "    '80_20_1factor' : 'This portfolio invests 80% in stocks and 20% in bonds, focusing on small-cap value.',\n",
    "    '80_20_ACWI'    : 'This portfolio invests 80% in global stocks (ACWI) and 20% in bonds.',\n",
    "    '80_20_World'   : 'This portfolio invests 80% in world stocks and 20% in bonds.'\n",
    "}\n",
    "\n",
    "# Add another group of portfolios in col2\n",
    "SIMPLE_PORTFOLIOS = [\n",
    "    'lifestrategy100',\n",
    "    'lifestrategy80',\n",
    "    'lifestrategy60',\n",
    "    'lifestrategy40',\n",
    "    'lifestrategy20',\n",
    "    'lifestrategy0'\n",
    "]\n",
    "\n",
    "SIMPLE_PORTFOLIO_NAMES = {\n",
    "    'lifestrategy100': '100% Stocks',\n",
    "    'lifestrategy80' : '80% Stocks + 20% Bonds',\n",
    "    'lifestrategy60' : '60% Stocks + 40% Bonds',\n",
    "    'lifestrategy40' : '40% Stocks + 60% Bonds',\n",
    "    'lifestrategy20' : '20% Stocks + 80% Bonds',\n",
    "    'lifestrategy0'  : '100% Bonds'\n",
    "}\n",
    "\n",
    "SIMPLE_PORTFOLIO_DESCRIPTIONS = {\n",
    "    'lifestrategy100': 'This portfolio invests 100% in stocks, suitable for aggressive strategies seeking high growth. Note that stocks are MSCI World',\n",
    "    'lifestrategy80' : 'This portfolio allocates 80% to stocks and 20% to bonds, balancing growth and stability. Stocks are MSCI World',\n",
    "    'lifestrategy60' : 'This portfolio invests 60% in stocks and 40% in bonds, providing moderate growth with some stability. Stocks are MSCI World',\n",
    "    'lifestrategy40' : 'This portfolio invests 40% in stocks and 60% in bonds, focusing on stability with some growth potential. Stocks are MSCI World',\n",
    "    'lifestrategy20' : 'This portfolio invests 20% in stocks and 80% in bonds, prioritizing stability with minimal growth. Stocks are MSCI World',\n",
    "    'lifestrategy0'  : 'This portfolio invests 100% in bonds, suitable for conservative strategies seeking capital preservation.'\n",
    "}\n",
    "\n",
    "ALL_PORTFOLIOS = PORTFOLIOS + SIMPLE_PORTFOLIOS\n",
    "ALL_PORTFOLIOS"
   ]
  },
  {
   "cell_type": "code",
   "execution_count": null,
   "metadata": {},
   "outputs": [],
   "source": [
    "import seaborn as sns\n",
    "from matplotlib.lines import Line2D\n",
    "\n",
    "import plotly.express as px\n",
    "\n",
    "def plot_annualized_returns(results, years=None, plot_figure=True):\n",
    "    \"\"\"\n",
    "    Plots the annualized returns of indices over time interactively using Plotly and Seaborn style.\n",
    "    \"\"\"\n",
    "    df = pd.DataFrame(results)\n",
    "    df[\"Date\"] = pd.to_datetime(df[\"Date\"], format=\"%m/%Y\")\n",
    "    df.set_index(\"Date\", inplace=True)\n",
    "\n",
    "    # Seaborn style for consistency\n",
    "    sns.set(style=\"whitegrid\", context=\"talk\")\n",
    "\n",
    "    # Melt for Plotly\n",
    "    df_reset = df.reset_index()\n",
    "    df_melt = df_reset.melt(id_vars=\"Date\", var_name=\"Portfolio\", value_name=\"Annualized Return\")\n",
    "\n",
    "    fig = px.line(\n",
    "        df_melt,\n",
    "        x=\"Date\",\n",
    "        y=\"Annualized Return\",\n",
    "        color=\"Portfolio\",\n",
    "        title=f\"Annualized Returns of {years} years rolling windows\",\n",
    "        labels={\"Annualized Return\": \"Annualized Return (%)\"},\n",
    "        template=\"simple_white\"\n",
    "    )\n",
    "    fig.update_traces(mode=\"lines\", line=dict(width=2))\n",
    "    fig.update_layout(\n",
    "        yaxis_tickformat=\".2%\",\n",
    "        xaxis_title=\"Date\",\n",
    "        yaxis_title=\"Annualized Return (%)\",\n",
    "        legend_title=\"Portfolio\",\n",
    "        title_font_size=18,\n",
    "        title_font_family=\"Arial\",\n",
    "        legend=dict(font=dict(size=14)),\n",
    "        xaxis=dict(tickformat=\"%Y\")\n",
    "    )\n",
    "    return fig\n"
   ]
  },
  {
   "cell_type": "code",
   "execution_count": 83,
   "metadata": {},
   "outputs": [],
   "source": [
    "DEFAULT_LAYOUT = {\n",
    "    \"template\": \"simple_white\",\n",
    "    \"width\": 1200,\n",
    "    \"height\": 800,\n",
    "    \"legend_title\": \"Portfolio\",\n",
    "    \"title_font_size\": 25,\n",
    "    \"title_font_family\": \"Arial\",\n",
    "    \"legend\": dict(font=dict(size=22)),\n",
    "    \"xaxis\": dict(\n",
    "        tickformat=\"%Y\",\n",
    "        title_font=dict(size=22, color=\"black\", family=\"Arial\"),\n",
    "        tickfont=dict(size=16, color=\"black\"),\n",
    "        linecolor=\"black\",\n",
    "        linewidth=2,\n",
    "        showgrid=True,\n",
    "        gridcolor=\"lightgray\",\n",
    "        gridwidth=1\n",
    "    ),\n",
    "    \"yaxis\": dict(\n",
    "        title_font=dict(size=22, color=\"black\", family=\"Arial\"),\n",
    "        tickfont=dict(size=16, color=\"black\"),\n",
    "        linecolor=\"black\",\n",
    "        tickformat=\".1f\",           # Show one decimal\n",
    "        tickprefix=\"\",              # No prefix needed; suffix adds %\n",
    "        ticksuffix=\"%\",            # ✅ Add percent sign without multiplying\n",
    "        linewidth=2,\n",
    "        showgrid=True,\n",
    "        gridcolor=\"lightgray\",\n",
    "        gridwidth=1\n",
    "    ),\n",
    "    \"font\": dict(color=\"black\")\n",
    "}"
   ]
  },
  {
   "cell_type": "code",
   "execution_count": 79,
   "metadata": {},
   "outputs": [],
   "source": [
    "def plot_annualized_returns_streamlit(results, years=None):\n",
    "    \"\"\"\n",
    "    Plots the annualized returns of indices over time interactively using Plotly and Seaborn style.\n",
    "\n",
    "    Parameters:\n",
    "        results (dict or DataFrame): The results data containing 'Date' and portfolio return columns.\n",
    "        years (int, optional): Number of years used for rolling window annotation.\n",
    "    \"\"\"\n",
    "    df = pd.DataFrame(results)\n",
    "    df[\"Date\"] = pd.to_datetime(df[\"Date\"], format=\"%m/%Y\")\n",
    "    df.set_index(\"Date\", inplace=True)\n",
    "\n",
    "    sns.set(style=\"whitegrid\", context=\"talk\")\n",
    "\n",
    "    df_reset = df.reset_index()\n",
    "    df_melt = df_reset.melt(id_vars=\"Date\", var_name=\"Portfolio\", value_name=\"Annualized Return\")\n",
    "\n",
    "    # Multiply by 100 to convert to percentage\n",
    "    df_melt[\"Annualized Return\"] *= 100\n",
    "\n",
    "    fig = px.line(\n",
    "        df_melt,\n",
    "        x=\"Date\",\n",
    "        y=\"Annualized Return\",\n",
    "        color=\"Portfolio\",\n",
    "        title=\" \",\n",
    "        template=\"simple_white\"\n",
    "    )\n",
    "\n",
    "    fig.update_layout(\n",
    "        legend=dict(\n",
    "            orientation=\"h\",\n",
    "            yanchor=\"bottom\",\n",
    "            y=1.05,\n",
    "            xanchor=\"center\",\n",
    "            x=0.5\n",
    "        )\n",
    "    )\n",
    "    \n",
    "    # ✨ Custom hover menu\n",
    "    fig.update_traces(\n",
    "        mode=\"lines\",\n",
    "        hovertemplate=(\n",
    "            \"<b>%{fullData.name}</b><br>\" +\n",
    "            \"Date: %{x|%b %Y}<br>\" +  # Changed to show Month Year\n",
    "            \"Annualized Return: %{y:.2f}%<extra></extra>\"\n",
    "        )\n",
    "    )\n",
    "\n",
    "    fig.update_layout(**DEFAULT_LAYOUT)\n",
    "\n",
    "    return fig\n"
   ]
  },
  {
   "cell_type": "code",
   "execution_count": 84,
   "metadata": {},
   "outputs": [
    {
     "data": {
      "application/vnd.plotly.v1+json": {
       "config": {
        "plotlyServerURL": "https://plot.ly"
       },
       "data": [
        {
         "hovertemplate": "<b>%{fullData.name}</b><br>Date: %{x|%b %Y}<br>Annualized Return: %{y:.2f}%<extra></extra>",
         "legendgroup": "lifestrategy40",
         "line": {
          "color": "#1F77B4",
          "dash": "solid"
         },
         "marker": {
          "symbol": "circle"
         },
         "mode": "lines",
         "name": "lifestrategy40",
         "showlegend": true,
         "type": "scattergl",
         "x": [
          "1985-01-01T00:00:00.000000000",
          "1985-02-01T00:00:00.000000000",
          "1985-03-01T00:00:00.000000000",
          "1985-04-01T00:00:00.000000000",
          "1985-05-01T00:00:00.000000000",
          "1985-06-01T00:00:00.000000000",
          "1985-07-01T00:00:00.000000000",
          "1985-08-01T00:00:00.000000000",
          "1985-09-01T00:00:00.000000000",
          "1985-10-01T00:00:00.000000000",
          "1985-11-01T00:00:00.000000000",
          "1985-12-01T00:00:00.000000000",
          "1986-01-01T00:00:00.000000000",
          "1986-02-01T00:00:00.000000000",
          "1986-03-01T00:00:00.000000000",
          "1986-04-01T00:00:00.000000000",
          "1986-05-01T00:00:00.000000000",
          "1986-06-01T00:00:00.000000000",
          "1986-07-01T00:00:00.000000000",
          "1986-08-01T00:00:00.000000000",
          "1986-09-01T00:00:00.000000000",
          "1986-10-01T00:00:00.000000000",
          "1986-11-01T00:00:00.000000000",
          "1986-12-01T00:00:00.000000000",
          "1987-01-01T00:00:00.000000000",
          "1987-02-01T00:00:00.000000000",
          "1987-03-01T00:00:00.000000000",
          "1987-04-01T00:00:00.000000000",
          "1987-05-01T00:00:00.000000000",
          "1987-06-01T00:00:00.000000000",
          "1987-07-01T00:00:00.000000000",
          "1987-08-01T00:00:00.000000000",
          "1987-09-01T00:00:00.000000000",
          "1987-10-01T00:00:00.000000000",
          "1987-11-01T00:00:00.000000000",
          "1987-12-01T00:00:00.000000000",
          "1988-01-01T00:00:00.000000000",
          "1988-02-01T00:00:00.000000000",
          "1988-03-01T00:00:00.000000000",
          "1988-04-01T00:00:00.000000000",
          "1988-05-01T00:00:00.000000000",
          "1988-06-01T00:00:00.000000000",
          "1988-07-01T00:00:00.000000000",
          "1988-08-01T00:00:00.000000000",
          "1988-09-01T00:00:00.000000000",
          "1988-10-01T00:00:00.000000000",
          "1988-11-01T00:00:00.000000000",
          "1988-12-01T00:00:00.000000000",
          "1989-01-01T00:00:00.000000000",
          "1989-02-01T00:00:00.000000000",
          "1989-03-01T00:00:00.000000000",
          "1989-04-01T00:00:00.000000000",
          "1989-05-01T00:00:00.000000000",
          "1989-06-01T00:00:00.000000000",
          "1989-07-01T00:00:00.000000000",
          "1989-08-01T00:00:00.000000000",
          "1989-09-01T00:00:00.000000000",
          "1989-10-01T00:00:00.000000000",
          "1989-11-01T00:00:00.000000000",
          "1989-12-01T00:00:00.000000000",
          "1990-01-01T00:00:00.000000000",
          "1990-02-01T00:00:00.000000000",
          "1990-03-01T00:00:00.000000000",
          "1990-04-01T00:00:00.000000000",
          "1990-05-01T00:00:00.000000000",
          "1990-06-01T00:00:00.000000000",
          "1990-07-01T00:00:00.000000000",
          "1990-08-01T00:00:00.000000000",
          "1990-09-01T00:00:00.000000000",
          "1990-10-01T00:00:00.000000000",
          "1990-11-01T00:00:00.000000000",
          "1990-12-01T00:00:00.000000000",
          "1991-01-01T00:00:00.000000000",
          "1991-02-01T00:00:00.000000000",
          "1991-03-01T00:00:00.000000000",
          "1991-04-01T00:00:00.000000000",
          "1991-05-01T00:00:00.000000000",
          "1991-06-01T00:00:00.000000000",
          "1991-07-01T00:00:00.000000000",
          "1991-08-01T00:00:00.000000000",
          "1991-09-01T00:00:00.000000000",
          "1991-10-01T00:00:00.000000000",
          "1991-11-01T00:00:00.000000000",
          "1991-12-01T00:00:00.000000000",
          "1992-01-01T00:00:00.000000000",
          "1992-02-01T00:00:00.000000000",
          "1992-03-01T00:00:00.000000000",
          "1992-04-01T00:00:00.000000000",
          "1992-05-01T00:00:00.000000000",
          "1992-06-01T00:00:00.000000000",
          "1992-07-01T00:00:00.000000000",
          "1992-08-01T00:00:00.000000000",
          "1992-09-01T00:00:00.000000000",
          "1992-10-01T00:00:00.000000000",
          "1992-11-01T00:00:00.000000000",
          "1992-12-01T00:00:00.000000000",
          "1993-01-01T00:00:00.000000000",
          "1993-02-01T00:00:00.000000000",
          "1993-03-01T00:00:00.000000000",
          "1993-04-01T00:00:00.000000000",
          "1993-05-01T00:00:00.000000000",
          "1993-06-01T00:00:00.000000000",
          "1993-07-01T00:00:00.000000000",
          "1993-08-01T00:00:00.000000000",
          "1993-09-01T00:00:00.000000000",
          "1993-10-01T00:00:00.000000000",
          "1993-11-01T00:00:00.000000000",
          "1993-12-01T00:00:00.000000000",
          "1994-01-01T00:00:00.000000000",
          "1994-02-01T00:00:00.000000000",
          "1994-03-01T00:00:00.000000000",
          "1994-04-01T00:00:00.000000000",
          "1994-05-01T00:00:00.000000000",
          "1994-06-01T00:00:00.000000000",
          "1994-07-01T00:00:00.000000000",
          "1994-08-01T00:00:00.000000000",
          "1994-09-01T00:00:00.000000000",
          "1994-10-01T00:00:00.000000000",
          "1994-11-01T00:00:00.000000000",
          "1994-12-01T00:00:00.000000000",
          "1995-01-01T00:00:00.000000000",
          "1995-02-01T00:00:00.000000000",
          "1995-03-01T00:00:00.000000000",
          "1995-04-01T00:00:00.000000000",
          "1995-05-01T00:00:00.000000000",
          "1995-06-01T00:00:00.000000000",
          "1995-07-01T00:00:00.000000000",
          "1995-08-01T00:00:00.000000000",
          "1995-09-01T00:00:00.000000000",
          "1995-10-01T00:00:00.000000000",
          "1995-11-01T00:00:00.000000000",
          "1995-12-01T00:00:00.000000000",
          "1996-01-01T00:00:00.000000000",
          "1996-02-01T00:00:00.000000000",
          "1996-03-01T00:00:00.000000000",
          "1996-04-01T00:00:00.000000000",
          "1996-05-01T00:00:00.000000000",
          "1996-06-01T00:00:00.000000000",
          "1996-07-01T00:00:00.000000000",
          "1996-08-01T00:00:00.000000000",
          "1996-09-01T00:00:00.000000000",
          "1996-10-01T00:00:00.000000000",
          "1996-11-01T00:00:00.000000000",
          "1996-12-01T00:00:00.000000000",
          "1997-01-01T00:00:00.000000000",
          "1997-02-01T00:00:00.000000000",
          "1997-03-01T00:00:00.000000000",
          "1997-04-01T00:00:00.000000000",
          "1997-05-01T00:00:00.000000000",
          "1997-06-01T00:00:00.000000000",
          "1997-07-01T00:00:00.000000000",
          "1997-08-01T00:00:00.000000000",
          "1997-09-01T00:00:00.000000000",
          "1997-10-01T00:00:00.000000000",
          "1997-11-01T00:00:00.000000000",
          "1997-12-01T00:00:00.000000000",
          "1998-01-01T00:00:00.000000000",
          "1998-02-01T00:00:00.000000000",
          "1998-03-01T00:00:00.000000000",
          "1998-04-01T00:00:00.000000000",
          "1998-05-01T00:00:00.000000000",
          "1998-06-01T00:00:00.000000000",
          "1998-07-01T00:00:00.000000000",
          "1998-08-01T00:00:00.000000000",
          "1998-09-01T00:00:00.000000000",
          "1998-10-01T00:00:00.000000000",
          "1998-11-01T00:00:00.000000000",
          "1998-12-01T00:00:00.000000000",
          "1999-01-01T00:00:00.000000000",
          "1999-02-01T00:00:00.000000000",
          "1999-03-01T00:00:00.000000000",
          "1999-04-01T00:00:00.000000000",
          "1999-05-01T00:00:00.000000000",
          "1999-07-01T00:00:00.000000000",
          "1999-09-01T00:00:00.000000000",
          "1999-10-01T00:00:00.000000000",
          "1999-11-01T00:00:00.000000000",
          "1999-12-01T00:00:00.000000000",
          "2000-01-01T00:00:00.000000000",
          "2000-03-01T00:00:00.000000000",
          "2000-04-01T00:00:00.000000000",
          "2000-05-01T00:00:00.000000000",
          "2000-06-01T00:00:00.000000000",
          "2000-07-01T00:00:00.000000000",
          "2000-08-01T00:00:00.000000000",
          "2000-09-01T00:00:00.000000000",
          "2000-10-01T00:00:00.000000000",
          "2000-11-01T00:00:00.000000000",
          "2000-12-01T00:00:00.000000000",
          "2001-01-01T00:00:00.000000000",
          "2001-02-01T00:00:00.000000000",
          "2001-03-01T00:00:00.000000000",
          "2001-04-01T00:00:00.000000000",
          "2001-05-01T00:00:00.000000000",
          "2001-06-01T00:00:00.000000000",
          "2001-07-01T00:00:00.000000000",
          "2001-08-01T00:00:00.000000000",
          "2001-09-01T00:00:00.000000000",
          "2001-10-01T00:00:00.000000000",
          "2001-11-01T00:00:00.000000000",
          "2001-12-01T00:00:00.000000000",
          "2002-02-01T00:00:00.000000000",
          "2002-03-01T00:00:00.000000000",
          "2002-04-01T00:00:00.000000000",
          "2002-05-01T00:00:00.000000000",
          "2002-06-01T00:00:00.000000000",
          "2002-07-01T00:00:00.000000000",
          "2002-08-01T00:00:00.000000000",
          "2002-09-01T00:00:00.000000000",
          "2002-10-01T00:00:00.000000000",
          "2002-11-01T00:00:00.000000000",
          "2002-12-01T00:00:00.000000000",
          "2003-01-01T00:00:00.000000000",
          "2003-02-01T00:00:00.000000000",
          "2003-03-01T00:00:00.000000000",
          "2003-04-01T00:00:00.000000000",
          "2003-05-01T00:00:00.000000000",
          "2003-06-01T00:00:00.000000000",
          "2003-08-01T00:00:00.000000000",
          "2003-09-01T00:00:00.000000000",
          "2003-10-01T00:00:00.000000000",
          "2003-11-01T00:00:00.000000000",
          "2003-12-01T00:00:00.000000000",
          "2004-01-01T00:00:00.000000000",
          "2004-02-01T00:00:00.000000000",
          "2004-03-01T00:00:00.000000000",
          "2004-04-01T00:00:00.000000000",
          "2004-05-01T00:00:00.000000000",
          "2004-06-01T00:00:00.000000000",
          "2004-07-01T00:00:00.000000000",
          "2004-08-01T00:00:00.000000000",
          "2004-09-01T00:00:00.000000000",
          "2004-10-01T00:00:00.000000000",
          "2004-11-01T00:00:00.000000000",
          "2004-12-01T00:00:00.000000000",
          "2005-01-01T00:00:00.000000000",
          "2005-02-01T00:00:00.000000000",
          "2005-03-01T00:00:00.000000000",
          "2005-04-01T00:00:00.000000000",
          "2005-05-01T00:00:00.000000000",
          "2005-06-01T00:00:00.000000000",
          "2005-07-01T00:00:00.000000000",
          "2005-08-01T00:00:00.000000000",
          "2005-09-01T00:00:00.000000000",
          "2005-10-01T00:00:00.000000000",
          "2005-11-01T00:00:00.000000000",
          "2005-12-01T00:00:00.000000000",
          "2006-01-01T00:00:00.000000000",
          "2006-02-01T00:00:00.000000000",
          "2006-03-01T00:00:00.000000000",
          "2006-04-01T00:00:00.000000000",
          "2006-05-01T00:00:00.000000000",
          "2006-06-01T00:00:00.000000000",
          "2006-07-01T00:00:00.000000000",
          "2006-08-01T00:00:00.000000000",
          "2006-09-01T00:00:00.000000000",
          "2006-10-01T00:00:00.000000000",
          "2006-11-01T00:00:00.000000000",
          "2006-12-01T00:00:00.000000000",
          "2007-01-01T00:00:00.000000000",
          "2007-02-01T00:00:00.000000000",
          "2007-03-01T00:00:00.000000000",
          "2007-04-01T00:00:00.000000000",
          "2007-05-01T00:00:00.000000000",
          "2007-06-01T00:00:00.000000000",
          "2007-07-01T00:00:00.000000000",
          "2007-08-01T00:00:00.000000000",
          "2007-09-01T00:00:00.000000000",
          "2007-10-01T00:00:00.000000000",
          "2007-11-01T00:00:00.000000000",
          "2007-12-01T00:00:00.000000000",
          "2008-01-01T00:00:00.000000000",
          "2008-02-01T00:00:00.000000000",
          "2008-03-01T00:00:00.000000000",
          "2008-04-01T00:00:00.000000000",
          "2008-05-01T00:00:00.000000000",
          "2008-06-01T00:00:00.000000000",
          "2008-07-01T00:00:00.000000000",
          "2008-08-01T00:00:00.000000000",
          "2008-09-01T00:00:00.000000000",
          "2008-11-01T00:00:00.000000000",
          "2008-12-01T00:00:00.000000000",
          "2009-01-01T00:00:00.000000000",
          "2009-02-01T00:00:00.000000000",
          "2009-04-01T00:00:00.000000000",
          "2009-05-01T00:00:00.000000000",
          "2009-06-01T00:00:00.000000000",
          "2009-07-01T00:00:00.000000000",
          "2009-08-01T00:00:00.000000000",
          "2009-09-01T00:00:00.000000000",
          "2009-10-01T00:00:00.000000000",
          "2009-11-01T00:00:00.000000000",
          "2009-12-01T00:00:00.000000000",
          "2010-01-01T00:00:00.000000000",
          "2010-02-01T00:00:00.000000000",
          "2010-03-01T00:00:00.000000000",
          "2010-04-01T00:00:00.000000000",
          "2010-05-01T00:00:00.000000000",
          "2010-06-01T00:00:00.000000000",
          "2010-07-01T00:00:00.000000000",
          "2010-08-01T00:00:00.000000000",
          "2010-09-01T00:00:00.000000000",
          "2010-10-01T00:00:00.000000000",
          "2010-11-01T00:00:00.000000000",
          "2010-12-01T00:00:00.000000000",
          "2011-01-01T00:00:00.000000000",
          "2011-02-01T00:00:00.000000000",
          "2011-03-01T00:00:00.000000000",
          "2011-04-01T00:00:00.000000000",
          "2011-05-01T00:00:00.000000000",
          "2011-06-01T00:00:00.000000000",
          "2011-07-01T00:00:00.000000000",
          "2011-08-01T00:00:00.000000000",
          "2011-09-01T00:00:00.000000000",
          "2011-10-01T00:00:00.000000000",
          "2011-11-01T00:00:00.000000000",
          "2011-12-01T00:00:00.000000000",
          "2012-01-01T00:00:00.000000000",
          "2012-02-01T00:00:00.000000000",
          "2012-03-01T00:00:00.000000000",
          "2012-04-01T00:00:00.000000000",
          "2012-05-01T00:00:00.000000000",
          "2012-06-01T00:00:00.000000000",
          "2012-07-01T00:00:00.000000000",
          "2012-08-01T00:00:00.000000000",
          "2012-09-01T00:00:00.000000000",
          "2012-10-01T00:00:00.000000000",
          "2012-11-01T00:00:00.000000000",
          "2012-12-01T00:00:00.000000000",
          "2013-01-01T00:00:00.000000000",
          "2013-02-01T00:00:00.000000000",
          "2013-03-01T00:00:00.000000000",
          "2013-04-01T00:00:00.000000000",
          "2013-05-01T00:00:00.000000000",
          "2013-06-01T00:00:00.000000000",
          "2013-07-01T00:00:00.000000000",
          "2013-08-01T00:00:00.000000000",
          "2013-09-01T00:00:00.000000000",
          "2013-10-01T00:00:00.000000000",
          "2013-11-01T00:00:00.000000000",
          "2013-12-01T00:00:00.000000000",
          "2014-01-01T00:00:00.000000000",
          "2014-02-01T00:00:00.000000000",
          "2014-03-01T00:00:00.000000000",
          "2014-04-01T00:00:00.000000000",
          "2014-05-01T00:00:00.000000000",
          "2014-06-01T00:00:00.000000000",
          "2014-07-01T00:00:00.000000000",
          "2014-08-01T00:00:00.000000000",
          "2014-09-01T00:00:00.000000000",
          "2014-10-01T00:00:00.000000000",
          "2014-11-01T00:00:00.000000000",
          "2014-12-01T00:00:00.000000000",
          "2015-01-01T00:00:00.000000000",
          "2015-02-01T00:00:00.000000000",
          "2015-03-01T00:00:00.000000000",
          "2015-04-01T00:00:00.000000000",
          "2015-05-01T00:00:00.000000000",
          "2015-06-01T00:00:00.000000000",
          "2015-07-01T00:00:00.000000000",
          "2015-08-01T00:00:00.000000000",
          "2015-09-01T00:00:00.000000000",
          "2015-10-01T00:00:00.000000000",
          "2015-11-01T00:00:00.000000000",
          "2015-12-01T00:00:00.000000000",
          "2016-01-01T00:00:00.000000000",
          "2016-02-01T00:00:00.000000000",
          "2016-03-01T00:00:00.000000000",
          "2016-04-01T00:00:00.000000000",
          "2016-05-01T00:00:00.000000000",
          "2016-06-01T00:00:00.000000000",
          "2016-07-01T00:00:00.000000000",
          "2016-08-01T00:00:00.000000000",
          "2016-09-01T00:00:00.000000000",
          "2016-10-01T00:00:00.000000000",
          "2016-11-01T00:00:00.000000000",
          "2016-12-01T00:00:00.000000000",
          "2017-01-01T00:00:00.000000000",
          "2017-02-01T00:00:00.000000000",
          "2017-03-01T00:00:00.000000000",
          "2017-04-01T00:00:00.000000000",
          "2017-05-01T00:00:00.000000000",
          "2017-06-01T00:00:00.000000000",
          "2017-07-01T00:00:00.000000000",
          "2017-08-01T00:00:00.000000000",
          "2017-09-01T00:00:00.000000000",
          "2017-10-01T00:00:00.000000000",
          "2017-11-01T00:00:00.000000000",
          "2017-12-01T00:00:00.000000000",
          "2018-01-01T00:00:00.000000000",
          "2018-02-01T00:00:00.000000000",
          "2018-03-01T00:00:00.000000000",
          "2018-04-01T00:00:00.000000000",
          "2018-05-01T00:00:00.000000000",
          "2018-06-01T00:00:00.000000000",
          "2018-07-01T00:00:00.000000000",
          "2018-08-01T00:00:00.000000000",
          "2018-09-01T00:00:00.000000000",
          "2018-10-01T00:00:00.000000000",
          "2018-11-01T00:00:00.000000000",
          "2018-12-01T00:00:00.000000000",
          "2019-01-01T00:00:00.000000000",
          "2019-02-01T00:00:00.000000000",
          "2019-03-01T00:00:00.000000000",
          "2019-04-01T00:00:00.000000000",
          "2019-05-01T00:00:00.000000000",
          "2019-06-01T00:00:00.000000000",
          "2019-07-01T00:00:00.000000000",
          "2019-08-01T00:00:00.000000000",
          "2019-09-01T00:00:00.000000000",
          "2019-10-01T00:00:00.000000000",
          "2019-11-01T00:00:00.000000000",
          "2019-12-01T00:00:00.000000000",
          "2020-01-01T00:00:00.000000000",
          "2020-02-01T00:00:00.000000000",
          "2020-03-01T00:00:00.000000000",
          "2020-04-01T00:00:00.000000000"
         ],
         "xaxis": "x",
         "y": {
          "bdata": "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",
          "dtype": "f8"
         },
         "yaxis": "y"
        },
        {
         "hovertemplate": "<b>%{fullData.name}</b><br>Date: %{x|%b %Y}<br>Annualized Return: %{y:.2f}%<extra></extra>",
         "legendgroup": "lifestrategy20",
         "line": {
          "color": "#FF7F0E",
          "dash": "solid"
         },
         "marker": {
          "symbol": "circle"
         },
         "mode": "lines",
         "name": "lifestrategy20",
         "showlegend": true,
         "type": "scattergl",
         "x": [
          "1985-01-01T00:00:00.000000000",
          "1985-02-01T00:00:00.000000000",
          "1985-03-01T00:00:00.000000000",
          "1985-04-01T00:00:00.000000000",
          "1985-05-01T00:00:00.000000000",
          "1985-06-01T00:00:00.000000000",
          "1985-07-01T00:00:00.000000000",
          "1985-08-01T00:00:00.000000000",
          "1985-09-01T00:00:00.000000000",
          "1985-10-01T00:00:00.000000000",
          "1985-11-01T00:00:00.000000000",
          "1985-12-01T00:00:00.000000000",
          "1986-01-01T00:00:00.000000000",
          "1986-02-01T00:00:00.000000000",
          "1986-03-01T00:00:00.000000000",
          "1986-04-01T00:00:00.000000000",
          "1986-05-01T00:00:00.000000000",
          "1986-06-01T00:00:00.000000000",
          "1986-07-01T00:00:00.000000000",
          "1986-08-01T00:00:00.000000000",
          "1986-09-01T00:00:00.000000000",
          "1986-10-01T00:00:00.000000000",
          "1986-11-01T00:00:00.000000000",
          "1986-12-01T00:00:00.000000000",
          "1987-01-01T00:00:00.000000000",
          "1987-02-01T00:00:00.000000000",
          "1987-03-01T00:00:00.000000000",
          "1987-04-01T00:00:00.000000000",
          "1987-05-01T00:00:00.000000000",
          "1987-06-01T00:00:00.000000000",
          "1987-07-01T00:00:00.000000000",
          "1987-08-01T00:00:00.000000000",
          "1987-09-01T00:00:00.000000000",
          "1987-10-01T00:00:00.000000000",
          "1987-11-01T00:00:00.000000000",
          "1987-12-01T00:00:00.000000000",
          "1988-01-01T00:00:00.000000000",
          "1988-02-01T00:00:00.000000000",
          "1988-03-01T00:00:00.000000000",
          "1988-04-01T00:00:00.000000000",
          "1988-05-01T00:00:00.000000000",
          "1988-06-01T00:00:00.000000000",
          "1988-07-01T00:00:00.000000000",
          "1988-08-01T00:00:00.000000000",
          "1988-09-01T00:00:00.000000000",
          "1988-10-01T00:00:00.000000000",
          "1988-11-01T00:00:00.000000000",
          "1988-12-01T00:00:00.000000000",
          "1989-01-01T00:00:00.000000000",
          "1989-02-01T00:00:00.000000000",
          "1989-03-01T00:00:00.000000000",
          "1989-04-01T00:00:00.000000000",
          "1989-05-01T00:00:00.000000000",
          "1989-06-01T00:00:00.000000000",
          "1989-07-01T00:00:00.000000000",
          "1989-08-01T00:00:00.000000000",
          "1989-09-01T00:00:00.000000000",
          "1989-10-01T00:00:00.000000000",
          "1989-11-01T00:00:00.000000000",
          "1989-12-01T00:00:00.000000000",
          "1990-01-01T00:00:00.000000000",
          "1990-02-01T00:00:00.000000000",
          "1990-03-01T00:00:00.000000000",
          "1990-04-01T00:00:00.000000000",
          "1990-05-01T00:00:00.000000000",
          "1990-06-01T00:00:00.000000000",
          "1990-07-01T00:00:00.000000000",
          "1990-08-01T00:00:00.000000000",
          "1990-09-01T00:00:00.000000000",
          "1990-10-01T00:00:00.000000000",
          "1990-11-01T00:00:00.000000000",
          "1990-12-01T00:00:00.000000000",
          "1991-01-01T00:00:00.000000000",
          "1991-02-01T00:00:00.000000000",
          "1991-03-01T00:00:00.000000000",
          "1991-04-01T00:00:00.000000000",
          "1991-05-01T00:00:00.000000000",
          "1991-06-01T00:00:00.000000000",
          "1991-07-01T00:00:00.000000000",
          "1991-08-01T00:00:00.000000000",
          "1991-09-01T00:00:00.000000000",
          "1991-10-01T00:00:00.000000000",
          "1991-11-01T00:00:00.000000000",
          "1991-12-01T00:00:00.000000000",
          "1992-01-01T00:00:00.000000000",
          "1992-02-01T00:00:00.000000000",
          "1992-03-01T00:00:00.000000000",
          "1992-04-01T00:00:00.000000000",
          "1992-05-01T00:00:00.000000000",
          "1992-06-01T00:00:00.000000000",
          "1992-07-01T00:00:00.000000000",
          "1992-08-01T00:00:00.000000000",
          "1992-09-01T00:00:00.000000000",
          "1992-10-01T00:00:00.000000000",
          "1992-11-01T00:00:00.000000000",
          "1992-12-01T00:00:00.000000000",
          "1993-01-01T00:00:00.000000000",
          "1993-02-01T00:00:00.000000000",
          "1993-03-01T00:00:00.000000000",
          "1993-04-01T00:00:00.000000000",
          "1993-05-01T00:00:00.000000000",
          "1993-06-01T00:00:00.000000000",
          "1993-07-01T00:00:00.000000000",
          "1993-08-01T00:00:00.000000000",
          "1993-09-01T00:00:00.000000000",
          "1993-10-01T00:00:00.000000000",
          "1993-11-01T00:00:00.000000000",
          "1993-12-01T00:00:00.000000000",
          "1994-01-01T00:00:00.000000000",
          "1994-02-01T00:00:00.000000000",
          "1994-03-01T00:00:00.000000000",
          "1994-04-01T00:00:00.000000000",
          "1994-05-01T00:00:00.000000000",
          "1994-06-01T00:00:00.000000000",
          "1994-07-01T00:00:00.000000000",
          "1994-08-01T00:00:00.000000000",
          "1994-09-01T00:00:00.000000000",
          "1994-10-01T00:00:00.000000000",
          "1994-11-01T00:00:00.000000000",
          "1994-12-01T00:00:00.000000000",
          "1995-01-01T00:00:00.000000000",
          "1995-02-01T00:00:00.000000000",
          "1995-03-01T00:00:00.000000000",
          "1995-04-01T00:00:00.000000000",
          "1995-05-01T00:00:00.000000000",
          "1995-06-01T00:00:00.000000000",
          "1995-07-01T00:00:00.000000000",
          "1995-08-01T00:00:00.000000000",
          "1995-09-01T00:00:00.000000000",
          "1995-10-01T00:00:00.000000000",
          "1995-11-01T00:00:00.000000000",
          "1995-12-01T00:00:00.000000000",
          "1996-01-01T00:00:00.000000000",
          "1996-02-01T00:00:00.000000000",
          "1996-03-01T00:00:00.000000000",
          "1996-04-01T00:00:00.000000000",
          "1996-05-01T00:00:00.000000000",
          "1996-06-01T00:00:00.000000000",
          "1996-07-01T00:00:00.000000000",
          "1996-08-01T00:00:00.000000000",
          "1996-09-01T00:00:00.000000000",
          "1996-10-01T00:00:00.000000000",
          "1996-11-01T00:00:00.000000000",
          "1996-12-01T00:00:00.000000000",
          "1997-01-01T00:00:00.000000000",
          "1997-02-01T00:00:00.000000000",
          "1997-03-01T00:00:00.000000000",
          "1997-04-01T00:00:00.000000000",
          "1997-05-01T00:00:00.000000000",
          "1997-06-01T00:00:00.000000000",
          "1997-07-01T00:00:00.000000000",
          "1997-08-01T00:00:00.000000000",
          "1997-09-01T00:00:00.000000000",
          "1997-10-01T00:00:00.000000000",
          "1997-11-01T00:00:00.000000000",
          "1997-12-01T00:00:00.000000000",
          "1998-01-01T00:00:00.000000000",
          "1998-02-01T00:00:00.000000000",
          "1998-03-01T00:00:00.000000000",
          "1998-04-01T00:00:00.000000000",
          "1998-05-01T00:00:00.000000000",
          "1998-06-01T00:00:00.000000000",
          "1998-07-01T00:00:00.000000000",
          "1998-08-01T00:00:00.000000000",
          "1998-09-01T00:00:00.000000000",
          "1998-10-01T00:00:00.000000000",
          "1998-11-01T00:00:00.000000000",
          "1998-12-01T00:00:00.000000000",
          "1999-01-01T00:00:00.000000000",
          "1999-02-01T00:00:00.000000000",
          "1999-03-01T00:00:00.000000000",
          "1999-04-01T00:00:00.000000000",
          "1999-05-01T00:00:00.000000000",
          "1999-07-01T00:00:00.000000000",
          "1999-09-01T00:00:00.000000000",
          "1999-10-01T00:00:00.000000000",
          "1999-11-01T00:00:00.000000000",
          "1999-12-01T00:00:00.000000000",
          "2000-01-01T00:00:00.000000000",
          "2000-03-01T00:00:00.000000000",
          "2000-04-01T00:00:00.000000000",
          "2000-05-01T00:00:00.000000000",
          "2000-06-01T00:00:00.000000000",
          "2000-07-01T00:00:00.000000000",
          "2000-08-01T00:00:00.000000000",
          "2000-09-01T00:00:00.000000000",
          "2000-10-01T00:00:00.000000000",
          "2000-11-01T00:00:00.000000000",
          "2000-12-01T00:00:00.000000000",
          "2001-01-01T00:00:00.000000000",
          "2001-02-01T00:00:00.000000000",
          "2001-03-01T00:00:00.000000000",
          "2001-04-01T00:00:00.000000000",
          "2001-05-01T00:00:00.000000000",
          "2001-06-01T00:00:00.000000000",
          "2001-07-01T00:00:00.000000000",
          "2001-08-01T00:00:00.000000000",
          "2001-09-01T00:00:00.000000000",
          "2001-10-01T00:00:00.000000000",
          "2001-11-01T00:00:00.000000000",
          "2001-12-01T00:00:00.000000000",
          "2002-02-01T00:00:00.000000000",
          "2002-03-01T00:00:00.000000000",
          "2002-04-01T00:00:00.000000000",
          "2002-05-01T00:00:00.000000000",
          "2002-06-01T00:00:00.000000000",
          "2002-07-01T00:00:00.000000000",
          "2002-08-01T00:00:00.000000000",
          "2002-09-01T00:00:00.000000000",
          "2002-10-01T00:00:00.000000000",
          "2002-11-01T00:00:00.000000000",
          "2002-12-01T00:00:00.000000000",
          "2003-01-01T00:00:00.000000000",
          "2003-02-01T00:00:00.000000000",
          "2003-03-01T00:00:00.000000000",
          "2003-04-01T00:00:00.000000000",
          "2003-05-01T00:00:00.000000000",
          "2003-06-01T00:00:00.000000000",
          "2003-08-01T00:00:00.000000000",
          "2003-09-01T00:00:00.000000000",
          "2003-10-01T00:00:00.000000000",
          "2003-11-01T00:00:00.000000000",
          "2003-12-01T00:00:00.000000000",
          "2004-01-01T00:00:00.000000000",
          "2004-02-01T00:00:00.000000000",
          "2004-03-01T00:00:00.000000000",
          "2004-04-01T00:00:00.000000000",
          "2004-05-01T00:00:00.000000000",
          "2004-06-01T00:00:00.000000000",
          "2004-07-01T00:00:00.000000000",
          "2004-08-01T00:00:00.000000000",
          "2004-09-01T00:00:00.000000000",
          "2004-10-01T00:00:00.000000000",
          "2004-11-01T00:00:00.000000000",
          "2004-12-01T00:00:00.000000000",
          "2005-01-01T00:00:00.000000000",
          "2005-02-01T00:00:00.000000000",
          "2005-03-01T00:00:00.000000000",
          "2005-04-01T00:00:00.000000000",
          "2005-05-01T00:00:00.000000000",
          "2005-06-01T00:00:00.000000000",
          "2005-07-01T00:00:00.000000000",
          "2005-08-01T00:00:00.000000000",
          "2005-09-01T00:00:00.000000000",
          "2005-10-01T00:00:00.000000000",
          "2005-11-01T00:00:00.000000000",
          "2005-12-01T00:00:00.000000000",
          "2006-01-01T00:00:00.000000000",
          "2006-02-01T00:00:00.000000000",
          "2006-03-01T00:00:00.000000000",
          "2006-04-01T00:00:00.000000000",
          "2006-05-01T00:00:00.000000000",
          "2006-06-01T00:00:00.000000000",
          "2006-07-01T00:00:00.000000000",
          "2006-08-01T00:00:00.000000000",
          "2006-09-01T00:00:00.000000000",
          "2006-10-01T00:00:00.000000000",
          "2006-11-01T00:00:00.000000000",
          "2006-12-01T00:00:00.000000000",
          "2007-01-01T00:00:00.000000000",
          "2007-02-01T00:00:00.000000000",
          "2007-03-01T00:00:00.000000000",
          "2007-04-01T00:00:00.000000000",
          "2007-05-01T00:00:00.000000000",
          "2007-06-01T00:00:00.000000000",
          "2007-07-01T00:00:00.000000000",
          "2007-08-01T00:00:00.000000000",
          "2007-09-01T00:00:00.000000000",
          "2007-10-01T00:00:00.000000000",
          "2007-11-01T00:00:00.000000000",
          "2007-12-01T00:00:00.000000000",
          "2008-01-01T00:00:00.000000000",
          "2008-02-01T00:00:00.000000000",
          "2008-03-01T00:00:00.000000000",
          "2008-04-01T00:00:00.000000000",
          "2008-05-01T00:00:00.000000000",
          "2008-06-01T00:00:00.000000000",
          "2008-07-01T00:00:00.000000000",
          "2008-08-01T00:00:00.000000000",
          "2008-09-01T00:00:00.000000000",
          "2008-11-01T00:00:00.000000000",
          "2008-12-01T00:00:00.000000000",
          "2009-01-01T00:00:00.000000000",
          "2009-02-01T00:00:00.000000000",
          "2009-04-01T00:00:00.000000000",
          "2009-05-01T00:00:00.000000000",
          "2009-06-01T00:00:00.000000000",
          "2009-07-01T00:00:00.000000000",
          "2009-08-01T00:00:00.000000000",
          "2009-09-01T00:00:00.000000000",
          "2009-10-01T00:00:00.000000000",
          "2009-11-01T00:00:00.000000000",
          "2009-12-01T00:00:00.000000000",
          "2010-01-01T00:00:00.000000000",
          "2010-02-01T00:00:00.000000000",
          "2010-03-01T00:00:00.000000000",
          "2010-04-01T00:00:00.000000000",
          "2010-05-01T00:00:00.000000000",
          "2010-06-01T00:00:00.000000000",
          "2010-07-01T00:00:00.000000000",
          "2010-08-01T00:00:00.000000000",
          "2010-09-01T00:00:00.000000000",
          "2010-10-01T00:00:00.000000000",
          "2010-11-01T00:00:00.000000000",
          "2010-12-01T00:00:00.000000000",
          "2011-01-01T00:00:00.000000000",
          "2011-02-01T00:00:00.000000000",
          "2011-03-01T00:00:00.000000000",
          "2011-04-01T00:00:00.000000000",
          "2011-05-01T00:00:00.000000000",
          "2011-06-01T00:00:00.000000000",
          "2011-07-01T00:00:00.000000000",
          "2011-08-01T00:00:00.000000000",
          "2011-09-01T00:00:00.000000000",
          "2011-10-01T00:00:00.000000000",
          "2011-11-01T00:00:00.000000000",
          "2011-12-01T00:00:00.000000000",
          "2012-01-01T00:00:00.000000000",
          "2012-02-01T00:00:00.000000000",
          "2012-03-01T00:00:00.000000000",
          "2012-04-01T00:00:00.000000000",
          "2012-05-01T00:00:00.000000000",
          "2012-06-01T00:00:00.000000000",
          "2012-07-01T00:00:00.000000000",
          "2012-08-01T00:00:00.000000000",
          "2012-09-01T00:00:00.000000000",
          "2012-10-01T00:00:00.000000000",
          "2012-11-01T00:00:00.000000000",
          "2012-12-01T00:00:00.000000000",
          "2013-01-01T00:00:00.000000000",
          "2013-02-01T00:00:00.000000000",
          "2013-03-01T00:00:00.000000000",
          "2013-04-01T00:00:00.000000000",
          "2013-05-01T00:00:00.000000000",
          "2013-06-01T00:00:00.000000000",
          "2013-07-01T00:00:00.000000000",
          "2013-08-01T00:00:00.000000000",
          "2013-09-01T00:00:00.000000000",
          "2013-10-01T00:00:00.000000000",
          "2013-11-01T00:00:00.000000000",
          "2013-12-01T00:00:00.000000000",
          "2014-01-01T00:00:00.000000000",
          "2014-02-01T00:00:00.000000000",
          "2014-03-01T00:00:00.000000000",
          "2014-04-01T00:00:00.000000000",
          "2014-05-01T00:00:00.000000000",
          "2014-06-01T00:00:00.000000000",
          "2014-07-01T00:00:00.000000000",
          "2014-08-01T00:00:00.000000000",
          "2014-09-01T00:00:00.000000000",
          "2014-10-01T00:00:00.000000000",
          "2014-11-01T00:00:00.000000000",
          "2014-12-01T00:00:00.000000000",
          "2015-01-01T00:00:00.000000000",
          "2015-02-01T00:00:00.000000000",
          "2015-03-01T00:00:00.000000000",
          "2015-04-01T00:00:00.000000000",
          "2015-05-01T00:00:00.000000000",
          "2015-06-01T00:00:00.000000000",
          "2015-07-01T00:00:00.000000000",
          "2015-08-01T00:00:00.000000000",
          "2015-09-01T00:00:00.000000000",
          "2015-10-01T00:00:00.000000000",
          "2015-11-01T00:00:00.000000000",
          "2015-12-01T00:00:00.000000000",
          "2016-01-01T00:00:00.000000000",
          "2016-02-01T00:00:00.000000000",
          "2016-03-01T00:00:00.000000000",
          "2016-04-01T00:00:00.000000000",
          "2016-05-01T00:00:00.000000000",
          "2016-06-01T00:00:00.000000000",
          "2016-07-01T00:00:00.000000000",
          "2016-08-01T00:00:00.000000000",
          "2016-09-01T00:00:00.000000000",
          "2016-10-01T00:00:00.000000000",
          "2016-11-01T00:00:00.000000000",
          "2016-12-01T00:00:00.000000000",
          "2017-01-01T00:00:00.000000000",
          "2017-02-01T00:00:00.000000000",
          "2017-03-01T00:00:00.000000000",
          "2017-04-01T00:00:00.000000000",
          "2017-05-01T00:00:00.000000000",
          "2017-06-01T00:00:00.000000000",
          "2017-07-01T00:00:00.000000000",
          "2017-08-01T00:00:00.000000000",
          "2017-09-01T00:00:00.000000000",
          "2017-10-01T00:00:00.000000000",
          "2017-11-01T00:00:00.000000000",
          "2017-12-01T00:00:00.000000000",
          "2018-01-01T00:00:00.000000000",
          "2018-02-01T00:00:00.000000000",
          "2018-03-01T00:00:00.000000000",
          "2018-04-01T00:00:00.000000000",
          "2018-05-01T00:00:00.000000000",
          "2018-06-01T00:00:00.000000000",
          "2018-07-01T00:00:00.000000000",
          "2018-08-01T00:00:00.000000000",
          "2018-09-01T00:00:00.000000000",
          "2018-10-01T00:00:00.000000000",
          "2018-11-01T00:00:00.000000000",
          "2018-12-01T00:00:00.000000000",
          "2019-01-01T00:00:00.000000000",
          "2019-02-01T00:00:00.000000000",
          "2019-03-01T00:00:00.000000000",
          "2019-04-01T00:00:00.000000000",
          "2019-05-01T00:00:00.000000000",
          "2019-06-01T00:00:00.000000000",
          "2019-07-01T00:00:00.000000000",
          "2019-08-01T00:00:00.000000000",
          "2019-09-01T00:00:00.000000000",
          "2019-10-01T00:00:00.000000000",
          "2019-11-01T00:00:00.000000000",
          "2019-12-01T00:00:00.000000000",
          "2020-01-01T00:00:00.000000000",
          "2020-02-01T00:00:00.000000000",
          "2020-03-01T00:00:00.000000000",
          "2020-04-01T00:00:00.000000000"
         ],
         "xaxis": "x",
         "y": {
          "bdata": "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",
          "dtype": "f8"
         },
         "yaxis": "y"
        },
        {
         "hovertemplate": "<b>%{fullData.name}</b><br>Date: %{x|%b %Y}<br>Annualized Return: %{y:.2f}%<extra></extra>",
         "legendgroup": "lifestrategy0",
         "line": {
          "color": "#2CA02C",
          "dash": "solid"
         },
         "marker": {
          "symbol": "circle"
         },
         "mode": "lines",
         "name": "lifestrategy0",
         "showlegend": true,
         "type": "scattergl",
         "x": [
          "1985-01-01T00:00:00.000000000",
          "1985-02-01T00:00:00.000000000",
          "1985-03-01T00:00:00.000000000",
          "1985-04-01T00:00:00.000000000",
          "1985-05-01T00:00:00.000000000",
          "1985-06-01T00:00:00.000000000",
          "1985-07-01T00:00:00.000000000",
          "1985-08-01T00:00:00.000000000",
          "1985-09-01T00:00:00.000000000",
          "1985-10-01T00:00:00.000000000",
          "1985-11-01T00:00:00.000000000",
          "1985-12-01T00:00:00.000000000",
          "1986-01-01T00:00:00.000000000",
          "1986-02-01T00:00:00.000000000",
          "1986-03-01T00:00:00.000000000",
          "1986-04-01T00:00:00.000000000",
          "1986-05-01T00:00:00.000000000",
          "1986-06-01T00:00:00.000000000",
          "1986-07-01T00:00:00.000000000",
          "1986-08-01T00:00:00.000000000",
          "1986-09-01T00:00:00.000000000",
          "1986-10-01T00:00:00.000000000",
          "1986-11-01T00:00:00.000000000",
          "1986-12-01T00:00:00.000000000",
          "1987-01-01T00:00:00.000000000",
          "1987-02-01T00:00:00.000000000",
          "1987-03-01T00:00:00.000000000",
          "1987-04-01T00:00:00.000000000",
          "1987-05-01T00:00:00.000000000",
          "1987-06-01T00:00:00.000000000",
          "1987-07-01T00:00:00.000000000",
          "1987-08-01T00:00:00.000000000",
          "1987-09-01T00:00:00.000000000",
          "1987-10-01T00:00:00.000000000",
          "1987-11-01T00:00:00.000000000",
          "1987-12-01T00:00:00.000000000",
          "1988-01-01T00:00:00.000000000",
          "1988-02-01T00:00:00.000000000",
          "1988-03-01T00:00:00.000000000",
          "1988-04-01T00:00:00.000000000",
          "1988-05-01T00:00:00.000000000",
          "1988-06-01T00:00:00.000000000",
          "1988-07-01T00:00:00.000000000",
          "1988-08-01T00:00:00.000000000",
          "1988-09-01T00:00:00.000000000",
          "1988-10-01T00:00:00.000000000",
          "1988-11-01T00:00:00.000000000",
          "1988-12-01T00:00:00.000000000",
          "1989-01-01T00:00:00.000000000",
          "1989-02-01T00:00:00.000000000",
          "1989-03-01T00:00:00.000000000",
          "1989-04-01T00:00:00.000000000",
          "1989-05-01T00:00:00.000000000",
          "1989-06-01T00:00:00.000000000",
          "1989-07-01T00:00:00.000000000",
          "1989-08-01T00:00:00.000000000",
          "1989-09-01T00:00:00.000000000",
          "1989-10-01T00:00:00.000000000",
          "1989-11-01T00:00:00.000000000",
          "1989-12-01T00:00:00.000000000",
          "1990-01-01T00:00:00.000000000",
          "1990-02-01T00:00:00.000000000",
          "1990-03-01T00:00:00.000000000",
          "1990-04-01T00:00:00.000000000",
          "1990-05-01T00:00:00.000000000",
          "1990-06-01T00:00:00.000000000",
          "1990-07-01T00:00:00.000000000",
          "1990-08-01T00:00:00.000000000",
          "1990-09-01T00:00:00.000000000",
          "1990-10-01T00:00:00.000000000",
          "1990-11-01T00:00:00.000000000",
          "1990-12-01T00:00:00.000000000",
          "1991-01-01T00:00:00.000000000",
          "1991-02-01T00:00:00.000000000",
          "1991-03-01T00:00:00.000000000",
          "1991-04-01T00:00:00.000000000",
          "1991-05-01T00:00:00.000000000",
          "1991-06-01T00:00:00.000000000",
          "1991-07-01T00:00:00.000000000",
          "1991-08-01T00:00:00.000000000",
          "1991-09-01T00:00:00.000000000",
          "1991-10-01T00:00:00.000000000",
          "1991-11-01T00:00:00.000000000",
          "1991-12-01T00:00:00.000000000",
          "1992-01-01T00:00:00.000000000",
          "1992-02-01T00:00:00.000000000",
          "1992-03-01T00:00:00.000000000",
          "1992-04-01T00:00:00.000000000",
          "1992-05-01T00:00:00.000000000",
          "1992-06-01T00:00:00.000000000",
          "1992-07-01T00:00:00.000000000",
          "1992-08-01T00:00:00.000000000",
          "1992-09-01T00:00:00.000000000",
          "1992-10-01T00:00:00.000000000",
          "1992-11-01T00:00:00.000000000",
          "1992-12-01T00:00:00.000000000",
          "1993-01-01T00:00:00.000000000",
          "1993-02-01T00:00:00.000000000",
          "1993-03-01T00:00:00.000000000",
          "1993-04-01T00:00:00.000000000",
          "1993-05-01T00:00:00.000000000",
          "1993-06-01T00:00:00.000000000",
          "1993-07-01T00:00:00.000000000",
          "1993-08-01T00:00:00.000000000",
          "1993-09-01T00:00:00.000000000",
          "1993-10-01T00:00:00.000000000",
          "1993-11-01T00:00:00.000000000",
          "1993-12-01T00:00:00.000000000",
          "1994-01-01T00:00:00.000000000",
          "1994-02-01T00:00:00.000000000",
          "1994-03-01T00:00:00.000000000",
          "1994-04-01T00:00:00.000000000",
          "1994-05-01T00:00:00.000000000",
          "1994-06-01T00:00:00.000000000",
          "1994-07-01T00:00:00.000000000",
          "1994-08-01T00:00:00.000000000",
          "1994-09-01T00:00:00.000000000",
          "1994-10-01T00:00:00.000000000",
          "1994-11-01T00:00:00.000000000",
          "1994-12-01T00:00:00.000000000",
          "1995-01-01T00:00:00.000000000",
          "1995-02-01T00:00:00.000000000",
          "1995-03-01T00:00:00.000000000",
          "1995-04-01T00:00:00.000000000",
          "1995-05-01T00:00:00.000000000",
          "1995-06-01T00:00:00.000000000",
          "1995-07-01T00:00:00.000000000",
          "1995-08-01T00:00:00.000000000",
          "1995-09-01T00:00:00.000000000",
          "1995-10-01T00:00:00.000000000",
          "1995-11-01T00:00:00.000000000",
          "1995-12-01T00:00:00.000000000",
          "1996-01-01T00:00:00.000000000",
          "1996-02-01T00:00:00.000000000",
          "1996-03-01T00:00:00.000000000",
          "1996-04-01T00:00:00.000000000",
          "1996-05-01T00:00:00.000000000",
          "1996-06-01T00:00:00.000000000",
          "1996-07-01T00:00:00.000000000",
          "1996-08-01T00:00:00.000000000",
          "1996-09-01T00:00:00.000000000",
          "1996-10-01T00:00:00.000000000",
          "1996-11-01T00:00:00.000000000",
          "1996-12-01T00:00:00.000000000",
          "1997-01-01T00:00:00.000000000",
          "1997-02-01T00:00:00.000000000",
          "1997-03-01T00:00:00.000000000",
          "1997-04-01T00:00:00.000000000",
          "1997-05-01T00:00:00.000000000",
          "1997-06-01T00:00:00.000000000",
          "1997-07-01T00:00:00.000000000",
          "1997-08-01T00:00:00.000000000",
          "1997-09-01T00:00:00.000000000",
          "1997-10-01T00:00:00.000000000",
          "1997-11-01T00:00:00.000000000",
          "1997-12-01T00:00:00.000000000",
          "1998-01-01T00:00:00.000000000",
          "1998-02-01T00:00:00.000000000",
          "1998-03-01T00:00:00.000000000",
          "1998-04-01T00:00:00.000000000",
          "1998-05-01T00:00:00.000000000",
          "1998-06-01T00:00:00.000000000",
          "1998-07-01T00:00:00.000000000",
          "1998-08-01T00:00:00.000000000",
          "1998-09-01T00:00:00.000000000",
          "1998-10-01T00:00:00.000000000",
          "1998-11-01T00:00:00.000000000",
          "1998-12-01T00:00:00.000000000",
          "1999-01-01T00:00:00.000000000",
          "1999-02-01T00:00:00.000000000",
          "1999-03-01T00:00:00.000000000",
          "1999-04-01T00:00:00.000000000",
          "1999-05-01T00:00:00.000000000",
          "1999-07-01T00:00:00.000000000",
          "1999-09-01T00:00:00.000000000",
          "1999-10-01T00:00:00.000000000",
          "1999-11-01T00:00:00.000000000",
          "1999-12-01T00:00:00.000000000",
          "2000-01-01T00:00:00.000000000",
          "2000-03-01T00:00:00.000000000",
          "2000-04-01T00:00:00.000000000",
          "2000-05-01T00:00:00.000000000",
          "2000-06-01T00:00:00.000000000",
          "2000-07-01T00:00:00.000000000",
          "2000-08-01T00:00:00.000000000",
          "2000-09-01T00:00:00.000000000",
          "2000-10-01T00:00:00.000000000",
          "2000-11-01T00:00:00.000000000",
          "2000-12-01T00:00:00.000000000",
          "2001-01-01T00:00:00.000000000",
          "2001-02-01T00:00:00.000000000",
          "2001-03-01T00:00:00.000000000",
          "2001-04-01T00:00:00.000000000",
          "2001-05-01T00:00:00.000000000",
          "2001-06-01T00:00:00.000000000",
          "2001-07-01T00:00:00.000000000",
          "2001-08-01T00:00:00.000000000",
          "2001-09-01T00:00:00.000000000",
          "2001-10-01T00:00:00.000000000",
          "2001-11-01T00:00:00.000000000",
          "2001-12-01T00:00:00.000000000",
          "2002-02-01T00:00:00.000000000",
          "2002-03-01T00:00:00.000000000",
          "2002-04-01T00:00:00.000000000",
          "2002-05-01T00:00:00.000000000",
          "2002-06-01T00:00:00.000000000",
          "2002-07-01T00:00:00.000000000",
          "2002-08-01T00:00:00.000000000",
          "2002-09-01T00:00:00.000000000",
          "2002-10-01T00:00:00.000000000",
          "2002-11-01T00:00:00.000000000",
          "2002-12-01T00:00:00.000000000",
          "2003-01-01T00:00:00.000000000",
          "2003-02-01T00:00:00.000000000",
          "2003-03-01T00:00:00.000000000",
          "2003-04-01T00:00:00.000000000",
          "2003-05-01T00:00:00.000000000",
          "2003-06-01T00:00:00.000000000",
          "2003-08-01T00:00:00.000000000",
          "2003-09-01T00:00:00.000000000",
          "2003-10-01T00:00:00.000000000",
          "2003-11-01T00:00:00.000000000",
          "2003-12-01T00:00:00.000000000",
          "2004-01-01T00:00:00.000000000",
          "2004-02-01T00:00:00.000000000",
          "2004-03-01T00:00:00.000000000",
          "2004-04-01T00:00:00.000000000",
          "2004-05-01T00:00:00.000000000",
          "2004-06-01T00:00:00.000000000",
          "2004-07-01T00:00:00.000000000",
          "2004-08-01T00:00:00.000000000",
          "2004-09-01T00:00:00.000000000",
          "2004-10-01T00:00:00.000000000",
          "2004-11-01T00:00:00.000000000",
          "2004-12-01T00:00:00.000000000",
          "2005-01-01T00:00:00.000000000",
          "2005-02-01T00:00:00.000000000",
          "2005-03-01T00:00:00.000000000",
          "2005-04-01T00:00:00.000000000",
          "2005-05-01T00:00:00.000000000",
          "2005-06-01T00:00:00.000000000",
          "2005-07-01T00:00:00.000000000",
          "2005-08-01T00:00:00.000000000",
          "2005-09-01T00:00:00.000000000",
          "2005-10-01T00:00:00.000000000",
          "2005-11-01T00:00:00.000000000",
          "2005-12-01T00:00:00.000000000",
          "2006-01-01T00:00:00.000000000",
          "2006-02-01T00:00:00.000000000",
          "2006-03-01T00:00:00.000000000",
          "2006-04-01T00:00:00.000000000",
          "2006-05-01T00:00:00.000000000",
          "2006-06-01T00:00:00.000000000",
          "2006-07-01T00:00:00.000000000",
          "2006-08-01T00:00:00.000000000",
          "2006-09-01T00:00:00.000000000",
          "2006-10-01T00:00:00.000000000",
          "2006-11-01T00:00:00.000000000",
          "2006-12-01T00:00:00.000000000",
          "2007-01-01T00:00:00.000000000",
          "2007-02-01T00:00:00.000000000",
          "2007-03-01T00:00:00.000000000",
          "2007-04-01T00:00:00.000000000",
          "2007-05-01T00:00:00.000000000",
          "2007-06-01T00:00:00.000000000",
          "2007-07-01T00:00:00.000000000",
          "2007-08-01T00:00:00.000000000",
          "2007-09-01T00:00:00.000000000",
          "2007-10-01T00:00:00.000000000",
          "2007-11-01T00:00:00.000000000",
          "2007-12-01T00:00:00.000000000",
          "2008-01-01T00:00:00.000000000",
          "2008-02-01T00:00:00.000000000",
          "2008-03-01T00:00:00.000000000",
          "2008-04-01T00:00:00.000000000",
          "2008-05-01T00:00:00.000000000",
          "2008-06-01T00:00:00.000000000",
          "2008-07-01T00:00:00.000000000",
          "2008-08-01T00:00:00.000000000",
          "2008-09-01T00:00:00.000000000",
          "2008-11-01T00:00:00.000000000",
          "2008-12-01T00:00:00.000000000",
          "2009-01-01T00:00:00.000000000",
          "2009-02-01T00:00:00.000000000",
          "2009-04-01T00:00:00.000000000",
          "2009-05-01T00:00:00.000000000",
          "2009-06-01T00:00:00.000000000",
          "2009-07-01T00:00:00.000000000",
          "2009-08-01T00:00:00.000000000",
          "2009-09-01T00:00:00.000000000",
          "2009-10-01T00:00:00.000000000",
          "2009-11-01T00:00:00.000000000",
          "2009-12-01T00:00:00.000000000",
          "2010-01-01T00:00:00.000000000",
          "2010-02-01T00:00:00.000000000",
          "2010-03-01T00:00:00.000000000",
          "2010-04-01T00:00:00.000000000",
          "2010-05-01T00:00:00.000000000",
          "2010-06-01T00:00:00.000000000",
          "2010-07-01T00:00:00.000000000",
          "2010-08-01T00:00:00.000000000",
          "2010-09-01T00:00:00.000000000",
          "2010-10-01T00:00:00.000000000",
          "2010-11-01T00:00:00.000000000",
          "2010-12-01T00:00:00.000000000",
          "2011-01-01T00:00:00.000000000",
          "2011-02-01T00:00:00.000000000",
          "2011-03-01T00:00:00.000000000",
          "2011-04-01T00:00:00.000000000",
          "2011-05-01T00:00:00.000000000",
          "2011-06-01T00:00:00.000000000",
          "2011-07-01T00:00:00.000000000",
          "2011-08-01T00:00:00.000000000",
          "2011-09-01T00:00:00.000000000",
          "2011-10-01T00:00:00.000000000",
          "2011-11-01T00:00:00.000000000",
          "2011-12-01T00:00:00.000000000",
          "2012-01-01T00:00:00.000000000",
          "2012-02-01T00:00:00.000000000",
          "2012-03-01T00:00:00.000000000",
          "2012-04-01T00:00:00.000000000",
          "2012-05-01T00:00:00.000000000",
          "2012-06-01T00:00:00.000000000",
          "2012-07-01T00:00:00.000000000",
          "2012-08-01T00:00:00.000000000",
          "2012-09-01T00:00:00.000000000",
          "2012-10-01T00:00:00.000000000",
          "2012-11-01T00:00:00.000000000",
          "2012-12-01T00:00:00.000000000",
          "2013-01-01T00:00:00.000000000",
          "2013-02-01T00:00:00.000000000",
          "2013-03-01T00:00:00.000000000",
          "2013-04-01T00:00:00.000000000",
          "2013-05-01T00:00:00.000000000",
          "2013-06-01T00:00:00.000000000",
          "2013-07-01T00:00:00.000000000",
          "2013-08-01T00:00:00.000000000",
          "2013-09-01T00:00:00.000000000",
          "2013-10-01T00:00:00.000000000",
          "2013-11-01T00:00:00.000000000",
          "2013-12-01T00:00:00.000000000",
          "2014-01-01T00:00:00.000000000",
          "2014-02-01T00:00:00.000000000",
          "2014-03-01T00:00:00.000000000",
          "2014-04-01T00:00:00.000000000",
          "2014-05-01T00:00:00.000000000",
          "2014-06-01T00:00:00.000000000",
          "2014-07-01T00:00:00.000000000",
          "2014-08-01T00:00:00.000000000",
          "2014-09-01T00:00:00.000000000",
          "2014-10-01T00:00:00.000000000",
          "2014-11-01T00:00:00.000000000",
          "2014-12-01T00:00:00.000000000",
          "2015-01-01T00:00:00.000000000",
          "2015-02-01T00:00:00.000000000",
          "2015-03-01T00:00:00.000000000",
          "2015-04-01T00:00:00.000000000",
          "2015-05-01T00:00:00.000000000",
          "2015-06-01T00:00:00.000000000",
          "2015-07-01T00:00:00.000000000",
          "2015-08-01T00:00:00.000000000",
          "2015-09-01T00:00:00.000000000",
          "2015-10-01T00:00:00.000000000",
          "2015-11-01T00:00:00.000000000",
          "2015-12-01T00:00:00.000000000",
          "2016-01-01T00:00:00.000000000",
          "2016-02-01T00:00:00.000000000",
          "2016-03-01T00:00:00.000000000",
          "2016-04-01T00:00:00.000000000",
          "2016-05-01T00:00:00.000000000",
          "2016-06-01T00:00:00.000000000",
          "2016-07-01T00:00:00.000000000",
          "2016-08-01T00:00:00.000000000",
          "2016-09-01T00:00:00.000000000",
          "2016-10-01T00:00:00.000000000",
          "2016-11-01T00:00:00.000000000",
          "2016-12-01T00:00:00.000000000",
          "2017-01-01T00:00:00.000000000",
          "2017-02-01T00:00:00.000000000",
          "2017-03-01T00:00:00.000000000",
          "2017-04-01T00:00:00.000000000",
          "2017-05-01T00:00:00.000000000",
          "2017-06-01T00:00:00.000000000",
          "2017-07-01T00:00:00.000000000",
          "2017-08-01T00:00:00.000000000",
          "2017-09-01T00:00:00.000000000",
          "2017-10-01T00:00:00.000000000",
          "2017-11-01T00:00:00.000000000",
          "2017-12-01T00:00:00.000000000",
          "2018-01-01T00:00:00.000000000",
          "2018-02-01T00:00:00.000000000",
          "2018-03-01T00:00:00.000000000",
          "2018-04-01T00:00:00.000000000",
          "2018-05-01T00:00:00.000000000",
          "2018-06-01T00:00:00.000000000",
          "2018-07-01T00:00:00.000000000",
          "2018-08-01T00:00:00.000000000",
          "2018-09-01T00:00:00.000000000",
          "2018-10-01T00:00:00.000000000",
          "2018-11-01T00:00:00.000000000",
          "2018-12-01T00:00:00.000000000",
          "2019-01-01T00:00:00.000000000",
          "2019-02-01T00:00:00.000000000",
          "2019-03-01T00:00:00.000000000",
          "2019-04-01T00:00:00.000000000",
          "2019-05-01T00:00:00.000000000",
          "2019-06-01T00:00:00.000000000",
          "2019-07-01T00:00:00.000000000",
          "2019-08-01T00:00:00.000000000",
          "2019-09-01T00:00:00.000000000",
          "2019-10-01T00:00:00.000000000",
          "2019-11-01T00:00:00.000000000",
          "2019-12-01T00:00:00.000000000",
          "2020-01-01T00:00:00.000000000",
          "2020-02-01T00:00:00.000000000",
          "2020-03-01T00:00:00.000000000",
          "2020-04-01T00:00:00.000000000"
         ],
         "xaxis": "x",
         "y": {
          "bdata": "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",
          "dtype": "f8"
         },
         "yaxis": "y"
        }
       ],
       "layout": {
        "font": {
         "color": "black"
        },
        "height": 800,
        "legend": {
         "font": {
          "size": 22
         },
         "orientation": "h",
         "title": {
          "text": "Portfolio"
         },
         "tracegroupgap": 0,
         "x": 0.5,
         "xanchor": "center",
         "y": 1.05,
         "yanchor": "bottom"
        },
        "template": {
         "data": {
          "bar": [
           {
            "error_x": {
             "color": "rgb(36,36,36)"
            },
            "error_y": {
             "color": "rgb(36,36,36)"
            },
            "marker": {
             "line": {
              "color": "white",
              "width": 0.5
             },
             "pattern": {
              "fillmode": "overlay",
              "size": 10,
              "solidity": 0.2
             }
            },
            "type": "bar"
           }
          ],
          "barpolar": [
           {
            "marker": {
             "line": {
              "color": "white",
              "width": 0.5
             },
             "pattern": {
              "fillmode": "overlay",
              "size": 10,
              "solidity": 0.2
             }
            },
            "type": "barpolar"
           }
          ],
          "carpet": [
           {
            "aaxis": {
             "endlinecolor": "rgb(36,36,36)",
             "gridcolor": "white",
             "linecolor": "white",
             "minorgridcolor": "white",
             "startlinecolor": "rgb(36,36,36)"
            },
            "baxis": {
             "endlinecolor": "rgb(36,36,36)",
             "gridcolor": "white",
             "linecolor": "white",
             "minorgridcolor": "white",
             "startlinecolor": "rgb(36,36,36)"
            },
            "type": "carpet"
           }
          ],
          "choropleth": [
           {
            "colorbar": {
             "outlinewidth": 1,
             "tickcolor": "rgb(36,36,36)",
             "ticks": "outside"
            },
            "type": "choropleth"
           }
          ],
          "contour": [
           {
            "colorbar": {
             "outlinewidth": 1,
             "tickcolor": "rgb(36,36,36)",
             "ticks": "outside"
            },
            "colorscale": [
             [
              0,
              "#440154"
             ],
             [
              0.1111111111111111,
              "#482878"
             ],
             [
              0.2222222222222222,
              "#3e4989"
             ],
             [
              0.3333333333333333,
              "#31688e"
             ],
             [
              0.4444444444444444,
              "#26828e"
             ],
             [
              0.5555555555555556,
              "#1f9e89"
             ],
             [
              0.6666666666666666,
              "#35b779"
             ],
             [
              0.7777777777777778,
              "#6ece58"
             ],
             [
              0.8888888888888888,
              "#b5de2b"
             ],
             [
              1,
              "#fde725"
             ]
            ],
            "type": "contour"
           }
          ],
          "contourcarpet": [
           {
            "colorbar": {
             "outlinewidth": 1,
             "tickcolor": "rgb(36,36,36)",
             "ticks": "outside"
            },
            "type": "contourcarpet"
           }
          ],
          "heatmap": [
           {
            "colorbar": {
             "outlinewidth": 1,
             "tickcolor": "rgb(36,36,36)",
             "ticks": "outside"
            },
            "colorscale": [
             [
              0,
              "#440154"
             ],
             [
              0.1111111111111111,
              "#482878"
             ],
             [
              0.2222222222222222,
              "#3e4989"
             ],
             [
              0.3333333333333333,
              "#31688e"
             ],
             [
              0.4444444444444444,
              "#26828e"
             ],
             [
              0.5555555555555556,
              "#1f9e89"
             ],
             [
              0.6666666666666666,
              "#35b779"
             ],
             [
              0.7777777777777778,
              "#6ece58"
             ],
             [
              0.8888888888888888,
              "#b5de2b"
             ],
             [
              1,
              "#fde725"
             ]
            ],
            "type": "heatmap"
           }
          ],
          "histogram": [
           {
            "marker": {
             "line": {
              "color": "white",
              "width": 0.6
             }
            },
            "type": "histogram"
           }
          ],
          "histogram2d": [
           {
            "colorbar": {
             "outlinewidth": 1,
             "tickcolor": "rgb(36,36,36)",
             "ticks": "outside"
            },
            "colorscale": [
             [
              0,
              "#440154"
             ],
             [
              0.1111111111111111,
              "#482878"
             ],
             [
              0.2222222222222222,
              "#3e4989"
             ],
             [
              0.3333333333333333,
              "#31688e"
             ],
             [
              0.4444444444444444,
              "#26828e"
             ],
             [
              0.5555555555555556,
              "#1f9e89"
             ],
             [
              0.6666666666666666,
              "#35b779"
             ],
             [
              0.7777777777777778,
              "#6ece58"
             ],
             [
              0.8888888888888888,
              "#b5de2b"
             ],
             [
              1,
              "#fde725"
             ]
            ],
            "type": "histogram2d"
           }
          ],
          "histogram2dcontour": [
           {
            "colorbar": {
             "outlinewidth": 1,
             "tickcolor": "rgb(36,36,36)",
             "ticks": "outside"
            },
            "colorscale": [
             [
              0,
              "#440154"
             ],
             [
              0.1111111111111111,
              "#482878"
             ],
             [
              0.2222222222222222,
              "#3e4989"
             ],
             [
              0.3333333333333333,
              "#31688e"
             ],
             [
              0.4444444444444444,
              "#26828e"
             ],
             [
              0.5555555555555556,
              "#1f9e89"
             ],
             [
              0.6666666666666666,
              "#35b779"
             ],
             [
              0.7777777777777778,
              "#6ece58"
             ],
             [
              0.8888888888888888,
              "#b5de2b"
             ],
             [
              1,
              "#fde725"
             ]
            ],
            "type": "histogram2dcontour"
           }
          ],
          "mesh3d": [
           {
            "colorbar": {
             "outlinewidth": 1,
             "tickcolor": "rgb(36,36,36)",
             "ticks": "outside"
            },
            "type": "mesh3d"
           }
          ],
          "parcoords": [
           {
            "line": {
             "colorbar": {
              "outlinewidth": 1,
              "tickcolor": "rgb(36,36,36)",
              "ticks": "outside"
             }
            },
            "type": "parcoords"
           }
          ],
          "pie": [
           {
            "automargin": true,
            "type": "pie"
           }
          ],
          "scatter": [
           {
            "fillpattern": {
             "fillmode": "overlay",
             "size": 10,
             "solidity": 0.2
            },
            "type": "scatter"
           }
          ],
          "scatter3d": [
           {
            "line": {
             "colorbar": {
              "outlinewidth": 1,
              "tickcolor": "rgb(36,36,36)",
              "ticks": "outside"
             }
            },
            "marker": {
             "colorbar": {
              "outlinewidth": 1,
              "tickcolor": "rgb(36,36,36)",
              "ticks": "outside"
             }
            },
            "type": "scatter3d"
           }
          ],
          "scattercarpet": [
           {
            "marker": {
             "colorbar": {
              "outlinewidth": 1,
              "tickcolor": "rgb(36,36,36)",
              "ticks": "outside"
             }
            },
            "type": "scattercarpet"
           }
          ],
          "scattergeo": [
           {
            "marker": {
             "colorbar": {
              "outlinewidth": 1,
              "tickcolor": "rgb(36,36,36)",
              "ticks": "outside"
             }
            },
            "type": "scattergeo"
           }
          ],
          "scattergl": [
           {
            "marker": {
             "colorbar": {
              "outlinewidth": 1,
              "tickcolor": "rgb(36,36,36)",
              "ticks": "outside"
             }
            },
            "type": "scattergl"
           }
          ],
          "scattermap": [
           {
            "marker": {
             "colorbar": {
              "outlinewidth": 1,
              "tickcolor": "rgb(36,36,36)",
              "ticks": "outside"
             }
            },
            "type": "scattermap"
           }
          ],
          "scattermapbox": [
           {
            "marker": {
             "colorbar": {
              "outlinewidth": 1,
              "tickcolor": "rgb(36,36,36)",
              "ticks": "outside"
             }
            },
            "type": "scattermapbox"
           }
          ],
          "scatterpolar": [
           {
            "marker": {
             "colorbar": {
              "outlinewidth": 1,
              "tickcolor": "rgb(36,36,36)",
              "ticks": "outside"
             }
            },
            "type": "scatterpolar"
           }
          ],
          "scatterpolargl": [
           {
            "marker": {
             "colorbar": {
              "outlinewidth": 1,
              "tickcolor": "rgb(36,36,36)",
              "ticks": "outside"
             }
            },
            "type": "scatterpolargl"
           }
          ],
          "scatterternary": [
           {
            "marker": {
             "colorbar": {
              "outlinewidth": 1,
              "tickcolor": "rgb(36,36,36)",
              "ticks": "outside"
             }
            },
            "type": "scatterternary"
           }
          ],
          "surface": [
           {
            "colorbar": {
             "outlinewidth": 1,
             "tickcolor": "rgb(36,36,36)",
             "ticks": "outside"
            },
            "colorscale": [
             [
              0,
              "#440154"
             ],
             [
              0.1111111111111111,
              "#482878"
             ],
             [
              0.2222222222222222,
              "#3e4989"
             ],
             [
              0.3333333333333333,
              "#31688e"
             ],
             [
              0.4444444444444444,
              "#26828e"
             ],
             [
              0.5555555555555556,
              "#1f9e89"
             ],
             [
              0.6666666666666666,
              "#35b779"
             ],
             [
              0.7777777777777778,
              "#6ece58"
             ],
             [
              0.8888888888888888,
              "#b5de2b"
             ],
             [
              1,
              "#fde725"
             ]
            ],
            "type": "surface"
           }
          ],
          "table": [
           {
            "cells": {
             "fill": {
              "color": "rgb(237,237,237)"
             },
             "line": {
              "color": "white"
             }
            },
            "header": {
             "fill": {
              "color": "rgb(217,217,217)"
             },
             "line": {
              "color": "white"
             }
            },
            "type": "table"
           }
          ]
         },
         "layout": {
          "annotationdefaults": {
           "arrowhead": 0,
           "arrowwidth": 1
          },
          "autotypenumbers": "strict",
          "coloraxis": {
           "colorbar": {
            "outlinewidth": 1,
            "tickcolor": "rgb(36,36,36)",
            "ticks": "outside"
           }
          },
          "colorscale": {
           "diverging": [
            [
             0,
             "rgb(103,0,31)"
            ],
            [
             0.1,
             "rgb(178,24,43)"
            ],
            [
             0.2,
             "rgb(214,96,77)"
            ],
            [
             0.3,
             "rgb(244,165,130)"
            ],
            [
             0.4,
             "rgb(253,219,199)"
            ],
            [
             0.5,
             "rgb(247,247,247)"
            ],
            [
             0.6,
             "rgb(209,229,240)"
            ],
            [
             0.7,
             "rgb(146,197,222)"
            ],
            [
             0.8,
             "rgb(67,147,195)"
            ],
            [
             0.9,
             "rgb(33,102,172)"
            ],
            [
             1,
             "rgb(5,48,97)"
            ]
           ],
           "sequential": [
            [
             0,
             "#440154"
            ],
            [
             0.1111111111111111,
             "#482878"
            ],
            [
             0.2222222222222222,
             "#3e4989"
            ],
            [
             0.3333333333333333,
             "#31688e"
            ],
            [
             0.4444444444444444,
             "#26828e"
            ],
            [
             0.5555555555555556,
             "#1f9e89"
            ],
            [
             0.6666666666666666,
             "#35b779"
            ],
            [
             0.7777777777777778,
             "#6ece58"
            ],
            [
             0.8888888888888888,
             "#b5de2b"
            ],
            [
             1,
             "#fde725"
            ]
           ],
           "sequentialminus": [
            [
             0,
             "#440154"
            ],
            [
             0.1111111111111111,
             "#482878"
            ],
            [
             0.2222222222222222,
             "#3e4989"
            ],
            [
             0.3333333333333333,
             "#31688e"
            ],
            [
             0.4444444444444444,
             "#26828e"
            ],
            [
             0.5555555555555556,
             "#1f9e89"
            ],
            [
             0.6666666666666666,
             "#35b779"
            ],
            [
             0.7777777777777778,
             "#6ece58"
            ],
            [
             0.8888888888888888,
             "#b5de2b"
            ],
            [
             1,
             "#fde725"
            ]
           ]
          },
          "colorway": [
           "#1F77B4",
           "#FF7F0E",
           "#2CA02C",
           "#D62728",
           "#9467BD",
           "#8C564B",
           "#E377C2",
           "#7F7F7F",
           "#BCBD22",
           "#17BECF"
          ],
          "font": {
           "color": "rgb(36,36,36)"
          },
          "geo": {
           "bgcolor": "white",
           "lakecolor": "white",
           "landcolor": "white",
           "showlakes": true,
           "showland": true,
           "subunitcolor": "white"
          },
          "hoverlabel": {
           "align": "left"
          },
          "hovermode": "closest",
          "mapbox": {
           "style": "light"
          },
          "paper_bgcolor": "white",
          "plot_bgcolor": "white",
          "polar": {
           "angularaxis": {
            "gridcolor": "rgb(232,232,232)",
            "linecolor": "rgb(36,36,36)",
            "showgrid": false,
            "showline": true,
            "ticks": "outside"
           },
           "bgcolor": "white",
           "radialaxis": {
            "gridcolor": "rgb(232,232,232)",
            "linecolor": "rgb(36,36,36)",
            "showgrid": false,
            "showline": true,
            "ticks": "outside"
           }
          },
          "scene": {
           "xaxis": {
            "backgroundcolor": "white",
            "gridcolor": "rgb(232,232,232)",
            "gridwidth": 2,
            "linecolor": "rgb(36,36,36)",
            "showbackground": true,
            "showgrid": false,
            "showline": true,
            "ticks": "outside",
            "zeroline": false,
            "zerolinecolor": "rgb(36,36,36)"
           },
           "yaxis": {
            "backgroundcolor": "white",
            "gridcolor": "rgb(232,232,232)",
            "gridwidth": 2,
            "linecolor": "rgb(36,36,36)",
            "showbackground": true,
            "showgrid": false,
            "showline": true,
            "ticks": "outside",
            "zeroline": false,
            "zerolinecolor": "rgb(36,36,36)"
           },
           "zaxis": {
            "backgroundcolor": "white",
            "gridcolor": "rgb(232,232,232)",
            "gridwidth": 2,
            "linecolor": "rgb(36,36,36)",
            "showbackground": true,
            "showgrid": false,
            "showline": true,
            "ticks": "outside",
            "zeroline": false,
            "zerolinecolor": "rgb(36,36,36)"
           }
          },
          "shapedefaults": {
           "fillcolor": "black",
           "line": {
            "width": 0
           },
           "opacity": 0.3
          },
          "ternary": {
           "aaxis": {
            "gridcolor": "rgb(232,232,232)",
            "linecolor": "rgb(36,36,36)",
            "showgrid": false,
            "showline": true,
            "ticks": "outside"
           },
           "baxis": {
            "gridcolor": "rgb(232,232,232)",
            "linecolor": "rgb(36,36,36)",
            "showgrid": false,
            "showline": true,
            "ticks": "outside"
           },
           "bgcolor": "white",
           "caxis": {
            "gridcolor": "rgb(232,232,232)",
            "linecolor": "rgb(36,36,36)",
            "showgrid": false,
            "showline": true,
            "ticks": "outside"
           }
          },
          "title": {
           "x": 0.05
          },
          "xaxis": {
           "automargin": true,
           "gridcolor": "rgb(232,232,232)",
           "linecolor": "rgb(36,36,36)",
           "showgrid": false,
           "showline": true,
           "ticks": "outside",
           "title": {
            "standoff": 15
           },
           "zeroline": false,
           "zerolinecolor": "rgb(36,36,36)"
          },
          "yaxis": {
           "automargin": true,
           "gridcolor": "rgb(232,232,232)",
           "linecolor": "rgb(36,36,36)",
           "showgrid": false,
           "showline": true,
           "ticks": "outside",
           "title": {
            "standoff": 15
           },
           "zeroline": false,
           "zerolinecolor": "rgb(36,36,36)"
          }
         }
        },
        "title": {
         "font": {
          "family": "Arial",
          "size": 25
         },
         "text": " "
        },
        "width": 1200,
        "xaxis": {
         "anchor": "y",
         "domain": [
          0,
          1
         ],
         "gridcolor": "lightgray",
         "gridwidth": 1,
         "linecolor": "black",
         "linewidth": 2,
         "showgrid": true,
         "tickfont": {
          "color": "black",
          "size": 16
         },
         "tickformat": "%Y",
         "title": {
          "font": {
           "color": "black",
           "family": "Arial",
           "size": 22
          },
          "text": "Date"
         }
        },
        "yaxis": {
         "anchor": "x",
         "domain": [
          0,
          1
         ],
         "gridcolor": "lightgray",
         "gridwidth": 1,
         "linecolor": "black",
         "linewidth": 2,
         "showgrid": true,
         "tickfont": {
          "color": "black",
          "size": 16
         },
         "tickformat": ".1f",
         "tickprefix": "",
         "ticksuffix": "%",
         "title": {
          "font": {
           "color": "black",
           "family": "Arial",
           "size": 22
          },
          "text": "Annualized Return"
         }
        }
       }
      }
     },
     "metadata": {},
     "output_type": "display_data"
    }
   ],
   "source": [
    "plot_annualized_returns_streamlit(final_results)"
   ]
  },
  {
   "cell_type": "code",
   "execution_count": null,
   "metadata": {},
   "outputs": [],
   "source": []
  },
  {
   "cell_type": "code",
   "execution_count": 7,
   "metadata": {},
   "outputs": [
    {
     "name": "stdout",
     "output_type": "stream",
     "text": [
      "['/home/cavallo/Finance4All/data/indexes/MSCI_Europe_Small_Cap_Value_Weighted.csv', '/home/cavallo/Finance4All/data/indexes/Historical_data_updated.csv', '/home/cavallo/Finance4All/data/indexes/MSCI_Europe.csv', '/home/cavallo/Finance4All/data/indexes/MSCI_World_Momentum.csv', '/home/cavallo/Finance4All/data/indexes/MSCI_ACWI.csv', '/home/cavallo/Finance4All/data/indexes/MSCI_World.csv', '/home/cavallo/Finance4All/data/indexes/S&P_500_Minimum_Volatility.csv', '/home/cavallo/Finance4All/data/indexes/MSCI_Emerging_Markets.csv', '/home/cavallo/Finance4All/data/indexes/FTSE_World_Government_Bond_Developed_Markets.csv', '/home/cavallo/Finance4All/data/indexes/S&P_500.csv', '/home/cavallo/Finance4All/data/indexes/MSCI_USA_Small_Cap_Value_Weighted.csv']\n",
      "['/home/cavallo/Finance4All/data/indexes/MSCI_Europe_Small_Cap_Value_Weighted.csv', '/home/cavallo/Finance4All/data/indexes/Historical_data_updated.csv', '/home/cavallo/Finance4All/data/indexes/MSCI_Europe.csv', '/home/cavallo/Finance4All/data/indexes/MSCI_World_Momentum.csv', '/home/cavallo/Finance4All/data/indexes/MSCI_ACWI.csv', '/home/cavallo/Finance4All/data/indexes/MSCI_World.csv', '/home/cavallo/Finance4All/data/indexes/S&P_500_Minimum_Volatility.csv', '/home/cavallo/Finance4All/data/indexes/MSCI_Emerging_Markets.csv', '/home/cavallo/Finance4All/data/indexes/FTSE_World_Government_Bond_Developed_Markets.csv', '/home/cavallo/Finance4All/data/indexes/S&P_500.csv', '/home/cavallo/Finance4All/data/indexes/MSCI_USA_Small_Cap_Value_Weighted.csv']\n",
      "['/home/cavallo/Finance4All/data/indexes/MSCI_Europe_Small_Cap_Value_Weighted.csv', '/home/cavallo/Finance4All/data/indexes/Historical_data_updated.csv', '/home/cavallo/Finance4All/data/indexes/MSCI_Europe.csv', '/home/cavallo/Finance4All/data/indexes/MSCI_World_Momentum.csv', '/home/cavallo/Finance4All/data/indexes/MSCI_ACWI.csv', '/home/cavallo/Finance4All/data/indexes/MSCI_World.csv', '/home/cavallo/Finance4All/data/indexes/S&P_500_Minimum_Volatility.csv', '/home/cavallo/Finance4All/data/indexes/MSCI_Emerging_Markets.csv', '/home/cavallo/Finance4All/data/indexes/FTSE_World_Government_Bond_Developed_Markets.csv', '/home/cavallo/Finance4All/data/indexes/S&P_500.csv', '/home/cavallo/Finance4All/data/indexes/MSCI_USA_Small_Cap_Value_Weighted.csv']\n",
      "['/home/cavallo/Finance4All/data/indexes/MSCI_Europe_Small_Cap_Value_Weighted.csv', '/home/cavallo/Finance4All/data/indexes/Historical_data_updated.csv', '/home/cavallo/Finance4All/data/indexes/MSCI_Europe.csv', '/home/cavallo/Finance4All/data/indexes/MSCI_World_Momentum.csv', '/home/cavallo/Finance4All/data/indexes/MSCI_ACWI.csv', '/home/cavallo/Finance4All/data/indexes/MSCI_World.csv', '/home/cavallo/Finance4All/data/indexes/S&P_500_Minimum_Volatility.csv', '/home/cavallo/Finance4All/data/indexes/MSCI_Emerging_Markets.csv', '/home/cavallo/Finance4All/data/indexes/FTSE_World_Government_Bond_Developed_Markets.csv', '/home/cavallo/Finance4All/data/indexes/S&P_500.csv', '/home/cavallo/Finance4All/data/indexes/MSCI_USA_Small_Cap_Value_Weighted.csv']\n",
      "['/home/cavallo/Finance4All/data/indexes/MSCI_Europe_Small_Cap_Value_Weighted.csv', '/home/cavallo/Finance4All/data/indexes/Historical_data_updated.csv', '/home/cavallo/Finance4All/data/indexes/MSCI_Europe.csv', '/home/cavallo/Finance4All/data/indexes/MSCI_World_Momentum.csv', '/home/cavallo/Finance4All/data/indexes/MSCI_ACWI.csv', '/home/cavallo/Finance4All/data/indexes/MSCI_World.csv', '/home/cavallo/Finance4All/data/indexes/S&P_500_Minimum_Volatility.csv', '/home/cavallo/Finance4All/data/indexes/MSCI_Emerging_Markets.csv', '/home/cavallo/Finance4All/data/indexes/FTSE_World_Government_Bond_Developed_Markets.csv', '/home/cavallo/Finance4All/data/indexes/S&P_500.csv', '/home/cavallo/Finance4All/data/indexes/MSCI_USA_Small_Cap_Value_Weighted.csv']\n",
      "['/home/cavallo/Finance4All/data/indexes/MSCI_Europe_Small_Cap_Value_Weighted.csv', '/home/cavallo/Finance4All/data/indexes/Historical_data_updated.csv', '/home/cavallo/Finance4All/data/indexes/MSCI_Europe.csv', '/home/cavallo/Finance4All/data/indexes/MSCI_World_Momentum.csv', '/home/cavallo/Finance4All/data/indexes/MSCI_ACWI.csv', '/home/cavallo/Finance4All/data/indexes/MSCI_World.csv', '/home/cavallo/Finance4All/data/indexes/S&P_500_Minimum_Volatility.csv', '/home/cavallo/Finance4All/data/indexes/MSCI_Emerging_Markets.csv', '/home/cavallo/Finance4All/data/indexes/FTSE_World_Government_Bond_Developed_Markets.csv', '/home/cavallo/Finance4All/data/indexes/S&P_500.csv', '/home/cavallo/Finance4All/data/indexes/MSCI_USA_Small_Cap_Value_Weighted.csv']\n"
     ]
    },
    {
     "data": {
      "image/png": "[encoded data removed]",
      "text/plain": [
       "<Figure size 1400x700 with 1 Axes>"
      ]
     },
     "metadata": {},
     "output_type": "display_data"
    }
   ],
   "source": [
    "portfolios = ['100_2factors',\n",
    "              '80_20_2factors',\n",
    "              '80_20_1factor',\n",
    "              '80_20_ACWI',\n",
    "              '80_20_World']\n",
    "\n",
    "portfolios = [ 'lifestrategy40',\n",
    "               'lifestrategy20',\n",
    "               'lifestrategy0']\n",
    "\n",
    "for years in [5]:\n",
    "    final_results = None \n",
    "    for portfolio_name in portfolios:\n",
    "\n",
    "        portfolio = load_portfolio(portfolio_name)\n",
    "        data, weights = prune_data_portfolio(portfolio)\n",
    "\n",
    "        # Compute the returns\n",
    "        results = compute_portfolio_returns_combined(*prune_data_portfolio(portfolio), years=years)\n",
    "        results = results.rename(columns={results.columns[-1]: portfolio_name})\n",
    "        results[portfolio_name] = results[portfolio_name].round(5)\n",
    "\n",
    "        final_results = merge_results(final_results, results)\n",
    "    \n",
    "    plot_annualized_returns(final_results, years=years)\n",
    "    plot_returns_histogram(final_results, years=years)"
   ]
  },
  {
   "cell_type": "code",
   "execution_count": null,
   "metadata": {},
   "outputs": [],
   "source": []
  },
  {
   "cell_type": "code",
   "execution_count": null,
   "metadata": {},
   "outputs": [],
   "source": []
  },
  {
   "cell_type": "code",
   "execution_count": null,
   "metadata": {},
   "outputs": [],
   "source": []
  },
  {
   "cell_type": "code",
   "execution_count": null,
   "metadata": {},
   "outputs": [],
   "source": []
  },
  {
   "cell_type": "code",
   "execution_count": null,
   "metadata": {},
   "outputs": [],
   "source": []
  },
  {
   "cell_type": "code",
   "execution_count": null,
   "metadata": {},
   "outputs": [],
   "source": []
  },
  {
   "cell_type": "code",
   "execution_count": null,
   "metadata": {},
   "outputs": [],
   "source": []
  },
  {
   "cell_type": "code",
   "execution_count": null,
   "metadata": {},
   "outputs": [],
   "source": []
  },
  {
   "cell_type": "code",
   "execution_count": null,
   "metadata": {},
   "outputs": [],
   "source": []
  },
  {
   "cell_type": "code",
   "execution_count": 63,
   "metadata": {},
   "outputs": [
    {
     "data": {
      "image/png": "[encoded data removed]",
      "text/plain": [
       "<Figure size 1400x700 with 1 Axes>"
      ]
     },
     "metadata": {},
     "output_type": "display_data"
    }
   ],
   "source": [
    "final_maxdrawdown = None\n",
    "\n",
    "for portfolio_name in portfolios:\n",
    "\n",
    "    portfolio = load_portfolio(portfolio_name)\n",
    "    data, weights = prune_data_portfolio(portfolio)\n",
    "\n",
    "    prices = compute_portfolio_prices(portfolio, portfolio_name)\n",
    "\n",
    "    maxdrawdown = max_drawdown(prices)\n",
    "\n",
    "    final_maxdrawdown = merge_results(final_maxdrawdown, maxdrawdown)\n",
    "\n",
    "plot_max_drawdown(final_maxdrawdown)"
   ]
  },
  {
   "cell_type": "code",
   "execution_count": null,
   "metadata": {},
   "outputs": [],
   "source": []
  },
  {
   "cell_type": "code",
   "execution_count": null,
   "metadata": {},
   "outputs": [],
   "source": []
  }
 ],
 "metadata": {
  "kernelspec": {
   "display_name": "finace4all",
   "language": "python",
   "name": "python3"
  },
  "language_info": {
   "codemirror_mode": {
    "name": "ipython",
    "version": 3
   },
   "file_extension": ".py",
   "mimetype": "text/x-python",
   "name": "python",
   "nbconvert_exporter": "python",
   "pygments_lexer": "ipython3",
   "version": "3.12.9"
  }
 },
 "nbformat": 4,
 "nbformat_minor": 2
}
