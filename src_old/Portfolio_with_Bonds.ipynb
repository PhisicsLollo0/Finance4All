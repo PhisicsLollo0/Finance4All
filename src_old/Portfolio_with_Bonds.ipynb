{
 "cells": [
  {
   "cell_type": "code",
   "execution_count": 1,
   "metadata": {},
   "outputs": [],
   "source": [
    "import numpy as np\n",
    "import pandas as pd\n",
    "import yfinance as yf\n",
    "import matplotlib.pyplot as plt\n",
    "\n",
    "from get_data import *"
   ]
  },
  {
   "cell_type": "code",
   "execution_count": 2,
   "metadata": {},
   "outputs": [
    {
     "name": "stdout",
     "output_type": "stream",
     "text": [
      "3\n",
      "Data already present\n"
     ]
    }
   ],
   "source": [
    "\n",
    "\n",
    "generate_csv()\n",
    "prune_csv()"
   ]
  },
  {
   "cell_type": "code",
   "execution_count": 6,
   "metadata": {},
   "outputs": [
    {
     "data": {
      "text/plain": [
       "['Date',\n",
       " 'S&P 500',\n",
       " 'S&P 500 Minimum Volatility',\n",
       " 'MSCI ACWI',\n",
       " 'MSCI WORLD',\n",
       " 'MSCI World',\n",
       " 'MSCI Europe',\n",
       " 'MSCI Emerging Markets',\n",
       " 'MSCI USA Small Cap Value Weighted',\n",
       " 'MSCI Europe Small Cap Value Weighted',\n",
       " 'FTSE World Government Bond Developed Markets',\n",
       " 'FTSE World Government Bond G7',\n",
       " 'Gold spot']"
      ]
     },
     "execution_count": 6,
     "metadata": {},
     "output_type": "execute_result"
    }
   ],
   "source": [
    "data = pd.read_csv('Historical_data.csv')\n",
    "data_pruned = pd.read_csv('Historical_data_pruned.csv', index_col=0)\n",
    "list(data_pruned.columns)"
   ]
  },
  {
   "cell_type": "code",
   "execution_count": 4,
   "metadata": {},
   "outputs": [],
   "source": [
    "ETFs = ['Date', 'S%26P 500', 'MSCI Europe', 'MSCI Japan', 'MSCI Emerging Markets']\n",
    "\n",
    "data_pruned = data[ETFs].dropna(how=\"all\",axis=0).copy()\n",
    "data_pruned.dropna(inplace=True)"
   ]
  },
  {
   "cell_type": "code",
   "execution_count": null,
   "metadata": {},
   "outputs": [],
   "source": [
    "etf=[\"MSCI ACWI\",\"FTSE World Government Bond G7\"]\n",
    "percentage=[[100,0],[90,10],[80,20],[70,30],[60,40],[50,50],[40,60],[30,70],[20,80],[10,90],[0,100]]\n",
    "for x in percentage:\n",
    "    print(len(x) == len(etf) and len(etf) == len(data[etf].iloc[0])) "
   ]
  },
  {
   "cell_type": "code",
   "execution_count": null,
   "metadata": {},
   "outputs": [],
   "source": [
    "etf=[\"MSCI ACWI\", 'MSCI USA Small Cap Value Weighted', 'MSCI Europe Small Cap Value Weighted', \"FTSE World Government Bond G7\", \"Gold spot\"]\n",
    "etf=[\"FTSE World Government Bond G7\", \"Gold spot\"]\n",
    "\n",
    "\n",
    "percentage = [[100,0,0,0], [70,7.5,7.5,15], [70,5,5,20]]\n",
    "percentage = [[70,30]]\n",
    "\n",
    "for x in percentage:\n",
    "    print(len(x) == len(etf) and len(etf) == len(data[etf].iloc[0])) # Controllo che gli ETF e le percentuali coincidano in lunghezza, e che tutti gli etf siano contenuti nei data"
   ]
  },
  {
   "cell_type": "code",
   "execution_count": null,
   "metadata": {},
   "outputs": [],
   "source": [
    "data2=data[etf].dropna(how=\"all\",axis=0).copy()\n",
    "data2.dropna(inplace=True)\n",
    "data2\n"
   ]
  },
  {
   "cell_type": "code",
   "execution_count": null,
   "metadata": {},
   "outputs": [],
   "source": []
  },
  {
   "cell_type": "code",
   "execution_count": null,
   "metadata": {},
   "outputs": [],
   "source": [
    "(data2/data2.iloc[0]).plot(logy=False, figsize=(10,6))"
   ]
  },
  {
   "cell_type": "code",
   "execution_count": 54,
   "metadata": {},
   "outputs": [],
   "source": [
    "import numpy as np\n",
    "import pandas as pd\n",
    "\n",
    "def compute_annualized_return(start_prices, end_prices, weights, years):\n",
    "    \"\"\"\n",
    "    Computes the weighted annualized return over a given number of years.\n",
    "\n",
    "    Parameters:\n",
    "    - start_prices (pd.Series): Asset prices at the start of the period.\n",
    "    - end_prices (pd.Series): Asset prices at the end of the period.\n",
    "    - weights (np.array): Portfolio weights for the assets.\n",
    "    - years (int): Number of years in the period.\n",
    "\n",
    "    Returns:\n",
    "    - float: Annualized return of the portfolio.\n",
    "    \"\"\"\n",
    "    if len(weights) == 1:  # Handling 100% allocation portfolios\n",
    "        return (end_prices.iloc[0] / start_prices.iloc[0]) ** (1 / years) - 1\n",
    "    \n",
    "    total_return = np.dot(end_prices / start_prices, weights)\n",
    "    return total_return ** (1 / years) - 1\n",
    "\n",
    "def get_valid_weights(weight_distribution, asset_list, common_assets):\n",
    "    \"\"\"\n",
    "    Extracts and normalizes the weights of assets present in both time points.\n",
    "\n",
    "    Parameters:\n",
    "    - weight_distribution (list): Weights assigned to each asset.\n",
    "    - asset_list (list): List of all assets.\n",
    "    - common_assets (list): Assets available in both start and end prices.\n",
    "\n",
    "    Returns:\n",
    "    - np.array: Normalized weights.\n",
    "    \"\"\"\n",
    "    selected_weights = [weight_distribution[idx] for idx, asset in enumerate(asset_list) if asset in common_assets]\n",
    "\n",
    "    if len(selected_weights) == 1:  # If it's a 100% allocation portfolio, no need to normalize\n",
    "        return np.array(selected_weights)\n",
    "\n",
    "    return np.array(selected_weights) / sum(selected_weights)\n",
    "\n",
    "def compute_portfolio_returns(data, asset_list, weight_scenarios, years=20):\n",
    "    \"\"\"\n",
    "    Computes the weighted annualized return of a portfolio over rolling windows.\n",
    "\n",
    "    Parameters:\n",
    "    - data (pd.DataFrame): Asset price data with time indices as rows.\n",
    "    - asset_list (list): List of all available assets.\n",
    "    - weight_scenarios (list of lists): Different sets of asset weights to evaluate.\n",
    "    - years (int, optional): Number of years in each rolling window (default: 20).\n",
    "\n",
    "    Returns:\n",
    "    - pd.DataFrame: Annualized returns for different weight distributions.\n",
    "    \"\"\"\n",
    "    results = pd.DataFrame()\n",
    "    num_months = 12 * years\n",
    "    \n",
    "    for start_idx in range(len(data.index) - num_months):\n",
    "\n",
    "\n",
    "        end_idx = start_idx + num_months\n",
    "\n",
    "        # Extract start and end prices\n",
    "        start_prices = data.iloc[start_idx]\n",
    "        end_prices = data.iloc[end_idx]\n",
    "\n",
    "        # Identify common assets present in both snapshots\n",
    "        common_assets = start_prices.index.intersection(end_prices.index)\n",
    "\n",
    "        for weights in weight_scenarios:\n",
    "            normalized_weights = get_valid_weights(weights, asset_list, common_assets)\n",
    "            \n",
    "            if len(normalized_weights) == 0:  # Skip if no valid assets are present\n",
    "                continue\n",
    "\n",
    "            annualized_return = compute_annualized_return(start_prices[common_assets], end_prices[common_assets], normalized_weights, years)\n",
    "\n",
    "            # Store the result\n",
    "            column_name = ' '.join(map(str, weights))\n",
    "            results.loc[data.index[start_idx], column_name] = annualized_return\n",
    "\n",
    "    return results"
   ]
  },
  {
   "cell_type": "code",
   "execution_count": 55,
   "metadata": {},
   "outputs": [],
   "source": [
    "etf=[\"FTSE World Government Bond G7\", \"Gold spot\"]\n",
    "\n",
    "percentage = [[70,30]]"
   ]
  },
  {
   "cell_type": "code",
   "execution_count": null,
   "metadata": {},
   "outputs": [],
   "source": [
    "results = compute_portfolio_returns(data = data2, asset_list=etf, weight_scenarios=percentage, years=5)\n",
    "dates   = data['Date'][results.index]\n",
    "results"
   ]
  },
  {
   "cell_type": "code",
   "execution_count": null,
   "metadata": {},
   "outputs": [],
   "source": []
  },
  {
   "cell_type": "code",
   "execution_count": null,
   "metadata": {},
   "outputs": [],
   "source": [
    "data2_gain = data2.div(data2.iloc[0])\n",
    "\n",
    "df = pd.DataFrame(pd.concat([dates, data2_gain], axis=1))\n",
    "\n",
    "# Set Date as index\n",
    "df[\"Date\"] = pd.to_datetime(df[\"Date\"])\n",
    "df.set_index(\"Date\", inplace=True)\n",
    "\n",
    "# Plot\n",
    "plt.figure(figsize=(15, 7))\n",
    "for col in df.columns[[0,-1]]:\n",
    "    plt.plot(df.index, df[col], label=col)\n",
    "\n",
    "plt.xlabel(\"Date\")\n",
    "plt.ylabel(\"Annualized Return (%)\")\n",
    "plt.title(\"Annualized Returns of Indices Over Time\")\n",
    "plt.legend()\n",
    "plt.grid(True)\n",
    "plt.xticks(rotation=45)\n",
    "plt.show()"
   ]
  },
  {
   "cell_type": "code",
   "execution_count": null,
   "metadata": {},
   "outputs": [],
   "source": [
    "results.describe()"
   ]
  },
  {
   "cell_type": "code",
   "execution_count": null,
   "metadata": {},
   "outputs": [],
   "source": [
    "results_to_plot = pd.concat([dates, results], axis=1)\n",
    "df = pd.DataFrame(results_to_plot)\n",
    "\n",
    "# Set Date as index\n",
    "df[\"Date\"] = pd.to_datetime(df[\"Date\"])\n",
    "df.set_index(\"Date\", inplace=True)\n",
    "\n",
    "# Plot\n",
    "plt.figure(figsize=(15, 7))\n",
    "for col in df.columns:\n",
    "    plt.plot(df.index, df[col], label=col)\n",
    "\n",
    "plt.xlabel(\"Date\")\n",
    "plt.ylabel(\"Annualized Return (%)\")\n",
    "plt.title(\"Annualized Returns of Indices Over Time\")\n",
    "plt.legend()\n",
    "plt.grid(True)\n",
    "plt.xticks(rotation=45)\n",
    "plt.show()"
   ]
  },
  {
   "cell_type": "code",
   "execution_count": null,
   "metadata": {},
   "outputs": [],
   "source": [
    "_ = plt.hist(results, bins=21, histtype='step', lw=2)"
   ]
  },
  {
   "cell_type": "code",
   "execution_count": null,
   "metadata": {},
   "outputs": [],
   "source": [
    "results.plot(kind=\"hist\",bins=21,alpha=0.7,figsize=(12,6)) "
   ]
  }
 ],
 "metadata": {
  "kernelspec": {
   "display_name": "finance",
   "language": "python",
   "name": "python3"
  },
  "language_info": {
   "codemirror_mode": {
    "name": "ipython",
    "version": 3
   },
   "file_extension": ".py",
   "mimetype": "text/x-python",
   "name": "python",
   "nbconvert_exporter": "python",
   "pygments_lexer": "ipython3",
   "version": "3.13.0"
  }
 },
 "nbformat": 4,
 "nbformat_minor": 2
}
